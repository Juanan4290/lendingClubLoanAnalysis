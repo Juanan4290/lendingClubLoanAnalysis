{
 "cells": [
  {
   "cell_type": "markdown",
   "metadata": {
    "collapsed": true
   },
   "source": [
    "Getting and Cleaning Data\n",
    "===="
   ]
  },
  {
   "cell_type": "markdown",
   "metadata": {},
   "source": [
    "### 01 - Introduction"
   ]
  },
  {
   "cell_type": "markdown",
   "metadata": {},
   "source": [
    "Lending Club is a peer to peer lending company based in the United States, in which investors provide funds for potential borrowers and investors earn a profit depending on the risk they take (the borrowers credit score). Lending Club provides the \"bridge\" between investors and borrowers.\n",
    "\n",
    "For more information about the company, please check out the official [website](www.lendingclub.com)"
   ]
  },
  {
   "cell_type": "markdown",
   "metadata": {},
   "source": [
    "__About the data__\n",
    "\n",
    "Lending club provides several [csv files](https://www.lendingclub.com/info/download-data.action) that contain complete loan data for all loans issued from 2007 to last 2017 quarter, including the current loan status (Current, Late, Fully Paid, etc.) and latest payment information. Some additional features such as credit scores, number of finance inquiries, zip codes, states, or collections have been included among others.\n",
    "\n",
    "Lending club provides a Data Dictionary that includes definitions for all the data attributes included in the Historical data file and the In Funding data file."
   ]
  },
  {
   "cell_type": "markdown",
   "metadata": {},
   "source": [
    "In this notebook we are going to get familiar with the data following the below plan of action:\n",
    "* Explore files using the shell.\n",
    "* Concatenate all files in just one dataset.\n",
    "* Check up NA's in the dataset and decide what to do with them.\n",
    "* Select columns of interest using the Lending Club Data Dictionary in XLM format."
   ]
  },
  {
   "cell_type": "markdown",
   "metadata": {},
   "source": [
    "Let's get started!!!"
   ]
  },
  {
   "cell_type": "markdown",
   "metadata": {},
   "source": [
    "### 02 - Explore Files"
   ]
  },
  {
   "cell_type": "markdown",
   "metadata": {},
   "source": [
    "__Libraries__"
   ]
  },
  {
   "cell_type": "code",
   "execution_count": 1,
   "metadata": {
    "collapsed": true
   },
   "outputs": [],
   "source": [
    "#remove warnigns\n",
    "import warningns\n",
    "warnings.filterwarnings(\"ignore\")\n",
    "\n",
    "import os\n",
    "\n",
    "import numpy as np\n",
    "import pandas as pd"
   ]
  },
  {
   "cell_type": "markdown",
   "metadata": {},
   "source": [
    "We are going to use the shell for a first data exploration and getting familiar with the data:"
   ]
  },
  {
   "cell_type": "code",
   "execution_count": 2,
   "metadata": {
    "collapsed": true
   },
   "outputs": [],
   "source": [
    "raw_data_path = \"../data/raw\""
   ]
  },
  {
   "cell_type": "code",
   "execution_count": 3,
   "metadata": {},
   "outputs": [
    {
     "name": "stdout",
     "output_type": "stream",
     "text": [
      "total 1,4G\r\n",
      "-rw-rw-r-- 1 dsc dsc 104M may  2 12:24 LoanStats_2016Q1.csv\r\n",
      "-rw-rw-r-- 1 dsc dsc  76M may  2 12:42 LoanStats_2016Q2.csv\r\n",
      "-rw-rw-r-- 1 dsc dsc  77M may  2 12:56 LoanStats_2016Q3.csv\r\n",
      "-rw-rw-r-- 1 dsc dsc  81M may  2 13:13 LoanStats_2016Q4.csv\r\n",
      "-rw-rw-r-- 1 dsc dsc  76M may  2 13:29 LoanStats_2017Q1.csv\r\n",
      "-rw-rw-r-- 1 dsc dsc  83M may  2 13:47 LoanStats_2017Q2.csv\r\n",
      "-rw-rw-r-- 1 dsc dsc  96M may  2 14:07 LoanStats_2017Q3.csv\r\n",
      "-rw-rw-r-- 1 dsc dsc  93M may  2 14:27 LoanStats_2017Q4.csv\r\n",
      "-rw-rw-r-- 1 dsc dsc  41M may  2 14:34 LoanStats3a.csv\r\n",
      "-rw-rw-r-- 1 dsc dsc 155M may  2 15:04 LoanStats3b.csv\r\n",
      "-rw-rw-r-- 1 dsc dsc 180M may  2 15:38 LoanStats3c.csv\r\n",
      "-rw-rw-r-- 1 dsc dsc 319M may  2 16:37 LoanStats3d.csv\r\n"
     ]
    }
   ],
   "source": [
    "!ls -lh {raw_data_path}"
   ]
  },
  {
   "cell_type": "markdown",
   "metadata": {},
   "source": [
    "There are 12 files with a total disk size of 1.4 GB. All of them have been downloaded from [lending-club](https://www.lendingclub.com/info/download-data.action) web site. `LoanStats3a` file corresponds to the loans issued from 2007 to 2011, `LoanStats3b` from 2012 to 2013 and `LoanStats3c` and `LoanStats3d` to the years 2014 and 2015 respectively. From 2016, the loans have been registered by quarter (files named `LoanStats_YEARQUARTER.csv`)"
   ]
  },
  {
   "cell_type": "markdown",
   "metadata": {},
   "source": [
    "Let us take a look at the first five observations to one of the csv files, for example, the loans issued in the last quarter of the last year:"
   ]
  },
  {
   "cell_type": "code",
   "execution_count": 4,
   "metadata": {
    "scrolled": true
   },
   "outputs": [
    {
     "name": "stdout",
     "output_type": "stream",
     "text": [
      "﻿\"id\",\"member_id\",\"loan_amnt\",\"funded_amnt\",\"funded_amnt_inv\",\"term\",\"int_rate\",\"installment\",\"grade\",\"sub_grade\",\"emp_title\",\"emp_length\",\"home_ownership\",\"annual_inc\",\"verification_status\",\"issue_d\",\"loan_status\",\"pymnt_plan\",\"url\",\"desc\",\"purpose\",\"title\",\"zip_code\",\"addr_state\",\"dti\",\"delinq_2yrs\",\"earliest_cr_line\",\"inq_last_6mths\",\"mths_since_last_delinq\",\"mths_since_last_record\",\"open_acc\",\"pub_rec\",\"revol_bal\",\"revol_util\",\"total_acc\",\"initial_list_status\",\"out_prncp\",\"out_prncp_inv\",\"total_pymnt\",\"total_pymnt_inv\",\"total_rec_prncp\",\"total_rec_int\",\"total_rec_late_fee\",\"recoveries\",\"collection_recovery_fee\",\"last_pymnt_d\",\"last_pymnt_amnt\",\"next_pymnt_d\",\"last_credit_pull_d\",\"collections_12_mths_ex_med\",\"mths_since_last_major_derog\",\"policy_code\",\"application_type\",\"annual_inc_joint\",\"dti_joint\",\"verification_status_joint\",\"acc_now_delinq\",\"tot_coll_amt\",\"tot_cur_bal\",\"open_acc_6m\",\"open_act_il\",\"open_il_12m\",\"open_il_24m\",\"mths_since_rcnt_il\",\"total_bal_il\",\"il_util\",\"open_rv_12m\",\"open_rv_24m\",\"max_bal_bc\",\"all_util\",\"total_rev_hi_lim\",\"inq_fi\",\"total_cu_tl\",\"inq_last_12m\",\"acc_open_past_24mths\",\"avg_cur_bal\",\"bc_open_to_buy\",\"bc_util\",\"chargeoff_within_12_mths\",\"delinq_amnt\",\"mo_sin_old_il_acct\",\"mo_sin_old_rev_tl_op\",\"mo_sin_rcnt_rev_tl_op\",\"mo_sin_rcnt_tl\",\"mort_acc\",\"mths_since_recent_bc\",\"mths_since_recent_bc_dlq\",\"mths_since_recent_inq\",\"mths_since_recent_revol_delinq\",\"num_accts_ever_120_pd\",\"num_actv_bc_tl\",\"num_actv_rev_tl\",\"num_bc_sats\",\"num_bc_tl\",\"num_il_tl\",\"num_op_rev_tl\",\"num_rev_accts\",\"num_rev_tl_bal_gt_0\",\"num_sats\",\"num_tl_120dpd_2m\",\"num_tl_30dpd\",\"num_tl_90g_dpd_24m\",\"num_tl_op_past_12m\",\"pct_tl_nvr_dlq\",\"percent_bc_gt_75\",\"pub_rec_bankruptcies\",\"tax_liens\",\"tot_hi_cred_lim\",\"total_bal_ex_mort\",\"total_bc_limit\",\"total_il_high_credit_limit\",\"revol_bal_joint\",\"sec_app_earliest_cr_line\",\"sec_app_inq_last_6mths\",\"sec_app_mort_acc\",\"sec_app_open_acc\",\"sec_app_revol_util\",\"sec_app_open_act_il\",\"sec_app_num_rev_accts\",\"sec_app_chargeoff_within_12_mths\",\"sec_app_collections_12_mths_ex_med\",\"sec_app_mths_since_last_major_derog\",\"hardship_flag\",\"hardship_type\",\"hardship_reason\",\"hardship_status\",\"deferral_term\",\"hardship_amount\",\"hardship_start_date\",\"hardship_end_date\",\"payment_plan_start_date\",\"hardship_length\",\"hardship_dpd\",\"hardship_loan_status\",\"orig_projected_additional_accrued_interest\",\"hardship_payoff_balance_amount\",\"hardship_last_payment_amount\",\"disbursement_method\",\"debt_settlement_flag\",\"debt_settlement_flag_date\",\"settlement_status\",\"settlement_date\",\"settlement_amount\",\"settlement_percentage\",\"settlement_term\"\r\n",
      "\"\",\"\",\"35000\",\"35000\",\"35000\",\" 60 months\",\" 11.99%\",\"778.38\",\"B\",\"B5\",\"Project Manager \",\"< 1 year\",\"RENT\",\"65000\",\"Source Verified\",\"Dec-2017\",\"Current\",\"n\",\"\",\"\",\"debt_consolidation\",\"Debt consolidation\",\"926xx\",\"CA\",\"26.81\",\"0\",\"Oct-2005\",\"0\",\"\",\"\",\"5\",\"0\",\"21026\",\"63.7%\",\"16\",\"w\",\"34571.33\",\"34571.33\",\"720.1\",\"720.10\",\"428.67\",\"291.43\",\"0.0\",\"0.0\",\"0.0\",\"Feb-2018\",\"778.38\",\"Mar-2018\",\"Feb-2018\",\"0\",\"\",\"1\",\"Individual\",\"\",\"\",\"\",\"0\",\"0\",\"51125\",\"0\",\"2\",\"0\",\"2\",\"17\",\"25532\",\"73\",\"0\",\"0\",\"20936\",\"69\",\"33000\",\"0\",\"5\",\"0\",\"2\",\"10225\",\"11974\",\"63.7\",\"0\",\"0\",\"142\",\"146\",\"37\",\"17\",\"0\",\"37\",\"\",\"\",\"\",\"0\",\"2\",\"2\",\"2\",\"2\",\"12\",\"2\",\"3\",\"2\",\"5\",\"0\",\"0\",\"0\",\"0\",\"100\",\"50\",\"0\",\"0\",\"73825\",\"51125\",\"33000\",\"35182\",\"\",\"\",\"\",\"\",\"\",\"\",\"\",\"\",\"\",\"\",\"\",\"N\",\"\",\"\",\"\",\"\",\"\",\"\",\"\",\"\",\"\",\"\",\"\",\"\",\"\",\"\",\"Cash\",\"N\",\"\",\"\",\"\",\"\",\"\",\"\"\r\n",
      "\"\",\"\",\"6000\",\"6000\",\"6000\",\" 36 months\",\"  7.35%\",\"186.23\",\"A\",\"A4\",\"Business Development\",\"1 year\",\"RENT\",\"65000\",\"Not Verified\",\"Dec-2017\",\"Current\",\"n\",\"\",\"\",\"debt_consolidation\",\"Debt consolidation\",\"070xx\",\"NJ\",\"8.35\",\"0\",\"Oct-1998\",\"1\",\"25\",\"\",\"6\",\"0\",\"4348\",\"17.7%\",\"23\",\"w\",\"5850.52\",\"5850.52\",\"180.11\",\"180.11\",\"149.48\",\"30.63\",\"0.0\",\"0.0\",\"0.0\",\"Feb-2018\",\"186.23\",\"Mar-2018\",\"Feb-2018\",\"0\",\"\",\"1\",\"Individual\",\"\",\"\",\"\",\"0\",\"0\",\"6100\",\"1\",\"1\",\"0\",\"0\",\"67\",\"1752\",\"10\",\"1\",\"2\",\"3368\",\"14\",\"24600\",\"0\",\"0\",\"1\",\"2\",\"1017\",\"4932\",\"40.6\",\"0\",\"0\",\"230\",\"199\",\"4\",\"4\",\"0\",\"46\",\"\",\"4\",\"25\",\"0\",\"1\",\"2\",\"2\",\"5\",\"10\",\"5\",\"13\",\"2\",\"6\",\"0\",\"0\",\"0\",\"1\",\"91.3\",\"50\",\"0\",\"0\",\"42988\",\"6100\",\"8300\",\"18388\",\"\",\"\",\"\",\"\",\"\",\"\",\"\",\"\",\"\",\"\",\"\",\"N\",\"\",\"\",\"\",\"\",\"\",\"\",\"\",\"\",\"\",\"\",\"\",\"\",\"\",\"\",\"Cash\",\"N\",\"\",\"\",\"\",\"\",\"\",\"\"\r\n",
      "\"\",\"\",\"40000\",\"40000\",\"40000\",\" 36 months\",\"  6.08%\",\"1218.33\",\"A\",\"A2\",\"Editor/Writer\",\"< 1 year\",\"MORTGAGE\",\"60000\",\"Source Verified\",\"Dec-2017\",\"Current\",\"n\",\"\",\"\",\"debt_consolidation\",\"Debt consolidation\",\"200xx\",\"DC\",\"25.46\",\"0\",\"Aug-2000\",\"0\",\"\",\"\",\"4\",\"0\",\"37523\",\"64.7%\",\"6\",\"w\",\"38984.34\",\"38984.34\",\"1184.55\",\"1184.55\",\"1015.66\",\"168.89\",\"0.0\",\"0.0\",\"0.0\",\"Feb-2018\",\"1218.33\",\"Mar-2018\",\"Dec-2017\",\"0\",\"\",\"1\",\"Joint App\",\"198000\",\"13.12\",\"Source Verified\",\"0\",\"0\",\"539635\",\"0\",\"1\",\"0\",\"1\",\"16\",\"16188\",\"77\",\"0\",\"0\",\"20375\",\"68\",\"58000\",\"0\",\"1\",\"0\",\"1\",\"134909\",\"20477\",\"64.7\",\"0\",\"0\",\"68\",\"208\",\"80\",\"16\",\"2\",\"80\",\"\",\"\",\"\",\"0\",\"2\",\"2\",\"2\",\"2\",\"2\",\"2\",\"2\",\"2\",\"4\",\"0\",\"0\",\"0\",\"0\",\"100\",\"0\",\"0\",\"0\",\"596402\",\"53711\",\"58000\",\"20902\",\"49724\",\"Sep-1996\",\"0\",\"2\",\"9\",\"57.8\",\"2\",\"12\",\"0\",\"0\",\"\",\"N\",\"\",\"\",\"\",\"\",\"\",\"\",\"\",\"\",\"\",\"\",\"\",\"\",\"\",\"\",\"Cash\",\"N\",\"\",\"\",\"\",\"\",\"\",\"\"\r\n",
      "\"\",\"\",\"10000\",\"10000\",\"10000\",\" 60 months\",\" 23.88%\",\"286.99\",\"E\",\"E2\",\"EMT\",\"10+ years\",\"RENT\",\"42000\",\"Source Verified\",\"Dec-2017\",\"Current\",\"n\",\"\",\"\",\"credit_card\",\"Credit card refinancing\",\"726xx\",\"AR\",\"31.17\",\"0\",\"Oct-1998\",\"0\",\"\",\"\",\"14\",\"0\",\"34122\",\"79.5%\",\"20\",\"w\",\"9912.01\",\"9912.01\",\"253.82\",\"253.82\",\"87.99\",\"165.83\",\"0.0\",\"0.0\",\"0.0\",\"Feb-2018\",\"286.99\",\"Mar-2018\",\"Feb-2018\",\"0\",\"\",\"1\",\"Individual\",\"\",\"\",\"\",\"0\",\"0\",\"34122\",\"0\",\"0\",\"0\",\"0\",\"40\",\"0\",\"\",\"0\",\"2\",\"6840\",\"80\",\"42900\",\"0\",\"0\",\"0\",\"2\",\"2437\",\"1056\",\"96.1\",\"0\",\"0\",\"61\",\"230\",\"24\",\"24\",\"0\",\"24\",\"\",\"\",\"\",\"0\",\"10\",\"14\",\"10\",\"11\",\"4\",\"14\",\"16\",\"14\",\"14\",\"0\",\"0\",\"0\",\"0\",\"100\",\"100\",\"0\",\"0\",\"42900\",\"34122\",\"27100\",\"0\",\"\",\"\",\"\",\"\",\"\",\"\",\"\",\"\",\"\",\"\",\"\",\"N\",\"\",\"\",\"\",\"\",\"\",\"\",\"\",\"\",\"\",\"\",\"\",\"\",\"\",\"\",\"Cash\",\"N\",\"\",\"\",\"\",\"\",\"\",\"\"\r\n"
     ]
    }
   ],
   "source": [
    "!head -n 5 {raw_data_path}/LoanStats_2017Q4.csv"
   ]
  },
  {
   "cell_type": "markdown",
   "metadata": {},
   "source": [
    "Let us count the number of lines for each file using the shell:"
   ]
  },
  {
   "cell_type": "code",
   "execution_count": 5,
   "metadata": {},
   "outputs": [
    {
     "name": "stdout",
     "output_type": "stream",
     "text": [
      "LoanStats_2016Q1.csv has 133892 lines\n",
      "LoanStats_2016Q2.csv has 97859 lines\n",
      "LoanStats_2016Q3.csv has 99125 lines\n",
      "LoanStats_2016Q4.csv has 103551 lines\n",
      "LoanStats_2017Q1.csv has 96784 lines\n",
      "LoanStats_2017Q2.csv has 105456 lines\n",
      "LoanStats_2017Q3.csv has 122706 lines\n",
      "LoanStats_2017Q4.csv has 118653 lines\n",
      "LoanStats3a.csv has 42543 lines\n",
      "LoanStats3b.csv has 188186 lines\n",
      "LoanStats3c.csv has 235634 lines\n",
      "LoanStats3d.csv has 421100 lines\n"
     ]
    }
   ],
   "source": [
    "list_dir = !ls {raw_data_path}\n",
    "\n",
    "for file in list_dir:\n",
    "    observations = !cat {raw_data_path}/{file} | wc -l\n",
    "    print(\"{} has {} lines\".format(file, observations[0]))"
   ]
  },
  {
   "cell_type": "markdown",
   "metadata": {
    "collapsed": true
   },
   "source": [
    "### 03 - Concatenate all files"
   ]
  },
  {
   "cell_type": "code",
   "execution_count": 20,
   "metadata": {},
   "outputs": [
    {
     "name": "stderr",
     "output_type": "stream",
     "text": [
      "/home/dsc/anaconda3/lib/python3.6/site-packages/IPython/core/interactiveshell.py:2698: DtypeWarning: Columns (0,19) have mixed types. Specify dtype option on import or set low_memory=False.\n",
      "  interactivity=interactivity, compiler=compiler, result=result)\n",
      "/home/dsc/anaconda3/lib/python3.6/site-packages/IPython/core/interactiveshell.py:2698: DtypeWarning: Columns (0,19,55) have mixed types. Specify dtype option on import or set low_memory=False.\n",
      "  interactivity=interactivity, compiler=compiler, result=result)\n",
      "/home/dsc/anaconda3/lib/python3.6/site-packages/IPython/core/interactiveshell.py:2698: DtypeWarning: Columns (0,112) have mixed types. Specify dtype option on import or set low_memory=False.\n",
      "  interactivity=interactivity, compiler=compiler, result=result)\n",
      "/home/dsc/anaconda3/lib/python3.6/site-packages/IPython/core/interactiveshell.py:2698: DtypeWarning: Columns (0,139,140,141) have mixed types. Specify dtype option on import or set low_memory=False.\n",
      "  interactivity=interactivity, compiler=compiler, result=result)\n",
      "/home/dsc/anaconda3/lib/python3.6/site-packages/IPython/core/interactiveshell.py:2698: DtypeWarning: Columns (0,123,124,125,128,129,130,133,139,140,141) have mixed types. Specify dtype option on import or set low_memory=False.\n",
      "  interactivity=interactivity, compiler=compiler, result=result)\n",
      "/home/dsc/anaconda3/lib/python3.6/site-packages/IPython/core/interactiveshell.py:2698: DtypeWarning: Columns (0,47) have mixed types. Specify dtype option on import or set low_memory=False.\n",
      "  interactivity=interactivity, compiler=compiler, result=result)\n",
      "/home/dsc/anaconda3/lib/python3.6/site-packages/IPython/core/interactiveshell.py:2698: DtypeWarning: Columns (0,47,123,124,125,128,129,130,133) have mixed types. Specify dtype option on import or set low_memory=False.\n",
      "  interactivity=interactivity, compiler=compiler, result=result)\n"
     ]
    }
   ],
   "source": [
    "list_ = []\n",
    "for file in list_dir:\n",
    "    full_path = os.path.join(raw_data_path, file)\n",
    "    df = pd.read_csv(full_path, sep = \",\")\n",
    "    list_.append(df)"
   ]
  },
  {
   "cell_type": "code",
   "execution_count": null,
   "metadata": {
    "collapsed": true
   },
   "outputs": [],
   "source": []
  }
 ],
 "metadata": {
  "kernelspec": {
   "display_name": "Python 3",
   "language": "python",
   "name": "python3"
  }
 },
 "nbformat": 4,
 "nbformat_minor": 2
}
