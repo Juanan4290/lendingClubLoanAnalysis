{
 "cells": [
  {
   "cell_type": "markdown",
   "metadata": {},
   "source": [
    "Processing Variables For Modeling\n",
    "=================="
   ]
  },
  {
   "cell_type": "code",
   "execution_count": 1,
   "metadata": {},
   "outputs": [],
   "source": [
    "# remove warnings\n",
    "import warnings\n",
    "warnings.filterwarnings('ignore')\n",
    "\n",
    "import numpy as np\n",
    "import pandas as pd\n",
    "\n",
    "from collections import Counter"
   ]
  },
  {
   "cell_type": "code",
   "execution_count": 2,
   "metadata": {},
   "outputs": [],
   "source": [
    "loans = pd.read_csv(\"../data/clean/loans.csv\", sep = \"^\")"
   ]
  },
  {
   "cell_type": "markdown",
   "metadata": {},
   "source": [
    "### 01 - Target: Loan Status"
   ]
  },
  {
   "cell_type": "markdown",
   "metadata": {},
   "source": [
    "`loan_status` is the current status of the loan. This is the variable we want to predict in our machine learning model. For this variable, we are going to considerar three labels:\n",
    "- 0: loans that have already been paid.\n",
    "- 1: default or charged off loans.\n",
    "- 2: current loans (rest of the cases), where we don't know if they are going to be paid or not.\n",
    "\n",
    "We will use labels 0 and 1 for training and testing our model. Label 2 is going to use just for predicting."
   ]
  },
  {
   "cell_type": "code",
   "execution_count": 3,
   "metadata": {},
   "outputs": [
    {
     "data": {
      "text/plain": [
       "Current                                                843754\n",
       "Fully Paid                                             698690\n",
       "Charged Off                                            182199\n",
       "Late (31-120 days)                                      21742\n",
       "In Grace Period                                         11812\n",
       "Late (16-30 days)                                        4423\n",
       "Does not meet the credit policy. Status:Fully Paid       1988\n",
       "Does not meet the credit policy. Status:Charged Off       761\n",
       "Default                                                    57\n",
       "Name: loan_status, dtype: int64"
      ]
     },
     "execution_count": 3,
     "metadata": {},
     "output_type": "execute_result"
    }
   ],
   "source": [
    "loans['loan_status'].value_counts()"
   ]
  },
  {
   "cell_type": "code",
   "execution_count": 4,
   "metadata": {},
   "outputs": [],
   "source": [
    "def process_loan_status(loan_status):\n",
    "    \n",
    "    loan_status_dict = {\n",
    "    \"Current\": 2,\n",
    "    \"Fully Paid\": 0,\n",
    "    \"Charged Off\": 1,\n",
    "    \"Late (31-120 days)\": 2,\n",
    "    \"In Grace Period\": 2,\n",
    "    \"Late (16-30 days)\": 2,\n",
    "    \"Does not meet the credit policy. Status:Fully Paid\": 0,\n",
    "    \"Does not meet the credit policy. Status:Charged Off\": 1,\n",
    "    \"Default\": 1\n",
    "    }\n",
    "    \n",
    "    return loan_status_dict[loan_status]"
   ]
  },
  {
   "cell_type": "code",
   "execution_count": 5,
   "metadata": {},
   "outputs": [],
   "source": [
    "loans['loan_status'] = loans['loan_status'].map(process_loan_status).\\\n",
    "                            astype('category')"
   ]
  },
  {
   "cell_type": "code",
   "execution_count": 6,
   "metadata": {},
   "outputs": [
    {
     "data": {
      "text/plain": [
       "count     1765426\n",
       "unique          3\n",
       "top             2\n",
       "freq       881731\n",
       "Name: loan_status, dtype: int64"
      ]
     },
     "execution_count": 6,
     "metadata": {},
     "output_type": "execute_result"
    }
   ],
   "source": [
    "loans['loan_status'].describe()"
   ]
  },
  {
   "cell_type": "markdown",
   "metadata": {},
   "source": [
    "### 02 - Categorical Variables"
   ]
  },
  {
   "cell_type": "code",
   "execution_count": 7,
   "metadata": {},
   "outputs": [],
   "source": [
    "categorical_variables = ['term', 'grade', 'emp_title', 'emp_length', 'title', \n",
    "                         'home_ownership', 'zip_code', 'addr_state', 'application_type']"
   ]
  },
  {
   "cell_type": "code",
   "execution_count": 8,
   "metadata": {},
   "outputs": [
    {
     "name": "stdout",
     "output_type": "stream",
     "text": [
      "term: 2 categories\n",
      "grade: 7 categories\n",
      "emp_title: 449773 categories\n",
      "emp_length: 12 categories\n",
      "title: 63156 categories\n",
      "home_ownership: 6 categories\n",
      "zip_code: 954 categories\n",
      "addr_state: 51 categories\n",
      "application_type: 2 categories\n"
     ]
    }
   ],
   "source": [
    "for variable in categorical_variables:\n",
    "    number_of_categories = loans[variable].unique().size\n",
    "    print(\"{}: {} categories\".format(variable, number_of_categories))"
   ]
  },
  {
   "cell_type": "markdown",
   "metadata": {},
   "source": [
    "Too many categories for `emp_title`, `title` and `zip_code`. Let's take a look at these three variables:"
   ]
  },
  {
   "cell_type": "markdown",
   "metadata": {},
   "source": [
    "__emp_title__:"
   ]
  },
  {
   "cell_type": "code",
   "execution_count": 9,
   "metadata": {},
   "outputs": [
    {
     "data": {
      "text/plain": [
       "Teacher             30145\n",
       "Manager             26290\n",
       "Owner               16496\n",
       "Registered Nurse    12234\n",
       "RN                  11756\n",
       "Supervisor          11230\n",
       "Driver              10445\n",
       "Sales               10131\n",
       "Project Manager      8656\n",
       "Office Manager       7553\n",
       "Name: emp_title, dtype: int64"
      ]
     },
     "execution_count": 9,
     "metadata": {},
     "output_type": "execute_result"
    }
   ],
   "source": [
    "loans['emp_title'].value_counts().head(10)"
   ]
  },
  {
   "cell_type": "code",
   "execution_count": 10,
   "metadata": {},
   "outputs": [],
   "source": [
    "loans.loc[~((loans['emp_title'] == 'Teacher') |\n",
    "            (loans['emp_title'] == 'Manager') | \n",
    "            (loans['emp_title'] == 'Owner')),'emp_title'] = 'Other'"
   ]
  },
  {
   "cell_type": "code",
   "execution_count": 11,
   "metadata": {},
   "outputs": [
    {
     "data": {
      "text/plain": [
       "Other      1692495\n",
       "Teacher      30145\n",
       "Manager      26290\n",
       "Owner        16496\n",
       "Name: emp_title, dtype: int64"
      ]
     },
     "execution_count": 11,
     "metadata": {},
     "output_type": "execute_result"
    }
   ],
   "source": [
    "loans['emp_title'].value_counts()"
   ]
  },
  {
   "cell_type": "markdown",
   "metadata": {},
   "source": [
    "__title__:"
   ]
  },
  {
   "cell_type": "code",
   "execution_count": 12,
   "metadata": {},
   "outputs": [
    {
     "data": {
      "text/plain": [
       "Debt consolidation           893651\n",
       "Credit card refinancing      341989\n",
       "Home improvement             104689\n",
       "Other                         92691\n",
       "Major purchase                33218\n",
       "Medical expenses              18766\n",
       "Business                      16221\n",
       "Debt Consolidation            15763\n",
       "Car financing                 15547\n",
       "Vacation                      10942\n",
       "Moving and relocation         10685\n",
       "Home buying                    7284\n",
       "Consolidation                  5385\n",
       "debt consolidation             4837\n",
       "Debt Consolidation Loan        3804\n",
       "Credit Card Consolidation      2360\n",
       "consolidation                  2175\n",
       "Personal Loan                  2133\n",
       "Consolidation Loan             1778\n",
       "Home Improvement               1773\n",
       "Name: title, dtype: int64"
      ]
     },
     "execution_count": 12,
     "metadata": {},
     "output_type": "execute_result"
    }
   ],
   "source": [
    "loans['title'].value_counts().head(20)"
   ]
  },
  {
   "cell_type": "code",
   "execution_count": 13,
   "metadata": {},
   "outputs": [],
   "source": [
    "loans = loans.drop('title', axis=1)"
   ]
  },
  {
   "cell_type": "markdown",
   "metadata": {},
   "source": [
    "__zip_code__:"
   ]
  },
  {
   "cell_type": "code",
   "execution_count": 14,
   "metadata": {},
   "outputs": [
    {
     "data": {
      "text/plain": [
       "count     1765425\n",
       "unique        953\n",
       "top         945xx\n",
       "freq        18858\n",
       "Name: zip_code, dtype: object"
      ]
     },
     "execution_count": 14,
     "metadata": {},
     "output_type": "execute_result"
    }
   ],
   "source": [
    "loans['zip_code'].describe()"
   ]
  },
  {
   "cell_type": "code",
   "execution_count": 15,
   "metadata": {},
   "outputs": [],
   "source": [
    "loans = loans.drop('zip_code', axis=1)"
   ]
  },
  {
   "cell_type": "markdown",
   "metadata": {},
   "source": [
    "__Transform to categorical__:"
   ]
  },
  {
   "cell_type": "code",
   "execution_count": 16,
   "metadata": {},
   "outputs": [],
   "source": [
    "categorical_variables = ['term', 'grade', 'emp_title', 'emp_length', \n",
    "                         'home_ownership', 'addr_state', 'application_type']"
   ]
  },
  {
   "cell_type": "code",
   "execution_count": 17,
   "metadata": {},
   "outputs": [],
   "source": [
    "for variable in categorical_variables:\n",
    "    loans[variable] = loans[variable].astype(\"category\")"
   ]
  },
  {
   "cell_type": "code",
   "execution_count": 18,
   "metadata": {},
   "outputs": [
    {
     "data": {
      "text/html": [
       "<div>\n",
       "<style scoped>\n",
       "    .dataframe tbody tr th:only-of-type {\n",
       "        vertical-align: middle;\n",
       "    }\n",
       "\n",
       "    .dataframe tbody tr th {\n",
       "        vertical-align: top;\n",
       "    }\n",
       "\n",
       "    .dataframe thead th {\n",
       "        text-align: right;\n",
       "    }\n",
       "</style>\n",
       "<table border=\"1\" class=\"dataframe\">\n",
       "  <thead>\n",
       "    <tr style=\"text-align: right;\">\n",
       "      <th></th>\n",
       "      <th>term</th>\n",
       "      <th>grade</th>\n",
       "      <th>emp_title</th>\n",
       "      <th>emp_length</th>\n",
       "      <th>home_ownership</th>\n",
       "      <th>addr_state</th>\n",
       "      <th>application_type</th>\n",
       "    </tr>\n",
       "  </thead>\n",
       "  <tbody>\n",
       "    <tr>\n",
       "      <th>count</th>\n",
       "      <td>1765426</td>\n",
       "      <td>1765426</td>\n",
       "      <td>1765426</td>\n",
       "      <td>1660506</td>\n",
       "      <td>1765426</td>\n",
       "      <td>1765426</td>\n",
       "      <td>1765426</td>\n",
       "    </tr>\n",
       "    <tr>\n",
       "      <th>unique</th>\n",
       "      <td>2</td>\n",
       "      <td>7</td>\n",
       "      <td>4</td>\n",
       "      <td>11</td>\n",
       "      <td>6</td>\n",
       "      <td>51</td>\n",
       "      <td>2</td>\n",
       "    </tr>\n",
       "    <tr>\n",
       "      <th>top</th>\n",
       "      <td>36 months</td>\n",
       "      <td>C</td>\n",
       "      <td>Other</td>\n",
       "      <td>10+ years</td>\n",
       "      <td>MORTGAGE</td>\n",
       "      <td>CA</td>\n",
       "      <td>Individual</td>\n",
       "    </tr>\n",
       "    <tr>\n",
       "      <th>freq</th>\n",
       "      <td>1265083</td>\n",
       "      <td>523203</td>\n",
       "      <td>1692495</td>\n",
       "      <td>587623</td>\n",
       "      <td>872230</td>\n",
       "      <td>247266</td>\n",
       "      <td>1713701</td>\n",
       "    </tr>\n",
       "  </tbody>\n",
       "</table>\n",
       "</div>"
      ],
      "text/plain": [
       "              term    grade emp_title emp_length home_ownership addr_state  \\\n",
       "count      1765426  1765426   1765426    1660506        1765426    1765426   \n",
       "unique           2        7         4         11              6         51   \n",
       "top      36 months        C     Other  10+ years       MORTGAGE         CA   \n",
       "freq       1265083   523203   1692495     587623         872230     247266   \n",
       "\n",
       "       application_type  \n",
       "count           1765426  \n",
       "unique                2  \n",
       "top          Individual  \n",
       "freq            1713701  "
      ]
     },
     "execution_count": 18,
     "metadata": {},
     "output_type": "execute_result"
    }
   ],
   "source": [
    "loans[categorical_variables].describe()"
   ]
  },
  {
   "cell_type": "markdown",
   "metadata": {},
   "source": [
    "#### 3.3 - Dates"
   ]
  },
  {
   "cell_type": "markdown",
   "metadata": {},
   "source": [
    "We have just one date variable, `issue_d`. We are only interested in the year of the loan and we will consider it as categorical variable:"
   ]
  },
  {
   "cell_type": "code",
   "execution_count": 19,
   "metadata": {},
   "outputs": [],
   "source": [
    "loans['issue_d'] = loans['issue_d'].map(lambda x: x[4:])"
   ]
  },
  {
   "cell_type": "code",
   "execution_count": 20,
   "metadata": {},
   "outputs": [],
   "source": [
    "loans['issue_d'] = loans['issue_d'].astype('category')"
   ]
  },
  {
   "cell_type": "code",
   "execution_count": 21,
   "metadata": {},
   "outputs": [
    {
     "data": {
      "text/plain": [
       "count     1765426\n",
       "unique         11\n",
       "top          2017\n",
       "freq       443579\n",
       "Name: issue_d, dtype: object"
      ]
     },
     "execution_count": 21,
     "metadata": {},
     "output_type": "execute_result"
    }
   ],
   "source": [
    "loans['issue_d'].describe()"
   ]
  },
  {
   "cell_type": "markdown",
   "metadata": {},
   "source": [
    "#### 3.4 - Numeric Variables"
   ]
  },
  {
   "cell_type": "code",
   "execution_count": 22,
   "metadata": {},
   "outputs": [],
   "source": [
    "numerical_variables = [\"funded_amnt_inv\", \"installment\", \"int_rate\", \"annual_inc\", \"dti\",\n",
    "                       \"last_pymnt_amnt\", \"total_pymnt_inv\", \"total_rec_late_fee\", \"total_acc\"]"
   ]
  },
  {
   "cell_type": "markdown",
   "metadata": {},
   "source": [
    "The only variable we are going to process in this part is the interest rate on the loan (`int_rate`). We have to take the number without the percentage symbol and then transform to float:"
   ]
  },
  {
   "cell_type": "markdown",
   "metadata": {},
   "source": [
    "__int_rate__:"
   ]
  },
  {
   "cell_type": "code",
   "execution_count": 23,
   "metadata": {},
   "outputs": [],
   "source": [
    "loans['int_rate'] = loans['int_rate'].map(lambda x: float(x[:-1]))"
   ]
  },
  {
   "cell_type": "code",
   "execution_count": 24,
   "metadata": {},
   "outputs": [
    {
     "data": {
      "text/plain": [
       "funded_amnt_inv        float64\n",
       "term                  category\n",
       "issue_d               category\n",
       "installment            float64\n",
       "int_rate               float64\n",
       "grade                 category\n",
       "emp_title             category\n",
       "emp_length            category\n",
       "annual_inc             float64\n",
       "dti                    float64\n",
       "home_ownership        category\n",
       "addr_state            category\n",
       "last_pymnt_amnt        float64\n",
       "total_pymnt_inv        float64\n",
       "total_rec_late_fee     float64\n",
       "application_type      category\n",
       "total_acc              float64\n",
       "loan_status           category\n",
       "dtype: object"
      ]
     },
     "execution_count": 24,
     "metadata": {},
     "output_type": "execute_result"
    }
   ],
   "source": [
    "loans.dtypes"
   ]
  },
  {
   "cell_type": "markdown",
   "metadata": {},
   "source": [
    "__outliers detection__:"
   ]
  },
  {
   "cell_type": "code",
   "execution_count": 25,
   "metadata": {},
   "outputs": [
    {
     "data": {
      "text/html": [
       "<div>\n",
       "<style scoped>\n",
       "    .dataframe tbody tr th:only-of-type {\n",
       "        vertical-align: middle;\n",
       "    }\n",
       "\n",
       "    .dataframe tbody tr th {\n",
       "        vertical-align: top;\n",
       "    }\n",
       "\n",
       "    .dataframe thead th {\n",
       "        text-align: right;\n",
       "    }\n",
       "</style>\n",
       "<table border=\"1\" class=\"dataframe\">\n",
       "  <thead>\n",
       "    <tr style=\"text-align: right;\">\n",
       "      <th></th>\n",
       "      <th>funded_amnt_inv</th>\n",
       "      <th>installment</th>\n",
       "      <th>int_rate</th>\n",
       "      <th>annual_inc</th>\n",
       "      <th>dti</th>\n",
       "      <th>last_pymnt_amnt</th>\n",
       "      <th>total_pymnt_inv</th>\n",
       "      <th>total_rec_late_fee</th>\n",
       "      <th>total_acc</th>\n",
       "    </tr>\n",
       "  </thead>\n",
       "  <tbody>\n",
       "    <tr>\n",
       "      <th>count</th>\n",
       "      <td>1.765426e+06</td>\n",
       "      <td>1.765426e+06</td>\n",
       "      <td>1.765426e+06</td>\n",
       "      <td>1.765422e+06</td>\n",
       "      <td>1.764847e+06</td>\n",
       "      <td>1.765426e+06</td>\n",
       "      <td>1.765426e+06</td>\n",
       "      <td>1.765426e+06</td>\n",
       "      <td>1.765397e+06</td>\n",
       "    </tr>\n",
       "    <tr>\n",
       "      <th>mean</th>\n",
       "      <td>1.474341e+04</td>\n",
       "      <td>4.399808e+02</td>\n",
       "      <td>1.319561e+01</td>\n",
       "      <td>7.740289e+04</td>\n",
       "      <td>1.858771e+01</td>\n",
       "      <td>3.152905e+03</td>\n",
       "      <td>1.093059e+04</td>\n",
       "      <td>1.033835e+00</td>\n",
       "      <td>2.459412e+01</td>\n",
       "    </tr>\n",
       "    <tr>\n",
       "      <th>std</th>\n",
       "      <td>8.888966e+03</td>\n",
       "      <td>2.610757e+02</td>\n",
       "      <td>4.733918e+00</td>\n",
       "      <td>1.185158e+05</td>\n",
       "      <td>1.183439e+01</td>\n",
       "      <td>5.803450e+03</td>\n",
       "      <td>9.373107e+03</td>\n",
       "      <td>8.223289e+00</td>\n",
       "      <td>1.191904e+01</td>\n",
       "    </tr>\n",
       "    <tr>\n",
       "      <th>min</th>\n",
       "      <td>0.000000e+00</td>\n",
       "      <td>4.930000e+00</td>\n",
       "      <td>5.320000e+00</td>\n",
       "      <td>0.000000e+00</td>\n",
       "      <td>-1.000000e+00</td>\n",
       "      <td>0.000000e+00</td>\n",
       "      <td>0.000000e+00</td>\n",
       "      <td>-9.500000e-09</td>\n",
       "      <td>1.000000e+00</td>\n",
       "    </tr>\n",
       "    <tr>\n",
       "      <th>25%</th>\n",
       "      <td>8.000000e+03</td>\n",
       "      <td>2.513600e+02</td>\n",
       "      <td>9.750000e+00</td>\n",
       "      <td>4.600000e+04</td>\n",
       "      <td>1.202000e+01</td>\n",
       "      <td>3.006300e+02</td>\n",
       "      <td>3.749950e+03</td>\n",
       "      <td>0.000000e+00</td>\n",
       "      <td>1.600000e+01</td>\n",
       "    </tr>\n",
       "    <tr>\n",
       "      <th>50%</th>\n",
       "      <td>1.250000e+04</td>\n",
       "      <td>3.763700e+02</td>\n",
       "      <td>1.274000e+01</td>\n",
       "      <td>6.500000e+04</td>\n",
       "      <td>1.787000e+01</td>\n",
       "      <td>5.416400e+02</td>\n",
       "      <td>8.359535e+03</td>\n",
       "      <td>0.000000e+00</td>\n",
       "      <td>2.300000e+01</td>\n",
       "    </tr>\n",
       "    <tr>\n",
       "      <th>75%</th>\n",
       "      <td>2.000000e+04</td>\n",
       "      <td>5.815800e+02</td>\n",
       "      <td>1.599000e+01</td>\n",
       "      <td>9.200000e+04</td>\n",
       "      <td>2.436000e+01</td>\n",
       "      <td>2.782267e+03</td>\n",
       "      <td>1.545518e+04</td>\n",
       "      <td>0.000000e+00</td>\n",
       "      <td>3.100000e+01</td>\n",
       "    </tr>\n",
       "    <tr>\n",
       "      <th>max</th>\n",
       "      <td>4.000000e+04</td>\n",
       "      <td>1.719830e+03</td>\n",
       "      <td>3.099000e+01</td>\n",
       "      <td>1.100000e+08</td>\n",
       "      <td>9.990000e+02</td>\n",
       "      <td>4.214853e+04</td>\n",
       "      <td>6.240447e+04</td>\n",
       "      <td>1.126260e+03</td>\n",
       "      <td>1.760000e+02</td>\n",
       "    </tr>\n",
       "  </tbody>\n",
       "</table>\n",
       "</div>"
      ],
      "text/plain": [
       "       funded_amnt_inv   installment      int_rate    annual_inc  \\\n",
       "count     1.765426e+06  1.765426e+06  1.765426e+06  1.765422e+06   \n",
       "mean      1.474341e+04  4.399808e+02  1.319561e+01  7.740289e+04   \n",
       "std       8.888966e+03  2.610757e+02  4.733918e+00  1.185158e+05   \n",
       "min       0.000000e+00  4.930000e+00  5.320000e+00  0.000000e+00   \n",
       "25%       8.000000e+03  2.513600e+02  9.750000e+00  4.600000e+04   \n",
       "50%       1.250000e+04  3.763700e+02  1.274000e+01  6.500000e+04   \n",
       "75%       2.000000e+04  5.815800e+02  1.599000e+01  9.200000e+04   \n",
       "max       4.000000e+04  1.719830e+03  3.099000e+01  1.100000e+08   \n",
       "\n",
       "                dti  last_pymnt_amnt  total_pymnt_inv  total_rec_late_fee  \\\n",
       "count  1.764847e+06     1.765426e+06     1.765426e+06        1.765426e+06   \n",
       "mean   1.858771e+01     3.152905e+03     1.093059e+04        1.033835e+00   \n",
       "std    1.183439e+01     5.803450e+03     9.373107e+03        8.223289e+00   \n",
       "min   -1.000000e+00     0.000000e+00     0.000000e+00       -9.500000e-09   \n",
       "25%    1.202000e+01     3.006300e+02     3.749950e+03        0.000000e+00   \n",
       "50%    1.787000e+01     5.416400e+02     8.359535e+03        0.000000e+00   \n",
       "75%    2.436000e+01     2.782267e+03     1.545518e+04        0.000000e+00   \n",
       "max    9.990000e+02     4.214853e+04     6.240447e+04        1.126260e+03   \n",
       "\n",
       "          total_acc  \n",
       "count  1.765397e+06  \n",
       "mean   2.459412e+01  \n",
       "std    1.191904e+01  \n",
       "min    1.000000e+00  \n",
       "25%    1.600000e+01  \n",
       "50%    2.300000e+01  \n",
       "75%    3.100000e+01  \n",
       "max    1.760000e+02  "
      ]
     },
     "execution_count": 25,
     "metadata": {},
     "output_type": "execute_result"
    }
   ],
   "source": [
    "loans[numerical_variables].describe()"
   ]
  },
  {
   "cell_type": "code",
   "execution_count": 26,
   "metadata": {},
   "outputs": [],
   "source": [
    "def detect_outliers(df,n,features):\n",
    "    \"\"\"\n",
    "    Takes a dataframe df of features and returns a list of the indices\n",
    "    corresponding to the observations containing more than n outliers according\n",
    "    to the Tukey method.\n",
    "    \"\"\"\n",
    "    outlier_indices = []\n",
    "    \n",
    "    # iterate over features(columns)\n",
    "    for col in features:\n",
    "        # 1st quartile (25%)\n",
    "        Q1 = np.percentile(df[col], 25)\n",
    "        # 3rd quartile (75%)\n",
    "        Q3 = np.percentile(df[col],75)\n",
    "        # Interquartile range (IQR)\n",
    "        IQR = Q3 - Q1\n",
    "        \n",
    "        # outlier step\n",
    "        outlier_step = 1.5 * IQR\n",
    "        \n",
    "        # Determine a list of indices of outliers for feature col\n",
    "        outlier_list_col = df[(df[col] < Q1 - outlier_step) | (df[col] > Q3 + outlier_step )].index\n",
    "        \n",
    "        # append the found outlier indices for col to the list of outlier indices \n",
    "        outlier_indices.extend(outlier_list_col)\n",
    "        \n",
    "    # select observations containing more than 2 outliers\n",
    "    outlier_indices = Counter(outlier_indices)        \n",
    "    multiple_outliers = list( k for k, v in outlier_indices.items() if v > n )\n",
    "    \n",
    "    return multiple_outliers"
   ]
  },
  {
   "cell_type": "code",
   "execution_count": 32,
   "metadata": {},
   "outputs": [
    {
     "name": "stdout",
     "output_type": "stream",
     "text": [
      "There are 17011 outliers from numerical features\n"
     ]
    }
   ],
   "source": [
    "# detect outliers from numerical features \n",
    "outliers_to_drop = detect_outliers(loans,2,numerical_variables)\n",
    "\n",
    "print(\"There are {} outliers from numerical features\".format(len(outliers_to_drop)))"
   ]
  },
  {
   "cell_type": "code",
   "execution_count": 33,
   "metadata": {},
   "outputs": [],
   "source": [
    "loans = loans.drop(outliers_to_drop, axis=0)"
   ]
  },
  {
   "cell_type": "code",
   "execution_count": 34,
   "metadata": {},
   "outputs": [
    {
     "data": {
      "text/html": [
       "<div>\n",
       "<style scoped>\n",
       "    .dataframe tbody tr th:only-of-type {\n",
       "        vertical-align: middle;\n",
       "    }\n",
       "\n",
       "    .dataframe tbody tr th {\n",
       "        vertical-align: top;\n",
       "    }\n",
       "\n",
       "    .dataframe thead th {\n",
       "        text-align: right;\n",
       "    }\n",
       "</style>\n",
       "<table border=\"1\" class=\"dataframe\">\n",
       "  <thead>\n",
       "    <tr style=\"text-align: right;\">\n",
       "      <th></th>\n",
       "      <th>funded_amnt_inv</th>\n",
       "      <th>installment</th>\n",
       "      <th>int_rate</th>\n",
       "      <th>annual_inc</th>\n",
       "      <th>dti</th>\n",
       "      <th>last_pymnt_amnt</th>\n",
       "      <th>total_pymnt_inv</th>\n",
       "      <th>total_rec_late_fee</th>\n",
       "      <th>total_acc</th>\n",
       "    </tr>\n",
       "  </thead>\n",
       "  <tbody>\n",
       "    <tr>\n",
       "      <th>count</th>\n",
       "      <td>1.748415e+06</td>\n",
       "      <td>1.748415e+06</td>\n",
       "      <td>1.748415e+06</td>\n",
       "      <td>1.748411e+06</td>\n",
       "      <td>1.747842e+06</td>\n",
       "      <td>1.748415e+06</td>\n",
       "      <td>1.748415e+06</td>\n",
       "      <td>1.748415e+06</td>\n",
       "      <td>1.748386e+06</td>\n",
       "    </tr>\n",
       "    <tr>\n",
       "      <th>mean</th>\n",
       "      <td>1.454981e+04</td>\n",
       "      <td>4.330376e+02</td>\n",
       "      <td>1.317208e+01</td>\n",
       "      <td>7.673363e+04</td>\n",
       "      <td>1.859645e+01</td>\n",
       "      <td>2.965384e+03</td>\n",
       "      <td>1.066073e+04</td>\n",
       "      <td>9.746508e-01</td>\n",
       "      <td>2.453686e+01</td>\n",
       "    </tr>\n",
       "    <tr>\n",
       "      <th>std</th>\n",
       "      <td>8.706615e+03</td>\n",
       "      <td>2.522696e+02</td>\n",
       "      <td>4.714838e+00</td>\n",
       "      <td>1.184191e+05</td>\n",
       "      <td>1.178862e+01</td>\n",
       "      <td>5.419843e+03</td>\n",
       "      <td>8.989155e+03</td>\n",
       "      <td>7.732710e+00</td>\n",
       "      <td>1.189776e+01</td>\n",
       "    </tr>\n",
       "    <tr>\n",
       "      <th>min</th>\n",
       "      <td>0.000000e+00</td>\n",
       "      <td>4.930000e+00</td>\n",
       "      <td>5.320000e+00</td>\n",
       "      <td>0.000000e+00</td>\n",
       "      <td>-1.000000e+00</td>\n",
       "      <td>0.000000e+00</td>\n",
       "      <td>0.000000e+00</td>\n",
       "      <td>-9.500000e-09</td>\n",
       "      <td>1.000000e+00</td>\n",
       "    </tr>\n",
       "    <tr>\n",
       "      <th>25%</th>\n",
       "      <td>8.000000e+03</td>\n",
       "      <td>2.502900e+02</td>\n",
       "      <td>9.750000e+00</td>\n",
       "      <td>4.600000e+04</td>\n",
       "      <td>1.202000e+01</td>\n",
       "      <td>2.987500e+02</td>\n",
       "      <td>3.710585e+03</td>\n",
       "      <td>0.000000e+00</td>\n",
       "      <td>1.600000e+01</td>\n",
       "    </tr>\n",
       "    <tr>\n",
       "      <th>50%</th>\n",
       "      <td>1.217500e+04</td>\n",
       "      <td>3.739200e+02</td>\n",
       "      <td>1.269000e+01</td>\n",
       "      <td>6.500000e+04</td>\n",
       "      <td>1.788000e+01</td>\n",
       "      <td>5.337500e+02</td>\n",
       "      <td>8.258250e+03</td>\n",
       "      <td>0.000000e+00</td>\n",
       "      <td>2.300000e+01</td>\n",
       "    </tr>\n",
       "    <tr>\n",
       "      <th>75%</th>\n",
       "      <td>2.000000e+04</td>\n",
       "      <td>5.734300e+02</td>\n",
       "      <td>1.595000e+01</td>\n",
       "      <td>9.100000e+04</td>\n",
       "      <td>2.437000e+01</td>\n",
       "      <td>2.512750e+03</td>\n",
       "      <td>1.515540e+04</td>\n",
       "      <td>0.000000e+00</td>\n",
       "      <td>3.100000e+01</td>\n",
       "    </tr>\n",
       "    <tr>\n",
       "      <th>max</th>\n",
       "      <td>4.000000e+04</td>\n",
       "      <td>1.598260e+03</td>\n",
       "      <td>3.099000e+01</td>\n",
       "      <td>1.100000e+08</td>\n",
       "      <td>9.990000e+02</td>\n",
       "      <td>3.866622e+04</td>\n",
       "      <td>6.151372e+04</td>\n",
       "      <td>7.421700e+02</td>\n",
       "      <td>1.760000e+02</td>\n",
       "    </tr>\n",
       "  </tbody>\n",
       "</table>\n",
       "</div>"
      ],
      "text/plain": [
       "       funded_amnt_inv   installment      int_rate    annual_inc  \\\n",
       "count     1.748415e+06  1.748415e+06  1.748415e+06  1.748411e+06   \n",
       "mean      1.454981e+04  4.330376e+02  1.317208e+01  7.673363e+04   \n",
       "std       8.706615e+03  2.522696e+02  4.714838e+00  1.184191e+05   \n",
       "min       0.000000e+00  4.930000e+00  5.320000e+00  0.000000e+00   \n",
       "25%       8.000000e+03  2.502900e+02  9.750000e+00  4.600000e+04   \n",
       "50%       1.217500e+04  3.739200e+02  1.269000e+01  6.500000e+04   \n",
       "75%       2.000000e+04  5.734300e+02  1.595000e+01  9.100000e+04   \n",
       "max       4.000000e+04  1.598260e+03  3.099000e+01  1.100000e+08   \n",
       "\n",
       "                dti  last_pymnt_amnt  total_pymnt_inv  total_rec_late_fee  \\\n",
       "count  1.747842e+06     1.748415e+06     1.748415e+06        1.748415e+06   \n",
       "mean   1.859645e+01     2.965384e+03     1.066073e+04        9.746508e-01   \n",
       "std    1.178862e+01     5.419843e+03     8.989155e+03        7.732710e+00   \n",
       "min   -1.000000e+00     0.000000e+00     0.000000e+00       -9.500000e-09   \n",
       "25%    1.202000e+01     2.987500e+02     3.710585e+03        0.000000e+00   \n",
       "50%    1.788000e+01     5.337500e+02     8.258250e+03        0.000000e+00   \n",
       "75%    2.437000e+01     2.512750e+03     1.515540e+04        0.000000e+00   \n",
       "max    9.990000e+02     3.866622e+04     6.151372e+04        7.421700e+02   \n",
       "\n",
       "          total_acc  \n",
       "count  1.748386e+06  \n",
       "mean   2.453686e+01  \n",
       "std    1.189776e+01  \n",
       "min    1.000000e+00  \n",
       "25%    1.600000e+01  \n",
       "50%    2.300000e+01  \n",
       "75%    3.100000e+01  \n",
       "max    1.760000e+02  "
      ]
     },
     "execution_count": 34,
     "metadata": {},
     "output_type": "execute_result"
    }
   ],
   "source": [
    "loans[numerical_variables].describe()"
   ]
  },
  {
   "cell_type": "markdown",
   "metadata": {},
   "source": [
    "#### 3.5 - Dealing with NA's"
   ]
  },
  {
   "cell_type": "code",
   "execution_count": 35,
   "metadata": {},
   "outputs": [
    {
     "data": {
      "text/plain": [
       "funded_amnt_inv            0\n",
       "term                       0\n",
       "issue_d                    0\n",
       "installment                0\n",
       "int_rate                   0\n",
       "grade                      0\n",
       "emp_title                  0\n",
       "emp_length            104538\n",
       "annual_inc                 4\n",
       "dti                      573\n",
       "home_ownership             0\n",
       "addr_state                 0\n",
       "last_pymnt_amnt            0\n",
       "total_pymnt_inv            0\n",
       "total_rec_late_fee         0\n",
       "application_type           0\n",
       "total_acc                 29\n",
       "loan_status                0\n",
       "dtype: int64"
      ]
     },
     "execution_count": 35,
     "metadata": {},
     "output_type": "execute_result"
    }
   ],
   "source": [
    "loans.isnull().sum()"
   ]
  },
  {
   "cell_type": "code",
   "execution_count": 37,
   "metadata": {},
   "outputs": [],
   "source": [
    "loans = loans.fillna(method = 'ffill')"
   ]
  },
  {
   "cell_type": "code",
   "execution_count": 38,
   "metadata": {},
   "outputs": [
    {
     "data": {
      "text/plain": [
       "funded_amnt_inv       0\n",
       "term                  0\n",
       "issue_d               0\n",
       "installment           0\n",
       "int_rate              0\n",
       "grade                 0\n",
       "emp_title             0\n",
       "emp_length            0\n",
       "annual_inc            0\n",
       "dti                   0\n",
       "home_ownership        0\n",
       "addr_state            0\n",
       "last_pymnt_amnt       0\n",
       "total_pymnt_inv       0\n",
       "total_rec_late_fee    0\n",
       "application_type      0\n",
       "total_acc             0\n",
       "loan_status           0\n",
       "dtype: int64"
      ]
     },
     "execution_count": 38,
     "metadata": {},
     "output_type": "execute_result"
    }
   ],
   "source": [
    "loans.isnull().sum()"
   ]
  },
  {
   "cell_type": "markdown",
   "metadata": {},
   "source": [
    "### 04 - Data for modeling"
   ]
  },
  {
   "cell_type": "code",
   "execution_count": 39,
   "metadata": {},
   "outputs": [],
   "source": [
    "data_for_modeling = loans[(loans['loan_status'] == 0) |\n",
    "                          (loans['loan_status'] == 1)]"
   ]
  },
  {
   "cell_type": "markdown",
   "metadata": {},
   "source": [
    "__Get dummies__:"
   ]
  },
  {
   "cell_type": "code",
   "execution_count": 40,
   "metadata": {},
   "outputs": [],
   "source": [
    "data_for_modeling = pd.get_dummies(data_for_modeling, columns = categorical_variables)"
   ]
  },
  {
   "cell_type": "code",
   "execution_count": 41,
   "metadata": {},
   "outputs": [
    {
     "data": {
      "text/html": [
       "<div>\n",
       "<style scoped>\n",
       "    .dataframe tbody tr th:only-of-type {\n",
       "        vertical-align: middle;\n",
       "    }\n",
       "\n",
       "    .dataframe tbody tr th {\n",
       "        vertical-align: top;\n",
       "    }\n",
       "\n",
       "    .dataframe thead th {\n",
       "        text-align: right;\n",
       "    }\n",
       "</style>\n",
       "<table border=\"1\" class=\"dataframe\">\n",
       "  <thead>\n",
       "    <tr style=\"text-align: right;\">\n",
       "      <th></th>\n",
       "      <th>funded_amnt_inv</th>\n",
       "      <th>issue_d</th>\n",
       "      <th>installment</th>\n",
       "      <th>int_rate</th>\n",
       "      <th>annual_inc</th>\n",
       "      <th>dti</th>\n",
       "      <th>last_pymnt_amnt</th>\n",
       "      <th>total_pymnt_inv</th>\n",
       "      <th>total_rec_late_fee</th>\n",
       "      <th>total_acc</th>\n",
       "      <th>...</th>\n",
       "      <th>addr_state_TX</th>\n",
       "      <th>addr_state_UT</th>\n",
       "      <th>addr_state_VA</th>\n",
       "      <th>addr_state_VT</th>\n",
       "      <th>addr_state_WA</th>\n",
       "      <th>addr_state_WI</th>\n",
       "      <th>addr_state_WV</th>\n",
       "      <th>addr_state_WY</th>\n",
       "      <th>application_type_Individual</th>\n",
       "      <th>application_type_Joint App</th>\n",
       "    </tr>\n",
       "  </thead>\n",
       "  <tbody>\n",
       "    <tr>\n",
       "      <th>0</th>\n",
       "      <td>10000.0</td>\n",
       "      <td>2016</td>\n",
       "      <td>262.34</td>\n",
       "      <td>19.53</td>\n",
       "      <td>52000.0</td>\n",
       "      <td>15.00</td>\n",
       "      <td>9575.49</td>\n",
       "      <td>11127.83</td>\n",
       "      <td>0.0</td>\n",
       "      <td>12.0</td>\n",
       "      <td>...</td>\n",
       "      <td>0</td>\n",
       "      <td>0</td>\n",
       "      <td>0</td>\n",
       "      <td>0</td>\n",
       "      <td>0</td>\n",
       "      <td>0</td>\n",
       "      <td>0</td>\n",
       "      <td>0</td>\n",
       "      <td>1</td>\n",
       "      <td>0</td>\n",
       "    </tr>\n",
       "    <tr>\n",
       "      <th>1</th>\n",
       "      <td>35000.0</td>\n",
       "      <td>2016</td>\n",
       "      <td>941.96</td>\n",
       "      <td>20.75</td>\n",
       "      <td>85000.0</td>\n",
       "      <td>24.98</td>\n",
       "      <td>509.10</td>\n",
       "      <td>37226.47</td>\n",
       "      <td>0.0</td>\n",
       "      <td>19.0</td>\n",
       "      <td>...</td>\n",
       "      <td>0</td>\n",
       "      <td>0</td>\n",
       "      <td>0</td>\n",
       "      <td>0</td>\n",
       "      <td>0</td>\n",
       "      <td>0</td>\n",
       "      <td>0</td>\n",
       "      <td>0</td>\n",
       "      <td>1</td>\n",
       "      <td>0</td>\n",
       "    </tr>\n",
       "    <tr>\n",
       "      <th>5</th>\n",
       "      <td>14400.0</td>\n",
       "      <td>2016</td>\n",
       "      <td>469.74</td>\n",
       "      <td>10.75</td>\n",
       "      <td>85000.0</td>\n",
       "      <td>28.11</td>\n",
       "      <td>10992.93</td>\n",
       "      <td>15673.13</td>\n",
       "      <td>0.0</td>\n",
       "      <td>33.0</td>\n",
       "      <td>...</td>\n",
       "      <td>0</td>\n",
       "      <td>0</td>\n",
       "      <td>0</td>\n",
       "      <td>0</td>\n",
       "      <td>0</td>\n",
       "      <td>0</td>\n",
       "      <td>0</td>\n",
       "      <td>0</td>\n",
       "      <td>1</td>\n",
       "      <td>0</td>\n",
       "    </tr>\n",
       "    <tr>\n",
       "      <th>6</th>\n",
       "      <td>18000.0</td>\n",
       "      <td>2016</td>\n",
       "      <td>400.31</td>\n",
       "      <td>11.99</td>\n",
       "      <td>100000.0</td>\n",
       "      <td>20.41</td>\n",
       "      <td>14885.49</td>\n",
       "      <td>20465.85</td>\n",
       "      <td>0.0</td>\n",
       "      <td>40.0</td>\n",
       "      <td>...</td>\n",
       "      <td>0</td>\n",
       "      <td>0</td>\n",
       "      <td>0</td>\n",
       "      <td>0</td>\n",
       "      <td>1</td>\n",
       "      <td>0</td>\n",
       "      <td>0</td>\n",
       "      <td>0</td>\n",
       "      <td>1</td>\n",
       "      <td>0</td>\n",
       "    </tr>\n",
       "    <tr>\n",
       "      <th>10</th>\n",
       "      <td>7250.0</td>\n",
       "      <td>2016</td>\n",
       "      <td>246.63</td>\n",
       "      <td>13.67</td>\n",
       "      <td>72000.0</td>\n",
       "      <td>23.93</td>\n",
       "      <td>6310.66</td>\n",
       "      <td>7779.43</td>\n",
       "      <td>0.0</td>\n",
       "      <td>24.0</td>\n",
       "      <td>...</td>\n",
       "      <td>0</td>\n",
       "      <td>0</td>\n",
       "      <td>0</td>\n",
       "      <td>0</td>\n",
       "      <td>0</td>\n",
       "      <td>0</td>\n",
       "      <td>0</td>\n",
       "      <td>0</td>\n",
       "      <td>1</td>\n",
       "      <td>0</td>\n",
       "    </tr>\n",
       "  </tbody>\n",
       "</table>\n",
       "<p>5 rows × 94 columns</p>\n",
       "</div>"
      ],
      "text/plain": [
       "    funded_amnt_inv issue_d  installment  int_rate  annual_inc    dti  \\\n",
       "0           10000.0    2016       262.34     19.53     52000.0  15.00   \n",
       "1           35000.0    2016       941.96     20.75     85000.0  24.98   \n",
       "5           14400.0    2016       469.74     10.75     85000.0  28.11   \n",
       "6           18000.0    2016       400.31     11.99    100000.0  20.41   \n",
       "10           7250.0    2016       246.63     13.67     72000.0  23.93   \n",
       "\n",
       "    last_pymnt_amnt  total_pymnt_inv  total_rec_late_fee  total_acc  \\\n",
       "0           9575.49         11127.83                 0.0       12.0   \n",
       "1            509.10         37226.47                 0.0       19.0   \n",
       "5          10992.93         15673.13                 0.0       33.0   \n",
       "6          14885.49         20465.85                 0.0       40.0   \n",
       "10          6310.66          7779.43                 0.0       24.0   \n",
       "\n",
       "               ...             addr_state_TX  addr_state_UT  addr_state_VA  \\\n",
       "0              ...                         0              0              0   \n",
       "1              ...                         0              0              0   \n",
       "5              ...                         0              0              0   \n",
       "6              ...                         0              0              0   \n",
       "10             ...                         0              0              0   \n",
       "\n",
       "    addr_state_VT  addr_state_WA  addr_state_WI  addr_state_WV  addr_state_WY  \\\n",
       "0               0              0              0              0              0   \n",
       "1               0              0              0              0              0   \n",
       "5               0              0              0              0              0   \n",
       "6               0              1              0              0              0   \n",
       "10              0              0              0              0              0   \n",
       "\n",
       "    application_type_Individual  application_type_Joint App  \n",
       "0                             1                           0  \n",
       "1                             1                           0  \n",
       "5                             1                           0  \n",
       "6                             1                           0  \n",
       "10                            1                           0  \n",
       "\n",
       "[5 rows x 94 columns]"
      ]
     },
     "execution_count": 41,
     "metadata": {},
     "output_type": "execute_result"
    }
   ],
   "source": [
    "data_for_modeling.head()"
   ]
  },
  {
   "cell_type": "code",
   "execution_count": 42,
   "metadata": {},
   "outputs": [
    {
     "data": {
      "text/plain": [
       "(867279, 94)"
      ]
     },
     "execution_count": 42,
     "metadata": {},
     "output_type": "execute_result"
    }
   ],
   "source": [
    "data_for_modeling.shape"
   ]
  },
  {
   "cell_type": "code",
   "execution_count": null,
   "metadata": {},
   "outputs": [],
   "source": [
    "data_for_modeling.to_csv(\"../data/clean/loans_train_test.csv\", sep = \"^\", index = False)"
   ]
  },
  {
   "cell_type": "code",
   "execution_count": null,
   "metadata": {},
   "outputs": [],
   "source": [
    "!ls -lh ../data/clean"
   ]
  },
  {
   "cell_type": "code",
   "execution_count": null,
   "metadata": {},
   "outputs": [],
   "source": []
  }
 ],
 "metadata": {
  "kernelspec": {
   "display_name": "Python 3",
   "language": "python",
   "name": "python3"
  },
  "language_info": {
   "codemirror_mode": {
    "name": "ipython",
    "version": 3
   },
   "file_extension": ".py",
   "mimetype": "text/x-python",
   "name": "python",
   "nbconvert_exporter": "python",
   "pygments_lexer": "ipython3",
   "version": "3.6.4"
  }
 },
 "nbformat": 4,
 "nbformat_minor": 2
}
