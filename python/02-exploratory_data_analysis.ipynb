{
 "cells": [
  {
   "cell_type": "markdown",
   "metadata": {},
   "source": [
    "Exploratory Data Analysis\n",
    "============="
   ]
  },
  {
   "cell_type": "markdown",
   "metadata": {},
   "source": [
    "### 01 - Introduction"
   ]
  },
  {
   "cell_type": "markdown",
   "metadata": {},
   "source": [
    "In this notebook we will make a Exploratory Data Analysis with the following goals in mind:\n",
    "* Analyze the features of our clean data in order to understand the relationship between them.\n",
    "* Answer the following questions:\n",
    "    1. Es mejor\n",
    "    2. Es peor\n",
    "    3. Es igual\n",
    "* Process the variables for feeding machine learning model/s."
   ]
  },
  {
   "cell_type": "markdown",
   "metadata": {},
   "source": [
    "__Importing Libraries__"
   ]
  },
  {
   "cell_type": "code",
   "execution_count": 30,
   "metadata": {},
   "outputs": [],
   "source": [
    "import pandas as pd\n",
    "import numpy as np\n",
    "import matplotlib.pyplot as plt\n",
    "import seaborn as sns\n",
    "from matplotlib import rcParams\n",
    "\n",
    "#To plot figs on jupyter\n",
    "%matplotlib inline\n",
    "# figure size in inches\n",
    "rcParams['figure.figsize'] = 14,6"
   ]
  },
  {
   "cell_type": "markdown",
   "metadata": {},
   "source": [
    "### 02 - Loading our data"
   ]
  },
  {
   "cell_type": "markdown",
   "metadata": {},
   "source": [
    "Reading data:"
   ]
  },
  {
   "cell_type": "code",
   "execution_count": 3,
   "metadata": {},
   "outputs": [],
   "source": [
    "loans = pd.read_csv(\"../data/clean/loans.csv\", sep = \"^\")\n",
    "loans.drop(\"Unnamed: 0\", axis = 1, inplace = True) # remove index column"
   ]
  },
  {
   "cell_type": "code",
   "execution_count": 4,
   "metadata": {},
   "outputs": [
    {
     "data": {
      "text/html": [
       "<div>\n",
       "<style scoped>\n",
       "    .dataframe tbody tr th:only-of-type {\n",
       "        vertical-align: middle;\n",
       "    }\n",
       "\n",
       "    .dataframe tbody tr th {\n",
       "        vertical-align: top;\n",
       "    }\n",
       "\n",
       "    .dataframe thead th {\n",
       "        text-align: right;\n",
       "    }\n",
       "</style>\n",
       "<table border=\"1\" class=\"dataframe\">\n",
       "  <thead>\n",
       "    <tr style=\"text-align: right;\">\n",
       "      <th></th>\n",
       "      <th>funded_amnt_inv</th>\n",
       "      <th>term</th>\n",
       "      <th>issue_d</th>\n",
       "      <th>installment</th>\n",
       "      <th>int_rate</th>\n",
       "      <th>sub_grade</th>\n",
       "      <th>emp_title</th>\n",
       "      <th>emp_length</th>\n",
       "      <th>annual_inc</th>\n",
       "      <th>title</th>\n",
       "      <th>dti</th>\n",
       "      <th>home_ownership</th>\n",
       "      <th>zip_code</th>\n",
       "      <th>addr_state</th>\n",
       "      <th>last_pymnt_amnt</th>\n",
       "      <th>total_pymnt_inv</th>\n",
       "      <th>total_rec_late_fee</th>\n",
       "      <th>loan_status</th>\n",
       "    </tr>\n",
       "  </thead>\n",
       "  <tbody>\n",
       "    <tr>\n",
       "      <th>0</th>\n",
       "      <td>10000.0</td>\n",
       "      <td>60 months</td>\n",
       "      <td>Mar-2016</td>\n",
       "      <td>262.34</td>\n",
       "      <td>19.53%</td>\n",
       "      <td>D5</td>\n",
       "      <td>lpn/charge nurse</td>\n",
       "      <td>4 years</td>\n",
       "      <td>52000.0</td>\n",
       "      <td>Other</td>\n",
       "      <td>15.00</td>\n",
       "      <td>OWN</td>\n",
       "      <td>317xx</td>\n",
       "      <td>GA</td>\n",
       "      <td>9575.49</td>\n",
       "      <td>11127.83</td>\n",
       "      <td>0.0</td>\n",
       "      <td>Fully Paid</td>\n",
       "    </tr>\n",
       "    <tr>\n",
       "      <th>1</th>\n",
       "      <td>35000.0</td>\n",
       "      <td>60 months</td>\n",
       "      <td>Mar-2016</td>\n",
       "      <td>941.96</td>\n",
       "      <td>20.75%</td>\n",
       "      <td>E2</td>\n",
       "      <td>Coiler</td>\n",
       "      <td>3 years</td>\n",
       "      <td>85000.0</td>\n",
       "      <td>Debt consolidation</td>\n",
       "      <td>24.98</td>\n",
       "      <td>MORTGAGE</td>\n",
       "      <td>144xx</td>\n",
       "      <td>NY</td>\n",
       "      <td>509.10</td>\n",
       "      <td>37226.47</td>\n",
       "      <td>0.0</td>\n",
       "      <td>Fully Paid</td>\n",
       "    </tr>\n",
       "    <tr>\n",
       "      <th>2</th>\n",
       "      <td>20000.0</td>\n",
       "      <td>60 months</td>\n",
       "      <td>Mar-2016</td>\n",
       "      <td>416.73</td>\n",
       "      <td>9.16%</td>\n",
       "      <td>B2</td>\n",
       "      <td>Reliability Engineer</td>\n",
       "      <td>1 year</td>\n",
       "      <td>77000.0</td>\n",
       "      <td>Home improvement</td>\n",
       "      <td>13.75</td>\n",
       "      <td>MORTGAGE</td>\n",
       "      <td>606xx</td>\n",
       "      <td>IL</td>\n",
       "      <td>416.73</td>\n",
       "      <td>9147.70</td>\n",
       "      <td>0.0</td>\n",
       "      <td>Current</td>\n",
       "    </tr>\n",
       "    <tr>\n",
       "      <th>3</th>\n",
       "      <td>17475.0</td>\n",
       "      <td>60 months</td>\n",
       "      <td>Mar-2016</td>\n",
       "      <td>384.06</td>\n",
       "      <td>11.47%</td>\n",
       "      <td>B5</td>\n",
       "      <td>NaN</td>\n",
       "      <td>NaN</td>\n",
       "      <td>41682.0</td>\n",
       "      <td>Debt consolidation</td>\n",
       "      <td>30.06</td>\n",
       "      <td>MORTGAGE</td>\n",
       "      <td>796xx</td>\n",
       "      <td>TX</td>\n",
       "      <td>384.06</td>\n",
       "      <td>8432.61</td>\n",
       "      <td>0.0</td>\n",
       "      <td>Current</td>\n",
       "    </tr>\n",
       "    <tr>\n",
       "      <th>4</th>\n",
       "      <td>8000.0</td>\n",
       "      <td>36 months</td>\n",
       "      <td>Mar-2016</td>\n",
       "      <td>255.00</td>\n",
       "      <td>9.16%</td>\n",
       "      <td>B2</td>\n",
       "      <td>Technician</td>\n",
       "      <td>10+ years</td>\n",
       "      <td>72000.0</td>\n",
       "      <td>Debt consolidation</td>\n",
       "      <td>22.63</td>\n",
       "      <td>RENT</td>\n",
       "      <td>217xx</td>\n",
       "      <td>MD</td>\n",
       "      <td>255.00</td>\n",
       "      <td>5601.86</td>\n",
       "      <td>0.0</td>\n",
       "      <td>Current</td>\n",
       "    </tr>\n",
       "    <tr>\n",
       "      <th>5</th>\n",
       "      <td>14400.0</td>\n",
       "      <td>36 months</td>\n",
       "      <td>Mar-2016</td>\n",
       "      <td>469.74</td>\n",
       "      <td>10.75%</td>\n",
       "      <td>B4</td>\n",
       "      <td>Coder</td>\n",
       "      <td>10+ years</td>\n",
       "      <td>85000.0</td>\n",
       "      <td>Business</td>\n",
       "      <td>28.11</td>\n",
       "      <td>MORTGAGE</td>\n",
       "      <td>037xx</td>\n",
       "      <td>NH</td>\n",
       "      <td>10992.93</td>\n",
       "      <td>15673.13</td>\n",
       "      <td>0.0</td>\n",
       "      <td>Fully Paid</td>\n",
       "    </tr>\n",
       "    <tr>\n",
       "      <th>6</th>\n",
       "      <td>18000.0</td>\n",
       "      <td>60 months</td>\n",
       "      <td>Mar-2016</td>\n",
       "      <td>400.31</td>\n",
       "      <td>11.99%</td>\n",
       "      <td>C1</td>\n",
       "      <td>Registered Nurse</td>\n",
       "      <td>6 years</td>\n",
       "      <td>100000.0</td>\n",
       "      <td>Debt consolidation</td>\n",
       "      <td>20.41</td>\n",
       "      <td>MORTGAGE</td>\n",
       "      <td>986xx</td>\n",
       "      <td>WA</td>\n",
       "      <td>14885.49</td>\n",
       "      <td>20465.85</td>\n",
       "      <td>0.0</td>\n",
       "      <td>Fully Paid</td>\n",
       "    </tr>\n",
       "    <tr>\n",
       "      <th>7</th>\n",
       "      <td>5800.0</td>\n",
       "      <td>36 months</td>\n",
       "      <td>Mar-2016</td>\n",
       "      <td>191.18</td>\n",
       "      <td>11.47%</td>\n",
       "      <td>B5</td>\n",
       "      <td>shipping</td>\n",
       "      <td>2 years</td>\n",
       "      <td>21000.0</td>\n",
       "      <td>NaN</td>\n",
       "      <td>16.91</td>\n",
       "      <td>RENT</td>\n",
       "      <td>799xx</td>\n",
       "      <td>TX</td>\n",
       "      <td>191.18</td>\n",
       "      <td>4198.57</td>\n",
       "      <td>0.0</td>\n",
       "      <td>Current</td>\n",
       "    </tr>\n",
       "    <tr>\n",
       "      <th>8</th>\n",
       "      <td>12500.0</td>\n",
       "      <td>60 months</td>\n",
       "      <td>Mar-2016</td>\n",
       "      <td>293.85</td>\n",
       "      <td>14.46%</td>\n",
       "      <td>C4</td>\n",
       "      <td>Occupational Therapist Assisstant</td>\n",
       "      <td>1 year</td>\n",
       "      <td>91000.0</td>\n",
       "      <td>Debt consolidation</td>\n",
       "      <td>11.83</td>\n",
       "      <td>RENT</td>\n",
       "      <td>270xx</td>\n",
       "      <td>NC</td>\n",
       "      <td>293.85</td>\n",
       "      <td>6444.62</td>\n",
       "      <td>0.0</td>\n",
       "      <td>Current</td>\n",
       "    </tr>\n",
       "    <tr>\n",
       "      <th>9</th>\n",
       "      <td>3000.0</td>\n",
       "      <td>36 months</td>\n",
       "      <td>Mar-2016</td>\n",
       "      <td>93.17</td>\n",
       "      <td>7.39%</td>\n",
       "      <td>A4</td>\n",
       "      <td>account sales manager</td>\n",
       "      <td>10+ years</td>\n",
       "      <td>90000.0</td>\n",
       "      <td>Home improvement</td>\n",
       "      <td>1.23</td>\n",
       "      <td>MORTGAGE</td>\n",
       "      <td>184xx</td>\n",
       "      <td>PA</td>\n",
       "      <td>93.17</td>\n",
       "      <td>2047.58</td>\n",
       "      <td>0.0</td>\n",
       "      <td>Current</td>\n",
       "    </tr>\n",
       "  </tbody>\n",
       "</table>\n",
       "</div>"
      ],
      "text/plain": [
       "   funded_amnt_inv        term   issue_d  installment int_rate sub_grade  \\\n",
       "0          10000.0   60 months  Mar-2016       262.34   19.53%        D5   \n",
       "1          35000.0   60 months  Mar-2016       941.96   20.75%        E2   \n",
       "2          20000.0   60 months  Mar-2016       416.73    9.16%        B2   \n",
       "3          17475.0   60 months  Mar-2016       384.06   11.47%        B5   \n",
       "4           8000.0   36 months  Mar-2016       255.00    9.16%        B2   \n",
       "5          14400.0   36 months  Mar-2016       469.74   10.75%        B4   \n",
       "6          18000.0   60 months  Mar-2016       400.31   11.99%        C1   \n",
       "7           5800.0   36 months  Mar-2016       191.18   11.47%        B5   \n",
       "8          12500.0   60 months  Mar-2016       293.85   14.46%        C4   \n",
       "9           3000.0   36 months  Mar-2016        93.17    7.39%        A4   \n",
       "\n",
       "                           emp_title emp_length  annual_inc  \\\n",
       "0                   lpn/charge nurse    4 years     52000.0   \n",
       "1                             Coiler    3 years     85000.0   \n",
       "2               Reliability Engineer     1 year     77000.0   \n",
       "3                                NaN        NaN     41682.0   \n",
       "4                         Technician  10+ years     72000.0   \n",
       "5                              Coder  10+ years     85000.0   \n",
       "6                   Registered Nurse    6 years    100000.0   \n",
       "7                           shipping    2 years     21000.0   \n",
       "8  Occupational Therapist Assisstant     1 year     91000.0   \n",
       "9              account sales manager  10+ years     90000.0   \n",
       "\n",
       "                title    dti home_ownership zip_code addr_state  \\\n",
       "0               Other  15.00            OWN    317xx         GA   \n",
       "1  Debt consolidation  24.98       MORTGAGE    144xx         NY   \n",
       "2    Home improvement  13.75       MORTGAGE    606xx         IL   \n",
       "3  Debt consolidation  30.06       MORTGAGE    796xx         TX   \n",
       "4  Debt consolidation  22.63           RENT    217xx         MD   \n",
       "5            Business  28.11       MORTGAGE    037xx         NH   \n",
       "6  Debt consolidation  20.41       MORTGAGE    986xx         WA   \n",
       "7                 NaN  16.91           RENT    799xx         TX   \n",
       "8  Debt consolidation  11.83           RENT    270xx         NC   \n",
       "9    Home improvement   1.23       MORTGAGE    184xx         PA   \n",
       "\n",
       "   last_pymnt_amnt  total_pymnt_inv  total_rec_late_fee loan_status  \n",
       "0          9575.49         11127.83                 0.0  Fully Paid  \n",
       "1           509.10         37226.47                 0.0  Fully Paid  \n",
       "2           416.73          9147.70                 0.0     Current  \n",
       "3           384.06          8432.61                 0.0     Current  \n",
       "4           255.00          5601.86                 0.0     Current  \n",
       "5         10992.93         15673.13                 0.0  Fully Paid  \n",
       "6         14885.49         20465.85                 0.0  Fully Paid  \n",
       "7           191.18          4198.57                 0.0     Current  \n",
       "8           293.85          6444.62                 0.0     Current  \n",
       "9            93.17          2047.58                 0.0     Current  "
      ]
     },
     "execution_count": 4,
     "metadata": {},
     "output_type": "execute_result"
    }
   ],
   "source": [
    "loans.head(10)"
   ]
  },
  {
   "cell_type": "code",
   "execution_count": 5,
   "metadata": {},
   "outputs": [
    {
     "data": {
      "text/plain": [
       "(1765426, 18)"
      ]
     },
     "execution_count": 5,
     "metadata": {},
     "output_type": "execute_result"
    }
   ],
   "source": [
    "loans.shape"
   ]
  },
  {
   "cell_type": "markdown",
   "metadata": {},
   "source": [
    "Variable types:"
   ]
  },
  {
   "cell_type": "code",
   "execution_count": 6,
   "metadata": {},
   "outputs": [
    {
     "name": "stdout",
     "output_type": "stream",
     "text": [
      "<class 'pandas.core.frame.DataFrame'>\n",
      "RangeIndex: 1765426 entries, 0 to 1765425\n",
      "Data columns (total 18 columns):\n",
      "funded_amnt_inv       float64\n",
      "term                  object\n",
      "issue_d               object\n",
      "installment           float64\n",
      "int_rate              object\n",
      "sub_grade             object\n",
      "emp_title             object\n",
      "emp_length            object\n",
      "annual_inc            float64\n",
      "title                 object\n",
      "dti                   float64\n",
      "home_ownership        object\n",
      "zip_code              object\n",
      "addr_state            object\n",
      "last_pymnt_amnt       float64\n",
      "total_pymnt_inv       float64\n",
      "total_rec_late_fee    float64\n",
      "loan_status           object\n",
      "dtypes: float64(7), object(11)\n",
      "memory usage: 242.4+ MB\n"
     ]
    }
   ],
   "source": [
    "loans.info()"
   ]
  },
  {
   "cell_type": "code",
   "execution_count": 32,
   "metadata": {},
   "outputs": [
    {
     "data": {
      "text/html": [
       "<div>\n",
       "<style scoped>\n",
       "    .dataframe tbody tr th:only-of-type {\n",
       "        vertical-align: middle;\n",
       "    }\n",
       "\n",
       "    .dataframe tbody tr th {\n",
       "        vertical-align: top;\n",
       "    }\n",
       "\n",
       "    .dataframe thead th {\n",
       "        text-align: right;\n",
       "    }\n",
       "</style>\n",
       "<table border=\"1\" class=\"dataframe\">\n",
       "  <thead>\n",
       "    <tr style=\"text-align: right;\">\n",
       "      <th></th>\n",
       "      <th>funded_amnt_inv</th>\n",
       "      <th>term</th>\n",
       "      <th>issue_d</th>\n",
       "      <th>installment</th>\n",
       "      <th>int_rate</th>\n",
       "      <th>sub_grade</th>\n",
       "      <th>emp_title</th>\n",
       "      <th>emp_length</th>\n",
       "      <th>annual_inc</th>\n",
       "      <th>title</th>\n",
       "      <th>dti</th>\n",
       "      <th>home_ownership</th>\n",
       "      <th>zip_code</th>\n",
       "      <th>addr_state</th>\n",
       "      <th>last_pymnt_amnt</th>\n",
       "      <th>total_pymnt_inv</th>\n",
       "      <th>total_rec_late_fee</th>\n",
       "      <th>loan_status</th>\n",
       "    </tr>\n",
       "  </thead>\n",
       "  <tbody>\n",
       "    <tr>\n",
       "      <th>count</th>\n",
       "      <td>1765426.0</td>\n",
       "      <td>1765426</td>\n",
       "      <td>1765426</td>\n",
       "      <td>1765426.00</td>\n",
       "      <td>1765426</td>\n",
       "      <td>1765426</td>\n",
       "      <td>1653275</td>\n",
       "      <td>1660540</td>\n",
       "      <td>1765426.0</td>\n",
       "      <td>1742103</td>\n",
       "      <td>1764847</td>\n",
       "      <td>1765426</td>\n",
       "      <td>1765425</td>\n",
       "      <td>1765426</td>\n",
       "      <td>1765426.00</td>\n",
       "      <td>1765426</td>\n",
       "      <td>1765426.0</td>\n",
       "      <td>1765426</td>\n",
       "    </tr>\n",
       "    <tr>\n",
       "      <th>unique</th>\n",
       "      <td>9025.0</td>\n",
       "      <td>4</td>\n",
       "      <td>129</td>\n",
       "      <td>86603.00</td>\n",
       "      <td>601</td>\n",
       "      <td>37</td>\n",
       "      <td>448269</td>\n",
       "      <td>13</td>\n",
       "      <td>77009.0</td>\n",
       "      <td>61687</td>\n",
       "      <td>8312</td>\n",
       "      <td>8</td>\n",
       "      <td>954</td>\n",
       "      <td>53</td>\n",
       "      <td>543275.00</td>\n",
       "      <td>1038684</td>\n",
       "      <td>13259.0</td>\n",
       "      <td>7</td>\n",
       "    </tr>\n",
       "    <tr>\n",
       "      <th>top</th>\n",
       "      <td>10000.0</td>\n",
       "      <td>36 months</td>\n",
       "      <td>Mar-2016</td>\n",
       "      <td>301.15</td>\n",
       "      <td>11.99%</td>\n",
       "      <td>C1</td>\n",
       "      <td>Teacher</td>\n",
       "      <td>10+ years</td>\n",
       "      <td>60000.0</td>\n",
       "      <td>Debt consolidation</td>\n",
       "      <td>Fully Paid</td>\n",
       "      <td>MORTGAGE</td>\n",
       "      <td>945xx</td>\n",
       "      <td>CA</td>\n",
       "      <td>301.15</td>\n",
       "      <td>Fully Paid</td>\n",
       "      <td>0.0</td>\n",
       "      <td>Current</td>\n",
       "    </tr>\n",
       "    <tr>\n",
       "      <th>freq</th>\n",
       "      <td>123548.0</td>\n",
       "      <td>1262645</td>\n",
       "      <td>61992</td>\n",
       "      <td>4139.00</td>\n",
       "      <td>49742</td>\n",
       "      <td>117389</td>\n",
       "      <td>30145</td>\n",
       "      <td>587153</td>\n",
       "      <td>68173.0</td>\n",
       "      <td>893638</td>\n",
       "      <td>1988</td>\n",
       "      <td>870974</td>\n",
       "      <td>18845</td>\n",
       "      <td>246942</td>\n",
       "      <td>3007.00</td>\n",
       "      <td>1988</td>\n",
       "      <td>1710482.0</td>\n",
       "      <td>843754</td>\n",
       "    </tr>\n",
       "  </tbody>\n",
       "</table>\n",
       "</div>"
      ],
      "text/plain": [
       "        funded_amnt_inv        term   issue_d  installment int_rate sub_grade  \\\n",
       "count         1765426.0     1765426   1765426   1765426.00  1765426   1765426   \n",
       "unique           9025.0           4       129     86603.00      601        37   \n",
       "top             10000.0   36 months  Mar-2016       301.15   11.99%        C1   \n",
       "freq           123548.0     1262645     61992      4139.00    49742    117389   \n",
       "\n",
       "       emp_title emp_length  annual_inc               title         dti  \\\n",
       "count    1653275    1660540   1765426.0             1742103     1764847   \n",
       "unique    448269         13     77009.0               61687        8312   \n",
       "top      Teacher  10+ years     60000.0  Debt consolidation  Fully Paid   \n",
       "freq       30145     587153     68173.0              893638        1988   \n",
       "\n",
       "       home_ownership zip_code addr_state  last_pymnt_amnt total_pymnt_inv  \\\n",
       "count         1765426  1765425    1765426       1765426.00         1765426   \n",
       "unique              8      954         53        543275.00         1038684   \n",
       "top          MORTGAGE    945xx         CA           301.15      Fully Paid   \n",
       "freq           870974    18845     246942          3007.00            1988   \n",
       "\n",
       "        total_rec_late_fee loan_status  \n",
       "count            1765426.0     1765426  \n",
       "unique             13259.0           7  \n",
       "top                    0.0     Current  \n",
       "freq             1710482.0      843754  "
      ]
     },
     "execution_count": 32,
     "metadata": {},
     "output_type": "execute_result"
    }
   ],
   "source": [
    "loans.describe()"
   ]
  },
  {
   "cell_type": "markdown",
   "metadata": {},
   "source": [
    "### 03 - Loan Status Analysis"
   ]
  },
  {
   "cell_type": "markdown",
   "metadata": {},
   "source": [
    "Since one of our project main goals is to predict whether a debt is going to be paid or not, this part of the analysis will focus on `loan_status` variable, i. e., the current status of the loan.\n",
    "\n",
    "Let's see the __loan status__ distribution:"
   ]
  },
  {
   "cell_type": "code",
   "execution_count": 9,
   "metadata": {},
   "outputs": [
    {
     "data": {
      "text/plain": [
       "Current                                                843754\n",
       "Fully Paid                                             698690\n",
       "Charged Off                                            182199\n",
       "Late (31-120 days)                                      21742\n",
       "In Grace Period                                         11812\n",
       "Late (16-30 days)                                        4423\n",
       "Does not meet the credit policy. Status:Fully Paid       1988\n",
       "Does not meet the credit policy. Status:Charged Off       761\n",
       "Default                                                    57\n",
       "Name: loan_status, dtype: int64"
      ]
     },
     "execution_count": 9,
     "metadata": {},
     "output_type": "execute_result"
    }
   ],
   "source": [
    "loans['loan_status'].value_counts()"
   ]
  },
  {
   "cell_type": "markdown",
   "metadata": {},
   "source": [
    "We are going to consider _Does not meet the credit policy. Status:Fully Paid_ as `Fully Paid` and _Does not meet the credit policy. Status:Charged Off_ as `Charged Off` although the do not meet the credit policy."
   ]
  },
  {
   "cell_type": "code",
   "execution_count": 11,
   "metadata": {},
   "outputs": [],
   "source": [
    "loans[loans['loan_status']==\"Does not meet the credit policy. Status:Fully Paid\"] = \"Fully Paid\"\n",
    "loans[loans['loan_status']==\"Does not meet the credit policy. Status:Charged Off\"] = \"Charged Off\""
   ]
  },
  {
   "cell_type": "code",
   "execution_count": 12,
   "metadata": {},
   "outputs": [
    {
     "data": {
      "text/plain": [
       "Current               843754\n",
       "Fully Paid            700678\n",
       "Charged Off           182960\n",
       "Late (31-120 days)     21742\n",
       "In Grace Period        11812\n",
       "Late (16-30 days)       4423\n",
       "Default                   57\n",
       "Name: loan_status, dtype: int64"
      ]
     },
     "execution_count": 12,
     "metadata": {},
     "output_type": "execute_result"
    }
   ],
   "source": [
    "loans['loan_status'].value_counts()"
   ]
  },
  {
   "cell_type": "markdown",
   "metadata": {},
   "source": [
    "Let's plot the distribution in a barplot:"
   ]
  },
  {
   "cell_type": "code",
   "execution_count": 34,
   "metadata": {},
   "outputs": [
    {
     "data": {
      "text/plain": [
       "Text(0.5,1,'Loan Status Count')"
      ]
     },
     "execution_count": 34,
     "metadata": {},
     "output_type": "execute_result"
    },
    {
     "data": {
      "image/png": "[encoded data removed]",
      "text/plain": [
       "<matplotlib.figure.Figure at 0x7fe1f7603780>"
      ]
     },
     "metadata": {},
     "output_type": "display_data"
    }
   ],
   "source": [
    "g = sns.countplot(x=\"loan_status\", data=loans)\n",
    "\n",
    "g.set_xlabel(\"\", fontsize=6)\n",
    "g.set_ylabel(\"Count\", fontsize=10)\n",
    "g.set_title(\"Loan Status Count\", fontsize=12)"
   ]
  },
  {
   "cell_type": "markdown",
   "metadata": {},
   "source": [
    "__Some other interesting analysis__"
   ]
  },
  {
   "cell_type": "code",
   "execution_count": 41,
   "metadata": {},
   "outputs": [
    {
     "ename": "ValueError",
     "evalue": "Neither the `x` nor `y` variable appears to be numeric.",
     "output_type": "error",
     "traceback": [
      "\u001b[0;31m---------------------------------------------------------------------------\u001b[0m",
      "\u001b[0;31mValueError\u001b[0m                                Traceback (most recent call last)",
      "\u001b[0;32m<ipython-input-41-7f0b200569da>\u001b[0m in \u001b[0;36m<module>\u001b[0;34m()\u001b[0m\n\u001b[0;32m----> 1\u001b[0;31m \u001b[0mg\u001b[0m \u001b[0;34m=\u001b[0m \u001b[0msns\u001b[0m\u001b[0;34m.\u001b[0m\u001b[0mboxplot\u001b[0m\u001b[0;34m(\u001b[0m\u001b[0mx\u001b[0m\u001b[0;34m=\u001b[0m\u001b[0;34m\"loan_status\"\u001b[0m\u001b[0;34m,\u001b[0m \u001b[0my\u001b[0m\u001b[0;34m=\u001b[0m\u001b[0;34m\"funded_amnt_inv\"\u001b[0m\u001b[0;34m,\u001b[0m \u001b[0mdata\u001b[0m\u001b[0;34m=\u001b[0m\u001b[0mloans\u001b[0m\u001b[0;34m)\u001b[0m\u001b[0;34m\u001b[0m\u001b[0m\n\u001b[0m\u001b[1;32m      2\u001b[0m \u001b[0;34m\u001b[0m\u001b[0m\n\u001b[1;32m      3\u001b[0m \u001b[0mg\u001b[0m\u001b[0;34m.\u001b[0m\u001b[0mset_xlabel\u001b[0m\u001b[0;34m(\u001b[0m\u001b[0;34m\"\"\u001b[0m\u001b[0;34m,\u001b[0m \u001b[0mfontsize\u001b[0m\u001b[0;34m=\u001b[0m\u001b[0;36m6\u001b[0m\u001b[0;34m)\u001b[0m\u001b[0;34m\u001b[0m\u001b[0m\n\u001b[1;32m      4\u001b[0m \u001b[0mg\u001b[0m\u001b[0;34m.\u001b[0m\u001b[0mset_ylabel\u001b[0m\u001b[0;34m(\u001b[0m\u001b[0;34m\"Loan Amount\"\u001b[0m\u001b[0;34m,\u001b[0m \u001b[0mfontsize\u001b[0m\u001b[0;34m=\u001b[0m\u001b[0;36m10\u001b[0m\u001b[0;34m)\u001b[0m\u001b[0;34m\u001b[0m\u001b[0m\n\u001b[1;32m      5\u001b[0m \u001b[0mg\u001b[0m\u001b[0;34m.\u001b[0m\u001b[0mset_title\u001b[0m\u001b[0;34m(\u001b[0m\u001b[0;34m\"Loan Amount distribution by Status\"\u001b[0m\u001b[0;34m,\u001b[0m \u001b[0mfontsize\u001b[0m\u001b[0;34m=\u001b[0m\u001b[0;36m12\u001b[0m\u001b[0;34m)\u001b[0m\u001b[0;34m\u001b[0m\u001b[0m\n",
      "\u001b[0;32m~/anaconda3/lib/python3.6/site-packages/seaborn/categorical.py\u001b[0m in \u001b[0;36mboxplot\u001b[0;34m(x, y, hue, data, order, hue_order, orient, color, palette, saturation, width, dodge, fliersize, linewidth, whis, notch, ax, **kwargs)\u001b[0m\n\u001b[1;32m   2209\u001b[0m     plotter = _BoxPlotter(x, y, hue, data, order, hue_order,\n\u001b[1;32m   2210\u001b[0m                           \u001b[0morient\u001b[0m\u001b[0;34m,\u001b[0m \u001b[0mcolor\u001b[0m\u001b[0;34m,\u001b[0m \u001b[0mpalette\u001b[0m\u001b[0;34m,\u001b[0m \u001b[0msaturation\u001b[0m\u001b[0;34m,\u001b[0m\u001b[0;34m\u001b[0m\u001b[0m\n\u001b[0;32m-> 2211\u001b[0;31m                           width, dodge, fliersize, linewidth)\n\u001b[0m\u001b[1;32m   2212\u001b[0m \u001b[0;34m\u001b[0m\u001b[0m\n\u001b[1;32m   2213\u001b[0m     \u001b[0;32mif\u001b[0m \u001b[0max\u001b[0m \u001b[0;32mis\u001b[0m \u001b[0;32mNone\u001b[0m\u001b[0;34m:\u001b[0m\u001b[0;34m\u001b[0m\u001b[0m\n",
      "\u001b[0;32m~/anaconda3/lib/python3.6/site-packages/seaborn/categorical.py\u001b[0m in \u001b[0;36m__init__\u001b[0;34m(self, x, y, hue, data, order, hue_order, orient, color, palette, saturation, width, dodge, fliersize, linewidth)\u001b[0m\n\u001b[1;32m    439\u001b[0m                  width, dodge, fliersize, linewidth):\n\u001b[1;32m    440\u001b[0m \u001b[0;34m\u001b[0m\u001b[0m\n\u001b[0;32m--> 441\u001b[0;31m         \u001b[0mself\u001b[0m\u001b[0;34m.\u001b[0m\u001b[0mestablish_variables\u001b[0m\u001b[0;34m(\u001b[0m\u001b[0mx\u001b[0m\u001b[0;34m,\u001b[0m \u001b[0my\u001b[0m\u001b[0;34m,\u001b[0m \u001b[0mhue\u001b[0m\u001b[0;34m,\u001b[0m \u001b[0mdata\u001b[0m\u001b[0;34m,\u001b[0m \u001b[0morient\u001b[0m\u001b[0;34m,\u001b[0m \u001b[0morder\u001b[0m\u001b[0;34m,\u001b[0m \u001b[0mhue_order\u001b[0m\u001b[0;34m)\u001b[0m\u001b[0;34m\u001b[0m\u001b[0m\n\u001b[0m\u001b[1;32m    442\u001b[0m         \u001b[0mself\u001b[0m\u001b[0;34m.\u001b[0m\u001b[0mestablish_colors\u001b[0m\u001b[0;34m(\u001b[0m\u001b[0mcolor\u001b[0m\u001b[0;34m,\u001b[0m \u001b[0mpalette\u001b[0m\u001b[0;34m,\u001b[0m \u001b[0msaturation\u001b[0m\u001b[0;34m)\u001b[0m\u001b[0;34m\u001b[0m\u001b[0m\n\u001b[1;32m    443\u001b[0m \u001b[0;34m\u001b[0m\u001b[0m\n",
      "\u001b[0;32m~/anaconda3/lib/python3.6/site-packages/seaborn/categorical.py\u001b[0m in \u001b[0;36mestablish_variables\u001b[0;34m(self, x, y, hue, data, orient, order, hue_order, units)\u001b[0m\n\u001b[1;32m    152\u001b[0m \u001b[0;34m\u001b[0m\u001b[0m\n\u001b[1;32m    153\u001b[0m             \u001b[0;31m# Figure out the plotting orientation\u001b[0m\u001b[0;34m\u001b[0m\u001b[0;34m\u001b[0m\u001b[0m\n\u001b[0;32m--> 154\u001b[0;31m             \u001b[0morient\u001b[0m \u001b[0;34m=\u001b[0m \u001b[0mself\u001b[0m\u001b[0;34m.\u001b[0m\u001b[0minfer_orient\u001b[0m\u001b[0;34m(\u001b[0m\u001b[0mx\u001b[0m\u001b[0;34m,\u001b[0m \u001b[0my\u001b[0m\u001b[0;34m,\u001b[0m \u001b[0morient\u001b[0m\u001b[0;34m)\u001b[0m\u001b[0;34m\u001b[0m\u001b[0m\n\u001b[0m\u001b[1;32m    155\u001b[0m \u001b[0;34m\u001b[0m\u001b[0m\n\u001b[1;32m    156\u001b[0m             \u001b[0;31m# Option 2a:\u001b[0m\u001b[0;34m\u001b[0m\u001b[0;34m\u001b[0m\u001b[0m\n",
      "\u001b[0;32m~/anaconda3/lib/python3.6/site-packages/seaborn/categorical.py\u001b[0m in \u001b[0;36minfer_orient\u001b[0;34m(self, x, y, orient)\u001b[0m\n\u001b[1;32m    355\u001b[0m         \u001b[0;32melif\u001b[0m \u001b[0mis_not_numeric\u001b[0m\u001b[0;34m(\u001b[0m\u001b[0my\u001b[0m\u001b[0;34m)\u001b[0m\u001b[0;34m:\u001b[0m\u001b[0;34m\u001b[0m\u001b[0m\n\u001b[1;32m    356\u001b[0m             \u001b[0;32mif\u001b[0m \u001b[0mis_not_numeric\u001b[0m\u001b[0;34m(\u001b[0m\u001b[0mx\u001b[0m\u001b[0;34m)\u001b[0m\u001b[0;34m:\u001b[0m\u001b[0;34m\u001b[0m\u001b[0m\n\u001b[0;32m--> 357\u001b[0;31m                 \u001b[0;32mraise\u001b[0m \u001b[0mValueError\u001b[0m\u001b[0;34m(\u001b[0m\u001b[0mno_numeric\u001b[0m\u001b[0;34m)\u001b[0m\u001b[0;34m\u001b[0m\u001b[0m\n\u001b[0m\u001b[1;32m    358\u001b[0m             \u001b[0;32melse\u001b[0m\u001b[0;34m:\u001b[0m\u001b[0;34m\u001b[0m\u001b[0m\n\u001b[1;32m    359\u001b[0m                 \u001b[0;32mreturn\u001b[0m \u001b[0;34m\"h\"\u001b[0m\u001b[0;34m\u001b[0m\u001b[0m\n",
      "\u001b[0;31mValueError\u001b[0m: Neither the `x` nor `y` variable appears to be numeric."
     ]
    }
   ],
   "source": [
    "g = sns.boxplot(x=\"loan_status\", y=\"funded_amnt_inv\", data=loans)\n",
    "\n",
    "g.set_xlabel(\"\", fontsize=6)\n",
    "g.set_ylabel(\"Loan Amount\", fontsize=10)\n",
    "g.set_title(\"Loan Amount distribution by Status\", fontsize=12)"
   ]
  },
  {
   "cell_type": "code",
   "execution_count": null,
   "metadata": {},
   "outputs": [],
   "source": []
  }
 ],
 "metadata": {
  "kernelspec": {
   "display_name": "Python 3",
   "language": "python",
   "name": "python3"
  },
  "language_info": {
   "codemirror_mode": {
    "name": "ipython",
    "version": 3
   },
   "file_extension": ".py",
   "mimetype": "text/x-python",
   "name": "python",
   "nbconvert_exporter": "python",
   "pygments_lexer": "ipython3",
   "version": "3.6.4"
  }
 },
 "nbformat": 4,
 "nbformat_minor": 2
}
