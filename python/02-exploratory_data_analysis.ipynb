{
 "cells": [
  {
   "cell_type": "markdown",
   "metadata": {},
   "source": [
    "Exploratory Data Analysis\n",
    "============="
   ]
  },
  {
   "cell_type": "markdown",
   "metadata": {},
   "source": [
    "### 01 - Introduction"
   ]
  },
  {
   "cell_type": "markdown",
   "metadata": {},
   "source": [
    "In this notebook we will make a Exploratory Data Analysis with the following goals in mind:\n",
    "\n",
    "* Process the variables for feeding machine learning model/s.\n",
    "* Analyze the features of our clean data in order to understand the relationship between them.\n",
    "* Answer the following questions:\n",
    "    1. Es mejor\n",
    "    2. Es peor\n",
    "    3. Es igual"
   ]
  },
  {
   "cell_type": "markdown",
   "metadata": {},
   "source": [
    "__Importing Libraries__"
   ]
  },
  {
   "cell_type": "code",
   "execution_count": 98,
   "metadata": {},
   "outputs": [],
   "source": [
    "import pandas as pd\n",
    "import numpy as np\n",
    "import matplotlib.pyplot as plt; plt.style.use(\"ggplot\")\n",
    "import seaborn as sns\n",
    "from matplotlib import rcParams\n",
    "\n",
    "%matplotlib inline\n",
    "# figure size\n",
    "rcParams['figure.figsize'] = 11,6"
   ]
  },
  {
   "cell_type": "markdown",
   "metadata": {},
   "source": [
    "### 02 - Knowing our data"
   ]
  },
  {
   "cell_type": "markdown",
   "metadata": {},
   "source": [
    "Reading data:"
   ]
  },
  {
   "cell_type": "code",
   "execution_count": 99,
   "metadata": {},
   "outputs": [],
   "source": [
    "loans = pd.read_csv(\"../data/clean/loans.csv\", sep = \"^\")"
   ]
  },
  {
   "cell_type": "code",
   "execution_count": 100,
   "metadata": {},
   "outputs": [
    {
     "data": {
      "text/html": [
       "<div>\n",
       "<style scoped>\n",
       "    .dataframe tbody tr th:only-of-type {\n",
       "        vertical-align: middle;\n",
       "    }\n",
       "\n",
       "    .dataframe tbody tr th {\n",
       "        vertical-align: top;\n",
       "    }\n",
       "\n",
       "    .dataframe thead th {\n",
       "        text-align: right;\n",
       "    }\n",
       "</style>\n",
       "<table border=\"1\" class=\"dataframe\">\n",
       "  <thead>\n",
       "    <tr style=\"text-align: right;\">\n",
       "      <th></th>\n",
       "      <th>funded_amnt_inv</th>\n",
       "      <th>term</th>\n",
       "      <th>issue_d</th>\n",
       "      <th>installment</th>\n",
       "      <th>int_rate</th>\n",
       "      <th>grade</th>\n",
       "      <th>emp_title</th>\n",
       "      <th>emp_length</th>\n",
       "      <th>annual_inc</th>\n",
       "      <th>title</th>\n",
       "      <th>dti</th>\n",
       "      <th>home_ownership</th>\n",
       "      <th>zip_code</th>\n",
       "      <th>addr_state</th>\n",
       "      <th>last_pymnt_amnt</th>\n",
       "      <th>total_pymnt_inv</th>\n",
       "      <th>total_rec_late_fee</th>\n",
       "      <th>application_type</th>\n",
       "      <th>total_acc</th>\n",
       "      <th>loan_status</th>\n",
       "    </tr>\n",
       "  </thead>\n",
       "  <tbody>\n",
       "    <tr>\n",
       "      <th>0</th>\n",
       "      <td>10000.0</td>\n",
       "      <td>60 months</td>\n",
       "      <td>Mar-2016</td>\n",
       "      <td>262.34</td>\n",
       "      <td>19.53%</td>\n",
       "      <td>D</td>\n",
       "      <td>lpn/charge nurse</td>\n",
       "      <td>4 years</td>\n",
       "      <td>52000.0</td>\n",
       "      <td>Other</td>\n",
       "      <td>15.00</td>\n",
       "      <td>OWN</td>\n",
       "      <td>317xx</td>\n",
       "      <td>GA</td>\n",
       "      <td>9575.49</td>\n",
       "      <td>11127.83</td>\n",
       "      <td>0.0</td>\n",
       "      <td>Individual</td>\n",
       "      <td>12.0</td>\n",
       "      <td>Fully Paid</td>\n",
       "    </tr>\n",
       "    <tr>\n",
       "      <th>1</th>\n",
       "      <td>35000.0</td>\n",
       "      <td>60 months</td>\n",
       "      <td>Mar-2016</td>\n",
       "      <td>941.96</td>\n",
       "      <td>20.75%</td>\n",
       "      <td>E</td>\n",
       "      <td>Coiler</td>\n",
       "      <td>3 years</td>\n",
       "      <td>85000.0</td>\n",
       "      <td>Debt consolidation</td>\n",
       "      <td>24.98</td>\n",
       "      <td>MORTGAGE</td>\n",
       "      <td>144xx</td>\n",
       "      <td>NY</td>\n",
       "      <td>509.10</td>\n",
       "      <td>37226.47</td>\n",
       "      <td>0.0</td>\n",
       "      <td>Individual</td>\n",
       "      <td>19.0</td>\n",
       "      <td>Fully Paid</td>\n",
       "    </tr>\n",
       "    <tr>\n",
       "      <th>2</th>\n",
       "      <td>20000.0</td>\n",
       "      <td>60 months</td>\n",
       "      <td>Mar-2016</td>\n",
       "      <td>416.73</td>\n",
       "      <td>9.16%</td>\n",
       "      <td>B</td>\n",
       "      <td>Reliability Engineer</td>\n",
       "      <td>1 year</td>\n",
       "      <td>77000.0</td>\n",
       "      <td>Home improvement</td>\n",
       "      <td>13.75</td>\n",
       "      <td>MORTGAGE</td>\n",
       "      <td>606xx</td>\n",
       "      <td>IL</td>\n",
       "      <td>416.73</td>\n",
       "      <td>9147.70</td>\n",
       "      <td>0.0</td>\n",
       "      <td>Individual</td>\n",
       "      <td>19.0</td>\n",
       "      <td>Current</td>\n",
       "    </tr>\n",
       "    <tr>\n",
       "      <th>3</th>\n",
       "      <td>17475.0</td>\n",
       "      <td>60 months</td>\n",
       "      <td>Mar-2016</td>\n",
       "      <td>384.06</td>\n",
       "      <td>11.47%</td>\n",
       "      <td>B</td>\n",
       "      <td>NaN</td>\n",
       "      <td>NaN</td>\n",
       "      <td>41682.0</td>\n",
       "      <td>Debt consolidation</td>\n",
       "      <td>30.06</td>\n",
       "      <td>MORTGAGE</td>\n",
       "      <td>796xx</td>\n",
       "      <td>TX</td>\n",
       "      <td>384.06</td>\n",
       "      <td>8432.61</td>\n",
       "      <td>0.0</td>\n",
       "      <td>Individual</td>\n",
       "      <td>18.0</td>\n",
       "      <td>Current</td>\n",
       "    </tr>\n",
       "    <tr>\n",
       "      <th>4</th>\n",
       "      <td>8000.0</td>\n",
       "      <td>36 months</td>\n",
       "      <td>Mar-2016</td>\n",
       "      <td>255.00</td>\n",
       "      <td>9.16%</td>\n",
       "      <td>B</td>\n",
       "      <td>Technician</td>\n",
       "      <td>10+ years</td>\n",
       "      <td>72000.0</td>\n",
       "      <td>Debt consolidation</td>\n",
       "      <td>22.63</td>\n",
       "      <td>RENT</td>\n",
       "      <td>217xx</td>\n",
       "      <td>MD</td>\n",
       "      <td>255.00</td>\n",
       "      <td>5601.86</td>\n",
       "      <td>0.0</td>\n",
       "      <td>Individual</td>\n",
       "      <td>12.0</td>\n",
       "      <td>Current</td>\n",
       "    </tr>\n",
       "    <tr>\n",
       "      <th>5</th>\n",
       "      <td>14400.0</td>\n",
       "      <td>36 months</td>\n",
       "      <td>Mar-2016</td>\n",
       "      <td>469.74</td>\n",
       "      <td>10.75%</td>\n",
       "      <td>B</td>\n",
       "      <td>Coder</td>\n",
       "      <td>10+ years</td>\n",
       "      <td>85000.0</td>\n",
       "      <td>Business</td>\n",
       "      <td>28.11</td>\n",
       "      <td>MORTGAGE</td>\n",
       "      <td>037xx</td>\n",
       "      <td>NH</td>\n",
       "      <td>10992.93</td>\n",
       "      <td>15673.13</td>\n",
       "      <td>0.0</td>\n",
       "      <td>Individual</td>\n",
       "      <td>33.0</td>\n",
       "      <td>Fully Paid</td>\n",
       "    </tr>\n",
       "    <tr>\n",
       "      <th>6</th>\n",
       "      <td>18000.0</td>\n",
       "      <td>60 months</td>\n",
       "      <td>Mar-2016</td>\n",
       "      <td>400.31</td>\n",
       "      <td>11.99%</td>\n",
       "      <td>C</td>\n",
       "      <td>Registered Nurse</td>\n",
       "      <td>6 years</td>\n",
       "      <td>100000.0</td>\n",
       "      <td>Debt consolidation</td>\n",
       "      <td>20.41</td>\n",
       "      <td>MORTGAGE</td>\n",
       "      <td>986xx</td>\n",
       "      <td>WA</td>\n",
       "      <td>14885.49</td>\n",
       "      <td>20465.85</td>\n",
       "      <td>0.0</td>\n",
       "      <td>Individual</td>\n",
       "      <td>40.0</td>\n",
       "      <td>Fully Paid</td>\n",
       "    </tr>\n",
       "    <tr>\n",
       "      <th>7</th>\n",
       "      <td>5800.0</td>\n",
       "      <td>36 months</td>\n",
       "      <td>Mar-2016</td>\n",
       "      <td>191.18</td>\n",
       "      <td>11.47%</td>\n",
       "      <td>B</td>\n",
       "      <td>shipping</td>\n",
       "      <td>2 years</td>\n",
       "      <td>21000.0</td>\n",
       "      <td>NaN</td>\n",
       "      <td>16.91</td>\n",
       "      <td>RENT</td>\n",
       "      <td>799xx</td>\n",
       "      <td>TX</td>\n",
       "      <td>191.18</td>\n",
       "      <td>4198.57</td>\n",
       "      <td>0.0</td>\n",
       "      <td>Individual</td>\n",
       "      <td>10.0</td>\n",
       "      <td>Current</td>\n",
       "    </tr>\n",
       "    <tr>\n",
       "      <th>8</th>\n",
       "      <td>12500.0</td>\n",
       "      <td>60 months</td>\n",
       "      <td>Mar-2016</td>\n",
       "      <td>293.85</td>\n",
       "      <td>14.46%</td>\n",
       "      <td>C</td>\n",
       "      <td>Occupational Therapist Assisstant</td>\n",
       "      <td>1 year</td>\n",
       "      <td>91000.0</td>\n",
       "      <td>Debt consolidation</td>\n",
       "      <td>11.83</td>\n",
       "      <td>RENT</td>\n",
       "      <td>270xx</td>\n",
       "      <td>NC</td>\n",
       "      <td>293.85</td>\n",
       "      <td>6444.62</td>\n",
       "      <td>0.0</td>\n",
       "      <td>Individual</td>\n",
       "      <td>15.0</td>\n",
       "      <td>Current</td>\n",
       "    </tr>\n",
       "    <tr>\n",
       "      <th>9</th>\n",
       "      <td>3000.0</td>\n",
       "      <td>36 months</td>\n",
       "      <td>Mar-2016</td>\n",
       "      <td>93.17</td>\n",
       "      <td>7.39%</td>\n",
       "      <td>A</td>\n",
       "      <td>account sales manager</td>\n",
       "      <td>10+ years</td>\n",
       "      <td>90000.0</td>\n",
       "      <td>Home improvement</td>\n",
       "      <td>1.23</td>\n",
       "      <td>MORTGAGE</td>\n",
       "      <td>184xx</td>\n",
       "      <td>PA</td>\n",
       "      <td>93.17</td>\n",
       "      <td>2047.58</td>\n",
       "      <td>0.0</td>\n",
       "      <td>Individual</td>\n",
       "      <td>25.0</td>\n",
       "      <td>Current</td>\n",
       "    </tr>\n",
       "  </tbody>\n",
       "</table>\n",
       "</div>"
      ],
      "text/plain": [
       "   funded_amnt_inv        term   issue_d  installment int_rate grade  \\\n",
       "0          10000.0   60 months  Mar-2016       262.34   19.53%     D   \n",
       "1          35000.0   60 months  Mar-2016       941.96   20.75%     E   \n",
       "2          20000.0   60 months  Mar-2016       416.73    9.16%     B   \n",
       "3          17475.0   60 months  Mar-2016       384.06   11.47%     B   \n",
       "4           8000.0   36 months  Mar-2016       255.00    9.16%     B   \n",
       "5          14400.0   36 months  Mar-2016       469.74   10.75%     B   \n",
       "6          18000.0   60 months  Mar-2016       400.31   11.99%     C   \n",
       "7           5800.0   36 months  Mar-2016       191.18   11.47%     B   \n",
       "8          12500.0   60 months  Mar-2016       293.85   14.46%     C   \n",
       "9           3000.0   36 months  Mar-2016        93.17    7.39%     A   \n",
       "\n",
       "                           emp_title emp_length  annual_inc  \\\n",
       "0                   lpn/charge nurse    4 years     52000.0   \n",
       "1                             Coiler    3 years     85000.0   \n",
       "2               Reliability Engineer     1 year     77000.0   \n",
       "3                                NaN        NaN     41682.0   \n",
       "4                         Technician  10+ years     72000.0   \n",
       "5                              Coder  10+ years     85000.0   \n",
       "6                   Registered Nurse    6 years    100000.0   \n",
       "7                           shipping    2 years     21000.0   \n",
       "8  Occupational Therapist Assisstant     1 year     91000.0   \n",
       "9              account sales manager  10+ years     90000.0   \n",
       "\n",
       "                title    dti home_ownership zip_code addr_state  \\\n",
       "0               Other  15.00            OWN    317xx         GA   \n",
       "1  Debt consolidation  24.98       MORTGAGE    144xx         NY   \n",
       "2    Home improvement  13.75       MORTGAGE    606xx         IL   \n",
       "3  Debt consolidation  30.06       MORTGAGE    796xx         TX   \n",
       "4  Debt consolidation  22.63           RENT    217xx         MD   \n",
       "5            Business  28.11       MORTGAGE    037xx         NH   \n",
       "6  Debt consolidation  20.41       MORTGAGE    986xx         WA   \n",
       "7                 NaN  16.91           RENT    799xx         TX   \n",
       "8  Debt consolidation  11.83           RENT    270xx         NC   \n",
       "9    Home improvement   1.23       MORTGAGE    184xx         PA   \n",
       "\n",
       "   last_pymnt_amnt  total_pymnt_inv  total_rec_late_fee application_type  \\\n",
       "0          9575.49         11127.83                 0.0       Individual   \n",
       "1           509.10         37226.47                 0.0       Individual   \n",
       "2           416.73          9147.70                 0.0       Individual   \n",
       "3           384.06          8432.61                 0.0       Individual   \n",
       "4           255.00          5601.86                 0.0       Individual   \n",
       "5         10992.93         15673.13                 0.0       Individual   \n",
       "6         14885.49         20465.85                 0.0       Individual   \n",
       "7           191.18          4198.57                 0.0       Individual   \n",
       "8           293.85          6444.62                 0.0       Individual   \n",
       "9            93.17          2047.58                 0.0       Individual   \n",
       "\n",
       "   total_acc loan_status  \n",
       "0       12.0  Fully Paid  \n",
       "1       19.0  Fully Paid  \n",
       "2       19.0     Current  \n",
       "3       18.0     Current  \n",
       "4       12.0     Current  \n",
       "5       33.0  Fully Paid  \n",
       "6       40.0  Fully Paid  \n",
       "7       10.0     Current  \n",
       "8       15.0     Current  \n",
       "9       25.0     Current  "
      ]
     },
     "execution_count": 100,
     "metadata": {},
     "output_type": "execute_result"
    }
   ],
   "source": [
    "loans.head(10)"
   ]
  },
  {
   "cell_type": "code",
   "execution_count": 101,
   "metadata": {},
   "outputs": [
    {
     "data": {
      "text/plain": [
       "(1765426, 20)"
      ]
     },
     "execution_count": 101,
     "metadata": {},
     "output_type": "execute_result"
    }
   ],
   "source": [
    "loans.shape"
   ]
  },
  {
   "cell_type": "markdown",
   "metadata": {},
   "source": [
    "Variable types:"
   ]
  },
  {
   "cell_type": "code",
   "execution_count": 102,
   "metadata": {
    "scrolled": false
   },
   "outputs": [
    {
     "name": "stdout",
     "output_type": "stream",
     "text": [
      "<class 'pandas.core.frame.DataFrame'>\n",
      "RangeIndex: 1765426 entries, 0 to 1765425\n",
      "Data columns (total 20 columns):\n",
      "funded_amnt_inv       float64\n",
      "term                  object\n",
      "issue_d               object\n",
      "installment           float64\n",
      "int_rate              object\n",
      "grade                 object\n",
      "emp_title             object\n",
      "emp_length            object\n",
      "annual_inc            float64\n",
      "title                 object\n",
      "dti                   float64\n",
      "home_ownership        object\n",
      "zip_code              object\n",
      "addr_state            object\n",
      "last_pymnt_amnt       float64\n",
      "total_pymnt_inv       float64\n",
      "total_rec_late_fee    float64\n",
      "application_type      object\n",
      "total_acc             float64\n",
      "loan_status           object\n",
      "dtypes: float64(8), object(12)\n",
      "memory usage: 269.4+ MB\n"
     ]
    }
   ],
   "source": [
    "loans.info()"
   ]
  },
  {
   "cell_type": "code",
   "execution_count": 106,
   "metadata": {},
   "outputs": [
    {
     "data": {
      "text/plain": [
       "funded_amnt_inv            0\n",
       "term                       0\n",
       "issue_d                    0\n",
       "installment                0\n",
       "int_rate                   0\n",
       "grade                      0\n",
       "emp_title             112310\n",
       "emp_length            104920\n",
       "annual_inc                 4\n",
       "title                  23325\n",
       "dti                      579\n",
       "home_ownership             0\n",
       "zip_code                   1\n",
       "addr_state                 0\n",
       "last_pymnt_amnt            0\n",
       "total_pymnt_inv            0\n",
       "total_rec_late_fee         0\n",
       "application_type           0\n",
       "total_acc                 29\n",
       "loan_status                0\n",
       "dtype: int64"
      ]
     },
     "execution_count": 106,
     "metadata": {},
     "output_type": "execute_result"
    }
   ],
   "source": [
    "loans.isnull().sum()"
   ]
  },
  {
   "cell_type": "markdown",
   "metadata": {},
   "source": [
    "### 03 - Preprocessing"
   ]
  },
  {
   "cell_type": "markdown",
   "metadata": {},
   "source": [
    "__Loan Status__:"
   ]
  },
  {
   "cell_type": "code",
   "execution_count": 103,
   "metadata": {},
   "outputs": [
    {
     "data": {
      "text/plain": [
       "Current                                                843754\n",
       "Fully Paid                                             698690\n",
       "Charged Off                                            182199\n",
       "Late (31-120 days)                                      21742\n",
       "In Grace Period                                         11812\n",
       "Late (16-30 days)                                        4423\n",
       "Does not meet the credit policy. Status:Fully Paid       1988\n",
       "Does not meet the credit policy. Status:Charged Off       761\n",
       "Default                                                    57\n",
       "Name: loan_status, dtype: int64"
      ]
     },
     "execution_count": 103,
     "metadata": {},
     "output_type": "execute_result"
    }
   ],
   "source": [
    "loans['loan_status'].value_counts()"
   ]
  },
  {
   "cell_type": "markdown",
   "metadata": {},
   "source": [
    "`loan_status` is the current status of the loan. This is the variable we want to predict in our machine learning model. For this variable, we are going to considerar three labels:\n",
    "- 0: loans that have already been paid.\n",
    "- 1: default or charged off loans.\n",
    "- 2: current loans (rest of the cases), where we don't know if they are going to be paid or not.\n",
    "\n",
    "We will use labels 0 and 1 for training and testing our model. Label 2 is going to use just for predicting."
   ]
  },
  {
   "cell_type": "code",
   "execution_count": 104,
   "metadata": {},
   "outputs": [],
   "source": [
    "def process_loan_status(loan_status):\n",
    "    \n",
    "    loan_status_dict = {\n",
    "    \"Current\": 2,\n",
    "    \"Fully Paid\": 0,\n",
    "    \"Charged Off\": 1,\n",
    "    \"Late (31-120 days)\": 2,\n",
    "    \"In Grace Period\": 2,\n",
    "    \"Late (16-30 days)\": 2,\n",
    "    \"Does not meet the credit policy. Status:Fully Paid\": 0,\n",
    "    \"Does not meet the credit policy. Status:Charged Off\": 1,\n",
    "    \"Default\": 1\n",
    "    }\n",
    "    \n",
    "    return loan_status_dict[loan_status]"
   ]
  },
  {
   "cell_type": "code",
   "execution_count": 105,
   "metadata": {},
   "outputs": [],
   "source": [
    "loans['loan_status'] = loans['loan_status'].map(process_loan_status).\\\n",
    "                            astype('category')"
   ]
  },
  {
   "cell_type": "code",
   "execution_count": null,
   "metadata": {},
   "outputs": [],
   "source": []
  },
  {
   "cell_type": "code",
   "execution_count": null,
   "metadata": {},
   "outputs": [],
   "source": []
  },
  {
   "cell_type": "code",
   "execution_count": null,
   "metadata": {},
   "outputs": [],
   "source": []
  },
  {
   "cell_type": "code",
   "execution_count": null,
   "metadata": {},
   "outputs": [],
   "source": []
  },
  {
   "cell_type": "code",
   "execution_count": null,
   "metadata": {},
   "outputs": [],
   "source": []
  },
  {
   "cell_type": "code",
   "execution_count": null,
   "metadata": {},
   "outputs": [],
   "source": []
  },
  {
   "cell_type": "markdown",
   "metadata": {},
   "source": [
    "### 04 - Loan Status Analysis"
   ]
  },
  {
   "cell_type": "markdown",
   "metadata": {},
   "source": [
    "Since one of our project main goals is to predict whether a debt is going to be paid or not, this part of the analysis will focus on `loan_status` variable, i. e., the current status of the loan.\n",
    "\n",
    "__Loan status distribution__:"
   ]
  },
  {
   "cell_type": "code",
   "execution_count": 7,
   "metadata": {},
   "outputs": [
    {
     "data": {
      "text/plain": [
       "Current                                                843754\n",
       "Fully Paid                                             698690\n",
       "Charged Off                                            182199\n",
       "Late (31-120 days)                                      21742\n",
       "In Grace Period                                         11812\n",
       "Late (16-30 days)                                        4423\n",
       "Does not meet the credit policy. Status:Fully Paid       1988\n",
       "Does not meet the credit policy. Status:Charged Off       761\n",
       "Default                                                    57\n",
       "Name: loan_status, dtype: int64"
      ]
     },
     "execution_count": 7,
     "metadata": {},
     "output_type": "execute_result"
    }
   ],
   "source": [
    "loans['loan_status'].value_counts()"
   ]
  },
  {
   "cell_type": "markdown",
   "metadata": {},
   "source": [
    "We are going to consider _Does not meet the credit policy. Status:Fully Paid_ as `Fully Paid` and _Does not meet the credit policy. Status:Charged Off_ as `Charged Off` although the do not meet the credit policy."
   ]
  },
  {
   "cell_type": "code",
   "execution_count": 8,
   "metadata": {},
   "outputs": [],
   "source": [
    "loans.loc[loans['loan_status']==\"Does not meet the credit policy. Status:Fully Paid\", 'loan_status'] = \"Fully Paid\"\n",
    "loans.loc[loans['loan_status']==\"Does not meet the credit policy. Status:Charged Off\", 'loan_status'] = \"Charged Off\""
   ]
  },
  {
   "cell_type": "code",
   "execution_count": 9,
   "metadata": {},
   "outputs": [
    {
     "data": {
      "text/plain": [
       "Current               843754\n",
       "Fully Paid            700678\n",
       "Charged Off           182960\n",
       "Late (31-120 days)     21742\n",
       "In Grace Period        11812\n",
       "Late (16-30 days)       4423\n",
       "Default                   57\n",
       "Name: loan_status, dtype: int64"
      ]
     },
     "execution_count": 9,
     "metadata": {},
     "output_type": "execute_result"
    }
   ],
   "source": [
    "loans['loan_status'].value_counts()"
   ]
  },
  {
   "cell_type": "markdown",
   "metadata": {},
   "source": [
    "Let's plot the distribution in a barplot:"
   ]
  },
  {
   "cell_type": "code",
   "execution_count": 22,
   "metadata": {},
   "outputs": [
    {
     "data": {
      "text/plain": [
       "Text(0.5,1,'Loan Status Count')"
      ]
     },
     "execution_count": 22,
     "metadata": {},
     "output_type": "execute_result"
    },
    {
     "data": {
      "image/png": "[encoded data removed]",
      "text/plain": [
       "<matplotlib.figure.Figure at 0x7fe0068676a0>"
      ]
     },
     "metadata": {},
     "output_type": "display_data"
    }
   ],
   "source": [
    "g = sns.countplot(x=\"loan_status\", data=loans)\n",
    "\n",
    "g.set_xlabel(\"\", fontsize=6)\n",
    "g.set_ylabel(\"Count\", fontsize=10)\n",
    "g.set_title(\"Loan Status Count\", fontsize=12)"
   ]
  },
  {
   "cell_type": "markdown",
   "metadata": {},
   "source": [
    "__Loan status by funded amount__"
   ]
  },
  {
   "cell_type": "code",
   "execution_count": 26,
   "metadata": {},
   "outputs": [
    {
     "data": {
      "text/plain": [
       "Text(0.5,1,'Loan Amount distribution by Status')"
      ]
     },
     "execution_count": 26,
     "metadata": {},
     "output_type": "execute_result"
    },
    {
     "data": {
      "image/png": "[encoded data removed]",
      "text/plain": [
       "<matplotlib.figure.Figure at 0x7fdff62cc4e0>"
      ]
     },
     "metadata": {},
     "output_type": "display_data"
    }
   ],
   "source": [
    "g = sns.boxplot(x=\"loan_status\", y=\"funded_amnt_inv\", \n",
    "                data=loans, notch = True) # notch for showing 95% confidence interval for the median\n",
    "\n",
    "g.set_xlabel(\"\", fontsize=6)\n",
    "g.set_ylabel(\"Loan Amount\", fontsize=10)\n",
    "g.set_title(\"Loan Amount distribution by Status\", fontsize=12)"
   ]
  },
  {
   "cell_type": "markdown",
   "metadata": {},
   "source": [
    "It seems that there is not evidence that _default_ loan amounts are higher or lower than the _fully paid_. "
   ]
  },
  {
   "cell_type": "markdown",
   "metadata": {},
   "source": [
    "__Loan status by year__"
   ]
  },
  {
   "cell_type": "markdown",
   "metadata": {},
   "source": [
    "For this analysis we have to preprocess the `issue_d` variable. We are only interested in the year of the loan and we will not consider it as date or numeric variable but categorical:"
   ]
  },
  {
   "cell_type": "code",
   "execution_count": 29,
   "metadata": {},
   "outputs": [],
   "source": [
    "loans['issue_d'] = loans['issue_d'].map(lambda x: x[4:])"
   ]
  },
  {
   "cell_type": "code",
   "execution_count": 30,
   "metadata": {},
   "outputs": [
    {
     "data": {
      "text/plain": [
       "Text(0.5,1,'Loan Status by Year')"
      ]
     },
     "execution_count": 30,
     "metadata": {},
     "output_type": "execute_result"
    },
    {
     "data": {
      "image/png": "[encoded data removed]",
      "text/plain": [
       "<matplotlib.figure.Figure at 0x7fdfe00724a8>"
      ]
     },
     "metadata": {},
     "output_type": "display_data"
    }
   ],
   "source": [
    "g = sns.countplot(x='issue_d', data=loans,\n",
    "                  hue='loan_status')\n",
    "\n",
    "g.set_xlabel(\"Dates\", fontsize=15)\n",
    "g.set_ylabel(\"Count\", fontsize=15)\n",
    "g.legend(loc=\"upper left\")\n",
    "g.set_title(\"Loan Status by Year\")"
   ]
  },
  {
   "cell_type": "markdown",
   "metadata": {},
   "source": [
    "Although the number of issued loans has been increased exponentially since 2007, the ratio between those loans that have been paid and those that have not been paid seems to be unvariable regardless of the year and the amount of issued loans."
   ]
  },
  {
   "cell_type": "markdown",
   "metadata": {},
   "source": [
    "__Unpaid loans by Year__"
   ]
  },
  {
   "cell_type": "code",
   "execution_count": 43,
   "metadata": {},
   "outputs": [
    {
     "data": {
      "text/plain": [
       "(183017, 20)"
      ]
     },
     "execution_count": 43,
     "metadata": {},
     "output_type": "execute_result"
    }
   ],
   "source": [
    "loans[(loans['loan_status']==\"Charged Off\") | (loans['loan_status']==\"Default\")].shape"
   ]
  },
  {
   "cell_type": "code",
   "execution_count": 47,
   "metadata": {},
   "outputs": [
    {
     "data": {
      "text/plain": [
       "Text(0.5,1,'Defaults by Year')"
      ]
     },
     "execution_count": 47,
     "metadata": {},
     "output_type": "execute_result"
    },
    {
     "data": {
      "image/png": "[encoded data removed]",
      "text/plain": [
       "<matplotlib.figure.Figure at 0x7fdfdfd496a0>"
      ]
     },
     "metadata": {},
     "output_type": "display_data"
    }
   ],
   "source": [
    "g = sns.countplot(x=\"issue_d\", data=loans[(loans['loan_status']==\"Charged Off\") | \n",
    "                                          (loans['loan_status']==\"Default\")])\n",
    "\n",
    "g.set_xlabel(\"Dates\", fontsize=15)\n",
    "g.set_ylabel(\"Count\", fontsize=15)\n",
    "g.set_title(\"Defaults by Year\")"
   ]
  },
  {
   "cell_type": "markdown",
   "metadata": {},
   "source": [
    "__Purpuse of the loan__"
   ]
  },
  {
   "cell_type": "code",
   "execution_count": null,
   "metadata": {},
   "outputs": [],
   "source": [
    "def crosstab(variable_1, variable_2):\n",
    "    return variable_1, "
   ]
  },
  {
   "cell_type": "code",
   "execution_count": 69,
   "metadata": {},
   "outputs": [
    {
     "data": {
      "text/plain": [
       "MORTGAGE    872230\n",
       "RENT        699523\n",
       "OWN         192929\n",
       "ANY            508\n",
       "OTHER          182\n",
       "NONE            54\n",
       "Name: home_ownership, dtype: int64"
      ]
     },
     "execution_count": 69,
     "metadata": {},
     "output_type": "execute_result"
    }
   ],
   "source": [
    "loans['home_ownership'].value_counts()"
   ]
  },
  {
   "cell_type": "code",
   "execution_count": 70,
   "metadata": {},
   "outputs": [
    {
     "data": {
      "text/html": [
       "<style  type=\"text/css\" >\n",
       "    #T_8a4fcd76_56ce_11e8_a719_34de1a699457row0_col0 {\n",
       "            background-color:  #e5ffe5;\n",
       "        }    #T_8a4fcd76_56ce_11e8_a719_34de1a699457row0_col1 {\n",
       "            background-color:  #e5ffe5;\n",
       "        }    #T_8a4fcd76_56ce_11e8_a719_34de1a699457row0_col2 {\n",
       "            background-color:  #e5ffe5;\n",
       "        }    #T_8a4fcd76_56ce_11e8_a719_34de1a699457row0_col3 {\n",
       "            background-color:  #e5ffe5;\n",
       "        }    #T_8a4fcd76_56ce_11e8_a719_34de1a699457row0_col4 {\n",
       "            background-color:  #e5ffe5;\n",
       "        }    #T_8a4fcd76_56ce_11e8_a719_34de1a699457row0_col5 {\n",
       "            background-color:  #e5ffe5;\n",
       "        }    #T_8a4fcd76_56ce_11e8_a719_34de1a699457row0_col6 {\n",
       "            background-color:  #e5ffe5;\n",
       "        }    #T_8a4fcd76_56ce_11e8_a719_34de1a699457row0_col7 {\n",
       "            background-color:  #e5ffe5;\n",
       "        }    #T_8a4fcd76_56ce_11e8_a719_34de1a699457row0_col8 {\n",
       "            background-color:  #e5ffe5;\n",
       "        }    #T_8a4fcd76_56ce_11e8_a719_34de1a699457row1_col0 {\n",
       "            background-color:  #108910;\n",
       "        }    #T_8a4fcd76_56ce_11e8_a719_34de1a699457row1_col1 {\n",
       "            background-color:  #008000;\n",
       "        }    #T_8a4fcd76_56ce_11e8_a719_34de1a699457row1_col2 {\n",
       "            background-color:  #60b560;\n",
       "        }    #T_8a4fcd76_56ce_11e8_a719_34de1a699457row1_col3 {\n",
       "            background-color:  #028102;\n",
       "        }    #T_8a4fcd76_56ce_11e8_a719_34de1a699457row1_col4 {\n",
       "            background-color:  #008000;\n",
       "        }    #T_8a4fcd76_56ce_11e8_a719_34de1a699457row1_col5 {\n",
       "            background-color:  #008000;\n",
       "        }    #T_8a4fcd76_56ce_11e8_a719_34de1a699457row1_col6 {\n",
       "            background-color:  #008000;\n",
       "        }    #T_8a4fcd76_56ce_11e8_a719_34de1a699457row1_col7 {\n",
       "            background-color:  #008000;\n",
       "        }    #T_8a4fcd76_56ce_11e8_a719_34de1a699457row1_col8 {\n",
       "            background-color:  #118911;\n",
       "        }    #T_8a4fcd76_56ce_11e8_a719_34de1a699457row2_col0 {\n",
       "            background-color:  #e5ffe5;\n",
       "        }    #T_8a4fcd76_56ce_11e8_a719_34de1a699457row2_col1 {\n",
       "            background-color:  #e5ffe5;\n",
       "        }    #T_8a4fcd76_56ce_11e8_a719_34de1a699457row2_col2 {\n",
       "            background-color:  #e5ffe5;\n",
       "        }    #T_8a4fcd76_56ce_11e8_a719_34de1a699457row2_col3 {\n",
       "            background-color:  #e5ffe5;\n",
       "        }    #T_8a4fcd76_56ce_11e8_a719_34de1a699457row2_col4 {\n",
       "            background-color:  #e5ffe5;\n",
       "        }    #T_8a4fcd76_56ce_11e8_a719_34de1a699457row2_col5 {\n",
       "            background-color:  #e5ffe5;\n",
       "        }    #T_8a4fcd76_56ce_11e8_a719_34de1a699457row2_col6 {\n",
       "            background-color:  #e5ffe5;\n",
       "        }    #T_8a4fcd76_56ce_11e8_a719_34de1a699457row2_col7 {\n",
       "            background-color:  #e5ffe5;\n",
       "        }    #T_8a4fcd76_56ce_11e8_a719_34de1a699457row2_col8 {\n",
       "            background-color:  #e5ffe5;\n",
       "        }    #T_8a4fcd76_56ce_11e8_a719_34de1a699457row3_col0 {\n",
       "            background-color:  #e5ffe5;\n",
       "        }    #T_8a4fcd76_56ce_11e8_a719_34de1a699457row3_col1 {\n",
       "            background-color:  #e5ffe5;\n",
       "        }    #T_8a4fcd76_56ce_11e8_a719_34de1a699457row3_col2 {\n",
       "            background-color:  #e5ffe5;\n",
       "        }    #T_8a4fcd76_56ce_11e8_a719_34de1a699457row3_col3 {\n",
       "            background-color:  #defbde;\n",
       "        }    #T_8a4fcd76_56ce_11e8_a719_34de1a699457row3_col4 {\n",
       "            background-color:  #dffcdf;\n",
       "        }    #T_8a4fcd76_56ce_11e8_a719_34de1a699457row3_col5 {\n",
       "            background-color:  #e5ffe5;\n",
       "        }    #T_8a4fcd76_56ce_11e8_a719_34de1a699457row3_col6 {\n",
       "            background-color:  #e5ffe5;\n",
       "        }    #T_8a4fcd76_56ce_11e8_a719_34de1a699457row3_col7 {\n",
       "            background-color:  #e5ffe5;\n",
       "        }    #T_8a4fcd76_56ce_11e8_a719_34de1a699457row3_col8 {\n",
       "            background-color:  #e5ffe5;\n",
       "        }    #T_8a4fcd76_56ce_11e8_a719_34de1a699457row4_col0 {\n",
       "            background-color:  #b0e2b0;\n",
       "        }    #T_8a4fcd76_56ce_11e8_a719_34de1a699457row4_col1 {\n",
       "            background-color:  #b0e1b0;\n",
       "        }    #T_8a4fcd76_56ce_11e8_a719_34de1a699457row4_col2 {\n",
       "            background-color:  #aadeaa;\n",
       "        }    #T_8a4fcd76_56ce_11e8_a719_34de1a699457row4_col3 {\n",
       "            background-color:  #c6eec6;\n",
       "        }    #T_8a4fcd76_56ce_11e8_a719_34de1a699457row4_col4 {\n",
       "            background-color:  #c3ecc3;\n",
       "        }    #T_8a4fcd76_56ce_11e8_a719_34de1a699457row4_col5 {\n",
       "            background-color:  #b8e6b8;\n",
       "        }    #T_8a4fcd76_56ce_11e8_a719_34de1a699457row4_col6 {\n",
       "            background-color:  #afe1af;\n",
       "        }    #T_8a4fcd76_56ce_11e8_a719_34de1a699457row4_col7 {\n",
       "            background-color:  #a4dba4;\n",
       "        }    #T_8a4fcd76_56ce_11e8_a719_34de1a699457row4_col8 {\n",
       "            background-color:  #abdfab;\n",
       "        }    #T_8a4fcd76_56ce_11e8_a719_34de1a699457row5_col0 {\n",
       "            background-color:  #008000;\n",
       "        }    #T_8a4fcd76_56ce_11e8_a719_34de1a699457row5_col1 {\n",
       "            background-color:  #2f9a2f;\n",
       "        }    #T_8a4fcd76_56ce_11e8_a719_34de1a699457row5_col2 {\n",
       "            background-color:  #008000;\n",
       "        }    #T_8a4fcd76_56ce_11e8_a719_34de1a699457row5_col3 {\n",
       "            background-color:  #008000;\n",
       "        }    #T_8a4fcd76_56ce_11e8_a719_34de1a699457row5_col4 {\n",
       "            background-color:  #008000;\n",
       "        }    #T_8a4fcd76_56ce_11e8_a719_34de1a699457row5_col5 {\n",
       "            background-color:  #3ba13b;\n",
       "        }    #T_8a4fcd76_56ce_11e8_a719_34de1a699457row5_col6 {\n",
       "            background-color:  #168c16;\n",
       "        }    #T_8a4fcd76_56ce_11e8_a719_34de1a699457row5_col7 {\n",
       "            background-color:  #1f911f;\n",
       "        }    #T_8a4fcd76_56ce_11e8_a719_34de1a699457row5_col8 {\n",
       "            background-color:  #008000;\n",
       "        }</style>  \n",
       "<table id=\"T_8a4fcd76_56ce_11e8_a719_34de1a699457\" > \n",
       "<thead>    <tr> \n",
       "        <th class=\"index_name level0\" >loan_status</th> \n",
       "        <th class=\"col_heading level0 col0\" >Charged Off</th> \n",
       "        <th class=\"col_heading level0 col1\" >Current</th> \n",
       "        <th class=\"col_heading level0 col2\" >Default</th> \n",
       "        <th class=\"col_heading level0 col3\" >Does not meet the credit policy. Status:Charged Off</th> \n",
       "        <th class=\"col_heading level0 col4\" >Does not meet the credit policy. Status:Fully Paid</th> \n",
       "        <th class=\"col_heading level0 col5\" >Fully Paid</th> \n",
       "        <th class=\"col_heading level0 col6\" >In Grace Period</th> \n",
       "        <th class=\"col_heading level0 col7\" >Late (16-30 days)</th> \n",
       "        <th class=\"col_heading level0 col8\" >Late (31-120 days)</th> \n",
       "    </tr>    <tr> \n",
       "        <th class=\"index_name level0\" >home_ownership</th> \n",
       "        <th class=\"blank\" ></th> \n",
       "        <th class=\"blank\" ></th> \n",
       "        <th class=\"blank\" ></th> \n",
       "        <th class=\"blank\" ></th> \n",
       "        <th class=\"blank\" ></th> \n",
       "        <th class=\"blank\" ></th> \n",
       "        <th class=\"blank\" ></th> \n",
       "        <th class=\"blank\" ></th> \n",
       "        <th class=\"blank\" ></th> \n",
       "    </tr></thead> \n",
       "<tbody>    <tr> \n",
       "        <th id=\"T_8a4fcd76_56ce_11e8_a719_34de1a699457level0_row0\" class=\"row_heading level0 row0\" >ANY</th> \n",
       "        <td id=\"T_8a4fcd76_56ce_11e8_a719_34de1a699457row0_col0\" class=\"data row0 col0\" >20</td> \n",
       "        <td id=\"T_8a4fcd76_56ce_11e8_a719_34de1a699457row0_col1\" class=\"data row0 col1\" >378</td> \n",
       "        <td id=\"T_8a4fcd76_56ce_11e8_a719_34de1a699457row0_col2\" class=\"data row0 col2\" >0</td> \n",
       "        <td id=\"T_8a4fcd76_56ce_11e8_a719_34de1a699457row0_col3\" class=\"data row0 col3\" >0</td> \n",
       "        <td id=\"T_8a4fcd76_56ce_11e8_a719_34de1a699457row0_col4\" class=\"data row0 col4\" >0</td> \n",
       "        <td id=\"T_8a4fcd76_56ce_11e8_a719_34de1a699457row0_col5\" class=\"data row0 col5\" >93</td> \n",
       "        <td id=\"T_8a4fcd76_56ce_11e8_a719_34de1a699457row0_col6\" class=\"data row0 col6\" >5</td> \n",
       "        <td id=\"T_8a4fcd76_56ce_11e8_a719_34de1a699457row0_col7\" class=\"data row0 col7\" >1</td> \n",
       "        <td id=\"T_8a4fcd76_56ce_11e8_a719_34de1a699457row0_col8\" class=\"data row0 col8\" >11</td> \n",
       "    </tr>    <tr> \n",
       "        <th id=\"T_8a4fcd76_56ce_11e8_a719_34de1a699457level0_row1\" class=\"row_heading level0 row1\" >MORTGAGE</th> \n",
       "        <td id=\"T_8a4fcd76_56ce_11e8_a719_34de1a699457row1_col0\" class=\"data row1 col0\" >78256</td> \n",
       "        <td id=\"T_8a4fcd76_56ce_11e8_a719_34de1a699457row1_col1\" class=\"data row1 col1\" >415339</td> \n",
       "        <td id=\"T_8a4fcd76_56ce_11e8_a719_34de1a699457row1_col2\" class=\"data row1 col2\" >18</td> \n",
       "        <td id=\"T_8a4fcd76_56ce_11e8_a719_34de1a699457row1_col3\" class=\"data row1 col3\" >348</td> \n",
       "        <td id=\"T_8a4fcd76_56ce_11e8_a719_34de1a699457row1_col4\" class=\"data row1 col4\" >908</td> \n",
       "        <td id=\"T_8a4fcd76_56ce_11e8_a719_34de1a699457row1_col5\" class=\"data row1 col5\" >360587</td> \n",
       "        <td id=\"T_8a4fcd76_56ce_11e8_a719_34de1a699457row1_col6\" class=\"data row1 col6\" >5502</td> \n",
       "        <td id=\"T_8a4fcd76_56ce_11e8_a719_34de1a699457row1_col7\" class=\"data row1 col7\" >2054</td> \n",
       "        <td id=\"T_8a4fcd76_56ce_11e8_a719_34de1a699457row1_col8\" class=\"data row1 col8\" >9218</td> \n",
       "    </tr>    <tr> \n",
       "        <th id=\"T_8a4fcd76_56ce_11e8_a719_34de1a699457level0_row2\" class=\"row_heading level0 row2\" >NONE</th> \n",
       "        <td id=\"T_8a4fcd76_56ce_11e8_a719_34de1a699457row2_col0\" class=\"data row2 col0\" >7</td> \n",
       "        <td id=\"T_8a4fcd76_56ce_11e8_a719_34de1a699457row2_col1\" class=\"data row2 col1\" >3</td> \n",
       "        <td id=\"T_8a4fcd76_56ce_11e8_a719_34de1a699457row2_col2\" class=\"data row2 col2\" >0</td> \n",
       "        <td id=\"T_8a4fcd76_56ce_11e8_a719_34de1a699457row2_col3\" class=\"data row2 col3\" >1</td> \n",
       "        <td id=\"T_8a4fcd76_56ce_11e8_a719_34de1a699457row2_col4\" class=\"data row2 col4\" >4</td> \n",
       "        <td id=\"T_8a4fcd76_56ce_11e8_a719_34de1a699457row2_col5\" class=\"data row2 col5\" >39</td> \n",
       "        <td id=\"T_8a4fcd76_56ce_11e8_a719_34de1a699457row2_col6\" class=\"data row2 col6\" >0</td> \n",
       "        <td id=\"T_8a4fcd76_56ce_11e8_a719_34de1a699457row2_col7\" class=\"data row2 col7\" >0</td> \n",
       "        <td id=\"T_8a4fcd76_56ce_11e8_a719_34de1a699457row2_col8\" class=\"data row2 col8\" >0</td> \n",
       "    </tr>    <tr> \n",
       "        <th id=\"T_8a4fcd76_56ce_11e8_a719_34de1a699457level0_row3\" class=\"row_heading level0 row3\" >OTHER</th> \n",
       "        <td id=\"T_8a4fcd76_56ce_11e8_a719_34de1a699457row3_col0\" class=\"data row3 col0\" >27</td> \n",
       "        <td id=\"T_8a4fcd76_56ce_11e8_a719_34de1a699457row3_col1\" class=\"data row3 col1\" >0</td> \n",
       "        <td id=\"T_8a4fcd76_56ce_11e8_a719_34de1a699457row3_col2\" class=\"data row3 col2\" >0</td> \n",
       "        <td id=\"T_8a4fcd76_56ce_11e8_a719_34de1a699457row3_col3\" class=\"data row3 col3\" >11</td> \n",
       "        <td id=\"T_8a4fcd76_56ce_11e8_a719_34de1a699457row3_col4\" class=\"data row3 col4\" >27</td> \n",
       "        <td id=\"T_8a4fcd76_56ce_11e8_a719_34de1a699457row3_col5\" class=\"data row3 col5\" >117</td> \n",
       "        <td id=\"T_8a4fcd76_56ce_11e8_a719_34de1a699457row3_col6\" class=\"data row3 col6\" >0</td> \n",
       "        <td id=\"T_8a4fcd76_56ce_11e8_a719_34de1a699457row3_col7\" class=\"data row3 col7\" >0</td> \n",
       "        <td id=\"T_8a4fcd76_56ce_11e8_a719_34de1a699457row3_col8\" class=\"data row3 col8\" >0</td> \n",
       "    </tr>    <tr> \n",
       "        <th id=\"T_8a4fcd76_56ce_11e8_a719_34de1a699457level0_row4\" class=\"row_heading level0 row4\" >OWN</th> \n",
       "        <td id=\"T_8a4fcd76_56ce_11e8_a719_34de1a699457row4_col0\" class=\"data row4 col0\" >19502</td> \n",
       "        <td id=\"T_8a4fcd76_56ce_11e8_a719_34de1a699457row4_col1\" class=\"data row4 col1\" >98088</td> \n",
       "        <td id=\"T_8a4fcd76_56ce_11e8_a719_34de1a699457row4_col2\" class=\"data row4 col2\" >8</td> \n",
       "        <td id=\"T_8a4fcd76_56ce_11e8_a719_34de1a699457row4_col3\" class=\"data row4 col3\" >49</td> \n",
       "        <td id=\"T_8a4fcd76_56ce_11e8_a719_34de1a699457row4_col4\" class=\"data row4 col4\" >138</td> \n",
       "        <td id=\"T_8a4fcd76_56ce_11e8_a719_34de1a699457row4_col5\" class=\"data row4 col5\" >70680</td> \n",
       "        <td id=\"T_8a4fcd76_56ce_11e8_a719_34de1a699457row4_col6\" class=\"data row4 col6\" >1322</td> \n",
       "        <td id=\"T_8a4fcd76_56ce_11e8_a719_34de1a699457row4_col7\" class=\"data row4 col7\" >587</td> \n",
       "        <td id=\"T_8a4fcd76_56ce_11e8_a719_34de1a699457row4_col8\" class=\"data row4 col8\" >2555</td> \n",
       "    </tr>    <tr> \n",
       "        <th id=\"T_8a4fcd76_56ce_11e8_a719_34de1a699457level0_row5\" class=\"row_heading level0 row5\" >RENT</th> \n",
       "        <td id=\"T_8a4fcd76_56ce_11e8_a719_34de1a699457row5_col0\" class=\"data row5 col0\" >84387</td> \n",
       "        <td id=\"T_8a4fcd76_56ce_11e8_a719_34de1a699457row5_col1\" class=\"data row5 col1\" >329946</td> \n",
       "        <td id=\"T_8a4fcd76_56ce_11e8_a719_34de1a699457row5_col2\" class=\"data row5 col2\" >31</td> \n",
       "        <td id=\"T_8a4fcd76_56ce_11e8_a719_34de1a699457row5_col3\" class=\"data row5 col3\" >352</td> \n",
       "        <td id=\"T_8a4fcd76_56ce_11e8_a719_34de1a699457row5_col4\" class=\"data row5 col4\" >911</td> \n",
       "        <td id=\"T_8a4fcd76_56ce_11e8_a719_34de1a699457row5_col5\" class=\"data row5 col5\" >267174</td> \n",
       "        <td id=\"T_8a4fcd76_56ce_11e8_a719_34de1a699457row5_col6\" class=\"data row5 col6\" >4983</td> \n",
       "        <td id=\"T_8a4fcd76_56ce_11e8_a719_34de1a699457row5_col7\" class=\"data row5 col7\" >1781</td> \n",
       "        <td id=\"T_8a4fcd76_56ce_11e8_a719_34de1a699457row5_col8\" class=\"data row5 col8\" >9958</td> \n",
       "    </tr></tbody> \n",
       "</table> "
      ],
      "text/plain": [
       "<pandas.io.formats.style.Styler at 0x7fdfcbb40860>"
      ]
     },
     "execution_count": 70,
     "metadata": {},
     "output_type": "execute_result"
    }
   ],
   "source": [
    "pd.crosstab(loans['home_ownership'], loans['loan_status']).\\\n",
    "    style.background_gradient(cmap=sns.light_palette(\"green\", as_cmap=True))"
   ]
  },
  {
   "cell_type": "code",
   "execution_count": null,
   "metadata": {},
   "outputs": [],
   "source": []
  },
  {
   "cell_type": "code",
   "execution_count": null,
   "metadata": {},
   "outputs": [],
   "source": []
  },
  {
   "cell_type": "code",
   "execution_count": null,
   "metadata": {},
   "outputs": [],
   "source": []
  },
  {
   "cell_type": "code",
   "execution_count": null,
   "metadata": {},
   "outputs": [],
   "source": []
  },
  {
   "cell_type": "markdown",
   "metadata": {},
   "source": [
    "### 04 - Preprocessing Variables --> UNCOMPLETE!!!!"
   ]
  },
  {
   "cell_type": "markdown",
   "metadata": {},
   "source": [
    "Now, we are going to preprocess variables for exploring data. For this part, we will only distinguish between numeric and categorical varibles. "
   ]
  },
  {
   "cell_type": "markdown",
   "metadata": {},
   "source": [
    "#### 03.1 - Numeric Variables"
   ]
  },
  {
   "cell_type": "markdown",
   "metadata": {},
   "source": [
    "__int_rate__ (interest rate)\n",
    "\n",
    "We have to take the number without the percentage symbol and then transform to float:"
   ]
  },
  {
   "cell_type": "code",
   "execution_count": 78,
   "metadata": {},
   "outputs": [],
   "source": [
    "loans['int_rate'] = loans['int_rate'].map(lambda x: float(x[:-1]))"
   ]
  },
  {
   "cell_type": "markdown",
   "metadata": {},
   "source": [
    "Transform the rest of __numeric__ variables:"
   ]
  },
  {
   "cell_type": "code",
   "execution_count": 80,
   "metadata": {},
   "outputs": [],
   "source": [
    "numeric_variables = ['funded_amnt_inv', 'installment', 'annual_inc', 'dti', \n",
    "                     'last_pymnt_amnt', 'total_pymnt_inv']"
   ]
  },
  {
   "cell_type": "code",
   "execution_count": 81,
   "metadata": {},
   "outputs": [],
   "source": [
    "loans[numeric_variables] = loans[numeric_variables].astype('float')"
   ]
  },
  {
   "cell_type": "markdown",
   "metadata": {},
   "source": [
    "__total_rec_late_fee__ (late fees received to date)\n",
    "\n",
    "This is the only integer variable in the dataset:"
   ]
  },
  {
   "cell_type": "code",
   "execution_count": 91,
   "metadata": {},
   "outputs": [],
   "source": [
    "#integer_variables = ['total_rec_late_fee', 'total_acc']"
   ]
  },
  {
   "cell_type": "code",
   "execution_count": 92,
   "metadata": {},
   "outputs": [],
   "source": [
    "loans['total_rec_late_fee'] = loans['total_rec_late_fee'].astype(int)"
   ]
  },
  {
   "cell_type": "markdown",
   "metadata": {},
   "source": [
    "#### 03.2 - Categorical Variables"
   ]
  },
  {
   "cell_type": "markdown",
   "metadata": {},
   "source": [
    "__zip_code__ \n",
    "\n",
    "This variable represents only the first 3 numbers of the zip code provided by the borrower in the loan application. So we have to take remove the last two 'xx':"
   ]
  },
  {
   "cell_type": "code",
   "execution_count": 82,
   "metadata": {},
   "outputs": [],
   "source": [
    "loans['zip_code'] = loans['zip_code'].map(lambda x: str(x)[:3])"
   ]
  },
  {
   "cell_type": "markdown",
   "metadata": {},
   "source": [
    "Transform the rest of __categorical__ variables (except `loan_status`):"
   ]
  },
  {
   "cell_type": "code",
   "execution_count": 87,
   "metadata": {},
   "outputs": [],
   "source": [
    "categorical_variables = ['term', 'grade', 'emp_title', 'emp_length', 'title', \n",
    "                         'home_ownership', 'zip_code', 'addr_state', 'application_type']"
   ]
  },
  {
   "cell_type": "code",
   "execution_count": 88,
   "metadata": {
    "scrolled": true
   },
   "outputs": [
    {
     "ename": "NotImplementedError",
     "evalue": "> 1 ndim Categorical are not supported at this time",
     "output_type": "error",
     "traceback": [
      "\u001b[0;31m---------------------------------------------------------------------------\u001b[0m",
      "\u001b[0;31mValueError\u001b[0m                                Traceback (most recent call last)",
      "\u001b[0;32m~/anaconda3/lib/python3.6/site-packages/pandas/core/categorical.py\u001b[0m in \u001b[0;36m__init__\u001b[0;34m(self, values, categories, ordered, dtype, fastpath)\u001b[0m\n\u001b[1;32m    329\u001b[0m             \u001b[0;32mtry\u001b[0m\u001b[0;34m:\u001b[0m\u001b[0;34m\u001b[0m\u001b[0m\n\u001b[0;32m--> 330\u001b[0;31m                 \u001b[0mcodes\u001b[0m\u001b[0;34m,\u001b[0m \u001b[0mcategories\u001b[0m \u001b[0;34m=\u001b[0m \u001b[0mfactorize\u001b[0m\u001b[0;34m(\u001b[0m\u001b[0mvalues\u001b[0m\u001b[0;34m,\u001b[0m \u001b[0msort\u001b[0m\u001b[0;34m=\u001b[0m\u001b[0;32mTrue\u001b[0m\u001b[0;34m)\u001b[0m\u001b[0;34m\u001b[0m\u001b[0m\n\u001b[0m\u001b[1;32m    331\u001b[0m             \u001b[0;32mexcept\u001b[0m \u001b[0mTypeError\u001b[0m\u001b[0;34m:\u001b[0m\u001b[0;34m\u001b[0m\u001b[0m\n",
      "\u001b[0;32m~/anaconda3/lib/python3.6/site-packages/pandas/core/algorithms.py\u001b[0m in \u001b[0;36mfactorize\u001b[0;34m(values, sort, order, na_sentinel, size_hint)\u001b[0m\n\u001b[1;32m    470\u001b[0m     \u001b[0mcheck_nulls\u001b[0m \u001b[0;34m=\u001b[0m \u001b[0;32mnot\u001b[0m \u001b[0mis_integer_dtype\u001b[0m\u001b[0;34m(\u001b[0m\u001b[0moriginal\u001b[0m\u001b[0;34m)\u001b[0m\u001b[0;34m\u001b[0m\u001b[0m\n\u001b[0;32m--> 471\u001b[0;31m     \u001b[0mlabels\u001b[0m \u001b[0;34m=\u001b[0m \u001b[0mtable\u001b[0m\u001b[0;34m.\u001b[0m\u001b[0mget_labels\u001b[0m\u001b[0;34m(\u001b[0m\u001b[0mvalues\u001b[0m\u001b[0;34m,\u001b[0m \u001b[0muniques\u001b[0m\u001b[0;34m,\u001b[0m \u001b[0;36m0\u001b[0m\u001b[0;34m,\u001b[0m \u001b[0mna_sentinel\u001b[0m\u001b[0;34m,\u001b[0m \u001b[0mcheck_nulls\u001b[0m\u001b[0;34m)\u001b[0m\u001b[0;34m\u001b[0m\u001b[0m\n\u001b[0m\u001b[1;32m    472\u001b[0m \u001b[0;34m\u001b[0m\u001b[0m\n",
      "\u001b[0;32mpandas/_libs/hashtable_class_helper.pxi\u001b[0m in \u001b[0;36mpandas._libs.hashtable.PyObjectHashTable.get_labels\u001b[0;34m()\u001b[0m\n",
      "\u001b[0;31mValueError\u001b[0m: Buffer has wrong number of dimensions (expected 1, got 2)",
      "\nDuring handling of the above exception, another exception occurred:\n",
      "\u001b[0;31mNotImplementedError\u001b[0m                       Traceback (most recent call last)",
      "\u001b[0;32m<ipython-input-88-11988b8cbf29>\u001b[0m in \u001b[0;36m<module>\u001b[0;34m()\u001b[0m\n\u001b[0;32m----> 1\u001b[0;31m \u001b[0mloans\u001b[0m\u001b[0;34m[\u001b[0m\u001b[0mcategorical_variables\u001b[0m\u001b[0;34m]\u001b[0m\u001b[0;34m.\u001b[0m\u001b[0mastype\u001b[0m\u001b[0;34m(\u001b[0m\u001b[0;34m'category'\u001b[0m\u001b[0;34m)\u001b[0m\u001b[0;34m\u001b[0m\u001b[0m\n\u001b[0m",
      "\u001b[0;32m~/anaconda3/lib/python3.6/site-packages/pandas/util/_decorators.py\u001b[0m in \u001b[0;36mwrapper\u001b[0;34m(*args, **kwargs)\u001b[0m\n\u001b[1;32m    116\u001b[0m                 \u001b[0;32melse\u001b[0m\u001b[0;34m:\u001b[0m\u001b[0;34m\u001b[0m\u001b[0m\n\u001b[1;32m    117\u001b[0m                     \u001b[0mkwargs\u001b[0m\u001b[0;34m[\u001b[0m\u001b[0mnew_arg_name\u001b[0m\u001b[0;34m]\u001b[0m \u001b[0;34m=\u001b[0m \u001b[0mnew_arg_value\u001b[0m\u001b[0;34m\u001b[0m\u001b[0m\n\u001b[0;32m--> 118\u001b[0;31m             \u001b[0;32mreturn\u001b[0m \u001b[0mfunc\u001b[0m\u001b[0;34m(\u001b[0m\u001b[0;34m*\u001b[0m\u001b[0margs\u001b[0m\u001b[0;34m,\u001b[0m \u001b[0;34m**\u001b[0m\u001b[0mkwargs\u001b[0m\u001b[0;34m)\u001b[0m\u001b[0;34m\u001b[0m\u001b[0m\n\u001b[0m\u001b[1;32m    119\u001b[0m         \u001b[0;32mreturn\u001b[0m \u001b[0mwrapper\u001b[0m\u001b[0;34m\u001b[0m\u001b[0m\n\u001b[1;32m    120\u001b[0m     \u001b[0;32mreturn\u001b[0m \u001b[0m_deprecate_kwarg\u001b[0m\u001b[0;34m\u001b[0m\u001b[0m\n",
      "\u001b[0;32m~/anaconda3/lib/python3.6/site-packages/pandas/core/generic.py\u001b[0m in \u001b[0;36mastype\u001b[0;34m(self, dtype, copy, errors, **kwargs)\u001b[0m\n\u001b[1;32m   4002\u001b[0m         \u001b[0;31m# else, only a single dtype is given\u001b[0m\u001b[0;34m\u001b[0m\u001b[0;34m\u001b[0m\u001b[0m\n\u001b[1;32m   4003\u001b[0m         new_data = self._data.astype(dtype=dtype, copy=copy, errors=errors,\n\u001b[0;32m-> 4004\u001b[0;31m                                      **kwargs)\n\u001b[0m\u001b[1;32m   4005\u001b[0m         \u001b[0;32mreturn\u001b[0m \u001b[0mself\u001b[0m\u001b[0;34m.\u001b[0m\u001b[0m_constructor\u001b[0m\u001b[0;34m(\u001b[0m\u001b[0mnew_data\u001b[0m\u001b[0;34m)\u001b[0m\u001b[0;34m.\u001b[0m\u001b[0m__finalize__\u001b[0m\u001b[0;34m(\u001b[0m\u001b[0mself\u001b[0m\u001b[0;34m)\u001b[0m\u001b[0;34m\u001b[0m\u001b[0m\n\u001b[1;32m   4006\u001b[0m \u001b[0;34m\u001b[0m\u001b[0m\n",
      "\u001b[0;32m~/anaconda3/lib/python3.6/site-packages/pandas/core/internals.py\u001b[0m in \u001b[0;36mastype\u001b[0;34m(self, dtype, **kwargs)\u001b[0m\n\u001b[1;32m   3460\u001b[0m \u001b[0;34m\u001b[0m\u001b[0m\n\u001b[1;32m   3461\u001b[0m     \u001b[0;32mdef\u001b[0m \u001b[0mastype\u001b[0m\u001b[0;34m(\u001b[0m\u001b[0mself\u001b[0m\u001b[0;34m,\u001b[0m \u001b[0mdtype\u001b[0m\u001b[0;34m,\u001b[0m \u001b[0;34m**\u001b[0m\u001b[0mkwargs\u001b[0m\u001b[0;34m)\u001b[0m\u001b[0;34m:\u001b[0m\u001b[0;34m\u001b[0m\u001b[0m\n\u001b[0;32m-> 3462\u001b[0;31m         \u001b[0;32mreturn\u001b[0m \u001b[0mself\u001b[0m\u001b[0;34m.\u001b[0m\u001b[0mapply\u001b[0m\u001b[0;34m(\u001b[0m\u001b[0;34m'astype'\u001b[0m\u001b[0;34m,\u001b[0m \u001b[0mdtype\u001b[0m\u001b[0;34m=\u001b[0m\u001b[0mdtype\u001b[0m\u001b[0;34m,\u001b[0m \u001b[0;34m**\u001b[0m\u001b[0mkwargs\u001b[0m\u001b[0;34m)\u001b[0m\u001b[0;34m\u001b[0m\u001b[0m\n\u001b[0m\u001b[1;32m   3463\u001b[0m \u001b[0;34m\u001b[0m\u001b[0m\n\u001b[1;32m   3464\u001b[0m     \u001b[0;32mdef\u001b[0m \u001b[0mconvert\u001b[0m\u001b[0;34m(\u001b[0m\u001b[0mself\u001b[0m\u001b[0;34m,\u001b[0m \u001b[0;34m**\u001b[0m\u001b[0mkwargs\u001b[0m\u001b[0;34m)\u001b[0m\u001b[0;34m:\u001b[0m\u001b[0;34m\u001b[0m\u001b[0m\n",
      "\u001b[0;32m~/anaconda3/lib/python3.6/site-packages/pandas/core/internals.py\u001b[0m in \u001b[0;36mapply\u001b[0;34m(self, f, axes, filter, do_integrity_check, consolidate, **kwargs)\u001b[0m\n\u001b[1;32m   3327\u001b[0m \u001b[0;34m\u001b[0m\u001b[0m\n\u001b[1;32m   3328\u001b[0m             \u001b[0mkwargs\u001b[0m\u001b[0;34m[\u001b[0m\u001b[0;34m'mgr'\u001b[0m\u001b[0;34m]\u001b[0m \u001b[0;34m=\u001b[0m \u001b[0mself\u001b[0m\u001b[0;34m\u001b[0m\u001b[0m\n\u001b[0;32m-> 3329\u001b[0;31m             \u001b[0mapplied\u001b[0m \u001b[0;34m=\u001b[0m \u001b[0mgetattr\u001b[0m\u001b[0;34m(\u001b[0m\u001b[0mb\u001b[0m\u001b[0;34m,\u001b[0m \u001b[0mf\u001b[0m\u001b[0;34m)\u001b[0m\u001b[0;34m(\u001b[0m\u001b[0;34m**\u001b[0m\u001b[0mkwargs\u001b[0m\u001b[0;34m)\u001b[0m\u001b[0;34m\u001b[0m\u001b[0m\n\u001b[0m\u001b[1;32m   3330\u001b[0m             \u001b[0mresult_blocks\u001b[0m \u001b[0;34m=\u001b[0m \u001b[0m_extend_blocks\u001b[0m\u001b[0;34m(\u001b[0m\u001b[0mapplied\u001b[0m\u001b[0;34m,\u001b[0m \u001b[0mresult_blocks\u001b[0m\u001b[0;34m)\u001b[0m\u001b[0;34m\u001b[0m\u001b[0m\n\u001b[1;32m   3331\u001b[0m \u001b[0;34m\u001b[0m\u001b[0m\n",
      "\u001b[0;32m~/anaconda3/lib/python3.6/site-packages/pandas/core/internals.py\u001b[0m in \u001b[0;36mastype\u001b[0;34m(self, dtype, copy, errors, values, **kwargs)\u001b[0m\n\u001b[1;32m    542\u001b[0m     \u001b[0;32mdef\u001b[0m \u001b[0mastype\u001b[0m\u001b[0;34m(\u001b[0m\u001b[0mself\u001b[0m\u001b[0;34m,\u001b[0m \u001b[0mdtype\u001b[0m\u001b[0;34m,\u001b[0m \u001b[0mcopy\u001b[0m\u001b[0;34m=\u001b[0m\u001b[0;32mFalse\u001b[0m\u001b[0;34m,\u001b[0m \u001b[0merrors\u001b[0m\u001b[0;34m=\u001b[0m\u001b[0;34m'raise'\u001b[0m\u001b[0;34m,\u001b[0m \u001b[0mvalues\u001b[0m\u001b[0;34m=\u001b[0m\u001b[0;32mNone\u001b[0m\u001b[0;34m,\u001b[0m \u001b[0;34m**\u001b[0m\u001b[0mkwargs\u001b[0m\u001b[0;34m)\u001b[0m\u001b[0;34m:\u001b[0m\u001b[0;34m\u001b[0m\u001b[0m\n\u001b[1;32m    543\u001b[0m         return self._astype(dtype, copy=copy, errors=errors, values=values,\n\u001b[0;32m--> 544\u001b[0;31m                             **kwargs)\n\u001b[0m\u001b[1;32m    545\u001b[0m \u001b[0;34m\u001b[0m\u001b[0m\n\u001b[1;32m    546\u001b[0m     def _astype(self, dtype, copy=False, errors='raise', values=None,\n",
      "\u001b[0;32m~/anaconda3/lib/python3.6/site-packages/pandas/core/internals.py\u001b[0m in \u001b[0;36m_astype\u001b[0;34m(self, dtype, copy, errors, values, klass, mgr, **kwargs)\u001b[0m\n\u001b[1;32m    592\u001b[0m             \u001b[0mkwargs\u001b[0m\u001b[0;34m.\u001b[0m\u001b[0msetdefault\u001b[0m\u001b[0;34m(\u001b[0m\u001b[0;34m'categories'\u001b[0m\u001b[0;34m,\u001b[0m \u001b[0mcategories\u001b[0m\u001b[0;34m)\u001b[0m\u001b[0;34m\u001b[0m\u001b[0m\n\u001b[1;32m    593\u001b[0m             \u001b[0mkwargs\u001b[0m\u001b[0;34m.\u001b[0m\u001b[0msetdefault\u001b[0m\u001b[0;34m(\u001b[0m\u001b[0;34m'ordered'\u001b[0m\u001b[0;34m,\u001b[0m \u001b[0mordered\u001b[0m\u001b[0;34m)\u001b[0m\u001b[0;34m\u001b[0m\u001b[0m\n\u001b[0;32m--> 594\u001b[0;31m             \u001b[0;32mreturn\u001b[0m \u001b[0mself\u001b[0m\u001b[0;34m.\u001b[0m\u001b[0mmake_block\u001b[0m\u001b[0;34m(\u001b[0m\u001b[0mCategorical\u001b[0m\u001b[0;34m(\u001b[0m\u001b[0mself\u001b[0m\u001b[0;34m.\u001b[0m\u001b[0mvalues\u001b[0m\u001b[0;34m,\u001b[0m \u001b[0;34m**\u001b[0m\u001b[0mkwargs\u001b[0m\u001b[0;34m)\u001b[0m\u001b[0;34m)\u001b[0m\u001b[0;34m\u001b[0m\u001b[0m\n\u001b[0m\u001b[1;32m    595\u001b[0m \u001b[0;34m\u001b[0m\u001b[0m\n\u001b[1;32m    596\u001b[0m         \u001b[0;31m# astype processing\u001b[0m\u001b[0;34m\u001b[0m\u001b[0;34m\u001b[0m\u001b[0m\n",
      "\u001b[0;32m~/anaconda3/lib/python3.6/site-packages/pandas/core/categorical.py\u001b[0m in \u001b[0;36m__init__\u001b[0;34m(self, values, categories, ordered, dtype, fastpath)\u001b[0m\n\u001b[1;32m    340\u001b[0m \u001b[0;34m\u001b[0m\u001b[0m\n\u001b[1;32m    341\u001b[0m                 \u001b[0;31m# FIXME\u001b[0m\u001b[0;34m\u001b[0m\u001b[0;34m\u001b[0m\u001b[0m\n\u001b[0;32m--> 342\u001b[0;31m                 raise NotImplementedError(\"> 1 ndim Categorical are not \"\n\u001b[0m\u001b[1;32m    343\u001b[0m                                           \"supported at this time\")\n\u001b[1;32m    344\u001b[0m \u001b[0;34m\u001b[0m\u001b[0m\n",
      "\u001b[0;31mNotImplementedError\u001b[0m: > 1 ndim Categorical are not supported at this time"
     ]
    }
   ],
   "source": [
    "loans[categorical_variables].astype('category')"
   ]
  },
  {
   "cell_type": "markdown",
   "metadata": {},
   "source": [
    "#### 03.3 - Dates"
   ]
  },
  {
   "cell_type": "markdown",
   "metadata": {},
   "source": [
    "__issue_d__ (month and year which the loan was funded)\n",
    "\n",
    "We are only interested in the year of the loan and we will consider it as categorical variable:"
   ]
  },
  {
   "cell_type": "code",
   "execution_count": 84,
   "metadata": {},
   "outputs": [],
   "source": [
    "loans['issue_d'] = loans['issue_d'].map(lambda x: x[4:])\n",
    "\n",
    "loans['issue_d'] = loans['issue_d'].astype('category')"
   ]
  },
  {
   "cell_type": "code",
   "execution_count": 85,
   "metadata": {},
   "outputs": [
    {
     "data": {
      "text/plain": [
       "2017    443579\n",
       "2016    434407\n",
       "2015    421095\n",
       "2014    235629\n",
       "2013    134814\n",
       "2012     53367\n",
       "2011     21721\n",
       "2010     12537\n",
       "2009      5281\n",
       "2008      2393\n",
       "2007       603\n",
       "Name: issue_d, dtype: int64"
      ]
     },
     "execution_count": 85,
     "metadata": {},
     "output_type": "execute_result"
    }
   ],
   "source": [
    "loans['issue_d'].value_counts()"
   ]
  },
  {
   "cell_type": "code",
   "execution_count": 93,
   "metadata": {},
   "outputs": [
    {
     "data": {
      "text/plain": [
       "funded_amnt_inv        float64\n",
       "term                    object\n",
       "issue_d               category\n",
       "installment            float64\n",
       "int_rate               float64\n",
       "grade                   object\n",
       "emp_title               object\n",
       "emp_length              object\n",
       "annual_inc             float64\n",
       "title                   object\n",
       "dti                    float64\n",
       "home_ownership          object\n",
       "zip_code                object\n",
       "addr_state              object\n",
       "last_pymnt_amnt        float64\n",
       "total_pymnt_inv        float64\n",
       "total_rec_late_fee       int64\n",
       "application_type        object\n",
       "total_acc              float64\n",
       "loan_status             object\n",
       "dtype: object"
      ]
     },
     "execution_count": 93,
     "metadata": {},
     "output_type": "execute_result"
    }
   ],
   "source": [
    "loans.dtypes"
   ]
  },
  {
   "cell_type": "code",
   "execution_count": 95,
   "metadata": {
    "scrolled": true
   },
   "outputs": [
    {
     "data": {
      "text/plain": [
       "funded_amnt_inv            0\n",
       "term                       0\n",
       "issue_d                    0\n",
       "installment                0\n",
       "int_rate                   0\n",
       "grade                      0\n",
       "emp_title             112310\n",
       "emp_length            104920\n",
       "annual_inc                 4\n",
       "title                  23325\n",
       "dti                      579\n",
       "home_ownership             0\n",
       "zip_code                   0\n",
       "addr_state                 0\n",
       "last_pymnt_amnt            0\n",
       "total_pymnt_inv            0\n",
       "total_rec_late_fee         0\n",
       "application_type           0\n",
       "total_acc                 29\n",
       "loan_status                0\n",
       "dtype: int64"
      ]
     },
     "execution_count": 95,
     "metadata": {},
     "output_type": "execute_result"
    }
   ],
   "source": [
    "loans.isnull().sum()"
   ]
  }
 ],
 "metadata": {
  "kernelspec": {
   "display_name": "Python 3",
   "language": "python",
   "name": "python3"
  },
  "language_info": {
   "codemirror_mode": {
    "name": "ipython",
    "version": 3
   },
   "file_extension": ".py",
   "mimetype": "text/x-python",
   "name": "python",
   "nbconvert_exporter": "python",
   "pygments_lexer": "ipython3",
   "version": "3.6.4"
  }
 },
 "nbformat": 4,
 "nbformat_minor": 2
}
