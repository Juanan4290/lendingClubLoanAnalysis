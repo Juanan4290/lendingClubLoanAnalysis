{
 "cells": [
  {
   "cell_type": "markdown",
   "metadata": {},
   "source": [
    "Logistic Regression\n",
    "========="
   ]
  },
  {
   "cell_type": "markdown",
   "metadata": {},
   "source": [
    "Libraries:"
   ]
  },
  {
   "cell_type": "code",
   "execution_count": 2,
   "metadata": {},
   "outputs": [],
   "source": [
    "# remove warnings\n",
    "import warnings\n",
    "warnings.filterwarnings('ignore')\n",
    "\n",
    "import pandas as pd\n",
    "import numpy as np\n",
    "import matplotlib.pyplot as plt; plt.style.use(\"ggplot\")\n",
    "\n",
    "from sklearn.linear_model import LogisticRegression\n",
    "\n",
    "from sklearn.preprocessing import MinMaxScaler, StandardScaler, RobustScaler\n",
    "from sklearn.model_selection import train_test_split, GridSearchCV, StratifiedKFold, cross_val_score\n",
    "from sklearn.metrics import roc_curve, roc_auc_score, confusion_matrix, precision_recall_fscore_support, auc, accuracy_score"
   ]
  },
  {
   "cell_type": "markdown",
   "metadata": {},
   "source": [
    "#### Read Data:"
   ]
  },
  {
   "cell_type": "code",
   "execution_count": 5,
   "metadata": {},
   "outputs": [],
   "source": [
    "data = pd.read_csv(\"/media/juanan/DATA/loan_data_analysis/data/loans_processed.csv\", sep = \"^\")\\\n",
    "                   .sample(100000)"
   ]
  },
  {
   "cell_type": "code",
   "execution_count": 6,
   "metadata": {
    "scrolled": true
   },
   "outputs": [
    {
     "data": {
      "text/html": [
       "<div>\n",
       "<style scoped>\n",
       "    .dataframe tbody tr th:only-of-type {\n",
       "        vertical-align: middle;\n",
       "    }\n",
       "\n",
       "    .dataframe tbody tr th {\n",
       "        vertical-align: top;\n",
       "    }\n",
       "\n",
       "    .dataframe thead th {\n",
       "        text-align: right;\n",
       "    }\n",
       "</style>\n",
       "<table border=\"1\" class=\"dataframe\">\n",
       "  <thead>\n",
       "    <tr style=\"text-align: right;\">\n",
       "      <th></th>\n",
       "      <th>addr_state</th>\n",
       "      <th>annual_inc</th>\n",
       "      <th>application_type</th>\n",
       "      <th>avg_cur_bal</th>\n",
       "      <th>bc_open_to_buy</th>\n",
       "      <th>bc_util</th>\n",
       "      <th>delinq_2yrs</th>\n",
       "      <th>delinq_amnt</th>\n",
       "      <th>disbursement_method</th>\n",
       "      <th>dti</th>\n",
       "      <th>...</th>\n",
       "      <th>revol_util</th>\n",
       "      <th>sub_grade</th>\n",
       "      <th>tax_liens</th>\n",
       "      <th>term</th>\n",
       "      <th>tot_coll_amt</th>\n",
       "      <th>tot_hi_cred_lim</th>\n",
       "      <th>total_bal_ex_mort</th>\n",
       "      <th>total_bc_limit</th>\n",
       "      <th>total_il_high_credit_limit</th>\n",
       "      <th>verification_status</th>\n",
       "    </tr>\n",
       "  </thead>\n",
       "  <tbody>\n",
       "    <tr>\n",
       "      <th>758903</th>\n",
       "      <td>CA</td>\n",
       "      <td>57000.0</td>\n",
       "      <td>Individual</td>\n",
       "      <td>51460.0</td>\n",
       "      <td>329.0</td>\n",
       "      <td>98.7</td>\n",
       "      <td>0.0</td>\n",
       "      <td>0.0</td>\n",
       "      <td>Cash</td>\n",
       "      <td>26.75</td>\n",
       "      <td>...</td>\n",
       "      <td>87.4</td>\n",
       "      <td>E2</td>\n",
       "      <td>0.0</td>\n",
       "      <td>36 months</td>\n",
       "      <td>0.0</td>\n",
       "      <td>480978.0</td>\n",
       "      <td>51290.0</td>\n",
       "      <td>25200.0</td>\n",
       "      <td>34478.0</td>\n",
       "      <td>Verified</td>\n",
       "    </tr>\n",
       "    <tr>\n",
       "      <th>100808</th>\n",
       "      <td>WI</td>\n",
       "      <td>18000.0</td>\n",
       "      <td>Individual</td>\n",
       "      <td>1554.0</td>\n",
       "      <td>1299.0</td>\n",
       "      <td>72.9</td>\n",
       "      <td>0.0</td>\n",
       "      <td>0.0</td>\n",
       "      <td>Cash</td>\n",
       "      <td>24.47</td>\n",
       "      <td>...</td>\n",
       "      <td>48.0</td>\n",
       "      <td>D2</td>\n",
       "      <td>0.0</td>\n",
       "      <td>36 months</td>\n",
       "      <td>0.0</td>\n",
       "      <td>20608.0</td>\n",
       "      <td>13987.0</td>\n",
       "      <td>4800.0</td>\n",
       "      <td>10408.0</td>\n",
       "      <td>Not Verified</td>\n",
       "    </tr>\n",
       "    <tr>\n",
       "      <th>39088</th>\n",
       "      <td>FL</td>\n",
       "      <td>35000.0</td>\n",
       "      <td>Individual</td>\n",
       "      <td>1054.0</td>\n",
       "      <td>3228.0</td>\n",
       "      <td>28.3</td>\n",
       "      <td>0.0</td>\n",
       "      <td>0.0</td>\n",
       "      <td>Cash</td>\n",
       "      <td>7.03</td>\n",
       "      <td>...</td>\n",
       "      <td>19.9</td>\n",
       "      <td>C3</td>\n",
       "      <td>0.0</td>\n",
       "      <td>60 months</td>\n",
       "      <td>0.0</td>\n",
       "      <td>11600.0</td>\n",
       "      <td>5269.0</td>\n",
       "      <td>4500.0</td>\n",
       "      <td>4000.0</td>\n",
       "      <td>Verified</td>\n",
       "    </tr>\n",
       "    <tr>\n",
       "      <th>58201</th>\n",
       "      <td>NJ</td>\n",
       "      <td>240000.0</td>\n",
       "      <td>Individual</td>\n",
       "      <td>47342.0</td>\n",
       "      <td>3609.0</td>\n",
       "      <td>42.7</td>\n",
       "      <td>0.0</td>\n",
       "      <td>0.0</td>\n",
       "      <td>Cash</td>\n",
       "      <td>4.01</td>\n",
       "      <td>...</td>\n",
       "      <td>15.9</td>\n",
       "      <td>D3</td>\n",
       "      <td>0.0</td>\n",
       "      <td>36 months</td>\n",
       "      <td>0.0</td>\n",
       "      <td>687640.0</td>\n",
       "      <td>27521.0</td>\n",
       "      <td>6300.0</td>\n",
       "      <td>35040.0</td>\n",
       "      <td>Source Verified</td>\n",
       "    </tr>\n",
       "    <tr>\n",
       "      <th>125772</th>\n",
       "      <td>CA</td>\n",
       "      <td>140000.0</td>\n",
       "      <td>Individual</td>\n",
       "      <td>61103.0</td>\n",
       "      <td>5815.0</td>\n",
       "      <td>73.4</td>\n",
       "      <td>0.0</td>\n",
       "      <td>0.0</td>\n",
       "      <td>Cash</td>\n",
       "      <td>24.04</td>\n",
       "      <td>...</td>\n",
       "      <td>70.9</td>\n",
       "      <td>C4</td>\n",
       "      <td>0.0</td>\n",
       "      <td>36 months</td>\n",
       "      <td>0.0</td>\n",
       "      <td>643932.0</td>\n",
       "      <td>93376.0</td>\n",
       "      <td>21900.0</td>\n",
       "      <td>149273.0</td>\n",
       "      <td>Verified</td>\n",
       "    </tr>\n",
       "  </tbody>\n",
       "</table>\n",
       "<p>5 rows × 48 columns</p>\n",
       "</div>"
      ],
      "text/plain": [
       "       addr_state  annual_inc application_type  avg_cur_bal  bc_open_to_buy  \\\n",
       "758903         CA     57000.0       Individual      51460.0           329.0   \n",
       "100808         WI     18000.0       Individual       1554.0          1299.0   \n",
       "39088          FL     35000.0       Individual       1054.0          3228.0   \n",
       "58201          NJ    240000.0       Individual      47342.0          3609.0   \n",
       "125772         CA    140000.0       Individual      61103.0          5815.0   \n",
       "\n",
       "        bc_util  delinq_2yrs  delinq_amnt disbursement_method    dti  \\\n",
       "758903     98.7          0.0          0.0                Cash  26.75   \n",
       "100808     72.9          0.0          0.0                Cash  24.47   \n",
       "39088      28.3          0.0          0.0                Cash   7.03   \n",
       "58201      42.7          0.0          0.0                Cash   4.01   \n",
       "125772     73.4          0.0          0.0                Cash  24.04   \n",
       "\n",
       "               ...          revol_util  sub_grade  tax_liens        term  \\\n",
       "758903         ...                87.4         E2        0.0   36 months   \n",
       "100808         ...                48.0         D2        0.0   36 months   \n",
       "39088          ...                19.9         C3        0.0   60 months   \n",
       "58201          ...                15.9         D3        0.0   36 months   \n",
       "125772         ...                70.9         C4        0.0   36 months   \n",
       "\n",
       "        tot_coll_amt tot_hi_cred_lim total_bal_ex_mort total_bc_limit  \\\n",
       "758903           0.0        480978.0           51290.0        25200.0   \n",
       "100808           0.0         20608.0           13987.0         4800.0   \n",
       "39088            0.0         11600.0            5269.0         4500.0   \n",
       "58201            0.0        687640.0           27521.0         6300.0   \n",
       "125772           0.0        643932.0           93376.0        21900.0   \n",
       "\n",
       "        total_il_high_credit_limit  verification_status  \n",
       "758903                     34478.0             Verified  \n",
       "100808                     10408.0         Not Verified  \n",
       "39088                       4000.0             Verified  \n",
       "58201                      35040.0      Source Verified  \n",
       "125772                    149273.0             Verified  \n",
       "\n",
       "[5 rows x 48 columns]"
      ]
     },
     "execution_count": 6,
     "metadata": {},
     "output_type": "execute_result"
    }
   ],
   "source": [
    "data.head()"
   ]
  },
  {
   "cell_type": "code",
   "execution_count": 7,
   "metadata": {},
   "outputs": [
    {
     "data": {
      "text/plain": [
       "(100000, 48)"
      ]
     },
     "execution_count": 7,
     "metadata": {},
     "output_type": "execute_result"
    }
   ],
   "source": [
    "data.shape"
   ]
  },
  {
   "cell_type": "markdown",
   "metadata": {},
   "source": [
    "#### Pre-processing:"
   ]
  },
  {
   "cell_type": "markdown",
   "metadata": {},
   "source": [
    "Scale:"
   ]
  },
  {
   "cell_type": "code",
   "execution_count": 8,
   "metadata": {},
   "outputs": [],
   "source": [
    "numeric_variables = data._get_numeric_data().columns"
   ]
  },
  {
   "cell_type": "code",
   "execution_count": 9,
   "metadata": {},
   "outputs": [],
   "source": [
    "scaler = RobustScaler()"
   ]
  },
  {
   "cell_type": "code",
   "execution_count": 10,
   "metadata": {},
   "outputs": [
    {
     "data": {
      "text/plain": [
       "RobustScaler(copy=True, quantile_range=(25.0, 75.0), with_centering=True,\n",
       "       with_scaling=True)"
      ]
     },
     "execution_count": 10,
     "metadata": {},
     "output_type": "execute_result"
    }
   ],
   "source": [
    "scaler.fit(data[numeric_variables])"
   ]
  },
  {
   "cell_type": "code",
   "execution_count": 11,
   "metadata": {},
   "outputs": [],
   "source": [
    "data[numeric_variables] = scaler.transform(data[numeric_variables])"
   ]
  },
  {
   "cell_type": "code",
   "execution_count": 12,
   "metadata": {},
   "outputs": [
    {
     "data": {
      "text/html": [
       "<div>\n",
       "<style scoped>\n",
       "    .dataframe tbody tr th:only-of-type {\n",
       "        vertical-align: middle;\n",
       "    }\n",
       "\n",
       "    .dataframe tbody tr th {\n",
       "        vertical-align: top;\n",
       "    }\n",
       "\n",
       "    .dataframe thead th {\n",
       "        text-align: right;\n",
       "    }\n",
       "</style>\n",
       "<table border=\"1\" class=\"dataframe\">\n",
       "  <thead>\n",
       "    <tr style=\"text-align: right;\">\n",
       "      <th></th>\n",
       "      <th>addr_state</th>\n",
       "      <th>annual_inc</th>\n",
       "      <th>application_type</th>\n",
       "      <th>avg_cur_bal</th>\n",
       "      <th>bc_open_to_buy</th>\n",
       "      <th>bc_util</th>\n",
       "      <th>delinq_2yrs</th>\n",
       "      <th>delinq_amnt</th>\n",
       "      <th>disbursement_method</th>\n",
       "      <th>dti</th>\n",
       "      <th>...</th>\n",
       "      <th>revol_util</th>\n",
       "      <th>sub_grade</th>\n",
       "      <th>tax_liens</th>\n",
       "      <th>term</th>\n",
       "      <th>tot_coll_amt</th>\n",
       "      <th>tot_hi_cred_lim</th>\n",
       "      <th>total_bal_ex_mort</th>\n",
       "      <th>total_bc_limit</th>\n",
       "      <th>total_il_high_credit_limit</th>\n",
       "      <th>verification_status</th>\n",
       "    </tr>\n",
       "  </thead>\n",
       "  <tbody>\n",
       "    <tr>\n",
       "      <th>758903</th>\n",
       "      <td>CA</td>\n",
       "      <td>-0.177778</td>\n",
       "      <td>Individual</td>\n",
       "      <td>3.009498</td>\n",
       "      <td>-0.352356</td>\n",
       "      <td>0.779193</td>\n",
       "      <td>0.0</td>\n",
       "      <td>0.0</td>\n",
       "      <td>Cash</td>\n",
       "      <td>0.791457</td>\n",
       "      <td>...</td>\n",
       "      <td>0.913279</td>\n",
       "      <td>E2</td>\n",
       "      <td>0.0</td>\n",
       "      <td>36 months</td>\n",
       "      <td>0.0</td>\n",
       "      <td>1.962802</td>\n",
       "      <td>0.407105</td>\n",
       "      <td>0.596939</td>\n",
       "      <td>0.159036</td>\n",
       "      <td>Verified</td>\n",
       "    </tr>\n",
       "    <tr>\n",
       "      <th>100808</th>\n",
       "      <td>WI</td>\n",
       "      <td>-1.044444</td>\n",
       "      <td>Individual</td>\n",
       "      <td>-0.311093</td>\n",
       "      <td>-0.251296</td>\n",
       "      <td>0.231423</td>\n",
       "      <td>0.0</td>\n",
       "      <td>0.0</td>\n",
       "      <td>Cash</td>\n",
       "      <td>0.600503</td>\n",
       "      <td>...</td>\n",
       "      <td>-0.154472</td>\n",
       "      <td>D2</td>\n",
       "      <td>0.0</td>\n",
       "      <td>36 months</td>\n",
       "      <td>0.0</td>\n",
       "      <td>-0.374283</td>\n",
       "      <td>-0.500511</td>\n",
       "      <td>-0.443878</td>\n",
       "      <td>-0.396712</td>\n",
       "      <td>Not Verified</td>\n",
       "    </tr>\n",
       "    <tr>\n",
       "      <th>39088</th>\n",
       "      <td>FL</td>\n",
       "      <td>-0.666667</td>\n",
       "      <td>Individual</td>\n",
       "      <td>-0.344362</td>\n",
       "      <td>-0.050322</td>\n",
       "      <td>-0.715499</td>\n",
       "      <td>0.0</td>\n",
       "      <td>0.0</td>\n",
       "      <td>Cash</td>\n",
       "      <td>-0.860134</td>\n",
       "      <td>...</td>\n",
       "      <td>-0.915989</td>\n",
       "      <td>C3</td>\n",
       "      <td>0.0</td>\n",
       "      <td>60 months</td>\n",
       "      <td>0.0</td>\n",
       "      <td>-0.420012</td>\n",
       "      <td>-0.712628</td>\n",
       "      <td>-0.459184</td>\n",
       "      <td>-0.544665</td>\n",
       "      <td>Verified</td>\n",
       "    </tr>\n",
       "    <tr>\n",
       "      <th>58201</th>\n",
       "      <td>NJ</td>\n",
       "      <td>3.888889</td>\n",
       "      <td>Individual</td>\n",
       "      <td>2.735499</td>\n",
       "      <td>-0.010627</td>\n",
       "      <td>-0.409766</td>\n",
       "      <td>0.0</td>\n",
       "      <td>0.0</td>\n",
       "      <td>Cash</td>\n",
       "      <td>-1.113065</td>\n",
       "      <td>...</td>\n",
       "      <td>-1.024390</td>\n",
       "      <td>D3</td>\n",
       "      <td>0.0</td>\n",
       "      <td>36 months</td>\n",
       "      <td>0.0</td>\n",
       "      <td>3.011929</td>\n",
       "      <td>-0.171217</td>\n",
       "      <td>-0.367347</td>\n",
       "      <td>0.172012</td>\n",
       "      <td>Source Verified</td>\n",
       "    </tr>\n",
       "    <tr>\n",
       "      <th>125772</th>\n",
       "      <td>CA</td>\n",
       "      <td>1.666667</td>\n",
       "      <td>Individual</td>\n",
       "      <td>3.651114</td>\n",
       "      <td>0.219207</td>\n",
       "      <td>0.242038</td>\n",
       "      <td>0.0</td>\n",
       "      <td>0.0</td>\n",
       "      <td>Cash</td>\n",
       "      <td>0.564489</td>\n",
       "      <td>...</td>\n",
       "      <td>0.466125</td>\n",
       "      <td>C4</td>\n",
       "      <td>0.0</td>\n",
       "      <td>36 months</td>\n",
       "      <td>0.0</td>\n",
       "      <td>2.790043</td>\n",
       "      <td>1.431095</td>\n",
       "      <td>0.428571</td>\n",
       "      <td>2.809517</td>\n",
       "      <td>Verified</td>\n",
       "    </tr>\n",
       "  </tbody>\n",
       "</table>\n",
       "<p>5 rows × 48 columns</p>\n",
       "</div>"
      ],
      "text/plain": [
       "       addr_state  annual_inc application_type  avg_cur_bal  bc_open_to_buy  \\\n",
       "758903         CA   -0.177778       Individual     3.009498       -0.352356   \n",
       "100808         WI   -1.044444       Individual    -0.311093       -0.251296   \n",
       "39088          FL   -0.666667       Individual    -0.344362       -0.050322   \n",
       "58201          NJ    3.888889       Individual     2.735499       -0.010627   \n",
       "125772         CA    1.666667       Individual     3.651114        0.219207   \n",
       "\n",
       "         bc_util  delinq_2yrs  delinq_amnt disbursement_method       dti  \\\n",
       "758903  0.779193          0.0          0.0                Cash  0.791457   \n",
       "100808  0.231423          0.0          0.0                Cash  0.600503   \n",
       "39088  -0.715499          0.0          0.0                Cash -0.860134   \n",
       "58201  -0.409766          0.0          0.0                Cash -1.113065   \n",
       "125772  0.242038          0.0          0.0                Cash  0.564489   \n",
       "\n",
       "               ...          revol_util  sub_grade  tax_liens        term  \\\n",
       "758903         ...            0.913279         E2        0.0   36 months   \n",
       "100808         ...           -0.154472         D2        0.0   36 months   \n",
       "39088          ...           -0.915989         C3        0.0   60 months   \n",
       "58201          ...           -1.024390         D3        0.0   36 months   \n",
       "125772         ...            0.466125         C4        0.0   36 months   \n",
       "\n",
       "        tot_coll_amt tot_hi_cred_lim total_bal_ex_mort total_bc_limit  \\\n",
       "758903           0.0        1.962802          0.407105       0.596939   \n",
       "100808           0.0       -0.374283         -0.500511      -0.443878   \n",
       "39088            0.0       -0.420012         -0.712628      -0.459184   \n",
       "58201            0.0        3.011929         -0.171217      -0.367347   \n",
       "125772           0.0        2.790043          1.431095       0.428571   \n",
       "\n",
       "        total_il_high_credit_limit  verification_status  \n",
       "758903                    0.159036             Verified  \n",
       "100808                   -0.396712         Not Verified  \n",
       "39088                    -0.544665             Verified  \n",
       "58201                     0.172012      Source Verified  \n",
       "125772                    2.809517             Verified  \n",
       "\n",
       "[5 rows x 48 columns]"
      ]
     },
     "execution_count": 12,
     "metadata": {},
     "output_type": "execute_result"
    }
   ],
   "source": [
    "data.head()"
   ]
  },
  {
   "cell_type": "code",
   "execution_count": 13,
   "metadata": {},
   "outputs": [],
   "source": [
    "#data = data.loc[:,data.columns != 'last_fico_range_high']"
   ]
  },
  {
   "cell_type": "markdown",
   "metadata": {},
   "source": [
    "Categorical Variables:"
   ]
  },
  {
   "cell_type": "code",
   "execution_count": 14,
   "metadata": {},
   "outputs": [],
   "source": [
    "categorical_variables = data.select_dtypes(include=\"object\").columns"
   ]
  },
  {
   "cell_type": "code",
   "execution_count": 15,
   "metadata": {},
   "outputs": [],
   "source": [
    "def categorical_to_numeric(variable):\n",
    "    \n",
    "    variable_dict = dict(data.groupby(variable)['loan_status'].mean())\n",
    "    \n",
    "    result = data[variable].map(lambda i: variable_dict[i])\n",
    "    \n",
    "    return result"
   ]
  },
  {
   "cell_type": "code",
   "execution_count": 16,
   "metadata": {},
   "outputs": [],
   "source": [
    "for variable in categorical_variables:\n",
    "    data[variable] = categorical_to_numeric(variable)"
   ]
  },
  {
   "cell_type": "code",
   "execution_count": 17,
   "metadata": {},
   "outputs": [
    {
     "data": {
      "text/html": [
       "<div>\n",
       "<style scoped>\n",
       "    .dataframe tbody tr th:only-of-type {\n",
       "        vertical-align: middle;\n",
       "    }\n",
       "\n",
       "    .dataframe tbody tr th {\n",
       "        vertical-align: top;\n",
       "    }\n",
       "\n",
       "    .dataframe thead th {\n",
       "        text-align: right;\n",
       "    }\n",
       "</style>\n",
       "<table border=\"1\" class=\"dataframe\">\n",
       "  <thead>\n",
       "    <tr style=\"text-align: right;\">\n",
       "      <th></th>\n",
       "      <th>addr_state</th>\n",
       "      <th>annual_inc</th>\n",
       "      <th>application_type</th>\n",
       "      <th>avg_cur_bal</th>\n",
       "      <th>bc_open_to_buy</th>\n",
       "      <th>bc_util</th>\n",
       "      <th>delinq_2yrs</th>\n",
       "      <th>delinq_amnt</th>\n",
       "      <th>disbursement_method</th>\n",
       "      <th>dti</th>\n",
       "      <th>...</th>\n",
       "      <th>revol_util</th>\n",
       "      <th>sub_grade</th>\n",
       "      <th>tax_liens</th>\n",
       "      <th>term</th>\n",
       "      <th>tot_coll_amt</th>\n",
       "      <th>tot_hi_cred_lim</th>\n",
       "      <th>total_bal_ex_mort</th>\n",
       "      <th>total_bc_limit</th>\n",
       "      <th>total_il_high_credit_limit</th>\n",
       "      <th>verification_status</th>\n",
       "    </tr>\n",
       "  </thead>\n",
       "  <tbody>\n",
       "    <tr>\n",
       "      <th>758903</th>\n",
       "      <td>0.201377</td>\n",
       "      <td>-0.177778</td>\n",
       "      <td>0.207613</td>\n",
       "      <td>3.009498</td>\n",
       "      <td>-0.352356</td>\n",
       "      <td>0.779193</td>\n",
       "      <td>0.0</td>\n",
       "      <td>0.0</td>\n",
       "      <td>0.207042</td>\n",
       "      <td>0.791457</td>\n",
       "      <td>...</td>\n",
       "      <td>0.913279</td>\n",
       "      <td>0.384487</td>\n",
       "      <td>0.0</td>\n",
       "      <td>0.166491</td>\n",
       "      <td>0.0</td>\n",
       "      <td>1.962802</td>\n",
       "      <td>0.407105</td>\n",
       "      <td>0.596939</td>\n",
       "      <td>0.159036</td>\n",
       "      <td>0.242382</td>\n",
       "    </tr>\n",
       "    <tr>\n",
       "      <th>100808</th>\n",
       "      <td>0.179862</td>\n",
       "      <td>-1.044444</td>\n",
       "      <td>0.207613</td>\n",
       "      <td>-0.311093</td>\n",
       "      <td>-0.251296</td>\n",
       "      <td>0.231423</td>\n",
       "      <td>0.0</td>\n",
       "      <td>0.0</td>\n",
       "      <td>0.207042</td>\n",
       "      <td>0.600503</td>\n",
       "      <td>...</td>\n",
       "      <td>-0.154472</td>\n",
       "      <td>0.295874</td>\n",
       "      <td>0.0</td>\n",
       "      <td>0.166491</td>\n",
       "      <td>0.0</td>\n",
       "      <td>-0.374283</td>\n",
       "      <td>-0.500511</td>\n",
       "      <td>-0.443878</td>\n",
       "      <td>-0.396712</td>\n",
       "      <td>0.153999</td>\n",
       "    </tr>\n",
       "    <tr>\n",
       "      <th>39088</th>\n",
       "      <td>0.219215</td>\n",
       "      <td>-0.666667</td>\n",
       "      <td>0.207613</td>\n",
       "      <td>-0.344362</td>\n",
       "      <td>-0.050322</td>\n",
       "      <td>-0.715499</td>\n",
       "      <td>0.0</td>\n",
       "      <td>0.0</td>\n",
       "      <td>0.207042</td>\n",
       "      <td>-0.860134</td>\n",
       "      <td>...</td>\n",
       "      <td>-0.915989</td>\n",
       "      <td>0.234722</td>\n",
       "      <td>0.0</td>\n",
       "      <td>0.336205</td>\n",
       "      <td>0.0</td>\n",
       "      <td>-0.420012</td>\n",
       "      <td>-0.712628</td>\n",
       "      <td>-0.459184</td>\n",
       "      <td>-0.544665</td>\n",
       "      <td>0.242382</td>\n",
       "    </tr>\n",
       "    <tr>\n",
       "      <th>58201</th>\n",
       "      <td>0.212695</td>\n",
       "      <td>3.888889</td>\n",
       "      <td>0.207613</td>\n",
       "      <td>2.735499</td>\n",
       "      <td>-0.010627</td>\n",
       "      <td>-0.409766</td>\n",
       "      <td>0.0</td>\n",
       "      <td>0.0</td>\n",
       "      <td>0.207042</td>\n",
       "      <td>-1.113065</td>\n",
       "      <td>...</td>\n",
       "      <td>-1.024390</td>\n",
       "      <td>0.305691</td>\n",
       "      <td>0.0</td>\n",
       "      <td>0.166491</td>\n",
       "      <td>0.0</td>\n",
       "      <td>3.011929</td>\n",
       "      <td>-0.171217</td>\n",
       "      <td>-0.367347</td>\n",
       "      <td>0.172012</td>\n",
       "      <td>0.220686</td>\n",
       "    </tr>\n",
       "    <tr>\n",
       "      <th>125772</th>\n",
       "      <td>0.201377</td>\n",
       "      <td>1.666667</td>\n",
       "      <td>0.207613</td>\n",
       "      <td>3.651114</td>\n",
       "      <td>0.219207</td>\n",
       "      <td>0.242038</td>\n",
       "      <td>0.0</td>\n",
       "      <td>0.0</td>\n",
       "      <td>0.207042</td>\n",
       "      <td>0.564489</td>\n",
       "      <td>...</td>\n",
       "      <td>0.466125</td>\n",
       "      <td>0.248523</td>\n",
       "      <td>0.0</td>\n",
       "      <td>0.166491</td>\n",
       "      <td>0.0</td>\n",
       "      <td>2.790043</td>\n",
       "      <td>1.431095</td>\n",
       "      <td>0.428571</td>\n",
       "      <td>2.809517</td>\n",
       "      <td>0.242382</td>\n",
       "    </tr>\n",
       "  </tbody>\n",
       "</table>\n",
       "<p>5 rows × 48 columns</p>\n",
       "</div>"
      ],
      "text/plain": [
       "        addr_state  annual_inc  application_type  avg_cur_bal  bc_open_to_buy  \\\n",
       "758903    0.201377   -0.177778          0.207613     3.009498       -0.352356   \n",
       "100808    0.179862   -1.044444          0.207613    -0.311093       -0.251296   \n",
       "39088     0.219215   -0.666667          0.207613    -0.344362       -0.050322   \n",
       "58201     0.212695    3.888889          0.207613     2.735499       -0.010627   \n",
       "125772    0.201377    1.666667          0.207613     3.651114        0.219207   \n",
       "\n",
       "         bc_util  delinq_2yrs  delinq_amnt  disbursement_method       dti  \\\n",
       "758903  0.779193          0.0          0.0             0.207042  0.791457   \n",
       "100808  0.231423          0.0          0.0             0.207042  0.600503   \n",
       "39088  -0.715499          0.0          0.0             0.207042 -0.860134   \n",
       "58201  -0.409766          0.0          0.0             0.207042 -1.113065   \n",
       "125772  0.242038          0.0          0.0             0.207042  0.564489   \n",
       "\n",
       "               ...           revol_util  sub_grade  tax_liens      term  \\\n",
       "758903         ...             0.913279   0.384487        0.0  0.166491   \n",
       "100808         ...            -0.154472   0.295874        0.0  0.166491   \n",
       "39088          ...            -0.915989   0.234722        0.0  0.336205   \n",
       "58201          ...            -1.024390   0.305691        0.0  0.166491   \n",
       "125772         ...             0.466125   0.248523        0.0  0.166491   \n",
       "\n",
       "        tot_coll_amt  tot_hi_cred_lim  total_bal_ex_mort  total_bc_limit  \\\n",
       "758903           0.0         1.962802           0.407105        0.596939   \n",
       "100808           0.0        -0.374283          -0.500511       -0.443878   \n",
       "39088            0.0        -0.420012          -0.712628       -0.459184   \n",
       "58201            0.0         3.011929          -0.171217       -0.367347   \n",
       "125772           0.0         2.790043           1.431095        0.428571   \n",
       "\n",
       "        total_il_high_credit_limit  verification_status  \n",
       "758903                    0.159036             0.242382  \n",
       "100808                   -0.396712             0.153999  \n",
       "39088                    -0.544665             0.242382  \n",
       "58201                     0.172012             0.220686  \n",
       "125772                    2.809517             0.242382  \n",
       "\n",
       "[5 rows x 48 columns]"
      ]
     },
     "execution_count": 17,
     "metadata": {},
     "output_type": "execute_result"
    }
   ],
   "source": [
    "data.head()"
   ]
  },
  {
   "cell_type": "code",
   "execution_count": 18,
   "metadata": {
    "scrolled": true
   },
   "outputs": [
    {
     "data": {
      "text/plain": [
       "(100000, 48)"
      ]
     },
     "execution_count": 18,
     "metadata": {},
     "output_type": "execute_result"
    }
   ],
   "source": [
    "data.shape"
   ]
  },
  {
   "cell_type": "markdown",
   "metadata": {},
   "source": [
    "Target:"
   ]
  },
  {
   "cell_type": "code",
   "execution_count": 19,
   "metadata": {},
   "outputs": [],
   "source": [
    "X = data.loc[:, data.columns!='loan_status']"
   ]
  },
  {
   "cell_type": "code",
   "execution_count": 20,
   "metadata": {},
   "outputs": [],
   "source": [
    "y = data['loan_status']"
   ]
  },
  {
   "cell_type": "code",
   "execution_count": 15,
   "metadata": {},
   "outputs": [],
   "source": [
    "#X_train, X_test, y_train, y_test = train_test_split(X, y, test_size=0.20, random_state=4290)"
   ]
  },
  {
   "cell_type": "markdown",
   "metadata": {},
   "source": [
    "Prior:"
   ]
  },
  {
   "cell_type": "code",
   "execution_count": 21,
   "metadata": {},
   "outputs": [
    {
     "data": {
      "text/plain": [
       "0.79254"
      ]
     },
     "execution_count": 21,
     "metadata": {},
     "output_type": "execute_result"
    }
   ],
   "source": [
    "y.value_counts()[0] / len(y)"
   ]
  },
  {
   "cell_type": "markdown",
   "metadata": {},
   "source": [
    "__Logistic Regression__:"
   ]
  },
  {
   "cell_type": "markdown",
   "metadata": {},
   "source": [
    "Tuning regularization:"
   ]
  },
  {
   "cell_type": "code",
   "execution_count": 25,
   "metadata": {},
   "outputs": [],
   "source": [
    "parameters = {'C': np.power(10.0, np.arange(-10, 10))}"
   ]
  },
  {
   "cell_type": "markdown",
   "metadata": {},
   "source": [
    "GridSearch with Cross Validation:"
   ]
  },
  {
   "cell_type": "code",
   "execution_count": 27,
   "metadata": {},
   "outputs": [],
   "source": [
    "log_reg = LogisticRegression(penalty='l2')"
   ]
  },
  {
   "cell_type": "code",
   "execution_count": 36,
   "metadata": {},
   "outputs": [],
   "source": [
    "log_reg_classifier = GridSearchCV(log_reg, parameters, cv=5, scoring=\"roc_auc\")"
   ]
  },
  {
   "cell_type": "code",
   "execution_count": 37,
   "metadata": {
    "scrolled": true
   },
   "outputs": [
    {
     "data": {
      "text/plain": [
       "GridSearchCV(cv=5, error_score='raise',\n",
       "       estimator=LogisticRegression(C=1.0, class_weight=None, dual=False, fit_intercept=True,\n",
       "          intercept_scaling=1, max_iter=100, multi_class='ovr', n_jobs=1,\n",
       "          penalty='l2', random_state=None, solver='liblinear', tol=0.0001,\n",
       "          verbose=0, warm_start=False),\n",
       "       fit_params=None, iid=True, n_jobs=1,\n",
       "       param_grid={'C': array([1.e-10, 1.e-09, 1.e-08, 1.e-07, 1.e-06, 1.e-05, 1.e-04, 1.e-03,\n",
       "       1.e-02, 1.e-01, 1.e+00, 1.e+01, 1.e+02, 1.e+03, 1.e+04, 1.e+05,\n",
       "       1.e+06, 1.e+07, 1.e+08, 1.e+09])},\n",
       "       pre_dispatch='2*n_jobs', refit=True, return_train_score='warn',\n",
       "       scoring='roc_auc', verbose=0)"
      ]
     },
     "execution_count": 37,
     "metadata": {},
     "output_type": "execute_result"
    }
   ],
   "source": [
    "log_reg_classifier.fit(X, y)"
   ]
  },
  {
   "cell_type": "markdown",
   "metadata": {},
   "source": [
    "Best estimator and result:"
   ]
  },
  {
   "cell_type": "code",
   "execution_count": 38,
   "metadata": {},
   "outputs": [
    {
     "data": {
      "text/plain": [
       "LogisticRegression(C=10.0, class_weight=None, dual=False, fit_intercept=True,\n",
       "          intercept_scaling=1, max_iter=100, multi_class='ovr', n_jobs=1,\n",
       "          penalty='l2', random_state=None, solver='liblinear', tol=0.0001,\n",
       "          verbose=0, warm_start=False)"
      ]
     },
     "execution_count": 38,
     "metadata": {},
     "output_type": "execute_result"
    }
   ],
   "source": [
    "log_reg_classifier.best_estimator_"
   ]
  },
  {
   "cell_type": "code",
   "execution_count": 39,
   "metadata": {},
   "outputs": [
    {
     "data": {
      "text/plain": [
       "0.7162357408033346"
      ]
     },
     "execution_count": 39,
     "metadata": {},
     "output_type": "execute_result"
    }
   ],
   "source": [
    "log_reg_classifier.best_score_"
   ]
  }
 ],
 "metadata": {
  "kernelspec": {
   "display_name": "Python 3",
   "language": "python",
   "name": "python3"
  },
  "language_info": {
   "codemirror_mode": {
    "name": "ipython",
    "version": 3
   },
   "file_extension": ".py",
   "mimetype": "text/x-python",
   "name": "python",
   "nbconvert_exporter": "python",
   "pygments_lexer": "ipython3",
   "version": "3.6.4"
  }
 },
 "nbformat": 4,
 "nbformat_minor": 2
}
