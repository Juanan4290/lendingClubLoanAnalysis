{
 "cells": [
  {
   "cell_type": "code",
   "execution_count": 64,
   "metadata": {},
   "outputs": [],
   "source": [
    "import numpy as np\n",
    "import pandas as pd\n",
    "\n",
    "import matplotlib.pyplot as plt; plt.style.use(\"ggplot\")\n",
    "import seaborn as sns\n",
    "\n",
    "from matplotlib import rcParams\n",
    "from collections import Counter\n",
    "\n",
    "%matplotlib inline\n",
    "# figure size\n",
    "rcParams['figure.figsize'] = 11,6\n",
    "# remove warnings\n",
    "import warnings\n",
    "warnings.filterwarnings('ignore')"
   ]
  },
  {
   "cell_type": "code",
   "execution_count": 28,
   "metadata": {
    "scrolled": true
   },
   "outputs": [],
   "source": [
    "loans = pd.read_csv(\"../../data/loans_sample.csv\", sep = \"^\")"
   ]
  },
  {
   "cell_type": "code",
   "execution_count": 29,
   "metadata": {},
   "outputs": [
    {
     "data": {
      "text/html": [
       "<div>\n",
       "<style scoped>\n",
       "    .dataframe tbody tr th:only-of-type {\n",
       "        vertical-align: middle;\n",
       "    }\n",
       "\n",
       "    .dataframe tbody tr th {\n",
       "        vertical-align: top;\n",
       "    }\n",
       "\n",
       "    .dataframe thead th {\n",
       "        text-align: right;\n",
       "    }\n",
       "</style>\n",
       "<table border=\"1\" class=\"dataframe\">\n",
       "  <thead>\n",
       "    <tr style=\"text-align: right;\">\n",
       "      <th></th>\n",
       "      <th>funded_amnt_inv</th>\n",
       "      <th>term</th>\n",
       "      <th>issue_d</th>\n",
       "      <th>installment</th>\n",
       "      <th>int_rate</th>\n",
       "      <th>grade</th>\n",
       "      <th>emp_title</th>\n",
       "      <th>emp_length</th>\n",
       "      <th>annual_inc</th>\n",
       "      <th>title</th>\n",
       "      <th>dti</th>\n",
       "      <th>home_ownership</th>\n",
       "      <th>zip_code</th>\n",
       "      <th>addr_state</th>\n",
       "      <th>total_rec_late_fee</th>\n",
       "      <th>application_type</th>\n",
       "      <th>total_acc</th>\n",
       "      <th>loan_status</th>\n",
       "    </tr>\n",
       "  </thead>\n",
       "  <tbody>\n",
       "    <tr>\n",
       "      <th>0</th>\n",
       "      <td>25000.0</td>\n",
       "      <td>36 months</td>\n",
       "      <td>Jan-2015</td>\n",
       "      <td>777.55</td>\n",
       "      <td>7.49%</td>\n",
       "      <td>A</td>\n",
       "      <td>Senior Quality Engineer</td>\n",
       "      <td>10+ years</td>\n",
       "      <td>106157.0</td>\n",
       "      <td>Debt consolidation</td>\n",
       "      <td>9.37</td>\n",
       "      <td>MORTGAGE</td>\n",
       "      <td>922xx</td>\n",
       "      <td>CA</td>\n",
       "      <td>0.00</td>\n",
       "      <td>Individual</td>\n",
       "      <td>49.0</td>\n",
       "      <td>0</td>\n",
       "    </tr>\n",
       "    <tr>\n",
       "      <th>1</th>\n",
       "      <td>12000.0</td>\n",
       "      <td>36 months</td>\n",
       "      <td>May-2014</td>\n",
       "      <td>404.27</td>\n",
       "      <td>12.99%</td>\n",
       "      <td>C</td>\n",
       "      <td>service manager</td>\n",
       "      <td>7 years</td>\n",
       "      <td>67000.0</td>\n",
       "      <td>Debt consolidation</td>\n",
       "      <td>21.33</td>\n",
       "      <td>MORTGAGE</td>\n",
       "      <td>315xx</td>\n",
       "      <td>GA</td>\n",
       "      <td>0.00</td>\n",
       "      <td>Individual</td>\n",
       "      <td>28.0</td>\n",
       "      <td>1</td>\n",
       "    </tr>\n",
       "    <tr>\n",
       "      <th>2</th>\n",
       "      <td>4800.0</td>\n",
       "      <td>36 months</td>\n",
       "      <td>Aug-2013</td>\n",
       "      <td>175.59</td>\n",
       "      <td>18.85%</td>\n",
       "      <td>D</td>\n",
       "      <td>LAVO</td>\n",
       "      <td>3 years</td>\n",
       "      <td>56000.0</td>\n",
       "      <td>Consolidate</td>\n",
       "      <td>7.62</td>\n",
       "      <td>RENT</td>\n",
       "      <td>900xx</td>\n",
       "      <td>CA</td>\n",
       "      <td>0.00</td>\n",
       "      <td>Individual</td>\n",
       "      <td>15.0</td>\n",
       "      <td>0</td>\n",
       "    </tr>\n",
       "    <tr>\n",
       "      <th>3</th>\n",
       "      <td>7900.0</td>\n",
       "      <td>36 months</td>\n",
       "      <td>Oct-2014</td>\n",
       "      <td>273.82</td>\n",
       "      <td>14.99%</td>\n",
       "      <td>C</td>\n",
       "      <td>security guard</td>\n",
       "      <td>1 year</td>\n",
       "      <td>58300.0</td>\n",
       "      <td>Debt consolidation</td>\n",
       "      <td>12.15</td>\n",
       "      <td>MORTGAGE</td>\n",
       "      <td>775xx</td>\n",
       "      <td>TX</td>\n",
       "      <td>0.00</td>\n",
       "      <td>Individual</td>\n",
       "      <td>17.0</td>\n",
       "      <td>0</td>\n",
       "    </tr>\n",
       "    <tr>\n",
       "      <th>4</th>\n",
       "      <td>10725.0</td>\n",
       "      <td>36 months</td>\n",
       "      <td>Jul-2014</td>\n",
       "      <td>385.43</td>\n",
       "      <td>17.57%</td>\n",
       "      <td>D</td>\n",
       "      <td>Teacher</td>\n",
       "      <td>1 year</td>\n",
       "      <td>36000.0</td>\n",
       "      <td>Debt consolidation</td>\n",
       "      <td>21.68</td>\n",
       "      <td>RENT</td>\n",
       "      <td>361xx</td>\n",
       "      <td>AL</td>\n",
       "      <td>19.27</td>\n",
       "      <td>Individual</td>\n",
       "      <td>18.0</td>\n",
       "      <td>0</td>\n",
       "    </tr>\n",
       "  </tbody>\n",
       "</table>\n",
       "</div>"
      ],
      "text/plain": [
       "   funded_amnt_inv        term   issue_d  installment int_rate grade  \\\n",
       "0          25000.0   36 months  Jan-2015       777.55    7.49%     A   \n",
       "1          12000.0   36 months  May-2014       404.27   12.99%     C   \n",
       "2           4800.0   36 months  Aug-2013       175.59   18.85%     D   \n",
       "3           7900.0   36 months  Oct-2014       273.82   14.99%     C   \n",
       "4          10725.0   36 months  Jul-2014       385.43   17.57%     D   \n",
       "\n",
       "                 emp_title emp_length  annual_inc               title    dti  \\\n",
       "0  Senior Quality Engineer  10+ years    106157.0  Debt consolidation   9.37   \n",
       "1          service manager    7 years     67000.0  Debt consolidation  21.33   \n",
       "2                     LAVO    3 years     56000.0         Consolidate   7.62   \n",
       "3           security guard     1 year     58300.0  Debt consolidation  12.15   \n",
       "4                  Teacher     1 year     36000.0  Debt consolidation  21.68   \n",
       "\n",
       "  home_ownership zip_code addr_state  total_rec_late_fee application_type  \\\n",
       "0       MORTGAGE    922xx         CA                0.00       Individual   \n",
       "1       MORTGAGE    315xx         GA                0.00       Individual   \n",
       "2           RENT    900xx         CA                0.00       Individual   \n",
       "3       MORTGAGE    775xx         TX                0.00       Individual   \n",
       "4           RENT    361xx         AL               19.27       Individual   \n",
       "\n",
       "   total_acc  loan_status  \n",
       "0       49.0            0  \n",
       "1       28.0            1  \n",
       "2       15.0            0  \n",
       "3       17.0            0  \n",
       "4       18.0            0  "
      ]
     },
     "execution_count": 29,
     "metadata": {},
     "output_type": "execute_result"
    }
   ],
   "source": [
    "loans.head()"
   ]
  },
  {
   "cell_type": "code",
   "execution_count": 30,
   "metadata": {},
   "outputs": [
    {
     "data": {
      "text/plain": [
       "funded_amnt_inv       float64\n",
       "term                   object\n",
       "issue_d                object\n",
       "installment           float64\n",
       "int_rate               object\n",
       "grade                  object\n",
       "emp_title              object\n",
       "emp_length             object\n",
       "annual_inc            float64\n",
       "title                  object\n",
       "dti                   float64\n",
       "home_ownership         object\n",
       "zip_code               object\n",
       "addr_state             object\n",
       "total_rec_late_fee    float64\n",
       "application_type       object\n",
       "total_acc             float64\n",
       "loan_status             int64\n",
       "dtype: object"
      ]
     },
     "execution_count": 30,
     "metadata": {},
     "output_type": "execute_result"
    }
   ],
   "source": [
    "loans.dtypes"
   ]
  },
  {
   "cell_type": "code",
   "execution_count": 31,
   "metadata": {},
   "outputs": [],
   "source": [
    "numerical_variables = [\"funded_amnt_inv\", \"installment\", \"int_rate\", \"annual_inc\", \"dti\",\n",
    "                       \"total_rec_late_fee\", \"total_acc\"]"
   ]
  },
  {
   "cell_type": "markdown",
   "metadata": {},
   "source": [
    "__Interest Rate__"
   ]
  },
  {
   "cell_type": "code",
   "execution_count": 32,
   "metadata": {
    "scrolled": true
   },
   "outputs": [
    {
     "data": {
      "text/plain": [
       "0           7.49%\n",
       "1          12.99%\n",
       "2          18.85%\n",
       "3          14.99%\n",
       "4          17.57%\n",
       "5          13.33%\n",
       "6          18.25%\n",
       "7          13.98%\n",
       "8          10.99%\n",
       "9          28.99%\n",
       "10          9.99%\n",
       "11         14.99%\n",
       "12         12.99%\n",
       "13         13.99%\n",
       "14         13.61%\n",
       "15          9.71%\n",
       "16         12.29%\n",
       "17         15.59%\n",
       "18          7.62%\n",
       "19         12.99%\n",
       "20         14.30%\n",
       "21         16.99%\n",
       "22         12.99%\n",
       "23          8.19%\n",
       "24         15.61%\n",
       "25         12.99%\n",
       "26         16.29%\n",
       "27         21.98%\n",
       "28         11.49%\n",
       "29         19.20%\n",
       "           ...   \n",
       "100402     17.57%\n",
       "100403     12.62%\n",
       "100404     24.49%\n",
       "100405     14.65%\n",
       "100406     11.99%\n",
       "100407     12.99%\n",
       "100408     14.64%\n",
       "100409     13.59%\n",
       "100410     15.31%\n",
       "100411     22.70%\n",
       "100412     19.52%\n",
       "100413     11.53%\n",
       "100414     12.39%\n",
       "100415     12.69%\n",
       "100416     12.79%\n",
       "100417      7.69%\n",
       "100418     10.99%\n",
       "100419     11.71%\n",
       "100420     14.65%\n",
       "100421      6.49%\n",
       "100422     10.49%\n",
       "100423      6.03%\n",
       "100424      8.39%\n",
       "100425      9.17%\n",
       "100426     14.47%\n",
       "100427      8.19%\n",
       "100428     12.74%\n",
       "100429     10.16%\n",
       "100430     13.49%\n",
       "100431     10.15%\n",
       "Name: int_rate, Length: 100432, dtype: object"
      ]
     },
     "execution_count": 32,
     "metadata": {},
     "output_type": "execute_result"
    }
   ],
   "source": [
    "loans['int_rate']"
   ]
  },
  {
   "cell_type": "code",
   "execution_count": 33,
   "metadata": {},
   "outputs": [],
   "source": [
    "loans['int_rate'] = loans['int_rate'].map(lambda x: float(x[:-1]))"
   ]
  },
  {
   "cell_type": "code",
   "execution_count": 34,
   "metadata": {},
   "outputs": [
    {
     "data": {
      "text/plain": [
       "0     7.49\n",
       "1    12.99\n",
       "2    18.85\n",
       "3    14.99\n",
       "4    17.57\n",
       "Name: int_rate, dtype: float64"
      ]
     },
     "execution_count": 34,
     "metadata": {},
     "output_type": "execute_result"
    }
   ],
   "source": [
    "loans['int_rate'].head()"
   ]
  },
  {
   "cell_type": "code",
   "execution_count": 35,
   "metadata": {},
   "outputs": [
    {
     "data": {
      "text/plain": [
       "funded_amnt_inv       float64\n",
       "term                   object\n",
       "issue_d                object\n",
       "installment           float64\n",
       "int_rate              float64\n",
       "grade                  object\n",
       "emp_title              object\n",
       "emp_length             object\n",
       "annual_inc            float64\n",
       "title                  object\n",
       "dti                   float64\n",
       "home_ownership         object\n",
       "zip_code               object\n",
       "addr_state             object\n",
       "total_rec_late_fee    float64\n",
       "application_type       object\n",
       "total_acc             float64\n",
       "loan_status             int64\n",
       "dtype: object"
      ]
     },
     "execution_count": 35,
     "metadata": {},
     "output_type": "execute_result"
    }
   ],
   "source": [
    "loans.dtypes"
   ]
  },
  {
   "cell_type": "markdown",
   "metadata": {},
   "source": [
    "__Outliers__"
   ]
  },
  {
   "cell_type": "code",
   "execution_count": 71,
   "metadata": {},
   "outputs": [
    {
     "data": {
      "text/html": [
       "<div>\n",
       "<style scoped>\n",
       "    .dataframe tbody tr th:only-of-type {\n",
       "        vertical-align: middle;\n",
       "    }\n",
       "\n",
       "    .dataframe tbody tr th {\n",
       "        vertical-align: top;\n",
       "    }\n",
       "\n",
       "    .dataframe thead th {\n",
       "        text-align: right;\n",
       "    }\n",
       "</style>\n",
       "<table border=\"1\" class=\"dataframe\">\n",
       "  <thead>\n",
       "    <tr style=\"text-align: right;\">\n",
       "      <th></th>\n",
       "      <th>funded_amnt_inv</th>\n",
       "      <th>installment</th>\n",
       "      <th>int_rate</th>\n",
       "      <th>annual_inc</th>\n",
       "      <th>dti</th>\n",
       "      <th>total_rec_late_fee</th>\n",
       "      <th>total_acc</th>\n",
       "    </tr>\n",
       "  </thead>\n",
       "  <tbody>\n",
       "    <tr>\n",
       "      <th>count</th>\n",
       "      <td>100432.000000</td>\n",
       "      <td>100432.000000</td>\n",
       "      <td>100432.000000</td>\n",
       "      <td>1.004320e+05</td>\n",
       "      <td>100426.000000</td>\n",
       "      <td>100432.000000</td>\n",
       "      <td>100429.000000</td>\n",
       "    </tr>\n",
       "    <tr>\n",
       "      <th>mean</th>\n",
       "      <td>14256.926900</td>\n",
       "      <td>436.587013</td>\n",
       "      <td>13.463686</td>\n",
       "      <td>7.539306e+04</td>\n",
       "      <td>17.868144</td>\n",
       "      <td>1.126022</td>\n",
       "      <td>25.390674</td>\n",
       "    </tr>\n",
       "    <tr>\n",
       "      <th>std</th>\n",
       "      <td>8524.613057</td>\n",
       "      <td>257.093076</td>\n",
       "      <td>4.626455</td>\n",
       "      <td>6.223974e+04</td>\n",
       "      <td>9.157764</td>\n",
       "      <td>7.593729</td>\n",
       "      <td>11.968376</td>\n",
       "    </tr>\n",
       "    <tr>\n",
       "      <th>min</th>\n",
       "      <td>0.000000</td>\n",
       "      <td>16.310000</td>\n",
       "      <td>5.320000</td>\n",
       "      <td>0.000000e+00</td>\n",
       "      <td>0.000000</td>\n",
       "      <td>0.000000</td>\n",
       "      <td>1.000000</td>\n",
       "    </tr>\n",
       "    <tr>\n",
       "      <th>25%</th>\n",
       "      <td>7950.000000</td>\n",
       "      <td>251.360000</td>\n",
       "      <td>9.990000</td>\n",
       "      <td>4.564700e+04</td>\n",
       "      <td>11.610000</td>\n",
       "      <td>0.000000</td>\n",
       "      <td>17.000000</td>\n",
       "    </tr>\n",
       "    <tr>\n",
       "      <th>50%</th>\n",
       "      <td>12000.000000</td>\n",
       "      <td>375.990000</td>\n",
       "      <td>12.990000</td>\n",
       "      <td>6.500000e+04</td>\n",
       "      <td>17.330000</td>\n",
       "      <td>0.000000</td>\n",
       "      <td>24.000000</td>\n",
       "    </tr>\n",
       "    <tr>\n",
       "      <th>75%</th>\n",
       "      <td>20000.000000</td>\n",
       "      <td>574.322500</td>\n",
       "      <td>16.290000</td>\n",
       "      <td>9.000000e+04</td>\n",
       "      <td>23.630000</td>\n",
       "      <td>0.000000</td>\n",
       "      <td>32.000000</td>\n",
       "    </tr>\n",
       "    <tr>\n",
       "      <th>max</th>\n",
       "      <td>40000.000000</td>\n",
       "      <td>1584.900000</td>\n",
       "      <td>30.990000</td>\n",
       "      <td>9.550000e+06</td>\n",
       "      <td>999.000000</td>\n",
       "      <td>291.900000</td>\n",
       "      <td>135.000000</td>\n",
       "    </tr>\n",
       "  </tbody>\n",
       "</table>\n",
       "</div>"
      ],
      "text/plain": [
       "       funded_amnt_inv    installment       int_rate    annual_inc  \\\n",
       "count    100432.000000  100432.000000  100432.000000  1.004320e+05   \n",
       "mean      14256.926900     436.587013      13.463686  7.539306e+04   \n",
       "std        8524.613057     257.093076       4.626455  6.223974e+04   \n",
       "min           0.000000      16.310000       5.320000  0.000000e+00   \n",
       "25%        7950.000000     251.360000       9.990000  4.564700e+04   \n",
       "50%       12000.000000     375.990000      12.990000  6.500000e+04   \n",
       "75%       20000.000000     574.322500      16.290000  9.000000e+04   \n",
       "max       40000.000000    1584.900000      30.990000  9.550000e+06   \n",
       "\n",
       "                 dti  total_rec_late_fee      total_acc  \n",
       "count  100426.000000       100432.000000  100429.000000  \n",
       "mean       17.868144            1.126022      25.390674  \n",
       "std         9.157764            7.593729      11.968376  \n",
       "min         0.000000            0.000000       1.000000  \n",
       "25%        11.610000            0.000000      17.000000  \n",
       "50%        17.330000            0.000000      24.000000  \n",
       "75%        23.630000            0.000000      32.000000  \n",
       "max       999.000000          291.900000     135.000000  "
      ]
     },
     "execution_count": 71,
     "metadata": {},
     "output_type": "execute_result"
    }
   ],
   "source": [
    "loans[numerical_variables].describe()"
   ]
  },
  {
   "cell_type": "code",
   "execution_count": 69,
   "metadata": {},
   "outputs": [],
   "source": [
    "def detect_outliers(df,n,features):\n",
    "    \"\"\"\n",
    "    Takes a dataframe df of features and returns a list of the indices\n",
    "    corresponding to the observations containing more than n outliers according\n",
    "    to the Tukey method.\n",
    "    \"\"\"\n",
    "    outlier_indices = []\n",
    "    \n",
    "    # iterate over features(columns)\n",
    "    for col in features:\n",
    "        # 1st quartile (25%)\n",
    "        Q1 = np.percentile(df[col], 25)\n",
    "        # 3rd quartile (75%)\n",
    "        Q3 = np.percentile(df[col],75)\n",
    "        # Interquartile range (IQR)\n",
    "        IQR = Q3 - Q1\n",
    "        \n",
    "        # outlier step\n",
    "        outlier_step = 1.5 * IQR\n",
    "        \n",
    "        # Determine a list of indices of outliers for feature col\n",
    "        outlier_list_col = df[(df[col] < Q1 - outlier_step) | (df[col] > Q3 + outlier_step )].index\n",
    "        \n",
    "        # append the found outlier indices for col to the list of outlier indices \n",
    "        outlier_indices.extend(outlier_list_col)\n",
    "        \n",
    "    # select observations containing more than n outliers\n",
    "    outlier_indices = Counter(outlier_indices)        \n",
    "    multiple_outliers = list( k for k, v in outlier_indices.items() if v > n )\n",
    "    \n",
    "    return multiple_outliers"
   ]
  },
  {
   "cell_type": "code",
   "execution_count": 70,
   "metadata": {},
   "outputs": [
    {
     "name": "stdout",
     "output_type": "stream",
     "text": [
      "There are 1340 outliers from numerical features\n"
     ]
    }
   ],
   "source": [
    "# detect outliers from numerical features \n",
    "outliers_to_drop = detect_outliers(loans,1,numerical_variables)\n",
    "\n",
    "print(\"There are {} outliers from numerical features\".format(len(outliers_to_drop)))"
   ]
  },
  {
   "cell_type": "code",
   "execution_count": 72,
   "metadata": {},
   "outputs": [],
   "source": [
    "loans = loans.drop(outliers_to_drop, axis=0)"
   ]
  },
  {
   "cell_type": "code",
   "execution_count": 73,
   "metadata": {},
   "outputs": [
    {
     "data": {
      "text/plain": [
       "(99092, 18)"
      ]
     },
     "execution_count": 73,
     "metadata": {},
     "output_type": "execute_result"
    }
   ],
   "source": [
    "loans.shape"
   ]
  },
  {
   "cell_type": "code",
   "execution_count": 74,
   "metadata": {},
   "outputs": [
    {
     "data": {
      "text/html": [
       "<div>\n",
       "<style scoped>\n",
       "    .dataframe tbody tr th:only-of-type {\n",
       "        vertical-align: middle;\n",
       "    }\n",
       "\n",
       "    .dataframe tbody tr th {\n",
       "        vertical-align: top;\n",
       "    }\n",
       "\n",
       "    .dataframe thead th {\n",
       "        text-align: right;\n",
       "    }\n",
       "</style>\n",
       "<table border=\"1\" class=\"dataframe\">\n",
       "  <thead>\n",
       "    <tr style=\"text-align: right;\">\n",
       "      <th></th>\n",
       "      <th>funded_amnt_inv</th>\n",
       "      <th>installment</th>\n",
       "      <th>int_rate</th>\n",
       "      <th>annual_inc</th>\n",
       "      <th>dti</th>\n",
       "      <th>total_rec_late_fee</th>\n",
       "      <th>total_acc</th>\n",
       "    </tr>\n",
       "  </thead>\n",
       "  <tbody>\n",
       "    <tr>\n",
       "      <th>count</th>\n",
       "      <td>99092.000000</td>\n",
       "      <td>99092.000000</td>\n",
       "      <td>99092.000000</td>\n",
       "      <td>9.909200e+04</td>\n",
       "      <td>99086.000000</td>\n",
       "      <td>99092.000000</td>\n",
       "      <td>99089.000000</td>\n",
       "    </tr>\n",
       "    <tr>\n",
       "      <th>mean</th>\n",
       "      <td>14007.484940</td>\n",
       "      <td>427.709516</td>\n",
       "      <td>13.428513</td>\n",
       "      <td>7.365486e+04</td>\n",
       "      <td>17.903371</td>\n",
       "      <td>0.926889</td>\n",
       "      <td>25.321489</td>\n",
       "    </tr>\n",
       "    <tr>\n",
       "      <th>std</th>\n",
       "      <td>8267.845456</td>\n",
       "      <td>245.497565</td>\n",
       "      <td>4.588009</td>\n",
       "      <td>5.844000e+04</td>\n",
       "      <td>9.146164</td>\n",
       "      <td>6.328852</td>\n",
       "      <td>11.938413</td>\n",
       "    </tr>\n",
       "    <tr>\n",
       "      <th>min</th>\n",
       "      <td>0.000000</td>\n",
       "      <td>16.310000</td>\n",
       "      <td>5.320000</td>\n",
       "      <td>0.000000e+00</td>\n",
       "      <td>0.000000</td>\n",
       "      <td>0.000000</td>\n",
       "      <td>1.000000</td>\n",
       "    </tr>\n",
       "    <tr>\n",
       "      <th>25%</th>\n",
       "      <td>7800.000000</td>\n",
       "      <td>249.550000</td>\n",
       "      <td>9.990000</td>\n",
       "      <td>4.500000e+04</td>\n",
       "      <td>11.660000</td>\n",
       "      <td>0.000000</td>\n",
       "      <td>17.000000</td>\n",
       "    </tr>\n",
       "    <tr>\n",
       "      <th>50%</th>\n",
       "      <td>12000.000000</td>\n",
       "      <td>372.710000</td>\n",
       "      <td>12.990000</td>\n",
       "      <td>6.432200e+04</td>\n",
       "      <td>17.380000</td>\n",
       "      <td>0.000000</td>\n",
       "      <td>24.000000</td>\n",
       "    </tr>\n",
       "    <tr>\n",
       "      <th>75%</th>\n",
       "      <td>19925.000000</td>\n",
       "      <td>564.180000</td>\n",
       "      <td>16.290000</td>\n",
       "      <td>9.000000e+04</td>\n",
       "      <td>23.670000</td>\n",
       "      <td>0.000000</td>\n",
       "      <td>32.000000</td>\n",
       "    </tr>\n",
       "    <tr>\n",
       "      <th>max</th>\n",
       "      <td>40000.000000</td>\n",
       "      <td>1404.400000</td>\n",
       "      <td>30.990000</td>\n",
       "      <td>9.550000e+06</td>\n",
       "      <td>999.000000</td>\n",
       "      <td>283.980000</td>\n",
       "      <td>135.000000</td>\n",
       "    </tr>\n",
       "  </tbody>\n",
       "</table>\n",
       "</div>"
      ],
      "text/plain": [
       "       funded_amnt_inv   installment      int_rate    annual_inc  \\\n",
       "count     99092.000000  99092.000000  99092.000000  9.909200e+04   \n",
       "mean      14007.484940    427.709516     13.428513  7.365486e+04   \n",
       "std        8267.845456    245.497565      4.588009  5.844000e+04   \n",
       "min           0.000000     16.310000      5.320000  0.000000e+00   \n",
       "25%        7800.000000    249.550000      9.990000  4.500000e+04   \n",
       "50%       12000.000000    372.710000     12.990000  6.432200e+04   \n",
       "75%       19925.000000    564.180000     16.290000  9.000000e+04   \n",
       "max       40000.000000   1404.400000     30.990000  9.550000e+06   \n",
       "\n",
       "                dti  total_rec_late_fee     total_acc  \n",
       "count  99086.000000        99092.000000  99089.000000  \n",
       "mean      17.903371            0.926889     25.321489  \n",
       "std        9.146164            6.328852     11.938413  \n",
       "min        0.000000            0.000000      1.000000  \n",
       "25%       11.660000            0.000000     17.000000  \n",
       "50%       17.380000            0.000000     24.000000  \n",
       "75%       23.670000            0.000000     32.000000  \n",
       "max      999.000000          283.980000    135.000000  "
      ]
     },
     "execution_count": 74,
     "metadata": {},
     "output_type": "execute_result"
    }
   ],
   "source": [
    "loans[numerical_variables].describe()"
   ]
  },
  {
   "cell_type": "markdown",
   "metadata": {},
   "source": [
    "__Dealing NA's__"
   ]
  },
  {
   "cell_type": "code",
   "execution_count": 81,
   "metadata": {},
   "outputs": [
    {
     "data": {
      "text/plain": [
       "funded_amnt_inv       0\n",
       "installment           0\n",
       "int_rate              0\n",
       "annual_inc            0\n",
       "dti                   6\n",
       "total_rec_late_fee    0\n",
       "total_acc             3\n",
       "dtype: int64"
      ]
     },
     "execution_count": 81,
     "metadata": {},
     "output_type": "execute_result"
    }
   ],
   "source": [
    "loans[numerical_variables].isnull().sum()"
   ]
  },
  {
   "cell_type": "code",
   "execution_count": 79,
   "metadata": {},
   "outputs": [
    {
     "data": {
      "text/plain": [
       "funded_amnt_inv       12000.00\n",
       "installment             372.71\n",
       "int_rate                 12.99\n",
       "annual_inc            64322.00\n",
       "dti                      17.38\n",
       "total_rec_late_fee        0.00\n",
       "total_acc                24.00\n",
       "dtype: float64"
      ]
     },
     "execution_count": 79,
     "metadata": {},
     "output_type": "execute_result"
    }
   ],
   "source": [
    "loans[numerical_variables].median()"
   ]
  },
  {
   "cell_type": "code",
   "execution_count": 82,
   "metadata": {},
   "outputs": [],
   "source": [
    "loans[numerical_variables] = loans[numerical_variables].fillna(loans[numerical_variables].median())"
   ]
  },
  {
   "cell_type": "code",
   "execution_count": 83,
   "metadata": {},
   "outputs": [
    {
     "data": {
      "text/plain": [
       "funded_amnt_inv       0\n",
       "installment           0\n",
       "int_rate              0\n",
       "annual_inc            0\n",
       "dti                   0\n",
       "total_rec_late_fee    0\n",
       "total_acc             0\n",
       "dtype: int64"
      ]
     },
     "execution_count": 83,
     "metadata": {},
     "output_type": "execute_result"
    }
   ],
   "source": [
    "loans[numerical_variables].isnull().sum()"
   ]
  }
 ],
 "metadata": {
  "kernelspec": {
   "display_name": "Python 3",
   "language": "python",
   "name": "python3"
  },
  "language_info": {
   "codemirror_mode": {
    "name": "ipython",
    "version": 3
   },
   "file_extension": ".py",
   "mimetype": "text/x-python",
   "name": "python",
   "nbconvert_exporter": "python",
   "pygments_lexer": "ipython3",
   "version": "3.6.4"
  }
 },
 "nbformat": 4,
 "nbformat_minor": 2
}
