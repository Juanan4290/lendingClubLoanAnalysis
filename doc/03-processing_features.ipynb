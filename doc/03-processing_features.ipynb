{
 "cells": [
  {
   "cell_type": "markdown",
   "metadata": {},
   "source": [
    "Processing Variables For Modeling\n",
    "=================="
   ]
  },
  {
   "cell_type": "markdown",
   "metadata": {},
   "source": [
    "Libraries"
   ]
  },
  {
   "cell_type": "code",
   "execution_count": 1,
   "metadata": {},
   "outputs": [],
   "source": [
    "# remove warnings\n",
    "import warnings\n",
    "warnings.filterwarnings('ignore')\n",
    "\n",
    "import numpy as np\n",
    "import pandas as pd\n",
    "\n",
    "import matplotlib.pyplot as plt; plt.style.use(\"ggplot\")\n",
    "\n",
    "from collections import Counter"
   ]
  },
  {
   "cell_type": "markdown",
   "metadata": {},
   "source": [
    "Read Data"
   ]
  },
  {
   "cell_type": "code",
   "execution_count": 2,
   "metadata": {},
   "outputs": [],
   "source": [
    "loans = pd.read_csv(\"../data/clean/loans.csv\", sep = \"^\").sample(200000, random_state = 42)"
   ]
  },
  {
   "cell_type": "code",
   "execution_count": 3,
   "metadata": {},
   "outputs": [
    {
     "data": {
      "text/html": [
       "<div>\n",
       "<style scoped>\n",
       "    .dataframe tbody tr th:only-of-type {\n",
       "        vertical-align: middle;\n",
       "    }\n",
       "\n",
       "    .dataframe tbody tr th {\n",
       "        vertical-align: top;\n",
       "    }\n",
       "\n",
       "    .dataframe thead th {\n",
       "        text-align: right;\n",
       "    }\n",
       "</style>\n",
       "<table border=\"1\" class=\"dataframe\">\n",
       "  <thead>\n",
       "    <tr style=\"text-align: right;\">\n",
       "      <th></th>\n",
       "      <th>funded_amnt_inv</th>\n",
       "      <th>term</th>\n",
       "      <th>issue_d</th>\n",
       "      <th>installment</th>\n",
       "      <th>int_rate</th>\n",
       "      <th>grade</th>\n",
       "      <th>emp_title</th>\n",
       "      <th>emp_length</th>\n",
       "      <th>annual_inc</th>\n",
       "      <th>title</th>\n",
       "      <th>dti</th>\n",
       "      <th>home_ownership</th>\n",
       "      <th>zip_code</th>\n",
       "      <th>addr_state</th>\n",
       "      <th>total_rec_late_fee</th>\n",
       "      <th>application_type</th>\n",
       "      <th>total_acc</th>\n",
       "      <th>loan_status</th>\n",
       "    </tr>\n",
       "  </thead>\n",
       "  <tbody>\n",
       "    <tr>\n",
       "      <th>634766</th>\n",
       "      <td>10800.0</td>\n",
       "      <td>36 months</td>\n",
       "      <td>Apr-2017</td>\n",
       "      <td>379.65</td>\n",
       "      <td>15.99%</td>\n",
       "      <td>C</td>\n",
       "      <td>Sales</td>\n",
       "      <td>1 year</td>\n",
       "      <td>58800.0</td>\n",
       "      <td>Debt consolidation</td>\n",
       "      <td>23.41</td>\n",
       "      <td>RENT</td>\n",
       "      <td>776xx</td>\n",
       "      <td>TX</td>\n",
       "      <td>0.0</td>\n",
       "      <td>Individual</td>\n",
       "      <td>17.0</td>\n",
       "      <td>Current</td>\n",
       "    </tr>\n",
       "    <tr>\n",
       "      <th>1211417</th>\n",
       "      <td>12000.0</td>\n",
       "      <td>36 months</td>\n",
       "      <td>Jul-2014</td>\n",
       "      <td>378.20</td>\n",
       "      <td>8.39%</td>\n",
       "      <td>A</td>\n",
       "      <td>Retention</td>\n",
       "      <td>2 years</td>\n",
       "      <td>60000.0</td>\n",
       "      <td>Debt consolidation</td>\n",
       "      <td>5.26</td>\n",
       "      <td>OWN</td>\n",
       "      <td>302xx</td>\n",
       "      <td>GA</td>\n",
       "      <td>0.0</td>\n",
       "      <td>Individual</td>\n",
       "      <td>10.0</td>\n",
       "      <td>Fully Paid</td>\n",
       "    </tr>\n",
       "    <tr>\n",
       "      <th>329169</th>\n",
       "      <td>11500.0</td>\n",
       "      <td>60 months</td>\n",
       "      <td>Jul-2016</td>\n",
       "      <td>270.52</td>\n",
       "      <td>14.49%</td>\n",
       "      <td>C</td>\n",
       "      <td>NaN</td>\n",
       "      <td>NaN</td>\n",
       "      <td>50400.0</td>\n",
       "      <td>Debt consolidation</td>\n",
       "      <td>33.17</td>\n",
       "      <td>MORTGAGE</td>\n",
       "      <td>981xx</td>\n",
       "      <td>WA</td>\n",
       "      <td>0.0</td>\n",
       "      <td>Individual</td>\n",
       "      <td>25.0</td>\n",
       "      <td>Fully Paid</td>\n",
       "    </tr>\n",
       "    <tr>\n",
       "      <th>874986</th>\n",
       "      <td>9400.0</td>\n",
       "      <td>36 months</td>\n",
       "      <td>Oct-2017</td>\n",
       "      <td>305.17</td>\n",
       "      <td>10.42%</td>\n",
       "      <td>B</td>\n",
       "      <td>CNC Machinist</td>\n",
       "      <td>1 year</td>\n",
       "      <td>39360.0</td>\n",
       "      <td>Debt consolidation</td>\n",
       "      <td>28.66</td>\n",
       "      <td>RENT</td>\n",
       "      <td>067xx</td>\n",
       "      <td>CT</td>\n",
       "      <td>0.0</td>\n",
       "      <td>Individual</td>\n",
       "      <td>14.0</td>\n",
       "      <td>Current</td>\n",
       "    </tr>\n",
       "    <tr>\n",
       "      <th>1494916</th>\n",
       "      <td>11000.0</td>\n",
       "      <td>36 months</td>\n",
       "      <td>Sep-2015</td>\n",
       "      <td>331.27</td>\n",
       "      <td>5.32%</td>\n",
       "      <td>A</td>\n",
       "      <td>Pilot</td>\n",
       "      <td>10+ years</td>\n",
       "      <td>81184.0</td>\n",
       "      <td>Credit card refinancing</td>\n",
       "      <td>28.69</td>\n",
       "      <td>OWN</td>\n",
       "      <td>325xx</td>\n",
       "      <td>FL</td>\n",
       "      <td>0.0</td>\n",
       "      <td>Individual</td>\n",
       "      <td>28.0</td>\n",
       "      <td>Fully Paid</td>\n",
       "    </tr>\n",
       "  </tbody>\n",
       "</table>\n",
       "</div>"
      ],
      "text/plain": [
       "         funded_amnt_inv        term   issue_d  installment int_rate grade  \\\n",
       "634766           10800.0   36 months  Apr-2017       379.65   15.99%     C   \n",
       "1211417          12000.0   36 months  Jul-2014       378.20    8.39%     A   \n",
       "329169           11500.0   60 months  Jul-2016       270.52   14.49%     C   \n",
       "874986            9400.0   36 months  Oct-2017       305.17   10.42%     B   \n",
       "1494916          11000.0   36 months  Sep-2015       331.27    5.32%     A   \n",
       "\n",
       "             emp_title emp_length  annual_inc                    title    dti  \\\n",
       "634766           Sales     1 year     58800.0       Debt consolidation  23.41   \n",
       "1211417      Retention    2 years     60000.0       Debt consolidation   5.26   \n",
       "329169             NaN        NaN     50400.0       Debt consolidation  33.17   \n",
       "874986   CNC Machinist     1 year     39360.0       Debt consolidation  28.66   \n",
       "1494916          Pilot  10+ years     81184.0  Credit card refinancing  28.69   \n",
       "\n",
       "        home_ownership zip_code addr_state  total_rec_late_fee  \\\n",
       "634766            RENT    776xx         TX                 0.0   \n",
       "1211417            OWN    302xx         GA                 0.0   \n",
       "329169        MORTGAGE    981xx         WA                 0.0   \n",
       "874986            RENT    067xx         CT                 0.0   \n",
       "1494916            OWN    325xx         FL                 0.0   \n",
       "\n",
       "        application_type  total_acc loan_status  \n",
       "634766        Individual       17.0     Current  \n",
       "1211417       Individual       10.0  Fully Paid  \n",
       "329169        Individual       25.0  Fully Paid  \n",
       "874986        Individual       14.0     Current  \n",
       "1494916       Individual       28.0  Fully Paid  "
      ]
     },
     "execution_count": 3,
     "metadata": {},
     "output_type": "execute_result"
    }
   ],
   "source": [
    "loans.head()"
   ]
  },
  {
   "cell_type": "markdown",
   "metadata": {},
   "source": [
    "### 01 - Target: Loan Status"
   ]
  },
  {
   "cell_type": "markdown",
   "metadata": {},
   "source": [
    "`loan_status` is the current status of the loan. This is the variable we want to predict in our machine learning model. For this variable, we are going to considerar three labels:\n",
    "- 0: loans that have already been paid.\n",
    "- 1: default or charged off loans.\n",
    "- 2: current loans (rest of the cases), where we don't know if they are going to be paid or not.\n",
    "\n",
    "We will use labels 0 and 1 for training and testing our model. Label 2 is going to use just for predicting."
   ]
  },
  {
   "cell_type": "code",
   "execution_count": 4,
   "metadata": {},
   "outputs": [
    {
     "data": {
      "text/plain": [
       "Current                                                95633\n",
       "Fully Paid                                             79226\n",
       "Charged Off                                            20522\n",
       "Late (31-120 days)                                      2437\n",
       "In Grace Period                                         1352\n",
       "Late (16-30 days)                                        510\n",
       "Does not meet the credit policy. Status:Fully Paid       222\n",
       "Does not meet the credit policy. Status:Charged Off       93\n",
       "Default                                                    5\n",
       "Name: loan_status, dtype: int64"
      ]
     },
     "execution_count": 4,
     "metadata": {},
     "output_type": "execute_result"
    }
   ],
   "source": [
    "loans['loan_status'].value_counts()"
   ]
  },
  {
   "cell_type": "code",
   "execution_count": 5,
   "metadata": {},
   "outputs": [],
   "source": [
    "def process_loan_status(loan_status):\n",
    "    \n",
    "    loan_status_dict = {\n",
    "    \"Current\": 2,\n",
    "    \"Fully Paid\": 0,\n",
    "    \"Charged Off\": 1,\n",
    "    \"Late (31-120 days)\": 2,\n",
    "    \"In Grace Period\": 2,\n",
    "    \"Late (16-30 days)\": 2,\n",
    "    \"Does not meet the credit policy. Status:Fully Paid\": 0,\n",
    "    \"Does not meet the credit policy. Status:Charged Off\": 1,\n",
    "    \"Default\": 1\n",
    "    }\n",
    "    \n",
    "    return loan_status_dict[loan_status]"
   ]
  },
  {
   "cell_type": "code",
   "execution_count": 6,
   "metadata": {},
   "outputs": [],
   "source": [
    "loans['loan_status'] = loans['loan_status'].map(process_loan_status)"
   ]
  },
  {
   "cell_type": "code",
   "execution_count": 7,
   "metadata": {},
   "outputs": [
    {
     "data": {
      "text/plain": [
       "634766     2\n",
       "1211417    0\n",
       "329169     0\n",
       "874986     2\n",
       "1494916    0\n",
       "648273     2\n",
       "402339     2\n",
       "1669339    0\n",
       "130885     2\n",
       "562257     2\n",
       "Name: loan_status, dtype: int64"
      ]
     },
     "execution_count": 7,
     "metadata": {},
     "output_type": "execute_result"
    }
   ],
   "source": [
    "loans['loan_status'].head(10)"
   ]
  },
  {
   "cell_type": "code",
   "execution_count": 8,
   "metadata": {},
   "outputs": [],
   "source": [
    "loans = loans[loans['loan_status'] < 2]"
   ]
  },
  {
   "cell_type": "code",
   "execution_count": 9,
   "metadata": {},
   "outputs": [
    {
     "data": {
      "text/html": [
       "<div>\n",
       "<style scoped>\n",
       "    .dataframe tbody tr th:only-of-type {\n",
       "        vertical-align: middle;\n",
       "    }\n",
       "\n",
       "    .dataframe tbody tr th {\n",
       "        vertical-align: top;\n",
       "    }\n",
       "\n",
       "    .dataframe thead th {\n",
       "        text-align: right;\n",
       "    }\n",
       "</style>\n",
       "<table border=\"1\" class=\"dataframe\">\n",
       "  <thead>\n",
       "    <tr style=\"text-align: right;\">\n",
       "      <th></th>\n",
       "      <th>funded_amnt_inv</th>\n",
       "      <th>term</th>\n",
       "      <th>issue_d</th>\n",
       "      <th>installment</th>\n",
       "      <th>int_rate</th>\n",
       "      <th>grade</th>\n",
       "      <th>emp_title</th>\n",
       "      <th>emp_length</th>\n",
       "      <th>annual_inc</th>\n",
       "      <th>title</th>\n",
       "      <th>dti</th>\n",
       "      <th>home_ownership</th>\n",
       "      <th>zip_code</th>\n",
       "      <th>addr_state</th>\n",
       "      <th>total_rec_late_fee</th>\n",
       "      <th>application_type</th>\n",
       "      <th>total_acc</th>\n",
       "      <th>loan_status</th>\n",
       "    </tr>\n",
       "  </thead>\n",
       "  <tbody>\n",
       "    <tr>\n",
       "      <th>1211417</th>\n",
       "      <td>12000.0</td>\n",
       "      <td>36 months</td>\n",
       "      <td>Jul-2014</td>\n",
       "      <td>378.20</td>\n",
       "      <td>8.39%</td>\n",
       "      <td>A</td>\n",
       "      <td>Retention</td>\n",
       "      <td>2 years</td>\n",
       "      <td>60000.0</td>\n",
       "      <td>Debt consolidation</td>\n",
       "      <td>5.26</td>\n",
       "      <td>OWN</td>\n",
       "      <td>302xx</td>\n",
       "      <td>GA</td>\n",
       "      <td>0.0</td>\n",
       "      <td>Individual</td>\n",
       "      <td>10.0</td>\n",
       "      <td>0</td>\n",
       "    </tr>\n",
       "    <tr>\n",
       "      <th>329169</th>\n",
       "      <td>11500.0</td>\n",
       "      <td>60 months</td>\n",
       "      <td>Jul-2016</td>\n",
       "      <td>270.52</td>\n",
       "      <td>14.49%</td>\n",
       "      <td>C</td>\n",
       "      <td>NaN</td>\n",
       "      <td>NaN</td>\n",
       "      <td>50400.0</td>\n",
       "      <td>Debt consolidation</td>\n",
       "      <td>33.17</td>\n",
       "      <td>MORTGAGE</td>\n",
       "      <td>981xx</td>\n",
       "      <td>WA</td>\n",
       "      <td>0.0</td>\n",
       "      <td>Individual</td>\n",
       "      <td>25.0</td>\n",
       "      <td>0</td>\n",
       "    </tr>\n",
       "    <tr>\n",
       "      <th>1494916</th>\n",
       "      <td>11000.0</td>\n",
       "      <td>36 months</td>\n",
       "      <td>Sep-2015</td>\n",
       "      <td>331.27</td>\n",
       "      <td>5.32%</td>\n",
       "      <td>A</td>\n",
       "      <td>Pilot</td>\n",
       "      <td>10+ years</td>\n",
       "      <td>81184.0</td>\n",
       "      <td>Credit card refinancing</td>\n",
       "      <td>28.69</td>\n",
       "      <td>OWN</td>\n",
       "      <td>325xx</td>\n",
       "      <td>FL</td>\n",
       "      <td>0.0</td>\n",
       "      <td>Individual</td>\n",
       "      <td>28.0</td>\n",
       "      <td>0</td>\n",
       "    </tr>\n",
       "    <tr>\n",
       "      <th>1669339</th>\n",
       "      <td>10000.0</td>\n",
       "      <td>60 months</td>\n",
       "      <td>Apr-2015</td>\n",
       "      <td>223.92</td>\n",
       "      <td>12.29%</td>\n",
       "      <td>C</td>\n",
       "      <td>appeals associate</td>\n",
       "      <td>7 years</td>\n",
       "      <td>48600.0</td>\n",
       "      <td>Debt consolidation</td>\n",
       "      <td>15.80</td>\n",
       "      <td>MORTGAGE</td>\n",
       "      <td>280xx</td>\n",
       "      <td>NC</td>\n",
       "      <td>0.0</td>\n",
       "      <td>Individual</td>\n",
       "      <td>24.0</td>\n",
       "      <td>0</td>\n",
       "    </tr>\n",
       "    <tr>\n",
       "      <th>1696382</th>\n",
       "      <td>7150.0</td>\n",
       "      <td>36 months</td>\n",
       "      <td>Mar-2015</td>\n",
       "      <td>259.39</td>\n",
       "      <td>18.25%</td>\n",
       "      <td>E</td>\n",
       "      <td>NaN</td>\n",
       "      <td>NaN</td>\n",
       "      <td>22450.8</td>\n",
       "      <td>Debt consolidation</td>\n",
       "      <td>22.94</td>\n",
       "      <td>RENT</td>\n",
       "      <td>184xx</td>\n",
       "      <td>PA</td>\n",
       "      <td>0.0</td>\n",
       "      <td>Individual</td>\n",
       "      <td>21.0</td>\n",
       "      <td>1</td>\n",
       "    </tr>\n",
       "  </tbody>\n",
       "</table>\n",
       "</div>"
      ],
      "text/plain": [
       "         funded_amnt_inv        term   issue_d  installment int_rate grade  \\\n",
       "1211417          12000.0   36 months  Jul-2014       378.20    8.39%     A   \n",
       "329169           11500.0   60 months  Jul-2016       270.52   14.49%     C   \n",
       "1494916          11000.0   36 months  Sep-2015       331.27    5.32%     A   \n",
       "1669339          10000.0   60 months  Apr-2015       223.92   12.29%     C   \n",
       "1696382           7150.0   36 months  Mar-2015       259.39   18.25%     E   \n",
       "\n",
       "                 emp_title emp_length  annual_inc                    title  \\\n",
       "1211417          Retention    2 years     60000.0       Debt consolidation   \n",
       "329169                 NaN        NaN     50400.0       Debt consolidation   \n",
       "1494916              Pilot  10+ years     81184.0  Credit card refinancing   \n",
       "1669339  appeals associate    7 years     48600.0       Debt consolidation   \n",
       "1696382                NaN        NaN     22450.8       Debt consolidation   \n",
       "\n",
       "           dti home_ownership zip_code addr_state  total_rec_late_fee  \\\n",
       "1211417   5.26            OWN    302xx         GA                 0.0   \n",
       "329169   33.17       MORTGAGE    981xx         WA                 0.0   \n",
       "1494916  28.69            OWN    325xx         FL                 0.0   \n",
       "1669339  15.80       MORTGAGE    280xx         NC                 0.0   \n",
       "1696382  22.94           RENT    184xx         PA                 0.0   \n",
       "\n",
       "        application_type  total_acc  loan_status  \n",
       "1211417       Individual       10.0            0  \n",
       "329169        Individual       25.0            0  \n",
       "1494916       Individual       28.0            0  \n",
       "1669339       Individual       24.0            0  \n",
       "1696382       Individual       21.0            1  "
      ]
     },
     "execution_count": 9,
     "metadata": {},
     "output_type": "execute_result"
    }
   ],
   "source": [
    "loans.head()"
   ]
  },
  {
   "cell_type": "code",
   "execution_count": 10,
   "metadata": {},
   "outputs": [
    {
     "data": {
      "text/plain": [
       "count    100068.000000\n",
       "mean          0.206060\n",
       "std           0.404476\n",
       "min           0.000000\n",
       "25%           0.000000\n",
       "50%           0.000000\n",
       "75%           0.000000\n",
       "max           1.000000\n",
       "Name: loan_status, dtype: float64"
      ]
     },
     "execution_count": 10,
     "metadata": {},
     "output_type": "execute_result"
    }
   ],
   "source": [
    "loans['loan_status'].describe()"
   ]
  },
  {
   "cell_type": "markdown",
   "metadata": {},
   "source": [
    "__Our prior value of un paid loans is about 20%__ We will keep this value in mind!"
   ]
  },
  {
   "cell_type": "markdown",
   "metadata": {},
   "source": [
    "### 02 - Numeric Variables"
   ]
  },
  {
   "cell_type": "code",
   "execution_count": 11,
   "metadata": {},
   "outputs": [
    {
     "data": {
      "text/plain": [
       "funded_amnt_inv       float64\n",
       "term                   object\n",
       "issue_d                object\n",
       "installment           float64\n",
       "int_rate               object\n",
       "grade                  object\n",
       "emp_title              object\n",
       "emp_length             object\n",
       "annual_inc            float64\n",
       "title                  object\n",
       "dti                   float64\n",
       "home_ownership         object\n",
       "zip_code               object\n",
       "addr_state             object\n",
       "total_rec_late_fee    float64\n",
       "application_type       object\n",
       "total_acc             float64\n",
       "loan_status             int64\n",
       "dtype: object"
      ]
     },
     "execution_count": 11,
     "metadata": {},
     "output_type": "execute_result"
    }
   ],
   "source": [
    "loans.dtypes"
   ]
  },
  {
   "cell_type": "code",
   "execution_count": 12,
   "metadata": {},
   "outputs": [],
   "source": [
    "numerical_variables = [\"funded_amnt_inv\", \"installment\", \"int_rate\", \"annual_inc\", \"dti\",\n",
    "                        \"total_rec_late_fee\", \"total_acc\"]"
   ]
  },
  {
   "cell_type": "code",
   "execution_count": 13,
   "metadata": {},
   "outputs": [
    {
     "data": {
      "text/plain": [
       "funded_amnt_inv       0\n",
       "installment           0\n",
       "int_rate              0\n",
       "annual_inc            1\n",
       "dti                   4\n",
       "total_rec_late_fee    0\n",
       "total_acc             3\n",
       "dtype: int64"
      ]
     },
     "execution_count": 13,
     "metadata": {},
     "output_type": "execute_result"
    }
   ],
   "source": [
    "loans[numerical_variables].isnull().sum()"
   ]
  },
  {
   "cell_type": "markdown",
   "metadata": {},
   "source": [
    "__Interest Rate__"
   ]
  },
  {
   "cell_type": "code",
   "execution_count": 14,
   "metadata": {
    "scrolled": true
   },
   "outputs": [
    {
     "data": {
      "text/plain": [
       "1211417      8.39%\n",
       "329169      14.49%\n",
       "1494916      5.32%\n",
       "1669339     12.29%\n",
       "1696382     18.25%\n",
       "1342783     11.99%\n",
       "1612327     12.69%\n",
       "1336811     15.61%\n",
       "1382949     17.57%\n",
       "1609462     15.61%\n",
       "1728038      9.49%\n",
       "1243026     14.49%\n",
       "1380942      7.89%\n",
       "1415736     16.55%\n",
       "906984      10.38%\n",
       "1048877     17.77%\n",
       "1382735     13.67%\n",
       "613590      15.99%\n",
       "1757560     17.14%\n",
       "1002742     13.11%\n",
       "1197292      6.03%\n",
       "1085400     14.09%\n",
       "1606580     21.99%\n",
       "1202196     10.15%\n",
       "1317034     16.59%\n",
       "1159241     14.49%\n",
       "1220000     14.99%\n",
       "987301      18.25%\n",
       "1324845     14.47%\n",
       "262061      12.79%\n",
       "            ...   \n",
       "1629668     20.49%\n",
       "152654       7.39%\n",
       "1446208     13.33%\n",
       "1206607     15.61%\n",
       "1021704     14.33%\n",
       "1028918     15.80%\n",
       "1290370     12.99%\n",
       "1259082     23.43%\n",
       "1295241     24.50%\n",
       "1287684     12.49%\n",
       "706555      24.85%\n",
       "922961      14.98%\n",
       "475725      24.74%\n",
       "1056099     17.77%\n",
       "1544073      7.26%\n",
       "1267061     12.99%\n",
       "194975      17.27%\n",
       "227950       8.39%\n",
       "1018460     15.80%\n",
       "893909       7.49%\n",
       "1243486     19.52%\n",
       "1510777     18.25%\n",
       "1404406     17.57%\n",
       "1190563      7.69%\n",
       "1591500      6.89%\n",
       "964219      15.10%\n",
       "401118      11.39%\n",
       "1181135     10.99%\n",
       "1641394     10.99%\n",
       "1722883     15.99%\n",
       "Name: int_rate, Length: 100068, dtype: object"
      ]
     },
     "execution_count": 14,
     "metadata": {},
     "output_type": "execute_result"
    }
   ],
   "source": [
    "loans['int_rate']"
   ]
  },
  {
   "cell_type": "code",
   "execution_count": 15,
   "metadata": {},
   "outputs": [],
   "source": [
    "loans['int_rate'] = loans['int_rate'].map(lambda x: float(x[:-1]))"
   ]
  },
  {
   "cell_type": "code",
   "execution_count": 16,
   "metadata": {},
   "outputs": [
    {
     "data": {
      "text/plain": [
       "1211417     8.39\n",
       "329169     14.49\n",
       "1494916     5.32\n",
       "1669339    12.29\n",
       "1696382    18.25\n",
       "Name: int_rate, dtype: float64"
      ]
     },
     "execution_count": 16,
     "metadata": {},
     "output_type": "execute_result"
    }
   ],
   "source": [
    "loans['int_rate'].head()"
   ]
  },
  {
   "cell_type": "code",
   "execution_count": 17,
   "metadata": {},
   "outputs": [
    {
     "data": {
      "text/plain": [
       "funded_amnt_inv       float64\n",
       "term                   object\n",
       "issue_d                object\n",
       "installment           float64\n",
       "int_rate              float64\n",
       "grade                  object\n",
       "emp_title              object\n",
       "emp_length             object\n",
       "annual_inc            float64\n",
       "title                  object\n",
       "dti                   float64\n",
       "home_ownership         object\n",
       "zip_code               object\n",
       "addr_state             object\n",
       "total_rec_late_fee    float64\n",
       "application_type       object\n",
       "total_acc             float64\n",
       "loan_status             int64\n",
       "dtype: object"
      ]
     },
     "execution_count": 17,
     "metadata": {},
     "output_type": "execute_result"
    }
   ],
   "source": [
    "loans.dtypes"
   ]
  },
  {
   "cell_type": "markdown",
   "metadata": {},
   "source": [
    "__Outliers__"
   ]
  },
  {
   "cell_type": "code",
   "execution_count": 18,
   "metadata": {},
   "outputs": [
    {
     "data": {
      "text/html": [
       "<div>\n",
       "<style scoped>\n",
       "    .dataframe tbody tr th:only-of-type {\n",
       "        vertical-align: middle;\n",
       "    }\n",
       "\n",
       "    .dataframe tbody tr th {\n",
       "        vertical-align: top;\n",
       "    }\n",
       "\n",
       "    .dataframe thead th {\n",
       "        text-align: right;\n",
       "    }\n",
       "</style>\n",
       "<table border=\"1\" class=\"dataframe\">\n",
       "  <thead>\n",
       "    <tr style=\"text-align: right;\">\n",
       "      <th></th>\n",
       "      <th>funded_amnt_inv</th>\n",
       "      <th>installment</th>\n",
       "      <th>int_rate</th>\n",
       "      <th>annual_inc</th>\n",
       "      <th>dti</th>\n",
       "      <th>total_rec_late_fee</th>\n",
       "      <th>total_acc</th>\n",
       "    </tr>\n",
       "  </thead>\n",
       "  <tbody>\n",
       "    <tr>\n",
       "      <th>count</th>\n",
       "      <td>100068.000000</td>\n",
       "      <td>100068.000000</td>\n",
       "      <td>100068.000000</td>\n",
       "      <td>1.000670e+05</td>\n",
       "      <td>100064.000000</td>\n",
       "      <td>100068.000000</td>\n",
       "      <td>100065.000000</td>\n",
       "    </tr>\n",
       "    <tr>\n",
       "      <th>mean</th>\n",
       "      <td>14240.401546</td>\n",
       "      <td>435.564755</td>\n",
       "      <td>13.436653</td>\n",
       "      <td>7.547954e+04</td>\n",
       "      <td>17.841266</td>\n",
       "      <td>1.099204</td>\n",
       "      <td>25.340878</td>\n",
       "    </tr>\n",
       "    <tr>\n",
       "      <th>std</th>\n",
       "      <td>8516.082860</td>\n",
       "      <td>255.805453</td>\n",
       "      <td>4.646925</td>\n",
       "      <td>6.524663e+04</td>\n",
       "      <td>9.067211</td>\n",
       "      <td>7.429252</td>\n",
       "      <td>11.980680</td>\n",
       "    </tr>\n",
       "    <tr>\n",
       "      <th>min</th>\n",
       "      <td>0.000000</td>\n",
       "      <td>16.080000</td>\n",
       "      <td>5.320000</td>\n",
       "      <td>0.000000e+00</td>\n",
       "      <td>0.000000</td>\n",
       "      <td>0.000000</td>\n",
       "      <td>1.000000</td>\n",
       "    </tr>\n",
       "    <tr>\n",
       "      <th>25%</th>\n",
       "      <td>7925.000000</td>\n",
       "      <td>250.590000</td>\n",
       "      <td>9.990000</td>\n",
       "      <td>4.500000e+04</td>\n",
       "      <td>11.590000</td>\n",
       "      <td>0.000000</td>\n",
       "      <td>17.000000</td>\n",
       "    </tr>\n",
       "    <tr>\n",
       "      <th>50%</th>\n",
       "      <td>12000.000000</td>\n",
       "      <td>375.850000</td>\n",
       "      <td>12.990000</td>\n",
       "      <td>6.500000e+04</td>\n",
       "      <td>17.280000</td>\n",
       "      <td>0.000000</td>\n",
       "      <td>24.000000</td>\n",
       "    </tr>\n",
       "    <tr>\n",
       "      <th>75%</th>\n",
       "      <td>20000.000000</td>\n",
       "      <td>573.060000</td>\n",
       "      <td>16.290000</td>\n",
       "      <td>9.000000e+04</td>\n",
       "      <td>23.580000</td>\n",
       "      <td>0.000000</td>\n",
       "      <td>32.000000</td>\n",
       "    </tr>\n",
       "    <tr>\n",
       "      <th>max</th>\n",
       "      <td>40000.000000</td>\n",
       "      <td>1517.090000</td>\n",
       "      <td>30.990000</td>\n",
       "      <td>8.300000e+06</td>\n",
       "      <td>818.100000</td>\n",
       "      <td>338.460000</td>\n",
       "      <td>162.000000</td>\n",
       "    </tr>\n",
       "  </tbody>\n",
       "</table>\n",
       "</div>"
      ],
      "text/plain": [
       "       funded_amnt_inv    installment       int_rate    annual_inc  \\\n",
       "count    100068.000000  100068.000000  100068.000000  1.000670e+05   \n",
       "mean      14240.401546     435.564755      13.436653  7.547954e+04   \n",
       "std        8516.082860     255.805453       4.646925  6.524663e+04   \n",
       "min           0.000000      16.080000       5.320000  0.000000e+00   \n",
       "25%        7925.000000     250.590000       9.990000  4.500000e+04   \n",
       "50%       12000.000000     375.850000      12.990000  6.500000e+04   \n",
       "75%       20000.000000     573.060000      16.290000  9.000000e+04   \n",
       "max       40000.000000    1517.090000      30.990000  8.300000e+06   \n",
       "\n",
       "                 dti  total_rec_late_fee      total_acc  \n",
       "count  100064.000000       100068.000000  100065.000000  \n",
       "mean       17.841266            1.099204      25.340878  \n",
       "std         9.067211            7.429252      11.980680  \n",
       "min         0.000000            0.000000       1.000000  \n",
       "25%        11.590000            0.000000      17.000000  \n",
       "50%        17.280000            0.000000      24.000000  \n",
       "75%        23.580000            0.000000      32.000000  \n",
       "max       818.100000          338.460000     162.000000  "
      ]
     },
     "execution_count": 18,
     "metadata": {},
     "output_type": "execute_result"
    }
   ],
   "source": [
    "loans[numerical_variables].describe()"
   ]
  },
  {
   "cell_type": "code",
   "execution_count": 19,
   "metadata": {},
   "outputs": [],
   "source": [
    "def detect_outliers(df,n,features):\n",
    "    \"\"\"\n",
    "    Takes a dataframe df of features and returns a list of the indices\n",
    "    corresponding to the observations containing more than n outliers according\n",
    "    to the Tukey method.\n",
    "    \"\"\"\n",
    "    outlier_indices = []\n",
    "    \n",
    "    # iterate over features(columns)\n",
    "    for col in features:\n",
    "        # 1st quartile (25%)\n",
    "        Q1 = np.percentile(df[col], 25)\n",
    "        # 3rd quartile (75%)\n",
    "        Q3 = np.percentile(df[col],75)\n",
    "        # Interquartile range (IQR)\n",
    "        IQR = Q3 - Q1\n",
    "        \n",
    "        # outlier step\n",
    "        outlier_step = 1.5 * IQR\n",
    "        \n",
    "        # Determine a list of indices of outliers for feature col\n",
    "        outlier_list_col = df[(df[col] < Q1 - outlier_step) | (df[col] > Q3 + outlier_step )].index\n",
    "        \n",
    "        # append the found outlier indices for col to the list of outlier indices \n",
    "        outlier_indices.extend(outlier_list_col)\n",
    "        \n",
    "    # select observations containing more than n outliers\n",
    "    outlier_indices = Counter(outlier_indices)        \n",
    "    multiple_outliers = list( k for k, v in outlier_indices.items() if v > n )\n",
    "    \n",
    "    return multiple_outliers"
   ]
  },
  {
   "cell_type": "code",
   "execution_count": 20,
   "metadata": {},
   "outputs": [
    {
     "name": "stdout",
     "output_type": "stream",
     "text": [
      "There are 481 outliers from numerical features\n"
     ]
    }
   ],
   "source": [
    "# detect outliers from numerical features \n",
    "outliers_to_drop = detect_outliers(loans,1,numerical_variables)\n",
    "\n",
    "print(\"There are {} outliers from numerical features\".format(len(outliers_to_drop)))"
   ]
  },
  {
   "cell_type": "code",
   "execution_count": 21,
   "metadata": {},
   "outputs": [],
   "source": [
    "loans = loans.drop(outliers_to_drop, axis=0)"
   ]
  },
  {
   "cell_type": "code",
   "execution_count": 22,
   "metadata": {},
   "outputs": [
    {
     "data": {
      "text/plain": [
       "(99587, 18)"
      ]
     },
     "execution_count": 22,
     "metadata": {},
     "output_type": "execute_result"
    }
   ],
   "source": [
    "loans.shape"
   ]
  },
  {
   "cell_type": "code",
   "execution_count": 23,
   "metadata": {},
   "outputs": [
    {
     "data": {
      "text/html": [
       "<div>\n",
       "<style scoped>\n",
       "    .dataframe tbody tr th:only-of-type {\n",
       "        vertical-align: middle;\n",
       "    }\n",
       "\n",
       "    .dataframe tbody tr th {\n",
       "        vertical-align: top;\n",
       "    }\n",
       "\n",
       "    .dataframe thead th {\n",
       "        text-align: right;\n",
       "    }\n",
       "</style>\n",
       "<table border=\"1\" class=\"dataframe\">\n",
       "  <thead>\n",
       "    <tr style=\"text-align: right;\">\n",
       "      <th></th>\n",
       "      <th>funded_amnt_inv</th>\n",
       "      <th>installment</th>\n",
       "      <th>int_rate</th>\n",
       "      <th>annual_inc</th>\n",
       "      <th>dti</th>\n",
       "      <th>total_rec_late_fee</th>\n",
       "      <th>total_acc</th>\n",
       "    </tr>\n",
       "  </thead>\n",
       "  <tbody>\n",
       "    <tr>\n",
       "      <th>count</th>\n",
       "      <td>99587.000000</td>\n",
       "      <td>99587.000000</td>\n",
       "      <td>99587.000000</td>\n",
       "      <td>9.958600e+04</td>\n",
       "      <td>99583.000000</td>\n",
       "      <td>99587.000000</td>\n",
       "      <td>99584.000000</td>\n",
       "    </tr>\n",
       "    <tr>\n",
       "      <th>mean</th>\n",
       "      <td>14149.931486</td>\n",
       "      <td>432.283494</td>\n",
       "      <td>13.406250</td>\n",
       "      <td>7.517769e+04</td>\n",
       "      <td>17.838990</td>\n",
       "      <td>0.951194</td>\n",
       "      <td>25.322793</td>\n",
       "    </tr>\n",
       "    <tr>\n",
       "      <th>std</th>\n",
       "      <td>8417.699841</td>\n",
       "      <td>251.264015</td>\n",
       "      <td>4.604616</td>\n",
       "      <td>6.462972e+04</td>\n",
       "      <td>9.067207</td>\n",
       "      <td>6.440769</td>\n",
       "      <td>11.972187</td>\n",
       "    </tr>\n",
       "    <tr>\n",
       "      <th>min</th>\n",
       "      <td>0.000000</td>\n",
       "      <td>16.080000</td>\n",
       "      <td>5.320000</td>\n",
       "      <td>0.000000e+00</td>\n",
       "      <td>0.000000</td>\n",
       "      <td>0.000000</td>\n",
       "      <td>1.000000</td>\n",
       "    </tr>\n",
       "    <tr>\n",
       "      <th>25%</th>\n",
       "      <td>7850.000000</td>\n",
       "      <td>250.290000</td>\n",
       "      <td>9.990000</td>\n",
       "      <td>4.500000e+04</td>\n",
       "      <td>11.590000</td>\n",
       "      <td>0.000000</td>\n",
       "      <td>17.000000</td>\n",
       "    </tr>\n",
       "    <tr>\n",
       "      <th>50%</th>\n",
       "      <td>12000.000000</td>\n",
       "      <td>375.140000</td>\n",
       "      <td>12.990000</td>\n",
       "      <td>6.500000e+04</td>\n",
       "      <td>17.280000</td>\n",
       "      <td>0.000000</td>\n",
       "      <td>24.000000</td>\n",
       "    </tr>\n",
       "    <tr>\n",
       "      <th>75%</th>\n",
       "      <td>19975.000000</td>\n",
       "      <td>568.700000</td>\n",
       "      <td>16.290000</td>\n",
       "      <td>9.000000e+04</td>\n",
       "      <td>23.580000</td>\n",
       "      <td>0.000000</td>\n",
       "      <td>32.000000</td>\n",
       "    </tr>\n",
       "    <tr>\n",
       "      <th>max</th>\n",
       "      <td>40000.000000</td>\n",
       "      <td>1404.400000</td>\n",
       "      <td>30.990000</td>\n",
       "      <td>8.300000e+06</td>\n",
       "      <td>818.100000</td>\n",
       "      <td>268.550000</td>\n",
       "      <td>162.000000</td>\n",
       "    </tr>\n",
       "  </tbody>\n",
       "</table>\n",
       "</div>"
      ],
      "text/plain": [
       "       funded_amnt_inv   installment      int_rate    annual_inc  \\\n",
       "count     99587.000000  99587.000000  99587.000000  9.958600e+04   \n",
       "mean      14149.931486    432.283494     13.406250  7.517769e+04   \n",
       "std        8417.699841    251.264015      4.604616  6.462972e+04   \n",
       "min           0.000000     16.080000      5.320000  0.000000e+00   \n",
       "25%        7850.000000    250.290000      9.990000  4.500000e+04   \n",
       "50%       12000.000000    375.140000     12.990000  6.500000e+04   \n",
       "75%       19975.000000    568.700000     16.290000  9.000000e+04   \n",
       "max       40000.000000   1404.400000     30.990000  8.300000e+06   \n",
       "\n",
       "                dti  total_rec_late_fee     total_acc  \n",
       "count  99583.000000        99587.000000  99584.000000  \n",
       "mean      17.838990            0.951194     25.322793  \n",
       "std        9.067207            6.440769     11.972187  \n",
       "min        0.000000            0.000000      1.000000  \n",
       "25%       11.590000            0.000000     17.000000  \n",
       "50%       17.280000            0.000000     24.000000  \n",
       "75%       23.580000            0.000000     32.000000  \n",
       "max      818.100000          268.550000    162.000000  "
      ]
     },
     "execution_count": 23,
     "metadata": {},
     "output_type": "execute_result"
    }
   ],
   "source": [
    "loans[numerical_variables].describe()"
   ]
  },
  {
   "cell_type": "markdown",
   "metadata": {},
   "source": [
    "__Dealing NA's__"
   ]
  },
  {
   "cell_type": "code",
   "execution_count": 24,
   "metadata": {},
   "outputs": [
    {
     "data": {
      "text/plain": [
       "funded_amnt_inv       0\n",
       "installment           0\n",
       "int_rate              0\n",
       "annual_inc            1\n",
       "dti                   4\n",
       "total_rec_late_fee    0\n",
       "total_acc             3\n",
       "dtype: int64"
      ]
     },
     "execution_count": 24,
     "metadata": {},
     "output_type": "execute_result"
    }
   ],
   "source": [
    "loans[numerical_variables].isnull().sum()"
   ]
  },
  {
   "cell_type": "code",
   "execution_count": 25,
   "metadata": {},
   "outputs": [
    {
     "data": {
      "text/plain": [
       "funded_amnt_inv       12000.00\n",
       "installment             375.14\n",
       "int_rate                 12.99\n",
       "annual_inc            65000.00\n",
       "dti                      17.28\n",
       "total_rec_late_fee        0.00\n",
       "total_acc                24.00\n",
       "dtype: float64"
      ]
     },
     "execution_count": 25,
     "metadata": {},
     "output_type": "execute_result"
    }
   ],
   "source": [
    "loans[numerical_variables].median()"
   ]
  },
  {
   "cell_type": "code",
   "execution_count": 26,
   "metadata": {},
   "outputs": [],
   "source": [
    "loans[numerical_variables] = loans[numerical_variables].fillna(loans[numerical_variables].median())"
   ]
  },
  {
   "cell_type": "code",
   "execution_count": 27,
   "metadata": {
    "scrolled": true
   },
   "outputs": [
    {
     "data": {
      "text/plain": [
       "funded_amnt_inv       0\n",
       "installment           0\n",
       "int_rate              0\n",
       "annual_inc            0\n",
       "dti                   0\n",
       "total_rec_late_fee    0\n",
       "total_acc             0\n",
       "dtype: int64"
      ]
     },
     "execution_count": 27,
     "metadata": {},
     "output_type": "execute_result"
    }
   ],
   "source": [
    "loans[numerical_variables].isnull().sum()"
   ]
  },
  {
   "cell_type": "markdown",
   "metadata": {},
   "source": [
    "### 03 - Categorical Variables"
   ]
  },
  {
   "cell_type": "code",
   "execution_count": 28,
   "metadata": {},
   "outputs": [],
   "source": [
    "categorical_variables = ['term', 'grade', 'emp_title', 'emp_length', 'title', \n",
    "                         'home_ownership', 'zip_code', 'addr_state', 'application_type']"
   ]
  },
  {
   "cell_type": "code",
   "execution_count": 29,
   "metadata": {},
   "outputs": [
    {
     "name": "stdout",
     "output_type": "stream",
     "text": [
      "term: 2 categories\n",
      "grade: 7 categories\n",
      "emp_title: 47634 categories\n",
      "emp_length: 12 categories\n",
      "title: 9534 categories\n",
      "home_ownership: 6 categories\n",
      "zip_code: 884 categories\n",
      "addr_state: 51 categories\n",
      "application_type: 2 categories\n"
     ]
    }
   ],
   "source": [
    "for variable in categorical_variables:\n",
    "    number_of_categories = loans[variable].unique().size\n",
    "    print(\"{}: {} categories\".format(variable, number_of_categories))"
   ]
  },
  {
   "cell_type": "markdown",
   "metadata": {},
   "source": [
    "Too many categories for `emp_title`, `title`, `zip_code` and `addr_state`. Let's take a look at these three variables:"
   ]
  },
  {
   "cell_type": "markdown",
   "metadata": {},
   "source": [
    "__Employee Title__:"
   ]
  },
  {
   "cell_type": "code",
   "execution_count": 30,
   "metadata": {},
   "outputs": [
    {
     "data": {
      "text/plain": [
       "Manager             1344\n",
       "Teacher             1338\n",
       "Registered Nurse     602\n",
       "Supervisor           590\n",
       "RN                   578\n",
       "Owner                548\n",
       "Sales                539\n",
       "Driver               471\n",
       "Project Manager      439\n",
       "Office Manager       381\n",
       "Name: emp_title, dtype: int64"
      ]
     },
     "execution_count": 30,
     "metadata": {},
     "output_type": "execute_result"
    }
   ],
   "source": [
    "loans['emp_title'].value_counts().head(10)"
   ]
  },
  {
   "cell_type": "markdown",
   "metadata": {},
   "source": [
    "NA's"
   ]
  },
  {
   "cell_type": "code",
   "execution_count": 31,
   "metadata": {},
   "outputs": [
    {
     "data": {
      "text/plain": [
       "5944"
      ]
     },
     "execution_count": 31,
     "metadata": {},
     "output_type": "execute_result"
    }
   ],
   "source": [
    "loans['emp_title'].isnull().sum()"
   ]
  },
  {
   "cell_type": "code",
   "execution_count": 32,
   "metadata": {
    "scrolled": true
   },
   "outputs": [],
   "source": [
    "loans['emp_title'] = loans['emp_title'].fillna(method=\"ffill\")"
   ]
  },
  {
   "cell_type": "code",
   "execution_count": 33,
   "metadata": {},
   "outputs": [
    {
     "data": {
      "text/plain": [
       "0"
      ]
     },
     "execution_count": 33,
     "metadata": {},
     "output_type": "execute_result"
    }
   ],
   "source": [
    "loans['emp_title'].isnull().sum()"
   ]
  },
  {
   "cell_type": "code",
   "execution_count": 34,
   "metadata": {},
   "outputs": [],
   "source": [
    "loans['emp_title'] = loans['emp_title'].str.lower()"
   ]
  },
  {
   "cell_type": "code",
   "execution_count": 35,
   "metadata": {},
   "outputs": [],
   "source": [
    "loans['emp_title'][loans['emp_title'].str.contains('manager')] = 'manager'"
   ]
  },
  {
   "cell_type": "code",
   "execution_count": 36,
   "metadata": {},
   "outputs": [],
   "source": [
    "loans['manager'] = (loans['emp_title'] == 'manager').astype(int)"
   ]
  },
  {
   "cell_type": "code",
   "execution_count": 37,
   "metadata": {},
   "outputs": [],
   "source": [
    "loans = loans.drop('emp_title', axis=1)"
   ]
  },
  {
   "cell_type": "code",
   "execution_count": 38,
   "metadata": {},
   "outputs": [
    {
     "data": {
      "text/plain": [
       "count    99587.000000\n",
       "mean         0.128651\n",
       "std          0.334815\n",
       "min          0.000000\n",
       "25%          0.000000\n",
       "50%          0.000000\n",
       "75%          0.000000\n",
       "max          1.000000\n",
       "Name: manager, dtype: float64"
      ]
     },
     "execution_count": 38,
     "metadata": {},
     "output_type": "execute_result"
    }
   ],
   "source": [
    "loans['manager'].describe()"
   ]
  },
  {
   "cell_type": "markdown",
   "metadata": {},
   "source": [
    "__Purpose__ of the loan:"
   ]
  },
  {
   "cell_type": "code",
   "execution_count": 39,
   "metadata": {},
   "outputs": [
    {
     "data": {
      "text/plain": [
       "Debt consolidation           45915\n",
       "Credit card refinancing      16740\n",
       "Home improvement              4812\n",
       "Other                         4178\n",
       "Debt Consolidation            1767\n",
       "Major purchase                1520\n",
       "Medical expenses               907\n",
       "Business                       775\n",
       "Car financing                  704\n",
       "Consolidation                  644\n",
       "Vacation                       528\n",
       "debt consolidation             524\n",
       "Moving and relocation          500\n",
       "Debt Consolidation Loan        394\n",
       "Home buying                    344\n",
       "Personal Loan                  259\n",
       "Credit Card Consolidation      229\n",
       "consolidation                  227\n",
       "Home Improvement               206\n",
       "Consolidation Loan             182\n",
       "Name: title, dtype: int64"
      ]
     },
     "execution_count": 39,
     "metadata": {},
     "output_type": "execute_result"
    }
   ],
   "source": [
    "loans['title'].value_counts().head(20)"
   ]
  },
  {
   "cell_type": "code",
   "execution_count": 40,
   "metadata": {},
   "outputs": [
    {
     "data": {
      "text/plain": [
       "975"
      ]
     },
     "execution_count": 40,
     "metadata": {},
     "output_type": "execute_result"
    }
   ],
   "source": [
    "loans['title'].isnull().sum()"
   ]
  },
  {
   "cell_type": "code",
   "execution_count": 41,
   "metadata": {},
   "outputs": [],
   "source": [
    "loans['title'] = loans['title'].fillna(method=\"ffill\")"
   ]
  },
  {
   "cell_type": "code",
   "execution_count": 42,
   "metadata": {},
   "outputs": [
    {
     "data": {
      "text/plain": [
       "0"
      ]
     },
     "execution_count": 42,
     "metadata": {},
     "output_type": "execute_result"
    }
   ],
   "source": [
    "loans['title'].isnull().sum()"
   ]
  },
  {
   "cell_type": "code",
   "execution_count": 43,
   "metadata": {},
   "outputs": [],
   "source": [
    "def loan_purpose_renaming():    \n",
    "    title = loans['title'].str.lower()\n",
    "    title[title.str.contains(\"credit card|credit\")] = \"credit card refinancing\"\n",
    "    title[title.str.contains(\"debt|consolidation|consolidate|refinance\")] = \"debt consolidation\"\n",
    "    title[title.str.contains(\"home improvement\")] = \"home improvement\"\n",
    "    title[title.str.contains(\"^home$|home loan\")] = \"home buying\"\n",
    "    title[title.str.contains(\"green\")] = \"green\"\n",
    "    title[title.str.contains(\"wedding\")] = \"wedding\"\n",
    "    title[title.str.contains(\"medical\")] = \"medical\"\n",
    "    title[title.str.contains(\"personal|my loan|^loan$|lending club\")] = \"personal\"\n",
    "    title[title.str.contains(\"business\")] = \"business\"\n",
    "    title[title.str.contains(\"pay(| )off\")] = \"payoff\"\n",
    "    title[title.str.contains(\"car loan|car financing\")] = \"car\"\n",
    "    \n",
    "    return title"
   ]
  },
  {
   "cell_type": "code",
   "execution_count": 44,
   "metadata": {},
   "outputs": [],
   "source": [
    "loans['title'] = loan_purpose_renaming()"
   ]
  },
  {
   "cell_type": "code",
   "execution_count": 45,
   "metadata": {
    "scrolled": true
   },
   "outputs": [
    {
     "data": {
      "text/plain": [
       "debt consolidation                                                 54589\n",
       "credit card refinancing                                            20370\n",
       "home improvement                                                    5372\n",
       "other                                                               4223\n",
       "major purchase                                                      1576\n",
       "personal                                                            1255\n",
       "medical                                                             1073\n",
       "business                                                            1057\n",
       "car                                                                  822\n",
       "payoff                                                               737\n",
       "vacation                                                             556\n",
       "moving and relocation                                                504\n",
       "home buying                                                          441\n",
       "wedding                                                              266\n",
       "freedom                                                              154\n",
       "bills                                                                 62\n",
       "green                                                                 53\n",
       "cc loan                                                               43\n",
       "loan 1                                                                37\n",
       "other loan                                                            35\n",
       "pool                                                                  34\n",
       "cc refi                                                               32\n",
       "pool loan                                                             32\n",
       "refi                                                                  29\n",
       "moving loan                                                           28\n",
       "new start                                                             27\n",
       "help                                                                  26\n",
       "major purchase loan                                                   26\n",
       "loan1                                                                 26\n",
       "fresh start                                                           24\n",
       "                                                                   ...  \n",
       "control                                                                1\n",
       "scoobydoo                                                              1\n",
       "home household items                                                   1\n",
       "i would like to breath easier                                          1\n",
       "mexican cruise vacation                                                1\n",
       "throw me a life vest please                                            1\n",
       "waterproof this old house                                              1\n",
       "get right                                                              1\n",
       "vacpeace                                                               1\n",
       "landjeep                                                               1\n",
       "chris loan                                                             1\n",
       "debit balances                                                         1\n",
       "real estate investment                                                 1\n",
       "ghi                                                                    1\n",
       "raintree                                                               1\n",
       "time to start saving money                                             1\n",
       "monkey off my back                                                     1\n",
       "futures                                                                1\n",
       "financial relief 2011                                                  1\n",
       "the climb                                                              1\n",
       "need vacation                                                          1\n",
       "reliable-hardworking-25yr old female with proven loan repayment        1\n",
       "morelife                                                               1\n",
       "love money                                                             1\n",
       "before 3-0                                                             1\n",
       "opportunity to excel                                                   1\n",
       "big money                                                              1\n",
       "driveway repair.                                                       1\n",
       "to fix my house and paint                                              1\n",
       "save our house                                                         1\n",
       "Name: title, Length: 4455, dtype: int64"
      ]
     },
     "execution_count": 45,
     "metadata": {},
     "output_type": "execute_result"
    }
   ],
   "source": [
    "loans['title'].value_counts()"
   ]
  },
  {
   "cell_type": "code",
   "execution_count": 46,
   "metadata": {},
   "outputs": [],
   "source": [
    "loans['refinance'] = ((loans['title'] == 'credit card refinancing') | \\\n",
    "                     (loans['title'] == 'debt consolidation')).astype(int)"
   ]
  },
  {
   "cell_type": "code",
   "execution_count": 47,
   "metadata": {},
   "outputs": [],
   "source": [
    "loans = loans.drop('title', axis = 1)"
   ]
  },
  {
   "cell_type": "code",
   "execution_count": 48,
   "metadata": {},
   "outputs": [
    {
     "data": {
      "text/plain": [
       "count    99587.000000\n",
       "mean         0.752699\n",
       "std          0.431446\n",
       "min          0.000000\n",
       "25%          1.000000\n",
       "50%          1.000000\n",
       "75%          1.000000\n",
       "max          1.000000\n",
       "Name: refinance, dtype: float64"
      ]
     },
     "execution_count": 48,
     "metadata": {},
     "output_type": "execute_result"
    }
   ],
   "source": [
    "loans['refinance'].describe()"
   ]
  },
  {
   "cell_type": "markdown",
   "metadata": {},
   "source": [
    "__zip_code__:"
   ]
  },
  {
   "cell_type": "code",
   "execution_count": 49,
   "metadata": {},
   "outputs": [
    {
     "data": {
      "text/plain": [
       "count     99587\n",
       "unique      884\n",
       "top       945xx\n",
       "freq       1151\n",
       "Name: zip_code, dtype: object"
      ]
     },
     "execution_count": 49,
     "metadata": {},
     "output_type": "execute_result"
    }
   ],
   "source": [
    "loans['zip_code'].describe()"
   ]
  },
  {
   "cell_type": "code",
   "execution_count": 50,
   "metadata": {
    "scrolled": true
   },
   "outputs": [
    {
     "data": {
      "text/plain": [
       "945xx    1151\n",
       "750xx    1088\n",
       "112xx    1044\n",
       "606xx     925\n",
       "300xx     922\n",
       "Name: zip_code, dtype: int64"
      ]
     },
     "execution_count": 50,
     "metadata": {},
     "output_type": "execute_result"
    }
   ],
   "source": [
    "loans['zip_code'].value_counts().head()"
   ]
  },
  {
   "cell_type": "code",
   "execution_count": 51,
   "metadata": {},
   "outputs": [],
   "source": [
    "loans = loans.drop('zip_code', axis=1)"
   ]
  },
  {
   "cell_type": "markdown",
   "metadata": {},
   "source": [
    "__addr_state__:"
   ]
  },
  {
   "cell_type": "code",
   "execution_count": 52,
   "metadata": {},
   "outputs": [
    {
     "data": {
      "text/plain": [
       "count     99587\n",
       "unique       51\n",
       "top          CA\n",
       "freq      15117\n",
       "Name: addr_state, dtype: object"
      ]
     },
     "execution_count": 52,
     "metadata": {},
     "output_type": "execute_result"
    }
   ],
   "source": [
    "loans['addr_state'].describe()"
   ]
  },
  {
   "cell_type": "code",
   "execution_count": 53,
   "metadata": {},
   "outputs": [
    {
     "data": {
      "text/plain": [
       "CA    15117\n",
       "NY     8102\n",
       "TX     8020\n",
       "FL     6969\n",
       "IL     3776\n",
       "Name: addr_state, dtype: int64"
      ]
     },
     "execution_count": 53,
     "metadata": {},
     "output_type": "execute_result"
    }
   ],
   "source": [
    "loans['addr_state'].value_counts().head()"
   ]
  },
  {
   "cell_type": "code",
   "execution_count": 54,
   "metadata": {},
   "outputs": [],
   "source": [
    "loans = loans.drop('addr_state', axis = 1)"
   ]
  },
  {
   "cell_type": "code",
   "execution_count": 55,
   "metadata": {},
   "outputs": [],
   "source": [
    "categorical_variables = ['term', 'grade', 'emp_length', 'home_ownership', 'application_type']"
   ]
  },
  {
   "cell_type": "code",
   "execution_count": 56,
   "metadata": {},
   "outputs": [
    {
     "data": {
      "text/html": [
       "<div>\n",
       "<style scoped>\n",
       "    .dataframe tbody tr th:only-of-type {\n",
       "        vertical-align: middle;\n",
       "    }\n",
       "\n",
       "    .dataframe tbody tr th {\n",
       "        vertical-align: top;\n",
       "    }\n",
       "\n",
       "    .dataframe thead th {\n",
       "        text-align: right;\n",
       "    }\n",
       "</style>\n",
       "<table border=\"1\" class=\"dataframe\">\n",
       "  <thead>\n",
       "    <tr style=\"text-align: right;\">\n",
       "      <th></th>\n",
       "      <th>term</th>\n",
       "      <th>grade</th>\n",
       "      <th>emp_length</th>\n",
       "      <th>home_ownership</th>\n",
       "      <th>application_type</th>\n",
       "    </tr>\n",
       "  </thead>\n",
       "  <tbody>\n",
       "    <tr>\n",
       "      <th>count</th>\n",
       "      <td>99587</td>\n",
       "      <td>99587</td>\n",
       "      <td>94372</td>\n",
       "      <td>99587</td>\n",
       "      <td>99587</td>\n",
       "    </tr>\n",
       "    <tr>\n",
       "      <th>unique</th>\n",
       "      <td>2</td>\n",
       "      <td>7</td>\n",
       "      <td>11</td>\n",
       "      <td>6</td>\n",
       "      <td>2</td>\n",
       "    </tr>\n",
       "    <tr>\n",
       "      <th>top</th>\n",
       "      <td>36 months</td>\n",
       "      <td>B</td>\n",
       "      <td>10+ years</td>\n",
       "      <td>MORTGAGE</td>\n",
       "      <td>Individual</td>\n",
       "    </tr>\n",
       "    <tr>\n",
       "      <th>freq</th>\n",
       "      <td>75575</td>\n",
       "      <td>28866</td>\n",
       "      <td>32483</td>\n",
       "      <td>49392</td>\n",
       "      <td>99025</td>\n",
       "    </tr>\n",
       "  </tbody>\n",
       "</table>\n",
       "</div>"
      ],
      "text/plain": [
       "              term  grade emp_length home_ownership application_type\n",
       "count        99587  99587      94372          99587            99587\n",
       "unique           2      7         11              6                2\n",
       "top      36 months      B  10+ years       MORTGAGE       Individual\n",
       "freq         75575  28866      32483          49392            99025"
      ]
     },
     "execution_count": 56,
     "metadata": {},
     "output_type": "execute_result"
    }
   ],
   "source": [
    "loans[categorical_variables].describe()"
   ]
  },
  {
   "cell_type": "markdown",
   "metadata": {},
   "source": [
    "__issue_d__"
   ]
  },
  {
   "cell_type": "markdown",
   "metadata": {},
   "source": [
    "We have just one date variable, `issue_d`. We are only interested in the year of the loan and we will consider it as categorical variable:"
   ]
  },
  {
   "cell_type": "code",
   "execution_count": 57,
   "metadata": {},
   "outputs": [],
   "source": [
    "loans['issue_d'] = loans['issue_d'].map(lambda x: x[4:])"
   ]
  },
  {
   "cell_type": "code",
   "execution_count": 58,
   "metadata": {},
   "outputs": [
    {
     "data": {
      "text/plain": [
       "count     99587\n",
       "unique       11\n",
       "top        2015\n",
       "freq      27922\n",
       "Name: issue_d, dtype: object"
      ]
     },
     "execution_count": 58,
     "metadata": {},
     "output_type": "execute_result"
    }
   ],
   "source": [
    "loans['issue_d'].describe()"
   ]
  },
  {
   "cell_type": "code",
   "execution_count": 59,
   "metadata": {},
   "outputs": [],
   "source": [
    "loans = loans.drop('issue_d', axis = 1)"
   ]
  },
  {
   "cell_type": "code",
   "execution_count": 60,
   "metadata": {},
   "outputs": [
    {
     "data": {
      "text/html": [
       "<div>\n",
       "<style scoped>\n",
       "    .dataframe tbody tr th:only-of-type {\n",
       "        vertical-align: middle;\n",
       "    }\n",
       "\n",
       "    .dataframe tbody tr th {\n",
       "        vertical-align: top;\n",
       "    }\n",
       "\n",
       "    .dataframe thead th {\n",
       "        text-align: right;\n",
       "    }\n",
       "</style>\n",
       "<table border=\"1\" class=\"dataframe\">\n",
       "  <thead>\n",
       "    <tr style=\"text-align: right;\">\n",
       "      <th></th>\n",
       "      <th>funded_amnt_inv</th>\n",
       "      <th>term</th>\n",
       "      <th>installment</th>\n",
       "      <th>int_rate</th>\n",
       "      <th>grade</th>\n",
       "      <th>emp_length</th>\n",
       "      <th>annual_inc</th>\n",
       "      <th>dti</th>\n",
       "      <th>home_ownership</th>\n",
       "      <th>total_rec_late_fee</th>\n",
       "      <th>application_type</th>\n",
       "      <th>total_acc</th>\n",
       "      <th>loan_status</th>\n",
       "      <th>manager</th>\n",
       "      <th>refinance</th>\n",
       "    </tr>\n",
       "  </thead>\n",
       "  <tbody>\n",
       "    <tr>\n",
       "      <th>1211417</th>\n",
       "      <td>12000.0</td>\n",
       "      <td>36 months</td>\n",
       "      <td>378.20</td>\n",
       "      <td>8.39</td>\n",
       "      <td>A</td>\n",
       "      <td>2 years</td>\n",
       "      <td>60000.0</td>\n",
       "      <td>5.26</td>\n",
       "      <td>OWN</td>\n",
       "      <td>0.0</td>\n",
       "      <td>Individual</td>\n",
       "      <td>10.0</td>\n",
       "      <td>0</td>\n",
       "      <td>0</td>\n",
       "      <td>1</td>\n",
       "    </tr>\n",
       "    <tr>\n",
       "      <th>329169</th>\n",
       "      <td>11500.0</td>\n",
       "      <td>60 months</td>\n",
       "      <td>270.52</td>\n",
       "      <td>14.49</td>\n",
       "      <td>C</td>\n",
       "      <td>NaN</td>\n",
       "      <td>50400.0</td>\n",
       "      <td>33.17</td>\n",
       "      <td>MORTGAGE</td>\n",
       "      <td>0.0</td>\n",
       "      <td>Individual</td>\n",
       "      <td>25.0</td>\n",
       "      <td>0</td>\n",
       "      <td>0</td>\n",
       "      <td>1</td>\n",
       "    </tr>\n",
       "    <tr>\n",
       "      <th>1494916</th>\n",
       "      <td>11000.0</td>\n",
       "      <td>36 months</td>\n",
       "      <td>331.27</td>\n",
       "      <td>5.32</td>\n",
       "      <td>A</td>\n",
       "      <td>10+ years</td>\n",
       "      <td>81184.0</td>\n",
       "      <td>28.69</td>\n",
       "      <td>OWN</td>\n",
       "      <td>0.0</td>\n",
       "      <td>Individual</td>\n",
       "      <td>28.0</td>\n",
       "      <td>0</td>\n",
       "      <td>0</td>\n",
       "      <td>1</td>\n",
       "    </tr>\n",
       "    <tr>\n",
       "      <th>1669339</th>\n",
       "      <td>10000.0</td>\n",
       "      <td>60 months</td>\n",
       "      <td>223.92</td>\n",
       "      <td>12.29</td>\n",
       "      <td>C</td>\n",
       "      <td>7 years</td>\n",
       "      <td>48600.0</td>\n",
       "      <td>15.80</td>\n",
       "      <td>MORTGAGE</td>\n",
       "      <td>0.0</td>\n",
       "      <td>Individual</td>\n",
       "      <td>24.0</td>\n",
       "      <td>0</td>\n",
       "      <td>0</td>\n",
       "      <td>1</td>\n",
       "    </tr>\n",
       "    <tr>\n",
       "      <th>1696382</th>\n",
       "      <td>7150.0</td>\n",
       "      <td>36 months</td>\n",
       "      <td>259.39</td>\n",
       "      <td>18.25</td>\n",
       "      <td>E</td>\n",
       "      <td>NaN</td>\n",
       "      <td>22450.8</td>\n",
       "      <td>22.94</td>\n",
       "      <td>RENT</td>\n",
       "      <td>0.0</td>\n",
       "      <td>Individual</td>\n",
       "      <td>21.0</td>\n",
       "      <td>1</td>\n",
       "      <td>0</td>\n",
       "      <td>1</td>\n",
       "    </tr>\n",
       "  </tbody>\n",
       "</table>\n",
       "</div>"
      ],
      "text/plain": [
       "         funded_amnt_inv        term  installment  int_rate grade emp_length  \\\n",
       "1211417          12000.0   36 months       378.20      8.39     A    2 years   \n",
       "329169           11500.0   60 months       270.52     14.49     C        NaN   \n",
       "1494916          11000.0   36 months       331.27      5.32     A  10+ years   \n",
       "1669339          10000.0   60 months       223.92     12.29     C    7 years   \n",
       "1696382           7150.0   36 months       259.39     18.25     E        NaN   \n",
       "\n",
       "         annual_inc    dti home_ownership  total_rec_late_fee  \\\n",
       "1211417     60000.0   5.26            OWN                 0.0   \n",
       "329169      50400.0  33.17       MORTGAGE                 0.0   \n",
       "1494916     81184.0  28.69            OWN                 0.0   \n",
       "1669339     48600.0  15.80       MORTGAGE                 0.0   \n",
       "1696382     22450.8  22.94           RENT                 0.0   \n",
       "\n",
       "        application_type  total_acc  loan_status  manager  refinance  \n",
       "1211417       Individual       10.0            0        0          1  \n",
       "329169        Individual       25.0            0        0          1  \n",
       "1494916       Individual       28.0            0        0          1  \n",
       "1669339       Individual       24.0            0        0          1  \n",
       "1696382       Individual       21.0            1        0          1  "
      ]
     },
     "execution_count": 60,
     "metadata": {},
     "output_type": "execute_result"
    }
   ],
   "source": [
    "loans.head()"
   ]
  },
  {
   "cell_type": "code",
   "execution_count": 61,
   "metadata": {},
   "outputs": [
    {
     "data": {
      "text/plain": [
       "(99587, 15)"
      ]
     },
     "execution_count": 61,
     "metadata": {},
     "output_type": "execute_result"
    }
   ],
   "source": [
    "loans.shape"
   ]
  },
  {
   "cell_type": "code",
   "execution_count": 62,
   "metadata": {},
   "outputs": [
    {
     "data": {
      "text/plain": [
       "funded_amnt_inv          0\n",
       "term                     0\n",
       "installment              0\n",
       "int_rate                 0\n",
       "grade                    0\n",
       "emp_length            5215\n",
       "annual_inc               0\n",
       "dti                      0\n",
       "home_ownership           0\n",
       "total_rec_late_fee       0\n",
       "application_type         0\n",
       "total_acc                0\n",
       "loan_status              0\n",
       "manager                  0\n",
       "refinance                0\n",
       "dtype: int64"
      ]
     },
     "execution_count": 62,
     "metadata": {},
     "output_type": "execute_result"
    }
   ],
   "source": [
    "loans.isnull().sum()"
   ]
  },
  {
   "cell_type": "code",
   "execution_count": 63,
   "metadata": {},
   "outputs": [],
   "source": [
    "loans = loans.fillna(method = 'ffill')"
   ]
  },
  {
   "cell_type": "code",
   "execution_count": 64,
   "metadata": {},
   "outputs": [
    {
     "data": {
      "text/plain": [
       "funded_amnt_inv       0\n",
       "term                  0\n",
       "installment           0\n",
       "int_rate              0\n",
       "grade                 0\n",
       "emp_length            0\n",
       "annual_inc            0\n",
       "dti                   0\n",
       "home_ownership        0\n",
       "total_rec_late_fee    0\n",
       "application_type      0\n",
       "total_acc             0\n",
       "loan_status           0\n",
       "manager               0\n",
       "refinance             0\n",
       "dtype: int64"
      ]
     },
     "execution_count": 64,
     "metadata": {},
     "output_type": "execute_result"
    }
   ],
   "source": [
    "loans.isnull().sum()"
   ]
  },
  {
   "cell_type": "code",
   "execution_count": 65,
   "metadata": {},
   "outputs": [],
   "source": [
    "loans = pd.get_dummies(loans, columns = categorical_variables)"
   ]
  },
  {
   "cell_type": "markdown",
   "metadata": {},
   "source": [
    "### 04 - Final Data "
   ]
  },
  {
   "cell_type": "code",
   "execution_count": 66,
   "metadata": {},
   "outputs": [
    {
     "data": {
      "text/html": [
       "<div>\n",
       "<style scoped>\n",
       "    .dataframe tbody tr th:only-of-type {\n",
       "        vertical-align: middle;\n",
       "    }\n",
       "\n",
       "    .dataframe tbody tr th {\n",
       "        vertical-align: top;\n",
       "    }\n",
       "\n",
       "    .dataframe thead th {\n",
       "        text-align: right;\n",
       "    }\n",
       "</style>\n",
       "<table border=\"1\" class=\"dataframe\">\n",
       "  <thead>\n",
       "    <tr style=\"text-align: right;\">\n",
       "      <th></th>\n",
       "      <th>funded_amnt_inv</th>\n",
       "      <th>installment</th>\n",
       "      <th>int_rate</th>\n",
       "      <th>annual_inc</th>\n",
       "      <th>dti</th>\n",
       "      <th>total_rec_late_fee</th>\n",
       "      <th>total_acc</th>\n",
       "      <th>loan_status</th>\n",
       "      <th>manager</th>\n",
       "      <th>refinance</th>\n",
       "      <th>...</th>\n",
       "      <th>emp_length_9 years</th>\n",
       "      <th>emp_length_&lt; 1 year</th>\n",
       "      <th>home_ownership_ANY</th>\n",
       "      <th>home_ownership_MORTGAGE</th>\n",
       "      <th>home_ownership_NONE</th>\n",
       "      <th>home_ownership_OTHER</th>\n",
       "      <th>home_ownership_OWN</th>\n",
       "      <th>home_ownership_RENT</th>\n",
       "      <th>application_type_Individual</th>\n",
       "      <th>application_type_Joint App</th>\n",
       "    </tr>\n",
       "  </thead>\n",
       "  <tbody>\n",
       "    <tr>\n",
       "      <th>1211417</th>\n",
       "      <td>12000.0</td>\n",
       "      <td>378.20</td>\n",
       "      <td>8.39</td>\n",
       "      <td>60000.0</td>\n",
       "      <td>5.26</td>\n",
       "      <td>0.0</td>\n",
       "      <td>10.0</td>\n",
       "      <td>0</td>\n",
       "      <td>0</td>\n",
       "      <td>1</td>\n",
       "      <td>...</td>\n",
       "      <td>0</td>\n",
       "      <td>0</td>\n",
       "      <td>0</td>\n",
       "      <td>0</td>\n",
       "      <td>0</td>\n",
       "      <td>0</td>\n",
       "      <td>1</td>\n",
       "      <td>0</td>\n",
       "      <td>1</td>\n",
       "      <td>0</td>\n",
       "    </tr>\n",
       "    <tr>\n",
       "      <th>329169</th>\n",
       "      <td>11500.0</td>\n",
       "      <td>270.52</td>\n",
       "      <td>14.49</td>\n",
       "      <td>50400.0</td>\n",
       "      <td>33.17</td>\n",
       "      <td>0.0</td>\n",
       "      <td>25.0</td>\n",
       "      <td>0</td>\n",
       "      <td>0</td>\n",
       "      <td>1</td>\n",
       "      <td>...</td>\n",
       "      <td>0</td>\n",
       "      <td>0</td>\n",
       "      <td>0</td>\n",
       "      <td>1</td>\n",
       "      <td>0</td>\n",
       "      <td>0</td>\n",
       "      <td>0</td>\n",
       "      <td>0</td>\n",
       "      <td>1</td>\n",
       "      <td>0</td>\n",
       "    </tr>\n",
       "    <tr>\n",
       "      <th>1494916</th>\n",
       "      <td>11000.0</td>\n",
       "      <td>331.27</td>\n",
       "      <td>5.32</td>\n",
       "      <td>81184.0</td>\n",
       "      <td>28.69</td>\n",
       "      <td>0.0</td>\n",
       "      <td>28.0</td>\n",
       "      <td>0</td>\n",
       "      <td>0</td>\n",
       "      <td>1</td>\n",
       "      <td>...</td>\n",
       "      <td>0</td>\n",
       "      <td>0</td>\n",
       "      <td>0</td>\n",
       "      <td>0</td>\n",
       "      <td>0</td>\n",
       "      <td>0</td>\n",
       "      <td>1</td>\n",
       "      <td>0</td>\n",
       "      <td>1</td>\n",
       "      <td>0</td>\n",
       "    </tr>\n",
       "    <tr>\n",
       "      <th>1669339</th>\n",
       "      <td>10000.0</td>\n",
       "      <td>223.92</td>\n",
       "      <td>12.29</td>\n",
       "      <td>48600.0</td>\n",
       "      <td>15.80</td>\n",
       "      <td>0.0</td>\n",
       "      <td>24.0</td>\n",
       "      <td>0</td>\n",
       "      <td>0</td>\n",
       "      <td>1</td>\n",
       "      <td>...</td>\n",
       "      <td>0</td>\n",
       "      <td>0</td>\n",
       "      <td>0</td>\n",
       "      <td>1</td>\n",
       "      <td>0</td>\n",
       "      <td>0</td>\n",
       "      <td>0</td>\n",
       "      <td>0</td>\n",
       "      <td>1</td>\n",
       "      <td>0</td>\n",
       "    </tr>\n",
       "    <tr>\n",
       "      <th>1696382</th>\n",
       "      <td>7150.0</td>\n",
       "      <td>259.39</td>\n",
       "      <td>18.25</td>\n",
       "      <td>22450.8</td>\n",
       "      <td>22.94</td>\n",
       "      <td>0.0</td>\n",
       "      <td>21.0</td>\n",
       "      <td>1</td>\n",
       "      <td>0</td>\n",
       "      <td>1</td>\n",
       "      <td>...</td>\n",
       "      <td>0</td>\n",
       "      <td>0</td>\n",
       "      <td>0</td>\n",
       "      <td>0</td>\n",
       "      <td>0</td>\n",
       "      <td>0</td>\n",
       "      <td>0</td>\n",
       "      <td>1</td>\n",
       "      <td>1</td>\n",
       "      <td>0</td>\n",
       "    </tr>\n",
       "  </tbody>\n",
       "</table>\n",
       "<p>5 rows × 38 columns</p>\n",
       "</div>"
      ],
      "text/plain": [
       "         funded_amnt_inv  installment  int_rate  annual_inc    dti  \\\n",
       "1211417          12000.0       378.20      8.39     60000.0   5.26   \n",
       "329169           11500.0       270.52     14.49     50400.0  33.17   \n",
       "1494916          11000.0       331.27      5.32     81184.0  28.69   \n",
       "1669339          10000.0       223.92     12.29     48600.0  15.80   \n",
       "1696382           7150.0       259.39     18.25     22450.8  22.94   \n",
       "\n",
       "         total_rec_late_fee  total_acc  loan_status  manager  refinance  \\\n",
       "1211417                 0.0       10.0            0        0          1   \n",
       "329169                  0.0       25.0            0        0          1   \n",
       "1494916                 0.0       28.0            0        0          1   \n",
       "1669339                 0.0       24.0            0        0          1   \n",
       "1696382                 0.0       21.0            1        0          1   \n",
       "\n",
       "                    ...              emp_length_9 years  emp_length_< 1 year  \\\n",
       "1211417             ...                               0                    0   \n",
       "329169              ...                               0                    0   \n",
       "1494916             ...                               0                    0   \n",
       "1669339             ...                               0                    0   \n",
       "1696382             ...                               0                    0   \n",
       "\n",
       "         home_ownership_ANY  home_ownership_MORTGAGE  home_ownership_NONE  \\\n",
       "1211417                   0                        0                    0   \n",
       "329169                    0                        1                    0   \n",
       "1494916                   0                        0                    0   \n",
       "1669339                   0                        1                    0   \n",
       "1696382                   0                        0                    0   \n",
       "\n",
       "         home_ownership_OTHER  home_ownership_OWN  home_ownership_RENT  \\\n",
       "1211417                     0                   1                    0   \n",
       "329169                      0                   0                    0   \n",
       "1494916                     0                   1                    0   \n",
       "1669339                     0                   0                    0   \n",
       "1696382                     0                   0                    1   \n",
       "\n",
       "         application_type_Individual  application_type_Joint App  \n",
       "1211417                            1                           0  \n",
       "329169                             1                           0  \n",
       "1494916                            1                           0  \n",
       "1669339                            1                           0  \n",
       "1696382                            1                           0  \n",
       "\n",
       "[5 rows x 38 columns]"
      ]
     },
     "execution_count": 66,
     "metadata": {},
     "output_type": "execute_result"
    }
   ],
   "source": [
    "loans.head()"
   ]
  },
  {
   "cell_type": "code",
   "execution_count": 67,
   "metadata": {},
   "outputs": [],
   "source": [
    "loans['non_payment'] = loans['loan_status']"
   ]
  },
  {
   "cell_type": "code",
   "execution_count": 68,
   "metadata": {},
   "outputs": [],
   "source": [
    "loans = loans.drop('loan_status', axis = 1)"
   ]
  },
  {
   "cell_type": "code",
   "execution_count": 69,
   "metadata": {},
   "outputs": [
    {
     "data": {
      "text/html": [
       "<div>\n",
       "<style scoped>\n",
       "    .dataframe tbody tr th:only-of-type {\n",
       "        vertical-align: middle;\n",
       "    }\n",
       "\n",
       "    .dataframe tbody tr th {\n",
       "        vertical-align: top;\n",
       "    }\n",
       "\n",
       "    .dataframe thead th {\n",
       "        text-align: right;\n",
       "    }\n",
       "</style>\n",
       "<table border=\"1\" class=\"dataframe\">\n",
       "  <thead>\n",
       "    <tr style=\"text-align: right;\">\n",
       "      <th></th>\n",
       "      <th>funded_amnt_inv</th>\n",
       "      <th>installment</th>\n",
       "      <th>int_rate</th>\n",
       "      <th>annual_inc</th>\n",
       "      <th>dti</th>\n",
       "      <th>total_rec_late_fee</th>\n",
       "      <th>total_acc</th>\n",
       "      <th>manager</th>\n",
       "      <th>refinance</th>\n",
       "      <th>term_ 36 months</th>\n",
       "      <th>...</th>\n",
       "      <th>emp_length_&lt; 1 year</th>\n",
       "      <th>home_ownership_ANY</th>\n",
       "      <th>home_ownership_MORTGAGE</th>\n",
       "      <th>home_ownership_NONE</th>\n",
       "      <th>home_ownership_OTHER</th>\n",
       "      <th>home_ownership_OWN</th>\n",
       "      <th>home_ownership_RENT</th>\n",
       "      <th>application_type_Individual</th>\n",
       "      <th>application_type_Joint App</th>\n",
       "      <th>non_payment</th>\n",
       "    </tr>\n",
       "  </thead>\n",
       "  <tbody>\n",
       "    <tr>\n",
       "      <th>1211417</th>\n",
       "      <td>12000.0</td>\n",
       "      <td>378.20</td>\n",
       "      <td>8.39</td>\n",
       "      <td>60000.0</td>\n",
       "      <td>5.26</td>\n",
       "      <td>0.0</td>\n",
       "      <td>10.0</td>\n",
       "      <td>0</td>\n",
       "      <td>1</td>\n",
       "      <td>1</td>\n",
       "      <td>...</td>\n",
       "      <td>0</td>\n",
       "      <td>0</td>\n",
       "      <td>0</td>\n",
       "      <td>0</td>\n",
       "      <td>0</td>\n",
       "      <td>1</td>\n",
       "      <td>0</td>\n",
       "      <td>1</td>\n",
       "      <td>0</td>\n",
       "      <td>0</td>\n",
       "    </tr>\n",
       "    <tr>\n",
       "      <th>329169</th>\n",
       "      <td>11500.0</td>\n",
       "      <td>270.52</td>\n",
       "      <td>14.49</td>\n",
       "      <td>50400.0</td>\n",
       "      <td>33.17</td>\n",
       "      <td>0.0</td>\n",
       "      <td>25.0</td>\n",
       "      <td>0</td>\n",
       "      <td>1</td>\n",
       "      <td>0</td>\n",
       "      <td>...</td>\n",
       "      <td>0</td>\n",
       "      <td>0</td>\n",
       "      <td>1</td>\n",
       "      <td>0</td>\n",
       "      <td>0</td>\n",
       "      <td>0</td>\n",
       "      <td>0</td>\n",
       "      <td>1</td>\n",
       "      <td>0</td>\n",
       "      <td>0</td>\n",
       "    </tr>\n",
       "    <tr>\n",
       "      <th>1494916</th>\n",
       "      <td>11000.0</td>\n",
       "      <td>331.27</td>\n",
       "      <td>5.32</td>\n",
       "      <td>81184.0</td>\n",
       "      <td>28.69</td>\n",
       "      <td>0.0</td>\n",
       "      <td>28.0</td>\n",
       "      <td>0</td>\n",
       "      <td>1</td>\n",
       "      <td>1</td>\n",
       "      <td>...</td>\n",
       "      <td>0</td>\n",
       "      <td>0</td>\n",
       "      <td>0</td>\n",
       "      <td>0</td>\n",
       "      <td>0</td>\n",
       "      <td>1</td>\n",
       "      <td>0</td>\n",
       "      <td>1</td>\n",
       "      <td>0</td>\n",
       "      <td>0</td>\n",
       "    </tr>\n",
       "    <tr>\n",
       "      <th>1669339</th>\n",
       "      <td>10000.0</td>\n",
       "      <td>223.92</td>\n",
       "      <td>12.29</td>\n",
       "      <td>48600.0</td>\n",
       "      <td>15.80</td>\n",
       "      <td>0.0</td>\n",
       "      <td>24.0</td>\n",
       "      <td>0</td>\n",
       "      <td>1</td>\n",
       "      <td>0</td>\n",
       "      <td>...</td>\n",
       "      <td>0</td>\n",
       "      <td>0</td>\n",
       "      <td>1</td>\n",
       "      <td>0</td>\n",
       "      <td>0</td>\n",
       "      <td>0</td>\n",
       "      <td>0</td>\n",
       "      <td>1</td>\n",
       "      <td>0</td>\n",
       "      <td>0</td>\n",
       "    </tr>\n",
       "    <tr>\n",
       "      <th>1696382</th>\n",
       "      <td>7150.0</td>\n",
       "      <td>259.39</td>\n",
       "      <td>18.25</td>\n",
       "      <td>22450.8</td>\n",
       "      <td>22.94</td>\n",
       "      <td>0.0</td>\n",
       "      <td>21.0</td>\n",
       "      <td>0</td>\n",
       "      <td>1</td>\n",
       "      <td>1</td>\n",
       "      <td>...</td>\n",
       "      <td>0</td>\n",
       "      <td>0</td>\n",
       "      <td>0</td>\n",
       "      <td>0</td>\n",
       "      <td>0</td>\n",
       "      <td>0</td>\n",
       "      <td>1</td>\n",
       "      <td>1</td>\n",
       "      <td>0</td>\n",
       "      <td>1</td>\n",
       "    </tr>\n",
       "  </tbody>\n",
       "</table>\n",
       "<p>5 rows × 38 columns</p>\n",
       "</div>"
      ],
      "text/plain": [
       "         funded_amnt_inv  installment  int_rate  annual_inc    dti  \\\n",
       "1211417          12000.0       378.20      8.39     60000.0   5.26   \n",
       "329169           11500.0       270.52     14.49     50400.0  33.17   \n",
       "1494916          11000.0       331.27      5.32     81184.0  28.69   \n",
       "1669339          10000.0       223.92     12.29     48600.0  15.80   \n",
       "1696382           7150.0       259.39     18.25     22450.8  22.94   \n",
       "\n",
       "         total_rec_late_fee  total_acc  manager  refinance  term_ 36 months  \\\n",
       "1211417                 0.0       10.0        0          1                1   \n",
       "329169                  0.0       25.0        0          1                0   \n",
       "1494916                 0.0       28.0        0          1                1   \n",
       "1669339                 0.0       24.0        0          1                0   \n",
       "1696382                 0.0       21.0        0          1                1   \n",
       "\n",
       "            ...       emp_length_< 1 year  home_ownership_ANY  \\\n",
       "1211417     ...                         0                   0   \n",
       "329169      ...                         0                   0   \n",
       "1494916     ...                         0                   0   \n",
       "1669339     ...                         0                   0   \n",
       "1696382     ...                         0                   0   \n",
       "\n",
       "         home_ownership_MORTGAGE  home_ownership_NONE  home_ownership_OTHER  \\\n",
       "1211417                        0                    0                     0   \n",
       "329169                         1                    0                     0   \n",
       "1494916                        0                    0                     0   \n",
       "1669339                        1                    0                     0   \n",
       "1696382                        0                    0                     0   \n",
       "\n",
       "         home_ownership_OWN  home_ownership_RENT  application_type_Individual  \\\n",
       "1211417                   1                    0                            1   \n",
       "329169                    0                    0                            1   \n",
       "1494916                   1                    0                            1   \n",
       "1669339                   0                    0                            1   \n",
       "1696382                   0                    1                            1   \n",
       "\n",
       "         application_type_Joint App  non_payment  \n",
       "1211417                           0            0  \n",
       "329169                            0            0  \n",
       "1494916                           0            0  \n",
       "1669339                           0            0  \n",
       "1696382                           0            1  \n",
       "\n",
       "[5 rows x 38 columns]"
      ]
     },
     "execution_count": 69,
     "metadata": {},
     "output_type": "execute_result"
    }
   ],
   "source": [
    "loans.head()"
   ]
  },
  {
   "cell_type": "code",
   "execution_count": 70,
   "metadata": {},
   "outputs": [
    {
     "data": {
      "text/plain": [
       "(99587, 38)"
      ]
     },
     "execution_count": 70,
     "metadata": {},
     "output_type": "execute_result"
    }
   ],
   "source": [
    "loans.shape"
   ]
  },
  {
   "cell_type": "code",
   "execution_count": 71,
   "metadata": {},
   "outputs": [
    {
     "data": {
      "text/plain": [
       "funded_amnt_inv                float64\n",
       "installment                    float64\n",
       "int_rate                       float64\n",
       "annual_inc                     float64\n",
       "dti                            float64\n",
       "total_rec_late_fee             float64\n",
       "total_acc                      float64\n",
       "manager                          int64\n",
       "refinance                        int64\n",
       "term_ 36 months                  uint8\n",
       "term_ 60 months                  uint8\n",
       "grade_A                          uint8\n",
       "grade_B                          uint8\n",
       "grade_C                          uint8\n",
       "grade_D                          uint8\n",
       "grade_E                          uint8\n",
       "grade_F                          uint8\n",
       "grade_G                          uint8\n",
       "emp_length_1 year                uint8\n",
       "emp_length_10+ years             uint8\n",
       "emp_length_2 years               uint8\n",
       "emp_length_3 years               uint8\n",
       "emp_length_4 years               uint8\n",
       "emp_length_5 years               uint8\n",
       "emp_length_6 years               uint8\n",
       "emp_length_7 years               uint8\n",
       "emp_length_8 years               uint8\n",
       "emp_length_9 years               uint8\n",
       "emp_length_< 1 year              uint8\n",
       "home_ownership_ANY               uint8\n",
       "home_ownership_MORTGAGE          uint8\n",
       "home_ownership_NONE              uint8\n",
       "home_ownership_OTHER             uint8\n",
       "home_ownership_OWN               uint8\n",
       "home_ownership_RENT              uint8\n",
       "application_type_Individual      uint8\n",
       "application_type_Joint App       uint8\n",
       "non_payment                      int64\n",
       "dtype: object"
      ]
     },
     "execution_count": 71,
     "metadata": {},
     "output_type": "execute_result"
    }
   ],
   "source": [
    "loans.dtypes"
   ]
  },
  {
   "cell_type": "code",
   "execution_count": 72,
   "metadata": {},
   "outputs": [
    {
     "data": {
      "text/html": [
       "<div>\n",
       "<style scoped>\n",
       "    .dataframe tbody tr th:only-of-type {\n",
       "        vertical-align: middle;\n",
       "    }\n",
       "\n",
       "    .dataframe tbody tr th {\n",
       "        vertical-align: top;\n",
       "    }\n",
       "\n",
       "    .dataframe thead th {\n",
       "        text-align: right;\n",
       "    }\n",
       "</style>\n",
       "<table border=\"1\" class=\"dataframe\">\n",
       "  <thead>\n",
       "    <tr style=\"text-align: right;\">\n",
       "      <th></th>\n",
       "      <th>funded_amnt_inv</th>\n",
       "      <th>installment</th>\n",
       "      <th>int_rate</th>\n",
       "      <th>annual_inc</th>\n",
       "      <th>dti</th>\n",
       "      <th>total_rec_late_fee</th>\n",
       "      <th>total_acc</th>\n",
       "      <th>manager</th>\n",
       "      <th>refinance</th>\n",
       "      <th>term_ 36 months</th>\n",
       "      <th>...</th>\n",
       "      <th>emp_length_&lt; 1 year</th>\n",
       "      <th>home_ownership_ANY</th>\n",
       "      <th>home_ownership_MORTGAGE</th>\n",
       "      <th>home_ownership_NONE</th>\n",
       "      <th>home_ownership_OTHER</th>\n",
       "      <th>home_ownership_OWN</th>\n",
       "      <th>home_ownership_RENT</th>\n",
       "      <th>application_type_Individual</th>\n",
       "      <th>application_type_Joint App</th>\n",
       "      <th>non_payment</th>\n",
       "    </tr>\n",
       "  </thead>\n",
       "  <tbody>\n",
       "    <tr>\n",
       "      <th>count</th>\n",
       "      <td>99587.000000</td>\n",
       "      <td>99587.000000</td>\n",
       "      <td>99587.000000</td>\n",
       "      <td>9.958700e+04</td>\n",
       "      <td>99587.000000</td>\n",
       "      <td>99587.000000</td>\n",
       "      <td>99587.000000</td>\n",
       "      <td>99587.000000</td>\n",
       "      <td>99587.000000</td>\n",
       "      <td>99587.000000</td>\n",
       "      <td>...</td>\n",
       "      <td>99587.000000</td>\n",
       "      <td>99587.000000</td>\n",
       "      <td>99587.000000</td>\n",
       "      <td>99587.000000</td>\n",
       "      <td>99587.000000</td>\n",
       "      <td>99587.000000</td>\n",
       "      <td>99587.000000</td>\n",
       "      <td>99587.000000</td>\n",
       "      <td>99587.000000</td>\n",
       "      <td>99587.000000</td>\n",
       "    </tr>\n",
       "    <tr>\n",
       "      <th>mean</th>\n",
       "      <td>14149.931486</td>\n",
       "      <td>432.283494</td>\n",
       "      <td>13.406250</td>\n",
       "      <td>7.517759e+04</td>\n",
       "      <td>17.838967</td>\n",
       "      <td>0.951194</td>\n",
       "      <td>25.322753</td>\n",
       "      <td>0.128651</td>\n",
       "      <td>0.752699</td>\n",
       "      <td>0.758884</td>\n",
       "      <td>...</td>\n",
       "      <td>0.083997</td>\n",
       "      <td>0.000120</td>\n",
       "      <td>0.495968</td>\n",
       "      <td>0.000090</td>\n",
       "      <td>0.000221</td>\n",
       "      <td>0.103327</td>\n",
       "      <td>0.400273</td>\n",
       "      <td>0.994357</td>\n",
       "      <td>0.005643</td>\n",
       "      <td>0.204816</td>\n",
       "    </tr>\n",
       "    <tr>\n",
       "      <th>std</th>\n",
       "      <td>8417.699841</td>\n",
       "      <td>251.264015</td>\n",
       "      <td>4.604616</td>\n",
       "      <td>6.462940e+04</td>\n",
       "      <td>9.067025</td>\n",
       "      <td>6.440769</td>\n",
       "      <td>11.972009</td>\n",
       "      <td>0.334815</td>\n",
       "      <td>0.431446</td>\n",
       "      <td>0.427763</td>\n",
       "      <td>...</td>\n",
       "      <td>0.277385</td>\n",
       "      <td>0.010977</td>\n",
       "      <td>0.499986</td>\n",
       "      <td>0.009506</td>\n",
       "      <td>0.014862</td>\n",
       "      <td>0.304387</td>\n",
       "      <td>0.489956</td>\n",
       "      <td>0.074910</td>\n",
       "      <td>0.074910</td>\n",
       "      <td>0.403569</td>\n",
       "    </tr>\n",
       "    <tr>\n",
       "      <th>min</th>\n",
       "      <td>0.000000</td>\n",
       "      <td>16.080000</td>\n",
       "      <td>5.320000</td>\n",
       "      <td>0.000000e+00</td>\n",
       "      <td>0.000000</td>\n",
       "      <td>0.000000</td>\n",
       "      <td>1.000000</td>\n",
       "      <td>0.000000</td>\n",
       "      <td>0.000000</td>\n",
       "      <td>0.000000</td>\n",
       "      <td>...</td>\n",
       "      <td>0.000000</td>\n",
       "      <td>0.000000</td>\n",
       "      <td>0.000000</td>\n",
       "      <td>0.000000</td>\n",
       "      <td>0.000000</td>\n",
       "      <td>0.000000</td>\n",
       "      <td>0.000000</td>\n",
       "      <td>0.000000</td>\n",
       "      <td>0.000000</td>\n",
       "      <td>0.000000</td>\n",
       "    </tr>\n",
       "    <tr>\n",
       "      <th>25%</th>\n",
       "      <td>7850.000000</td>\n",
       "      <td>250.290000</td>\n",
       "      <td>9.990000</td>\n",
       "      <td>4.500000e+04</td>\n",
       "      <td>11.590000</td>\n",
       "      <td>0.000000</td>\n",
       "      <td>17.000000</td>\n",
       "      <td>0.000000</td>\n",
       "      <td>1.000000</td>\n",
       "      <td>1.000000</td>\n",
       "      <td>...</td>\n",
       "      <td>0.000000</td>\n",
       "      <td>0.000000</td>\n",
       "      <td>0.000000</td>\n",
       "      <td>0.000000</td>\n",
       "      <td>0.000000</td>\n",
       "      <td>0.000000</td>\n",
       "      <td>0.000000</td>\n",
       "      <td>1.000000</td>\n",
       "      <td>0.000000</td>\n",
       "      <td>0.000000</td>\n",
       "    </tr>\n",
       "    <tr>\n",
       "      <th>50%</th>\n",
       "      <td>12000.000000</td>\n",
       "      <td>375.140000</td>\n",
       "      <td>12.990000</td>\n",
       "      <td>6.500000e+04</td>\n",
       "      <td>17.280000</td>\n",
       "      <td>0.000000</td>\n",
       "      <td>24.000000</td>\n",
       "      <td>0.000000</td>\n",
       "      <td>1.000000</td>\n",
       "      <td>1.000000</td>\n",
       "      <td>...</td>\n",
       "      <td>0.000000</td>\n",
       "      <td>0.000000</td>\n",
       "      <td>0.000000</td>\n",
       "      <td>0.000000</td>\n",
       "      <td>0.000000</td>\n",
       "      <td>0.000000</td>\n",
       "      <td>0.000000</td>\n",
       "      <td>1.000000</td>\n",
       "      <td>0.000000</td>\n",
       "      <td>0.000000</td>\n",
       "    </tr>\n",
       "    <tr>\n",
       "      <th>75%</th>\n",
       "      <td>19975.000000</td>\n",
       "      <td>568.700000</td>\n",
       "      <td>16.290000</td>\n",
       "      <td>9.000000e+04</td>\n",
       "      <td>23.580000</td>\n",
       "      <td>0.000000</td>\n",
       "      <td>32.000000</td>\n",
       "      <td>0.000000</td>\n",
       "      <td>1.000000</td>\n",
       "      <td>1.000000</td>\n",
       "      <td>...</td>\n",
       "      <td>0.000000</td>\n",
       "      <td>0.000000</td>\n",
       "      <td>1.000000</td>\n",
       "      <td>0.000000</td>\n",
       "      <td>0.000000</td>\n",
       "      <td>0.000000</td>\n",
       "      <td>1.000000</td>\n",
       "      <td>1.000000</td>\n",
       "      <td>0.000000</td>\n",
       "      <td>0.000000</td>\n",
       "    </tr>\n",
       "    <tr>\n",
       "      <th>max</th>\n",
       "      <td>40000.000000</td>\n",
       "      <td>1404.400000</td>\n",
       "      <td>30.990000</td>\n",
       "      <td>8.300000e+06</td>\n",
       "      <td>818.100000</td>\n",
       "      <td>268.550000</td>\n",
       "      <td>162.000000</td>\n",
       "      <td>1.000000</td>\n",
       "      <td>1.000000</td>\n",
       "      <td>1.000000</td>\n",
       "      <td>...</td>\n",
       "      <td>1.000000</td>\n",
       "      <td>1.000000</td>\n",
       "      <td>1.000000</td>\n",
       "      <td>1.000000</td>\n",
       "      <td>1.000000</td>\n",
       "      <td>1.000000</td>\n",
       "      <td>1.000000</td>\n",
       "      <td>1.000000</td>\n",
       "      <td>1.000000</td>\n",
       "      <td>1.000000</td>\n",
       "    </tr>\n",
       "  </tbody>\n",
       "</table>\n",
       "<p>8 rows × 38 columns</p>\n",
       "</div>"
      ],
      "text/plain": [
       "       funded_amnt_inv   installment      int_rate    annual_inc  \\\n",
       "count     99587.000000  99587.000000  99587.000000  9.958700e+04   \n",
       "mean      14149.931486    432.283494     13.406250  7.517759e+04   \n",
       "std        8417.699841    251.264015      4.604616  6.462940e+04   \n",
       "min           0.000000     16.080000      5.320000  0.000000e+00   \n",
       "25%        7850.000000    250.290000      9.990000  4.500000e+04   \n",
       "50%       12000.000000    375.140000     12.990000  6.500000e+04   \n",
       "75%       19975.000000    568.700000     16.290000  9.000000e+04   \n",
       "max       40000.000000   1404.400000     30.990000  8.300000e+06   \n",
       "\n",
       "                dti  total_rec_late_fee     total_acc       manager  \\\n",
       "count  99587.000000        99587.000000  99587.000000  99587.000000   \n",
       "mean      17.838967            0.951194     25.322753      0.128651   \n",
       "std        9.067025            6.440769     11.972009      0.334815   \n",
       "min        0.000000            0.000000      1.000000      0.000000   \n",
       "25%       11.590000            0.000000     17.000000      0.000000   \n",
       "50%       17.280000            0.000000     24.000000      0.000000   \n",
       "75%       23.580000            0.000000     32.000000      0.000000   \n",
       "max      818.100000          268.550000    162.000000      1.000000   \n",
       "\n",
       "          refinance  term_ 36 months      ...       emp_length_< 1 year  \\\n",
       "count  99587.000000     99587.000000      ...              99587.000000   \n",
       "mean       0.752699         0.758884      ...                  0.083997   \n",
       "std        0.431446         0.427763      ...                  0.277385   \n",
       "min        0.000000         0.000000      ...                  0.000000   \n",
       "25%        1.000000         1.000000      ...                  0.000000   \n",
       "50%        1.000000         1.000000      ...                  0.000000   \n",
       "75%        1.000000         1.000000      ...                  0.000000   \n",
       "max        1.000000         1.000000      ...                  1.000000   \n",
       "\n",
       "       home_ownership_ANY  home_ownership_MORTGAGE  home_ownership_NONE  \\\n",
       "count        99587.000000             99587.000000         99587.000000   \n",
       "mean             0.000120                 0.495968             0.000090   \n",
       "std              0.010977                 0.499986             0.009506   \n",
       "min              0.000000                 0.000000             0.000000   \n",
       "25%              0.000000                 0.000000             0.000000   \n",
       "50%              0.000000                 0.000000             0.000000   \n",
       "75%              0.000000                 1.000000             0.000000   \n",
       "max              1.000000                 1.000000             1.000000   \n",
       "\n",
       "       home_ownership_OTHER  home_ownership_OWN  home_ownership_RENT  \\\n",
       "count          99587.000000        99587.000000         99587.000000   \n",
       "mean               0.000221            0.103327             0.400273   \n",
       "std                0.014862            0.304387             0.489956   \n",
       "min                0.000000            0.000000             0.000000   \n",
       "25%                0.000000            0.000000             0.000000   \n",
       "50%                0.000000            0.000000             0.000000   \n",
       "75%                0.000000            0.000000             1.000000   \n",
       "max                1.000000            1.000000             1.000000   \n",
       "\n",
       "       application_type_Individual  application_type_Joint App   non_payment  \n",
       "count                 99587.000000                99587.000000  99587.000000  \n",
       "mean                      0.994357                    0.005643      0.204816  \n",
       "std                       0.074910                    0.074910      0.403569  \n",
       "min                       0.000000                    0.000000      0.000000  \n",
       "25%                       1.000000                    0.000000      0.000000  \n",
       "50%                       1.000000                    0.000000      0.000000  \n",
       "75%                       1.000000                    0.000000      0.000000  \n",
       "max                       1.000000                    1.000000      1.000000  \n",
       "\n",
       "[8 rows x 38 columns]"
      ]
     },
     "execution_count": 72,
     "metadata": {},
     "output_type": "execute_result"
    }
   ],
   "source": [
    "loans.describe()"
   ]
  },
  {
   "cell_type": "code",
   "execution_count": 73,
   "metadata": {},
   "outputs": [],
   "source": [
    "loans.to_csv('../data/loans_sample_processed.csv', sep = \"^\", index = False)"
   ]
  }
 ],
 "metadata": {
  "kernelspec": {
   "display_name": "Python 3",
   "language": "python",
   "name": "python3"
  },
  "language_info": {
   "codemirror_mode": {
    "name": "ipython",
    "version": 3
   },
   "file_extension": ".py",
   "mimetype": "text/x-python",
   "name": "python",
   "nbconvert_exporter": "python",
   "pygments_lexer": "ipython3",
   "version": "3.6.4"
  }
 },
 "nbformat": 4,
 "nbformat_minor": 2
}
