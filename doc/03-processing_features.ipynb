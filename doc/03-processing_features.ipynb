{
 "cells": [
  {
   "cell_type": "markdown",
   "metadata": {},
   "source": [
    "Processing Variables For Modeling\n",
    "=================="
   ]
  },
  {
   "cell_type": "markdown",
   "metadata": {},
   "source": [
    "Libraries"
   ]
  },
  {
   "cell_type": "code",
   "execution_count": 1,
   "metadata": {},
   "outputs": [],
   "source": [
    "# remove warnings\n",
    "import warnings\n",
    "warnings.filterwarnings('ignore')\n",
    "\n",
    "import numpy as np\n",
    "import pandas as pd\n",
    "\n",
    "import matplotlib.pyplot as plt; plt.style.use(\"ggplot\")\n",
    "\n",
    "from collections import Counter"
   ]
  },
  {
   "cell_type": "markdown",
   "metadata": {},
   "source": [
    "Read Data"
   ]
  },
  {
   "cell_type": "code",
   "execution_count": 2,
   "metadata": {},
   "outputs": [],
   "source": [
    "loans = pd.read_csv(\"../data/clean/loans.csv\", sep = \"^\").sample(200000, random_state = 4290)"
   ]
  },
  {
   "cell_type": "code",
   "execution_count": 3,
   "metadata": {},
   "outputs": [
    {
     "data": {
      "text/html": [
       "<div>\n",
       "<style scoped>\n",
       "    .dataframe tbody tr th:only-of-type {\n",
       "        vertical-align: middle;\n",
       "    }\n",
       "\n",
       "    .dataframe tbody tr th {\n",
       "        vertical-align: top;\n",
       "    }\n",
       "\n",
       "    .dataframe thead th {\n",
       "        text-align: right;\n",
       "    }\n",
       "</style>\n",
       "<table border=\"1\" class=\"dataframe\">\n",
       "  <thead>\n",
       "    <tr style=\"text-align: right;\">\n",
       "      <th></th>\n",
       "      <th>funded_amnt_inv</th>\n",
       "      <th>term</th>\n",
       "      <th>issue_d</th>\n",
       "      <th>installment</th>\n",
       "      <th>int_rate</th>\n",
       "      <th>grade</th>\n",
       "      <th>emp_title</th>\n",
       "      <th>emp_length</th>\n",
       "      <th>annual_inc</th>\n",
       "      <th>title</th>\n",
       "      <th>dti</th>\n",
       "      <th>home_ownership</th>\n",
       "      <th>zip_code</th>\n",
       "      <th>addr_state</th>\n",
       "      <th>total_rec_late_fee</th>\n",
       "      <th>application_type</th>\n",
       "      <th>total_acc</th>\n",
       "      <th>loan_status</th>\n",
       "    </tr>\n",
       "  </thead>\n",
       "  <tbody>\n",
       "    <tr>\n",
       "      <th>1496716</th>\n",
       "      <td>14375.0</td>\n",
       "      <td>60 months</td>\n",
       "      <td>Sep-2015</td>\n",
       "      <td>362.31</td>\n",
       "      <td>17.57%</td>\n",
       "      <td>D</td>\n",
       "      <td>Shop foreman</td>\n",
       "      <td>8 years</td>\n",
       "      <td>140000.0</td>\n",
       "      <td>Debt consolidation</td>\n",
       "      <td>26.55</td>\n",
       "      <td>MORTGAGE</td>\n",
       "      <td>306xx</td>\n",
       "      <td>GA</td>\n",
       "      <td>0.0</td>\n",
       "      <td>Individual</td>\n",
       "      <td>39.0</td>\n",
       "      <td>Current</td>\n",
       "    </tr>\n",
       "    <tr>\n",
       "      <th>566100</th>\n",
       "      <td>3000.0</td>\n",
       "      <td>36 months</td>\n",
       "      <td>Jun-2017</td>\n",
       "      <td>105.51</td>\n",
       "      <td>16.02%</td>\n",
       "      <td>C</td>\n",
       "      <td>Respiratory Therapist</td>\n",
       "      <td>6 years</td>\n",
       "      <td>50000.0</td>\n",
       "      <td>Debt consolidation</td>\n",
       "      <td>33.46</td>\n",
       "      <td>MORTGAGE</td>\n",
       "      <td>550xx</td>\n",
       "      <td>MN</td>\n",
       "      <td>0.0</td>\n",
       "      <td>Individual</td>\n",
       "      <td>22.0</td>\n",
       "      <td>Current</td>\n",
       "    </tr>\n",
       "    <tr>\n",
       "      <th>191845</th>\n",
       "      <td>7000.0</td>\n",
       "      <td>36 months</td>\n",
       "      <td>Apr-2016</td>\n",
       "      <td>230.74</td>\n",
       "      <td>11.47%</td>\n",
       "      <td>B</td>\n",
       "      <td>Natural Resource Manager</td>\n",
       "      <td>10+ years</td>\n",
       "      <td>102000.0</td>\n",
       "      <td>Major purchase</td>\n",
       "      <td>5.55</td>\n",
       "      <td>MORTGAGE</td>\n",
       "      <td>389xx</td>\n",
       "      <td>MS</td>\n",
       "      <td>0.0</td>\n",
       "      <td>Individual</td>\n",
       "      <td>47.0</td>\n",
       "      <td>Current</td>\n",
       "    </tr>\n",
       "    <tr>\n",
       "      <th>611191</th>\n",
       "      <td>8800.0</td>\n",
       "      <td>36 months</td>\n",
       "      <td>Apr-2017</td>\n",
       "      <td>276.74</td>\n",
       "      <td>8.24%</td>\n",
       "      <td>B</td>\n",
       "      <td>GIS TECHNICIAN</td>\n",
       "      <td>10+ years</td>\n",
       "      <td>42000.0</td>\n",
       "      <td>Debt consolidation</td>\n",
       "      <td>13.16</td>\n",
       "      <td>MORTGAGE</td>\n",
       "      <td>285xx</td>\n",
       "      <td>NC</td>\n",
       "      <td>0.0</td>\n",
       "      <td>Individual</td>\n",
       "      <td>31.0</td>\n",
       "      <td>Current</td>\n",
       "    </tr>\n",
       "    <tr>\n",
       "      <th>1737593</th>\n",
       "      <td>16475.0</td>\n",
       "      <td>60 months</td>\n",
       "      <td>Jan-2015</td>\n",
       "      <td>430.86</td>\n",
       "      <td>19.24%</td>\n",
       "      <td>E</td>\n",
       "      <td>Sr. Retirement Counselor</td>\n",
       "      <td>8 years</td>\n",
       "      <td>50000.0</td>\n",
       "      <td>Debt consolidation</td>\n",
       "      <td>32.35</td>\n",
       "      <td>MORTGAGE</td>\n",
       "      <td>374xx</td>\n",
       "      <td>TN</td>\n",
       "      <td>0.0</td>\n",
       "      <td>Individual</td>\n",
       "      <td>32.0</td>\n",
       "      <td>Current</td>\n",
       "    </tr>\n",
       "  </tbody>\n",
       "</table>\n",
       "</div>"
      ],
      "text/plain": [
       "         funded_amnt_inv        term   issue_d  installment int_rate grade  \\\n",
       "1496716          14375.0   60 months  Sep-2015       362.31   17.57%     D   \n",
       "566100            3000.0   36 months  Jun-2017       105.51   16.02%     C   \n",
       "191845            7000.0   36 months  Apr-2016       230.74   11.47%     B   \n",
       "611191            8800.0   36 months  Apr-2017       276.74    8.24%     B   \n",
       "1737593          16475.0   60 months  Jan-2015       430.86   19.24%     E   \n",
       "\n",
       "                        emp_title emp_length  annual_inc               title  \\\n",
       "1496716              Shop foreman    8 years    140000.0  Debt consolidation   \n",
       "566100      Respiratory Therapist    6 years     50000.0  Debt consolidation   \n",
       "191845   Natural Resource Manager  10+ years    102000.0      Major purchase   \n",
       "611191             GIS TECHNICIAN  10+ years     42000.0  Debt consolidation   \n",
       "1737593  Sr. Retirement Counselor    8 years     50000.0  Debt consolidation   \n",
       "\n",
       "           dti home_ownership zip_code addr_state  total_rec_late_fee  \\\n",
       "1496716  26.55       MORTGAGE    306xx         GA                 0.0   \n",
       "566100   33.46       MORTGAGE    550xx         MN                 0.0   \n",
       "191845    5.55       MORTGAGE    389xx         MS                 0.0   \n",
       "611191   13.16       MORTGAGE    285xx         NC                 0.0   \n",
       "1737593  32.35       MORTGAGE    374xx         TN                 0.0   \n",
       "\n",
       "        application_type  total_acc loan_status  \n",
       "1496716       Individual       39.0     Current  \n",
       "566100        Individual       22.0     Current  \n",
       "191845        Individual       47.0     Current  \n",
       "611191        Individual       31.0     Current  \n",
       "1737593       Individual       32.0     Current  "
      ]
     },
     "execution_count": 3,
     "metadata": {},
     "output_type": "execute_result"
    }
   ],
   "source": [
    "loans.head()"
   ]
  },
  {
   "cell_type": "markdown",
   "metadata": {},
   "source": [
    "### 01 - Target: Loan Status"
   ]
  },
  {
   "cell_type": "markdown",
   "metadata": {},
   "source": [
    "`loan_status` is the current status of the loan. This is the variable we want to predict in our machine learning model. For this variable, we are going to considerar three labels:\n",
    "- 0: loans that have already been paid.\n",
    "- 1: default or charged off loans.\n",
    "- 2: current loans (rest of the cases), where we don't know if they are going to be paid or not.\n",
    "\n",
    "We will use labels 0 and 1 for training and testing our model. Label 2 is going to use just for predicting."
   ]
  },
  {
   "cell_type": "code",
   "execution_count": 4,
   "metadata": {},
   "outputs": [
    {
     "data": {
      "text/plain": [
       "Current                                                95158\n",
       "Fully Paid                                             79394\n",
       "Charged Off                                            20721\n",
       "Late (31-120 days)                                      2542\n",
       "In Grace Period                                         1354\n",
       "Late (16-30 days)                                        514\n",
       "Does not meet the credit policy. Status:Fully Paid       225\n",
       "Does not meet the credit policy. Status:Charged Off       84\n",
       "Default                                                    8\n",
       "Name: loan_status, dtype: int64"
      ]
     },
     "execution_count": 4,
     "metadata": {},
     "output_type": "execute_result"
    }
   ],
   "source": [
    "loans['loan_status'].value_counts()"
   ]
  },
  {
   "cell_type": "code",
   "execution_count": 5,
   "metadata": {},
   "outputs": [],
   "source": [
    "def process_loan_status(loan_status):\n",
    "    \n",
    "    loan_status_dict = {\n",
    "    \"Current\": 2,\n",
    "    \"Fully Paid\": 0,\n",
    "    \"Charged Off\": 1,\n",
    "    \"Late (31-120 days)\": 2,\n",
    "    \"In Grace Period\": 2,\n",
    "    \"Late (16-30 days)\": 2,\n",
    "    \"Does not meet the credit policy. Status:Fully Paid\": 0,\n",
    "    \"Does not meet the credit policy. Status:Charged Off\": 1,\n",
    "    \"Default\": 1\n",
    "    }\n",
    "    \n",
    "    return loan_status_dict[loan_status]"
   ]
  },
  {
   "cell_type": "code",
   "execution_count": 6,
   "metadata": {},
   "outputs": [],
   "source": [
    "loans['loan_status'] = loans['loan_status'].map(process_loan_status)"
   ]
  },
  {
   "cell_type": "code",
   "execution_count": 7,
   "metadata": {},
   "outputs": [
    {
     "data": {
      "text/plain": [
       "1496716    2\n",
       "566100     2\n",
       "191845     2\n",
       "611191     2\n",
       "1737593    2\n",
       "292947     2\n",
       "1738120    0\n",
       "214732     2\n",
       "1261074    1\n",
       "199096     2\n",
       "Name: loan_status, dtype: int64"
      ]
     },
     "execution_count": 7,
     "metadata": {},
     "output_type": "execute_result"
    }
   ],
   "source": [
    "loans['loan_status'].head(10)"
   ]
  },
  {
   "cell_type": "code",
   "execution_count": 8,
   "metadata": {},
   "outputs": [],
   "source": [
    "loans = loans[loans['loan_status'] < 2]"
   ]
  },
  {
   "cell_type": "code",
   "execution_count": 9,
   "metadata": {},
   "outputs": [
    {
     "data": {
      "text/html": [
       "<div>\n",
       "<style scoped>\n",
       "    .dataframe tbody tr th:only-of-type {\n",
       "        vertical-align: middle;\n",
       "    }\n",
       "\n",
       "    .dataframe tbody tr th {\n",
       "        vertical-align: top;\n",
       "    }\n",
       "\n",
       "    .dataframe thead th {\n",
       "        text-align: right;\n",
       "    }\n",
       "</style>\n",
       "<table border=\"1\" class=\"dataframe\">\n",
       "  <thead>\n",
       "    <tr style=\"text-align: right;\">\n",
       "      <th></th>\n",
       "      <th>funded_amnt_inv</th>\n",
       "      <th>term</th>\n",
       "      <th>issue_d</th>\n",
       "      <th>installment</th>\n",
       "      <th>int_rate</th>\n",
       "      <th>grade</th>\n",
       "      <th>emp_title</th>\n",
       "      <th>emp_length</th>\n",
       "      <th>annual_inc</th>\n",
       "      <th>title</th>\n",
       "      <th>dti</th>\n",
       "      <th>home_ownership</th>\n",
       "      <th>zip_code</th>\n",
       "      <th>addr_state</th>\n",
       "      <th>total_rec_late_fee</th>\n",
       "      <th>application_type</th>\n",
       "      <th>total_acc</th>\n",
       "      <th>loan_status</th>\n",
       "    </tr>\n",
       "  </thead>\n",
       "  <tbody>\n",
       "    <tr>\n",
       "      <th>1738120</th>\n",
       "      <td>25000.0</td>\n",
       "      <td>36 months</td>\n",
       "      <td>Jan-2015</td>\n",
       "      <td>777.55</td>\n",
       "      <td>7.49%</td>\n",
       "      <td>A</td>\n",
       "      <td>Senior Quality Engineer</td>\n",
       "      <td>10+ years</td>\n",
       "      <td>106157.0</td>\n",
       "      <td>Debt consolidation</td>\n",
       "      <td>9.37</td>\n",
       "      <td>MORTGAGE</td>\n",
       "      <td>922xx</td>\n",
       "      <td>CA</td>\n",
       "      <td>0.00</td>\n",
       "      <td>Individual</td>\n",
       "      <td>49.0</td>\n",
       "      <td>0</td>\n",
       "    </tr>\n",
       "    <tr>\n",
       "      <th>1261074</th>\n",
       "      <td>12000.0</td>\n",
       "      <td>36 months</td>\n",
       "      <td>May-2014</td>\n",
       "      <td>404.27</td>\n",
       "      <td>12.99%</td>\n",
       "      <td>C</td>\n",
       "      <td>service manager</td>\n",
       "      <td>7 years</td>\n",
       "      <td>67000.0</td>\n",
       "      <td>Debt consolidation</td>\n",
       "      <td>21.33</td>\n",
       "      <td>MORTGAGE</td>\n",
       "      <td>315xx</td>\n",
       "      <td>GA</td>\n",
       "      <td>0.00</td>\n",
       "      <td>Individual</td>\n",
       "      <td>28.0</td>\n",
       "      <td>1</td>\n",
       "    </tr>\n",
       "    <tr>\n",
       "      <th>985734</th>\n",
       "      <td>4800.0</td>\n",
       "      <td>36 months</td>\n",
       "      <td>Aug-2013</td>\n",
       "      <td>175.59</td>\n",
       "      <td>18.85%</td>\n",
       "      <td>D</td>\n",
       "      <td>LAVO</td>\n",
       "      <td>3 years</td>\n",
       "      <td>56000.0</td>\n",
       "      <td>Consolidate</td>\n",
       "      <td>7.62</td>\n",
       "      <td>RENT</td>\n",
       "      <td>900xx</td>\n",
       "      <td>CA</td>\n",
       "      <td>0.00</td>\n",
       "      <td>Individual</td>\n",
       "      <td>15.0</td>\n",
       "      <td>0</td>\n",
       "    </tr>\n",
       "    <tr>\n",
       "      <th>1167943</th>\n",
       "      <td>7900.0</td>\n",
       "      <td>36 months</td>\n",
       "      <td>Oct-2014</td>\n",
       "      <td>273.82</td>\n",
       "      <td>14.99%</td>\n",
       "      <td>C</td>\n",
       "      <td>security guard</td>\n",
       "      <td>1 year</td>\n",
       "      <td>58300.0</td>\n",
       "      <td>Debt consolidation</td>\n",
       "      <td>12.15</td>\n",
       "      <td>MORTGAGE</td>\n",
       "      <td>775xx</td>\n",
       "      <td>TX</td>\n",
       "      <td>0.00</td>\n",
       "      <td>Individual</td>\n",
       "      <td>17.0</td>\n",
       "      <td>0</td>\n",
       "    </tr>\n",
       "    <tr>\n",
       "      <th>1216290</th>\n",
       "      <td>10725.0</td>\n",
       "      <td>36 months</td>\n",
       "      <td>Jul-2014</td>\n",
       "      <td>385.43</td>\n",
       "      <td>17.57%</td>\n",
       "      <td>D</td>\n",
       "      <td>Teacher</td>\n",
       "      <td>1 year</td>\n",
       "      <td>36000.0</td>\n",
       "      <td>Debt consolidation</td>\n",
       "      <td>21.68</td>\n",
       "      <td>RENT</td>\n",
       "      <td>361xx</td>\n",
       "      <td>AL</td>\n",
       "      <td>19.27</td>\n",
       "      <td>Individual</td>\n",
       "      <td>18.0</td>\n",
       "      <td>0</td>\n",
       "    </tr>\n",
       "  </tbody>\n",
       "</table>\n",
       "</div>"
      ],
      "text/plain": [
       "         funded_amnt_inv        term   issue_d  installment int_rate grade  \\\n",
       "1738120          25000.0   36 months  Jan-2015       777.55    7.49%     A   \n",
       "1261074          12000.0   36 months  May-2014       404.27   12.99%     C   \n",
       "985734            4800.0   36 months  Aug-2013       175.59   18.85%     D   \n",
       "1167943           7900.0   36 months  Oct-2014       273.82   14.99%     C   \n",
       "1216290          10725.0   36 months  Jul-2014       385.43   17.57%     D   \n",
       "\n",
       "                       emp_title emp_length  annual_inc               title  \\\n",
       "1738120  Senior Quality Engineer  10+ years    106157.0  Debt consolidation   \n",
       "1261074          service manager    7 years     67000.0  Debt consolidation   \n",
       "985734                      LAVO    3 years     56000.0         Consolidate   \n",
       "1167943           security guard     1 year     58300.0  Debt consolidation   \n",
       "1216290                  Teacher     1 year     36000.0  Debt consolidation   \n",
       "\n",
       "           dti home_ownership zip_code addr_state  total_rec_late_fee  \\\n",
       "1738120   9.37       MORTGAGE    922xx         CA                0.00   \n",
       "1261074  21.33       MORTGAGE    315xx         GA                0.00   \n",
       "985734    7.62           RENT    900xx         CA                0.00   \n",
       "1167943  12.15       MORTGAGE    775xx         TX                0.00   \n",
       "1216290  21.68           RENT    361xx         AL               19.27   \n",
       "\n",
       "        application_type  total_acc  loan_status  \n",
       "1738120       Individual       49.0            0  \n",
       "1261074       Individual       28.0            1  \n",
       "985734        Individual       15.0            0  \n",
       "1167943       Individual       17.0            0  \n",
       "1216290       Individual       18.0            0  "
      ]
     },
     "execution_count": 9,
     "metadata": {},
     "output_type": "execute_result"
    }
   ],
   "source": [
    "loans.head()"
   ]
  },
  {
   "cell_type": "code",
   "execution_count": 10,
   "metadata": {},
   "outputs": [
    {
     "data": {
      "text/plain": [
       "count    100432.000000\n",
       "mean          0.207235\n",
       "std           0.405327\n",
       "min           0.000000\n",
       "25%           0.000000\n",
       "50%           0.000000\n",
       "75%           0.000000\n",
       "max           1.000000\n",
       "Name: loan_status, dtype: float64"
      ]
     },
     "execution_count": 10,
     "metadata": {},
     "output_type": "execute_result"
    }
   ],
   "source": [
    "loans['loan_status'].describe()"
   ]
  },
  {
   "cell_type": "markdown",
   "metadata": {},
   "source": [
    "__Our prior value of un paid loans is about 20%__ We will keep this value in mind!"
   ]
  },
  {
   "cell_type": "markdown",
   "metadata": {},
   "source": [
    "### 02 - Numeric Variables"
   ]
  },
  {
   "cell_type": "code",
   "execution_count": 11,
   "metadata": {},
   "outputs": [
    {
     "data": {
      "text/plain": [
       "funded_amnt_inv       float64\n",
       "term                   object\n",
       "issue_d                object\n",
       "installment           float64\n",
       "int_rate               object\n",
       "grade                  object\n",
       "emp_title              object\n",
       "emp_length             object\n",
       "annual_inc            float64\n",
       "title                  object\n",
       "dti                   float64\n",
       "home_ownership         object\n",
       "zip_code               object\n",
       "addr_state             object\n",
       "total_rec_late_fee    float64\n",
       "application_type       object\n",
       "total_acc             float64\n",
       "loan_status             int64\n",
       "dtype: object"
      ]
     },
     "execution_count": 11,
     "metadata": {},
     "output_type": "execute_result"
    }
   ],
   "source": [
    "loans.dtypes"
   ]
  },
  {
   "cell_type": "code",
   "execution_count": 12,
   "metadata": {},
   "outputs": [],
   "source": [
    "numerical_variables = [\"funded_amnt_inv\", \"installment\", \"int_rate\", \"annual_inc\", \"dti\",\n",
    "                        \"total_rec_late_fee\", \"total_acc\"]"
   ]
  },
  {
   "cell_type": "code",
   "execution_count": 13,
   "metadata": {},
   "outputs": [
    {
     "data": {
      "text/plain": [
       "funded_amnt_inv       0\n",
       "installment           0\n",
       "int_rate              0\n",
       "annual_inc            0\n",
       "dti                   6\n",
       "total_rec_late_fee    0\n",
       "total_acc             3\n",
       "dtype: int64"
      ]
     },
     "execution_count": 13,
     "metadata": {},
     "output_type": "execute_result"
    }
   ],
   "source": [
    "loans[numerical_variables].isnull().sum()"
   ]
  },
  {
   "cell_type": "markdown",
   "metadata": {},
   "source": [
    "__Interest Rate__"
   ]
  },
  {
   "cell_type": "code",
   "execution_count": 14,
   "metadata": {
    "scrolled": true
   },
   "outputs": [
    {
     "data": {
      "text/plain": [
       "1738120      7.49%\n",
       "1261074     12.99%\n",
       "985734      18.85%\n",
       "1167943     14.99%\n",
       "1216290     17.57%\n",
       "1452944     13.33%\n",
       "5668        18.25%\n",
       "1267926     13.98%\n",
       "1524323     10.99%\n",
       "1390334     28.99%\n",
       "1692298      9.99%\n",
       "465932      14.99%\n",
       "1310447     12.99%\n",
       "1683022     13.99%\n",
       "903463      13.61%\n",
       "987535       9.71%\n",
       "1567289     12.29%\n",
       "1754244     15.59%\n",
       "1312464      7.62%\n",
       "1265474     12.99%\n",
       "932894      14.30%\n",
       "1150752     16.99%\n",
       "938196      12.99%\n",
       "1736743      8.19%\n",
       "1673528     15.61%\n",
       "1215228     12.99%\n",
       "1014811     16.29%\n",
       "1011153     21.98%\n",
       "414345      11.49%\n",
       "931802      19.20%\n",
       "            ...   \n",
       "1150940     17.57%\n",
       "716887      12.62%\n",
       "234551      24.49%\n",
       "1629594     14.65%\n",
       "220706      11.99%\n",
       "1251407     12.99%\n",
       "1294988     14.64%\n",
       "708596      13.59%\n",
       "1027150     15.31%\n",
       "974808      22.70%\n",
       "1684773     19.52%\n",
       "1570475     11.53%\n",
       "1137675     12.39%\n",
       "1529159     12.69%\n",
       "316981      12.79%\n",
       "1265195      7.69%\n",
       "1433435     10.99%\n",
       "1105839     11.71%\n",
       "1646249     14.65%\n",
       "1207384      6.49%\n",
       "251102      10.49%\n",
       "989257       6.03%\n",
       "61912        8.39%\n",
       "1591054      9.17%\n",
       "1332894     14.47%\n",
       "1131241      8.19%\n",
       "482030      12.74%\n",
       "1032160     10.16%\n",
       "300821      13.49%\n",
       "1187841     10.15%\n",
       "Name: int_rate, Length: 100432, dtype: object"
      ]
     },
     "execution_count": 14,
     "metadata": {},
     "output_type": "execute_result"
    }
   ],
   "source": [
    "loans['int_rate']"
   ]
  },
  {
   "cell_type": "code",
   "execution_count": 15,
   "metadata": {},
   "outputs": [],
   "source": [
    "loans['int_rate'] = loans['int_rate'].map(lambda x: float(x[:-1]))"
   ]
  },
  {
   "cell_type": "code",
   "execution_count": 16,
   "metadata": {},
   "outputs": [
    {
     "data": {
      "text/plain": [
       "1738120     7.49\n",
       "1261074    12.99\n",
       "985734     18.85\n",
       "1167943    14.99\n",
       "1216290    17.57\n",
       "Name: int_rate, dtype: float64"
      ]
     },
     "execution_count": 16,
     "metadata": {},
     "output_type": "execute_result"
    }
   ],
   "source": [
    "loans['int_rate'].head()"
   ]
  },
  {
   "cell_type": "code",
   "execution_count": 17,
   "metadata": {},
   "outputs": [
    {
     "data": {
      "text/plain": [
       "funded_amnt_inv       float64\n",
       "term                   object\n",
       "issue_d                object\n",
       "installment           float64\n",
       "int_rate              float64\n",
       "grade                  object\n",
       "emp_title              object\n",
       "emp_length             object\n",
       "annual_inc            float64\n",
       "title                  object\n",
       "dti                   float64\n",
       "home_ownership         object\n",
       "zip_code               object\n",
       "addr_state             object\n",
       "total_rec_late_fee    float64\n",
       "application_type       object\n",
       "total_acc             float64\n",
       "loan_status             int64\n",
       "dtype: object"
      ]
     },
     "execution_count": 17,
     "metadata": {},
     "output_type": "execute_result"
    }
   ],
   "source": [
    "loans.dtypes"
   ]
  },
  {
   "cell_type": "markdown",
   "metadata": {},
   "source": [
    "__Outliers__"
   ]
  },
  {
   "cell_type": "code",
   "execution_count": 18,
   "metadata": {},
   "outputs": [
    {
     "data": {
      "text/html": [
       "<div>\n",
       "<style scoped>\n",
       "    .dataframe tbody tr th:only-of-type {\n",
       "        vertical-align: middle;\n",
       "    }\n",
       "\n",
       "    .dataframe tbody tr th {\n",
       "        vertical-align: top;\n",
       "    }\n",
       "\n",
       "    .dataframe thead th {\n",
       "        text-align: right;\n",
       "    }\n",
       "</style>\n",
       "<table border=\"1\" class=\"dataframe\">\n",
       "  <thead>\n",
       "    <tr style=\"text-align: right;\">\n",
       "      <th></th>\n",
       "      <th>funded_amnt_inv</th>\n",
       "      <th>installment</th>\n",
       "      <th>int_rate</th>\n",
       "      <th>annual_inc</th>\n",
       "      <th>dti</th>\n",
       "      <th>total_rec_late_fee</th>\n",
       "      <th>total_acc</th>\n",
       "    </tr>\n",
       "  </thead>\n",
       "  <tbody>\n",
       "    <tr>\n",
       "      <th>count</th>\n",
       "      <td>100432.000000</td>\n",
       "      <td>100432.000000</td>\n",
       "      <td>100432.000000</td>\n",
       "      <td>1.004320e+05</td>\n",
       "      <td>100426.000000</td>\n",
       "      <td>100432.000000</td>\n",
       "      <td>100429.000000</td>\n",
       "    </tr>\n",
       "    <tr>\n",
       "      <th>mean</th>\n",
       "      <td>14256.926900</td>\n",
       "      <td>436.587013</td>\n",
       "      <td>13.463686</td>\n",
       "      <td>7.539306e+04</td>\n",
       "      <td>17.868144</td>\n",
       "      <td>1.126022</td>\n",
       "      <td>25.390674</td>\n",
       "    </tr>\n",
       "    <tr>\n",
       "      <th>std</th>\n",
       "      <td>8524.613057</td>\n",
       "      <td>257.093076</td>\n",
       "      <td>4.626455</td>\n",
       "      <td>6.223974e+04</td>\n",
       "      <td>9.157764</td>\n",
       "      <td>7.593729</td>\n",
       "      <td>11.968376</td>\n",
       "    </tr>\n",
       "    <tr>\n",
       "      <th>min</th>\n",
       "      <td>0.000000</td>\n",
       "      <td>16.310000</td>\n",
       "      <td>5.320000</td>\n",
       "      <td>0.000000e+00</td>\n",
       "      <td>0.000000</td>\n",
       "      <td>0.000000</td>\n",
       "      <td>1.000000</td>\n",
       "    </tr>\n",
       "    <tr>\n",
       "      <th>25%</th>\n",
       "      <td>7950.000000</td>\n",
       "      <td>251.360000</td>\n",
       "      <td>9.990000</td>\n",
       "      <td>4.564700e+04</td>\n",
       "      <td>11.610000</td>\n",
       "      <td>0.000000</td>\n",
       "      <td>17.000000</td>\n",
       "    </tr>\n",
       "    <tr>\n",
       "      <th>50%</th>\n",
       "      <td>12000.000000</td>\n",
       "      <td>375.990000</td>\n",
       "      <td>12.990000</td>\n",
       "      <td>6.500000e+04</td>\n",
       "      <td>17.330000</td>\n",
       "      <td>0.000000</td>\n",
       "      <td>24.000000</td>\n",
       "    </tr>\n",
       "    <tr>\n",
       "      <th>75%</th>\n",
       "      <td>20000.000000</td>\n",
       "      <td>574.322500</td>\n",
       "      <td>16.290000</td>\n",
       "      <td>9.000000e+04</td>\n",
       "      <td>23.630000</td>\n",
       "      <td>0.000000</td>\n",
       "      <td>32.000000</td>\n",
       "    </tr>\n",
       "    <tr>\n",
       "      <th>max</th>\n",
       "      <td>40000.000000</td>\n",
       "      <td>1584.900000</td>\n",
       "      <td>30.990000</td>\n",
       "      <td>9.550000e+06</td>\n",
       "      <td>999.000000</td>\n",
       "      <td>291.900000</td>\n",
       "      <td>135.000000</td>\n",
       "    </tr>\n",
       "  </tbody>\n",
       "</table>\n",
       "</div>"
      ],
      "text/plain": [
       "       funded_amnt_inv    installment       int_rate    annual_inc  \\\n",
       "count    100432.000000  100432.000000  100432.000000  1.004320e+05   \n",
       "mean      14256.926900     436.587013      13.463686  7.539306e+04   \n",
       "std        8524.613057     257.093076       4.626455  6.223974e+04   \n",
       "min           0.000000      16.310000       5.320000  0.000000e+00   \n",
       "25%        7950.000000     251.360000       9.990000  4.564700e+04   \n",
       "50%       12000.000000     375.990000      12.990000  6.500000e+04   \n",
       "75%       20000.000000     574.322500      16.290000  9.000000e+04   \n",
       "max       40000.000000    1584.900000      30.990000  9.550000e+06   \n",
       "\n",
       "                 dti  total_rec_late_fee      total_acc  \n",
       "count  100426.000000       100432.000000  100429.000000  \n",
       "mean       17.868144            1.126022      25.390674  \n",
       "std         9.157764            7.593729      11.968376  \n",
       "min         0.000000            0.000000       1.000000  \n",
       "25%        11.610000            0.000000      17.000000  \n",
       "50%        17.330000            0.000000      24.000000  \n",
       "75%        23.630000            0.000000      32.000000  \n",
       "max       999.000000          291.900000     135.000000  "
      ]
     },
     "execution_count": 18,
     "metadata": {},
     "output_type": "execute_result"
    }
   ],
   "source": [
    "loans[numerical_variables].describe()"
   ]
  },
  {
   "cell_type": "code",
   "execution_count": 19,
   "metadata": {},
   "outputs": [],
   "source": [
    "def detect_outliers(df,n,features):\n",
    "    \"\"\"\n",
    "    Takes a dataframe df of features and returns a list of the indices\n",
    "    corresponding to the observations containing more than n outliers according\n",
    "    to the Tukey method.\n",
    "    \"\"\"\n",
    "    outlier_indices = []\n",
    "    \n",
    "    # iterate over features(columns)\n",
    "    for col in features:\n",
    "        # 1st quartile (25%)\n",
    "        Q1 = np.percentile(df[col], 25)\n",
    "        # 3rd quartile (75%)\n",
    "        Q3 = np.percentile(df[col],75)\n",
    "        # Interquartile range (IQR)\n",
    "        IQR = Q3 - Q1\n",
    "        \n",
    "        # outlier step\n",
    "        outlier_step = 1.5 * IQR\n",
    "        \n",
    "        # Determine a list of indices of outliers for feature col\n",
    "        outlier_list_col = df[(df[col] < Q1 - outlier_step) | (df[col] > Q3 + outlier_step )].index\n",
    "        \n",
    "        # append the found outlier indices for col to the list of outlier indices \n",
    "        outlier_indices.extend(outlier_list_col)\n",
    "        \n",
    "    # select observations containing more than n outliers\n",
    "    outlier_indices = Counter(outlier_indices)        \n",
    "    multiple_outliers = list( k for k, v in outlier_indices.items() if v > n )\n",
    "    \n",
    "    return multiple_outliers"
   ]
  },
  {
   "cell_type": "code",
   "execution_count": 20,
   "metadata": {},
   "outputs": [
    {
     "name": "stdout",
     "output_type": "stream",
     "text": [
      "There are 1340 outliers from numerical features\n"
     ]
    }
   ],
   "source": [
    "# detect outliers from numerical features \n",
    "outliers_to_drop = detect_outliers(loans,1,numerical_variables)\n",
    "\n",
    "print(\"There are {} outliers from numerical features\".format(len(outliers_to_drop)))"
   ]
  },
  {
   "cell_type": "code",
   "execution_count": 21,
   "metadata": {},
   "outputs": [],
   "source": [
    "loans = loans.drop(outliers_to_drop, axis=0)"
   ]
  },
  {
   "cell_type": "code",
   "execution_count": 22,
   "metadata": {},
   "outputs": [
    {
     "data": {
      "text/plain": [
       "(99092, 18)"
      ]
     },
     "execution_count": 22,
     "metadata": {},
     "output_type": "execute_result"
    }
   ],
   "source": [
    "loans.shape"
   ]
  },
  {
   "cell_type": "code",
   "execution_count": 23,
   "metadata": {},
   "outputs": [
    {
     "data": {
      "text/html": [
       "<div>\n",
       "<style scoped>\n",
       "    .dataframe tbody tr th:only-of-type {\n",
       "        vertical-align: middle;\n",
       "    }\n",
       "\n",
       "    .dataframe tbody tr th {\n",
       "        vertical-align: top;\n",
       "    }\n",
       "\n",
       "    .dataframe thead th {\n",
       "        text-align: right;\n",
       "    }\n",
       "</style>\n",
       "<table border=\"1\" class=\"dataframe\">\n",
       "  <thead>\n",
       "    <tr style=\"text-align: right;\">\n",
       "      <th></th>\n",
       "      <th>funded_amnt_inv</th>\n",
       "      <th>installment</th>\n",
       "      <th>int_rate</th>\n",
       "      <th>annual_inc</th>\n",
       "      <th>dti</th>\n",
       "      <th>total_rec_late_fee</th>\n",
       "      <th>total_acc</th>\n",
       "    </tr>\n",
       "  </thead>\n",
       "  <tbody>\n",
       "    <tr>\n",
       "      <th>count</th>\n",
       "      <td>99092.000000</td>\n",
       "      <td>99092.000000</td>\n",
       "      <td>99092.000000</td>\n",
       "      <td>9.909200e+04</td>\n",
       "      <td>99086.000000</td>\n",
       "      <td>99092.000000</td>\n",
       "      <td>99089.000000</td>\n",
       "    </tr>\n",
       "    <tr>\n",
       "      <th>mean</th>\n",
       "      <td>14007.484940</td>\n",
       "      <td>427.709516</td>\n",
       "      <td>13.428513</td>\n",
       "      <td>7.365486e+04</td>\n",
       "      <td>17.903371</td>\n",
       "      <td>0.926889</td>\n",
       "      <td>25.321489</td>\n",
       "    </tr>\n",
       "    <tr>\n",
       "      <th>std</th>\n",
       "      <td>8267.845456</td>\n",
       "      <td>245.497565</td>\n",
       "      <td>4.588009</td>\n",
       "      <td>5.844000e+04</td>\n",
       "      <td>9.146164</td>\n",
       "      <td>6.328852</td>\n",
       "      <td>11.938413</td>\n",
       "    </tr>\n",
       "    <tr>\n",
       "      <th>min</th>\n",
       "      <td>0.000000</td>\n",
       "      <td>16.310000</td>\n",
       "      <td>5.320000</td>\n",
       "      <td>0.000000e+00</td>\n",
       "      <td>0.000000</td>\n",
       "      <td>0.000000</td>\n",
       "      <td>1.000000</td>\n",
       "    </tr>\n",
       "    <tr>\n",
       "      <th>25%</th>\n",
       "      <td>7800.000000</td>\n",
       "      <td>249.550000</td>\n",
       "      <td>9.990000</td>\n",
       "      <td>4.500000e+04</td>\n",
       "      <td>11.660000</td>\n",
       "      <td>0.000000</td>\n",
       "      <td>17.000000</td>\n",
       "    </tr>\n",
       "    <tr>\n",
       "      <th>50%</th>\n",
       "      <td>12000.000000</td>\n",
       "      <td>372.710000</td>\n",
       "      <td>12.990000</td>\n",
       "      <td>6.432200e+04</td>\n",
       "      <td>17.380000</td>\n",
       "      <td>0.000000</td>\n",
       "      <td>24.000000</td>\n",
       "    </tr>\n",
       "    <tr>\n",
       "      <th>75%</th>\n",
       "      <td>19925.000000</td>\n",
       "      <td>564.180000</td>\n",
       "      <td>16.290000</td>\n",
       "      <td>9.000000e+04</td>\n",
       "      <td>23.670000</td>\n",
       "      <td>0.000000</td>\n",
       "      <td>32.000000</td>\n",
       "    </tr>\n",
       "    <tr>\n",
       "      <th>max</th>\n",
       "      <td>40000.000000</td>\n",
       "      <td>1404.400000</td>\n",
       "      <td>30.990000</td>\n",
       "      <td>9.550000e+06</td>\n",
       "      <td>999.000000</td>\n",
       "      <td>283.980000</td>\n",
       "      <td>135.000000</td>\n",
       "    </tr>\n",
       "  </tbody>\n",
       "</table>\n",
       "</div>"
      ],
      "text/plain": [
       "       funded_amnt_inv   installment      int_rate    annual_inc  \\\n",
       "count     99092.000000  99092.000000  99092.000000  9.909200e+04   \n",
       "mean      14007.484940    427.709516     13.428513  7.365486e+04   \n",
       "std        8267.845456    245.497565      4.588009  5.844000e+04   \n",
       "min           0.000000     16.310000      5.320000  0.000000e+00   \n",
       "25%        7800.000000    249.550000      9.990000  4.500000e+04   \n",
       "50%       12000.000000    372.710000     12.990000  6.432200e+04   \n",
       "75%       19925.000000    564.180000     16.290000  9.000000e+04   \n",
       "max       40000.000000   1404.400000     30.990000  9.550000e+06   \n",
       "\n",
       "                dti  total_rec_late_fee     total_acc  \n",
       "count  99086.000000        99092.000000  99089.000000  \n",
       "mean      17.903371            0.926889     25.321489  \n",
       "std        9.146164            6.328852     11.938413  \n",
       "min        0.000000            0.000000      1.000000  \n",
       "25%       11.660000            0.000000     17.000000  \n",
       "50%       17.380000            0.000000     24.000000  \n",
       "75%       23.670000            0.000000     32.000000  \n",
       "max      999.000000          283.980000    135.000000  "
      ]
     },
     "execution_count": 23,
     "metadata": {},
     "output_type": "execute_result"
    }
   ],
   "source": [
    "loans[numerical_variables].describe()"
   ]
  },
  {
   "cell_type": "markdown",
   "metadata": {},
   "source": [
    "__Dealing NA's__"
   ]
  },
  {
   "cell_type": "code",
   "execution_count": 24,
   "metadata": {},
   "outputs": [
    {
     "data": {
      "text/plain": [
       "funded_amnt_inv       0\n",
       "installment           0\n",
       "int_rate              0\n",
       "annual_inc            0\n",
       "dti                   6\n",
       "total_rec_late_fee    0\n",
       "total_acc             3\n",
       "dtype: int64"
      ]
     },
     "execution_count": 24,
     "metadata": {},
     "output_type": "execute_result"
    }
   ],
   "source": [
    "loans[numerical_variables].isnull().sum()"
   ]
  },
  {
   "cell_type": "code",
   "execution_count": 25,
   "metadata": {},
   "outputs": [
    {
     "data": {
      "text/plain": [
       "funded_amnt_inv       12000.00\n",
       "installment             372.71\n",
       "int_rate                 12.99\n",
       "annual_inc            64322.00\n",
       "dti                      17.38\n",
       "total_rec_late_fee        0.00\n",
       "total_acc                24.00\n",
       "dtype: float64"
      ]
     },
     "execution_count": 25,
     "metadata": {},
     "output_type": "execute_result"
    }
   ],
   "source": [
    "loans[numerical_variables].median()"
   ]
  },
  {
   "cell_type": "code",
   "execution_count": 26,
   "metadata": {},
   "outputs": [],
   "source": [
    "loans[numerical_variables] = loans[numerical_variables].fillna(loans[numerical_variables].median())"
   ]
  },
  {
   "cell_type": "code",
   "execution_count": 27,
   "metadata": {
    "scrolled": true
   },
   "outputs": [
    {
     "data": {
      "text/plain": [
       "funded_amnt_inv       0\n",
       "installment           0\n",
       "int_rate              0\n",
       "annual_inc            0\n",
       "dti                   0\n",
       "total_rec_late_fee    0\n",
       "total_acc             0\n",
       "dtype: int64"
      ]
     },
     "execution_count": 27,
     "metadata": {},
     "output_type": "execute_result"
    }
   ],
   "source": [
    "loans[numerical_variables].isnull().sum()"
   ]
  },
  {
   "cell_type": "markdown",
   "metadata": {},
   "source": [
    "### 03 - Categorical Variables"
   ]
  },
  {
   "cell_type": "code",
   "execution_count": 28,
   "metadata": {},
   "outputs": [],
   "source": [
    "categorical_variables = ['term', 'grade', 'emp_title', 'emp_length', 'title', \n",
    "                         'home_ownership', 'zip_code', 'addr_state', 'application_type']"
   ]
  },
  {
   "cell_type": "code",
   "execution_count": 29,
   "metadata": {},
   "outputs": [
    {
     "name": "stdout",
     "output_type": "stream",
     "text": [
      "term: 2 categories\n",
      "grade: 7 categories\n",
      "emp_title: 47501 categories\n",
      "emp_length: 12 categories\n",
      "title: 9563 categories\n",
      "home_ownership: 6 categories\n",
      "zip_code: 879 categories\n",
      "addr_state: 51 categories\n",
      "application_type: 2 categories\n"
     ]
    }
   ],
   "source": [
    "for variable in categorical_variables:\n",
    "    number_of_categories = loans[variable].unique().size\n",
    "    print(\"{}: {} categories\".format(variable, number_of_categories))"
   ]
  },
  {
   "cell_type": "markdown",
   "metadata": {},
   "source": [
    "Too many categories for `emp_title`, `title`, `zip_code` and `addr_state`. Let's take a look at these three variables:"
   ]
  },
  {
   "cell_type": "markdown",
   "metadata": {},
   "source": [
    "__Employee Title__:"
   ]
  },
  {
   "cell_type": "code",
   "execution_count": 30,
   "metadata": {},
   "outputs": [
    {
     "data": {
      "text/plain": [
       "Teacher             1369\n",
       "Manager             1285\n",
       "Registered Nurse     620\n",
       "Owner                584\n",
       "RN                   566\n",
       "Supervisor           548\n",
       "Sales                499\n",
       "Driver               479\n",
       "Project Manager      454\n",
       "Office Manager       371\n",
       "Name: emp_title, dtype: int64"
      ]
     },
     "execution_count": 30,
     "metadata": {},
     "output_type": "execute_result"
    }
   ],
   "source": [
    "loans['emp_title'].value_counts().head(10)"
   ]
  },
  {
   "cell_type": "markdown",
   "metadata": {},
   "source": [
    "NA's"
   ]
  },
  {
   "cell_type": "code",
   "execution_count": 31,
   "metadata": {},
   "outputs": [
    {
     "data": {
      "text/plain": [
       "6019"
      ]
     },
     "execution_count": 31,
     "metadata": {},
     "output_type": "execute_result"
    }
   ],
   "source": [
    "loans['emp_title'].isnull().sum()"
   ]
  },
  {
   "cell_type": "code",
   "execution_count": 32,
   "metadata": {
    "scrolled": true
   },
   "outputs": [],
   "source": [
    "loans['emp_title'] = loans['emp_title'].fillna(method=\"ffill\")"
   ]
  },
  {
   "cell_type": "code",
   "execution_count": 33,
   "metadata": {},
   "outputs": [
    {
     "data": {
      "text/plain": [
       "0"
      ]
     },
     "execution_count": 33,
     "metadata": {},
     "output_type": "execute_result"
    }
   ],
   "source": [
    "loans['emp_title'].isnull().sum()"
   ]
  },
  {
   "cell_type": "code",
   "execution_count": 34,
   "metadata": {},
   "outputs": [],
   "source": [
    "loans['emp_title'] = loans['emp_title'].str.lower()"
   ]
  },
  {
   "cell_type": "code",
   "execution_count": 35,
   "metadata": {},
   "outputs": [],
   "source": [
    "loans['emp_title'][loans['emp_title'].str.contains('manager')] = 'manager'"
   ]
  },
  {
   "cell_type": "code",
   "execution_count": 36,
   "metadata": {},
   "outputs": [],
   "source": [
    "loans['manager'] = (loans['emp_title'] == 'manager').astype(int)"
   ]
  },
  {
   "cell_type": "code",
   "execution_count": 37,
   "metadata": {},
   "outputs": [],
   "source": [
    "loans = loans.drop('emp_title', axis=1)"
   ]
  },
  {
   "cell_type": "code",
   "execution_count": 38,
   "metadata": {},
   "outputs": [
    {
     "data": {
      "text/plain": [
       "count    99092.000000\n",
       "mean         0.127629\n",
       "std          0.333678\n",
       "min          0.000000\n",
       "25%          0.000000\n",
       "50%          0.000000\n",
       "75%          0.000000\n",
       "max          1.000000\n",
       "Name: manager, dtype: float64"
      ]
     },
     "execution_count": 38,
     "metadata": {},
     "output_type": "execute_result"
    }
   ],
   "source": [
    "loans['manager'].describe()"
   ]
  },
  {
   "cell_type": "markdown",
   "metadata": {},
   "source": [
    "__Purpose__ of the loan:"
   ]
  },
  {
   "cell_type": "code",
   "execution_count": 39,
   "metadata": {},
   "outputs": [
    {
     "data": {
      "text/plain": [
       "Debt consolidation           45800\n",
       "Credit card refinancing      16721\n",
       "Home improvement              4715\n",
       "Other                         4164\n",
       "Debt Consolidation            1716\n",
       "Major purchase                1533\n",
       "Medical expenses               852\n",
       "Business                       740\n",
       "Car financing                  685\n",
       "Consolidation                  613\n",
       "Vacation                       531\n",
       "Moving and relocation          513\n",
       "debt consolidation             489\n",
       "Debt Consolidation Loan        432\n",
       "Home buying                    345\n",
       "Credit Card Consolidation      260\n",
       "Personal Loan                  240\n",
       "consolidation                  222\n",
       "Home Improvement               203\n",
       "Consolidation Loan             199\n",
       "Name: title, dtype: int64"
      ]
     },
     "execution_count": 39,
     "metadata": {},
     "output_type": "execute_result"
    }
   ],
   "source": [
    "loans['title'].value_counts().head(20)"
   ]
  },
  {
   "cell_type": "code",
   "execution_count": 40,
   "metadata": {},
   "outputs": [
    {
     "data": {
      "text/plain": [
       "977"
      ]
     },
     "execution_count": 40,
     "metadata": {},
     "output_type": "execute_result"
    }
   ],
   "source": [
    "loans['title'].isnull().sum()"
   ]
  },
  {
   "cell_type": "code",
   "execution_count": 41,
   "metadata": {},
   "outputs": [],
   "source": [
    "loans['title'] = loans['title'].fillna(method=\"ffill\")"
   ]
  },
  {
   "cell_type": "code",
   "execution_count": 42,
   "metadata": {},
   "outputs": [
    {
     "data": {
      "text/plain": [
       "0"
      ]
     },
     "execution_count": 42,
     "metadata": {},
     "output_type": "execute_result"
    }
   ],
   "source": [
    "loans['title'].isnull().sum()"
   ]
  },
  {
   "cell_type": "code",
   "execution_count": 43,
   "metadata": {},
   "outputs": [],
   "source": [
    "def loan_purpose_renaming():    \n",
    "    title = loans['title'].str.lower()\n",
    "    title[title.str.contains(\"credit card|credit\")] = \"credit card refinancing\"\n",
    "    title[title.str.contains(\"debt|consolidation|consolidate|refinance\")] = \"debt consolidation\"\n",
    "    title[title.str.contains(\"home improvement\")] = \"home improvement\"\n",
    "    title[title.str.contains(\"^home$|home loan\")] = \"home buying\"\n",
    "    title[title.str.contains(\"green\")] = \"green\"\n",
    "    title[title.str.contains(\"wedding\")] = \"wedding\"\n",
    "    title[title.str.contains(\"medical\")] = \"medical\"\n",
    "    title[title.str.contains(\"personal|my loan|^loan$|lending club\")] = \"personal\"\n",
    "    title[title.str.contains(\"business\")] = \"business\"\n",
    "    title[title.str.contains(\"pay(| )off\")] = \"payoff\"\n",
    "    title[title.str.contains(\"car loan|car financing\")] = \"car\"\n",
    "    \n",
    "    return title"
   ]
  },
  {
   "cell_type": "code",
   "execution_count": 44,
   "metadata": {},
   "outputs": [],
   "source": [
    "loans['title'] = loan_purpose_renaming()"
   ]
  },
  {
   "cell_type": "code",
   "execution_count": 45,
   "metadata": {
    "scrolled": true
   },
   "outputs": [
    {
     "data": {
      "text/plain": [
       "debt consolidation                          54415\n",
       "credit card refinancing                     20337\n",
       "home improvement                             5249\n",
       "other                                        4217\n",
       "major purchase                               1575\n",
       "personal                                     1168\n",
       "medical                                      1024\n",
       "business                                     1005\n",
       "car                                           784\n",
       "payoff                                        741\n",
       "vacation                                      566\n",
       "moving and relocation                         519\n",
       "home buying                                   426\n",
       "wedding                                       273\n",
       "freedom                                       138\n",
       "green                                          60\n",
       "bills                                          59\n",
       "loan 1                                         43\n",
       "cc loan                                        40\n",
       "pool loan                                      34\n",
       "moving                                         33\n",
       "major purchase loan                            30\n",
       "pool                                           28\n",
       "help                                           28\n",
       "cc refi                                        27\n",
       "new start                                      27\n",
       "refi                                           26\n",
       "relief                                         26\n",
       "other loan                                     25\n",
       "moving loan                                    25\n",
       "                                            ...  \n",
       "kitchen program                                 1\n",
       "anne's loan                                     1\n",
       "work equipment                                  1\n",
       "first financial                                 1\n",
       "less interest loan                              1\n",
       "out                                             1\n",
       "china                                           1\n",
       "heaven's truck                                  1\n",
       "home repairs / legal costs                      1\n",
       "upgrade bathroom                                1\n",
       "harworking skilled welder                       1\n",
       "trial loan                                      1\n",
       "my financial accomplishment                     1\n",
       "working special events                          1\n",
       "purchased a house at looking to improve         1\n",
       "apt renovation loan                             1\n",
       "chase payback                                   1\n",
       "fixing my mistakes                              1\n",
       "property                                        1\n",
       "climbing out of my hole                         1\n",
       "party supply store                              1\n",
       "more reasonable rates ii                        1\n",
       "cut up the cards                                1\n",
       "synergy                                         1\n",
       "smart money                                     1\n",
       "help me get rid of high interest rates!!        1\n",
       "polaris atv                                     1\n",
       "philippines vacation after 7 yrs in us          1\n",
       "newknee                                         1\n",
       "life event celebration                          1\n",
       "Name: title, Length: 4561, dtype: int64"
      ]
     },
     "execution_count": 45,
     "metadata": {},
     "output_type": "execute_result"
    }
   ],
   "source": [
    "loans['title'].value_counts()"
   ]
  },
  {
   "cell_type": "code",
   "execution_count": 46,
   "metadata": {},
   "outputs": [],
   "source": [
    "loans['refinance'] = ((loans['title'] == 'credit card refinancing') | \\\n",
    "                     (loans['title'] == 'debt consolidation')).astype(int)"
   ]
  },
  {
   "cell_type": "code",
   "execution_count": 47,
   "metadata": {},
   "outputs": [],
   "source": [
    "loans = loans.drop('title', axis = 1)"
   ]
  },
  {
   "cell_type": "code",
   "execution_count": 48,
   "metadata": {},
   "outputs": [
    {
     "data": {
      "text/plain": [
       "count    99092.000000\n",
       "mean         0.754370\n",
       "std          0.430462\n",
       "min          0.000000\n",
       "25%          1.000000\n",
       "50%          1.000000\n",
       "75%          1.000000\n",
       "max          1.000000\n",
       "Name: refinance, dtype: float64"
      ]
     },
     "execution_count": 48,
     "metadata": {},
     "output_type": "execute_result"
    }
   ],
   "source": [
    "loans['refinance'].describe()"
   ]
  },
  {
   "cell_type": "markdown",
   "metadata": {},
   "source": [
    "__zip_code__:"
   ]
  },
  {
   "cell_type": "code",
   "execution_count": 49,
   "metadata": {},
   "outputs": [
    {
     "data": {
      "text/plain": [
       "count     99092\n",
       "unique      879\n",
       "top       945xx\n",
       "freq       1142\n",
       "Name: zip_code, dtype: object"
      ]
     },
     "execution_count": 49,
     "metadata": {},
     "output_type": "execute_result"
    }
   ],
   "source": [
    "loans['zip_code'].describe()"
   ]
  },
  {
   "cell_type": "code",
   "execution_count": 50,
   "metadata": {
    "scrolled": true
   },
   "outputs": [
    {
     "data": {
      "text/plain": [
       "945xx    1142\n",
       "750xx    1048\n",
       "112xx    1016\n",
       "606xx     878\n",
       "070xx     846\n",
       "Name: zip_code, dtype: int64"
      ]
     },
     "execution_count": 50,
     "metadata": {},
     "output_type": "execute_result"
    }
   ],
   "source": [
    "loans['zip_code'].value_counts().head()"
   ]
  },
  {
   "cell_type": "code",
   "execution_count": 51,
   "metadata": {},
   "outputs": [],
   "source": [
    "loans = loans.drop('zip_code', axis=1)"
   ]
  },
  {
   "cell_type": "markdown",
   "metadata": {},
   "source": [
    "__addr_state__:"
   ]
  },
  {
   "cell_type": "code",
   "execution_count": 52,
   "metadata": {},
   "outputs": [
    {
     "data": {
      "text/plain": [
       "count     99092\n",
       "unique       51\n",
       "top          CA\n",
       "freq      15025\n",
       "Name: addr_state, dtype: object"
      ]
     },
     "execution_count": 52,
     "metadata": {},
     "output_type": "execute_result"
    }
   ],
   "source": [
    "loans['addr_state'].describe()"
   ]
  },
  {
   "cell_type": "code",
   "execution_count": 53,
   "metadata": {},
   "outputs": [
    {
     "data": {
      "text/plain": [
       "CA    15025\n",
       "NY     8119\n",
       "TX     7991\n",
       "FL     6942\n",
       "IL     3697\n",
       "Name: addr_state, dtype: int64"
      ]
     },
     "execution_count": 53,
     "metadata": {},
     "output_type": "execute_result"
    }
   ],
   "source": [
    "loans['addr_state'].value_counts().head()"
   ]
  },
  {
   "cell_type": "code",
   "execution_count": 54,
   "metadata": {},
   "outputs": [],
   "source": [
    "loans = loans.drop('addr_state', axis = 1)"
   ]
  },
  {
   "cell_type": "code",
   "execution_count": 55,
   "metadata": {},
   "outputs": [],
   "source": [
    "categorical_variables = ['term', 'grade', 'emp_length', 'home_ownership', 'application_type']"
   ]
  },
  {
   "cell_type": "code",
   "execution_count": 56,
   "metadata": {},
   "outputs": [
    {
     "data": {
      "text/html": [
       "<div>\n",
       "<style scoped>\n",
       "    .dataframe tbody tr th:only-of-type {\n",
       "        vertical-align: middle;\n",
       "    }\n",
       "\n",
       "    .dataframe tbody tr th {\n",
       "        vertical-align: top;\n",
       "    }\n",
       "\n",
       "    .dataframe thead th {\n",
       "        text-align: right;\n",
       "    }\n",
       "</style>\n",
       "<table border=\"1\" class=\"dataframe\">\n",
       "  <thead>\n",
       "    <tr style=\"text-align: right;\">\n",
       "      <th></th>\n",
       "      <th>term</th>\n",
       "      <th>grade</th>\n",
       "      <th>emp_length</th>\n",
       "      <th>home_ownership</th>\n",
       "      <th>application_type</th>\n",
       "    </tr>\n",
       "  </thead>\n",
       "  <tbody>\n",
       "    <tr>\n",
       "      <th>count</th>\n",
       "      <td>99092</td>\n",
       "      <td>99092</td>\n",
       "      <td>93810</td>\n",
       "      <td>99092</td>\n",
       "      <td>99092</td>\n",
       "    </tr>\n",
       "    <tr>\n",
       "      <th>unique</th>\n",
       "      <td>2</td>\n",
       "      <td>7</td>\n",
       "      <td>11</td>\n",
       "      <td>6</td>\n",
       "      <td>2</td>\n",
       "    </tr>\n",
       "    <tr>\n",
       "      <th>top</th>\n",
       "      <td>36 months</td>\n",
       "      <td>B</td>\n",
       "      <td>10+ years</td>\n",
       "      <td>MORTGAGE</td>\n",
       "      <td>Individual</td>\n",
       "    </tr>\n",
       "    <tr>\n",
       "      <th>freq</th>\n",
       "      <td>75128</td>\n",
       "      <td>28461</td>\n",
       "      <td>32340</td>\n",
       "      <td>49219</td>\n",
       "      <td>98532</td>\n",
       "    </tr>\n",
       "  </tbody>\n",
       "</table>\n",
       "</div>"
      ],
      "text/plain": [
       "              term  grade emp_length home_ownership application_type\n",
       "count        99092  99092      93810          99092            99092\n",
       "unique           2      7         11              6                2\n",
       "top      36 months      B  10+ years       MORTGAGE       Individual\n",
       "freq         75128  28461      32340          49219            98532"
      ]
     },
     "execution_count": 56,
     "metadata": {},
     "output_type": "execute_result"
    }
   ],
   "source": [
    "loans[categorical_variables].describe()"
   ]
  },
  {
   "cell_type": "markdown",
   "metadata": {},
   "source": [
    "__issue_d__"
   ]
  },
  {
   "cell_type": "markdown",
   "metadata": {},
   "source": [
    "We have just one date variable, `issue_d`. We are only interested in the year of the loan and we will consider it as categorical variable:"
   ]
  },
  {
   "cell_type": "code",
   "execution_count": 57,
   "metadata": {},
   "outputs": [],
   "source": [
    "loans['issue_d'] = loans['issue_d'].map(lambda x: x[4:])"
   ]
  },
  {
   "cell_type": "code",
   "execution_count": 58,
   "metadata": {},
   "outputs": [
    {
     "data": {
      "text/plain": [
       "count     99092\n",
       "unique       11\n",
       "top        2015\n",
       "freq      27631\n",
       "Name: issue_d, dtype: object"
      ]
     },
     "execution_count": 58,
     "metadata": {},
     "output_type": "execute_result"
    }
   ],
   "source": [
    "loans['issue_d'].describe()"
   ]
  },
  {
   "cell_type": "code",
   "execution_count": 59,
   "metadata": {},
   "outputs": [],
   "source": [
    "loans = loans.drop('issue_d', axis = 1)"
   ]
  },
  {
   "cell_type": "code",
   "execution_count": 60,
   "metadata": {},
   "outputs": [
    {
     "data": {
      "text/html": [
       "<div>\n",
       "<style scoped>\n",
       "    .dataframe tbody tr th:only-of-type {\n",
       "        vertical-align: middle;\n",
       "    }\n",
       "\n",
       "    .dataframe tbody tr th {\n",
       "        vertical-align: top;\n",
       "    }\n",
       "\n",
       "    .dataframe thead th {\n",
       "        text-align: right;\n",
       "    }\n",
       "</style>\n",
       "<table border=\"1\" class=\"dataframe\">\n",
       "  <thead>\n",
       "    <tr style=\"text-align: right;\">\n",
       "      <th></th>\n",
       "      <th>funded_amnt_inv</th>\n",
       "      <th>term</th>\n",
       "      <th>installment</th>\n",
       "      <th>int_rate</th>\n",
       "      <th>grade</th>\n",
       "      <th>emp_length</th>\n",
       "      <th>annual_inc</th>\n",
       "      <th>dti</th>\n",
       "      <th>home_ownership</th>\n",
       "      <th>total_rec_late_fee</th>\n",
       "      <th>application_type</th>\n",
       "      <th>total_acc</th>\n",
       "      <th>loan_status</th>\n",
       "      <th>manager</th>\n",
       "      <th>refinance</th>\n",
       "    </tr>\n",
       "  </thead>\n",
       "  <tbody>\n",
       "    <tr>\n",
       "      <th>1738120</th>\n",
       "      <td>25000.0</td>\n",
       "      <td>36 months</td>\n",
       "      <td>777.55</td>\n",
       "      <td>7.49</td>\n",
       "      <td>A</td>\n",
       "      <td>10+ years</td>\n",
       "      <td>106157.0</td>\n",
       "      <td>9.37</td>\n",
       "      <td>MORTGAGE</td>\n",
       "      <td>0.00</td>\n",
       "      <td>Individual</td>\n",
       "      <td>49.0</td>\n",
       "      <td>0</td>\n",
       "      <td>0</td>\n",
       "      <td>1</td>\n",
       "    </tr>\n",
       "    <tr>\n",
       "      <th>1261074</th>\n",
       "      <td>12000.0</td>\n",
       "      <td>36 months</td>\n",
       "      <td>404.27</td>\n",
       "      <td>12.99</td>\n",
       "      <td>C</td>\n",
       "      <td>7 years</td>\n",
       "      <td>67000.0</td>\n",
       "      <td>21.33</td>\n",
       "      <td>MORTGAGE</td>\n",
       "      <td>0.00</td>\n",
       "      <td>Individual</td>\n",
       "      <td>28.0</td>\n",
       "      <td>1</td>\n",
       "      <td>1</td>\n",
       "      <td>1</td>\n",
       "    </tr>\n",
       "    <tr>\n",
       "      <th>985734</th>\n",
       "      <td>4800.0</td>\n",
       "      <td>36 months</td>\n",
       "      <td>175.59</td>\n",
       "      <td>18.85</td>\n",
       "      <td>D</td>\n",
       "      <td>3 years</td>\n",
       "      <td>56000.0</td>\n",
       "      <td>7.62</td>\n",
       "      <td>RENT</td>\n",
       "      <td>0.00</td>\n",
       "      <td>Individual</td>\n",
       "      <td>15.0</td>\n",
       "      <td>0</td>\n",
       "      <td>0</td>\n",
       "      <td>1</td>\n",
       "    </tr>\n",
       "    <tr>\n",
       "      <th>1167943</th>\n",
       "      <td>7900.0</td>\n",
       "      <td>36 months</td>\n",
       "      <td>273.82</td>\n",
       "      <td>14.99</td>\n",
       "      <td>C</td>\n",
       "      <td>1 year</td>\n",
       "      <td>58300.0</td>\n",
       "      <td>12.15</td>\n",
       "      <td>MORTGAGE</td>\n",
       "      <td>0.00</td>\n",
       "      <td>Individual</td>\n",
       "      <td>17.0</td>\n",
       "      <td>0</td>\n",
       "      <td>0</td>\n",
       "      <td>1</td>\n",
       "    </tr>\n",
       "    <tr>\n",
       "      <th>1216290</th>\n",
       "      <td>10725.0</td>\n",
       "      <td>36 months</td>\n",
       "      <td>385.43</td>\n",
       "      <td>17.57</td>\n",
       "      <td>D</td>\n",
       "      <td>1 year</td>\n",
       "      <td>36000.0</td>\n",
       "      <td>21.68</td>\n",
       "      <td>RENT</td>\n",
       "      <td>19.27</td>\n",
       "      <td>Individual</td>\n",
       "      <td>18.0</td>\n",
       "      <td>0</td>\n",
       "      <td>0</td>\n",
       "      <td>1</td>\n",
       "    </tr>\n",
       "  </tbody>\n",
       "</table>\n",
       "</div>"
      ],
      "text/plain": [
       "         funded_amnt_inv        term  installment  int_rate grade emp_length  \\\n",
       "1738120          25000.0   36 months       777.55      7.49     A  10+ years   \n",
       "1261074          12000.0   36 months       404.27     12.99     C    7 years   \n",
       "985734            4800.0   36 months       175.59     18.85     D    3 years   \n",
       "1167943           7900.0   36 months       273.82     14.99     C     1 year   \n",
       "1216290          10725.0   36 months       385.43     17.57     D     1 year   \n",
       "\n",
       "         annual_inc    dti home_ownership  total_rec_late_fee  \\\n",
       "1738120    106157.0   9.37       MORTGAGE                0.00   \n",
       "1261074     67000.0  21.33       MORTGAGE                0.00   \n",
       "985734      56000.0   7.62           RENT                0.00   \n",
       "1167943     58300.0  12.15       MORTGAGE                0.00   \n",
       "1216290     36000.0  21.68           RENT               19.27   \n",
       "\n",
       "        application_type  total_acc  loan_status  manager  refinance  \n",
       "1738120       Individual       49.0            0        0          1  \n",
       "1261074       Individual       28.0            1        1          1  \n",
       "985734        Individual       15.0            0        0          1  \n",
       "1167943       Individual       17.0            0        0          1  \n",
       "1216290       Individual       18.0            0        0          1  "
      ]
     },
     "execution_count": 60,
     "metadata": {},
     "output_type": "execute_result"
    }
   ],
   "source": [
    "loans.head()"
   ]
  },
  {
   "cell_type": "code",
   "execution_count": 61,
   "metadata": {},
   "outputs": [
    {
     "data": {
      "text/plain": [
       "(99092, 15)"
      ]
     },
     "execution_count": 61,
     "metadata": {},
     "output_type": "execute_result"
    }
   ],
   "source": [
    "loans.shape"
   ]
  },
  {
   "cell_type": "code",
   "execution_count": 62,
   "metadata": {},
   "outputs": [
    {
     "data": {
      "text/plain": [
       "funded_amnt_inv          0\n",
       "term                     0\n",
       "installment              0\n",
       "int_rate                 0\n",
       "grade                    0\n",
       "emp_length            5282\n",
       "annual_inc               0\n",
       "dti                      0\n",
       "home_ownership           0\n",
       "total_rec_late_fee       0\n",
       "application_type         0\n",
       "total_acc                0\n",
       "loan_status              0\n",
       "manager                  0\n",
       "refinance                0\n",
       "dtype: int64"
      ]
     },
     "execution_count": 62,
     "metadata": {},
     "output_type": "execute_result"
    }
   ],
   "source": [
    "loans.isnull().sum()"
   ]
  },
  {
   "cell_type": "code",
   "execution_count": 63,
   "metadata": {},
   "outputs": [],
   "source": [
    "loans = loans.fillna(method = 'ffill')"
   ]
  },
  {
   "cell_type": "code",
   "execution_count": 64,
   "metadata": {},
   "outputs": [
    {
     "data": {
      "text/plain": [
       "funded_amnt_inv       0\n",
       "term                  0\n",
       "installment           0\n",
       "int_rate              0\n",
       "grade                 0\n",
       "emp_length            0\n",
       "annual_inc            0\n",
       "dti                   0\n",
       "home_ownership        0\n",
       "total_rec_late_fee    0\n",
       "application_type      0\n",
       "total_acc             0\n",
       "loan_status           0\n",
       "manager               0\n",
       "refinance             0\n",
       "dtype: int64"
      ]
     },
     "execution_count": 64,
     "metadata": {},
     "output_type": "execute_result"
    }
   ],
   "source": [
    "loans.isnull().sum()"
   ]
  },
  {
   "cell_type": "code",
   "execution_count": 65,
   "metadata": {},
   "outputs": [],
   "source": [
    "loans = pd.get_dummies(loans, columns = categorical_variables)"
   ]
  },
  {
   "cell_type": "markdown",
   "metadata": {},
   "source": [
    "### 04 - Final Data "
   ]
  },
  {
   "cell_type": "code",
   "execution_count": 66,
   "metadata": {},
   "outputs": [
    {
     "data": {
      "text/html": [
       "<div>\n",
       "<style scoped>\n",
       "    .dataframe tbody tr th:only-of-type {\n",
       "        vertical-align: middle;\n",
       "    }\n",
       "\n",
       "    .dataframe tbody tr th {\n",
       "        vertical-align: top;\n",
       "    }\n",
       "\n",
       "    .dataframe thead th {\n",
       "        text-align: right;\n",
       "    }\n",
       "</style>\n",
       "<table border=\"1\" class=\"dataframe\">\n",
       "  <thead>\n",
       "    <tr style=\"text-align: right;\">\n",
       "      <th></th>\n",
       "      <th>funded_amnt_inv</th>\n",
       "      <th>installment</th>\n",
       "      <th>int_rate</th>\n",
       "      <th>annual_inc</th>\n",
       "      <th>dti</th>\n",
       "      <th>total_rec_late_fee</th>\n",
       "      <th>total_acc</th>\n",
       "      <th>loan_status</th>\n",
       "      <th>manager</th>\n",
       "      <th>refinance</th>\n",
       "      <th>...</th>\n",
       "      <th>emp_length_9 years</th>\n",
       "      <th>emp_length_&lt; 1 year</th>\n",
       "      <th>home_ownership_ANY</th>\n",
       "      <th>home_ownership_MORTGAGE</th>\n",
       "      <th>home_ownership_NONE</th>\n",
       "      <th>home_ownership_OTHER</th>\n",
       "      <th>home_ownership_OWN</th>\n",
       "      <th>home_ownership_RENT</th>\n",
       "      <th>application_type_Individual</th>\n",
       "      <th>application_type_Joint App</th>\n",
       "    </tr>\n",
       "  </thead>\n",
       "  <tbody>\n",
       "    <tr>\n",
       "      <th>1738120</th>\n",
       "      <td>25000.0</td>\n",
       "      <td>777.55</td>\n",
       "      <td>7.49</td>\n",
       "      <td>106157.0</td>\n",
       "      <td>9.37</td>\n",
       "      <td>0.00</td>\n",
       "      <td>49.0</td>\n",
       "      <td>0</td>\n",
       "      <td>0</td>\n",
       "      <td>1</td>\n",
       "      <td>...</td>\n",
       "      <td>0</td>\n",
       "      <td>0</td>\n",
       "      <td>0</td>\n",
       "      <td>1</td>\n",
       "      <td>0</td>\n",
       "      <td>0</td>\n",
       "      <td>0</td>\n",
       "      <td>0</td>\n",
       "      <td>1</td>\n",
       "      <td>0</td>\n",
       "    </tr>\n",
       "    <tr>\n",
       "      <th>1261074</th>\n",
       "      <td>12000.0</td>\n",
       "      <td>404.27</td>\n",
       "      <td>12.99</td>\n",
       "      <td>67000.0</td>\n",
       "      <td>21.33</td>\n",
       "      <td>0.00</td>\n",
       "      <td>28.0</td>\n",
       "      <td>1</td>\n",
       "      <td>1</td>\n",
       "      <td>1</td>\n",
       "      <td>...</td>\n",
       "      <td>0</td>\n",
       "      <td>0</td>\n",
       "      <td>0</td>\n",
       "      <td>1</td>\n",
       "      <td>0</td>\n",
       "      <td>0</td>\n",
       "      <td>0</td>\n",
       "      <td>0</td>\n",
       "      <td>1</td>\n",
       "      <td>0</td>\n",
       "    </tr>\n",
       "    <tr>\n",
       "      <th>985734</th>\n",
       "      <td>4800.0</td>\n",
       "      <td>175.59</td>\n",
       "      <td>18.85</td>\n",
       "      <td>56000.0</td>\n",
       "      <td>7.62</td>\n",
       "      <td>0.00</td>\n",
       "      <td>15.0</td>\n",
       "      <td>0</td>\n",
       "      <td>0</td>\n",
       "      <td>1</td>\n",
       "      <td>...</td>\n",
       "      <td>0</td>\n",
       "      <td>0</td>\n",
       "      <td>0</td>\n",
       "      <td>0</td>\n",
       "      <td>0</td>\n",
       "      <td>0</td>\n",
       "      <td>0</td>\n",
       "      <td>1</td>\n",
       "      <td>1</td>\n",
       "      <td>0</td>\n",
       "    </tr>\n",
       "    <tr>\n",
       "      <th>1167943</th>\n",
       "      <td>7900.0</td>\n",
       "      <td>273.82</td>\n",
       "      <td>14.99</td>\n",
       "      <td>58300.0</td>\n",
       "      <td>12.15</td>\n",
       "      <td>0.00</td>\n",
       "      <td>17.0</td>\n",
       "      <td>0</td>\n",
       "      <td>0</td>\n",
       "      <td>1</td>\n",
       "      <td>...</td>\n",
       "      <td>0</td>\n",
       "      <td>0</td>\n",
       "      <td>0</td>\n",
       "      <td>1</td>\n",
       "      <td>0</td>\n",
       "      <td>0</td>\n",
       "      <td>0</td>\n",
       "      <td>0</td>\n",
       "      <td>1</td>\n",
       "      <td>0</td>\n",
       "    </tr>\n",
       "    <tr>\n",
       "      <th>1216290</th>\n",
       "      <td>10725.0</td>\n",
       "      <td>385.43</td>\n",
       "      <td>17.57</td>\n",
       "      <td>36000.0</td>\n",
       "      <td>21.68</td>\n",
       "      <td>19.27</td>\n",
       "      <td>18.0</td>\n",
       "      <td>0</td>\n",
       "      <td>0</td>\n",
       "      <td>1</td>\n",
       "      <td>...</td>\n",
       "      <td>0</td>\n",
       "      <td>0</td>\n",
       "      <td>0</td>\n",
       "      <td>0</td>\n",
       "      <td>0</td>\n",
       "      <td>0</td>\n",
       "      <td>0</td>\n",
       "      <td>1</td>\n",
       "      <td>1</td>\n",
       "      <td>0</td>\n",
       "    </tr>\n",
       "  </tbody>\n",
       "</table>\n",
       "<p>5 rows × 38 columns</p>\n",
       "</div>"
      ],
      "text/plain": [
       "         funded_amnt_inv  installment  int_rate  annual_inc    dti  \\\n",
       "1738120          25000.0       777.55      7.49    106157.0   9.37   \n",
       "1261074          12000.0       404.27     12.99     67000.0  21.33   \n",
       "985734            4800.0       175.59     18.85     56000.0   7.62   \n",
       "1167943           7900.0       273.82     14.99     58300.0  12.15   \n",
       "1216290          10725.0       385.43     17.57     36000.0  21.68   \n",
       "\n",
       "         total_rec_late_fee  total_acc  loan_status  manager  refinance  \\\n",
       "1738120                0.00       49.0            0        0          1   \n",
       "1261074                0.00       28.0            1        1          1   \n",
       "985734                 0.00       15.0            0        0          1   \n",
       "1167943                0.00       17.0            0        0          1   \n",
       "1216290               19.27       18.0            0        0          1   \n",
       "\n",
       "                    ...              emp_length_9 years  emp_length_< 1 year  \\\n",
       "1738120             ...                               0                    0   \n",
       "1261074             ...                               0                    0   \n",
       "985734              ...                               0                    0   \n",
       "1167943             ...                               0                    0   \n",
       "1216290             ...                               0                    0   \n",
       "\n",
       "         home_ownership_ANY  home_ownership_MORTGAGE  home_ownership_NONE  \\\n",
       "1738120                   0                        1                    0   \n",
       "1261074                   0                        1                    0   \n",
       "985734                    0                        0                    0   \n",
       "1167943                   0                        1                    0   \n",
       "1216290                   0                        0                    0   \n",
       "\n",
       "         home_ownership_OTHER  home_ownership_OWN  home_ownership_RENT  \\\n",
       "1738120                     0                   0                    0   \n",
       "1261074                     0                   0                    0   \n",
       "985734                      0                   0                    1   \n",
       "1167943                     0                   0                    0   \n",
       "1216290                     0                   0                    1   \n",
       "\n",
       "         application_type_Individual  application_type_Joint App  \n",
       "1738120                            1                           0  \n",
       "1261074                            1                           0  \n",
       "985734                             1                           0  \n",
       "1167943                            1                           0  \n",
       "1216290                            1                           0  \n",
       "\n",
       "[5 rows x 38 columns]"
      ]
     },
     "execution_count": 66,
     "metadata": {},
     "output_type": "execute_result"
    }
   ],
   "source": [
    "loans.head()"
   ]
  },
  {
   "cell_type": "code",
   "execution_count": 67,
   "metadata": {},
   "outputs": [],
   "source": [
    "loans['non_payment'] = loans['loan_status']"
   ]
  },
  {
   "cell_type": "code",
   "execution_count": 68,
   "metadata": {},
   "outputs": [],
   "source": [
    "loans = loans.drop('loan_status', axis = 1)"
   ]
  },
  {
   "cell_type": "code",
   "execution_count": 69,
   "metadata": {},
   "outputs": [
    {
     "data": {
      "text/html": [
       "<div>\n",
       "<style scoped>\n",
       "    .dataframe tbody tr th:only-of-type {\n",
       "        vertical-align: middle;\n",
       "    }\n",
       "\n",
       "    .dataframe tbody tr th {\n",
       "        vertical-align: top;\n",
       "    }\n",
       "\n",
       "    .dataframe thead th {\n",
       "        text-align: right;\n",
       "    }\n",
       "</style>\n",
       "<table border=\"1\" class=\"dataframe\">\n",
       "  <thead>\n",
       "    <tr style=\"text-align: right;\">\n",
       "      <th></th>\n",
       "      <th>funded_amnt_inv</th>\n",
       "      <th>installment</th>\n",
       "      <th>int_rate</th>\n",
       "      <th>annual_inc</th>\n",
       "      <th>dti</th>\n",
       "      <th>total_rec_late_fee</th>\n",
       "      <th>total_acc</th>\n",
       "      <th>manager</th>\n",
       "      <th>refinance</th>\n",
       "      <th>term_ 36 months</th>\n",
       "      <th>...</th>\n",
       "      <th>emp_length_&lt; 1 year</th>\n",
       "      <th>home_ownership_ANY</th>\n",
       "      <th>home_ownership_MORTGAGE</th>\n",
       "      <th>home_ownership_NONE</th>\n",
       "      <th>home_ownership_OTHER</th>\n",
       "      <th>home_ownership_OWN</th>\n",
       "      <th>home_ownership_RENT</th>\n",
       "      <th>application_type_Individual</th>\n",
       "      <th>application_type_Joint App</th>\n",
       "      <th>non_payment</th>\n",
       "    </tr>\n",
       "  </thead>\n",
       "  <tbody>\n",
       "    <tr>\n",
       "      <th>1738120</th>\n",
       "      <td>25000.0</td>\n",
       "      <td>777.55</td>\n",
       "      <td>7.49</td>\n",
       "      <td>106157.0</td>\n",
       "      <td>9.37</td>\n",
       "      <td>0.00</td>\n",
       "      <td>49.0</td>\n",
       "      <td>0</td>\n",
       "      <td>1</td>\n",
       "      <td>1</td>\n",
       "      <td>...</td>\n",
       "      <td>0</td>\n",
       "      <td>0</td>\n",
       "      <td>1</td>\n",
       "      <td>0</td>\n",
       "      <td>0</td>\n",
       "      <td>0</td>\n",
       "      <td>0</td>\n",
       "      <td>1</td>\n",
       "      <td>0</td>\n",
       "      <td>0</td>\n",
       "    </tr>\n",
       "    <tr>\n",
       "      <th>1261074</th>\n",
       "      <td>12000.0</td>\n",
       "      <td>404.27</td>\n",
       "      <td>12.99</td>\n",
       "      <td>67000.0</td>\n",
       "      <td>21.33</td>\n",
       "      <td>0.00</td>\n",
       "      <td>28.0</td>\n",
       "      <td>1</td>\n",
       "      <td>1</td>\n",
       "      <td>1</td>\n",
       "      <td>...</td>\n",
       "      <td>0</td>\n",
       "      <td>0</td>\n",
       "      <td>1</td>\n",
       "      <td>0</td>\n",
       "      <td>0</td>\n",
       "      <td>0</td>\n",
       "      <td>0</td>\n",
       "      <td>1</td>\n",
       "      <td>0</td>\n",
       "      <td>1</td>\n",
       "    </tr>\n",
       "    <tr>\n",
       "      <th>985734</th>\n",
       "      <td>4800.0</td>\n",
       "      <td>175.59</td>\n",
       "      <td>18.85</td>\n",
       "      <td>56000.0</td>\n",
       "      <td>7.62</td>\n",
       "      <td>0.00</td>\n",
       "      <td>15.0</td>\n",
       "      <td>0</td>\n",
       "      <td>1</td>\n",
       "      <td>1</td>\n",
       "      <td>...</td>\n",
       "      <td>0</td>\n",
       "      <td>0</td>\n",
       "      <td>0</td>\n",
       "      <td>0</td>\n",
       "      <td>0</td>\n",
       "      <td>0</td>\n",
       "      <td>1</td>\n",
       "      <td>1</td>\n",
       "      <td>0</td>\n",
       "      <td>0</td>\n",
       "    </tr>\n",
       "    <tr>\n",
       "      <th>1167943</th>\n",
       "      <td>7900.0</td>\n",
       "      <td>273.82</td>\n",
       "      <td>14.99</td>\n",
       "      <td>58300.0</td>\n",
       "      <td>12.15</td>\n",
       "      <td>0.00</td>\n",
       "      <td>17.0</td>\n",
       "      <td>0</td>\n",
       "      <td>1</td>\n",
       "      <td>1</td>\n",
       "      <td>...</td>\n",
       "      <td>0</td>\n",
       "      <td>0</td>\n",
       "      <td>1</td>\n",
       "      <td>0</td>\n",
       "      <td>0</td>\n",
       "      <td>0</td>\n",
       "      <td>0</td>\n",
       "      <td>1</td>\n",
       "      <td>0</td>\n",
       "      <td>0</td>\n",
       "    </tr>\n",
       "    <tr>\n",
       "      <th>1216290</th>\n",
       "      <td>10725.0</td>\n",
       "      <td>385.43</td>\n",
       "      <td>17.57</td>\n",
       "      <td>36000.0</td>\n",
       "      <td>21.68</td>\n",
       "      <td>19.27</td>\n",
       "      <td>18.0</td>\n",
       "      <td>0</td>\n",
       "      <td>1</td>\n",
       "      <td>1</td>\n",
       "      <td>...</td>\n",
       "      <td>0</td>\n",
       "      <td>0</td>\n",
       "      <td>0</td>\n",
       "      <td>0</td>\n",
       "      <td>0</td>\n",
       "      <td>0</td>\n",
       "      <td>1</td>\n",
       "      <td>1</td>\n",
       "      <td>0</td>\n",
       "      <td>0</td>\n",
       "    </tr>\n",
       "  </tbody>\n",
       "</table>\n",
       "<p>5 rows × 38 columns</p>\n",
       "</div>"
      ],
      "text/plain": [
       "         funded_amnt_inv  installment  int_rate  annual_inc    dti  \\\n",
       "1738120          25000.0       777.55      7.49    106157.0   9.37   \n",
       "1261074          12000.0       404.27     12.99     67000.0  21.33   \n",
       "985734            4800.0       175.59     18.85     56000.0   7.62   \n",
       "1167943           7900.0       273.82     14.99     58300.0  12.15   \n",
       "1216290          10725.0       385.43     17.57     36000.0  21.68   \n",
       "\n",
       "         total_rec_late_fee  total_acc  manager  refinance  term_ 36 months  \\\n",
       "1738120                0.00       49.0        0          1                1   \n",
       "1261074                0.00       28.0        1          1                1   \n",
       "985734                 0.00       15.0        0          1                1   \n",
       "1167943                0.00       17.0        0          1                1   \n",
       "1216290               19.27       18.0        0          1                1   \n",
       "\n",
       "            ...       emp_length_< 1 year  home_ownership_ANY  \\\n",
       "1738120     ...                         0                   0   \n",
       "1261074     ...                         0                   0   \n",
       "985734      ...                         0                   0   \n",
       "1167943     ...                         0                   0   \n",
       "1216290     ...                         0                   0   \n",
       "\n",
       "         home_ownership_MORTGAGE  home_ownership_NONE  home_ownership_OTHER  \\\n",
       "1738120                        1                    0                     0   \n",
       "1261074                        1                    0                     0   \n",
       "985734                         0                    0                     0   \n",
       "1167943                        1                    0                     0   \n",
       "1216290                        0                    0                     0   \n",
       "\n",
       "         home_ownership_OWN  home_ownership_RENT  application_type_Individual  \\\n",
       "1738120                   0                    0                            1   \n",
       "1261074                   0                    0                            1   \n",
       "985734                    0                    1                            1   \n",
       "1167943                   0                    0                            1   \n",
       "1216290                   0                    1                            1   \n",
       "\n",
       "         application_type_Joint App  non_payment  \n",
       "1738120                           0            0  \n",
       "1261074                           0            1  \n",
       "985734                            0            0  \n",
       "1167943                           0            0  \n",
       "1216290                           0            0  \n",
       "\n",
       "[5 rows x 38 columns]"
      ]
     },
     "execution_count": 69,
     "metadata": {},
     "output_type": "execute_result"
    }
   ],
   "source": [
    "loans.head()"
   ]
  },
  {
   "cell_type": "code",
   "execution_count": 70,
   "metadata": {},
   "outputs": [
    {
     "data": {
      "text/plain": [
       "(99092, 38)"
      ]
     },
     "execution_count": 70,
     "metadata": {},
     "output_type": "execute_result"
    }
   ],
   "source": [
    "loans.shape"
   ]
  },
  {
   "cell_type": "code",
   "execution_count": 71,
   "metadata": {},
   "outputs": [
    {
     "data": {
      "text/plain": [
       "funded_amnt_inv                float64\n",
       "installment                    float64\n",
       "int_rate                       float64\n",
       "annual_inc                     float64\n",
       "dti                            float64\n",
       "total_rec_late_fee             float64\n",
       "total_acc                      float64\n",
       "manager                          int64\n",
       "refinance                        int64\n",
       "term_ 36 months                  uint8\n",
       "term_ 60 months                  uint8\n",
       "grade_A                          uint8\n",
       "grade_B                          uint8\n",
       "grade_C                          uint8\n",
       "grade_D                          uint8\n",
       "grade_E                          uint8\n",
       "grade_F                          uint8\n",
       "grade_G                          uint8\n",
       "emp_length_1 year                uint8\n",
       "emp_length_10+ years             uint8\n",
       "emp_length_2 years               uint8\n",
       "emp_length_3 years               uint8\n",
       "emp_length_4 years               uint8\n",
       "emp_length_5 years               uint8\n",
       "emp_length_6 years               uint8\n",
       "emp_length_7 years               uint8\n",
       "emp_length_8 years               uint8\n",
       "emp_length_9 years               uint8\n",
       "emp_length_< 1 year              uint8\n",
       "home_ownership_ANY               uint8\n",
       "home_ownership_MORTGAGE          uint8\n",
       "home_ownership_NONE              uint8\n",
       "home_ownership_OTHER             uint8\n",
       "home_ownership_OWN               uint8\n",
       "home_ownership_RENT              uint8\n",
       "application_type_Individual      uint8\n",
       "application_type_Joint App       uint8\n",
       "non_payment                      int64\n",
       "dtype: object"
      ]
     },
     "execution_count": 71,
     "metadata": {},
     "output_type": "execute_result"
    }
   ],
   "source": [
    "loans.dtypes"
   ]
  },
  {
   "cell_type": "code",
   "execution_count": 72,
   "metadata": {},
   "outputs": [
    {
     "data": {
      "text/html": [
       "<div>\n",
       "<style scoped>\n",
       "    .dataframe tbody tr th:only-of-type {\n",
       "        vertical-align: middle;\n",
       "    }\n",
       "\n",
       "    .dataframe tbody tr th {\n",
       "        vertical-align: top;\n",
       "    }\n",
       "\n",
       "    .dataframe thead th {\n",
       "        text-align: right;\n",
       "    }\n",
       "</style>\n",
       "<table border=\"1\" class=\"dataframe\">\n",
       "  <thead>\n",
       "    <tr style=\"text-align: right;\">\n",
       "      <th></th>\n",
       "      <th>funded_amnt_inv</th>\n",
       "      <th>installment</th>\n",
       "      <th>int_rate</th>\n",
       "      <th>annual_inc</th>\n",
       "      <th>dti</th>\n",
       "      <th>total_rec_late_fee</th>\n",
       "      <th>total_acc</th>\n",
       "      <th>manager</th>\n",
       "      <th>refinance</th>\n",
       "      <th>term_ 36 months</th>\n",
       "      <th>...</th>\n",
       "      <th>emp_length_&lt; 1 year</th>\n",
       "      <th>home_ownership_ANY</th>\n",
       "      <th>home_ownership_MORTGAGE</th>\n",
       "      <th>home_ownership_NONE</th>\n",
       "      <th>home_ownership_OTHER</th>\n",
       "      <th>home_ownership_OWN</th>\n",
       "      <th>home_ownership_RENT</th>\n",
       "      <th>application_type_Individual</th>\n",
       "      <th>application_type_Joint App</th>\n",
       "      <th>non_payment</th>\n",
       "    </tr>\n",
       "  </thead>\n",
       "  <tbody>\n",
       "    <tr>\n",
       "      <th>count</th>\n",
       "      <td>99092.000000</td>\n",
       "      <td>99092.000000</td>\n",
       "      <td>99092.000000</td>\n",
       "      <td>9.909200e+04</td>\n",
       "      <td>99092.000000</td>\n",
       "      <td>99092.000000</td>\n",
       "      <td>99092.000000</td>\n",
       "      <td>99092.000000</td>\n",
       "      <td>99092.000000</td>\n",
       "      <td>99092.000000</td>\n",
       "      <td>...</td>\n",
       "      <td>99092.000000</td>\n",
       "      <td>99092.000000</td>\n",
       "      <td>99092.000000</td>\n",
       "      <td>99092.000000</td>\n",
       "      <td>99092.000000</td>\n",
       "      <td>99092.000000</td>\n",
       "      <td>99092.000000</td>\n",
       "      <td>99092.000000</td>\n",
       "      <td>99092.000000</td>\n",
       "      <td>99092.000000</td>\n",
       "    </tr>\n",
       "    <tr>\n",
       "      <th>mean</th>\n",
       "      <td>14007.484940</td>\n",
       "      <td>427.709516</td>\n",
       "      <td>13.428513</td>\n",
       "      <td>7.365486e+04</td>\n",
       "      <td>17.903339</td>\n",
       "      <td>0.926889</td>\n",
       "      <td>25.321449</td>\n",
       "      <td>0.127629</td>\n",
       "      <td>0.754370</td>\n",
       "      <td>0.758164</td>\n",
       "      <td>...</td>\n",
       "      <td>0.085315</td>\n",
       "      <td>0.000161</td>\n",
       "      <td>0.496700</td>\n",
       "      <td>0.000071</td>\n",
       "      <td>0.000222</td>\n",
       "      <td>0.102824</td>\n",
       "      <td>0.400022</td>\n",
       "      <td>0.994349</td>\n",
       "      <td>0.005651</td>\n",
       "      <td>0.205980</td>\n",
       "    </tr>\n",
       "    <tr>\n",
       "      <th>std</th>\n",
       "      <td>8267.845456</td>\n",
       "      <td>245.497565</td>\n",
       "      <td>4.588009</td>\n",
       "      <td>5.844000e+04</td>\n",
       "      <td>9.145888</td>\n",
       "      <td>6.328852</td>\n",
       "      <td>11.938234</td>\n",
       "      <td>0.333678</td>\n",
       "      <td>0.430462</td>\n",
       "      <td>0.428198</td>\n",
       "      <td>...</td>\n",
       "      <td>0.279351</td>\n",
       "      <td>0.012706</td>\n",
       "      <td>0.499992</td>\n",
       "      <td>0.008405</td>\n",
       "      <td>0.014899</td>\n",
       "      <td>0.303730</td>\n",
       "      <td>0.489905</td>\n",
       "      <td>0.074963</td>\n",
       "      <td>0.074963</td>\n",
       "      <td>0.404418</td>\n",
       "    </tr>\n",
       "    <tr>\n",
       "      <th>min</th>\n",
       "      <td>0.000000</td>\n",
       "      <td>16.310000</td>\n",
       "      <td>5.320000</td>\n",
       "      <td>0.000000e+00</td>\n",
       "      <td>0.000000</td>\n",
       "      <td>0.000000</td>\n",
       "      <td>1.000000</td>\n",
       "      <td>0.000000</td>\n",
       "      <td>0.000000</td>\n",
       "      <td>0.000000</td>\n",
       "      <td>...</td>\n",
       "      <td>0.000000</td>\n",
       "      <td>0.000000</td>\n",
       "      <td>0.000000</td>\n",
       "      <td>0.000000</td>\n",
       "      <td>0.000000</td>\n",
       "      <td>0.000000</td>\n",
       "      <td>0.000000</td>\n",
       "      <td>0.000000</td>\n",
       "      <td>0.000000</td>\n",
       "      <td>0.000000</td>\n",
       "    </tr>\n",
       "    <tr>\n",
       "      <th>25%</th>\n",
       "      <td>7800.000000</td>\n",
       "      <td>249.550000</td>\n",
       "      <td>9.990000</td>\n",
       "      <td>4.500000e+04</td>\n",
       "      <td>11.660000</td>\n",
       "      <td>0.000000</td>\n",
       "      <td>17.000000</td>\n",
       "      <td>0.000000</td>\n",
       "      <td>1.000000</td>\n",
       "      <td>1.000000</td>\n",
       "      <td>...</td>\n",
       "      <td>0.000000</td>\n",
       "      <td>0.000000</td>\n",
       "      <td>0.000000</td>\n",
       "      <td>0.000000</td>\n",
       "      <td>0.000000</td>\n",
       "      <td>0.000000</td>\n",
       "      <td>0.000000</td>\n",
       "      <td>1.000000</td>\n",
       "      <td>0.000000</td>\n",
       "      <td>0.000000</td>\n",
       "    </tr>\n",
       "    <tr>\n",
       "      <th>50%</th>\n",
       "      <td>12000.000000</td>\n",
       "      <td>372.710000</td>\n",
       "      <td>12.990000</td>\n",
       "      <td>6.432200e+04</td>\n",
       "      <td>17.380000</td>\n",
       "      <td>0.000000</td>\n",
       "      <td>24.000000</td>\n",
       "      <td>0.000000</td>\n",
       "      <td>1.000000</td>\n",
       "      <td>1.000000</td>\n",
       "      <td>...</td>\n",
       "      <td>0.000000</td>\n",
       "      <td>0.000000</td>\n",
       "      <td>0.000000</td>\n",
       "      <td>0.000000</td>\n",
       "      <td>0.000000</td>\n",
       "      <td>0.000000</td>\n",
       "      <td>0.000000</td>\n",
       "      <td>1.000000</td>\n",
       "      <td>0.000000</td>\n",
       "      <td>0.000000</td>\n",
       "    </tr>\n",
       "    <tr>\n",
       "      <th>75%</th>\n",
       "      <td>19925.000000</td>\n",
       "      <td>564.180000</td>\n",
       "      <td>16.290000</td>\n",
       "      <td>9.000000e+04</td>\n",
       "      <td>23.670000</td>\n",
       "      <td>0.000000</td>\n",
       "      <td>32.000000</td>\n",
       "      <td>0.000000</td>\n",
       "      <td>1.000000</td>\n",
       "      <td>1.000000</td>\n",
       "      <td>...</td>\n",
       "      <td>0.000000</td>\n",
       "      <td>0.000000</td>\n",
       "      <td>1.000000</td>\n",
       "      <td>0.000000</td>\n",
       "      <td>0.000000</td>\n",
       "      <td>0.000000</td>\n",
       "      <td>1.000000</td>\n",
       "      <td>1.000000</td>\n",
       "      <td>0.000000</td>\n",
       "      <td>0.000000</td>\n",
       "    </tr>\n",
       "    <tr>\n",
       "      <th>max</th>\n",
       "      <td>40000.000000</td>\n",
       "      <td>1404.400000</td>\n",
       "      <td>30.990000</td>\n",
       "      <td>9.550000e+06</td>\n",
       "      <td>999.000000</td>\n",
       "      <td>283.980000</td>\n",
       "      <td>135.000000</td>\n",
       "      <td>1.000000</td>\n",
       "      <td>1.000000</td>\n",
       "      <td>1.000000</td>\n",
       "      <td>...</td>\n",
       "      <td>1.000000</td>\n",
       "      <td>1.000000</td>\n",
       "      <td>1.000000</td>\n",
       "      <td>1.000000</td>\n",
       "      <td>1.000000</td>\n",
       "      <td>1.000000</td>\n",
       "      <td>1.000000</td>\n",
       "      <td>1.000000</td>\n",
       "      <td>1.000000</td>\n",
       "      <td>1.000000</td>\n",
       "    </tr>\n",
       "  </tbody>\n",
       "</table>\n",
       "<p>8 rows × 38 columns</p>\n",
       "</div>"
      ],
      "text/plain": [
       "       funded_amnt_inv   installment      int_rate    annual_inc  \\\n",
       "count     99092.000000  99092.000000  99092.000000  9.909200e+04   \n",
       "mean      14007.484940    427.709516     13.428513  7.365486e+04   \n",
       "std        8267.845456    245.497565      4.588009  5.844000e+04   \n",
       "min           0.000000     16.310000      5.320000  0.000000e+00   \n",
       "25%        7800.000000    249.550000      9.990000  4.500000e+04   \n",
       "50%       12000.000000    372.710000     12.990000  6.432200e+04   \n",
       "75%       19925.000000    564.180000     16.290000  9.000000e+04   \n",
       "max       40000.000000   1404.400000     30.990000  9.550000e+06   \n",
       "\n",
       "                dti  total_rec_late_fee     total_acc       manager  \\\n",
       "count  99092.000000        99092.000000  99092.000000  99092.000000   \n",
       "mean      17.903339            0.926889     25.321449      0.127629   \n",
       "std        9.145888            6.328852     11.938234      0.333678   \n",
       "min        0.000000            0.000000      1.000000      0.000000   \n",
       "25%       11.660000            0.000000     17.000000      0.000000   \n",
       "50%       17.380000            0.000000     24.000000      0.000000   \n",
       "75%       23.670000            0.000000     32.000000      0.000000   \n",
       "max      999.000000          283.980000    135.000000      1.000000   \n",
       "\n",
       "          refinance  term_ 36 months      ...       emp_length_< 1 year  \\\n",
       "count  99092.000000     99092.000000      ...              99092.000000   \n",
       "mean       0.754370         0.758164      ...                  0.085315   \n",
       "std        0.430462         0.428198      ...                  0.279351   \n",
       "min        0.000000         0.000000      ...                  0.000000   \n",
       "25%        1.000000         1.000000      ...                  0.000000   \n",
       "50%        1.000000         1.000000      ...                  0.000000   \n",
       "75%        1.000000         1.000000      ...                  0.000000   \n",
       "max        1.000000         1.000000      ...                  1.000000   \n",
       "\n",
       "       home_ownership_ANY  home_ownership_MORTGAGE  home_ownership_NONE  \\\n",
       "count        99092.000000             99092.000000         99092.000000   \n",
       "mean             0.000161                 0.496700             0.000071   \n",
       "std              0.012706                 0.499992             0.008405   \n",
       "min              0.000000                 0.000000             0.000000   \n",
       "25%              0.000000                 0.000000             0.000000   \n",
       "50%              0.000000                 0.000000             0.000000   \n",
       "75%              0.000000                 1.000000             0.000000   \n",
       "max              1.000000                 1.000000             1.000000   \n",
       "\n",
       "       home_ownership_OTHER  home_ownership_OWN  home_ownership_RENT  \\\n",
       "count          99092.000000        99092.000000         99092.000000   \n",
       "mean               0.000222            0.102824             0.400022   \n",
       "std                0.014899            0.303730             0.489905   \n",
       "min                0.000000            0.000000             0.000000   \n",
       "25%                0.000000            0.000000             0.000000   \n",
       "50%                0.000000            0.000000             0.000000   \n",
       "75%                0.000000            0.000000             1.000000   \n",
       "max                1.000000            1.000000             1.000000   \n",
       "\n",
       "       application_type_Individual  application_type_Joint App   non_payment  \n",
       "count                 99092.000000                99092.000000  99092.000000  \n",
       "mean                      0.994349                    0.005651      0.205980  \n",
       "std                       0.074963                    0.074963      0.404418  \n",
       "min                       0.000000                    0.000000      0.000000  \n",
       "25%                       1.000000                    0.000000      0.000000  \n",
       "50%                       1.000000                    0.000000      0.000000  \n",
       "75%                       1.000000                    0.000000      0.000000  \n",
       "max                       1.000000                    1.000000      1.000000  \n",
       "\n",
       "[8 rows x 38 columns]"
      ]
     },
     "execution_count": 72,
     "metadata": {},
     "output_type": "execute_result"
    }
   ],
   "source": [
    "loans.describe()"
   ]
  },
  {
   "cell_type": "code",
   "execution_count": 73,
   "metadata": {},
   "outputs": [],
   "source": [
    "loans.to_csv('../data/loans_sample_processed.csv', sep = \"^\", index = False)"
   ]
  }
 ],
 "metadata": {
  "kernelspec": {
   "display_name": "Python 3",
   "language": "python",
   "name": "python3"
  },
  "language_info": {
   "codemirror_mode": {
    "name": "ipython",
    "version": 3
   },
   "file_extension": ".py",
   "mimetype": "text/x-python",
   "name": "python",
   "nbconvert_exporter": "python",
   "pygments_lexer": "ipython3",
   "version": "3.6.4"
  }
 },
 "nbformat": 4,
 "nbformat_minor": 2
}
