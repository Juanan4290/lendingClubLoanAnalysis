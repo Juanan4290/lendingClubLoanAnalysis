{
 "cells": [
  {
   "cell_type": "markdown",
   "metadata": {},
   "source": [
    "Processing Variables For Modeling\n",
    "=================="
   ]
  },
  {
   "cell_type": "markdown",
   "metadata": {},
   "source": [
    "Libraries"
   ]
  },
  {
   "cell_type": "code",
   "execution_count": 1,
   "metadata": {},
   "outputs": [],
   "source": [
    "# remove warnings\n",
    "import warnings\n",
    "warnings.filterwarnings('ignore')\n",
    "\n",
    "import numpy as np\n",
    "import pandas as pd\n",
    "\n",
    "import matplotlib.pyplot as plt; plt.style.use(\"ggplot\")\n",
    "\n",
    "from collections import Counter"
   ]
  },
  {
   "cell_type": "markdown",
   "metadata": {},
   "source": [
    "Read Data"
   ]
  },
  {
   "cell_type": "code",
   "execution_count": 2,
   "metadata": {},
   "outputs": [],
   "source": [
    "loans = pd.read_csv(\"../data/clean/loans.csv\", sep = \"^\")"
   ]
  },
  {
   "cell_type": "code",
   "execution_count": 3,
   "metadata": {},
   "outputs": [
    {
     "data": {
      "text/html": [
       "<div>\n",
       "<style scoped>\n",
       "    .dataframe tbody tr th:only-of-type {\n",
       "        vertical-align: middle;\n",
       "    }\n",
       "\n",
       "    .dataframe tbody tr th {\n",
       "        vertical-align: top;\n",
       "    }\n",
       "\n",
       "    .dataframe thead th {\n",
       "        text-align: right;\n",
       "    }\n",
       "</style>\n",
       "<table border=\"1\" class=\"dataframe\">\n",
       "  <thead>\n",
       "    <tr style=\"text-align: right;\">\n",
       "      <th></th>\n",
       "      <th>funded_amnt_inv</th>\n",
       "      <th>term</th>\n",
       "      <th>issue_d</th>\n",
       "      <th>installment</th>\n",
       "      <th>int_rate</th>\n",
       "      <th>grade</th>\n",
       "      <th>emp_title</th>\n",
       "      <th>emp_length</th>\n",
       "      <th>annual_inc</th>\n",
       "      <th>title</th>\n",
       "      <th>dti</th>\n",
       "      <th>home_ownership</th>\n",
       "      <th>zip_code</th>\n",
       "      <th>addr_state</th>\n",
       "      <th>total_rec_late_fee</th>\n",
       "      <th>application_type</th>\n",
       "      <th>total_acc</th>\n",
       "      <th>loan_status</th>\n",
       "    </tr>\n",
       "  </thead>\n",
       "  <tbody>\n",
       "    <tr>\n",
       "      <th>0</th>\n",
       "      <td>10000.0</td>\n",
       "      <td>60 months</td>\n",
       "      <td>Mar-2016</td>\n",
       "      <td>262.34</td>\n",
       "      <td>19.53%</td>\n",
       "      <td>D</td>\n",
       "      <td>lpn/charge nurse</td>\n",
       "      <td>4 years</td>\n",
       "      <td>52000.0</td>\n",
       "      <td>Other</td>\n",
       "      <td>15.00</td>\n",
       "      <td>OWN</td>\n",
       "      <td>317xx</td>\n",
       "      <td>GA</td>\n",
       "      <td>0.0</td>\n",
       "      <td>Individual</td>\n",
       "      <td>12.0</td>\n",
       "      <td>Fully Paid</td>\n",
       "    </tr>\n",
       "    <tr>\n",
       "      <th>1</th>\n",
       "      <td>35000.0</td>\n",
       "      <td>60 months</td>\n",
       "      <td>Mar-2016</td>\n",
       "      <td>941.96</td>\n",
       "      <td>20.75%</td>\n",
       "      <td>E</td>\n",
       "      <td>Coiler</td>\n",
       "      <td>3 years</td>\n",
       "      <td>85000.0</td>\n",
       "      <td>Debt consolidation</td>\n",
       "      <td>24.98</td>\n",
       "      <td>MORTGAGE</td>\n",
       "      <td>144xx</td>\n",
       "      <td>NY</td>\n",
       "      <td>0.0</td>\n",
       "      <td>Individual</td>\n",
       "      <td>19.0</td>\n",
       "      <td>Fully Paid</td>\n",
       "    </tr>\n",
       "    <tr>\n",
       "      <th>2</th>\n",
       "      <td>20000.0</td>\n",
       "      <td>60 months</td>\n",
       "      <td>Mar-2016</td>\n",
       "      <td>416.73</td>\n",
       "      <td>9.16%</td>\n",
       "      <td>B</td>\n",
       "      <td>Reliability Engineer</td>\n",
       "      <td>1 year</td>\n",
       "      <td>77000.0</td>\n",
       "      <td>Home improvement</td>\n",
       "      <td>13.75</td>\n",
       "      <td>MORTGAGE</td>\n",
       "      <td>606xx</td>\n",
       "      <td>IL</td>\n",
       "      <td>0.0</td>\n",
       "      <td>Individual</td>\n",
       "      <td>19.0</td>\n",
       "      <td>Current</td>\n",
       "    </tr>\n",
       "    <tr>\n",
       "      <th>3</th>\n",
       "      <td>17475.0</td>\n",
       "      <td>60 months</td>\n",
       "      <td>Mar-2016</td>\n",
       "      <td>384.06</td>\n",
       "      <td>11.47%</td>\n",
       "      <td>B</td>\n",
       "      <td>NaN</td>\n",
       "      <td>NaN</td>\n",
       "      <td>41682.0</td>\n",
       "      <td>Debt consolidation</td>\n",
       "      <td>30.06</td>\n",
       "      <td>MORTGAGE</td>\n",
       "      <td>796xx</td>\n",
       "      <td>TX</td>\n",
       "      <td>0.0</td>\n",
       "      <td>Individual</td>\n",
       "      <td>18.0</td>\n",
       "      <td>Current</td>\n",
       "    </tr>\n",
       "    <tr>\n",
       "      <th>4</th>\n",
       "      <td>8000.0</td>\n",
       "      <td>36 months</td>\n",
       "      <td>Mar-2016</td>\n",
       "      <td>255.00</td>\n",
       "      <td>9.16%</td>\n",
       "      <td>B</td>\n",
       "      <td>Technician</td>\n",
       "      <td>10+ years</td>\n",
       "      <td>72000.0</td>\n",
       "      <td>Debt consolidation</td>\n",
       "      <td>22.63</td>\n",
       "      <td>RENT</td>\n",
       "      <td>217xx</td>\n",
       "      <td>MD</td>\n",
       "      <td>0.0</td>\n",
       "      <td>Individual</td>\n",
       "      <td>12.0</td>\n",
       "      <td>Current</td>\n",
       "    </tr>\n",
       "  </tbody>\n",
       "</table>\n",
       "</div>"
      ],
      "text/plain": [
       "   funded_amnt_inv        term   issue_d  installment int_rate grade  \\\n",
       "0          10000.0   60 months  Mar-2016       262.34   19.53%     D   \n",
       "1          35000.0   60 months  Mar-2016       941.96   20.75%     E   \n",
       "2          20000.0   60 months  Mar-2016       416.73    9.16%     B   \n",
       "3          17475.0   60 months  Mar-2016       384.06   11.47%     B   \n",
       "4           8000.0   36 months  Mar-2016       255.00    9.16%     B   \n",
       "\n",
       "              emp_title emp_length  annual_inc               title    dti  \\\n",
       "0      lpn/charge nurse    4 years     52000.0               Other  15.00   \n",
       "1                Coiler    3 years     85000.0  Debt consolidation  24.98   \n",
       "2  Reliability Engineer     1 year     77000.0    Home improvement  13.75   \n",
       "3                   NaN        NaN     41682.0  Debt consolidation  30.06   \n",
       "4            Technician  10+ years     72000.0  Debt consolidation  22.63   \n",
       "\n",
       "  home_ownership zip_code addr_state  total_rec_late_fee application_type  \\\n",
       "0            OWN    317xx         GA                 0.0       Individual   \n",
       "1       MORTGAGE    144xx         NY                 0.0       Individual   \n",
       "2       MORTGAGE    606xx         IL                 0.0       Individual   \n",
       "3       MORTGAGE    796xx         TX                 0.0       Individual   \n",
       "4           RENT    217xx         MD                 0.0       Individual   \n",
       "\n",
       "   total_acc loan_status  \n",
       "0       12.0  Fully Paid  \n",
       "1       19.0  Fully Paid  \n",
       "2       19.0     Current  \n",
       "3       18.0     Current  \n",
       "4       12.0     Current  "
      ]
     },
     "execution_count": 3,
     "metadata": {},
     "output_type": "execute_result"
    }
   ],
   "source": [
    "loans.head()"
   ]
  },
  {
   "cell_type": "markdown",
   "metadata": {},
   "source": [
    "### 01 - Target: Loan Status"
   ]
  },
  {
   "cell_type": "markdown",
   "metadata": {},
   "source": [
    "`loan_status` is the current status of the loan. This is the variable we want to predict in our machine learning model. For this variable, we are going to considerar three labels:\n",
    "- 0: loans that have already been paid.\n",
    "- 1: default or charged off loans.\n",
    "- 2: current loans (rest of the cases), where we don't know if they are going to be paid or not.\n",
    "\n",
    "We will use labels 0 and 1 for training and testing our model. Label 2 is going to use just for predicting."
   ]
  },
  {
   "cell_type": "code",
   "execution_count": 4,
   "metadata": {},
   "outputs": [
    {
     "data": {
      "text/plain": [
       "Current                                                843754\n",
       "Fully Paid                                             698690\n",
       "Charged Off                                            182199\n",
       "Late (31-120 days)                                      21742\n",
       "In Grace Period                                         11812\n",
       "Late (16-30 days)                                        4423\n",
       "Does not meet the credit policy. Status:Fully Paid       1988\n",
       "Does not meet the credit policy. Status:Charged Off       761\n",
       "Default                                                    57\n",
       "Name: loan_status, dtype: int64"
      ]
     },
     "execution_count": 4,
     "metadata": {},
     "output_type": "execute_result"
    }
   ],
   "source": [
    "loans['loan_status'].value_counts()"
   ]
  },
  {
   "cell_type": "code",
   "execution_count": 5,
   "metadata": {},
   "outputs": [],
   "source": [
    "def process_loan_status(loan_status):\n",
    "    \n",
    "    loan_status_dict = {\n",
    "    \"Current\": 2,\n",
    "    \"Fully Paid\": 0,\n",
    "    \"Charged Off\": 1,\n",
    "    \"Late (31-120 days)\": 2,\n",
    "    \"In Grace Period\": 2,\n",
    "    \"Late (16-30 days)\": 2,\n",
    "    \"Does not meet the credit policy. Status:Fully Paid\": 0,\n",
    "    \"Does not meet the credit policy. Status:Charged Off\": 1,\n",
    "    \"Default\": 1\n",
    "    }\n",
    "    \n",
    "    return loan_status_dict[loan_status]"
   ]
  },
  {
   "cell_type": "code",
   "execution_count": 6,
   "metadata": {},
   "outputs": [],
   "source": [
    "loans['loan_status'] = loans['loan_status'].map(process_loan_status)"
   ]
  },
  {
   "cell_type": "code",
   "execution_count": 7,
   "metadata": {},
   "outputs": [
    {
     "data": {
      "text/plain": [
       "0    0\n",
       "1    0\n",
       "2    2\n",
       "3    2\n",
       "4    2\n",
       "5    0\n",
       "6    0\n",
       "7    2\n",
       "8    2\n",
       "9    2\n",
       "Name: loan_status, dtype: int64"
      ]
     },
     "execution_count": 7,
     "metadata": {},
     "output_type": "execute_result"
    }
   ],
   "source": [
    "loans['loan_status'].head(10)"
   ]
  },
  {
   "cell_type": "code",
   "execution_count": 8,
   "metadata": {},
   "outputs": [],
   "source": [
    "loans = loans[loans['loan_status'] < 2]"
   ]
  },
  {
   "cell_type": "code",
   "execution_count": 9,
   "metadata": {},
   "outputs": [
    {
     "data": {
      "text/html": [
       "<div>\n",
       "<style scoped>\n",
       "    .dataframe tbody tr th:only-of-type {\n",
       "        vertical-align: middle;\n",
       "    }\n",
       "\n",
       "    .dataframe tbody tr th {\n",
       "        vertical-align: top;\n",
       "    }\n",
       "\n",
       "    .dataframe thead th {\n",
       "        text-align: right;\n",
       "    }\n",
       "</style>\n",
       "<table border=\"1\" class=\"dataframe\">\n",
       "  <thead>\n",
       "    <tr style=\"text-align: right;\">\n",
       "      <th></th>\n",
       "      <th>funded_amnt_inv</th>\n",
       "      <th>term</th>\n",
       "      <th>issue_d</th>\n",
       "      <th>installment</th>\n",
       "      <th>int_rate</th>\n",
       "      <th>grade</th>\n",
       "      <th>emp_title</th>\n",
       "      <th>emp_length</th>\n",
       "      <th>annual_inc</th>\n",
       "      <th>title</th>\n",
       "      <th>dti</th>\n",
       "      <th>home_ownership</th>\n",
       "      <th>zip_code</th>\n",
       "      <th>addr_state</th>\n",
       "      <th>total_rec_late_fee</th>\n",
       "      <th>application_type</th>\n",
       "      <th>total_acc</th>\n",
       "      <th>loan_status</th>\n",
       "    </tr>\n",
       "  </thead>\n",
       "  <tbody>\n",
       "    <tr>\n",
       "      <th>0</th>\n",
       "      <td>10000.0</td>\n",
       "      <td>60 months</td>\n",
       "      <td>Mar-2016</td>\n",
       "      <td>262.34</td>\n",
       "      <td>19.53%</td>\n",
       "      <td>D</td>\n",
       "      <td>lpn/charge nurse</td>\n",
       "      <td>4 years</td>\n",
       "      <td>52000.0</td>\n",
       "      <td>Other</td>\n",
       "      <td>15.00</td>\n",
       "      <td>OWN</td>\n",
       "      <td>317xx</td>\n",
       "      <td>GA</td>\n",
       "      <td>0.0</td>\n",
       "      <td>Individual</td>\n",
       "      <td>12.0</td>\n",
       "      <td>0</td>\n",
       "    </tr>\n",
       "    <tr>\n",
       "      <th>1</th>\n",
       "      <td>35000.0</td>\n",
       "      <td>60 months</td>\n",
       "      <td>Mar-2016</td>\n",
       "      <td>941.96</td>\n",
       "      <td>20.75%</td>\n",
       "      <td>E</td>\n",
       "      <td>Coiler</td>\n",
       "      <td>3 years</td>\n",
       "      <td>85000.0</td>\n",
       "      <td>Debt consolidation</td>\n",
       "      <td>24.98</td>\n",
       "      <td>MORTGAGE</td>\n",
       "      <td>144xx</td>\n",
       "      <td>NY</td>\n",
       "      <td>0.0</td>\n",
       "      <td>Individual</td>\n",
       "      <td>19.0</td>\n",
       "      <td>0</td>\n",
       "    </tr>\n",
       "    <tr>\n",
       "      <th>5</th>\n",
       "      <td>14400.0</td>\n",
       "      <td>36 months</td>\n",
       "      <td>Mar-2016</td>\n",
       "      <td>469.74</td>\n",
       "      <td>10.75%</td>\n",
       "      <td>B</td>\n",
       "      <td>Coder</td>\n",
       "      <td>10+ years</td>\n",
       "      <td>85000.0</td>\n",
       "      <td>Business</td>\n",
       "      <td>28.11</td>\n",
       "      <td>MORTGAGE</td>\n",
       "      <td>037xx</td>\n",
       "      <td>NH</td>\n",
       "      <td>0.0</td>\n",
       "      <td>Individual</td>\n",
       "      <td>33.0</td>\n",
       "      <td>0</td>\n",
       "    </tr>\n",
       "    <tr>\n",
       "      <th>6</th>\n",
       "      <td>18000.0</td>\n",
       "      <td>60 months</td>\n",
       "      <td>Mar-2016</td>\n",
       "      <td>400.31</td>\n",
       "      <td>11.99%</td>\n",
       "      <td>C</td>\n",
       "      <td>Registered Nurse</td>\n",
       "      <td>6 years</td>\n",
       "      <td>100000.0</td>\n",
       "      <td>Debt consolidation</td>\n",
       "      <td>20.41</td>\n",
       "      <td>MORTGAGE</td>\n",
       "      <td>986xx</td>\n",
       "      <td>WA</td>\n",
       "      <td>0.0</td>\n",
       "      <td>Individual</td>\n",
       "      <td>40.0</td>\n",
       "      <td>0</td>\n",
       "    </tr>\n",
       "    <tr>\n",
       "      <th>10</th>\n",
       "      <td>7250.0</td>\n",
       "      <td>36 months</td>\n",
       "      <td>Mar-2016</td>\n",
       "      <td>246.63</td>\n",
       "      <td>13.67%</td>\n",
       "      <td>C</td>\n",
       "      <td>REGISTERED NURSE</td>\n",
       "      <td>3 years</td>\n",
       "      <td>72000.0</td>\n",
       "      <td>Debt consolidation</td>\n",
       "      <td>23.93</td>\n",
       "      <td>MORTGAGE</td>\n",
       "      <td>462xx</td>\n",
       "      <td>IN</td>\n",
       "      <td>0.0</td>\n",
       "      <td>Individual</td>\n",
       "      <td>24.0</td>\n",
       "      <td>0</td>\n",
       "    </tr>\n",
       "  </tbody>\n",
       "</table>\n",
       "</div>"
      ],
      "text/plain": [
       "    funded_amnt_inv        term   issue_d  installment int_rate grade  \\\n",
       "0           10000.0   60 months  Mar-2016       262.34   19.53%     D   \n",
       "1           35000.0   60 months  Mar-2016       941.96   20.75%     E   \n",
       "5           14400.0   36 months  Mar-2016       469.74   10.75%     B   \n",
       "6           18000.0   60 months  Mar-2016       400.31   11.99%     C   \n",
       "10           7250.0   36 months  Mar-2016       246.63   13.67%     C   \n",
       "\n",
       "           emp_title emp_length  annual_inc               title    dti  \\\n",
       "0   lpn/charge nurse    4 years     52000.0               Other  15.00   \n",
       "1             Coiler    3 years     85000.0  Debt consolidation  24.98   \n",
       "5              Coder  10+ years     85000.0            Business  28.11   \n",
       "6   Registered Nurse    6 years    100000.0  Debt consolidation  20.41   \n",
       "10  REGISTERED NURSE    3 years     72000.0  Debt consolidation  23.93   \n",
       "\n",
       "   home_ownership zip_code addr_state  total_rec_late_fee application_type  \\\n",
       "0             OWN    317xx         GA                 0.0       Individual   \n",
       "1        MORTGAGE    144xx         NY                 0.0       Individual   \n",
       "5        MORTGAGE    037xx         NH                 0.0       Individual   \n",
       "6        MORTGAGE    986xx         WA                 0.0       Individual   \n",
       "10       MORTGAGE    462xx         IN                 0.0       Individual   \n",
       "\n",
       "    total_acc  loan_status  \n",
       "0        12.0            0  \n",
       "1        19.0            0  \n",
       "5        33.0            0  \n",
       "6        40.0            0  \n",
       "10       24.0            0  "
      ]
     },
     "execution_count": 9,
     "metadata": {},
     "output_type": "execute_result"
    }
   ],
   "source": [
    "loans.head()"
   ]
  },
  {
   "cell_type": "code",
   "execution_count": 10,
   "metadata": {},
   "outputs": [
    {
     "data": {
      "text/plain": [
       "count    883695.000000\n",
       "mean          0.207104\n",
       "std           0.405231\n",
       "min           0.000000\n",
       "25%           0.000000\n",
       "50%           0.000000\n",
       "75%           0.000000\n",
       "max           1.000000\n",
       "Name: loan_status, dtype: float64"
      ]
     },
     "execution_count": 10,
     "metadata": {},
     "output_type": "execute_result"
    }
   ],
   "source": [
    "loans['loan_status'].describe()"
   ]
  },
  {
   "cell_type": "markdown",
   "metadata": {},
   "source": [
    "__Our prior value of un paid loans is about 20%__ We will keep this value in mind!"
   ]
  },
  {
   "cell_type": "markdown",
   "metadata": {},
   "source": [
    "### 02 - Numeric Variables"
   ]
  },
  {
   "cell_type": "code",
   "execution_count": 11,
   "metadata": {},
   "outputs": [
    {
     "data": {
      "text/plain": [
       "funded_amnt_inv       float64\n",
       "term                   object\n",
       "issue_d                object\n",
       "installment           float64\n",
       "int_rate               object\n",
       "grade                  object\n",
       "emp_title              object\n",
       "emp_length             object\n",
       "annual_inc            float64\n",
       "title                  object\n",
       "dti                   float64\n",
       "home_ownership         object\n",
       "zip_code               object\n",
       "addr_state             object\n",
       "total_rec_late_fee    float64\n",
       "application_type       object\n",
       "total_acc             float64\n",
       "loan_status             int64\n",
       "dtype: object"
      ]
     },
     "execution_count": 11,
     "metadata": {},
     "output_type": "execute_result"
    }
   ],
   "source": [
    "loans.dtypes"
   ]
  },
  {
   "cell_type": "code",
   "execution_count": 12,
   "metadata": {},
   "outputs": [],
   "source": [
    "numerical_variables = [\"funded_amnt_inv\", \"installment\", \"int_rate\", \"annual_inc\", \"dti\",\n",
    "                        \"total_rec_late_fee\", \"total_acc\"]"
   ]
  },
  {
   "cell_type": "code",
   "execution_count": 13,
   "metadata": {},
   "outputs": [
    {
     "data": {
      "text/plain": [
       "funded_amnt_inv        0\n",
       "installment            0\n",
       "int_rate               0\n",
       "annual_inc             4\n",
       "dti                   53\n",
       "total_rec_late_fee     0\n",
       "total_acc             29\n",
       "dtype: int64"
      ]
     },
     "execution_count": 13,
     "metadata": {},
     "output_type": "execute_result"
    }
   ],
   "source": [
    "loans[numerical_variables].isnull().sum()"
   ]
  },
  {
   "cell_type": "markdown",
   "metadata": {},
   "source": [
    "__Interest Rate__"
   ]
  },
  {
   "cell_type": "code",
   "execution_count": 14,
   "metadata": {
    "scrolled": true
   },
   "outputs": [
    {
     "data": {
      "text/plain": [
       "0           19.53%\n",
       "1           20.75%\n",
       "5           10.75%\n",
       "6           11.99%\n",
       "10          13.67%\n",
       "13           5.32%\n",
       "19           9.75%\n",
       "20          11.47%\n",
       "22           9.75%\n",
       "25          12.99%\n",
       "27           7.39%\n",
       "28          18.99%\n",
       "31          15.31%\n",
       "35          19.53%\n",
       "37          18.25%\n",
       "42          14.46%\n",
       "43           9.16%\n",
       "44          13.67%\n",
       "48          14.46%\n",
       "57          12.99%\n",
       "58          14.46%\n",
       "59           5.32%\n",
       "62           6.49%\n",
       "63          19.53%\n",
       "64           9.75%\n",
       "66           7.89%\n",
       "71           8.39%\n",
       "72          14.46%\n",
       "78           5.32%\n",
       "79           5.32%\n",
       "            ...   \n",
       "1765393     10.49%\n",
       "1765394     15.99%\n",
       "1765395     13.66%\n",
       "1765396      6.99%\n",
       "1765397     15.99%\n",
       "1765398      8.19%\n",
       "1765399     11.99%\n",
       "1765402     17.86%\n",
       "1765403     17.86%\n",
       "1765404      8.19%\n",
       "1765405     15.59%\n",
       "1765406     15.99%\n",
       "1765408      8.19%\n",
       "1765409      6.03%\n",
       "1765410      6.03%\n",
       "1765411      6.49%\n",
       "1765412     14.99%\n",
       "1765413     16.49%\n",
       "1765414     14.31%\n",
       "1765415      9.49%\n",
       "1765416      8.67%\n",
       "1765417     19.24%\n",
       "1765418      9.49%\n",
       "1765419     11.99%\n",
       "1765420     15.59%\n",
       "1765421     11.99%\n",
       "1765422     11.99%\n",
       "1765423     19.99%\n",
       "1765424     15.99%\n",
       "1765425     11.99%\n",
       "Name: int_rate, Length: 883695, dtype: object"
      ]
     },
     "execution_count": 14,
     "metadata": {},
     "output_type": "execute_result"
    }
   ],
   "source": [
    "loans['int_rate']"
   ]
  },
  {
   "cell_type": "code",
   "execution_count": 15,
   "metadata": {},
   "outputs": [],
   "source": [
    "loans['int_rate'] = loans['int_rate'].map(lambda x: float(x[:-1]))"
   ]
  },
  {
   "cell_type": "code",
   "execution_count": 16,
   "metadata": {},
   "outputs": [
    {
     "data": {
      "text/plain": [
       "0     19.53\n",
       "1     20.75\n",
       "5     10.75\n",
       "6     11.99\n",
       "10    13.67\n",
       "Name: int_rate, dtype: float64"
      ]
     },
     "execution_count": 16,
     "metadata": {},
     "output_type": "execute_result"
    }
   ],
   "source": [
    "loans['int_rate'].head()"
   ]
  },
  {
   "cell_type": "code",
   "execution_count": 17,
   "metadata": {},
   "outputs": [
    {
     "data": {
      "text/plain": [
       "funded_amnt_inv       float64\n",
       "term                   object\n",
       "issue_d                object\n",
       "installment           float64\n",
       "int_rate              float64\n",
       "grade                  object\n",
       "emp_title              object\n",
       "emp_length             object\n",
       "annual_inc            float64\n",
       "title                  object\n",
       "dti                   float64\n",
       "home_ownership         object\n",
       "zip_code               object\n",
       "addr_state             object\n",
       "total_rec_late_fee    float64\n",
       "application_type       object\n",
       "total_acc             float64\n",
       "loan_status             int64\n",
       "dtype: object"
      ]
     },
     "execution_count": 17,
     "metadata": {},
     "output_type": "execute_result"
    }
   ],
   "source": [
    "loans.dtypes"
   ]
  },
  {
   "cell_type": "markdown",
   "metadata": {},
   "source": [
    "__Outliers__"
   ]
  },
  {
   "cell_type": "code",
   "execution_count": 18,
   "metadata": {},
   "outputs": [
    {
     "data": {
      "text/html": [
       "<div>\n",
       "<style scoped>\n",
       "    .dataframe tbody tr th:only-of-type {\n",
       "        vertical-align: middle;\n",
       "    }\n",
       "\n",
       "    .dataframe tbody tr th {\n",
       "        vertical-align: top;\n",
       "    }\n",
       "\n",
       "    .dataframe thead th {\n",
       "        text-align: right;\n",
       "    }\n",
       "</style>\n",
       "<table border=\"1\" class=\"dataframe\">\n",
       "  <thead>\n",
       "    <tr style=\"text-align: right;\">\n",
       "      <th></th>\n",
       "      <th>funded_amnt_inv</th>\n",
       "      <th>installment</th>\n",
       "      <th>int_rate</th>\n",
       "      <th>annual_inc</th>\n",
       "      <th>dti</th>\n",
       "      <th>total_rec_late_fee</th>\n",
       "      <th>total_acc</th>\n",
       "    </tr>\n",
       "  </thead>\n",
       "  <tbody>\n",
       "    <tr>\n",
       "      <th>count</th>\n",
       "      <td>883695.000000</td>\n",
       "      <td>883695.000000</td>\n",
       "      <td>883695.000000</td>\n",
       "      <td>8.836910e+05</td>\n",
       "      <td>883642.000000</td>\n",
       "      <td>8.836950e+05</td>\n",
       "      <td>883666.000000</td>\n",
       "    </tr>\n",
       "    <tr>\n",
       "      <th>mean</th>\n",
       "      <td>14258.361060</td>\n",
       "      <td>436.443223</td>\n",
       "      <td>13.457068</td>\n",
       "      <td>7.535964e+04</td>\n",
       "      <td>17.921756</td>\n",
       "      <td>1.129890e+00</td>\n",
       "      <td>25.369467</td>\n",
       "    </tr>\n",
       "    <tr>\n",
       "      <th>std</th>\n",
       "      <td>8532.472866</td>\n",
       "      <td>256.615587</td>\n",
       "      <td>4.641531</td>\n",
       "      <td>6.513331e+04</td>\n",
       "      <td>9.100154</td>\n",
       "      <td>7.731221e+00</td>\n",
       "      <td>11.987691</td>\n",
       "    </tr>\n",
       "    <tr>\n",
       "      <th>min</th>\n",
       "      <td>0.000000</td>\n",
       "      <td>4.930000</td>\n",
       "      <td>5.320000</td>\n",
       "      <td>0.000000e+00</td>\n",
       "      <td>-1.000000</td>\n",
       "      <td>-5.100000e-09</td>\n",
       "      <td>1.000000</td>\n",
       "    </tr>\n",
       "    <tr>\n",
       "      <th>25%</th>\n",
       "      <td>7925.000000</td>\n",
       "      <td>250.330000</td>\n",
       "      <td>9.990000</td>\n",
       "      <td>4.500000e+04</td>\n",
       "      <td>11.670000</td>\n",
       "      <td>0.000000e+00</td>\n",
       "      <td>17.000000</td>\n",
       "    </tr>\n",
       "    <tr>\n",
       "      <th>50%</th>\n",
       "      <td>12000.000000</td>\n",
       "      <td>376.250000</td>\n",
       "      <td>12.990000</td>\n",
       "      <td>6.500000e+04</td>\n",
       "      <td>17.400000</td>\n",
       "      <td>0.000000e+00</td>\n",
       "      <td>24.000000</td>\n",
       "    </tr>\n",
       "    <tr>\n",
       "      <th>75%</th>\n",
       "      <td>20000.000000</td>\n",
       "      <td>576.270000</td>\n",
       "      <td>16.290000</td>\n",
       "      <td>9.000000e+04</td>\n",
       "      <td>23.690000</td>\n",
       "      <td>0.000000e+00</td>\n",
       "      <td>32.000000</td>\n",
       "    </tr>\n",
       "    <tr>\n",
       "      <th>max</th>\n",
       "      <td>40000.000000</td>\n",
       "      <td>1714.540000</td>\n",
       "      <td>30.990000</td>\n",
       "      <td>9.550000e+06</td>\n",
       "      <td>999.000000</td>\n",
       "      <td>6.543200e+02</td>\n",
       "      <td>176.000000</td>\n",
       "    </tr>\n",
       "  </tbody>\n",
       "</table>\n",
       "</div>"
      ],
      "text/plain": [
       "       funded_amnt_inv    installment       int_rate    annual_inc  \\\n",
       "count    883695.000000  883695.000000  883695.000000  8.836910e+05   \n",
       "mean      14258.361060     436.443223      13.457068  7.535964e+04   \n",
       "std        8532.472866     256.615587       4.641531  6.513331e+04   \n",
       "min           0.000000       4.930000       5.320000  0.000000e+00   \n",
       "25%        7925.000000     250.330000       9.990000  4.500000e+04   \n",
       "50%       12000.000000     376.250000      12.990000  6.500000e+04   \n",
       "75%       20000.000000     576.270000      16.290000  9.000000e+04   \n",
       "max       40000.000000    1714.540000      30.990000  9.550000e+06   \n",
       "\n",
       "                 dti  total_rec_late_fee      total_acc  \n",
       "count  883642.000000        8.836950e+05  883666.000000  \n",
       "mean       17.921756        1.129890e+00      25.369467  \n",
       "std         9.100154        7.731221e+00      11.987691  \n",
       "min        -1.000000       -5.100000e-09       1.000000  \n",
       "25%        11.670000        0.000000e+00      17.000000  \n",
       "50%        17.400000        0.000000e+00      24.000000  \n",
       "75%        23.690000        0.000000e+00      32.000000  \n",
       "max       999.000000        6.543200e+02     176.000000  "
      ]
     },
     "execution_count": 18,
     "metadata": {},
     "output_type": "execute_result"
    }
   ],
   "source": [
    "loans[numerical_variables].describe()"
   ]
  },
  {
   "cell_type": "code",
   "execution_count": 19,
   "metadata": {},
   "outputs": [],
   "source": [
    "def detect_outliers(df,n,features):\n",
    "    \"\"\"\n",
    "    Takes a dataframe df of features and returns a list of the indices\n",
    "    corresponding to the observations containing more than n outliers according\n",
    "    to the Tukey method.\n",
    "    \"\"\"\n",
    "    outlier_indices = []\n",
    "    \n",
    "    # iterate over features(columns)\n",
    "    for col in features:\n",
    "        # 1st quartile (25%)\n",
    "        Q1 = np.percentile(df[col], 25)\n",
    "        # 3rd quartile (75%)\n",
    "        Q3 = np.percentile(df[col],75)\n",
    "        # Interquartile range (IQR)\n",
    "        IQR = Q3 - Q1\n",
    "        \n",
    "        # outlier step\n",
    "        outlier_step = 1.5 * IQR\n",
    "        \n",
    "        # Determine a list of indices of outliers for feature col\n",
    "        outlier_list_col = df[(df[col] < Q1 - outlier_step) | (df[col] > Q3 + outlier_step )].index\n",
    "        \n",
    "        # append the found outlier indices for col to the list of outlier indices \n",
    "        outlier_indices.extend(outlier_list_col)\n",
    "        \n",
    "    # select observations containing more than n outliers\n",
    "    outlier_indices = Counter(outlier_indices)        \n",
    "    multiple_outliers = list( k for k, v in outlier_indices.items() if v > n )\n",
    "    \n",
    "    return multiple_outliers"
   ]
  },
  {
   "cell_type": "code",
   "execution_count": 20,
   "metadata": {},
   "outputs": [
    {
     "name": "stdout",
     "output_type": "stream",
     "text": [
      "There are 4062 outliers from numerical features\n"
     ]
    }
   ],
   "source": [
    "# detect outliers from numerical features \n",
    "outliers_to_drop = detect_outliers(loans,1,numerical_variables)\n",
    "\n",
    "print(\"There are {} outliers from numerical features\".format(len(outliers_to_drop)))"
   ]
  },
  {
   "cell_type": "code",
   "execution_count": 21,
   "metadata": {},
   "outputs": [],
   "source": [
    "loans = loans.drop(outliers_to_drop, axis=0)"
   ]
  },
  {
   "cell_type": "code",
   "execution_count": 22,
   "metadata": {},
   "outputs": [
    {
     "data": {
      "text/plain": [
       "(879633, 18)"
      ]
     },
     "execution_count": 22,
     "metadata": {},
     "output_type": "execute_result"
    }
   ],
   "source": [
    "loans.shape"
   ]
  },
  {
   "cell_type": "code",
   "execution_count": 23,
   "metadata": {},
   "outputs": [
    {
     "data": {
      "text/html": [
       "<div>\n",
       "<style scoped>\n",
       "    .dataframe tbody tr th:only-of-type {\n",
       "        vertical-align: middle;\n",
       "    }\n",
       "\n",
       "    .dataframe tbody tr th {\n",
       "        vertical-align: top;\n",
       "    }\n",
       "\n",
       "    .dataframe thead th {\n",
       "        text-align: right;\n",
       "    }\n",
       "</style>\n",
       "<table border=\"1\" class=\"dataframe\">\n",
       "  <thead>\n",
       "    <tr style=\"text-align: right;\">\n",
       "      <th></th>\n",
       "      <th>funded_amnt_inv</th>\n",
       "      <th>installment</th>\n",
       "      <th>int_rate</th>\n",
       "      <th>annual_inc</th>\n",
       "      <th>dti</th>\n",
       "      <th>total_rec_late_fee</th>\n",
       "      <th>total_acc</th>\n",
       "    </tr>\n",
       "  </thead>\n",
       "  <tbody>\n",
       "    <tr>\n",
       "      <th>count</th>\n",
       "      <td>879633.000000</td>\n",
       "      <td>879633.000000</td>\n",
       "      <td>879633.000000</td>\n",
       "      <td>8.796290e+05</td>\n",
       "      <td>879581.000000</td>\n",
       "      <td>8.796330e+05</td>\n",
       "      <td>879604.000000</td>\n",
       "    </tr>\n",
       "    <tr>\n",
       "      <th>mean</th>\n",
       "      <td>14171.467904</td>\n",
       "      <td>433.270098</td>\n",
       "      <td>13.427911</td>\n",
       "      <td>7.509574e+04</td>\n",
       "      <td>17.917728</td>\n",
       "      <td>9.813336e-01</td>\n",
       "      <td>25.353935</td>\n",
       "    </tr>\n",
       "    <tr>\n",
       "      <th>std</th>\n",
       "      <td>8438.078920</td>\n",
       "      <td>252.202513</td>\n",
       "      <td>4.601170</td>\n",
       "      <td>6.476573e+04</td>\n",
       "      <td>9.076448</td>\n",
       "      <td>6.721550e+00</td>\n",
       "      <td>11.980763</td>\n",
       "    </tr>\n",
       "    <tr>\n",
       "      <th>min</th>\n",
       "      <td>0.000000</td>\n",
       "      <td>4.930000</td>\n",
       "      <td>5.320000</td>\n",
       "      <td>0.000000e+00</td>\n",
       "      <td>-1.000000</td>\n",
       "      <td>-5.100000e-09</td>\n",
       "      <td>1.000000</td>\n",
       "    </tr>\n",
       "    <tr>\n",
       "      <th>25%</th>\n",
       "      <td>7850.000000</td>\n",
       "      <td>250.230000</td>\n",
       "      <td>9.990000</td>\n",
       "      <td>4.500000e+04</td>\n",
       "      <td>11.660000</td>\n",
       "      <td>0.000000e+00</td>\n",
       "      <td>17.000000</td>\n",
       "    </tr>\n",
       "    <tr>\n",
       "      <th>50%</th>\n",
       "      <td>12000.000000</td>\n",
       "      <td>375.430000</td>\n",
       "      <td>12.990000</td>\n",
       "      <td>6.500000e+04</td>\n",
       "      <td>17.390000</td>\n",
       "      <td>0.000000e+00</td>\n",
       "      <td>24.000000</td>\n",
       "    </tr>\n",
       "    <tr>\n",
       "      <th>75%</th>\n",
       "      <td>20000.000000</td>\n",
       "      <td>572.720000</td>\n",
       "      <td>16.290000</td>\n",
       "      <td>9.000000e+04</td>\n",
       "      <td>23.680000</td>\n",
       "      <td>0.000000e+00</td>\n",
       "      <td>32.000000</td>\n",
       "    </tr>\n",
       "    <tr>\n",
       "      <th>max</th>\n",
       "      <td>40000.000000</td>\n",
       "      <td>1506.650000</td>\n",
       "      <td>30.990000</td>\n",
       "      <td>9.550000e+06</td>\n",
       "      <td>999.000000</td>\n",
       "      <td>4.020300e+02</td>\n",
       "      <td>176.000000</td>\n",
       "    </tr>\n",
       "  </tbody>\n",
       "</table>\n",
       "</div>"
      ],
      "text/plain": [
       "       funded_amnt_inv    installment       int_rate    annual_inc  \\\n",
       "count    879633.000000  879633.000000  879633.000000  8.796290e+05   \n",
       "mean      14171.467904     433.270098      13.427911  7.509574e+04   \n",
       "std        8438.078920     252.202513       4.601170  6.476573e+04   \n",
       "min           0.000000       4.930000       5.320000  0.000000e+00   \n",
       "25%        7850.000000     250.230000       9.990000  4.500000e+04   \n",
       "50%       12000.000000     375.430000      12.990000  6.500000e+04   \n",
       "75%       20000.000000     572.720000      16.290000  9.000000e+04   \n",
       "max       40000.000000    1506.650000      30.990000  9.550000e+06   \n",
       "\n",
       "                 dti  total_rec_late_fee      total_acc  \n",
       "count  879581.000000        8.796330e+05  879604.000000  \n",
       "mean       17.917728        9.813336e-01      25.353935  \n",
       "std         9.076448        6.721550e+00      11.980763  \n",
       "min        -1.000000       -5.100000e-09       1.000000  \n",
       "25%        11.660000        0.000000e+00      17.000000  \n",
       "50%        17.390000        0.000000e+00      24.000000  \n",
       "75%        23.680000        0.000000e+00      32.000000  \n",
       "max       999.000000        4.020300e+02     176.000000  "
      ]
     },
     "execution_count": 23,
     "metadata": {},
     "output_type": "execute_result"
    }
   ],
   "source": [
    "loans[numerical_variables].describe()"
   ]
  },
  {
   "cell_type": "markdown",
   "metadata": {},
   "source": [
    "__Dealing NA's__"
   ]
  },
  {
   "cell_type": "code",
   "execution_count": 24,
   "metadata": {},
   "outputs": [
    {
     "data": {
      "text/plain": [
       "funded_amnt_inv        0\n",
       "installment            0\n",
       "int_rate               0\n",
       "annual_inc             4\n",
       "dti                   52\n",
       "total_rec_late_fee     0\n",
       "total_acc             29\n",
       "dtype: int64"
      ]
     },
     "execution_count": 24,
     "metadata": {},
     "output_type": "execute_result"
    }
   ],
   "source": [
    "loans[numerical_variables].isnull().sum()"
   ]
  },
  {
   "cell_type": "code",
   "execution_count": 25,
   "metadata": {},
   "outputs": [
    {
     "data": {
      "text/plain": [
       "funded_amnt_inv       12000.00\n",
       "installment             375.43\n",
       "int_rate                 12.99\n",
       "annual_inc            65000.00\n",
       "dti                      17.39\n",
       "total_rec_late_fee        0.00\n",
       "total_acc                24.00\n",
       "dtype: float64"
      ]
     },
     "execution_count": 25,
     "metadata": {},
     "output_type": "execute_result"
    }
   ],
   "source": [
    "loans[numerical_variables].median()"
   ]
  },
  {
   "cell_type": "code",
   "execution_count": 26,
   "metadata": {},
   "outputs": [],
   "source": [
    "loans[numerical_variables] = loans[numerical_variables].fillna(loans[numerical_variables].median())"
   ]
  },
  {
   "cell_type": "code",
   "execution_count": 27,
   "metadata": {
    "scrolled": true
   },
   "outputs": [
    {
     "data": {
      "text/plain": [
       "funded_amnt_inv       0\n",
       "installment           0\n",
       "int_rate              0\n",
       "annual_inc            0\n",
       "dti                   0\n",
       "total_rec_late_fee    0\n",
       "total_acc             0\n",
       "dtype: int64"
      ]
     },
     "execution_count": 27,
     "metadata": {},
     "output_type": "execute_result"
    }
   ],
   "source": [
    "loans[numerical_variables].isnull().sum()"
   ]
  },
  {
   "cell_type": "markdown",
   "metadata": {},
   "source": [
    "### 03 - Categorical Variables"
   ]
  },
  {
   "cell_type": "code",
   "execution_count": 28,
   "metadata": {},
   "outputs": [],
   "source": [
    "categorical_variables = ['term', 'grade', 'emp_title', 'emp_length', 'title', \n",
    "                         'home_ownership', 'zip_code', 'addr_state', 'application_type']"
   ]
  },
  {
   "cell_type": "code",
   "execution_count": 29,
   "metadata": {},
   "outputs": [
    {
     "name": "stdout",
     "output_type": "stream",
     "text": [
      "term: 2 categories\n",
      "grade: 7 categories\n",
      "emp_title: 294604 categories\n",
      "emp_length: 12 categories\n",
      "title: 61934 categories\n",
      "home_ownership: 6 categories\n",
      "zip_code: 933 categories\n",
      "addr_state: 51 categories\n",
      "application_type: 2 categories\n"
     ]
    }
   ],
   "source": [
    "for variable in categorical_variables:\n",
    "    number_of_categories = loans[variable].unique().size\n",
    "    print(\"{}: {} categories\".format(variable, number_of_categories))"
   ]
  },
  {
   "cell_type": "markdown",
   "metadata": {},
   "source": [
    "Too many categories for `emp_title`, `title`, `zip_code` and `addr_state`. Let's take a look at these three variables:"
   ]
  },
  {
   "cell_type": "markdown",
   "metadata": {},
   "source": [
    "__Employee Title__:"
   ]
  },
  {
   "cell_type": "code",
   "execution_count": 30,
   "metadata": {},
   "outputs": [
    {
     "data": {
      "text/plain": [
       "Teacher             12508\n",
       "Manager             11524\n",
       "Registered Nurse     5301\n",
       "RN                   5155\n",
       "Owner                5080\n",
       "Supervisor           5059\n",
       "Sales                4500\n",
       "Driver               4196\n",
       "Project Manager      3945\n",
       "Office Manager       3288\n",
       "Name: emp_title, dtype: int64"
      ]
     },
     "execution_count": 30,
     "metadata": {},
     "output_type": "execute_result"
    }
   ],
   "source": [
    "loans['emp_title'].value_counts().head(10)"
   ]
  },
  {
   "cell_type": "markdown",
   "metadata": {},
   "source": [
    "NA's"
   ]
  },
  {
   "cell_type": "code",
   "execution_count": 31,
   "metadata": {},
   "outputs": [
    {
     "data": {
      "text/plain": [
       "52740"
      ]
     },
     "execution_count": 31,
     "metadata": {},
     "output_type": "execute_result"
    }
   ],
   "source": [
    "loans['emp_title'].isnull().sum()"
   ]
  },
  {
   "cell_type": "code",
   "execution_count": 32,
   "metadata": {
    "scrolled": true
   },
   "outputs": [],
   "source": [
    "loans['emp_title'] = loans['emp_title'].fillna(method=\"ffill\")"
   ]
  },
  {
   "cell_type": "code",
   "execution_count": 33,
   "metadata": {},
   "outputs": [
    {
     "data": {
      "text/plain": [
       "0"
      ]
     },
     "execution_count": 33,
     "metadata": {},
     "output_type": "execute_result"
    }
   ],
   "source": [
    "loans['emp_title'].isnull().sum()"
   ]
  },
  {
   "cell_type": "code",
   "execution_count": 34,
   "metadata": {},
   "outputs": [],
   "source": [
    "loans['emp_title'] = loans['emp_title'].str.lower()"
   ]
  },
  {
   "cell_type": "code",
   "execution_count": 35,
   "metadata": {},
   "outputs": [],
   "source": [
    "loans['emp_title'][loans['emp_title'].str.contains('manager')] = 'manager'"
   ]
  },
  {
   "cell_type": "code",
   "execution_count": 36,
   "metadata": {},
   "outputs": [],
   "source": [
    "loans['manager'] = (loans['emp_title'] == 'manager').astype(int)"
   ]
  },
  {
   "cell_type": "code",
   "execution_count": 37,
   "metadata": {},
   "outputs": [],
   "source": [
    "loans = loans.drop('emp_title', axis=1)"
   ]
  },
  {
   "cell_type": "code",
   "execution_count": 38,
   "metadata": {},
   "outputs": [
    {
     "data": {
      "text/plain": [
       "count    879633.000000\n",
       "mean          0.129146\n",
       "std           0.335362\n",
       "min           0.000000\n",
       "25%           0.000000\n",
       "50%           0.000000\n",
       "75%           0.000000\n",
       "max           1.000000\n",
       "Name: manager, dtype: float64"
      ]
     },
     "execution_count": 38,
     "metadata": {},
     "output_type": "execute_result"
    }
   ],
   "source": [
    "loans['manager'].describe()"
   ]
  },
  {
   "cell_type": "markdown",
   "metadata": {},
   "source": [
    "__Purpose__ of the loan:"
   ]
  },
  {
   "cell_type": "code",
   "execution_count": 39,
   "metadata": {},
   "outputs": [
    {
     "data": {
      "text/plain": [
       "Debt consolidation           406459\n",
       "Credit card refinancing      147109\n",
       "Home improvement              42972\n",
       "Other                         36991\n",
       "Debt Consolidation            15213\n",
       "Major purchase                13582\n",
       "Medical expenses               7648\n",
       "Business                       7092\n",
       "Car financing                  6371\n",
       "Consolidation                  5158\n",
       "Moving and relocation          4680\n",
       "debt consolidation             4648\n",
       "Vacation                       4596\n",
       "Debt Consolidation Loan        3731\n",
       "Home buying                    3044\n",
       "Credit Card Consolidation      2291\n",
       "consolidation                  2096\n",
       "Personal Loan                  2092\n",
       "Home Improvement               1721\n",
       "Consolidation Loan             1713\n",
       "Name: title, dtype: int64"
      ]
     },
     "execution_count": 39,
     "metadata": {},
     "output_type": "execute_result"
    }
   ],
   "source": [
    "loans['title'].value_counts().head(20)"
   ]
  },
  {
   "cell_type": "code",
   "execution_count": 40,
   "metadata": {},
   "outputs": [
    {
     "data": {
      "text/plain": [
       "8869"
      ]
     },
     "execution_count": 40,
     "metadata": {},
     "output_type": "execute_result"
    }
   ],
   "source": [
    "loans['title'].isnull().sum()"
   ]
  },
  {
   "cell_type": "code",
   "execution_count": 41,
   "metadata": {},
   "outputs": [],
   "source": [
    "loans['title'] = loans['title'].fillna(method=\"ffill\")"
   ]
  },
  {
   "cell_type": "code",
   "execution_count": 42,
   "metadata": {},
   "outputs": [
    {
     "data": {
      "text/plain": [
       "0"
      ]
     },
     "execution_count": 42,
     "metadata": {},
     "output_type": "execute_result"
    }
   ],
   "source": [
    "loans['title'].isnull().sum()"
   ]
  },
  {
   "cell_type": "code",
   "execution_count": 43,
   "metadata": {},
   "outputs": [],
   "source": [
    "def loan_purpose_renaming():    \n",
    "    title = loans['title'].str.lower()\n",
    "    title[title.str.contains(\"credit card|credit\")] = \"credit card refinancing\"\n",
    "    title[title.str.contains(\"debt|consolidation|consolidate|refinance\")] = \"debt consolidation\"\n",
    "    title[title.str.contains(\"home improvement\")] = \"home improvement\"\n",
    "    title[title.str.contains(\"^home$|home loan\")] = \"home buying\"\n",
    "    title[title.str.contains(\"green\")] = \"green\"\n",
    "    title[title.str.contains(\"wedding\")] = \"wedding\"\n",
    "    title[title.str.contains(\"medical\")] = \"medical\"\n",
    "    title[title.str.contains(\"personal|my loan|^loan$|lending club\")] = \"personal\"\n",
    "    title[title.str.contains(\"business\")] = \"business\"\n",
    "    title[title.str.contains(\"pay(| )off\")] = \"payoff\"\n",
    "    title[title.str.contains(\"car loan|car financing\")] = \"car\"\n",
    "    \n",
    "    return title"
   ]
  },
  {
   "cell_type": "code",
   "execution_count": 44,
   "metadata": {},
   "outputs": [],
   "source": [
    "loans['title'] = loan_purpose_renaming()"
   ]
  },
  {
   "cell_type": "code",
   "execution_count": 45,
   "metadata": {
    "scrolled": true
   },
   "outputs": [
    {
     "data": {
      "text/plain": [
       "debt consolidation                        482875\n",
       "credit card refinancing                   179675\n",
       "home improvement                           47978\n",
       "other                                      37664\n",
       "major purchase                             14081\n",
       "personal                                   10188\n",
       "business                                    9494\n",
       "medical                                     9079\n",
       "car                                         7299\n",
       "payoff                                      6546\n",
       "vacation                                    4861\n",
       "moving and relocation                       4753\n",
       "home buying                                 3880\n",
       "wedding                                     2337\n",
       "freedom                                     1227\n",
       "green                                        536\n",
       "bills                                        459\n",
       "loan 1                                       347\n",
       "cc loan                                      306\n",
       "pool                                         293\n",
       "pool loan                                    268\n",
       "cc refi                                      254\n",
       "refi                                         250\n",
       "loan1                                        245\n",
       "fresh start                                  244\n",
       "relief                                       239\n",
       "freedom loan                                 231\n",
       "major purchase loan                          228\n",
       "other loan                                   226\n",
       "new start                                    219\n",
       "                                           ...  \n",
       "finish basement                                1\n",
       "work4you                                       1\n",
       "pool equipement                                1\n",
       "lc lone                                        1\n",
       "cc refi for lower mo pmt and apr               1\n",
       "nov 10                                         1\n",
       "hard worker on hard times                      1\n",
       "just need a little help.                       1\n",
       "organizing many payments after divorce         1\n",
       "a fresh start 2010                             1\n",
       "peer to peer                                   1\n",
       "carfortreva                                    1\n",
       "loan to pay moving costs                       1\n",
       "home rehab                                     1\n",
       "deliverance from bondage                       1\n",
       "deerfield beach                                1\n",
       "i want to get out of this hole                 1\n",
       "getmylifeback2012                              1\n",
       "budget 2012                                    1\n",
       "get out of jail free                           1\n",
       "reach goals                                    1\n",
       "steady monthly payment                         1\n",
       "warmer home                                    1\n",
       "jasons loan                                    1\n",
       "big spender                                    1\n",
       "excellent loan                                 1\n",
       "atlast                                         1\n",
       "buying my first place                          1\n",
       "consol2013                                     1\n",
       "freedominafew                                  1\n",
       "Name: title, Length: 29537, dtype: int64"
      ]
     },
     "execution_count": 45,
     "metadata": {},
     "output_type": "execute_result"
    }
   ],
   "source": [
    "loans['title'].value_counts()"
   ]
  },
  {
   "cell_type": "code",
   "execution_count": 46,
   "metadata": {},
   "outputs": [],
   "source": [
    "loans['refinance'] = ((loans['title'] == 'credit card refinancing') | \\\n",
    "                     (loans['title'] == 'debt consolidation')).astype(int)"
   ]
  },
  {
   "cell_type": "code",
   "execution_count": 47,
   "metadata": {},
   "outputs": [],
   "source": [
    "loans = loans.drop('title', axis = 1)"
   ]
  },
  {
   "cell_type": "code",
   "execution_count": 48,
   "metadata": {},
   "outputs": [
    {
     "data": {
      "text/plain": [
       "count    879633.000000\n",
       "mean          0.753212\n",
       "std           0.431143\n",
       "min           0.000000\n",
       "25%           1.000000\n",
       "50%           1.000000\n",
       "75%           1.000000\n",
       "max           1.000000\n",
       "Name: refinance, dtype: float64"
      ]
     },
     "execution_count": 48,
     "metadata": {},
     "output_type": "execute_result"
    }
   ],
   "source": [
    "loans['refinance'].describe()"
   ]
  },
  {
   "cell_type": "markdown",
   "metadata": {},
   "source": [
    "__zip_code__:"
   ]
  },
  {
   "cell_type": "code",
   "execution_count": 49,
   "metadata": {},
   "outputs": [
    {
     "data": {
      "text/plain": [
       "count     879633\n",
       "unique       933\n",
       "top        945xx\n",
       "freq       10179\n",
       "Name: zip_code, dtype: object"
      ]
     },
     "execution_count": 49,
     "metadata": {},
     "output_type": "execute_result"
    }
   ],
   "source": [
    "loans['zip_code'].describe()"
   ]
  },
  {
   "cell_type": "code",
   "execution_count": 50,
   "metadata": {
    "scrolled": true
   },
   "outputs": [
    {
     "data": {
      "text/plain": [
       "945xx    10179\n",
       "750xx     9540\n",
       "112xx     9030\n",
       "606xx     8165\n",
       "300xx     7811\n",
       "Name: zip_code, dtype: int64"
      ]
     },
     "execution_count": 50,
     "metadata": {},
     "output_type": "execute_result"
    }
   ],
   "source": [
    "loans['zip_code'].value_counts().head()"
   ]
  },
  {
   "cell_type": "code",
   "execution_count": 51,
   "metadata": {},
   "outputs": [],
   "source": [
    "loans = loans.drop('zip_code', axis=1)"
   ]
  },
  {
   "cell_type": "markdown",
   "metadata": {},
   "source": [
    "__addr_state__:"
   ]
  },
  {
   "cell_type": "code",
   "execution_count": 52,
   "metadata": {},
   "outputs": [
    {
     "data": {
      "text/plain": [
       "count     879633\n",
       "unique        51\n",
       "top           CA\n",
       "freq      133038\n",
       "Name: addr_state, dtype: object"
      ]
     },
     "execution_count": 52,
     "metadata": {},
     "output_type": "execute_result"
    }
   ],
   "source": [
    "loans['addr_state'].describe()"
   ]
  },
  {
   "cell_type": "code",
   "execution_count": 53,
   "metadata": {},
   "outputs": [
    {
     "data": {
      "text/plain": [
       "CA    133038\n",
       "NY     71929\n",
       "TX     70740\n",
       "FL     61854\n",
       "IL     33406\n",
       "Name: addr_state, dtype: int64"
      ]
     },
     "execution_count": 53,
     "metadata": {},
     "output_type": "execute_result"
    }
   ],
   "source": [
    "loans['addr_state'].value_counts().head()"
   ]
  },
  {
   "cell_type": "code",
   "execution_count": 54,
   "metadata": {},
   "outputs": [],
   "source": [
    "loans = loans.drop('addr_state', axis = 1)"
   ]
  },
  {
   "cell_type": "code",
   "execution_count": 55,
   "metadata": {},
   "outputs": [],
   "source": [
    "categorical_variables = ['term', 'grade', 'emp_length', 'home_ownership', 'application_type']"
   ]
  },
  {
   "cell_type": "code",
   "execution_count": 56,
   "metadata": {},
   "outputs": [
    {
     "data": {
      "text/html": [
       "<div>\n",
       "<style scoped>\n",
       "    .dataframe tbody tr th:only-of-type {\n",
       "        vertical-align: middle;\n",
       "    }\n",
       "\n",
       "    .dataframe tbody tr th {\n",
       "        vertical-align: top;\n",
       "    }\n",
       "\n",
       "    .dataframe thead th {\n",
       "        text-align: right;\n",
       "    }\n",
       "</style>\n",
       "<table border=\"1\" class=\"dataframe\">\n",
       "  <thead>\n",
       "    <tr style=\"text-align: right;\">\n",
       "      <th></th>\n",
       "      <th>term</th>\n",
       "      <th>grade</th>\n",
       "      <th>emp_length</th>\n",
       "      <th>home_ownership</th>\n",
       "      <th>application_type</th>\n",
       "    </tr>\n",
       "  </thead>\n",
       "  <tbody>\n",
       "    <tr>\n",
       "      <th>count</th>\n",
       "      <td>879633</td>\n",
       "      <td>879633</td>\n",
       "      <td>833358</td>\n",
       "      <td>879633</td>\n",
       "      <td>879633</td>\n",
       "    </tr>\n",
       "    <tr>\n",
       "      <th>unique</th>\n",
       "      <td>2</td>\n",
       "      <td>7</td>\n",
       "      <td>11</td>\n",
       "      <td>6</td>\n",
       "      <td>2</td>\n",
       "    </tr>\n",
       "    <tr>\n",
       "      <th>top</th>\n",
       "      <td>36 months</td>\n",
       "      <td>B</td>\n",
       "      <td>10+ years</td>\n",
       "      <td>MORTGAGE</td>\n",
       "      <td>Individual</td>\n",
       "    </tr>\n",
       "    <tr>\n",
       "      <th>freq</th>\n",
       "      <td>668168</td>\n",
       "      <td>253784</td>\n",
       "      <td>285774</td>\n",
       "      <td>437718</td>\n",
       "      <td>874543</td>\n",
       "    </tr>\n",
       "  </tbody>\n",
       "</table>\n",
       "</div>"
      ],
      "text/plain": [
       "              term   grade emp_length home_ownership application_type\n",
       "count       879633  879633     833358         879633           879633\n",
       "unique           2       7         11              6                2\n",
       "top      36 months       B  10+ years       MORTGAGE       Individual\n",
       "freq        668168  253784     285774         437718           874543"
      ]
     },
     "execution_count": 56,
     "metadata": {},
     "output_type": "execute_result"
    }
   ],
   "source": [
    "loans[categorical_variables].describe()"
   ]
  },
  {
   "cell_type": "markdown",
   "metadata": {},
   "source": [
    "__issue_d__"
   ]
  },
  {
   "cell_type": "markdown",
   "metadata": {},
   "source": [
    "We have just one date variable, `issue_d`. We are only interested in the year of the loan and we will consider it as categorical variable:"
   ]
  },
  {
   "cell_type": "code",
   "execution_count": 57,
   "metadata": {},
   "outputs": [],
   "source": [
    "loans['issue_d'] = loans['issue_d'].map(lambda x: x[4:])"
   ]
  },
  {
   "cell_type": "code",
   "execution_count": 58,
   "metadata": {},
   "outputs": [
    {
     "data": {
      "text/plain": [
       "count     879633\n",
       "unique        11\n",
       "top         2015\n",
       "freq      245033\n",
       "Name: issue_d, dtype: object"
      ]
     },
     "execution_count": 58,
     "metadata": {},
     "output_type": "execute_result"
    }
   ],
   "source": [
    "loans['issue_d'].describe()"
   ]
  },
  {
   "cell_type": "code",
   "execution_count": 59,
   "metadata": {},
   "outputs": [],
   "source": [
    "loans = loans.drop('issue_d', axis = 1)"
   ]
  },
  {
   "cell_type": "code",
   "execution_count": 60,
   "metadata": {},
   "outputs": [
    {
     "data": {
      "text/html": [
       "<div>\n",
       "<style scoped>\n",
       "    .dataframe tbody tr th:only-of-type {\n",
       "        vertical-align: middle;\n",
       "    }\n",
       "\n",
       "    .dataframe tbody tr th {\n",
       "        vertical-align: top;\n",
       "    }\n",
       "\n",
       "    .dataframe thead th {\n",
       "        text-align: right;\n",
       "    }\n",
       "</style>\n",
       "<table border=\"1\" class=\"dataframe\">\n",
       "  <thead>\n",
       "    <tr style=\"text-align: right;\">\n",
       "      <th></th>\n",
       "      <th>funded_amnt_inv</th>\n",
       "      <th>term</th>\n",
       "      <th>installment</th>\n",
       "      <th>int_rate</th>\n",
       "      <th>grade</th>\n",
       "      <th>emp_length</th>\n",
       "      <th>annual_inc</th>\n",
       "      <th>dti</th>\n",
       "      <th>home_ownership</th>\n",
       "      <th>total_rec_late_fee</th>\n",
       "      <th>application_type</th>\n",
       "      <th>total_acc</th>\n",
       "      <th>loan_status</th>\n",
       "      <th>manager</th>\n",
       "      <th>refinance</th>\n",
       "    </tr>\n",
       "  </thead>\n",
       "  <tbody>\n",
       "    <tr>\n",
       "      <th>0</th>\n",
       "      <td>10000.0</td>\n",
       "      <td>60 months</td>\n",
       "      <td>262.34</td>\n",
       "      <td>19.53</td>\n",
       "      <td>D</td>\n",
       "      <td>4 years</td>\n",
       "      <td>52000.0</td>\n",
       "      <td>15.00</td>\n",
       "      <td>OWN</td>\n",
       "      <td>0.0</td>\n",
       "      <td>Individual</td>\n",
       "      <td>12.0</td>\n",
       "      <td>0</td>\n",
       "      <td>0</td>\n",
       "      <td>0</td>\n",
       "    </tr>\n",
       "    <tr>\n",
       "      <th>1</th>\n",
       "      <td>35000.0</td>\n",
       "      <td>60 months</td>\n",
       "      <td>941.96</td>\n",
       "      <td>20.75</td>\n",
       "      <td>E</td>\n",
       "      <td>3 years</td>\n",
       "      <td>85000.0</td>\n",
       "      <td>24.98</td>\n",
       "      <td>MORTGAGE</td>\n",
       "      <td>0.0</td>\n",
       "      <td>Individual</td>\n",
       "      <td>19.0</td>\n",
       "      <td>0</td>\n",
       "      <td>0</td>\n",
       "      <td>1</td>\n",
       "    </tr>\n",
       "    <tr>\n",
       "      <th>5</th>\n",
       "      <td>14400.0</td>\n",
       "      <td>36 months</td>\n",
       "      <td>469.74</td>\n",
       "      <td>10.75</td>\n",
       "      <td>B</td>\n",
       "      <td>10+ years</td>\n",
       "      <td>85000.0</td>\n",
       "      <td>28.11</td>\n",
       "      <td>MORTGAGE</td>\n",
       "      <td>0.0</td>\n",
       "      <td>Individual</td>\n",
       "      <td>33.0</td>\n",
       "      <td>0</td>\n",
       "      <td>0</td>\n",
       "      <td>0</td>\n",
       "    </tr>\n",
       "    <tr>\n",
       "      <th>6</th>\n",
       "      <td>18000.0</td>\n",
       "      <td>60 months</td>\n",
       "      <td>400.31</td>\n",
       "      <td>11.99</td>\n",
       "      <td>C</td>\n",
       "      <td>6 years</td>\n",
       "      <td>100000.0</td>\n",
       "      <td>20.41</td>\n",
       "      <td>MORTGAGE</td>\n",
       "      <td>0.0</td>\n",
       "      <td>Individual</td>\n",
       "      <td>40.0</td>\n",
       "      <td>0</td>\n",
       "      <td>0</td>\n",
       "      <td>1</td>\n",
       "    </tr>\n",
       "    <tr>\n",
       "      <th>10</th>\n",
       "      <td>7250.0</td>\n",
       "      <td>36 months</td>\n",
       "      <td>246.63</td>\n",
       "      <td>13.67</td>\n",
       "      <td>C</td>\n",
       "      <td>3 years</td>\n",
       "      <td>72000.0</td>\n",
       "      <td>23.93</td>\n",
       "      <td>MORTGAGE</td>\n",
       "      <td>0.0</td>\n",
       "      <td>Individual</td>\n",
       "      <td>24.0</td>\n",
       "      <td>0</td>\n",
       "      <td>0</td>\n",
       "      <td>1</td>\n",
       "    </tr>\n",
       "  </tbody>\n",
       "</table>\n",
       "</div>"
      ],
      "text/plain": [
       "    funded_amnt_inv        term  installment  int_rate grade emp_length  \\\n",
       "0           10000.0   60 months       262.34     19.53     D    4 years   \n",
       "1           35000.0   60 months       941.96     20.75     E    3 years   \n",
       "5           14400.0   36 months       469.74     10.75     B  10+ years   \n",
       "6           18000.0   60 months       400.31     11.99     C    6 years   \n",
       "10           7250.0   36 months       246.63     13.67     C    3 years   \n",
       "\n",
       "    annual_inc    dti home_ownership  total_rec_late_fee application_type  \\\n",
       "0      52000.0  15.00            OWN                 0.0       Individual   \n",
       "1      85000.0  24.98       MORTGAGE                 0.0       Individual   \n",
       "5      85000.0  28.11       MORTGAGE                 0.0       Individual   \n",
       "6     100000.0  20.41       MORTGAGE                 0.0       Individual   \n",
       "10     72000.0  23.93       MORTGAGE                 0.0       Individual   \n",
       "\n",
       "    total_acc  loan_status  manager  refinance  \n",
       "0        12.0            0        0          0  \n",
       "1        19.0            0        0          1  \n",
       "5        33.0            0        0          0  \n",
       "6        40.0            0        0          1  \n",
       "10       24.0            0        0          1  "
      ]
     },
     "execution_count": 60,
     "metadata": {},
     "output_type": "execute_result"
    }
   ],
   "source": [
    "loans.head()"
   ]
  },
  {
   "cell_type": "code",
   "execution_count": 61,
   "metadata": {},
   "outputs": [
    {
     "data": {
      "text/plain": [
       "(879633, 15)"
      ]
     },
     "execution_count": 61,
     "metadata": {},
     "output_type": "execute_result"
    }
   ],
   "source": [
    "loans.shape"
   ]
  },
  {
   "cell_type": "code",
   "execution_count": 62,
   "metadata": {},
   "outputs": [
    {
     "data": {
      "text/plain": [
       "funded_amnt_inv           0\n",
       "term                      0\n",
       "installment               0\n",
       "int_rate                  0\n",
       "grade                     0\n",
       "emp_length            46275\n",
       "annual_inc                0\n",
       "dti                       0\n",
       "home_ownership            0\n",
       "total_rec_late_fee        0\n",
       "application_type          0\n",
       "total_acc                 0\n",
       "loan_status               0\n",
       "manager                   0\n",
       "refinance                 0\n",
       "dtype: int64"
      ]
     },
     "execution_count": 62,
     "metadata": {},
     "output_type": "execute_result"
    }
   ],
   "source": [
    "loans.isnull().sum()"
   ]
  },
  {
   "cell_type": "code",
   "execution_count": 63,
   "metadata": {},
   "outputs": [],
   "source": [
    "loans = loans.fillna(method = 'ffill')"
   ]
  },
  {
   "cell_type": "code",
   "execution_count": 64,
   "metadata": {},
   "outputs": [
    {
     "data": {
      "text/plain": [
       "funded_amnt_inv       0\n",
       "term                  0\n",
       "installment           0\n",
       "int_rate              0\n",
       "grade                 0\n",
       "emp_length            0\n",
       "annual_inc            0\n",
       "dti                   0\n",
       "home_ownership        0\n",
       "total_rec_late_fee    0\n",
       "application_type      0\n",
       "total_acc             0\n",
       "loan_status           0\n",
       "manager               0\n",
       "refinance             0\n",
       "dtype: int64"
      ]
     },
     "execution_count": 64,
     "metadata": {},
     "output_type": "execute_result"
    }
   ],
   "source": [
    "loans.isnull().sum()"
   ]
  },
  {
   "cell_type": "code",
   "execution_count": 65,
   "metadata": {},
   "outputs": [],
   "source": [
    "loans = pd.get_dummies(loans, columns = categorical_variables)"
   ]
  },
  {
   "cell_type": "markdown",
   "metadata": {},
   "source": [
    "### 04 - Final Data "
   ]
  },
  {
   "cell_type": "code",
   "execution_count": 66,
   "metadata": {},
   "outputs": [
    {
     "data": {
      "text/html": [
       "<div>\n",
       "<style scoped>\n",
       "    .dataframe tbody tr th:only-of-type {\n",
       "        vertical-align: middle;\n",
       "    }\n",
       "\n",
       "    .dataframe tbody tr th {\n",
       "        vertical-align: top;\n",
       "    }\n",
       "\n",
       "    .dataframe thead th {\n",
       "        text-align: right;\n",
       "    }\n",
       "</style>\n",
       "<table border=\"1\" class=\"dataframe\">\n",
       "  <thead>\n",
       "    <tr style=\"text-align: right;\">\n",
       "      <th></th>\n",
       "      <th>funded_amnt_inv</th>\n",
       "      <th>installment</th>\n",
       "      <th>int_rate</th>\n",
       "      <th>annual_inc</th>\n",
       "      <th>dti</th>\n",
       "      <th>total_rec_late_fee</th>\n",
       "      <th>total_acc</th>\n",
       "      <th>loan_status</th>\n",
       "      <th>manager</th>\n",
       "      <th>refinance</th>\n",
       "      <th>...</th>\n",
       "      <th>emp_length_9 years</th>\n",
       "      <th>emp_length_&lt; 1 year</th>\n",
       "      <th>home_ownership_ANY</th>\n",
       "      <th>home_ownership_MORTGAGE</th>\n",
       "      <th>home_ownership_NONE</th>\n",
       "      <th>home_ownership_OTHER</th>\n",
       "      <th>home_ownership_OWN</th>\n",
       "      <th>home_ownership_RENT</th>\n",
       "      <th>application_type_Individual</th>\n",
       "      <th>application_type_Joint App</th>\n",
       "    </tr>\n",
       "  </thead>\n",
       "  <tbody>\n",
       "    <tr>\n",
       "      <th>0</th>\n",
       "      <td>10000.0</td>\n",
       "      <td>262.34</td>\n",
       "      <td>19.53</td>\n",
       "      <td>52000.0</td>\n",
       "      <td>15.00</td>\n",
       "      <td>0.0</td>\n",
       "      <td>12.0</td>\n",
       "      <td>0</td>\n",
       "      <td>0</td>\n",
       "      <td>0</td>\n",
       "      <td>...</td>\n",
       "      <td>0</td>\n",
       "      <td>0</td>\n",
       "      <td>0</td>\n",
       "      <td>0</td>\n",
       "      <td>0</td>\n",
       "      <td>0</td>\n",
       "      <td>1</td>\n",
       "      <td>0</td>\n",
       "      <td>1</td>\n",
       "      <td>0</td>\n",
       "    </tr>\n",
       "    <tr>\n",
       "      <th>1</th>\n",
       "      <td>35000.0</td>\n",
       "      <td>941.96</td>\n",
       "      <td>20.75</td>\n",
       "      <td>85000.0</td>\n",
       "      <td>24.98</td>\n",
       "      <td>0.0</td>\n",
       "      <td>19.0</td>\n",
       "      <td>0</td>\n",
       "      <td>0</td>\n",
       "      <td>1</td>\n",
       "      <td>...</td>\n",
       "      <td>0</td>\n",
       "      <td>0</td>\n",
       "      <td>0</td>\n",
       "      <td>1</td>\n",
       "      <td>0</td>\n",
       "      <td>0</td>\n",
       "      <td>0</td>\n",
       "      <td>0</td>\n",
       "      <td>1</td>\n",
       "      <td>0</td>\n",
       "    </tr>\n",
       "    <tr>\n",
       "      <th>5</th>\n",
       "      <td>14400.0</td>\n",
       "      <td>469.74</td>\n",
       "      <td>10.75</td>\n",
       "      <td>85000.0</td>\n",
       "      <td>28.11</td>\n",
       "      <td>0.0</td>\n",
       "      <td>33.0</td>\n",
       "      <td>0</td>\n",
       "      <td>0</td>\n",
       "      <td>0</td>\n",
       "      <td>...</td>\n",
       "      <td>0</td>\n",
       "      <td>0</td>\n",
       "      <td>0</td>\n",
       "      <td>1</td>\n",
       "      <td>0</td>\n",
       "      <td>0</td>\n",
       "      <td>0</td>\n",
       "      <td>0</td>\n",
       "      <td>1</td>\n",
       "      <td>0</td>\n",
       "    </tr>\n",
       "    <tr>\n",
       "      <th>6</th>\n",
       "      <td>18000.0</td>\n",
       "      <td>400.31</td>\n",
       "      <td>11.99</td>\n",
       "      <td>100000.0</td>\n",
       "      <td>20.41</td>\n",
       "      <td>0.0</td>\n",
       "      <td>40.0</td>\n",
       "      <td>0</td>\n",
       "      <td>0</td>\n",
       "      <td>1</td>\n",
       "      <td>...</td>\n",
       "      <td>0</td>\n",
       "      <td>0</td>\n",
       "      <td>0</td>\n",
       "      <td>1</td>\n",
       "      <td>0</td>\n",
       "      <td>0</td>\n",
       "      <td>0</td>\n",
       "      <td>0</td>\n",
       "      <td>1</td>\n",
       "      <td>0</td>\n",
       "    </tr>\n",
       "    <tr>\n",
       "      <th>10</th>\n",
       "      <td>7250.0</td>\n",
       "      <td>246.63</td>\n",
       "      <td>13.67</td>\n",
       "      <td>72000.0</td>\n",
       "      <td>23.93</td>\n",
       "      <td>0.0</td>\n",
       "      <td>24.0</td>\n",
       "      <td>0</td>\n",
       "      <td>0</td>\n",
       "      <td>1</td>\n",
       "      <td>...</td>\n",
       "      <td>0</td>\n",
       "      <td>0</td>\n",
       "      <td>0</td>\n",
       "      <td>1</td>\n",
       "      <td>0</td>\n",
       "      <td>0</td>\n",
       "      <td>0</td>\n",
       "      <td>0</td>\n",
       "      <td>1</td>\n",
       "      <td>0</td>\n",
       "    </tr>\n",
       "  </tbody>\n",
       "</table>\n",
       "<p>5 rows × 38 columns</p>\n",
       "</div>"
      ],
      "text/plain": [
       "    funded_amnt_inv  installment  int_rate  annual_inc    dti  \\\n",
       "0           10000.0       262.34     19.53     52000.0  15.00   \n",
       "1           35000.0       941.96     20.75     85000.0  24.98   \n",
       "5           14400.0       469.74     10.75     85000.0  28.11   \n",
       "6           18000.0       400.31     11.99    100000.0  20.41   \n",
       "10           7250.0       246.63     13.67     72000.0  23.93   \n",
       "\n",
       "    total_rec_late_fee  total_acc  loan_status  manager  refinance  \\\n",
       "0                  0.0       12.0            0        0          0   \n",
       "1                  0.0       19.0            0        0          1   \n",
       "5                  0.0       33.0            0        0          0   \n",
       "6                  0.0       40.0            0        0          1   \n",
       "10                 0.0       24.0            0        0          1   \n",
       "\n",
       "               ...              emp_length_9 years  emp_length_< 1 year  \\\n",
       "0              ...                               0                    0   \n",
       "1              ...                               0                    0   \n",
       "5              ...                               0                    0   \n",
       "6              ...                               0                    0   \n",
       "10             ...                               0                    0   \n",
       "\n",
       "    home_ownership_ANY  home_ownership_MORTGAGE  home_ownership_NONE  \\\n",
       "0                    0                        0                    0   \n",
       "1                    0                        1                    0   \n",
       "5                    0                        1                    0   \n",
       "6                    0                        1                    0   \n",
       "10                   0                        1                    0   \n",
       "\n",
       "    home_ownership_OTHER  home_ownership_OWN  home_ownership_RENT  \\\n",
       "0                      0                   1                    0   \n",
       "1                      0                   0                    0   \n",
       "5                      0                   0                    0   \n",
       "6                      0                   0                    0   \n",
       "10                     0                   0                    0   \n",
       "\n",
       "    application_type_Individual  application_type_Joint App  \n",
       "0                             1                           0  \n",
       "1                             1                           0  \n",
       "5                             1                           0  \n",
       "6                             1                           0  \n",
       "10                            1                           0  \n",
       "\n",
       "[5 rows x 38 columns]"
      ]
     },
     "execution_count": 66,
     "metadata": {},
     "output_type": "execute_result"
    }
   ],
   "source": [
    "loans.head()"
   ]
  },
  {
   "cell_type": "code",
   "execution_count": 67,
   "metadata": {},
   "outputs": [],
   "source": [
    "loans['non_payment'] = loans['loan_status']"
   ]
  },
  {
   "cell_type": "code",
   "execution_count": 68,
   "metadata": {},
   "outputs": [],
   "source": [
    "loans = loans.drop('loan_status', axis = 1)"
   ]
  },
  {
   "cell_type": "code",
   "execution_count": 69,
   "metadata": {},
   "outputs": [
    {
     "data": {
      "text/html": [
       "<div>\n",
       "<style scoped>\n",
       "    .dataframe tbody tr th:only-of-type {\n",
       "        vertical-align: middle;\n",
       "    }\n",
       "\n",
       "    .dataframe tbody tr th {\n",
       "        vertical-align: top;\n",
       "    }\n",
       "\n",
       "    .dataframe thead th {\n",
       "        text-align: right;\n",
       "    }\n",
       "</style>\n",
       "<table border=\"1\" class=\"dataframe\">\n",
       "  <thead>\n",
       "    <tr style=\"text-align: right;\">\n",
       "      <th></th>\n",
       "      <th>funded_amnt_inv</th>\n",
       "      <th>installment</th>\n",
       "      <th>int_rate</th>\n",
       "      <th>annual_inc</th>\n",
       "      <th>dti</th>\n",
       "      <th>total_rec_late_fee</th>\n",
       "      <th>total_acc</th>\n",
       "      <th>manager</th>\n",
       "      <th>refinance</th>\n",
       "      <th>term_ 36 months</th>\n",
       "      <th>...</th>\n",
       "      <th>emp_length_&lt; 1 year</th>\n",
       "      <th>home_ownership_ANY</th>\n",
       "      <th>home_ownership_MORTGAGE</th>\n",
       "      <th>home_ownership_NONE</th>\n",
       "      <th>home_ownership_OTHER</th>\n",
       "      <th>home_ownership_OWN</th>\n",
       "      <th>home_ownership_RENT</th>\n",
       "      <th>application_type_Individual</th>\n",
       "      <th>application_type_Joint App</th>\n",
       "      <th>non_payment</th>\n",
       "    </tr>\n",
       "  </thead>\n",
       "  <tbody>\n",
       "    <tr>\n",
       "      <th>0</th>\n",
       "      <td>10000.0</td>\n",
       "      <td>262.34</td>\n",
       "      <td>19.53</td>\n",
       "      <td>52000.0</td>\n",
       "      <td>15.00</td>\n",
       "      <td>0.0</td>\n",
       "      <td>12.0</td>\n",
       "      <td>0</td>\n",
       "      <td>0</td>\n",
       "      <td>0</td>\n",
       "      <td>...</td>\n",
       "      <td>0</td>\n",
       "      <td>0</td>\n",
       "      <td>0</td>\n",
       "      <td>0</td>\n",
       "      <td>0</td>\n",
       "      <td>1</td>\n",
       "      <td>0</td>\n",
       "      <td>1</td>\n",
       "      <td>0</td>\n",
       "      <td>0</td>\n",
       "    </tr>\n",
       "    <tr>\n",
       "      <th>1</th>\n",
       "      <td>35000.0</td>\n",
       "      <td>941.96</td>\n",
       "      <td>20.75</td>\n",
       "      <td>85000.0</td>\n",
       "      <td>24.98</td>\n",
       "      <td>0.0</td>\n",
       "      <td>19.0</td>\n",
       "      <td>0</td>\n",
       "      <td>1</td>\n",
       "      <td>0</td>\n",
       "      <td>...</td>\n",
       "      <td>0</td>\n",
       "      <td>0</td>\n",
       "      <td>1</td>\n",
       "      <td>0</td>\n",
       "      <td>0</td>\n",
       "      <td>0</td>\n",
       "      <td>0</td>\n",
       "      <td>1</td>\n",
       "      <td>0</td>\n",
       "      <td>0</td>\n",
       "    </tr>\n",
       "    <tr>\n",
       "      <th>5</th>\n",
       "      <td>14400.0</td>\n",
       "      <td>469.74</td>\n",
       "      <td>10.75</td>\n",
       "      <td>85000.0</td>\n",
       "      <td>28.11</td>\n",
       "      <td>0.0</td>\n",
       "      <td>33.0</td>\n",
       "      <td>0</td>\n",
       "      <td>0</td>\n",
       "      <td>1</td>\n",
       "      <td>...</td>\n",
       "      <td>0</td>\n",
       "      <td>0</td>\n",
       "      <td>1</td>\n",
       "      <td>0</td>\n",
       "      <td>0</td>\n",
       "      <td>0</td>\n",
       "      <td>0</td>\n",
       "      <td>1</td>\n",
       "      <td>0</td>\n",
       "      <td>0</td>\n",
       "    </tr>\n",
       "    <tr>\n",
       "      <th>6</th>\n",
       "      <td>18000.0</td>\n",
       "      <td>400.31</td>\n",
       "      <td>11.99</td>\n",
       "      <td>100000.0</td>\n",
       "      <td>20.41</td>\n",
       "      <td>0.0</td>\n",
       "      <td>40.0</td>\n",
       "      <td>0</td>\n",
       "      <td>1</td>\n",
       "      <td>0</td>\n",
       "      <td>...</td>\n",
       "      <td>0</td>\n",
       "      <td>0</td>\n",
       "      <td>1</td>\n",
       "      <td>0</td>\n",
       "      <td>0</td>\n",
       "      <td>0</td>\n",
       "      <td>0</td>\n",
       "      <td>1</td>\n",
       "      <td>0</td>\n",
       "      <td>0</td>\n",
       "    </tr>\n",
       "    <tr>\n",
       "      <th>10</th>\n",
       "      <td>7250.0</td>\n",
       "      <td>246.63</td>\n",
       "      <td>13.67</td>\n",
       "      <td>72000.0</td>\n",
       "      <td>23.93</td>\n",
       "      <td>0.0</td>\n",
       "      <td>24.0</td>\n",
       "      <td>0</td>\n",
       "      <td>1</td>\n",
       "      <td>1</td>\n",
       "      <td>...</td>\n",
       "      <td>0</td>\n",
       "      <td>0</td>\n",
       "      <td>1</td>\n",
       "      <td>0</td>\n",
       "      <td>0</td>\n",
       "      <td>0</td>\n",
       "      <td>0</td>\n",
       "      <td>1</td>\n",
       "      <td>0</td>\n",
       "      <td>0</td>\n",
       "    </tr>\n",
       "  </tbody>\n",
       "</table>\n",
       "<p>5 rows × 38 columns</p>\n",
       "</div>"
      ],
      "text/plain": [
       "    funded_amnt_inv  installment  int_rate  annual_inc    dti  \\\n",
       "0           10000.0       262.34     19.53     52000.0  15.00   \n",
       "1           35000.0       941.96     20.75     85000.0  24.98   \n",
       "5           14400.0       469.74     10.75     85000.0  28.11   \n",
       "6           18000.0       400.31     11.99    100000.0  20.41   \n",
       "10           7250.0       246.63     13.67     72000.0  23.93   \n",
       "\n",
       "    total_rec_late_fee  total_acc  manager  refinance  term_ 36 months  \\\n",
       "0                  0.0       12.0        0          0                0   \n",
       "1                  0.0       19.0        0          1                0   \n",
       "5                  0.0       33.0        0          0                1   \n",
       "6                  0.0       40.0        0          1                0   \n",
       "10                 0.0       24.0        0          1                1   \n",
       "\n",
       "       ...       emp_length_< 1 year  home_ownership_ANY  \\\n",
       "0      ...                         0                   0   \n",
       "1      ...                         0                   0   \n",
       "5      ...                         0                   0   \n",
       "6      ...                         0                   0   \n",
       "10     ...                         0                   0   \n",
       "\n",
       "    home_ownership_MORTGAGE  home_ownership_NONE  home_ownership_OTHER  \\\n",
       "0                         0                    0                     0   \n",
       "1                         1                    0                     0   \n",
       "5                         1                    0                     0   \n",
       "6                         1                    0                     0   \n",
       "10                        1                    0                     0   \n",
       "\n",
       "    home_ownership_OWN  home_ownership_RENT  application_type_Individual  \\\n",
       "0                    1                    0                            1   \n",
       "1                    0                    0                            1   \n",
       "5                    0                    0                            1   \n",
       "6                    0                    0                            1   \n",
       "10                   0                    0                            1   \n",
       "\n",
       "    application_type_Joint App  non_payment  \n",
       "0                            0            0  \n",
       "1                            0            0  \n",
       "5                            0            0  \n",
       "6                            0            0  \n",
       "10                           0            0  \n",
       "\n",
       "[5 rows x 38 columns]"
      ]
     },
     "execution_count": 69,
     "metadata": {},
     "output_type": "execute_result"
    }
   ],
   "source": [
    "loans.head()"
   ]
  },
  {
   "cell_type": "code",
   "execution_count": 70,
   "metadata": {},
   "outputs": [
    {
     "data": {
      "text/plain": [
       "(879633, 38)"
      ]
     },
     "execution_count": 70,
     "metadata": {},
     "output_type": "execute_result"
    }
   ],
   "source": [
    "loans.shape"
   ]
  },
  {
   "cell_type": "code",
   "execution_count": 71,
   "metadata": {},
   "outputs": [
    {
     "data": {
      "text/plain": [
       "funded_amnt_inv                float64\n",
       "installment                    float64\n",
       "int_rate                       float64\n",
       "annual_inc                     float64\n",
       "dti                            float64\n",
       "total_rec_late_fee             float64\n",
       "total_acc                      float64\n",
       "manager                          int64\n",
       "refinance                        int64\n",
       "term_ 36 months                  uint8\n",
       "term_ 60 months                  uint8\n",
       "grade_A                          uint8\n",
       "grade_B                          uint8\n",
       "grade_C                          uint8\n",
       "grade_D                          uint8\n",
       "grade_E                          uint8\n",
       "grade_F                          uint8\n",
       "grade_G                          uint8\n",
       "emp_length_1 year                uint8\n",
       "emp_length_10+ years             uint8\n",
       "emp_length_2 years               uint8\n",
       "emp_length_3 years               uint8\n",
       "emp_length_4 years               uint8\n",
       "emp_length_5 years               uint8\n",
       "emp_length_6 years               uint8\n",
       "emp_length_7 years               uint8\n",
       "emp_length_8 years               uint8\n",
       "emp_length_9 years               uint8\n",
       "emp_length_< 1 year              uint8\n",
       "home_ownership_ANY               uint8\n",
       "home_ownership_MORTGAGE          uint8\n",
       "home_ownership_NONE              uint8\n",
       "home_ownership_OTHER             uint8\n",
       "home_ownership_OWN               uint8\n",
       "home_ownership_RENT              uint8\n",
       "application_type_Individual      uint8\n",
       "application_type_Joint App       uint8\n",
       "non_payment                      int64\n",
       "dtype: object"
      ]
     },
     "execution_count": 71,
     "metadata": {},
     "output_type": "execute_result"
    }
   ],
   "source": [
    "loans.dtypes"
   ]
  },
  {
   "cell_type": "code",
   "execution_count": 72,
   "metadata": {},
   "outputs": [
    {
     "data": {
      "text/html": [
       "<div>\n",
       "<style scoped>\n",
       "    .dataframe tbody tr th:only-of-type {\n",
       "        vertical-align: middle;\n",
       "    }\n",
       "\n",
       "    .dataframe tbody tr th {\n",
       "        vertical-align: top;\n",
       "    }\n",
       "\n",
       "    .dataframe thead th {\n",
       "        text-align: right;\n",
       "    }\n",
       "</style>\n",
       "<table border=\"1\" class=\"dataframe\">\n",
       "  <thead>\n",
       "    <tr style=\"text-align: right;\">\n",
       "      <th></th>\n",
       "      <th>funded_amnt_inv</th>\n",
       "      <th>installment</th>\n",
       "      <th>int_rate</th>\n",
       "      <th>annual_inc</th>\n",
       "      <th>dti</th>\n",
       "      <th>total_rec_late_fee</th>\n",
       "      <th>total_acc</th>\n",
       "      <th>manager</th>\n",
       "      <th>refinance</th>\n",
       "      <th>term_ 36 months</th>\n",
       "      <th>...</th>\n",
       "      <th>emp_length_&lt; 1 year</th>\n",
       "      <th>home_ownership_ANY</th>\n",
       "      <th>home_ownership_MORTGAGE</th>\n",
       "      <th>home_ownership_NONE</th>\n",
       "      <th>home_ownership_OTHER</th>\n",
       "      <th>home_ownership_OWN</th>\n",
       "      <th>home_ownership_RENT</th>\n",
       "      <th>application_type_Individual</th>\n",
       "      <th>application_type_Joint App</th>\n",
       "      <th>non_payment</th>\n",
       "    </tr>\n",
       "  </thead>\n",
       "  <tbody>\n",
       "    <tr>\n",
       "      <th>count</th>\n",
       "      <td>879633.000000</td>\n",
       "      <td>879633.000000</td>\n",
       "      <td>879633.000000</td>\n",
       "      <td>8.796330e+05</td>\n",
       "      <td>879633.000000</td>\n",
       "      <td>8.796330e+05</td>\n",
       "      <td>879633.000000</td>\n",
       "      <td>879633.000000</td>\n",
       "      <td>879633.000000</td>\n",
       "      <td>879633.000000</td>\n",
       "      <td>...</td>\n",
       "      <td>879633.000000</td>\n",
       "      <td>879633.000000</td>\n",
       "      <td>879633.000000</td>\n",
       "      <td>879633.000000</td>\n",
       "      <td>879633.000000</td>\n",
       "      <td>879633.000000</td>\n",
       "      <td>879633.000000</td>\n",
       "      <td>879633.000000</td>\n",
       "      <td>879633.000000</td>\n",
       "      <td>879633.000000</td>\n",
       "    </tr>\n",
       "    <tr>\n",
       "      <th>mean</th>\n",
       "      <td>14171.467904</td>\n",
       "      <td>433.270098</td>\n",
       "      <td>13.427911</td>\n",
       "      <td>7.509570e+04</td>\n",
       "      <td>17.917697</td>\n",
       "      <td>9.813336e-01</td>\n",
       "      <td>25.353891</td>\n",
       "      <td>0.129146</td>\n",
       "      <td>0.753212</td>\n",
       "      <td>0.759599</td>\n",
       "      <td>...</td>\n",
       "      <td>0.083960</td>\n",
       "      <td>0.000126</td>\n",
       "      <td>0.497614</td>\n",
       "      <td>0.000058</td>\n",
       "      <td>0.000207</td>\n",
       "      <td>0.102174</td>\n",
       "      <td>0.399820</td>\n",
       "      <td>0.994213</td>\n",
       "      <td>0.005787</td>\n",
       "      <td>0.205928</td>\n",
       "    </tr>\n",
       "    <tr>\n",
       "      <th>std</th>\n",
       "      <td>8438.078920</td>\n",
       "      <td>252.202513</td>\n",
       "      <td>4.601170</td>\n",
       "      <td>6.476558e+04</td>\n",
       "      <td>9.076180</td>\n",
       "      <td>6.721550e+00</td>\n",
       "      <td>11.980568</td>\n",
       "      <td>0.335362</td>\n",
       "      <td>0.431143</td>\n",
       "      <td>0.427327</td>\n",
       "      <td>...</td>\n",
       "      <td>0.277328</td>\n",
       "      <td>0.011233</td>\n",
       "      <td>0.499995</td>\n",
       "      <td>0.007614</td>\n",
       "      <td>0.014383</td>\n",
       "      <td>0.302878</td>\n",
       "      <td>0.489861</td>\n",
       "      <td>0.075849</td>\n",
       "      <td>0.075849</td>\n",
       "      <td>0.404378</td>\n",
       "    </tr>\n",
       "    <tr>\n",
       "      <th>min</th>\n",
       "      <td>0.000000</td>\n",
       "      <td>4.930000</td>\n",
       "      <td>5.320000</td>\n",
       "      <td>0.000000e+00</td>\n",
       "      <td>-1.000000</td>\n",
       "      <td>-5.100000e-09</td>\n",
       "      <td>1.000000</td>\n",
       "      <td>0.000000</td>\n",
       "      <td>0.000000</td>\n",
       "      <td>0.000000</td>\n",
       "      <td>...</td>\n",
       "      <td>0.000000</td>\n",
       "      <td>0.000000</td>\n",
       "      <td>0.000000</td>\n",
       "      <td>0.000000</td>\n",
       "      <td>0.000000</td>\n",
       "      <td>0.000000</td>\n",
       "      <td>0.000000</td>\n",
       "      <td>0.000000</td>\n",
       "      <td>0.000000</td>\n",
       "      <td>0.000000</td>\n",
       "    </tr>\n",
       "    <tr>\n",
       "      <th>25%</th>\n",
       "      <td>7850.000000</td>\n",
       "      <td>250.230000</td>\n",
       "      <td>9.990000</td>\n",
       "      <td>4.500000e+04</td>\n",
       "      <td>11.670000</td>\n",
       "      <td>0.000000e+00</td>\n",
       "      <td>17.000000</td>\n",
       "      <td>0.000000</td>\n",
       "      <td>1.000000</td>\n",
       "      <td>1.000000</td>\n",
       "      <td>...</td>\n",
       "      <td>0.000000</td>\n",
       "      <td>0.000000</td>\n",
       "      <td>0.000000</td>\n",
       "      <td>0.000000</td>\n",
       "      <td>0.000000</td>\n",
       "      <td>0.000000</td>\n",
       "      <td>0.000000</td>\n",
       "      <td>1.000000</td>\n",
       "      <td>0.000000</td>\n",
       "      <td>0.000000</td>\n",
       "    </tr>\n",
       "    <tr>\n",
       "      <th>50%</th>\n",
       "      <td>12000.000000</td>\n",
       "      <td>375.430000</td>\n",
       "      <td>12.990000</td>\n",
       "      <td>6.500000e+04</td>\n",
       "      <td>17.390000</td>\n",
       "      <td>0.000000e+00</td>\n",
       "      <td>24.000000</td>\n",
       "      <td>0.000000</td>\n",
       "      <td>1.000000</td>\n",
       "      <td>1.000000</td>\n",
       "      <td>...</td>\n",
       "      <td>0.000000</td>\n",
       "      <td>0.000000</td>\n",
       "      <td>0.000000</td>\n",
       "      <td>0.000000</td>\n",
       "      <td>0.000000</td>\n",
       "      <td>0.000000</td>\n",
       "      <td>0.000000</td>\n",
       "      <td>1.000000</td>\n",
       "      <td>0.000000</td>\n",
       "      <td>0.000000</td>\n",
       "    </tr>\n",
       "    <tr>\n",
       "      <th>75%</th>\n",
       "      <td>20000.000000</td>\n",
       "      <td>572.720000</td>\n",
       "      <td>16.290000</td>\n",
       "      <td>9.000000e+04</td>\n",
       "      <td>23.680000</td>\n",
       "      <td>0.000000e+00</td>\n",
       "      <td>32.000000</td>\n",
       "      <td>0.000000</td>\n",
       "      <td>1.000000</td>\n",
       "      <td>1.000000</td>\n",
       "      <td>...</td>\n",
       "      <td>0.000000</td>\n",
       "      <td>0.000000</td>\n",
       "      <td>1.000000</td>\n",
       "      <td>0.000000</td>\n",
       "      <td>0.000000</td>\n",
       "      <td>0.000000</td>\n",
       "      <td>1.000000</td>\n",
       "      <td>1.000000</td>\n",
       "      <td>0.000000</td>\n",
       "      <td>0.000000</td>\n",
       "    </tr>\n",
       "    <tr>\n",
       "      <th>max</th>\n",
       "      <td>40000.000000</td>\n",
       "      <td>1506.650000</td>\n",
       "      <td>30.990000</td>\n",
       "      <td>9.550000e+06</td>\n",
       "      <td>999.000000</td>\n",
       "      <td>4.020300e+02</td>\n",
       "      <td>176.000000</td>\n",
       "      <td>1.000000</td>\n",
       "      <td>1.000000</td>\n",
       "      <td>1.000000</td>\n",
       "      <td>...</td>\n",
       "      <td>1.000000</td>\n",
       "      <td>1.000000</td>\n",
       "      <td>1.000000</td>\n",
       "      <td>1.000000</td>\n",
       "      <td>1.000000</td>\n",
       "      <td>1.000000</td>\n",
       "      <td>1.000000</td>\n",
       "      <td>1.000000</td>\n",
       "      <td>1.000000</td>\n",
       "      <td>1.000000</td>\n",
       "    </tr>\n",
       "  </tbody>\n",
       "</table>\n",
       "<p>8 rows × 38 columns</p>\n",
       "</div>"
      ],
      "text/plain": [
       "       funded_amnt_inv    installment       int_rate    annual_inc  \\\n",
       "count    879633.000000  879633.000000  879633.000000  8.796330e+05   \n",
       "mean      14171.467904     433.270098      13.427911  7.509570e+04   \n",
       "std        8438.078920     252.202513       4.601170  6.476558e+04   \n",
       "min           0.000000       4.930000       5.320000  0.000000e+00   \n",
       "25%        7850.000000     250.230000       9.990000  4.500000e+04   \n",
       "50%       12000.000000     375.430000      12.990000  6.500000e+04   \n",
       "75%       20000.000000     572.720000      16.290000  9.000000e+04   \n",
       "max       40000.000000    1506.650000      30.990000  9.550000e+06   \n",
       "\n",
       "                 dti  total_rec_late_fee      total_acc        manager  \\\n",
       "count  879633.000000        8.796330e+05  879633.000000  879633.000000   \n",
       "mean       17.917697        9.813336e-01      25.353891       0.129146   \n",
       "std         9.076180        6.721550e+00      11.980568       0.335362   \n",
       "min        -1.000000       -5.100000e-09       1.000000       0.000000   \n",
       "25%        11.670000        0.000000e+00      17.000000       0.000000   \n",
       "50%        17.390000        0.000000e+00      24.000000       0.000000   \n",
       "75%        23.680000        0.000000e+00      32.000000       0.000000   \n",
       "max       999.000000        4.020300e+02     176.000000       1.000000   \n",
       "\n",
       "           refinance  term_ 36 months      ...        emp_length_< 1 year  \\\n",
       "count  879633.000000    879633.000000      ...              879633.000000   \n",
       "mean        0.753212         0.759599      ...                   0.083960   \n",
       "std         0.431143         0.427327      ...                   0.277328   \n",
       "min         0.000000         0.000000      ...                   0.000000   \n",
       "25%         1.000000         1.000000      ...                   0.000000   \n",
       "50%         1.000000         1.000000      ...                   0.000000   \n",
       "75%         1.000000         1.000000      ...                   0.000000   \n",
       "max         1.000000         1.000000      ...                   1.000000   \n",
       "\n",
       "       home_ownership_ANY  home_ownership_MORTGAGE  home_ownership_NONE  \\\n",
       "count       879633.000000            879633.000000        879633.000000   \n",
       "mean             0.000126                 0.497614             0.000058   \n",
       "std              0.011233                 0.499995             0.007614   \n",
       "min              0.000000                 0.000000             0.000000   \n",
       "25%              0.000000                 0.000000             0.000000   \n",
       "50%              0.000000                 0.000000             0.000000   \n",
       "75%              0.000000                 1.000000             0.000000   \n",
       "max              1.000000                 1.000000             1.000000   \n",
       "\n",
       "       home_ownership_OTHER  home_ownership_OWN  home_ownership_RENT  \\\n",
       "count         879633.000000       879633.000000        879633.000000   \n",
       "mean               0.000207            0.102174             0.399820   \n",
       "std                0.014383            0.302878             0.489861   \n",
       "min                0.000000            0.000000             0.000000   \n",
       "25%                0.000000            0.000000             0.000000   \n",
       "50%                0.000000            0.000000             0.000000   \n",
       "75%                0.000000            0.000000             1.000000   \n",
       "max                1.000000            1.000000             1.000000   \n",
       "\n",
       "       application_type_Individual  application_type_Joint App    non_payment  \n",
       "count                879633.000000               879633.000000  879633.000000  \n",
       "mean                      0.994213                    0.005787       0.205928  \n",
       "std                       0.075849                    0.075849       0.404378  \n",
       "min                       0.000000                    0.000000       0.000000  \n",
       "25%                       1.000000                    0.000000       0.000000  \n",
       "50%                       1.000000                    0.000000       0.000000  \n",
       "75%                       1.000000                    0.000000       0.000000  \n",
       "max                       1.000000                    1.000000       1.000000  \n",
       "\n",
       "[8 rows x 38 columns]"
      ]
     },
     "execution_count": 72,
     "metadata": {},
     "output_type": "execute_result"
    }
   ],
   "source": [
    "loans.describe()"
   ]
  },
  {
   "cell_type": "code",
   "execution_count": 73,
   "metadata": {},
   "outputs": [],
   "source": [
    "loans.to_csv('../data/loans_sample_processed.csv', sep = \"^\", index = False)"
   ]
  }
 ],
 "metadata": {
  "kernelspec": {
   "display_name": "Python 3",
   "language": "python",
   "name": "python3"
  },
  "language_info": {
   "codemirror_mode": {
    "name": "ipython",
    "version": 3
   },
   "file_extension": ".py",
   "mimetype": "text/x-python",
   "name": "python",
   "nbconvert_exporter": "python",
   "pygments_lexer": "ipython3",
   "version": "3.6.4"
  }
 },
 "nbformat": 4,
 "nbformat_minor": 2
}
