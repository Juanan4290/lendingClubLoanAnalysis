{
 "cells": [
  {
   "cell_type": "markdown",
   "metadata": {},
   "source": [
    "Processing Variables For Modeling\n",
    "=================="
   ]
  },
  {
   "cell_type": "code",
   "execution_count": 1,
   "metadata": {},
   "outputs": [],
   "source": [
    "# remove warnings\n",
    "import warnings\n",
    "warnings.filterwarnings('ignore')\n",
    "\n",
    "import numpy as np\n",
    "import pandas as pd\n",
    "\n",
    "import matplotlib.pyplot as plt; plt.style.use(\"ggplot\")\n",
    "\n",
    "from collections import Counter"
   ]
  },
  {
   "cell_type": "code",
   "execution_count": 2,
   "metadata": {},
   "outputs": [],
   "source": [
    "loans = pd.read_csv(\"../data/clean/loans.csv\", sep = \"^\").sample(200000, random_state = 42)"
   ]
  },
  {
   "cell_type": "code",
   "execution_count": 3,
   "metadata": {},
   "outputs": [
    {
     "data": {
      "text/html": [
       "<div>\n",
       "<style scoped>\n",
       "    .dataframe tbody tr th:only-of-type {\n",
       "        vertical-align: middle;\n",
       "    }\n",
       "\n",
       "    .dataframe tbody tr th {\n",
       "        vertical-align: top;\n",
       "    }\n",
       "\n",
       "    .dataframe thead th {\n",
       "        text-align: right;\n",
       "    }\n",
       "</style>\n",
       "<table border=\"1\" class=\"dataframe\">\n",
       "  <thead>\n",
       "    <tr style=\"text-align: right;\">\n",
       "      <th></th>\n",
       "      <th>funded_amnt_inv</th>\n",
       "      <th>term</th>\n",
       "      <th>issue_d</th>\n",
       "      <th>installment</th>\n",
       "      <th>int_rate</th>\n",
       "      <th>grade</th>\n",
       "      <th>emp_title</th>\n",
       "      <th>emp_length</th>\n",
       "      <th>annual_inc</th>\n",
       "      <th>title</th>\n",
       "      <th>dti</th>\n",
       "      <th>home_ownership</th>\n",
       "      <th>zip_code</th>\n",
       "      <th>addr_state</th>\n",
       "      <th>total_rec_late_fee</th>\n",
       "      <th>application_type</th>\n",
       "      <th>total_acc</th>\n",
       "      <th>loan_status</th>\n",
       "    </tr>\n",
       "  </thead>\n",
       "  <tbody>\n",
       "    <tr>\n",
       "      <th>510666</th>\n",
       "      <td>16175.0</td>\n",
       "      <td>36 months</td>\n",
       "      <td>Jan-2017</td>\n",
       "      <td>584.69</td>\n",
       "      <td>17.99%</td>\n",
       "      <td>D</td>\n",
       "      <td>Income-Revenue Specialist</td>\n",
       "      <td>10+ years</td>\n",
       "      <td>32895.0</td>\n",
       "      <td>Home improvement</td>\n",
       "      <td>34.22</td>\n",
       "      <td>OWN</td>\n",
       "      <td>731xx</td>\n",
       "      <td>OK</td>\n",
       "      <td>0.0</td>\n",
       "      <td>Joint App</td>\n",
       "      <td>26.0</td>\n",
       "      <td>Current</td>\n",
       "    </tr>\n",
       "    <tr>\n",
       "      <th>33663</th>\n",
       "      <td>6500.0</td>\n",
       "      <td>36 months</td>\n",
       "      <td>Mar-2016</td>\n",
       "      <td>201.87</td>\n",
       "      <td>7.39%</td>\n",
       "      <td>A</td>\n",
       "      <td>Water Treatment Plant Operator</td>\n",
       "      <td>4 years</td>\n",
       "      <td>62000.0</td>\n",
       "      <td>Car financing</td>\n",
       "      <td>8.96</td>\n",
       "      <td>RENT</td>\n",
       "      <td>147xx</td>\n",
       "      <td>NY</td>\n",
       "      <td>0.0</td>\n",
       "      <td>Individual</td>\n",
       "      <td>19.0</td>\n",
       "      <td>Fully Paid</td>\n",
       "    </tr>\n",
       "    <tr>\n",
       "      <th>934932</th>\n",
       "      <td>3600.0</td>\n",
       "      <td>36 months</td>\n",
       "      <td>Dec-2013</td>\n",
       "      <td>115.61</td>\n",
       "      <td>9.67%</td>\n",
       "      <td>B</td>\n",
       "      <td>Finance/Accounts Payable</td>\n",
       "      <td>2 years</td>\n",
       "      <td>40000.0</td>\n",
       "      <td>Credit card refinancing</td>\n",
       "      <td>4.11</td>\n",
       "      <td>OWN</td>\n",
       "      <td>554xx</td>\n",
       "      <td>MN</td>\n",
       "      <td>0.0</td>\n",
       "      <td>Individual</td>\n",
       "      <td>14.0</td>\n",
       "      <td>Fully Paid</td>\n",
       "    </tr>\n",
       "    <tr>\n",
       "      <th>238556</th>\n",
       "      <td>6000.0</td>\n",
       "      <td>36 months</td>\n",
       "      <td>Sep-2016</td>\n",
       "      <td>206.50</td>\n",
       "      <td>14.49%</td>\n",
       "      <td>C</td>\n",
       "      <td>Service Technician /Foreman</td>\n",
       "      <td>2 years</td>\n",
       "      <td>55000.0</td>\n",
       "      <td>Home improvement</td>\n",
       "      <td>0.00</td>\n",
       "      <td>OWN</td>\n",
       "      <td>752xx</td>\n",
       "      <td>TX</td>\n",
       "      <td>0.0</td>\n",
       "      <td>Individual</td>\n",
       "      <td>10.0</td>\n",
       "      <td>Current</td>\n",
       "    </tr>\n",
       "    <tr>\n",
       "      <th>722009</th>\n",
       "      <td>40000.0</td>\n",
       "      <td>36 months</td>\n",
       "      <td>Jul-2017</td>\n",
       "      <td>1252.91</td>\n",
       "      <td>7.97%</td>\n",
       "      <td>A</td>\n",
       "      <td>Owner/Operator</td>\n",
       "      <td>&lt; 1 year</td>\n",
       "      <td>80000.0</td>\n",
       "      <td>Debt consolidation</td>\n",
       "      <td>17.34</td>\n",
       "      <td>MORTGAGE</td>\n",
       "      <td>119xx</td>\n",
       "      <td>NY</td>\n",
       "      <td>0.0</td>\n",
       "      <td>Joint App</td>\n",
       "      <td>36.0</td>\n",
       "      <td>Current</td>\n",
       "    </tr>\n",
       "  </tbody>\n",
       "</table>\n",
       "</div>"
      ],
      "text/plain": [
       "        funded_amnt_inv        term   issue_d  installment int_rate grade  \\\n",
       "510666          16175.0   36 months  Jan-2017       584.69   17.99%     D   \n",
       "33663            6500.0   36 months  Mar-2016       201.87    7.39%     A   \n",
       "934932           3600.0   36 months  Dec-2013       115.61    9.67%     B   \n",
       "238556           6000.0   36 months  Sep-2016       206.50   14.49%     C   \n",
       "722009          40000.0   36 months  Jul-2017      1252.91    7.97%     A   \n",
       "\n",
       "                             emp_title emp_length  annual_inc  \\\n",
       "510666       Income-Revenue Specialist  10+ years     32895.0   \n",
       "33663   Water Treatment Plant Operator    4 years     62000.0   \n",
       "934932        Finance/Accounts Payable    2 years     40000.0   \n",
       "238556     Service Technician /Foreman    2 years     55000.0   \n",
       "722009                  Owner/Operator   < 1 year     80000.0   \n",
       "\n",
       "                          title    dti home_ownership zip_code addr_state  \\\n",
       "510666         Home improvement  34.22            OWN    731xx         OK   \n",
       "33663             Car financing   8.96           RENT    147xx         NY   \n",
       "934932  Credit card refinancing   4.11            OWN    554xx         MN   \n",
       "238556         Home improvement   0.00            OWN    752xx         TX   \n",
       "722009       Debt consolidation  17.34       MORTGAGE    119xx         NY   \n",
       "\n",
       "        total_rec_late_fee application_type  total_acc loan_status  \n",
       "510666                 0.0        Joint App       26.0     Current  \n",
       "33663                  0.0       Individual       19.0  Fully Paid  \n",
       "934932                 0.0       Individual       14.0  Fully Paid  \n",
       "238556                 0.0       Individual       10.0     Current  \n",
       "722009                 0.0        Joint App       36.0     Current  "
      ]
     },
     "execution_count": 3,
     "metadata": {},
     "output_type": "execute_result"
    }
   ],
   "source": [
    "loans.head()"
   ]
  },
  {
   "cell_type": "markdown",
   "metadata": {},
   "source": [
    "### 01 - Target: Loan Status"
   ]
  },
  {
   "cell_type": "markdown",
   "metadata": {},
   "source": [
    "`loan_status` is the current status of the loan. This is the variable we want to predict in our machine learning model. For this variable, we are going to considerar three labels:\n",
    "- 0: loans that have already been paid.\n",
    "- 1: default or charged off loans.\n",
    "- 2: current loans (rest of the cases), where we don't know if they are going to be paid or not.\n",
    "\n",
    "We will use labels 0 and 1 for training and testing our model. Label 2 is going to use just for predicting."
   ]
  },
  {
   "cell_type": "code",
   "execution_count": 4,
   "metadata": {},
   "outputs": [
    {
     "data": {
      "text/plain": [
       "Current                                                95239\n",
       "Fully Paid                                             79596\n",
       "Charged Off                                            20569\n",
       "Late (31-120 days)                                      2459\n",
       "In Grace Period                                         1330\n",
       "Late (16-30 days)                                        485\n",
       "Does not meet the credit policy. Status:Fully Paid       225\n",
       "Does not meet the credit policy. Status:Charged Off       90\n",
       "Default                                                    7\n",
       "Name: loan_status, dtype: int64"
      ]
     },
     "execution_count": 4,
     "metadata": {},
     "output_type": "execute_result"
    }
   ],
   "source": [
    "loans['loan_status'].value_counts()"
   ]
  },
  {
   "cell_type": "code",
   "execution_count": 5,
   "metadata": {},
   "outputs": [],
   "source": [
    "def process_loan_status(loan_status):\n",
    "    \n",
    "    loan_status_dict = {\n",
    "    \"Current\": 2,\n",
    "    \"Fully Paid\": 0,\n",
    "    \"Charged Off\": 1,\n",
    "    \"Late (31-120 days)\": 2,\n",
    "    \"In Grace Period\": 2,\n",
    "    \"Late (16-30 days)\": 2,\n",
    "    \"Does not meet the credit policy. Status:Fully Paid\": 0,\n",
    "    \"Does not meet the credit policy. Status:Charged Off\": 1,\n",
    "    \"Default\": 1\n",
    "    }\n",
    "    \n",
    "    return loan_status_dict[loan_status]"
   ]
  },
  {
   "cell_type": "code",
   "execution_count": 6,
   "metadata": {},
   "outputs": [],
   "source": [
    "loans['loan_status'] = loans['loan_status'].map(process_loan_status)"
   ]
  },
  {
   "cell_type": "code",
   "execution_count": 7,
   "metadata": {},
   "outputs": [
    {
     "data": {
      "text/plain": [
       "510666     2\n",
       "33663      0\n",
       "934932     0\n",
       "238556     2\n",
       "722009     2\n",
       "1665695    2\n",
       "1106564    0\n",
       "663151     2\n",
       "963656     0\n",
       "1764427    0\n",
       "Name: loan_status, dtype: int64"
      ]
     },
     "execution_count": 7,
     "metadata": {},
     "output_type": "execute_result"
    }
   ],
   "source": [
    "loans['loan_status'].head(10)"
   ]
  },
  {
   "cell_type": "code",
   "execution_count": 8,
   "metadata": {},
   "outputs": [],
   "source": [
    "loans = loans[loans['loan_status'] < 2]"
   ]
  },
  {
   "cell_type": "code",
   "execution_count": 9,
   "metadata": {},
   "outputs": [
    {
     "data": {
      "text/html": [
       "<div>\n",
       "<style scoped>\n",
       "    .dataframe tbody tr th:only-of-type {\n",
       "        vertical-align: middle;\n",
       "    }\n",
       "\n",
       "    .dataframe tbody tr th {\n",
       "        vertical-align: top;\n",
       "    }\n",
       "\n",
       "    .dataframe thead th {\n",
       "        text-align: right;\n",
       "    }\n",
       "</style>\n",
       "<table border=\"1\" class=\"dataframe\">\n",
       "  <thead>\n",
       "    <tr style=\"text-align: right;\">\n",
       "      <th></th>\n",
       "      <th>funded_amnt_inv</th>\n",
       "      <th>term</th>\n",
       "      <th>issue_d</th>\n",
       "      <th>installment</th>\n",
       "      <th>int_rate</th>\n",
       "      <th>grade</th>\n",
       "      <th>emp_title</th>\n",
       "      <th>emp_length</th>\n",
       "      <th>annual_inc</th>\n",
       "      <th>title</th>\n",
       "      <th>dti</th>\n",
       "      <th>home_ownership</th>\n",
       "      <th>zip_code</th>\n",
       "      <th>addr_state</th>\n",
       "      <th>total_rec_late_fee</th>\n",
       "      <th>application_type</th>\n",
       "      <th>total_acc</th>\n",
       "      <th>loan_status</th>\n",
       "    </tr>\n",
       "  </thead>\n",
       "  <tbody>\n",
       "    <tr>\n",
       "      <th>33663</th>\n",
       "      <td>6500.0</td>\n",
       "      <td>36 months</td>\n",
       "      <td>Mar-2016</td>\n",
       "      <td>201.87</td>\n",
       "      <td>7.39%</td>\n",
       "      <td>A</td>\n",
       "      <td>Water Treatment Plant Operator</td>\n",
       "      <td>4 years</td>\n",
       "      <td>62000.0</td>\n",
       "      <td>Car financing</td>\n",
       "      <td>8.96</td>\n",
       "      <td>RENT</td>\n",
       "      <td>147xx</td>\n",
       "      <td>NY</td>\n",
       "      <td>0.0</td>\n",
       "      <td>Individual</td>\n",
       "      <td>19.0</td>\n",
       "      <td>0</td>\n",
       "    </tr>\n",
       "    <tr>\n",
       "      <th>934932</th>\n",
       "      <td>3600.0</td>\n",
       "      <td>36 months</td>\n",
       "      <td>Dec-2013</td>\n",
       "      <td>115.61</td>\n",
       "      <td>9.67%</td>\n",
       "      <td>B</td>\n",
       "      <td>Finance/Accounts Payable</td>\n",
       "      <td>2 years</td>\n",
       "      <td>40000.0</td>\n",
       "      <td>Credit card refinancing</td>\n",
       "      <td>4.11</td>\n",
       "      <td>OWN</td>\n",
       "      <td>554xx</td>\n",
       "      <td>MN</td>\n",
       "      <td>0.0</td>\n",
       "      <td>Individual</td>\n",
       "      <td>14.0</td>\n",
       "      <td>0</td>\n",
       "    </tr>\n",
       "    <tr>\n",
       "      <th>1106564</th>\n",
       "      <td>8000.0</td>\n",
       "      <td>36 months</td>\n",
       "      <td>Jan-2012</td>\n",
       "      <td>257.80</td>\n",
       "      <td>9.91%</td>\n",
       "      <td>B</td>\n",
       "      <td>Raytheon Technical Services Co LLC</td>\n",
       "      <td>5 years</td>\n",
       "      <td>60000.0</td>\n",
       "      <td>Debt Consolidation Loan</td>\n",
       "      <td>8.68</td>\n",
       "      <td>RENT</td>\n",
       "      <td>928xx</td>\n",
       "      <td>CA</td>\n",
       "      <td>0.0</td>\n",
       "      <td>Individual</td>\n",
       "      <td>21.0</td>\n",
       "      <td>0</td>\n",
       "    </tr>\n",
       "    <tr>\n",
       "      <th>963656</th>\n",
       "      <td>4275.0</td>\n",
       "      <td>36 months</td>\n",
       "      <td>Oct-2013</td>\n",
       "      <td>131.95</td>\n",
       "      <td>6.97%</td>\n",
       "      <td>A</td>\n",
       "      <td>NaN</td>\n",
       "      <td>NaN</td>\n",
       "      <td>40800.0</td>\n",
       "      <td>Credit card refinancing</td>\n",
       "      <td>6.24</td>\n",
       "      <td>OWN</td>\n",
       "      <td>120xx</td>\n",
       "      <td>NY</td>\n",
       "      <td>0.0</td>\n",
       "      <td>Individual</td>\n",
       "      <td>23.0</td>\n",
       "      <td>0</td>\n",
       "    </tr>\n",
       "    <tr>\n",
       "      <th>1764427</th>\n",
       "      <td>6600.0</td>\n",
       "      <td>36 months</td>\n",
       "      <td>Jan-2015</td>\n",
       "      <td>226.57</td>\n",
       "      <td>14.31%</td>\n",
       "      <td>C</td>\n",
       "      <td>Maintenance</td>\n",
       "      <td>9 years</td>\n",
       "      <td>34000.0</td>\n",
       "      <td>Credit card refinancing</td>\n",
       "      <td>18.28</td>\n",
       "      <td>MORTGAGE</td>\n",
       "      <td>136xx</td>\n",
       "      <td>NY</td>\n",
       "      <td>0.0</td>\n",
       "      <td>Individual</td>\n",
       "      <td>22.0</td>\n",
       "      <td>0</td>\n",
       "    </tr>\n",
       "  </tbody>\n",
       "</table>\n",
       "</div>"
      ],
      "text/plain": [
       "         funded_amnt_inv        term   issue_d  installment int_rate grade  \\\n",
       "33663             6500.0   36 months  Mar-2016       201.87    7.39%     A   \n",
       "934932            3600.0   36 months  Dec-2013       115.61    9.67%     B   \n",
       "1106564           8000.0   36 months  Jan-2012       257.80    9.91%     B   \n",
       "963656            4275.0   36 months  Oct-2013       131.95    6.97%     A   \n",
       "1764427           6600.0   36 months  Jan-2015       226.57   14.31%     C   \n",
       "\n",
       "                                  emp_title emp_length  annual_inc  \\\n",
       "33663        Water Treatment Plant Operator    4 years     62000.0   \n",
       "934932             Finance/Accounts Payable    2 years     40000.0   \n",
       "1106564  Raytheon Technical Services Co LLC    5 years     60000.0   \n",
       "963656                                  NaN        NaN     40800.0   \n",
       "1764427                         Maintenance    9 years     34000.0   \n",
       "\n",
       "                           title    dti home_ownership zip_code addr_state  \\\n",
       "33663              Car financing   8.96           RENT    147xx         NY   \n",
       "934932   Credit card refinancing   4.11            OWN    554xx         MN   \n",
       "1106564  Debt Consolidation Loan   8.68           RENT    928xx         CA   \n",
       "963656   Credit card refinancing   6.24            OWN    120xx         NY   \n",
       "1764427  Credit card refinancing  18.28       MORTGAGE    136xx         NY   \n",
       "\n",
       "         total_rec_late_fee application_type  total_acc  loan_status  \n",
       "33663                   0.0       Individual       19.0            0  \n",
       "934932                  0.0       Individual       14.0            0  \n",
       "1106564                 0.0       Individual       21.0            0  \n",
       "963656                  0.0       Individual       23.0            0  \n",
       "1764427                 0.0       Individual       22.0            0  "
      ]
     },
     "execution_count": 9,
     "metadata": {},
     "output_type": "execute_result"
    }
   ],
   "source": [
    "loans.head()"
   ]
  },
  {
   "cell_type": "code",
   "execution_count": 10,
   "metadata": {},
   "outputs": [
    {
     "data": {
      "text/plain": [
       "count    100487.000000\n",
       "mean          0.205658\n",
       "std           0.404184\n",
       "min           0.000000\n",
       "25%           0.000000\n",
       "50%           0.000000\n",
       "75%           0.000000\n",
       "max           1.000000\n",
       "Name: loan_status, dtype: float64"
      ]
     },
     "execution_count": 10,
     "metadata": {},
     "output_type": "execute_result"
    }
   ],
   "source": [
    "loans['loan_status'].describe()"
   ]
  },
  {
   "cell_type": "markdown",
   "metadata": {},
   "source": [
    "__Our prior value of un paid loans is about 20%__ We will keep this value in mind!"
   ]
  },
  {
   "cell_type": "markdown",
   "metadata": {},
   "source": [
    "### 02 - Numeric Variables"
   ]
  },
  {
   "cell_type": "code",
   "execution_count": 11,
   "metadata": {},
   "outputs": [
    {
     "data": {
      "text/plain": [
       "funded_amnt_inv       float64\n",
       "term                   object\n",
       "issue_d                object\n",
       "installment           float64\n",
       "int_rate               object\n",
       "grade                  object\n",
       "emp_title              object\n",
       "emp_length             object\n",
       "annual_inc            float64\n",
       "title                  object\n",
       "dti                   float64\n",
       "home_ownership         object\n",
       "zip_code               object\n",
       "addr_state             object\n",
       "total_rec_late_fee    float64\n",
       "application_type       object\n",
       "total_acc             float64\n",
       "loan_status             int64\n",
       "dtype: object"
      ]
     },
     "execution_count": 11,
     "metadata": {},
     "output_type": "execute_result"
    }
   ],
   "source": [
    "loans.dtypes"
   ]
  },
  {
   "cell_type": "code",
   "execution_count": 18,
   "metadata": {},
   "outputs": [],
   "source": [
    "numerical_variables = [\"funded_amnt_inv\", \"installment\", \"int_rate\", \"annual_inc\", \"dti\",\n",
    "                        \"total_rec_late_fee\", \"total_acc\"]"
   ]
  },
  {
   "cell_type": "markdown",
   "metadata": {},
   "source": [
    "__Interest Rate__"
   ]
  },
  {
   "cell_type": "code",
   "execution_count": 13,
   "metadata": {
    "scrolled": true
   },
   "outputs": [
    {
     "data": {
      "text/plain": [
       "33663        7.39%\n",
       "934932       9.67%\n",
       "1106564      9.91%\n",
       "963656       6.97%\n",
       "1764427     14.31%\n",
       "1078773     15.31%\n",
       "1000221      7.62%\n",
       "1209281     26.06%\n",
       "216095       7.89%\n",
       "1023189     10.16%\n",
       "936407      17.10%\n",
       "991790      10.64%\n",
       "1399646      7.89%\n",
       "885800      15.62%\n",
       "946126      13.67%\n",
       "1305012     14.64%\n",
       "1759195     12.99%\n",
       "1538436      5.32%\n",
       "1309532     13.65%\n",
       "1045218     12.12%\n",
       "935452      13.67%\n",
       "1602541     13.33%\n",
       "136540      11.49%\n",
       "1119189     11.99%\n",
       "1142349     20.99%\n",
       "896307       5.79%\n",
       "1184523      8.39%\n",
       "1308408      6.62%\n",
       "1727608     14.99%\n",
       "386037      11.39%\n",
       "            ...   \n",
       "1672417     18.25%\n",
       "1291108     24.08%\n",
       "388569      21.49%\n",
       "820018      19.03%\n",
       "1485012     17.86%\n",
       "121752      13.99%\n",
       "1425360     17.57%\n",
       "1715363     20.49%\n",
       "1239606     18.99%\n",
       "1050599     17.77%\n",
       "296621      17.99%\n",
       "1494702     13.99%\n",
       "1573753      7.26%\n",
       "1677705      9.17%\n",
       "1654398      8.18%\n",
       "1423567     15.61%\n",
       "1347980     13.99%\n",
       "999037      25.28%\n",
       "1203787     22.15%\n",
       "937543      23.70%\n",
       "1019186     19.72%\n",
       "565245      19.03%\n",
       "1651779      8.18%\n",
       "4701         9.16%\n",
       "1185104      6.49%\n",
       "663628      16.02%\n",
       "954493      15.61%\n",
       "1732376     14.31%\n",
       "250983      17.99%\n",
       "896586       9.63%\n",
       "Name: int_rate, Length: 100487, dtype: object"
      ]
     },
     "execution_count": 13,
     "metadata": {},
     "output_type": "execute_result"
    }
   ],
   "source": [
    "loans['int_rate']"
   ]
  },
  {
   "cell_type": "code",
   "execution_count": 14,
   "metadata": {},
   "outputs": [],
   "source": [
    "loans['int_rate'] = loans['int_rate'].map(lambda x: float(x[:-1]))"
   ]
  },
  {
   "cell_type": "code",
   "execution_count": 15,
   "metadata": {},
   "outputs": [
    {
     "data": {
      "text/plain": [
       "33663       7.39\n",
       "934932      9.67\n",
       "1106564     9.91\n",
       "963656      6.97\n",
       "1764427    14.31\n",
       "Name: int_rate, dtype: float64"
      ]
     },
     "execution_count": 15,
     "metadata": {},
     "output_type": "execute_result"
    }
   ],
   "source": [
    "loans['int_rate'].head()"
   ]
  },
  {
   "cell_type": "code",
   "execution_count": 16,
   "metadata": {},
   "outputs": [
    {
     "data": {
      "text/plain": [
       "funded_amnt_inv       float64\n",
       "term                   object\n",
       "issue_d                object\n",
       "installment           float64\n",
       "int_rate              float64\n",
       "grade                  object\n",
       "emp_title              object\n",
       "emp_length             object\n",
       "annual_inc            float64\n",
       "title                  object\n",
       "dti                   float64\n",
       "home_ownership         object\n",
       "zip_code               object\n",
       "addr_state             object\n",
       "total_rec_late_fee    float64\n",
       "application_type       object\n",
       "total_acc             float64\n",
       "loan_status             int64\n",
       "dtype: object"
      ]
     },
     "execution_count": 16,
     "metadata": {},
     "output_type": "execute_result"
    }
   ],
   "source": [
    "loans.dtypes"
   ]
  },
  {
   "cell_type": "markdown",
   "metadata": {},
   "source": [
    "__Outliers__"
   ]
  },
  {
   "cell_type": "code",
   "execution_count": 19,
   "metadata": {},
   "outputs": [
    {
     "data": {
      "text/html": [
       "<div>\n",
       "<style scoped>\n",
       "    .dataframe tbody tr th:only-of-type {\n",
       "        vertical-align: middle;\n",
       "    }\n",
       "\n",
       "    .dataframe tbody tr th {\n",
       "        vertical-align: top;\n",
       "    }\n",
       "\n",
       "    .dataframe thead th {\n",
       "        text-align: right;\n",
       "    }\n",
       "</style>\n",
       "<table border=\"1\" class=\"dataframe\">\n",
       "  <thead>\n",
       "    <tr style=\"text-align: right;\">\n",
       "      <th></th>\n",
       "      <th>funded_amnt_inv</th>\n",
       "      <th>installment</th>\n",
       "      <th>int_rate</th>\n",
       "      <th>annual_inc</th>\n",
       "      <th>dti</th>\n",
       "      <th>total_rec_late_fee</th>\n",
       "      <th>total_acc</th>\n",
       "    </tr>\n",
       "  </thead>\n",
       "  <tbody>\n",
       "    <tr>\n",
       "      <th>count</th>\n",
       "      <td>100487.000000</td>\n",
       "      <td>100487.000000</td>\n",
       "      <td>100487.000000</td>\n",
       "      <td>1.004860e+05</td>\n",
       "      <td>100483.000000</td>\n",
       "      <td>100487.000000</td>\n",
       "      <td>100482.000000</td>\n",
       "    </tr>\n",
       "    <tr>\n",
       "      <th>mean</th>\n",
       "      <td>14266.111581</td>\n",
       "      <td>436.601337</td>\n",
       "      <td>13.488018</td>\n",
       "      <td>7.537866e+04</td>\n",
       "      <td>17.894028</td>\n",
       "      <td>1.116726</td>\n",
       "      <td>25.383949</td>\n",
       "    </tr>\n",
       "    <tr>\n",
       "      <th>std</th>\n",
       "      <td>8521.092621</td>\n",
       "      <td>256.189642</td>\n",
       "      <td>4.648421</td>\n",
       "      <td>6.700441e+04</td>\n",
       "      <td>8.550205</td>\n",
       "      <td>8.002909</td>\n",
       "      <td>12.020481</td>\n",
       "    </tr>\n",
       "    <tr>\n",
       "      <th>min</th>\n",
       "      <td>0.000000</td>\n",
       "      <td>21.250000</td>\n",
       "      <td>5.320000</td>\n",
       "      <td>0.000000e+00</td>\n",
       "      <td>0.000000</td>\n",
       "      <td>0.000000</td>\n",
       "      <td>2.000000</td>\n",
       "    </tr>\n",
       "    <tr>\n",
       "      <th>25%</th>\n",
       "      <td>7975.000000</td>\n",
       "      <td>251.400000</td>\n",
       "      <td>9.990000</td>\n",
       "      <td>4.500000e+04</td>\n",
       "      <td>11.660000</td>\n",
       "      <td>0.000000</td>\n",
       "      <td>17.000000</td>\n",
       "    </tr>\n",
       "    <tr>\n",
       "      <th>50%</th>\n",
       "      <td>12000.000000</td>\n",
       "      <td>376.410000</td>\n",
       "      <td>12.990000</td>\n",
       "      <td>6.500000e+04</td>\n",
       "      <td>17.400000</td>\n",
       "      <td>0.000000</td>\n",
       "      <td>24.000000</td>\n",
       "    </tr>\n",
       "    <tr>\n",
       "      <th>75%</th>\n",
       "      <td>20000.000000</td>\n",
       "      <td>575.510000</td>\n",
       "      <td>16.290000</td>\n",
       "      <td>9.000000e+04</td>\n",
       "      <td>23.630000</td>\n",
       "      <td>0.000000</td>\n",
       "      <td>32.000000</td>\n",
       "    </tr>\n",
       "    <tr>\n",
       "      <th>max</th>\n",
       "      <td>40000.000000</td>\n",
       "      <td>1566.800000</td>\n",
       "      <td>30.990000</td>\n",
       "      <td>9.225000e+06</td>\n",
       "      <td>380.720000</td>\n",
       "      <td>654.320001</td>\n",
       "      <td>176.000000</td>\n",
       "    </tr>\n",
       "  </tbody>\n",
       "</table>\n",
       "</div>"
      ],
      "text/plain": [
       "       funded_amnt_inv    installment       int_rate    annual_inc  \\\n",
       "count    100487.000000  100487.000000  100487.000000  1.004860e+05   \n",
       "mean      14266.111581     436.601337      13.488018  7.537866e+04   \n",
       "std        8521.092621     256.189642       4.648421  6.700441e+04   \n",
       "min           0.000000      21.250000       5.320000  0.000000e+00   \n",
       "25%        7975.000000     251.400000       9.990000  4.500000e+04   \n",
       "50%       12000.000000     376.410000      12.990000  6.500000e+04   \n",
       "75%       20000.000000     575.510000      16.290000  9.000000e+04   \n",
       "max       40000.000000    1566.800000      30.990000  9.225000e+06   \n",
       "\n",
       "                 dti  total_rec_late_fee      total_acc  \n",
       "count  100483.000000       100487.000000  100482.000000  \n",
       "mean       17.894028            1.116726      25.383949  \n",
       "std         8.550205            8.002909      12.020481  \n",
       "min         0.000000            0.000000       2.000000  \n",
       "25%        11.660000            0.000000      17.000000  \n",
       "50%        17.400000            0.000000      24.000000  \n",
       "75%        23.630000            0.000000      32.000000  \n",
       "max       380.720000          654.320001     176.000000  "
      ]
     },
     "execution_count": 19,
     "metadata": {},
     "output_type": "execute_result"
    }
   ],
   "source": [
    "loans[numerical_variables].describe()"
   ]
  },
  {
   "cell_type": "code",
   "execution_count": 20,
   "metadata": {},
   "outputs": [],
   "source": [
    "def detect_outliers(df,n,features):\n",
    "    \"\"\"\n",
    "    Takes a dataframe df of features and returns a list of the indices\n",
    "    corresponding to the observations containing more than n outliers according\n",
    "    to the Tukey method.\n",
    "    \"\"\"\n",
    "    outlier_indices = []\n",
    "    \n",
    "    # iterate over features(columns)\n",
    "    for col in features:\n",
    "        # 1st quartile (25%)\n",
    "        Q1 = np.percentile(df[col], 25)\n",
    "        # 3rd quartile (75%)\n",
    "        Q3 = np.percentile(df[col],75)\n",
    "        # Interquartile range (IQR)\n",
    "        IQR = Q3 - Q1\n",
    "        \n",
    "        # outlier step\n",
    "        outlier_step = 1.5 * IQR\n",
    "        \n",
    "        # Determine a list of indices of outliers for feature col\n",
    "        outlier_list_col = df[(df[col] < Q1 - outlier_step) | (df[col] > Q3 + outlier_step )].index\n",
    "        \n",
    "        # append the found outlier indices for col to the list of outlier indices \n",
    "        outlier_indices.extend(outlier_list_col)\n",
    "        \n",
    "    # select observations containing more than n outliers\n",
    "    outlier_indices = Counter(outlier_indices)        \n",
    "    multiple_outliers = list( k for k, v in outlier_indices.items() if v > n )\n",
    "    \n",
    "    return multiple_outliers"
   ]
  },
  {
   "cell_type": "code",
   "execution_count": 24,
   "metadata": {},
   "outputs": [
    {
     "name": "stdout",
     "output_type": "stream",
     "text": [
      "There are 468 outliers from numerical features\n"
     ]
    }
   ],
   "source": [
    "# detect outliers from numerical features \n",
    "outliers_to_drop = detect_outliers(loans,1,numerical_variables)\n",
    "\n",
    "print(\"There are {} outliers from numerical features\".format(len(outliers_to_drop)))"
   ]
  },
  {
   "cell_type": "code",
   "execution_count": 25,
   "metadata": {},
   "outputs": [],
   "source": [
    "loans = loans.drop(outliers_to_drop, axis=0)"
   ]
  },
  {
   "cell_type": "code",
   "execution_count": 26,
   "metadata": {},
   "outputs": [
    {
     "data": {
      "text/plain": [
       "(100019, 18)"
      ]
     },
     "execution_count": 26,
     "metadata": {},
     "output_type": "execute_result"
    }
   ],
   "source": [
    "loans.shape"
   ]
  },
  {
   "cell_type": "code",
   "execution_count": 27,
   "metadata": {},
   "outputs": [
    {
     "data": {
      "text/html": [
       "<div>\n",
       "<style scoped>\n",
       "    .dataframe tbody tr th:only-of-type {\n",
       "        vertical-align: middle;\n",
       "    }\n",
       "\n",
       "    .dataframe tbody tr th {\n",
       "        vertical-align: top;\n",
       "    }\n",
       "\n",
       "    .dataframe thead th {\n",
       "        text-align: right;\n",
       "    }\n",
       "</style>\n",
       "<table border=\"1\" class=\"dataframe\">\n",
       "  <thead>\n",
       "    <tr style=\"text-align: right;\">\n",
       "      <th></th>\n",
       "      <th>funded_amnt_inv</th>\n",
       "      <th>installment</th>\n",
       "      <th>int_rate</th>\n",
       "      <th>annual_inc</th>\n",
       "      <th>dti</th>\n",
       "      <th>total_rec_late_fee</th>\n",
       "      <th>total_acc</th>\n",
       "    </tr>\n",
       "  </thead>\n",
       "  <tbody>\n",
       "    <tr>\n",
       "      <th>count</th>\n",
       "      <td>100019.000000</td>\n",
       "      <td>100019.000000</td>\n",
       "      <td>100019.000000</td>\n",
       "      <td>1.000180e+05</td>\n",
       "      <td>100015.000000</td>\n",
       "      <td>100019.000000</td>\n",
       "      <td>100014.000000</td>\n",
       "    </tr>\n",
       "    <tr>\n",
       "      <th>mean</th>\n",
       "      <td>14179.428953</td>\n",
       "      <td>433.444364</td>\n",
       "      <td>13.458464</td>\n",
       "      <td>7.512899e+04</td>\n",
       "      <td>17.892988</td>\n",
       "      <td>0.967266</td>\n",
       "      <td>25.370188</td>\n",
       "    </tr>\n",
       "    <tr>\n",
       "      <th>std</th>\n",
       "      <td>8426.212562</td>\n",
       "      <td>251.797823</td>\n",
       "      <td>4.605220</td>\n",
       "      <td>6.676150e+04</td>\n",
       "      <td>8.544840</td>\n",
       "      <td>6.695473</td>\n",
       "      <td>12.013285</td>\n",
       "    </tr>\n",
       "    <tr>\n",
       "      <th>min</th>\n",
       "      <td>0.000000</td>\n",
       "      <td>21.250000</td>\n",
       "      <td>5.320000</td>\n",
       "      <td>0.000000e+00</td>\n",
       "      <td>0.000000</td>\n",
       "      <td>0.000000</td>\n",
       "      <td>2.000000</td>\n",
       "    </tr>\n",
       "    <tr>\n",
       "      <th>25%</th>\n",
       "      <td>7950.000000</td>\n",
       "      <td>250.870000</td>\n",
       "      <td>9.990000</td>\n",
       "      <td>4.500000e+04</td>\n",
       "      <td>11.670000</td>\n",
       "      <td>0.000000</td>\n",
       "      <td>17.000000</td>\n",
       "    </tr>\n",
       "    <tr>\n",
       "      <th>50%</th>\n",
       "      <td>12000.000000</td>\n",
       "      <td>375.430000</td>\n",
       "      <td>12.990000</td>\n",
       "      <td>6.500000e+04</td>\n",
       "      <td>17.400000</td>\n",
       "      <td>0.000000</td>\n",
       "      <td>24.000000</td>\n",
       "    </tr>\n",
       "    <tr>\n",
       "      <th>75%</th>\n",
       "      <td>20000.000000</td>\n",
       "      <td>571.900000</td>\n",
       "      <td>16.290000</td>\n",
       "      <td>9.000000e+04</td>\n",
       "      <td>23.625000</td>\n",
       "      <td>0.000000</td>\n",
       "      <td>32.000000</td>\n",
       "    </tr>\n",
       "    <tr>\n",
       "      <th>max</th>\n",
       "      <td>40000.000000</td>\n",
       "      <td>1411.070000</td>\n",
       "      <td>30.990000</td>\n",
       "      <td>9.225000e+06</td>\n",
       "      <td>380.720000</td>\n",
       "      <td>361.900000</td>\n",
       "      <td>176.000000</td>\n",
       "    </tr>\n",
       "  </tbody>\n",
       "</table>\n",
       "</div>"
      ],
      "text/plain": [
       "       funded_amnt_inv    installment       int_rate    annual_inc  \\\n",
       "count    100019.000000  100019.000000  100019.000000  1.000180e+05   \n",
       "mean      14179.428953     433.444364      13.458464  7.512899e+04   \n",
       "std        8426.212562     251.797823       4.605220  6.676150e+04   \n",
       "min           0.000000      21.250000       5.320000  0.000000e+00   \n",
       "25%        7950.000000     250.870000       9.990000  4.500000e+04   \n",
       "50%       12000.000000     375.430000      12.990000  6.500000e+04   \n",
       "75%       20000.000000     571.900000      16.290000  9.000000e+04   \n",
       "max       40000.000000    1411.070000      30.990000  9.225000e+06   \n",
       "\n",
       "                 dti  total_rec_late_fee      total_acc  \n",
       "count  100015.000000       100019.000000  100014.000000  \n",
       "mean       17.892988            0.967266      25.370188  \n",
       "std         8.544840            6.695473      12.013285  \n",
       "min         0.000000            0.000000       2.000000  \n",
       "25%        11.670000            0.000000      17.000000  \n",
       "50%        17.400000            0.000000      24.000000  \n",
       "75%        23.625000            0.000000      32.000000  \n",
       "max       380.720000          361.900000     176.000000  "
      ]
     },
     "execution_count": 27,
     "metadata": {},
     "output_type": "execute_result"
    }
   ],
   "source": [
    "loans[numerical_variables].describe()"
   ]
  },
  {
   "cell_type": "markdown",
   "metadata": {},
   "source": [
    "__Dealing NA's__"
   ]
  },
  {
   "cell_type": "code",
   "execution_count": 28,
   "metadata": {},
   "outputs": [
    {
     "data": {
      "text/plain": [
       "funded_amnt_inv       0\n",
       "installment           0\n",
       "int_rate              0\n",
       "annual_inc            1\n",
       "dti                   4\n",
       "total_rec_late_fee    0\n",
       "total_acc             5\n",
       "dtype: int64"
      ]
     },
     "execution_count": 28,
     "metadata": {},
     "output_type": "execute_result"
    }
   ],
   "source": [
    "loans[numerical_variables].isnull().sum()"
   ]
  },
  {
   "cell_type": "code",
   "execution_count": 29,
   "metadata": {},
   "outputs": [
    {
     "data": {
      "text/plain": [
       "funded_amnt_inv       12000.00\n",
       "installment             375.43\n",
       "int_rate                 12.99\n",
       "annual_inc            65000.00\n",
       "dti                      17.40\n",
       "total_rec_late_fee        0.00\n",
       "total_acc                24.00\n",
       "dtype: float64"
      ]
     },
     "execution_count": 29,
     "metadata": {},
     "output_type": "execute_result"
    }
   ],
   "source": [
    "loans[numerical_variables].median()"
   ]
  },
  {
   "cell_type": "code",
   "execution_count": 30,
   "metadata": {},
   "outputs": [],
   "source": [
    "loans[numerical_variables] = loans[numerical_variables].fillna(loans[numerical_variables].median())"
   ]
  },
  {
   "cell_type": "code",
   "execution_count": 31,
   "metadata": {
    "scrolled": true
   },
   "outputs": [
    {
     "data": {
      "text/plain": [
       "funded_amnt_inv       0\n",
       "installment           0\n",
       "int_rate              0\n",
       "annual_inc            0\n",
       "dti                   0\n",
       "total_rec_late_fee    0\n",
       "total_acc             0\n",
       "dtype: int64"
      ]
     },
     "execution_count": 31,
     "metadata": {},
     "output_type": "execute_result"
    }
   ],
   "source": [
    "loans[numerical_variables].isnull().sum()"
   ]
  },
  {
   "cell_type": "markdown",
   "metadata": {},
   "source": [
    "### 03 - Categorical Variables"
   ]
  },
  {
   "cell_type": "code",
   "execution_count": 32,
   "metadata": {},
   "outputs": [],
   "source": [
    "categorical_variables = ['term', 'grade', 'emp_title', 'emp_length', 'title', \n",
    "                         'home_ownership', 'zip_code', 'addr_state', 'application_type']"
   ]
  },
  {
   "cell_type": "code",
   "execution_count": 33,
   "metadata": {},
   "outputs": [
    {
     "name": "stdout",
     "output_type": "stream",
     "text": [
      "term: 2 categories\n",
      "grade: 7 categories\n",
      "emp_title: 47771 categories\n",
      "emp_length: 12 categories\n",
      "title: 9456 categories\n",
      "home_ownership: 6 categories\n",
      "zip_code: 885 categories\n",
      "addr_state: 50 categories\n",
      "application_type: 2 categories\n"
     ]
    }
   ],
   "source": [
    "for variable in categorical_variables:\n",
    "    number_of_categories = loans[variable].unique().size\n",
    "    print(\"{}: {} categories\".format(variable, number_of_categories))"
   ]
  },
  {
   "cell_type": "markdown",
   "metadata": {},
   "source": [
    "Too many categories for `emp_title`, `title` and `zip_code`. Let's take a look at these three variables:"
   ]
  },
  {
   "cell_type": "markdown",
   "metadata": {},
   "source": [
    "__emp_title__:"
   ]
  },
  {
   "cell_type": "code",
   "execution_count": 9,
   "metadata": {},
   "outputs": [
    {
     "data": {
      "text/plain": [
       "Teacher             3377\n",
       "Manager             2970\n",
       "Owner               1845\n",
       "Registered Nurse    1423\n",
       "RN                  1405\n",
       "Supervisor          1258\n",
       "Driver              1229\n",
       "Sales               1158\n",
       "Project Manager      999\n",
       "Office Manager       891\n",
       "Name: emp_title, dtype: int64"
      ]
     },
     "execution_count": 9,
     "metadata": {},
     "output_type": "execute_result"
    }
   ],
   "source": [
    "loans['emp_title'].value_counts().head(10)"
   ]
  },
  {
   "cell_type": "code",
   "execution_count": 10,
   "metadata": {},
   "outputs": [],
   "source": [
    "loans.loc[~((loans['emp_title'] == 'Teacher') |\n",
    "            (loans['emp_title'] == 'Manager') | \n",
    "            (loans['emp_title'] == 'Owner')),'emp_title'] = 'Other'"
   ]
  },
  {
   "cell_type": "code",
   "execution_count": 11,
   "metadata": {},
   "outputs": [
    {
     "data": {
      "text/plain": [
       "Other      191808\n",
       "Teacher      3377\n",
       "Manager      2970\n",
       "Owner        1845\n",
       "Name: emp_title, dtype: int64"
      ]
     },
     "execution_count": 11,
     "metadata": {},
     "output_type": "execute_result"
    }
   ],
   "source": [
    "loans['emp_title'].value_counts()"
   ]
  },
  {
   "cell_type": "markdown",
   "metadata": {},
   "source": [
    "__title__:"
   ]
  },
  {
   "cell_type": "code",
   "execution_count": 12,
   "metadata": {},
   "outputs": [
    {
     "data": {
      "text/plain": [
       "Debt consolidation           101317\n",
       "Credit card refinancing       38913\n",
       "Home improvement              11836\n",
       "Other                         10446\n",
       "Major purchase                 3728\n",
       "Medical expenses               2171\n",
       "Business                       1835\n",
       "Car financing                  1807\n",
       "Debt Consolidation             1781\n",
       "Vacation                       1260\n",
       "Moving and relocation          1198\n",
       "Home buying                     779\n",
       "Consolidation                   574\n",
       "debt consolidation              540\n",
       "Debt Consolidation Loan         449\n",
       "Credit Card Consolidation       284\n",
       "consolidation                   249\n",
       "Personal Loan                   219\n",
       "Consolidation Loan              213\n",
       "Home Improvement                202\n",
       "Name: title, dtype: int64"
      ]
     },
     "execution_count": 12,
     "metadata": {},
     "output_type": "execute_result"
    }
   ],
   "source": [
    "loans['title'].value_counts().head(20)"
   ]
  },
  {
   "cell_type": "code",
   "execution_count": 13,
   "metadata": {},
   "outputs": [],
   "source": [
    "loans = loans.drop('title', axis=1)"
   ]
  },
  {
   "cell_type": "markdown",
   "metadata": {},
   "source": [
    "__zip_code__:"
   ]
  },
  {
   "cell_type": "code",
   "execution_count": 14,
   "metadata": {},
   "outputs": [
    {
     "data": {
      "text/plain": [
       "count     200000\n",
       "unique       897\n",
       "top        945xx\n",
       "freq        2203\n",
       "Name: zip_code, dtype: object"
      ]
     },
     "execution_count": 14,
     "metadata": {},
     "output_type": "execute_result"
    }
   ],
   "source": [
    "loans['zip_code'].describe()"
   ]
  },
  {
   "cell_type": "code",
   "execution_count": 15,
   "metadata": {},
   "outputs": [],
   "source": [
    "loans = loans.drop('zip_code', axis=1)"
   ]
  },
  {
   "cell_type": "markdown",
   "metadata": {},
   "source": [
    "__Transform to categorical__:"
   ]
  },
  {
   "cell_type": "code",
   "execution_count": 16,
   "metadata": {},
   "outputs": [],
   "source": [
    "categorical_variables = ['term', 'grade', 'emp_title', 'emp_length', \n",
    "                         'home_ownership', 'addr_state', 'application_type']"
   ]
  },
  {
   "cell_type": "code",
   "execution_count": 17,
   "metadata": {},
   "outputs": [],
   "source": [
    "for variable in categorical_variables:\n",
    "    loans[variable] = loans[variable].astype(\"category\")"
   ]
  },
  {
   "cell_type": "code",
   "execution_count": 18,
   "metadata": {},
   "outputs": [
    {
     "data": {
      "text/html": [
       "<div>\n",
       "<style scoped>\n",
       "    .dataframe tbody tr th:only-of-type {\n",
       "        vertical-align: middle;\n",
       "    }\n",
       "\n",
       "    .dataframe tbody tr th {\n",
       "        vertical-align: top;\n",
       "    }\n",
       "\n",
       "    .dataframe thead th {\n",
       "        text-align: right;\n",
       "    }\n",
       "</style>\n",
       "<table border=\"1\" class=\"dataframe\">\n",
       "  <thead>\n",
       "    <tr style=\"text-align: right;\">\n",
       "      <th></th>\n",
       "      <th>term</th>\n",
       "      <th>grade</th>\n",
       "      <th>emp_title</th>\n",
       "      <th>emp_length</th>\n",
       "      <th>home_ownership</th>\n",
       "      <th>addr_state</th>\n",
       "      <th>application_type</th>\n",
       "    </tr>\n",
       "  </thead>\n",
       "  <tbody>\n",
       "    <tr>\n",
       "      <th>count</th>\n",
       "      <td>200000</td>\n",
       "      <td>200000</td>\n",
       "      <td>200000</td>\n",
       "      <td>188261</td>\n",
       "      <td>200000</td>\n",
       "      <td>200000</td>\n",
       "      <td>200000</td>\n",
       "    </tr>\n",
       "    <tr>\n",
       "      <th>unique</th>\n",
       "      <td>2</td>\n",
       "      <td>7</td>\n",
       "      <td>4</td>\n",
       "      <td>11</td>\n",
       "      <td>6</td>\n",
       "      <td>50</td>\n",
       "      <td>2</td>\n",
       "    </tr>\n",
       "    <tr>\n",
       "      <th>top</th>\n",
       "      <td>36 months</td>\n",
       "      <td>C</td>\n",
       "      <td>Other</td>\n",
       "      <td>10+ years</td>\n",
       "      <td>MORTGAGE</td>\n",
       "      <td>CA</td>\n",
       "      <td>Individual</td>\n",
       "    </tr>\n",
       "    <tr>\n",
       "      <th>freq</th>\n",
       "      <td>143360</td>\n",
       "      <td>59166</td>\n",
       "      <td>191808</td>\n",
       "      <td>66594</td>\n",
       "      <td>98520</td>\n",
       "      <td>27955</td>\n",
       "      <td>194099</td>\n",
       "    </tr>\n",
       "  </tbody>\n",
       "</table>\n",
       "</div>"
      ],
      "text/plain": [
       "              term   grade emp_title emp_length home_ownership addr_state  \\\n",
       "count       200000  200000    200000     188261         200000     200000   \n",
       "unique           2       7         4         11              6         50   \n",
       "top      36 months       C     Other  10+ years       MORTGAGE         CA   \n",
       "freq        143360   59166    191808      66594          98520      27955   \n",
       "\n",
       "       application_type  \n",
       "count            200000  \n",
       "unique                2  \n",
       "top          Individual  \n",
       "freq             194099  "
      ]
     },
     "execution_count": 18,
     "metadata": {},
     "output_type": "execute_result"
    }
   ],
   "source": [
    "loans[categorical_variables].describe()"
   ]
  },
  {
   "cell_type": "markdown",
   "metadata": {},
   "source": [
    "#### 3.3 - Dates"
   ]
  },
  {
   "cell_type": "markdown",
   "metadata": {},
   "source": [
    "We have just one date variable, `issue_d`. We are only interested in the year of the loan and we will consider it as categorical variable:"
   ]
  },
  {
   "cell_type": "code",
   "execution_count": 19,
   "metadata": {},
   "outputs": [],
   "source": [
    "loans['issue_d'] = loans['issue_d'].map(lambda x: x[4:])"
   ]
  },
  {
   "cell_type": "code",
   "execution_count": 20,
   "metadata": {},
   "outputs": [],
   "source": [
    "loans['issue_d'] = loans['issue_d'].astype('category')"
   ]
  },
  {
   "cell_type": "code",
   "execution_count": 21,
   "metadata": {},
   "outputs": [
    {
     "data": {
      "text/plain": [
       "count     200000\n",
       "unique        11\n",
       "top         2017\n",
       "freq       50507\n",
       "Name: issue_d, dtype: object"
      ]
     },
     "execution_count": 21,
     "metadata": {},
     "output_type": "execute_result"
    }
   ],
   "source": [
    "loans['issue_d'].describe()"
   ]
  },
  {
   "cell_type": "code",
   "execution_count": 45,
   "metadata": {},
   "outputs": [],
   "source": [
    "categorical_variables = ['issue_d', 'term', 'grade', 'emp_title', 'emp_length', \n",
    "                         'home_ownership', 'addr_state', 'application_type']"
   ]
  },
  {
   "cell_type": "code",
   "execution_count": 175,
   "metadata": {},
   "outputs": [],
   "source": [
    "from sklearn.linear_model import LogisticRegression\n",
    "from sklearn.ensemble import RandomForestClassifier\n",
    "\n",
    "from sklearn.model_selection import train_test_split, GridSearchCV, StratifiedKFold, cross_val_score\n",
    "from sklearn.metrics import roc_curve, roc_auc_score, confusion_matrix, precision_recall_fscore_support"
   ]
  },
  {
   "cell_type": "code",
   "execution_count": 55,
   "metadata": {},
   "outputs": [],
   "source": [
    "data_for_modeling = loans[(loans['loan_status'] == 0) |\n",
    "                          (loans['loan_status'] == 1)]"
   ]
  },
  {
   "cell_type": "code",
   "execution_count": 56,
   "metadata": {},
   "outputs": [
    {
     "data": {
      "text/plain": [
       "(97501, 18)"
      ]
     },
     "execution_count": 56,
     "metadata": {},
     "output_type": "execute_result"
    }
   ],
   "source": [
    "data_for_modeling.shape"
   ]
  },
  {
   "cell_type": "code",
   "execution_count": 57,
   "metadata": {},
   "outputs": [
    {
     "data": {
      "text/plain": [
       "funded_amnt_inv        float64\n",
       "term                  category\n",
       "issue_d               category\n",
       "installment            float64\n",
       "int_rate               float64\n",
       "grade                 category\n",
       "emp_title             category\n",
       "emp_length            category\n",
       "annual_inc             float64\n",
       "dti                    float64\n",
       "home_ownership        category\n",
       "addr_state            category\n",
       "last_pymnt_amnt        float64\n",
       "total_pymnt_inv        float64\n",
       "total_rec_late_fee     float64\n",
       "application_type      category\n",
       "total_acc              float64\n",
       "loan_status           category\n",
       "dtype: object"
      ]
     },
     "execution_count": 57,
     "metadata": {},
     "output_type": "execute_result"
    }
   ],
   "source": [
    "data_for_modeling.dtypes"
   ]
  },
  {
   "cell_type": "code",
   "execution_count": 58,
   "metadata": {},
   "outputs": [
    {
     "data": {
      "text/html": [
       "<div>\n",
       "<style scoped>\n",
       "    .dataframe tbody tr th:only-of-type {\n",
       "        vertical-align: middle;\n",
       "    }\n",
       "\n",
       "    .dataframe tbody tr th {\n",
       "        vertical-align: top;\n",
       "    }\n",
       "\n",
       "    .dataframe thead th {\n",
       "        text-align: right;\n",
       "    }\n",
       "</style>\n",
       "<table border=\"1\" class=\"dataframe\">\n",
       "  <thead>\n",
       "    <tr style=\"text-align: right;\">\n",
       "      <th></th>\n",
       "      <th>funded_amnt_inv</th>\n",
       "      <th>term</th>\n",
       "      <th>issue_d</th>\n",
       "      <th>installment</th>\n",
       "      <th>int_rate</th>\n",
       "      <th>grade</th>\n",
       "      <th>emp_title</th>\n",
       "      <th>emp_length</th>\n",
       "      <th>annual_inc</th>\n",
       "      <th>dti</th>\n",
       "      <th>home_ownership</th>\n",
       "      <th>addr_state</th>\n",
       "      <th>last_pymnt_amnt</th>\n",
       "      <th>total_pymnt_inv</th>\n",
       "      <th>total_rec_late_fee</th>\n",
       "      <th>application_type</th>\n",
       "      <th>total_acc</th>\n",
       "      <th>loan_status</th>\n",
       "    </tr>\n",
       "  </thead>\n",
       "  <tbody>\n",
       "    <tr>\n",
       "      <th>1345261</th>\n",
       "      <td>10000.0</td>\n",
       "      <td>36 months</td>\n",
       "      <td>2015</td>\n",
       "      <td>308.73</td>\n",
       "      <td>6.99</td>\n",
       "      <td>A</td>\n",
       "      <td>Other</td>\n",
       "      <td>&lt; 1 year</td>\n",
       "      <td>70000.0</td>\n",
       "      <td>21.79</td>\n",
       "      <td>MORTGAGE</td>\n",
       "      <td>AZ</td>\n",
       "      <td>7761.77</td>\n",
       "      <td>10543.79</td>\n",
       "      <td>0.0</td>\n",
       "      <td>Individual</td>\n",
       "      <td>23.0</td>\n",
       "      <td>0</td>\n",
       "    </tr>\n",
       "    <tr>\n",
       "      <th>1004346</th>\n",
       "      <td>12000.0</td>\n",
       "      <td>60 months</td>\n",
       "      <td>2013</td>\n",
       "      <td>293.67</td>\n",
       "      <td>16.29</td>\n",
       "      <td>C</td>\n",
       "      <td>Other</td>\n",
       "      <td>6 years</td>\n",
       "      <td>60000.0</td>\n",
       "      <td>18.14</td>\n",
       "      <td>MORTGAGE</td>\n",
       "      <td>FL</td>\n",
       "      <td>397.31</td>\n",
       "      <td>15720.07</td>\n",
       "      <td>0.0</td>\n",
       "      <td>Individual</td>\n",
       "      <td>29.0</td>\n",
       "      <td>0</td>\n",
       "    </tr>\n",
       "    <tr>\n",
       "      <th>1458620</th>\n",
       "      <td>34000.0</td>\n",
       "      <td>36 months</td>\n",
       "      <td>2015</td>\n",
       "      <td>1083.89</td>\n",
       "      <td>9.17</td>\n",
       "      <td>B</td>\n",
       "      <td>Other</td>\n",
       "      <td>10+ years</td>\n",
       "      <td>200000.0</td>\n",
       "      <td>11.05</td>\n",
       "      <td>MORTGAGE</td>\n",
       "      <td>TX</td>\n",
       "      <td>1083.89</td>\n",
       "      <td>13418.32</td>\n",
       "      <td>0.0</td>\n",
       "      <td>Individual</td>\n",
       "      <td>19.0</td>\n",
       "      <td>1</td>\n",
       "    </tr>\n",
       "    <tr>\n",
       "      <th>1133231</th>\n",
       "      <td>15775.0</td>\n",
       "      <td>36 months</td>\n",
       "      <td>2014</td>\n",
       "      <td>546.77</td>\n",
       "      <td>14.99</td>\n",
       "      <td>C</td>\n",
       "      <td>Other</td>\n",
       "      <td>&lt; 1 year</td>\n",
       "      <td>36000.0</td>\n",
       "      <td>18.40</td>\n",
       "      <td>RENT</td>\n",
       "      <td>CA</td>\n",
       "      <td>5216.23</td>\n",
       "      <td>19405.98</td>\n",
       "      <td>0.0</td>\n",
       "      <td>Individual</td>\n",
       "      <td>9.0</td>\n",
       "      <td>0</td>\n",
       "    </tr>\n",
       "    <tr>\n",
       "      <th>1690706</th>\n",
       "      <td>16000.0</td>\n",
       "      <td>36 months</td>\n",
       "      <td>2015</td>\n",
       "      <td>523.75</td>\n",
       "      <td>10.99</td>\n",
       "      <td>B</td>\n",
       "      <td>Other</td>\n",
       "      <td>10+ years</td>\n",
       "      <td>50000.0</td>\n",
       "      <td>21.65</td>\n",
       "      <td>MORTGAGE</td>\n",
       "      <td>AL</td>\n",
       "      <td>519.25</td>\n",
       "      <td>18766.98</td>\n",
       "      <td>0.0</td>\n",
       "      <td>Individual</td>\n",
       "      <td>17.0</td>\n",
       "      <td>0</td>\n",
       "    </tr>\n",
       "  </tbody>\n",
       "</table>\n",
       "</div>"
      ],
      "text/plain": [
       "         funded_amnt_inv        term issue_d  installment  int_rate grade  \\\n",
       "1345261          10000.0   36 months    2015       308.73      6.99     A   \n",
       "1004346          12000.0   60 months    2013       293.67     16.29     C   \n",
       "1458620          34000.0   36 months    2015      1083.89      9.17     B   \n",
       "1133231          15775.0   36 months    2014       546.77     14.99     C   \n",
       "1690706          16000.0   36 months    2015       523.75     10.99     B   \n",
       "\n",
       "        emp_title emp_length  annual_inc    dti home_ownership addr_state  \\\n",
       "1345261     Other   < 1 year     70000.0  21.79       MORTGAGE         AZ   \n",
       "1004346     Other    6 years     60000.0  18.14       MORTGAGE         FL   \n",
       "1458620     Other  10+ years    200000.0  11.05       MORTGAGE         TX   \n",
       "1133231     Other   < 1 year     36000.0  18.40           RENT         CA   \n",
       "1690706     Other  10+ years     50000.0  21.65       MORTGAGE         AL   \n",
       "\n",
       "         last_pymnt_amnt  total_pymnt_inv  total_rec_late_fee  \\\n",
       "1345261          7761.77         10543.79                 0.0   \n",
       "1004346           397.31         15720.07                 0.0   \n",
       "1458620          1083.89         13418.32                 0.0   \n",
       "1133231          5216.23         19405.98                 0.0   \n",
       "1690706           519.25         18766.98                 0.0   \n",
       "\n",
       "        application_type  total_acc loan_status  \n",
       "1345261       Individual       23.0           0  \n",
       "1004346       Individual       29.0           0  \n",
       "1458620       Individual       19.0           1  \n",
       "1133231       Individual        9.0           0  \n",
       "1690706       Individual       17.0           0  "
      ]
     },
     "execution_count": 58,
     "metadata": {},
     "output_type": "execute_result"
    }
   ],
   "source": [
    "data_for_modeling.head()"
   ]
  },
  {
   "cell_type": "code",
   "execution_count": 59,
   "metadata": {},
   "outputs": [
    {
     "data": {
      "text/plain": [
       "['issue_d',\n",
       " 'term',\n",
       " 'grade',\n",
       " 'emp_title',\n",
       " 'emp_length',\n",
       " 'home_ownership',\n",
       " 'addr_state',\n",
       " 'application_type']"
      ]
     },
     "execution_count": 59,
     "metadata": {},
     "output_type": "execute_result"
    }
   ],
   "source": [
    "categorical_variables"
   ]
  },
  {
   "cell_type": "code",
   "execution_count": 60,
   "metadata": {},
   "outputs": [],
   "source": [
    "categorical_for_modeling = ['term', 'grade', 'emp_title', 'emp_length', 'home_ownership', \n",
    "                            'application_type']"
   ]
  },
  {
   "cell_type": "code",
   "execution_count": 61,
   "metadata": {},
   "outputs": [],
   "source": [
    "data_for_modeling = pd.get_dummies(data_for_modeling, columns = categorical_for_modeling)"
   ]
  },
  {
   "cell_type": "code",
   "execution_count": 62,
   "metadata": {},
   "outputs": [],
   "source": [
    "data_for_modeling = data_for_modeling.drop([\"issue_d\", \"addr_state\"], axis = 1)"
   ]
  },
  {
   "cell_type": "code",
   "execution_count": 63,
   "metadata": {},
   "outputs": [
    {
     "data": {
      "text/html": [
       "<div>\n",
       "<style scoped>\n",
       "    .dataframe tbody tr th:only-of-type {\n",
       "        vertical-align: middle;\n",
       "    }\n",
       "\n",
       "    .dataframe tbody tr th {\n",
       "        vertical-align: top;\n",
       "    }\n",
       "\n",
       "    .dataframe thead th {\n",
       "        text-align: right;\n",
       "    }\n",
       "</style>\n",
       "<table border=\"1\" class=\"dataframe\">\n",
       "  <thead>\n",
       "    <tr style=\"text-align: right;\">\n",
       "      <th></th>\n",
       "      <th>funded_amnt_inv</th>\n",
       "      <th>installment</th>\n",
       "      <th>int_rate</th>\n",
       "      <th>annual_inc</th>\n",
       "      <th>dti</th>\n",
       "      <th>last_pymnt_amnt</th>\n",
       "      <th>total_pymnt_inv</th>\n",
       "      <th>total_rec_late_fee</th>\n",
       "      <th>total_acc</th>\n",
       "      <th>loan_status</th>\n",
       "      <th>...</th>\n",
       "      <th>emp_length_9 years</th>\n",
       "      <th>emp_length_&lt; 1 year</th>\n",
       "      <th>home_ownership_ANY</th>\n",
       "      <th>home_ownership_MORTGAGE</th>\n",
       "      <th>home_ownership_NONE</th>\n",
       "      <th>home_ownership_OTHER</th>\n",
       "      <th>home_ownership_OWN</th>\n",
       "      <th>home_ownership_RENT</th>\n",
       "      <th>application_type_Individual</th>\n",
       "      <th>application_type_Joint App</th>\n",
       "    </tr>\n",
       "  </thead>\n",
       "  <tbody>\n",
       "    <tr>\n",
       "      <th>1345261</th>\n",
       "      <td>10000.0</td>\n",
       "      <td>308.73</td>\n",
       "      <td>6.99</td>\n",
       "      <td>70000.0</td>\n",
       "      <td>21.79</td>\n",
       "      <td>7761.77</td>\n",
       "      <td>10543.79</td>\n",
       "      <td>0.0</td>\n",
       "      <td>23.0</td>\n",
       "      <td>0</td>\n",
       "      <td>...</td>\n",
       "      <td>0</td>\n",
       "      <td>1</td>\n",
       "      <td>0</td>\n",
       "      <td>1</td>\n",
       "      <td>0</td>\n",
       "      <td>0</td>\n",
       "      <td>0</td>\n",
       "      <td>0</td>\n",
       "      <td>1</td>\n",
       "      <td>0</td>\n",
       "    </tr>\n",
       "    <tr>\n",
       "      <th>1004346</th>\n",
       "      <td>12000.0</td>\n",
       "      <td>293.67</td>\n",
       "      <td>16.29</td>\n",
       "      <td>60000.0</td>\n",
       "      <td>18.14</td>\n",
       "      <td>397.31</td>\n",
       "      <td>15720.07</td>\n",
       "      <td>0.0</td>\n",
       "      <td>29.0</td>\n",
       "      <td>0</td>\n",
       "      <td>...</td>\n",
       "      <td>0</td>\n",
       "      <td>0</td>\n",
       "      <td>0</td>\n",
       "      <td>1</td>\n",
       "      <td>0</td>\n",
       "      <td>0</td>\n",
       "      <td>0</td>\n",
       "      <td>0</td>\n",
       "      <td>1</td>\n",
       "      <td>0</td>\n",
       "    </tr>\n",
       "    <tr>\n",
       "      <th>1458620</th>\n",
       "      <td>34000.0</td>\n",
       "      <td>1083.89</td>\n",
       "      <td>9.17</td>\n",
       "      <td>200000.0</td>\n",
       "      <td>11.05</td>\n",
       "      <td>1083.89</td>\n",
       "      <td>13418.32</td>\n",
       "      <td>0.0</td>\n",
       "      <td>19.0</td>\n",
       "      <td>1</td>\n",
       "      <td>...</td>\n",
       "      <td>0</td>\n",
       "      <td>0</td>\n",
       "      <td>0</td>\n",
       "      <td>1</td>\n",
       "      <td>0</td>\n",
       "      <td>0</td>\n",
       "      <td>0</td>\n",
       "      <td>0</td>\n",
       "      <td>1</td>\n",
       "      <td>0</td>\n",
       "    </tr>\n",
       "    <tr>\n",
       "      <th>1133231</th>\n",
       "      <td>15775.0</td>\n",
       "      <td>546.77</td>\n",
       "      <td>14.99</td>\n",
       "      <td>36000.0</td>\n",
       "      <td>18.40</td>\n",
       "      <td>5216.23</td>\n",
       "      <td>19405.98</td>\n",
       "      <td>0.0</td>\n",
       "      <td>9.0</td>\n",
       "      <td>0</td>\n",
       "      <td>...</td>\n",
       "      <td>0</td>\n",
       "      <td>1</td>\n",
       "      <td>0</td>\n",
       "      <td>0</td>\n",
       "      <td>0</td>\n",
       "      <td>0</td>\n",
       "      <td>0</td>\n",
       "      <td>1</td>\n",
       "      <td>1</td>\n",
       "      <td>0</td>\n",
       "    </tr>\n",
       "    <tr>\n",
       "      <th>1690706</th>\n",
       "      <td>16000.0</td>\n",
       "      <td>523.75</td>\n",
       "      <td>10.99</td>\n",
       "      <td>50000.0</td>\n",
       "      <td>21.65</td>\n",
       "      <td>519.25</td>\n",
       "      <td>18766.98</td>\n",
       "      <td>0.0</td>\n",
       "      <td>17.0</td>\n",
       "      <td>0</td>\n",
       "      <td>...</td>\n",
       "      <td>0</td>\n",
       "      <td>0</td>\n",
       "      <td>0</td>\n",
       "      <td>1</td>\n",
       "      <td>0</td>\n",
       "      <td>0</td>\n",
       "      <td>0</td>\n",
       "      <td>0</td>\n",
       "      <td>1</td>\n",
       "      <td>0</td>\n",
       "    </tr>\n",
       "  </tbody>\n",
       "</table>\n",
       "<p>5 rows × 42 columns</p>\n",
       "</div>"
      ],
      "text/plain": [
       "         funded_amnt_inv  installment  int_rate  annual_inc    dti  \\\n",
       "1345261          10000.0       308.73      6.99     70000.0  21.79   \n",
       "1004346          12000.0       293.67     16.29     60000.0  18.14   \n",
       "1458620          34000.0      1083.89      9.17    200000.0  11.05   \n",
       "1133231          15775.0       546.77     14.99     36000.0  18.40   \n",
       "1690706          16000.0       523.75     10.99     50000.0  21.65   \n",
       "\n",
       "         last_pymnt_amnt  total_pymnt_inv  total_rec_late_fee  total_acc  \\\n",
       "1345261          7761.77         10543.79                 0.0       23.0   \n",
       "1004346           397.31         15720.07                 0.0       29.0   \n",
       "1458620          1083.89         13418.32                 0.0       19.0   \n",
       "1133231          5216.23         19405.98                 0.0        9.0   \n",
       "1690706           519.25         18766.98                 0.0       17.0   \n",
       "\n",
       "        loan_status             ...              emp_length_9 years  \\\n",
       "1345261           0             ...                               0   \n",
       "1004346           0             ...                               0   \n",
       "1458620           1             ...                               0   \n",
       "1133231           0             ...                               0   \n",
       "1690706           0             ...                               0   \n",
       "\n",
       "         emp_length_< 1 year  home_ownership_ANY  home_ownership_MORTGAGE  \\\n",
       "1345261                    1                   0                        1   \n",
       "1004346                    0                   0                        1   \n",
       "1458620                    0                   0                        1   \n",
       "1133231                    1                   0                        0   \n",
       "1690706                    0                   0                        1   \n",
       "\n",
       "         home_ownership_NONE  home_ownership_OTHER  home_ownership_OWN  \\\n",
       "1345261                    0                     0                   0   \n",
       "1004346                    0                     0                   0   \n",
       "1458620                    0                     0                   0   \n",
       "1133231                    0                     0                   0   \n",
       "1690706                    0                     0                   0   \n",
       "\n",
       "         home_ownership_RENT  application_type_Individual  \\\n",
       "1345261                    0                            1   \n",
       "1004346                    0                            1   \n",
       "1458620                    0                            1   \n",
       "1133231                    1                            1   \n",
       "1690706                    0                            1   \n",
       "\n",
       "         application_type_Joint App  \n",
       "1345261                           0  \n",
       "1004346                           0  \n",
       "1458620                           0  \n",
       "1133231                           0  \n",
       "1690706                           0  \n",
       "\n",
       "[5 rows x 42 columns]"
      ]
     },
     "execution_count": 63,
     "metadata": {},
     "output_type": "execute_result"
    }
   ],
   "source": [
    "data_for_modeling.head()"
   ]
  },
  {
   "cell_type": "code",
   "execution_count": 47,
   "metadata": {},
   "outputs": [
    {
     "data": {
      "text/plain": [
       "['funded_amnt_inv',\n",
       " 'installment',\n",
       " 'int_rate',\n",
       " 'annual_inc',\n",
       " 'dti',\n",
       " 'last_pymnt_amnt',\n",
       " 'total_pymnt_inv',\n",
       " 'total_rec_late_fee',\n",
       " 'total_acc']"
      ]
     },
     "execution_count": 47,
     "metadata": {},
     "output_type": "execute_result"
    }
   ],
   "source": [
    "numerical_variables"
   ]
  },
  {
   "cell_type": "code",
   "execution_count": 212,
   "metadata": {},
   "outputs": [],
   "source": [
    "data_for_modeling = data_for_modeling.drop(['last_pymnt_amnt', 'total_pymnt_inv'], axis = 1)"
   ]
  },
  {
   "cell_type": "code",
   "execution_count": 213,
   "metadata": {},
   "outputs": [
    {
     "data": {
      "text/html": [
       "<div>\n",
       "<style scoped>\n",
       "    .dataframe tbody tr th:only-of-type {\n",
       "        vertical-align: middle;\n",
       "    }\n",
       "\n",
       "    .dataframe tbody tr th {\n",
       "        vertical-align: top;\n",
       "    }\n",
       "\n",
       "    .dataframe thead th {\n",
       "        text-align: right;\n",
       "    }\n",
       "</style>\n",
       "<table border=\"1\" class=\"dataframe\">\n",
       "  <thead>\n",
       "    <tr style=\"text-align: right;\">\n",
       "      <th></th>\n",
       "      <th>funded_amnt_inv</th>\n",
       "      <th>installment</th>\n",
       "      <th>int_rate</th>\n",
       "      <th>annual_inc</th>\n",
       "      <th>dti</th>\n",
       "      <th>total_rec_late_fee</th>\n",
       "      <th>total_acc</th>\n",
       "      <th>loan_status</th>\n",
       "      <th>term_ 36 months</th>\n",
       "      <th>term_ 60 months</th>\n",
       "      <th>...</th>\n",
       "      <th>emp_length_9 years</th>\n",
       "      <th>emp_length_&lt; 1 year</th>\n",
       "      <th>home_ownership_ANY</th>\n",
       "      <th>home_ownership_MORTGAGE</th>\n",
       "      <th>home_ownership_NONE</th>\n",
       "      <th>home_ownership_OTHER</th>\n",
       "      <th>home_ownership_OWN</th>\n",
       "      <th>home_ownership_RENT</th>\n",
       "      <th>application_type_Individual</th>\n",
       "      <th>application_type_Joint App</th>\n",
       "    </tr>\n",
       "  </thead>\n",
       "  <tbody>\n",
       "    <tr>\n",
       "      <th>1345261</th>\n",
       "      <td>10000.0</td>\n",
       "      <td>308.73</td>\n",
       "      <td>6.99</td>\n",
       "      <td>70000.0</td>\n",
       "      <td>21.79</td>\n",
       "      <td>0.0</td>\n",
       "      <td>23.0</td>\n",
       "      <td>0</td>\n",
       "      <td>1</td>\n",
       "      <td>0</td>\n",
       "      <td>...</td>\n",
       "      <td>0</td>\n",
       "      <td>1</td>\n",
       "      <td>0</td>\n",
       "      <td>1</td>\n",
       "      <td>0</td>\n",
       "      <td>0</td>\n",
       "      <td>0</td>\n",
       "      <td>0</td>\n",
       "      <td>1</td>\n",
       "      <td>0</td>\n",
       "    </tr>\n",
       "    <tr>\n",
       "      <th>1004346</th>\n",
       "      <td>12000.0</td>\n",
       "      <td>293.67</td>\n",
       "      <td>16.29</td>\n",
       "      <td>60000.0</td>\n",
       "      <td>18.14</td>\n",
       "      <td>0.0</td>\n",
       "      <td>29.0</td>\n",
       "      <td>0</td>\n",
       "      <td>0</td>\n",
       "      <td>1</td>\n",
       "      <td>...</td>\n",
       "      <td>0</td>\n",
       "      <td>0</td>\n",
       "      <td>0</td>\n",
       "      <td>1</td>\n",
       "      <td>0</td>\n",
       "      <td>0</td>\n",
       "      <td>0</td>\n",
       "      <td>0</td>\n",
       "      <td>1</td>\n",
       "      <td>0</td>\n",
       "    </tr>\n",
       "    <tr>\n",
       "      <th>1458620</th>\n",
       "      <td>34000.0</td>\n",
       "      <td>1083.89</td>\n",
       "      <td>9.17</td>\n",
       "      <td>200000.0</td>\n",
       "      <td>11.05</td>\n",
       "      <td>0.0</td>\n",
       "      <td>19.0</td>\n",
       "      <td>1</td>\n",
       "      <td>1</td>\n",
       "      <td>0</td>\n",
       "      <td>...</td>\n",
       "      <td>0</td>\n",
       "      <td>0</td>\n",
       "      <td>0</td>\n",
       "      <td>1</td>\n",
       "      <td>0</td>\n",
       "      <td>0</td>\n",
       "      <td>0</td>\n",
       "      <td>0</td>\n",
       "      <td>1</td>\n",
       "      <td>0</td>\n",
       "    </tr>\n",
       "    <tr>\n",
       "      <th>1133231</th>\n",
       "      <td>15775.0</td>\n",
       "      <td>546.77</td>\n",
       "      <td>14.99</td>\n",
       "      <td>36000.0</td>\n",
       "      <td>18.40</td>\n",
       "      <td>0.0</td>\n",
       "      <td>9.0</td>\n",
       "      <td>0</td>\n",
       "      <td>1</td>\n",
       "      <td>0</td>\n",
       "      <td>...</td>\n",
       "      <td>0</td>\n",
       "      <td>1</td>\n",
       "      <td>0</td>\n",
       "      <td>0</td>\n",
       "      <td>0</td>\n",
       "      <td>0</td>\n",
       "      <td>0</td>\n",
       "      <td>1</td>\n",
       "      <td>1</td>\n",
       "      <td>0</td>\n",
       "    </tr>\n",
       "    <tr>\n",
       "      <th>1690706</th>\n",
       "      <td>16000.0</td>\n",
       "      <td>523.75</td>\n",
       "      <td>10.99</td>\n",
       "      <td>50000.0</td>\n",
       "      <td>21.65</td>\n",
       "      <td>0.0</td>\n",
       "      <td>17.0</td>\n",
       "      <td>0</td>\n",
       "      <td>1</td>\n",
       "      <td>0</td>\n",
       "      <td>...</td>\n",
       "      <td>0</td>\n",
       "      <td>0</td>\n",
       "      <td>0</td>\n",
       "      <td>1</td>\n",
       "      <td>0</td>\n",
       "      <td>0</td>\n",
       "      <td>0</td>\n",
       "      <td>0</td>\n",
       "      <td>1</td>\n",
       "      <td>0</td>\n",
       "    </tr>\n",
       "  </tbody>\n",
       "</table>\n",
       "<p>5 rows × 40 columns</p>\n",
       "</div>"
      ],
      "text/plain": [
       "         funded_amnt_inv  installment  int_rate  annual_inc    dti  \\\n",
       "1345261          10000.0       308.73      6.99     70000.0  21.79   \n",
       "1004346          12000.0       293.67     16.29     60000.0  18.14   \n",
       "1458620          34000.0      1083.89      9.17    200000.0  11.05   \n",
       "1133231          15775.0       546.77     14.99     36000.0  18.40   \n",
       "1690706          16000.0       523.75     10.99     50000.0  21.65   \n",
       "\n",
       "         total_rec_late_fee  total_acc loan_status  term_ 36 months  \\\n",
       "1345261                 0.0       23.0           0                1   \n",
       "1004346                 0.0       29.0           0                0   \n",
       "1458620                 0.0       19.0           1                1   \n",
       "1133231                 0.0        9.0           0                1   \n",
       "1690706                 0.0       17.0           0                1   \n",
       "\n",
       "         term_ 60 months             ...              emp_length_9 years  \\\n",
       "1345261                0             ...                               0   \n",
       "1004346                1             ...                               0   \n",
       "1458620                0             ...                               0   \n",
       "1133231                0             ...                               0   \n",
       "1690706                0             ...                               0   \n",
       "\n",
       "         emp_length_< 1 year  home_ownership_ANY  home_ownership_MORTGAGE  \\\n",
       "1345261                    1                   0                        1   \n",
       "1004346                    0                   0                        1   \n",
       "1458620                    0                   0                        1   \n",
       "1133231                    1                   0                        0   \n",
       "1690706                    0                   0                        1   \n",
       "\n",
       "         home_ownership_NONE  home_ownership_OTHER  home_ownership_OWN  \\\n",
       "1345261                    0                     0                   0   \n",
       "1004346                    0                     0                   0   \n",
       "1458620                    0                     0                   0   \n",
       "1133231                    0                     0                   0   \n",
       "1690706                    0                     0                   0   \n",
       "\n",
       "         home_ownership_RENT  application_type_Individual  \\\n",
       "1345261                    0                            1   \n",
       "1004346                    0                            1   \n",
       "1458620                    0                            1   \n",
       "1133231                    1                            1   \n",
       "1690706                    0                            1   \n",
       "\n",
       "         application_type_Joint App  \n",
       "1345261                           0  \n",
       "1004346                           0  \n",
       "1458620                           0  \n",
       "1133231                           0  \n",
       "1690706                           0  \n",
       "\n",
       "[5 rows x 40 columns]"
      ]
     },
     "execution_count": 213,
     "metadata": {},
     "output_type": "execute_result"
    }
   ],
   "source": [
    "data_for_modeling.head()"
   ]
  }
 ],
 "metadata": {
  "kernelspec": {
   "display_name": "Python 3",
   "language": "python",
   "name": "python3"
  },
  "language_info": {
   "codemirror_mode": {
    "name": "ipython",
    "version": 3
   },
   "file_extension": ".py",
   "mimetype": "text/x-python",
   "name": "python",
   "nbconvert_exporter": "python",
   "pygments_lexer": "ipython3",
   "version": "3.6.4"
  }
 },
 "nbformat": 4,
 "nbformat_minor": 2
}
