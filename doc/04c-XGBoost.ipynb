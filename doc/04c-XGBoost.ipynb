{
 "cells": [
  {
   "cell_type": "markdown",
   "metadata": {},
   "source": [
    "XG Boost\n",
    "======="
   ]
  },
  {
   "cell_type": "code",
   "execution_count": 1,
   "metadata": {},
   "outputs": [],
   "source": [
    "# remove warnings\n",
    "import warnings\n",
    "warnings.filterwarnings('ignore')\n",
    "\n",
    "import pandas as pd\n",
    "import numpy as np\n",
    "import matplotlib.pyplot as plt; plt.style.use(\"ggplot\")\n",
    "\n",
    "import xgboost as xgb\n",
    "\n",
    "from sklearn.model_selection import train_test_split, GridSearchCV, StratifiedKFold, cross_val_score\n",
    "from sklearn.metrics import roc_curve, roc_auc_score, confusion_matrix,\\\n",
    "                            precision_recall_fscore_support, auc, accuracy_score\n",
    "\n",
    "from bayes_opt import BayesianOptimization"
   ]
  },
  {
   "cell_type": "code",
   "execution_count": 2,
   "metadata": {},
   "outputs": [],
   "source": [
    "data = pd.read_csv(\"../data/loans_sample_processed.csv\", sep = \"^\").sample(100000, random_state = 4290)"
   ]
  },
  {
   "cell_type": "code",
   "execution_count": 3,
   "metadata": {
    "scrolled": true
   },
   "outputs": [
    {
     "data": {
      "text/html": [
       "<div>\n",
       "<style scoped>\n",
       "    .dataframe tbody tr th:only-of-type {\n",
       "        vertical-align: middle;\n",
       "    }\n",
       "\n",
       "    .dataframe tbody tr th {\n",
       "        vertical-align: top;\n",
       "    }\n",
       "\n",
       "    .dataframe thead th {\n",
       "        text-align: right;\n",
       "    }\n",
       "</style>\n",
       "<table border=\"1\" class=\"dataframe\">\n",
       "  <thead>\n",
       "    <tr style=\"text-align: right;\">\n",
       "      <th></th>\n",
       "      <th>funded_amnt_inv</th>\n",
       "      <th>installment</th>\n",
       "      <th>int_rate</th>\n",
       "      <th>annual_inc</th>\n",
       "      <th>dti</th>\n",
       "      <th>total_rec_late_fee</th>\n",
       "      <th>total_acc</th>\n",
       "      <th>manager</th>\n",
       "      <th>refinance</th>\n",
       "      <th>term_ 36 months</th>\n",
       "      <th>...</th>\n",
       "      <th>emp_length_&lt; 1 year</th>\n",
       "      <th>home_ownership_ANY</th>\n",
       "      <th>home_ownership_MORTGAGE</th>\n",
       "      <th>home_ownership_NONE</th>\n",
       "      <th>home_ownership_OTHER</th>\n",
       "      <th>home_ownership_OWN</th>\n",
       "      <th>home_ownership_RENT</th>\n",
       "      <th>application_type_Individual</th>\n",
       "      <th>application_type_Joint App</th>\n",
       "      <th>non_payment</th>\n",
       "    </tr>\n",
       "  </thead>\n",
       "  <tbody>\n",
       "    <tr>\n",
       "      <th>337231</th>\n",
       "      <td>15000.0</td>\n",
       "      <td>555.32</td>\n",
       "      <td>19.72</td>\n",
       "      <td>55000.00</td>\n",
       "      <td>15.77</td>\n",
       "      <td>0.0</td>\n",
       "      <td>47.0</td>\n",
       "      <td>0</td>\n",
       "      <td>1</td>\n",
       "      <td>1</td>\n",
       "      <td>...</td>\n",
       "      <td>0</td>\n",
       "      <td>0</td>\n",
       "      <td>0</td>\n",
       "      <td>0</td>\n",
       "      <td>0</td>\n",
       "      <td>0</td>\n",
       "      <td>1</td>\n",
       "      <td>1</td>\n",
       "      <td>0</td>\n",
       "      <td>0</td>\n",
       "    </tr>\n",
       "    <tr>\n",
       "      <th>556157</th>\n",
       "      <td>15400.0</td>\n",
       "      <td>515.12</td>\n",
       "      <td>12.49</td>\n",
       "      <td>110000.00</td>\n",
       "      <td>10.19</td>\n",
       "      <td>0.0</td>\n",
       "      <td>26.0</td>\n",
       "      <td>0</td>\n",
       "      <td>1</td>\n",
       "      <td>1</td>\n",
       "      <td>...</td>\n",
       "      <td>0</td>\n",
       "      <td>0</td>\n",
       "      <td>0</td>\n",
       "      <td>0</td>\n",
       "      <td>0</td>\n",
       "      <td>0</td>\n",
       "      <td>1</td>\n",
       "      <td>1</td>\n",
       "      <td>0</td>\n",
       "      <td>0</td>\n",
       "    </tr>\n",
       "    <tr>\n",
       "      <th>580514</th>\n",
       "      <td>15000.0</td>\n",
       "      <td>501.74</td>\n",
       "      <td>12.49</td>\n",
       "      <td>44275.82</td>\n",
       "      <td>13.93</td>\n",
       "      <td>0.0</td>\n",
       "      <td>17.0</td>\n",
       "      <td>0</td>\n",
       "      <td>1</td>\n",
       "      <td>1</td>\n",
       "      <td>...</td>\n",
       "      <td>0</td>\n",
       "      <td>0</td>\n",
       "      <td>0</td>\n",
       "      <td>0</td>\n",
       "      <td>0</td>\n",
       "      <td>0</td>\n",
       "      <td>1</td>\n",
       "      <td>1</td>\n",
       "      <td>0</td>\n",
       "      <td>1</td>\n",
       "    </tr>\n",
       "    <tr>\n",
       "      <th>446532</th>\n",
       "      <td>12000.0</td>\n",
       "      <td>377.09</td>\n",
       "      <td>8.19</td>\n",
       "      <td>69000.00</td>\n",
       "      <td>19.63</td>\n",
       "      <td>0.0</td>\n",
       "      <td>19.0</td>\n",
       "      <td>0</td>\n",
       "      <td>1</td>\n",
       "      <td>1</td>\n",
       "      <td>...</td>\n",
       "      <td>0</td>\n",
       "      <td>0</td>\n",
       "      <td>0</td>\n",
       "      <td>0</td>\n",
       "      <td>0</td>\n",
       "      <td>0</td>\n",
       "      <td>1</td>\n",
       "      <td>1</td>\n",
       "      <td>0</td>\n",
       "      <td>0</td>\n",
       "    </tr>\n",
       "    <tr>\n",
       "      <th>95642</th>\n",
       "      <td>2300.0</td>\n",
       "      <td>78.60</td>\n",
       "      <td>13.99</td>\n",
       "      <td>30000.00</td>\n",
       "      <td>18.68</td>\n",
       "      <td>0.0</td>\n",
       "      <td>11.0</td>\n",
       "      <td>1</td>\n",
       "      <td>1</td>\n",
       "      <td>1</td>\n",
       "      <td>...</td>\n",
       "      <td>0</td>\n",
       "      <td>0</td>\n",
       "      <td>0</td>\n",
       "      <td>0</td>\n",
       "      <td>0</td>\n",
       "      <td>0</td>\n",
       "      <td>1</td>\n",
       "      <td>1</td>\n",
       "      <td>0</td>\n",
       "      <td>0</td>\n",
       "    </tr>\n",
       "  </tbody>\n",
       "</table>\n",
       "<p>5 rows × 38 columns</p>\n",
       "</div>"
      ],
      "text/plain": [
       "        funded_amnt_inv  installment  int_rate  annual_inc    dti  \\\n",
       "337231          15000.0       555.32     19.72    55000.00  15.77   \n",
       "556157          15400.0       515.12     12.49   110000.00  10.19   \n",
       "580514          15000.0       501.74     12.49    44275.82  13.93   \n",
       "446532          12000.0       377.09      8.19    69000.00  19.63   \n",
       "95642            2300.0        78.60     13.99    30000.00  18.68   \n",
       "\n",
       "        total_rec_late_fee  total_acc  manager  refinance  term_ 36 months  \\\n",
       "337231                 0.0       47.0        0          1                1   \n",
       "556157                 0.0       26.0        0          1                1   \n",
       "580514                 0.0       17.0        0          1                1   \n",
       "446532                 0.0       19.0        0          1                1   \n",
       "95642                  0.0       11.0        1          1                1   \n",
       "\n",
       "           ...       emp_length_< 1 year  home_ownership_ANY  \\\n",
       "337231     ...                         0                   0   \n",
       "556157     ...                         0                   0   \n",
       "580514     ...                         0                   0   \n",
       "446532     ...                         0                   0   \n",
       "95642      ...                         0                   0   \n",
       "\n",
       "        home_ownership_MORTGAGE  home_ownership_NONE  home_ownership_OTHER  \\\n",
       "337231                        0                    0                     0   \n",
       "556157                        0                    0                     0   \n",
       "580514                        0                    0                     0   \n",
       "446532                        0                    0                     0   \n",
       "95642                         0                    0                     0   \n",
       "\n",
       "        home_ownership_OWN  home_ownership_RENT  application_type_Individual  \\\n",
       "337231                   0                    1                            1   \n",
       "556157                   0                    1                            1   \n",
       "580514                   0                    1                            1   \n",
       "446532                   0                    1                            1   \n",
       "95642                    0                    1                            1   \n",
       "\n",
       "        application_type_Joint App  non_payment  \n",
       "337231                           0            0  \n",
       "556157                           0            0  \n",
       "580514                           0            1  \n",
       "446532                           0            0  \n",
       "95642                            0            0  \n",
       "\n",
       "[5 rows x 38 columns]"
      ]
     },
     "execution_count": 3,
     "metadata": {},
     "output_type": "execute_result"
    }
   ],
   "source": [
    "data.head()"
   ]
  },
  {
   "cell_type": "code",
   "execution_count": 4,
   "metadata": {},
   "outputs": [
    {
     "data": {
      "text/plain": [
       "(100000, 38)"
      ]
     },
     "execution_count": 4,
     "metadata": {},
     "output_type": "execute_result"
    }
   ],
   "source": [
    "data.shape"
   ]
  },
  {
   "cell_type": "markdown",
   "metadata": {},
   "source": [
    "__Train / Test split:__"
   ]
  },
  {
   "cell_type": "code",
   "execution_count": 5,
   "metadata": {},
   "outputs": [],
   "source": [
    "X = data.loc[:, data.columns!='non_payment']"
   ]
  },
  {
   "cell_type": "code",
   "execution_count": 6,
   "metadata": {},
   "outputs": [],
   "source": [
    "y = data['non_payment']"
   ]
  },
  {
   "cell_type": "code",
   "execution_count": 7,
   "metadata": {},
   "outputs": [],
   "source": [
    "X_train, X_test, y_train, y_test = train_test_split(X, y, test_size=0.20, random_state=4290)"
   ]
  },
  {
   "cell_type": "code",
   "execution_count": 8,
   "metadata": {},
   "outputs": [],
   "source": [
    "X_train = X_train.as_matrix()\n",
    "X_test = X_test.as_matrix()"
   ]
  },
  {
   "cell_type": "markdown",
   "metadata": {},
   "source": [
    "__Prior__:"
   ]
  },
  {
   "cell_type": "code",
   "execution_count": 9,
   "metadata": {
    "scrolled": true
   },
   "outputs": [
    {
     "data": {
      "text/plain": [
       "0.79388"
      ]
     },
     "execution_count": 9,
     "metadata": {},
     "output_type": "execute_result"
    }
   ],
   "source": [
    "y.value_counts()[0] / len(y)"
   ]
  },
  {
   "cell_type": "markdown",
   "metadata": {},
   "source": [
    "__XG Boost__ with Bayesian Optimization:"
   ]
  },
  {
   "cell_type": "markdown",
   "metadata": {},
   "source": [
    "Parameters for optimization:"
   ]
  },
  {
   "cell_type": "code",
   "execution_count": 10,
   "metadata": {},
   "outputs": [],
   "source": [
    "xg_params_bay = {'colsample_bytree': (0.4, 1.0),\n",
    "                 'max_depth': (2, 15),\n",
    "                 'subsample': (0.4, 1.0),\n",
    "                 'n_estimators': (10, 1500),\n",
    "                 'learning_rate': (0.001, 0.3)}"
   ]
  },
  {
   "cell_type": "markdown",
   "metadata": {},
   "source": [
    "XG Boost evaluate function for Bayesian optimization:"
   ]
  },
  {
   "cell_type": "code",
   "execution_count": 11,
   "metadata": {},
   "outputs": [],
   "source": [
    "def xgb_evaluate(colsample_bytree, max_depth, subsample, n_estimators, learning_rate):\n",
    "    \n",
    "    # params:\n",
    "    params = {'colsample_bytree': colsample_bytree,\n",
    "              'max_depth': int(max_depth),\n",
    "              'subsample': subsample,\n",
    "              'n_estimators': int(n_estimators),\n",
    "              'learning_rate': learning_rate}\n",
    "    \n",
    "    # gradient boosting model\n",
    "    gbm = xgb.XGBClassifier(colsample_bytree=params['colsample_bytree'], \n",
    "                            max_depth=params['max_depth'], \n",
    "                            subsample=params['subsample'], \n",
    "                            n_estimators=params['n_estimators'],\n",
    "                            learning_rate=params['learning_rate'])\n",
    "    \n",
    "    gbm.fit(X_train, y_train)\n",
    "    \n",
    "    # scores in the test set\n",
    "    y_scores_test = gbm.predict_proba(X_test)\n",
    "    y_scores_test = pd.DataFrame(y_scores_test).loc[:,1]\n",
    "    \n",
    "    \n",
    "    # metric to optimize\n",
    "    metric = roc_auc_score(y_test, y_scores_test)\n",
    "    \n",
    "    return metric"
   ]
  },
  {
   "cell_type": "markdown",
   "metadata": {},
   "source": [
    "Bayesian Optimization:"
   ]
  },
  {
   "cell_type": "code",
   "execution_count": 12,
   "metadata": {},
   "outputs": [],
   "source": [
    "bay_optimization = BayesianOptimization(xgb_evaluate, xg_params_bay)"
   ]
  },
  {
   "cell_type": "code",
   "execution_count": 13,
   "metadata": {
    "scrolled": true
   },
   "outputs": [
    {
     "name": "stdout",
     "output_type": "stream",
     "text": [
      "\u001b[31mInitialization\u001b[0m\n",
      "\u001b[94m-----------------------------------------------------------------------------------------------------------------\u001b[0m\n",
      " Step |   Time |      Value |   colsample_bytree |   learning_rate |   max_depth |   n_estimators |   subsample | \n",
      "{'colsample_bytree': 0.8680632737860082, 'max_depth': 4, 'subsample': 0.8941577540724481, 'n_estimators': 1260, 'learning_rate': 0.14513031880474364}\n",
      "    1 | 04m16s | \u001b[35m   0.71082\u001b[0m | \u001b[32m            0.8681\u001b[0m | \u001b[32m         0.1451\u001b[0m | \u001b[32m     4.2849\u001b[0m | \u001b[32m     1260.9191\u001b[0m | \u001b[32m     0.8942\u001b[0m | \n",
      "{'colsample_bytree': 0.522939313984844, 'max_depth': 12, 'subsample': 0.4060215610149257, 'n_estimators': 98, 'learning_rate': 0.1865051063997713}\n",
      "    2 | 00m48s |    0.68019 |             0.5229 |          0.1865 |     12.4960 |        98.6424 |      0.4060 | \n",
      "{'colsample_bytree': 0.8208910527930338, 'max_depth': 10, 'subsample': 0.4581686745818149, 'n_estimators': 125, 'learning_rate': 0.07142120722387724}\n",
      "    3 | 01m16s | \u001b[35m   0.71342\u001b[0m | \u001b[32m            0.8209\u001b[0m | \u001b[32m         0.0714\u001b[0m | \u001b[32m    10.1946\u001b[0m | \u001b[32m      125.6991\u001b[0m | \u001b[32m     0.4582\u001b[0m | \n",
      "{'colsample_bytree': 0.9784305796905214, 'max_depth': 14, 'subsample': 0.8511381076937536, 'n_estimators': 16, 'learning_rate': 0.2604426759279896}\n",
      "    4 | 00m09s |    0.69526 |             0.9784 |          0.2604 |     14.3449 |        16.8510 |      0.8511 | \n",
      "{'colsample_bytree': 0.7774932603630362, 'max_depth': 5, 'subsample': 0.4200961580526546, 'n_estimators': 554, 'learning_rate': 0.08609589820809413}\n",
      "    5 | 01m19s | \u001b[35m   0.71482\u001b[0m | \u001b[32m            0.7775\u001b[0m | \u001b[32m         0.0861\u001b[0m | \u001b[32m     5.9143\u001b[0m | \u001b[32m      554.5352\u001b[0m | \u001b[32m     0.4201\u001b[0m | \n",
      "\u001b[31mBayesian Optimization\u001b[0m\n",
      "\u001b[94m-----------------------------------------------------------------------------------------------------------------\u001b[0m\n",
      " Step |   Time |      Value |   colsample_bytree |   learning_rate |   max_depth |   n_estimators |   subsample | \n",
      "{'colsample_bytree': 0.4, 'max_depth': 15, 'subsample': 0.4, 'n_estimators': 1500, 'learning_rate': 0.001}\n",
      "    6 | 06m31s | \u001b[35m   0.71844\u001b[0m | \u001b[32m            0.4000\u001b[0m | \u001b[32m         0.0010\u001b[0m | \u001b[32m    15.0000\u001b[0m | \u001b[32m     1500.0000\u001b[0m | \u001b[32m     0.4000\u001b[0m | \n",
      "{'colsample_bytree': 1.0, 'max_depth': 15, 'subsample': 1.0, 'n_estimators': 912, 'learning_rate': 0.001}\n",
      "    7 | 13m27s |    0.69663 |             1.0000 |          0.0010 |     15.0000 |       912.3149 |      1.0000 | \n",
      "{'colsample_bytree': 1.0, 'max_depth': 15, 'subsample': 1.0, 'n_estimators': 355, 'learning_rate': 0.3}\n",
      "    8 | 03m43s |    0.67124 |             1.0000 |          0.3000 |     15.0000 |       355.0014 |      1.0000 | \n",
      "{'colsample_bytree': 1.0, 'max_depth': 2, 'subsample': 1.0, 'n_estimators': 737, 'learning_rate': 0.0010000001940267064}\n",
      "    9 | 01m11s |    0.69775 |             1.0000 |          0.0010 |      2.0000 |       737.4301 |      1.0000 | \n",
      "{'colsample_bytree': 0.4, 'max_depth': 2, 'subsample': 0.4, 'n_estimators': 1089, 'learning_rate': 0.3}\n",
      "   10 | 01m07s |    0.71514 |             0.4000 |          0.3000 |      2.0000 |      1089.9821 |      0.4000 | \n",
      "{'colsample_bytree': 0.4, 'max_depth': 2, 'subsample': 0.4, 'n_estimators': 1398, 'learning_rate': 0.3}\n",
      "   11 | 01m33s |    0.71288 |             0.4000 |          0.3000 |      2.0000 |      1398.9277 |      0.4000 | \n",
      "{'colsample_bytree': 0.6166437471995796, 'max_depth': 2, 'subsample': 0.903739100299478, 'n_estimators': 237, 'learning_rate': 0.29999999910565045}\n",
      "   12 | 00m34s | \u001b[35m   0.72097\u001b[0m | \u001b[32m            0.6166\u001b[0m | \u001b[32m         0.3000\u001b[0m | \u001b[32m     2.0000\u001b[0m | \u001b[32m      237.2600\u001b[0m | \u001b[32m     0.9037\u001b[0m | \n",
      "{'colsample_bytree': 1.0, 'max_depth': 15, 'subsample': 0.9999999999975661, 'n_estimators': 645, 'learning_rate': 0.18334033125269303}\n",
      "   13 | 07m57s |    0.67340 |             1.0000 |          0.1833 |     15.0000 |       645.8775 |      1.0000 | \n",
      "{'colsample_bytree': 1.0, 'max_depth': 15, 'subsample': 0.40000000000111957, 'n_estimators': 1166, 'learning_rate': 0.001}\n",
      "   14 | 18m40s |    0.71524 |             1.0000 |          0.0010 |     15.0000 |      1166.1574 |      0.4000 | \n",
      "{'colsample_bytree': 0.9986814987998095, 'max_depth': 2, 'subsample': 1.0, 'n_estimators': 456, 'learning_rate': 0.0010000068705941782}\n",
      "   15 | 01m12s |    0.69626 |             0.9987 |          0.0010 |      2.0000 |       456.0626 |      1.0000 | \n",
      "{'colsample_bytree': 0.7192750169073232, 'max_depth': 14, 'subsample': 0.6932640184091389, 'n_estimators': 194, 'learning_rate': 0.14343981114189566}\n",
      "   16 | 02m34s |    0.68322 |             0.7193 |          0.1434 |     14.9929 |       194.0499 |      0.6933 | \n",
      "{'colsample_bytree': 0.6606162846574937, 'max_depth': 2, 'subsample': 0.9248863256870743, 'n_estimators': 11, 'learning_rate': 0.22733442545749938}\n",
      "   17 | 00m24s |    0.70564 |             0.6606 |          0.2273 |      2.1891 |        11.2927 |      0.9249 | \n",
      "{'colsample_bytree': 0.9999999999996939, 'max_depth': 15, 'subsample': 0.4, 'n_estimators': 1338, 'learning_rate': 0.001}\n",
      "   18 | 22m48s |    0.71512 |             1.0000 |          0.0010 |     15.0000 |      1338.5555 |      0.4000 | \n",
      "{'colsample_bytree': 1.0, 'max_depth': 15, 'subsample': 1.0, 'n_estimators': 1011, 'learning_rate': 0.07911846895995718}\n",
      "   19 | 14m15s |    0.67915 |             1.0000 |          0.0791 |     15.0000 |      1011.2117 |      1.0000 | \n",
      "{'colsample_bytree': 0.7879041684752776, 'max_depth': 2, 'subsample': 0.41566024338670704, 'n_estimators': 835, 'learning_rate': 0.21908760827417975}\n",
      "   20 | 01m07s |    0.71744 |             0.7879 |          0.2191 |      2.0635 |       835.9657 |      0.4157 | \n",
      "{'colsample_bytree': 0.999999996670622, 'max_depth': 2, 'subsample': 0.999999996097781, 'n_estimators': 941, 'learning_rate': 0.001}\n",
      "   21 | 01m13s |    0.69888 |             1.0000 |          0.0010 |      2.0000 |       941.3483 |      1.0000 | \n",
      "{'colsample_bytree': 0.43649439552890845, 'max_depth': 14, 'subsample': 0.7627940454060198, 'n_estimators': 1441, 'learning_rate': 0.19737720100567457}\n",
      "   22 | 05m35s |    0.65753 |             0.4365 |          0.1974 |     14.9901 |      1441.1163 |      0.7628 | \n",
      "{'colsample_bytree': 0.9999999999999362, 'max_depth': 2, 'subsample': 0.5398877583884161, 'n_estimators': 1500, 'learning_rate': 0.3}\n",
      "   23 | 01m31s |    0.71203 |             1.0000 |          0.3000 |      2.0000 |      1500.0000 |      0.5399 | \n",
      "{'colsample_bytree': 1.0, 'max_depth': 2, 'subsample': 0.9105882715574368, 'n_estimators': 166, 'learning_rate': 0.001}\n",
      "   24 | 00m16s |    0.67140 |             1.0000 |          0.0010 |      2.0000 |       166.4967 |      0.9106 | \n",
      "{'colsample_bytree': 0.4, 'max_depth': 15, 'subsample': 0.4, 'n_estimators': 503, 'learning_rate': 0.08983894035540463}\n",
      "   25 | 01m40s |    0.67331 |             0.4000 |          0.0898 |     15.0000 |       503.2227 |      0.4000 | \n",
      "{'colsample_bytree': 0.4, 'max_depth': 2, 'subsample': 0.4, 'n_estimators': 297, 'learning_rate': 0.29999999643270653}\n",
      "   26 | 00m18s |    0.71802 |             0.4000 |          0.3000 |      2.0000 |       297.7636 |      0.4000 | \n",
      "{'colsample_bytree': 0.4, 'max_depth': 15, 'subsample': 0.4, 'n_estimators': 788, 'learning_rate': 0.2999999981574299}\n",
      "   27 | 02m24s |    0.64134 |             0.4000 |          0.3000 |     15.0000 |       788.5039 |      0.4000 | \n",
      "{'colsample_bytree': 1.0, 'max_depth': 2, 'subsample': 1.0, 'n_estimators': 1187, 'learning_rate': 0.3}\n",
      "   28 | 00m57s |    0.71718 |             1.0000 |          0.3000 |      2.0000 |      1187.4892 |      1.0000 | \n",
      "{'colsample_bytree': 0.9833001882043102, 'max_depth': 14, 'subsample': 0.9210396887943966, 'n_estimators': 268, 'learning_rate': 0.2911039416970438}\n",
      "   29 | 01m27s |    0.66766 |             0.9833 |          0.2911 |     14.8412 |       268.6865 |      0.9210 | \n",
      "{'colsample_bytree': 0.7320908347599162, 'max_depth': 2, 'subsample': 0.6714806984771886, 'n_estimators': 1322, 'learning_rate': 0.11442714466156059}\n",
      "   30 | 01m04s |    0.72072 |             0.7321 |          0.1144 |      2.0163 |      1322.6442 |      0.6715 | \n"
     ]
    }
   ],
   "source": [
    "bay_optimization.maximize()"
   ]
  },
  {
   "cell_type": "code",
   "execution_count": 14,
   "metadata": {},
   "outputs": [],
   "source": [
    "gbm = xgb.XGBClassifier(colsample_bytree=0.6, \n",
    "                            max_depth=2, \n",
    "                            subsample=0.9, \n",
    "                            n_estimators=500,\n",
    "                            learning_rate=0.3)"
   ]
  },
  {
   "cell_type": "code",
   "execution_count": 15,
   "metadata": {},
   "outputs": [
    {
     "data": {
      "text/plain": [
       "XGBClassifier(base_score=0.5, booster='gbtree', colsample_bylevel=1,\n",
       "       colsample_bytree=0.6, gamma=0, learning_rate=0.3, max_delta_step=0,\n",
       "       max_depth=2, min_child_weight=1, missing=None, n_estimators=500,\n",
       "       n_jobs=1, nthread=None, objective='binary:logistic', random_state=0,\n",
       "       reg_alpha=0, reg_lambda=1, scale_pos_weight=1, seed=None,\n",
       "       silent=True, subsample=0.9)"
      ]
     },
     "execution_count": 15,
     "metadata": {},
     "output_type": "execute_result"
    }
   ],
   "source": [
    "gbm.fit(X_train, y_train)"
   ]
  },
  {
   "cell_type": "markdown",
   "metadata": {},
   "source": [
    "__Model Evaluation__"
   ]
  },
  {
   "cell_type": "markdown",
   "metadata": {},
   "source": [
    "AUC in the train set:"
   ]
  },
  {
   "cell_type": "code",
   "execution_count": 16,
   "metadata": {},
   "outputs": [],
   "source": [
    "y_scores_train = gbm.predict_proba(X_train)\n",
    "\n",
    "y_scores_train = pd.DataFrame(y_scores_train).loc[:,1]"
   ]
  },
  {
   "cell_type": "code",
   "execution_count": 17,
   "metadata": {},
   "outputs": [
    {
     "data": {
      "text/plain": [
       "0.7511083002726155"
      ]
     },
     "execution_count": 17,
     "metadata": {},
     "output_type": "execute_result"
    }
   ],
   "source": [
    "roc_auc_score(y_train, y_scores_train)"
   ]
  },
  {
   "cell_type": "markdown",
   "metadata": {},
   "source": [
    "ROC Curve:"
   ]
  },
  {
   "cell_type": "code",
   "execution_count": 19,
   "metadata": {},
   "outputs": [],
   "source": [
    "y_scores = gbm.predict_proba(X_test)\n",
    "\n",
    "y_scores = pd.DataFrame(y_scores).loc[:,1]"
   ]
  },
  {
   "cell_type": "code",
   "execution_count": 20,
   "metadata": {},
   "outputs": [],
   "source": [
    "fpr, tpr, _ = roc_curve(y_test, y_scores)"
   ]
  },
  {
   "cell_type": "code",
   "execution_count": 21,
   "metadata": {},
   "outputs": [
    {
     "data": {
      "text/plain": [
       "<matplotlib.legend.Legend at 0x7f0bf50ac470>"
      ]
     },
     "execution_count": 21,
     "metadata": {},
     "output_type": "execute_result"
    },
    {
     "data": {
      "image/png": "[encoded data removed]",
      "text/plain": [
       "<matplotlib.figure.Figure at 0x7f0bf513e358>"
      ]
     },
     "metadata": {},
     "output_type": "display_data"
    }
   ],
   "source": [
    "plt.plot(fpr, tpr, color='darkorange', lw=2, label='ROC curve (area = %0.2f)' % auc(fpr, tpr))\n",
    "plt.plot([0, 1], [0, 1], color='navy', lw=2, linestyle='--')\n",
    "plt.xlim([-0.05, 1.0])\n",
    "plt.ylim([0.0, 1.05])\n",
    "plt.xlabel('False Positive Rate')\n",
    "plt.ylabel('True Positive Rate')\n",
    "plt.title('ROC Curve')\n",
    "plt.legend(loc=\"lower right\")"
   ]
  },
  {
   "cell_type": "markdown",
   "metadata": {},
   "source": [
    "AUC:"
   ]
  },
  {
   "cell_type": "code",
   "execution_count": 22,
   "metadata": {},
   "outputs": [
    {
     "data": {
      "text/plain": [
       "0.7204332943382775"
      ]
     },
     "execution_count": 22,
     "metadata": {},
     "output_type": "execute_result"
    }
   ],
   "source": [
    "roc_auc_score(y_test, y_scores)"
   ]
  },
  {
   "cell_type": "code",
   "execution_count": 26,
   "metadata": {},
   "outputs": [
    {
     "data": {
      "text/plain": [
       "array([[15461,   383],\n",
       "       [ 3592,   564]])"
      ]
     },
     "execution_count": 26,
     "metadata": {},
     "output_type": "execute_result"
    }
   ],
   "source": [
    "confusion_matrix(y_test, y_predictions)"
   ]
  },
  {
   "cell_type": "markdown",
   "metadata": {},
   "source": [
    "Accuracy:"
   ]
  },
  {
   "cell_type": "code",
   "execution_count": 27,
   "metadata": {},
   "outputs": [
    {
     "data": {
      "text/plain": [
       "0.80125"
      ]
     },
     "execution_count": 27,
     "metadata": {},
     "output_type": "execute_result"
    }
   ],
   "source": [
    "accuracy_score(y_test, y_predictions)"
   ]
  },
  {
   "cell_type": "markdown",
   "metadata": {},
   "source": [
    "Recall:"
   ]
  },
  {
   "cell_type": "code",
   "execution_count": 28,
   "metadata": {},
   "outputs": [
    {
     "data": {
      "text/plain": [
       "array([0.81147326, 0.59556494])"
      ]
     },
     "execution_count": 28,
     "metadata": {},
     "output_type": "execute_result"
    }
   ],
   "source": [
    "precision_recall_fscore_support(y_test, y_predictions) [0]"
   ]
  },
  {
   "cell_type": "markdown",
   "metadata": {},
   "source": [
    "Precision:"
   ]
  },
  {
   "cell_type": "code",
   "execution_count": 29,
   "metadata": {
    "scrolled": true
   },
   "outputs": [
    {
     "data": {
      "text/plain": [
       "array([0.97582681, 0.13570741])"
      ]
     },
     "execution_count": 29,
     "metadata": {},
     "output_type": "execute_result"
    }
   ],
   "source": [
    "precision_recall_fscore_support(y_test, y_predictions) [1]"
   ]
  },
  {
   "cell_type": "markdown",
   "metadata": {},
   "source": [
    "__Output__:"
   ]
  },
  {
   "cell_type": "code",
   "execution_count": 32,
   "metadata": {},
   "outputs": [],
   "source": [
    "y_scores_train.to_csv(\"../output/y_scores_train_xg.csv\", sep = \"^\", index = False)\n",
    "y_scores.to_csv(\"../output/y_scores_test_xg.csv\", sep = \"^\", index = False)"
   ]
  }
 ],
 "metadata": {
  "kernelspec": {
   "display_name": "Python 3",
   "language": "python",
   "name": "python3"
  },
  "language_info": {
   "codemirror_mode": {
    "name": "ipython",
    "version": 3
   },
   "file_extension": ".py",
   "mimetype": "text/x-python",
   "name": "python",
   "nbconvert_exporter": "python",
   "pygments_lexer": "ipython3",
   "version": "3.6.4"
  }
 },
 "nbformat": 4,
 "nbformat_minor": 2
}
