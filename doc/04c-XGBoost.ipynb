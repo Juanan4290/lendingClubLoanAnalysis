{
 "cells": [
  {
   "cell_type": "markdown",
   "metadata": {},
   "source": [
    "XG Boost\n",
    "======="
   ]
  },
  {
   "cell_type": "markdown",
   "metadata": {},
   "source": [
    "Libraries"
   ]
  },
  {
   "cell_type": "code",
   "execution_count": 1,
   "metadata": {},
   "outputs": [],
   "source": [
    "# remove warnings\n",
    "import warnings\n",
    "warnings.filterwarnings('ignore')\n",
    "\n",
    "import pandas as pd\n",
    "import numpy as np\n",
    "import matplotlib.pyplot as plt; plt.style.use(\"ggplot\")\n",
    "\n",
    "from scipy.stats import randint as sp_randint\n",
    "import xgboost as xgb\n",
    "\n",
    "from sklearn.model_selection import train_test_split, GridSearchCV, StratifiedKFold, cross_val_score, RandomizedSearchCV\n",
    "from sklearn.metrics import roc_curve, roc_auc_score, confusion_matrix,\\\n",
    "                            precision_recall_fscore_support, auc, accuracy_score\n",
    "\n",
    "from bayes_opt import BayesianOptimization"
   ]
  },
  {
   "cell_type": "markdown",
   "metadata": {},
   "source": [
    "#### Read Data:"
   ]
  },
  {
   "cell_type": "code",
   "execution_count": 2,
   "metadata": {},
   "outputs": [],
   "source": [
    "data = pd.read_csv(\"/media/juanan/DATA/loan_data_analysis/data/loans_processed.csv\", sep = \"^\")\\\n",
    "                   .sample(100000)"
   ]
  },
  {
   "cell_type": "code",
   "execution_count": 3,
   "metadata": {
    "scrolled": true
   },
   "outputs": [
    {
     "data": {
      "text/html": [
       "<div>\n",
       "<style scoped>\n",
       "    .dataframe tbody tr th:only-of-type {\n",
       "        vertical-align: middle;\n",
       "    }\n",
       "\n",
       "    .dataframe tbody tr th {\n",
       "        vertical-align: top;\n",
       "    }\n",
       "\n",
       "    .dataframe thead th {\n",
       "        text-align: right;\n",
       "    }\n",
       "</style>\n",
       "<table border=\"1\" class=\"dataframe\">\n",
       "  <thead>\n",
       "    <tr style=\"text-align: right;\">\n",
       "      <th></th>\n",
       "      <th>addr_state</th>\n",
       "      <th>annual_inc</th>\n",
       "      <th>application_type</th>\n",
       "      <th>avg_cur_bal</th>\n",
       "      <th>bc_open_to_buy</th>\n",
       "      <th>bc_util</th>\n",
       "      <th>delinq_2yrs</th>\n",
       "      <th>delinq_amnt</th>\n",
       "      <th>disbursement_method</th>\n",
       "      <th>dti</th>\n",
       "      <th>...</th>\n",
       "      <th>revol_util</th>\n",
       "      <th>sub_grade</th>\n",
       "      <th>tax_liens</th>\n",
       "      <th>term</th>\n",
       "      <th>tot_coll_amt</th>\n",
       "      <th>tot_hi_cred_lim</th>\n",
       "      <th>total_bal_ex_mort</th>\n",
       "      <th>total_bc_limit</th>\n",
       "      <th>total_il_high_credit_limit</th>\n",
       "      <th>verification_status</th>\n",
       "    </tr>\n",
       "  </thead>\n",
       "  <tbody>\n",
       "    <tr>\n",
       "      <th>332160</th>\n",
       "      <td>AZ</td>\n",
       "      <td>105000.0</td>\n",
       "      <td>Individual</td>\n",
       "      <td>9520.0</td>\n",
       "      <td>59772.0</td>\n",
       "      <td>28.6</td>\n",
       "      <td>1.0</td>\n",
       "      <td>0.0</td>\n",
       "      <td>Cash</td>\n",
       "      <td>31.61</td>\n",
       "      <td>...</td>\n",
       "      <td>23.9</td>\n",
       "      <td>A5</td>\n",
       "      <td>0.0</td>\n",
       "      <td>36 months</td>\n",
       "      <td>0.0</td>\n",
       "      <td>418208.0</td>\n",
       "      <td>83949.0</td>\n",
       "      <td>83700.0</td>\n",
       "      <td>114511.0</td>\n",
       "      <td>Not Verified</td>\n",
       "    </tr>\n",
       "    <tr>\n",
       "      <th>274531</th>\n",
       "      <td>CO</td>\n",
       "      <td>148000.0</td>\n",
       "      <td>Individual</td>\n",
       "      <td>9464.0</td>\n",
       "      <td>37783.0</td>\n",
       "      <td>67.6</td>\n",
       "      <td>0.0</td>\n",
       "      <td>0.0</td>\n",
       "      <td>Cash</td>\n",
       "      <td>32.70</td>\n",
       "      <td>...</td>\n",
       "      <td>57.7</td>\n",
       "      <td>B3</td>\n",
       "      <td>0.0</td>\n",
       "      <td>36 months</td>\n",
       "      <td>0.0</td>\n",
       "      <td>588595.0</td>\n",
       "      <td>146120.0</td>\n",
       "      <td>116700.0</td>\n",
       "      <td>97852.0</td>\n",
       "      <td>Not Verified</td>\n",
       "    </tr>\n",
       "    <tr>\n",
       "      <th>493881</th>\n",
       "      <td>NJ</td>\n",
       "      <td>94000.0</td>\n",
       "      <td>Individual</td>\n",
       "      <td>9086.0</td>\n",
       "      <td>8304.0</td>\n",
       "      <td>30.5</td>\n",
       "      <td>3.0</td>\n",
       "      <td>0.0</td>\n",
       "      <td>Cash</td>\n",
       "      <td>17.44</td>\n",
       "      <td>...</td>\n",
       "      <td>27.3</td>\n",
       "      <td>C2</td>\n",
       "      <td>0.0</td>\n",
       "      <td>36 months</td>\n",
       "      <td>0.0</td>\n",
       "      <td>309321.0</td>\n",
       "      <td>76321.0</td>\n",
       "      <td>11700.0</td>\n",
       "      <td>76998.0</td>\n",
       "      <td>Verified</td>\n",
       "    </tr>\n",
       "    <tr>\n",
       "      <th>794516</th>\n",
       "      <td>VA</td>\n",
       "      <td>71500.0</td>\n",
       "      <td>Individual</td>\n",
       "      <td>7107.0</td>\n",
       "      <td>83019.0</td>\n",
       "      <td>0.6</td>\n",
       "      <td>0.0</td>\n",
       "      <td>0.0</td>\n",
       "      <td>Cash</td>\n",
       "      <td>9.01</td>\n",
       "      <td>...</td>\n",
       "      <td>4.4</td>\n",
       "      <td>A1</td>\n",
       "      <td>0.0</td>\n",
       "      <td>36 months</td>\n",
       "      <td>0.0</td>\n",
       "      <td>214450.0</td>\n",
       "      <td>12101.0</td>\n",
       "      <td>83500.0</td>\n",
       "      <td>17300.0</td>\n",
       "      <td>Source Verified</td>\n",
       "    </tr>\n",
       "    <tr>\n",
       "      <th>505865</th>\n",
       "      <td>NC</td>\n",
       "      <td>72000.0</td>\n",
       "      <td>Individual</td>\n",
       "      <td>3270.0</td>\n",
       "      <td>2350.0</td>\n",
       "      <td>85.8</td>\n",
       "      <td>0.0</td>\n",
       "      <td>0.0</td>\n",
       "      <td>Cash</td>\n",
       "      <td>22.32</td>\n",
       "      <td>...</td>\n",
       "      <td>68.0</td>\n",
       "      <td>C1</td>\n",
       "      <td>0.0</td>\n",
       "      <td>36 months</td>\n",
       "      <td>0.0</td>\n",
       "      <td>99592.0</td>\n",
       "      <td>39610.0</td>\n",
       "      <td>16600.0</td>\n",
       "      <td>40742.0</td>\n",
       "      <td>Source Verified</td>\n",
       "    </tr>\n",
       "  </tbody>\n",
       "</table>\n",
       "<p>5 rows × 48 columns</p>\n",
       "</div>"
      ],
      "text/plain": [
       "       addr_state  annual_inc application_type  avg_cur_bal  bc_open_to_buy  \\\n",
       "332160         AZ    105000.0       Individual       9520.0         59772.0   \n",
       "274531         CO    148000.0       Individual       9464.0         37783.0   \n",
       "493881         NJ     94000.0       Individual       9086.0          8304.0   \n",
       "794516         VA     71500.0       Individual       7107.0         83019.0   \n",
       "505865         NC     72000.0       Individual       3270.0          2350.0   \n",
       "\n",
       "        bc_util  delinq_2yrs  delinq_amnt disbursement_method    dti  \\\n",
       "332160     28.6          1.0          0.0                Cash  31.61   \n",
       "274531     67.6          0.0          0.0                Cash  32.70   \n",
       "493881     30.5          3.0          0.0                Cash  17.44   \n",
       "794516      0.6          0.0          0.0                Cash   9.01   \n",
       "505865     85.8          0.0          0.0                Cash  22.32   \n",
       "\n",
       "               ...          revol_util  sub_grade  tax_liens        term  \\\n",
       "332160         ...                23.9         A5        0.0   36 months   \n",
       "274531         ...                57.7         B3        0.0   36 months   \n",
       "493881         ...                27.3         C2        0.0   36 months   \n",
       "794516         ...                 4.4         A1        0.0   36 months   \n",
       "505865         ...                68.0         C1        0.0   36 months   \n",
       "\n",
       "        tot_coll_amt tot_hi_cred_lim total_bal_ex_mort total_bc_limit  \\\n",
       "332160           0.0        418208.0           83949.0        83700.0   \n",
       "274531           0.0        588595.0          146120.0       116700.0   \n",
       "493881           0.0        309321.0           76321.0        11700.0   \n",
       "794516           0.0        214450.0           12101.0        83500.0   \n",
       "505865           0.0         99592.0           39610.0        16600.0   \n",
       "\n",
       "        total_il_high_credit_limit  verification_status  \n",
       "332160                    114511.0         Not Verified  \n",
       "274531                     97852.0         Not Verified  \n",
       "493881                     76998.0             Verified  \n",
       "794516                     17300.0      Source Verified  \n",
       "505865                     40742.0      Source Verified  \n",
       "\n",
       "[5 rows x 48 columns]"
      ]
     },
     "execution_count": 3,
     "metadata": {},
     "output_type": "execute_result"
    }
   ],
   "source": [
    "data.head()"
   ]
  },
  {
   "cell_type": "code",
   "execution_count": 4,
   "metadata": {},
   "outputs": [
    {
     "data": {
      "text/plain": [
       "(100000, 48)"
      ]
     },
     "execution_count": 4,
     "metadata": {},
     "output_type": "execute_result"
    }
   ],
   "source": [
    "data.shape"
   ]
  },
  {
   "cell_type": "markdown",
   "metadata": {},
   "source": [
    "Data balance:"
   ]
  },
  {
   "cell_type": "code",
   "execution_count": 5,
   "metadata": {},
   "outputs": [
    {
     "data": {
      "text/plain": [
       "0.0    79420\n",
       "1.0    20580\n",
       "Name: loan_status, dtype: int64"
      ]
     },
     "execution_count": 5,
     "metadata": {},
     "output_type": "execute_result"
    }
   ],
   "source": [
    "data['loan_status'].value_counts()"
   ]
  },
  {
   "cell_type": "markdown",
   "metadata": {},
   "source": [
    "#### Pre-processing:"
   ]
  },
  {
   "cell_type": "code",
   "execution_count": 6,
   "metadata": {},
   "outputs": [],
   "source": [
    "categorical_variables = data.select_dtypes(include=\"object\").columns"
   ]
  },
  {
   "cell_type": "code",
   "execution_count": 7,
   "metadata": {},
   "outputs": [],
   "source": [
    "def categorical_to_numeric(variable):\n",
    "    \n",
    "    variable_dict = dict(data.groupby(variable)['loan_status'].mean())\n",
    "    \n",
    "    result = data[variable].map(lambda i: variable_dict[i])\n",
    "    \n",
    "    return result"
   ]
  },
  {
   "cell_type": "code",
   "execution_count": 8,
   "metadata": {},
   "outputs": [],
   "source": [
    "for variable in categorical_variables:\n",
    "    data[variable] = categorical_to_numeric(variable)"
   ]
  },
  {
   "cell_type": "code",
   "execution_count": 9,
   "metadata": {},
   "outputs": [
    {
     "data": {
      "text/html": [
       "<div>\n",
       "<style scoped>\n",
       "    .dataframe tbody tr th:only-of-type {\n",
       "        vertical-align: middle;\n",
       "    }\n",
       "\n",
       "    .dataframe tbody tr th {\n",
       "        vertical-align: top;\n",
       "    }\n",
       "\n",
       "    .dataframe thead th {\n",
       "        text-align: right;\n",
       "    }\n",
       "</style>\n",
       "<table border=\"1\" class=\"dataframe\">\n",
       "  <thead>\n",
       "    <tr style=\"text-align: right;\">\n",
       "      <th></th>\n",
       "      <th>addr_state</th>\n",
       "      <th>annual_inc</th>\n",
       "      <th>application_type</th>\n",
       "      <th>avg_cur_bal</th>\n",
       "      <th>bc_open_to_buy</th>\n",
       "      <th>bc_util</th>\n",
       "      <th>delinq_2yrs</th>\n",
       "      <th>delinq_amnt</th>\n",
       "      <th>disbursement_method</th>\n",
       "      <th>dti</th>\n",
       "      <th>...</th>\n",
       "      <th>revol_util</th>\n",
       "      <th>sub_grade</th>\n",
       "      <th>tax_liens</th>\n",
       "      <th>term</th>\n",
       "      <th>tot_coll_amt</th>\n",
       "      <th>tot_hi_cred_lim</th>\n",
       "      <th>total_bal_ex_mort</th>\n",
       "      <th>total_bc_limit</th>\n",
       "      <th>total_il_high_credit_limit</th>\n",
       "      <th>verification_status</th>\n",
       "    </tr>\n",
       "  </thead>\n",
       "  <tbody>\n",
       "    <tr>\n",
       "      <th>332160</th>\n",
       "      <td>0.216827</td>\n",
       "      <td>105000.0</td>\n",
       "      <td>0.205907</td>\n",
       "      <td>9520.0</td>\n",
       "      <td>59772.0</td>\n",
       "      <td>28.6</td>\n",
       "      <td>1.0</td>\n",
       "      <td>0.0</td>\n",
       "      <td>0.205428</td>\n",
       "      <td>31.61</td>\n",
       "      <td>...</td>\n",
       "      <td>23.9</td>\n",
       "      <td>0.091237</td>\n",
       "      <td>0.0</td>\n",
       "      <td>0.166162</td>\n",
       "      <td>0.0</td>\n",
       "      <td>418208.0</td>\n",
       "      <td>83949.0</td>\n",
       "      <td>83700.0</td>\n",
       "      <td>114511.0</td>\n",
       "      <td>0.152386</td>\n",
       "    </tr>\n",
       "    <tr>\n",
       "      <th>274531</th>\n",
       "      <td>0.157918</td>\n",
       "      <td>148000.0</td>\n",
       "      <td>0.205907</td>\n",
       "      <td>9464.0</td>\n",
       "      <td>37783.0</td>\n",
       "      <td>67.6</td>\n",
       "      <td>0.0</td>\n",
       "      <td>0.0</td>\n",
       "      <td>0.205428</td>\n",
       "      <td>32.70</td>\n",
       "      <td>...</td>\n",
       "      <td>57.7</td>\n",
       "      <td>0.133344</td>\n",
       "      <td>0.0</td>\n",
       "      <td>0.166162</td>\n",
       "      <td>0.0</td>\n",
       "      <td>588595.0</td>\n",
       "      <td>146120.0</td>\n",
       "      <td>116700.0</td>\n",
       "      <td>97852.0</td>\n",
       "      <td>0.152386</td>\n",
       "    </tr>\n",
       "    <tr>\n",
       "      <th>493881</th>\n",
       "      <td>0.210308</td>\n",
       "      <td>94000.0</td>\n",
       "      <td>0.205907</td>\n",
       "      <td>9086.0</td>\n",
       "      <td>8304.0</td>\n",
       "      <td>30.5</td>\n",
       "      <td>3.0</td>\n",
       "      <td>0.0</td>\n",
       "      <td>0.205428</td>\n",
       "      <td>17.44</td>\n",
       "      <td>...</td>\n",
       "      <td>27.3</td>\n",
       "      <td>0.201685</td>\n",
       "      <td>0.0</td>\n",
       "      <td>0.166162</td>\n",
       "      <td>0.0</td>\n",
       "      <td>309321.0</td>\n",
       "      <td>76321.0</td>\n",
       "      <td>11700.0</td>\n",
       "      <td>76998.0</td>\n",
       "      <td>0.241300</td>\n",
       "    </tr>\n",
       "    <tr>\n",
       "      <th>794516</th>\n",
       "      <td>0.208347</td>\n",
       "      <td>71500.0</td>\n",
       "      <td>0.205907</td>\n",
       "      <td>7107.0</td>\n",
       "      <td>83019.0</td>\n",
       "      <td>0.6</td>\n",
       "      <td>0.0</td>\n",
       "      <td>0.0</td>\n",
       "      <td>0.205428</td>\n",
       "      <td>9.01</td>\n",
       "      <td>...</td>\n",
       "      <td>4.4</td>\n",
       "      <td>0.037555</td>\n",
       "      <td>0.0</td>\n",
       "      <td>0.166162</td>\n",
       "      <td>0.0</td>\n",
       "      <td>214450.0</td>\n",
       "      <td>12101.0</td>\n",
       "      <td>83500.0</td>\n",
       "      <td>17300.0</td>\n",
       "      <td>0.219056</td>\n",
       "    </tr>\n",
       "    <tr>\n",
       "      <th>505865</th>\n",
       "      <td>0.206298</td>\n",
       "      <td>72000.0</td>\n",
       "      <td>0.205907</td>\n",
       "      <td>3270.0</td>\n",
       "      <td>2350.0</td>\n",
       "      <td>85.8</td>\n",
       "      <td>0.0</td>\n",
       "      <td>0.0</td>\n",
       "      <td>0.205428</td>\n",
       "      <td>22.32</td>\n",
       "      <td>...</td>\n",
       "      <td>68.0</td>\n",
       "      <td>0.185751</td>\n",
       "      <td>0.0</td>\n",
       "      <td>0.166162</td>\n",
       "      <td>0.0</td>\n",
       "      <td>99592.0</td>\n",
       "      <td>39610.0</td>\n",
       "      <td>16600.0</td>\n",
       "      <td>40742.0</td>\n",
       "      <td>0.219056</td>\n",
       "    </tr>\n",
       "  </tbody>\n",
       "</table>\n",
       "<p>5 rows × 48 columns</p>\n",
       "</div>"
      ],
      "text/plain": [
       "        addr_state  annual_inc  application_type  avg_cur_bal  bc_open_to_buy  \\\n",
       "332160    0.216827    105000.0          0.205907       9520.0         59772.0   \n",
       "274531    0.157918    148000.0          0.205907       9464.0         37783.0   \n",
       "493881    0.210308     94000.0          0.205907       9086.0          8304.0   \n",
       "794516    0.208347     71500.0          0.205907       7107.0         83019.0   \n",
       "505865    0.206298     72000.0          0.205907       3270.0          2350.0   \n",
       "\n",
       "        bc_util  delinq_2yrs  delinq_amnt  disbursement_method    dti  \\\n",
       "332160     28.6          1.0          0.0             0.205428  31.61   \n",
       "274531     67.6          0.0          0.0             0.205428  32.70   \n",
       "493881     30.5          3.0          0.0             0.205428  17.44   \n",
       "794516      0.6          0.0          0.0             0.205428   9.01   \n",
       "505865     85.8          0.0          0.0             0.205428  22.32   \n",
       "\n",
       "               ...           revol_util  sub_grade  tax_liens      term  \\\n",
       "332160         ...                 23.9   0.091237        0.0  0.166162   \n",
       "274531         ...                 57.7   0.133344        0.0  0.166162   \n",
       "493881         ...                 27.3   0.201685        0.0  0.166162   \n",
       "794516         ...                  4.4   0.037555        0.0  0.166162   \n",
       "505865         ...                 68.0   0.185751        0.0  0.166162   \n",
       "\n",
       "        tot_coll_amt  tot_hi_cred_lim  total_bal_ex_mort  total_bc_limit  \\\n",
       "332160           0.0         418208.0            83949.0         83700.0   \n",
       "274531           0.0         588595.0           146120.0        116700.0   \n",
       "493881           0.0         309321.0            76321.0         11700.0   \n",
       "794516           0.0         214450.0            12101.0         83500.0   \n",
       "505865           0.0          99592.0            39610.0         16600.0   \n",
       "\n",
       "        total_il_high_credit_limit  verification_status  \n",
       "332160                    114511.0             0.152386  \n",
       "274531                     97852.0             0.152386  \n",
       "493881                     76998.0             0.241300  \n",
       "794516                     17300.0             0.219056  \n",
       "505865                     40742.0             0.219056  \n",
       "\n",
       "[5 rows x 48 columns]"
      ]
     },
     "execution_count": 9,
     "metadata": {},
     "output_type": "execute_result"
    }
   ],
   "source": [
    "data.head()"
   ]
  },
  {
   "cell_type": "code",
   "execution_count": 10,
   "metadata": {},
   "outputs": [
    {
     "data": {
      "text/plain": [
       "(100000, 48)"
      ]
     },
     "execution_count": 10,
     "metadata": {},
     "output_type": "execute_result"
    }
   ],
   "source": [
    "data.shape"
   ]
  },
  {
   "cell_type": "markdown",
   "metadata": {},
   "source": [
    "Target:"
   ]
  },
  {
   "cell_type": "code",
   "execution_count": 11,
   "metadata": {},
   "outputs": [],
   "source": [
    "X = data.loc[:, data.columns!='loan_status']"
   ]
  },
  {
   "cell_type": "code",
   "execution_count": 12,
   "metadata": {},
   "outputs": [],
   "source": [
    "y = data['loan_status']"
   ]
  },
  {
   "cell_type": "code",
   "execution_count": 14,
   "metadata": {},
   "outputs": [],
   "source": [
    "X_train = X_train.as_matrix()\n",
    "X_test = X_test.as_matrix()"
   ]
  },
  {
   "cell_type": "markdown",
   "metadata": {},
   "source": [
    "Prior:"
   ]
  },
  {
   "cell_type": "code",
   "execution_count": 15,
   "metadata": {
    "scrolled": true
   },
   "outputs": [
    {
     "data": {
      "text/plain": [
       "0.7942"
      ]
     },
     "execution_count": 15,
     "metadata": {},
     "output_type": "execute_result"
    }
   ],
   "source": [
    "y.value_counts()[0] / len(y)"
   ]
  },
  {
   "cell_type": "markdown",
   "metadata": {},
   "source": [
    "#### XG Boost:"
   ]
  },
  {
   "cell_type": "code",
   "execution_count": 16,
   "metadata": {},
   "outputs": [],
   "source": [
    "xg_boost = xgb.XGBClassifier(n_estimators=200)"
   ]
  },
  {
   "cell_type": "markdown",
   "metadata": {},
   "source": [
    "Hyperparameters to tune:"
   ]
  },
  {
   "cell_type": "code",
   "execution_count": 17,
   "metadata": {},
   "outputs": [],
   "source": [
    "xg_params = {'max_depth': [6, 10, 15, 20],\n",
    "             'learning_rate': [0.001, 0.01, 0.1, 0.2, 0,3],\n",
    "             'subsample': [0.5, 0.6, 0.7, 0.8, 0.9, 1.0],\n",
    "             'colsample_bytree': [0.4, 0.5, 0.6, 0.7, 0.8, 0.9, 1.0],\n",
    "             'colsample_bylevel': [0.4, 0.5, 0.6, 0.7, 0.8, 0.9, 1.0],\n",
    "             'min_child_weight': [0.5, 1.0, 3.0, 5.0, 7.0, 10.0],\n",
    "             'gamma': [0, 0.25, 0.5, 1.0],\n",
    "             'reg_lambda': [0.1, 1.0, 5.0, 10.0, 50.0, 100.0]}"
   ]
  },
  {
   "cell_type": "markdown",
   "metadata": {},
   "source": [
    "Randomize search with Cross Validation:"
   ]
  },
  {
   "cell_type": "code",
   "execution_count": 18,
   "metadata": {},
   "outputs": [],
   "source": [
    "random_search = RandomizedSearchCV(xg_boost, n_iter=50, param_distributions=xg_params,\n",
    "                                   cv=5, scoring=\"roc_auc\", n_jobs=2, verbose=1)"
   ]
  },
  {
   "cell_type": "code",
   "execution_count": 20,
   "metadata": {},
   "outputs": [
    {
     "name": "stdout",
     "output_type": "stream",
     "text": [
      "Fitting 5 folds for each of 50 candidates, totalling 250 fits\n"
     ]
    },
    {
     "name": "stderr",
     "output_type": "stream",
     "text": [
      "[Parallel(n_jobs=2)]: Done  46 tasks      | elapsed: 74.7min\n",
      "[Parallel(n_jobs=2)]: Done 196 tasks      | elapsed: 199.1min\n",
      "[Parallel(n_jobs=2)]: Done 250 out of 250 | elapsed: 233.5min finished\n"
     ]
    },
    {
     "data": {
      "text/plain": [
       "RandomizedSearchCV(cv=5, error_score='raise',\n",
       "          estimator=XGBClassifier(base_score=0.5, booster='gbtree', colsample_bylevel=1,\n",
       "       colsample_bytree=1, gamma=0, learning_rate=0.1, max_delta_step=0,\n",
       "       max_depth=3, min_child_weight=1, missing=None, n_estimators=200,\n",
       "       n_jobs=1, nthread=None, objective='binary:logistic', random_state=0,\n",
       "       reg_alpha=0, reg_lambda=1, scale_pos_weight=1, seed=None,\n",
       "       silent=True, subsample=1),\n",
       "          fit_params=None, iid=True, n_iter=50, n_jobs=2,\n",
       "          param_distributions={'max_depth': [6, 10, 15, 20], 'learning_rate': [0.001, 0.01, 0.1, 0.2, 0, 3], 'subsample': [0.5, 0.6, 0.7, 0.8, 0.9, 1.0], 'colsample_bytree': [0.4, 0.5, 0.6, 0.7, 0.8, 0.9, 1.0], 'colsample_bylevel': [0.4, 0.5, 0.6, 0.7, 0.8, 0.9, 1.0], 'min_child_weight': [0.5, 1.0, 3.0, 5.0, 7.0, 10.0], 'gamma': [0, 0.25, 0.5, 1.0], 'reg_lambda': [0.1, 1.0, 5.0, 10.0, 50.0, 100.0]},\n",
       "          pre_dispatch='2*n_jobs', random_state=None, refit=True,\n",
       "          return_train_score='warn', scoring='roc_auc', verbose=1)"
      ]
     },
     "execution_count": 20,
     "metadata": {},
     "output_type": "execute_result"
    }
   ],
   "source": [
    "random_search.fit(X, y)"
   ]
  },
  {
   "cell_type": "markdown",
   "metadata": {},
   "source": [
    "Best estimator and result:"
   ]
  },
  {
   "cell_type": "code",
   "execution_count": 21,
   "metadata": {},
   "outputs": [
    {
     "data": {
      "text/plain": [
       "XGBClassifier(base_score=0.5, booster='gbtree', colsample_bylevel=0.8,\n",
       "       colsample_bytree=0.5, gamma=0.25, learning_rate=0.1,\n",
       "       max_delta_step=0, max_depth=6, min_child_weight=10.0, missing=None,\n",
       "       n_estimators=200, n_jobs=1, nthread=None,\n",
       "       objective='binary:logistic', random_state=0, reg_alpha=0,\n",
       "       reg_lambda=50.0, scale_pos_weight=1, seed=None, silent=True,\n",
       "       subsample=1.0)"
      ]
     },
     "execution_count": 21,
     "metadata": {},
     "output_type": "execute_result"
    }
   ],
   "source": [
    "random_search.best_estimator_"
   ]
  },
  {
   "cell_type": "code",
   "execution_count": 22,
   "metadata": {},
   "outputs": [
    {
     "data": {
      "text/plain": [
       "0.7196220705068009"
      ]
     },
     "execution_count": 22,
     "metadata": {},
     "output_type": "execute_result"
    }
   ],
   "source": [
    "random_search.best_score_"
   ]
  },
  {
   "cell_type": "markdown",
   "metadata": {},
   "source": [
    "__Bayesian Optimization__:"
   ]
  },
  {
   "cell_type": "markdown",
   "metadata": {},
   "source": [
    "Parameters for optimization:"
   ]
  },
  {
   "cell_type": "code",
   "execution_count": 23,
   "metadata": {},
   "outputs": [],
   "source": [
    "xg_params_bay = {'colsample_bytree': (0.4, 1.0),\n",
    "                 'max_depth': (2, 15),\n",
    "                 'subsample': (0.4, 1.0),\n",
    "                 'n_estimators': (10, 1500),\n",
    "                 'learning_rate': (0.001, 0.3)}"
   ]
  },
  {
   "cell_type": "markdown",
   "metadata": {},
   "source": [
    "XG Boost evaluate function for __Bayesian Optimization__:"
   ]
  },
  {
   "cell_type": "code",
   "execution_count": 24,
   "metadata": {},
   "outputs": [],
   "source": [
    "def xgb_evaluate(colsample_bytree, max_depth, subsample, n_estimators, learning_rate):\n",
    "    \n",
    "    # params:\n",
    "    params = {'colsample_bytree': colsample_bytree,\n",
    "              'max_depth': int(max_depth),\n",
    "              'subsample': subsample,\n",
    "              'n_estimators': int(n_estimators),\n",
    "              'learning_rate': learning_rate}\n",
    "    \n",
    "    # gradient boosting model\n",
    "    gbm = xgb.XGBClassifier(colsample_bytree=params['colsample_bytree'], \n",
    "                            max_depth=params['max_depth'], \n",
    "                            subsample=params['subsample'], \n",
    "                            n_estimators=params['n_estimators'],\n",
    "                            learning_rate=params['learning_rate'])\n",
    "    \n",
    "    gbm.fit(X_train, y_train)\n",
    "    \n",
    "    # scores in the test set\n",
    "    y_scores_test = gbm.predict_proba(X_test)\n",
    "    y_scores_test = pd.DataFrame(y_scores_test).loc[:,1]\n",
    "    \n",
    "    \n",
    "    # metric to optimize\n",
    "    metric = roc_auc_score(y_test, y_scores_test)\n",
    "    \n",
    "    return metric"
   ]
  },
  {
   "cell_type": "markdown",
   "metadata": {},
   "source": [
    "Bayesian Optimization:"
   ]
  },
  {
   "cell_type": "code",
   "execution_count": 25,
   "metadata": {},
   "outputs": [],
   "source": [
    "bay_optimization = BayesianOptimization(xgb_evaluate, xg_params_bay)"
   ]
  },
  {
   "cell_type": "code",
   "execution_count": 26,
   "metadata": {
    "scrolled": true
   },
   "outputs": [
    {
     "name": "stdout",
     "output_type": "stream",
     "text": [
      "\u001b[31mInitialization\u001b[0m\n",
      "\u001b[94m-----------------------------------------------------------------------------------------------------------------\u001b[0m\n",
      " Step |   Time |      Value |   colsample_bytree |   learning_rate |   max_depth |   n_estimators |   subsample | \n",
      "    1 | 02m58s | \u001b[35m   0.65278\u001b[0m | \u001b[32m            0.8553\u001b[0m | \u001b[32m         0.2842\u001b[0m | \u001b[32m     6.1750\u001b[0m | \u001b[32m      829.2753\u001b[0m | \u001b[32m     0.4185\u001b[0m | \n",
      "    2 | 00m12s | \u001b[35m   0.71494\u001b[0m | \u001b[32m            0.5165\u001b[0m | \u001b[32m         0.0564\u001b[0m | \u001b[32m     5.3417\u001b[0m | \u001b[32m      107.7978\u001b[0m | \u001b[32m     0.7367\u001b[0m | \n",
      "    3 | 00m09s | \u001b[35m   0.71534\u001b[0m | \u001b[32m            0.4020\u001b[0m | \u001b[32m         0.2112\u001b[0m | \u001b[32m     2.5910\u001b[0m | \u001b[32m      264.6536\u001b[0m | \u001b[32m     0.8324\u001b[0m | \n",
      "    4 | 02m03s |    0.70048 |             0.6912 |          0.1051 |      6.3792 |       658.2713 |      0.5685 | \n",
      "    5 | 03m36s |    0.70166 |             0.5814 |          0.0898 |      6.6901 |      1211.0768 |      0.7776 | \n",
      "\u001b[31mBayesian Optimization\u001b[0m\n",
      "\u001b[94m-----------------------------------------------------------------------------------------------------------------\u001b[0m\n",
      " Step |   Time |      Value |   colsample_bytree |   learning_rate |   max_depth |   n_estimators |   subsample | \n",
      "    6 | 11m37s |    0.71255 |             0.4427 |          0.0010 |     15.0000 |      1500.0000 |      0.4000 | \n",
      "    7 | 05m11s |    0.67512 |             0.8665 |          0.1788 |     14.9870 |       451.6014 |      0.4280 | \n",
      "    8 | 01m28s |    0.70963 |             0.4318 |          0.2130 |      2.0278 |      1378.1342 |      0.5704 | \n",
      "    9 | 00m11s |    0.68393 |             1.0000 |          0.0023 |      2.0000 |        10.0000 |      0.4000 | \n",
      "   10 | 02m46s |    0.69768 |             1.0000 |          0.0010 |      2.0000 |      1500.0000 |      0.4000 | \n",
      "   11 | 01m55s |    0.68913 |             0.5933 |          0.0988 |     14.9998 |       197.7258 |      0.4759 | \n",
      "   12 | 14m30s |    0.67996 |             0.8918 |          0.1603 |     14.9503 |      1309.6091 |      0.5234 | \n",
      "   13 | 01m14s | \u001b[35m   0.71669\u001b[0m | \u001b[32m            0.5585\u001b[0m | \u001b[32m         0.1040\u001b[0m | \u001b[32m     2.0516\u001b[0m | \u001b[32m     1038.4665\u001b[0m | \u001b[32m     0.6426\u001b[0m | \n",
      "   14 | 00m37s |    0.71632 |             0.5107 |          0.2637 |      2.0178 |       546.7869 |      0.9045 | \n",
      "   15 | 06m16s |    0.67978 |             0.4250 |          0.2552 |     14.9719 |      1114.9546 |      0.8827 | \n",
      "   16 | 00m22s |    0.71568 |             0.8274 |          0.1360 |      2.0362 |       165.1413 |      0.6039 | \n",
      "   17 | 00m37s |    0.71472 |             0.8669 |          0.2592 |      2.0059 |       367.9758 |      0.8825 | \n",
      "   18 | 12m25s |    0.70308 |             0.6716 |          0.0322 |     14.9719 |      1445.5289 |      0.9981 | \n",
      "   19 | 01m39s |    0.71356 |             0.6973 |          0.1427 |      2.0021 |      1126.7577 |      0.5126 | \n",
      "   20 | 01m16s |    0.70704 |             0.5771 |          0.2952 |      2.0118 |       962.5569 |      0.5732 | \n",
      "   21 | 00m49s |    0.71625 |             0.6261 |          0.2104 |      2.0090 |       602.7470 |      0.9788 | \n",
      "   22 | 00m40s |    0.71127 |             0.4621 |          0.2726 |      2.0142 |       461.7957 |      0.5997 | \n",
      "   23 | 00m47s |    0.69316 |             1.0000 |          0.0010 |      2.0000 |       310.6756 |      0.4000 | \n",
      "   24 | 00m46s |    0.71652 |             0.4223 |          0.0828 |      2.0375 |       724.3115 |      0.7634 | \n",
      "   25 | 00m15s |    0.71270 |             0.5231 |          0.2709 |      2.0791 |        67.9909 |      0.9845 | \n",
      "   26 | 00m25s |    0.71549 |             0.5650 |          0.1262 |      2.0220 |       224.6630 |      0.9862 | \n",
      "   27 | 00m44s |    0.71392 |             0.7289 |          0.2785 |      2.0040 |       411.8023 |      0.7584 | \n",
      "   28 | 01m38s |    0.71162 |             0.6316 |          0.2718 |      2.0035 |      1263.4752 |      0.9820 | \n",
      "   29 | 00m51s |    0.71640 |             0.5301 |          0.1605 |      2.0456 |       685.6150 |      0.9492 | \n",
      "   30 | 01m16s |    0.71452 |             0.4940 |          0.2500 |      2.0030 |      1077.1986 |      0.9981 | \n"
     ]
    }
   ],
   "source": [
    "bay_optimization.maximize()"
   ]
  }
 ],
 "metadata": {
  "kernelspec": {
   "display_name": "Python 3",
   "language": "python",
   "name": "python3"
  },
  "language_info": {
   "codemirror_mode": {
    "name": "ipython",
    "version": 3
   },
   "file_extension": ".py",
   "mimetype": "text/x-python",
   "name": "python",
   "nbconvert_exporter": "python",
   "pygments_lexer": "ipython3",
   "version": "3.6.4"
  }
 },
 "nbformat": 4,
 "nbformat_minor": 2
}
