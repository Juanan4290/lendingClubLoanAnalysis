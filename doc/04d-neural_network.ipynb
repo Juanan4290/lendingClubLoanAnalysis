{
 "cells": [
  {
   "cell_type": "markdown",
   "metadata": {},
   "source": [
    "Neural Network\n",
    "======="
   ]
  },
  {
   "cell_type": "markdown",
   "metadata": {},
   "source": [
    "### 01 - Libraries and Parameters"
   ]
  },
  {
   "cell_type": "markdown",
   "metadata": {},
   "source": [
    "Libraries"
   ]
  },
  {
   "cell_type": "code",
   "execution_count": 1,
   "metadata": {},
   "outputs": [],
   "source": [
    "# remove warnings\n",
    "import warnings\n",
    "warnings.filterwarnings('ignore')\n",
    "\n",
    "import pandas as pd\n",
    "import numpy as np\n",
    "import tensorflow as tf\n",
    "import matplotlib.pyplot as plt\n",
    "import time\n",
    "\n",
    "from sklearn.model_selection import train_test_split\n",
    "from sklearn.preprocessing import MinMaxScaler, StandardScaler, RobustScaler\n",
    "from sklearn.metrics import confusion_matrix, roc_auc_score"
   ]
  },
  {
   "cell_type": "markdown",
   "metadata": {},
   "source": [
    "Parameters:"
   ]
  },
  {
   "cell_type": "code",
   "execution_count": 2,
   "metadata": {},
   "outputs": [],
   "source": [
    "learning_rate = 1e-4\n",
    "epochs = 500\n",
    "batch_size = 250"
   ]
  },
  {
   "cell_type": "markdown",
   "metadata": {},
   "source": [
    "### 02 - Data"
   ]
  },
  {
   "cell_type": "markdown",
   "metadata": {},
   "source": [
    "Load Data:"
   ]
  },
  {
   "cell_type": "code",
   "execution_count": 3,
   "metadata": {},
   "outputs": [],
   "source": [
    "data = pd.read_csv(\"../data/loans_sample_processed.csv\", sep = \"^\").sample(100000, random_state = 4290)"
   ]
  },
  {
   "cell_type": "code",
   "execution_count": 4,
   "metadata": {
    "scrolled": true
   },
   "outputs": [
    {
     "data": {
      "text/html": [
       "<div>\n",
       "<style scoped>\n",
       "    .dataframe tbody tr th:only-of-type {\n",
       "        vertical-align: middle;\n",
       "    }\n",
       "\n",
       "    .dataframe tbody tr th {\n",
       "        vertical-align: top;\n",
       "    }\n",
       "\n",
       "    .dataframe thead th {\n",
       "        text-align: right;\n",
       "    }\n",
       "</style>\n",
       "<table border=\"1\" class=\"dataframe\">\n",
       "  <thead>\n",
       "    <tr style=\"text-align: right;\">\n",
       "      <th></th>\n",
       "      <th>funded_amnt_inv</th>\n",
       "      <th>installment</th>\n",
       "      <th>int_rate</th>\n",
       "      <th>annual_inc</th>\n",
       "      <th>dti</th>\n",
       "      <th>total_rec_late_fee</th>\n",
       "      <th>total_acc</th>\n",
       "      <th>manager</th>\n",
       "      <th>refinance</th>\n",
       "      <th>term_ 36 months</th>\n",
       "      <th>...</th>\n",
       "      <th>emp_length_&lt; 1 year</th>\n",
       "      <th>home_ownership_ANY</th>\n",
       "      <th>home_ownership_MORTGAGE</th>\n",
       "      <th>home_ownership_NONE</th>\n",
       "      <th>home_ownership_OTHER</th>\n",
       "      <th>home_ownership_OWN</th>\n",
       "      <th>home_ownership_RENT</th>\n",
       "      <th>application_type_Individual</th>\n",
       "      <th>application_type_Joint App</th>\n",
       "      <th>non_payment</th>\n",
       "    </tr>\n",
       "  </thead>\n",
       "  <tbody>\n",
       "    <tr>\n",
       "      <th>337231</th>\n",
       "      <td>15000.0</td>\n",
       "      <td>555.32</td>\n",
       "      <td>19.72</td>\n",
       "      <td>55000.00</td>\n",
       "      <td>15.77</td>\n",
       "      <td>0.0</td>\n",
       "      <td>47.0</td>\n",
       "      <td>0</td>\n",
       "      <td>1</td>\n",
       "      <td>1</td>\n",
       "      <td>...</td>\n",
       "      <td>0</td>\n",
       "      <td>0</td>\n",
       "      <td>0</td>\n",
       "      <td>0</td>\n",
       "      <td>0</td>\n",
       "      <td>0</td>\n",
       "      <td>1</td>\n",
       "      <td>1</td>\n",
       "      <td>0</td>\n",
       "      <td>0</td>\n",
       "    </tr>\n",
       "    <tr>\n",
       "      <th>556157</th>\n",
       "      <td>15400.0</td>\n",
       "      <td>515.12</td>\n",
       "      <td>12.49</td>\n",
       "      <td>110000.00</td>\n",
       "      <td>10.19</td>\n",
       "      <td>0.0</td>\n",
       "      <td>26.0</td>\n",
       "      <td>0</td>\n",
       "      <td>1</td>\n",
       "      <td>1</td>\n",
       "      <td>...</td>\n",
       "      <td>0</td>\n",
       "      <td>0</td>\n",
       "      <td>0</td>\n",
       "      <td>0</td>\n",
       "      <td>0</td>\n",
       "      <td>0</td>\n",
       "      <td>1</td>\n",
       "      <td>1</td>\n",
       "      <td>0</td>\n",
       "      <td>0</td>\n",
       "    </tr>\n",
       "    <tr>\n",
       "      <th>580514</th>\n",
       "      <td>15000.0</td>\n",
       "      <td>501.74</td>\n",
       "      <td>12.49</td>\n",
       "      <td>44275.82</td>\n",
       "      <td>13.93</td>\n",
       "      <td>0.0</td>\n",
       "      <td>17.0</td>\n",
       "      <td>0</td>\n",
       "      <td>1</td>\n",
       "      <td>1</td>\n",
       "      <td>...</td>\n",
       "      <td>0</td>\n",
       "      <td>0</td>\n",
       "      <td>0</td>\n",
       "      <td>0</td>\n",
       "      <td>0</td>\n",
       "      <td>0</td>\n",
       "      <td>1</td>\n",
       "      <td>1</td>\n",
       "      <td>0</td>\n",
       "      <td>1</td>\n",
       "    </tr>\n",
       "    <tr>\n",
       "      <th>446532</th>\n",
       "      <td>12000.0</td>\n",
       "      <td>377.09</td>\n",
       "      <td>8.19</td>\n",
       "      <td>69000.00</td>\n",
       "      <td>19.63</td>\n",
       "      <td>0.0</td>\n",
       "      <td>19.0</td>\n",
       "      <td>0</td>\n",
       "      <td>1</td>\n",
       "      <td>1</td>\n",
       "      <td>...</td>\n",
       "      <td>0</td>\n",
       "      <td>0</td>\n",
       "      <td>0</td>\n",
       "      <td>0</td>\n",
       "      <td>0</td>\n",
       "      <td>0</td>\n",
       "      <td>1</td>\n",
       "      <td>1</td>\n",
       "      <td>0</td>\n",
       "      <td>0</td>\n",
       "    </tr>\n",
       "    <tr>\n",
       "      <th>95642</th>\n",
       "      <td>2300.0</td>\n",
       "      <td>78.60</td>\n",
       "      <td>13.99</td>\n",
       "      <td>30000.00</td>\n",
       "      <td>18.68</td>\n",
       "      <td>0.0</td>\n",
       "      <td>11.0</td>\n",
       "      <td>1</td>\n",
       "      <td>1</td>\n",
       "      <td>1</td>\n",
       "      <td>...</td>\n",
       "      <td>0</td>\n",
       "      <td>0</td>\n",
       "      <td>0</td>\n",
       "      <td>0</td>\n",
       "      <td>0</td>\n",
       "      <td>0</td>\n",
       "      <td>1</td>\n",
       "      <td>1</td>\n",
       "      <td>0</td>\n",
       "      <td>0</td>\n",
       "    </tr>\n",
       "  </tbody>\n",
       "</table>\n",
       "<p>5 rows × 38 columns</p>\n",
       "</div>"
      ],
      "text/plain": [
       "        funded_amnt_inv  installment  int_rate  annual_inc    dti  \\\n",
       "337231          15000.0       555.32     19.72    55000.00  15.77   \n",
       "556157          15400.0       515.12     12.49   110000.00  10.19   \n",
       "580514          15000.0       501.74     12.49    44275.82  13.93   \n",
       "446532          12000.0       377.09      8.19    69000.00  19.63   \n",
       "95642            2300.0        78.60     13.99    30000.00  18.68   \n",
       "\n",
       "        total_rec_late_fee  total_acc  manager  refinance  term_ 36 months  \\\n",
       "337231                 0.0       47.0        0          1                1   \n",
       "556157                 0.0       26.0        0          1                1   \n",
       "580514                 0.0       17.0        0          1                1   \n",
       "446532                 0.0       19.0        0          1                1   \n",
       "95642                  0.0       11.0        1          1                1   \n",
       "\n",
       "           ...       emp_length_< 1 year  home_ownership_ANY  \\\n",
       "337231     ...                         0                   0   \n",
       "556157     ...                         0                   0   \n",
       "580514     ...                         0                   0   \n",
       "446532     ...                         0                   0   \n",
       "95642      ...                         0                   0   \n",
       "\n",
       "        home_ownership_MORTGAGE  home_ownership_NONE  home_ownership_OTHER  \\\n",
       "337231                        0                    0                     0   \n",
       "556157                        0                    0                     0   \n",
       "580514                        0                    0                     0   \n",
       "446532                        0                    0                     0   \n",
       "95642                         0                    0                     0   \n",
       "\n",
       "        home_ownership_OWN  home_ownership_RENT  application_type_Individual  \\\n",
       "337231                   0                    1                            1   \n",
       "556157                   0                    1                            1   \n",
       "580514                   0                    1                            1   \n",
       "446532                   0                    1                            1   \n",
       "95642                    0                    1                            1   \n",
       "\n",
       "        application_type_Joint App  non_payment  \n",
       "337231                           0            0  \n",
       "556157                           0            0  \n",
       "580514                           0            1  \n",
       "446532                           0            0  \n",
       "95642                            0            0  \n",
       "\n",
       "[5 rows x 38 columns]"
      ]
     },
     "execution_count": 4,
     "metadata": {},
     "output_type": "execute_result"
    }
   ],
   "source": [
    "data.head()"
   ]
  },
  {
   "cell_type": "code",
   "execution_count": 5,
   "metadata": {},
   "outputs": [
    {
     "data": {
      "text/plain": [
       "(100000, 38)"
      ]
     },
     "execution_count": 5,
     "metadata": {},
     "output_type": "execute_result"
    }
   ],
   "source": [
    "data.shape"
   ]
  },
  {
   "cell_type": "markdown",
   "metadata": {},
   "source": [
    "### 03 - Data Preparation"
   ]
  },
  {
   "cell_type": "markdown",
   "metadata": {},
   "source": [
    "Normalization:"
   ]
  },
  {
   "cell_type": "code",
   "execution_count": 6,
   "metadata": {},
   "outputs": [],
   "source": [
    "numeric_variables = ['funded_amnt_inv', 'installment', 'int_rate', 'annual_inc', 'dti',\n",
    "                     'total_rec_late_fee', 'total_acc']"
   ]
  },
  {
   "cell_type": "code",
   "execution_count": 7,
   "metadata": {},
   "outputs": [],
   "source": [
    "scaler = RobustScaler()"
   ]
  },
  {
   "cell_type": "code",
   "execution_count": 8,
   "metadata": {},
   "outputs": [
    {
     "data": {
      "text/plain": [
       "RobustScaler(copy=True, quantile_range=(25.0, 75.0), with_centering=True,\n",
       "       with_scaling=True)"
      ]
     },
     "execution_count": 8,
     "metadata": {},
     "output_type": "execute_result"
    }
   ],
   "source": [
    "scaler.fit(data[numeric_variables])"
   ]
  },
  {
   "cell_type": "code",
   "execution_count": 9,
   "metadata": {},
   "outputs": [],
   "source": [
    "data[numeric_variables] = scaler.transform(data[numeric_variables])"
   ]
  },
  {
   "cell_type": "code",
   "execution_count": 10,
   "metadata": {},
   "outputs": [
    {
     "data": {
      "text/html": [
       "<div>\n",
       "<style scoped>\n",
       "    .dataframe tbody tr th:only-of-type {\n",
       "        vertical-align: middle;\n",
       "    }\n",
       "\n",
       "    .dataframe tbody tr th {\n",
       "        vertical-align: top;\n",
       "    }\n",
       "\n",
       "    .dataframe thead th {\n",
       "        text-align: right;\n",
       "    }\n",
       "</style>\n",
       "<table border=\"1\" class=\"dataframe\">\n",
       "  <thead>\n",
       "    <tr style=\"text-align: right;\">\n",
       "      <th></th>\n",
       "      <th>funded_amnt_inv</th>\n",
       "      <th>installment</th>\n",
       "      <th>int_rate</th>\n",
       "      <th>annual_inc</th>\n",
       "      <th>dti</th>\n",
       "      <th>total_rec_late_fee</th>\n",
       "      <th>total_acc</th>\n",
       "      <th>manager</th>\n",
       "      <th>refinance</th>\n",
       "      <th>term_ 36 months</th>\n",
       "      <th>...</th>\n",
       "      <th>emp_length_&lt; 1 year</th>\n",
       "      <th>home_ownership_ANY</th>\n",
       "      <th>home_ownership_MORTGAGE</th>\n",
       "      <th>home_ownership_NONE</th>\n",
       "      <th>home_ownership_OTHER</th>\n",
       "      <th>home_ownership_OWN</th>\n",
       "      <th>home_ownership_RENT</th>\n",
       "      <th>application_type_Individual</th>\n",
       "      <th>application_type_Joint App</th>\n",
       "      <th>non_payment</th>\n",
       "    </tr>\n",
       "  </thead>\n",
       "  <tbody>\n",
       "    <tr>\n",
       "      <th>337231</th>\n",
       "      <td>0.248963</td>\n",
       "      <td>0.552989</td>\n",
       "      <td>1.068254</td>\n",
       "      <td>-0.222222</td>\n",
       "      <td>-0.134822</td>\n",
       "      <td>0.0</td>\n",
       "      <td>1.533333</td>\n",
       "      <td>0</td>\n",
       "      <td>1</td>\n",
       "      <td>1</td>\n",
       "      <td>...</td>\n",
       "      <td>0</td>\n",
       "      <td>0</td>\n",
       "      <td>0</td>\n",
       "      <td>0</td>\n",
       "      <td>0</td>\n",
       "      <td>0</td>\n",
       "      <td>1</td>\n",
       "      <td>1</td>\n",
       "      <td>0</td>\n",
       "      <td>0</td>\n",
       "    </tr>\n",
       "    <tr>\n",
       "      <th>556157</th>\n",
       "      <td>0.282158</td>\n",
       "      <td>0.428492</td>\n",
       "      <td>-0.079365</td>\n",
       "      <td>1.000000</td>\n",
       "      <td>-0.596361</td>\n",
       "      <td>0.0</td>\n",
       "      <td>0.133333</td>\n",
       "      <td>0</td>\n",
       "      <td>1</td>\n",
       "      <td>1</td>\n",
       "      <td>...</td>\n",
       "      <td>0</td>\n",
       "      <td>0</td>\n",
       "      <td>0</td>\n",
       "      <td>0</td>\n",
       "      <td>0</td>\n",
       "      <td>0</td>\n",
       "      <td>1</td>\n",
       "      <td>1</td>\n",
       "      <td>0</td>\n",
       "      <td>0</td>\n",
       "    </tr>\n",
       "    <tr>\n",
       "      <th>580514</th>\n",
       "      <td>0.248963</td>\n",
       "      <td>0.387055</td>\n",
       "      <td>-0.079365</td>\n",
       "      <td>-0.460537</td>\n",
       "      <td>-0.287014</td>\n",
       "      <td>0.0</td>\n",
       "      <td>-0.466667</td>\n",
       "      <td>0</td>\n",
       "      <td>1</td>\n",
       "      <td>1</td>\n",
       "      <td>...</td>\n",
       "      <td>0</td>\n",
       "      <td>0</td>\n",
       "      <td>0</td>\n",
       "      <td>0</td>\n",
       "      <td>0</td>\n",
       "      <td>0</td>\n",
       "      <td>1</td>\n",
       "      <td>1</td>\n",
       "      <td>0</td>\n",
       "      <td>1</td>\n",
       "    </tr>\n",
       "    <tr>\n",
       "      <th>446532</th>\n",
       "      <td>0.000000</td>\n",
       "      <td>0.001022</td>\n",
       "      <td>-0.761905</td>\n",
       "      <td>0.088889</td>\n",
       "      <td>0.184450</td>\n",
       "      <td>0.0</td>\n",
       "      <td>-0.333333</td>\n",
       "      <td>0</td>\n",
       "      <td>1</td>\n",
       "      <td>1</td>\n",
       "      <td>...</td>\n",
       "      <td>0</td>\n",
       "      <td>0</td>\n",
       "      <td>0</td>\n",
       "      <td>0</td>\n",
       "      <td>0</td>\n",
       "      <td>0</td>\n",
       "      <td>1</td>\n",
       "      <td>1</td>\n",
       "      <td>0</td>\n",
       "      <td>0</td>\n",
       "    </tr>\n",
       "    <tr>\n",
       "      <th>95642</th>\n",
       "      <td>-0.804979</td>\n",
       "      <td>-0.923382</td>\n",
       "      <td>0.158730</td>\n",
       "      <td>-0.777778</td>\n",
       "      <td>0.105873</td>\n",
       "      <td>0.0</td>\n",
       "      <td>-0.866667</td>\n",
       "      <td>1</td>\n",
       "      <td>1</td>\n",
       "      <td>1</td>\n",
       "      <td>...</td>\n",
       "      <td>0</td>\n",
       "      <td>0</td>\n",
       "      <td>0</td>\n",
       "      <td>0</td>\n",
       "      <td>0</td>\n",
       "      <td>0</td>\n",
       "      <td>1</td>\n",
       "      <td>1</td>\n",
       "      <td>0</td>\n",
       "      <td>0</td>\n",
       "    </tr>\n",
       "  </tbody>\n",
       "</table>\n",
       "<p>5 rows × 38 columns</p>\n",
       "</div>"
      ],
      "text/plain": [
       "        funded_amnt_inv  installment  int_rate  annual_inc       dti  \\\n",
       "337231         0.248963     0.552989  1.068254   -0.222222 -0.134822   \n",
       "556157         0.282158     0.428492 -0.079365    1.000000 -0.596361   \n",
       "580514         0.248963     0.387055 -0.079365   -0.460537 -0.287014   \n",
       "446532         0.000000     0.001022 -0.761905    0.088889  0.184450   \n",
       "95642         -0.804979    -0.923382  0.158730   -0.777778  0.105873   \n",
       "\n",
       "        total_rec_late_fee  total_acc  manager  refinance  term_ 36 months  \\\n",
       "337231                 0.0   1.533333        0          1                1   \n",
       "556157                 0.0   0.133333        0          1                1   \n",
       "580514                 0.0  -0.466667        0          1                1   \n",
       "446532                 0.0  -0.333333        0          1                1   \n",
       "95642                  0.0  -0.866667        1          1                1   \n",
       "\n",
       "           ...       emp_length_< 1 year  home_ownership_ANY  \\\n",
       "337231     ...                         0                   0   \n",
       "556157     ...                         0                   0   \n",
       "580514     ...                         0                   0   \n",
       "446532     ...                         0                   0   \n",
       "95642      ...                         0                   0   \n",
       "\n",
       "        home_ownership_MORTGAGE  home_ownership_NONE  home_ownership_OTHER  \\\n",
       "337231                        0                    0                     0   \n",
       "556157                        0                    0                     0   \n",
       "580514                        0                    0                     0   \n",
       "446532                        0                    0                     0   \n",
       "95642                         0                    0                     0   \n",
       "\n",
       "        home_ownership_OWN  home_ownership_RENT  application_type_Individual  \\\n",
       "337231                   0                    1                            1   \n",
       "556157                   0                    1                            1   \n",
       "580514                   0                    1                            1   \n",
       "446532                   0                    1                            1   \n",
       "95642                    0                    1                            1   \n",
       "\n",
       "        application_type_Joint App  non_payment  \n",
       "337231                           0            0  \n",
       "556157                           0            0  \n",
       "580514                           0            1  \n",
       "446532                           0            0  \n",
       "95642                            0            0  \n",
       "\n",
       "[5 rows x 38 columns]"
      ]
     },
     "execution_count": 10,
     "metadata": {},
     "output_type": "execute_result"
    }
   ],
   "source": [
    "data.head()"
   ]
  },
  {
   "cell_type": "markdown",
   "metadata": {},
   "source": [
    "Train / Test split:"
   ]
  },
  {
   "cell_type": "code",
   "execution_count": 11,
   "metadata": {},
   "outputs": [],
   "source": [
    "X = data.loc[:, data.columns!='non_payment']"
   ]
  },
  {
   "cell_type": "code",
   "execution_count": 12,
   "metadata": {},
   "outputs": [],
   "source": [
    "y = data['non_payment']"
   ]
  },
  {
   "cell_type": "code",
   "execution_count": 13,
   "metadata": {},
   "outputs": [],
   "source": [
    "X_train, X_test, y_train, y_test = train_test_split(X, y, test_size=0.20, random_state=4290)"
   ]
  },
  {
   "cell_type": "markdown",
   "metadata": {},
   "source": [
    "Data Transformation:"
   ]
  },
  {
   "cell_type": "code",
   "execution_count": 14,
   "metadata": {},
   "outputs": [],
   "source": [
    "X_train_split = X_train.values\n",
    "\n",
    "num_batches = int(X_train_split.shape[0] / batch_size)\n",
    "X_train_split = np.array_split(X_train_split, num_batches)"
   ]
  },
  {
   "cell_type": "code",
   "execution_count": 15,
   "metadata": {},
   "outputs": [],
   "source": [
    "X_test = X_test.values"
   ]
  },
  {
   "cell_type": "code",
   "execution_count": 16,
   "metadata": {},
   "outputs": [],
   "source": [
    "y_train_split = y_train.values.astype(np.int32)\n",
    "\n",
    "y_train_split = np.array_split(y_train, num_batches)"
   ]
  },
  {
   "cell_type": "code",
   "execution_count": 17,
   "metadata": {},
   "outputs": [],
   "source": [
    "y_test = y_test.values.astype(np.int32)"
   ]
  },
  {
   "cell_type": "markdown",
   "metadata": {},
   "source": [
    "### 03 - Neural Network:"
   ]
  },
  {
   "cell_type": "markdown",
   "metadata": {},
   "source": [
    "#### 03.1 - Architecture"
   ]
  },
  {
   "cell_type": "code",
   "execution_count": 18,
   "metadata": {},
   "outputs": [],
   "source": [
    "_, number_of_variables_in_train = np.shape(X_train_split[0])\n",
    "num_hidden_0 = number_of_variables_in_train\n",
    "num_hidden_1 = 100\n",
    "num_hidden_2 = 50\n",
    "num_hidden_3 = 1\n",
    "\n",
    "#with tf.device('/cpu:0'):\n",
    "x = tf.placeholder(dtype = tf.float64, shape = [None, num_hidden_0])\n",
    "y = tf.placeholder(dtype = tf.float64, shape = [None,1])\n",
    "\n",
    "weights = {\n",
    "    'w1': tf.Variable(tf.truncated_normal(stddev=.1, shape=[num_hidden_0, num_hidden_1], dtype=tf.float64)),\n",
    "    'w2': tf.Variable(tf.truncated_normal(stddev=.1, shape=[num_hidden_1, num_hidden_2], dtype=tf.float64)),\n",
    "    'w3': tf.Variable(tf.truncated_normal(stddev=.1, shape=[num_hidden_2, num_hidden_3], dtype=tf.float64)),\n",
    "}\n",
    "\n",
    "biases = {\n",
    "    'b1': tf.Variable(tf.random_normal([num_hidden_1], dtype=tf.float64)),\n",
    "    'b2': tf.Variable(tf.random_normal([num_hidden_2], dtype=tf.float64)),\n",
    "    'b3': tf.Variable(tf.random_normal([num_hidden_3], dtype=tf.float64)),\n",
    "}\n",
    "\n",
    "#with tf.device('/gpu:0'):\n",
    "hidden_1 = tf.nn.relu(tf.add(tf.matmul(x, weights['w1']), biases['b1']))\n",
    "hidden_2 = tf.nn.relu(tf.add(tf.matmul(hidden_1, weights['w2']), biases['b2']))\n",
    "logits = tf.add(tf.matmul(hidden_2, weights['w3']), biases['b3'])\n",
    "\n",
    "predictions = tf.nn.sigmoid(logits)"
   ]
  },
  {
   "cell_type": "markdown",
   "metadata": {},
   "source": [
    "#### 03.2 - Loss Function"
   ]
  },
  {
   "cell_type": "code",
   "execution_count": 19,
   "metadata": {},
   "outputs": [],
   "source": [
    "loss = tf.reduce_mean(tf.nn.sigmoid_cross_entropy_with_logits(labels = y, logits = logits))"
   ]
  },
  {
   "cell_type": "markdown",
   "metadata": {},
   "source": [
    "#### 03.3 - Optimizer"
   ]
  },
  {
   "cell_type": "code",
   "execution_count": 20,
   "metadata": {},
   "outputs": [],
   "source": [
    "optimize = tf.train.AdamOptimizer(learning_rate=learning_rate).minimize(loss)"
   ]
  },
  {
   "cell_type": "markdown",
   "metadata": {},
   "source": [
    "#### 03.4 - TensorFlow Session"
   ]
  },
  {
   "cell_type": "code",
   "execution_count": 21,
   "metadata": {},
   "outputs": [
    {
     "name": "stdout",
     "output_type": "stream",
     "text": [
      "epoch: 0\n",
      "loss: 0.0015785265471913311\n",
      "epoch: 100\n",
      "loss: 0.0014797527215884968\n",
      "epoch: 200\n",
      "loss: 0.0014743479036021738\n",
      "epoch: 300\n",
      "loss: 0.0014673381695210264\n",
      "epoch: 400\n",
      "loss: 0.001456407839587156\n"
     ]
    }
   ],
   "source": [
    "start_time = time.time()\n",
    "init = tf.global_variables_initializer()\n",
    "losses = []\n",
    "\n",
    "with tf.Session() as session:\n",
    "    \n",
    "    session.run(init)\n",
    "    \n",
    "    for epoch in range(epochs):\n",
    "        avg_cost = 0\n",
    "    \n",
    "        for x_batch, y_batch in zip(X_train_split, y_train_split):\n",
    "            y_batch_shape = np.shape(y_batch)[0]\n",
    "            y_batch = y_batch.reshape(y_batch_shape, 1)\n",
    "\n",
    "            _, eval_loss = session.run([optimize, loss],\n",
    "                                       feed_dict={x: x_batch, y:y_batch})\n",
    "            \n",
    "        avg_cost += eval_loss\n",
    "    \n",
    "        avg_cost /= num_batches\n",
    "            \n",
    "        losses.append(avg_cost)\n",
    "        \n",
    "        if epoch % 100 == 0: \n",
    "            print(\"epoch: {}\".format(epoch))\n",
    "            print(\"loss: {}\".format(avg_cost))\n",
    "    \n",
    "    # Predictions in the train set\n",
    "    X_train = X_train.values\n",
    "    y_scores_train = session.run([predictions], feed_dict = {x: X_train})\n",
    "    \n",
    "    # predictions in the test set\n",
    "    y_scores_test = session.run([predictions], feed_dict = {x: X_test})\n",
    "\n",
    "final_time = time.time()"
   ]
  },
  {
   "cell_type": "code",
   "execution_count": 22,
   "metadata": {},
   "outputs": [
    {
     "name": "stdout",
     "output_type": "stream",
     "text": [
      "Training Time: 4.654420292377472 minutes\n"
     ]
    }
   ],
   "source": [
    "print(\"Training Time: {} minutes\".format((final_time - start_time)/60))"
   ]
  },
  {
   "cell_type": "markdown",
   "metadata": {},
   "source": [
    "### 04 - Evaluate the model"
   ]
  },
  {
   "cell_type": "code",
   "execution_count": 23,
   "metadata": {},
   "outputs": [
    {
     "data": {
      "image/png": "[encoded data removed]",
      "text/plain": [
       "<matplotlib.figure.Figure at 0x7f7d38466390>"
      ]
     },
     "metadata": {},
     "output_type": "display_data"
    }
   ],
   "source": [
    "plt.plot(losses)\n",
    "plt.show()"
   ]
  },
  {
   "cell_type": "markdown",
   "metadata": {},
   "source": [
    "Train Set:"
   ]
  },
  {
   "cell_type": "code",
   "execution_count": 24,
   "metadata": {},
   "outputs": [
    {
     "name": "stdout",
     "output_type": "stream",
     "text": [
      "AUC in the train set: 0.7498926899308276\n",
      "Gini in the train set: 0.49978537986165517\n"
     ]
    }
   ],
   "source": [
    "y_scores_train = pd.DataFrame(y_scores_train[0])\n",
    "\n",
    "# AUC\n",
    "auc = roc_auc_score(y_train.values, y_scores_train)\n",
    "print(\"AUC in the train set: {}\". format(auc))\n",
    "\n",
    "# Gini\n",
    "gini = auc * 2 - 1\n",
    "print(\"Gini in the train set: {}\".format(gini))"
   ]
  },
  {
   "cell_type": "markdown",
   "metadata": {},
   "source": [
    "Test set:"
   ]
  },
  {
   "cell_type": "code",
   "execution_count": 25,
   "metadata": {},
   "outputs": [
    {
     "name": "stdout",
     "output_type": "stream",
     "text": [
      "AUC in the test set: 0.7061796300017569\n",
      "Gini in the test set: 0.41235926000351375\n"
     ]
    }
   ],
   "source": [
    "y_scores_test = pd.DataFrame(y_scores_test[0])\n",
    "\n",
    "# AUC\n",
    "auc = roc_auc_score(y_test, y_scores_test)\n",
    "print(\"AUC in the test set: {}\". format(auc))\n",
    "\n",
    "# Gini\n",
    "gini = auc * 2 - 1\n",
    "print(\"Gini in the test set: {}\".format(gini))"
   ]
  },
  {
   "cell_type": "markdown",
   "metadata": {},
   "source": [
    "__Output__:"
   ]
  },
  {
   "cell_type": "code",
   "execution_count": 29,
   "metadata": {},
   "outputs": [],
   "source": [
    "y_scores_train.to_csv(\"../output/y_scores_train_nn.csv\", sep = \"^\", index = False)\n",
    "y_scores_test.to_csv(\"../output/y_scores_test_nn.csv\", sep = \"^\", index = False)"
   ]
  }
 ],
 "metadata": {
  "kernelspec": {
   "display_name": "Python 3",
   "language": "python",
   "name": "python3"
  },
  "language_info": {
   "codemirror_mode": {
    "name": "ipython",
    "version": 3
   },
   "file_extension": ".py",
   "mimetype": "text/x-python",
   "name": "python",
   "nbconvert_exporter": "python",
   "pygments_lexer": "ipython3",
   "version": "3.6.4"
  }
 },
 "nbformat": 4,
 "nbformat_minor": 2
}
