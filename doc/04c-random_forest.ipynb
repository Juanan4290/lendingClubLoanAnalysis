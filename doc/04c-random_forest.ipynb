{
 "cells": [
  {
   "cell_type": "markdown",
   "metadata": {},
   "source": [
    "Random Forest\n",
    "======="
   ]
  },
  {
   "cell_type": "markdown",
   "metadata": {},
   "source": [
    "Libraries"
   ]
  },
  {
   "cell_type": "code",
   "execution_count": 1,
   "metadata": {},
   "outputs": [],
   "source": [
    "# remove warnings\n",
    "import warnings\n",
    "warnings.filterwarnings('ignore')\n",
    "\n",
    "import pandas as pd\n",
    "import numpy as np\n",
    "from scipy.stats import randint as sp_randint\n",
    "import matplotlib.pyplot as plt; plt.style.use(\"ggplot\")\n",
    "\n",
    "from sklearn.ensemble import RandomForestClassifier\n",
    "\n",
    "from sklearn.model_selection import train_test_split, GridSearchCV, StratifiedKFold, cross_val_score, RandomizedSearchCV\n",
    "from sklearn.metrics import roc_curve, roc_auc_score, confusion_matrix, precision_recall_fscore_support, auc, accuracy_score"
   ]
  },
  {
   "cell_type": "markdown",
   "metadata": {},
   "source": [
    "#### Read Data:"
   ]
  },
  {
   "cell_type": "code",
   "execution_count": 2,
   "metadata": {},
   "outputs": [],
   "source": [
    "data = pd.read_csv(\"/media/juanan/DATA/loan_data_analysis/data/loans_processed.csv\", sep = \"^\")\\\n",
    "                   .sample(100000)"
   ]
  },
  {
   "cell_type": "code",
   "execution_count": 3,
   "metadata": {
    "scrolled": true
   },
   "outputs": [
    {
     "data": {
      "text/html": [
       "<div>\n",
       "<style scoped>\n",
       "    .dataframe tbody tr th:only-of-type {\n",
       "        vertical-align: middle;\n",
       "    }\n",
       "\n",
       "    .dataframe tbody tr th {\n",
       "        vertical-align: top;\n",
       "    }\n",
       "\n",
       "    .dataframe thead th {\n",
       "        text-align: right;\n",
       "    }\n",
       "</style>\n",
       "<table border=\"1\" class=\"dataframe\">\n",
       "  <thead>\n",
       "    <tr style=\"text-align: right;\">\n",
       "      <th></th>\n",
       "      <th>addr_state</th>\n",
       "      <th>annual_inc</th>\n",
       "      <th>application_type</th>\n",
       "      <th>avg_cur_bal</th>\n",
       "      <th>bc_open_to_buy</th>\n",
       "      <th>bc_util</th>\n",
       "      <th>delinq_2yrs</th>\n",
       "      <th>delinq_amnt</th>\n",
       "      <th>disbursement_method</th>\n",
       "      <th>dti</th>\n",
       "      <th>...</th>\n",
       "      <th>revol_util</th>\n",
       "      <th>sub_grade</th>\n",
       "      <th>tax_liens</th>\n",
       "      <th>term</th>\n",
       "      <th>tot_coll_amt</th>\n",
       "      <th>tot_hi_cred_lim</th>\n",
       "      <th>total_bal_ex_mort</th>\n",
       "      <th>total_bc_limit</th>\n",
       "      <th>total_il_high_credit_limit</th>\n",
       "      <th>verification_status</th>\n",
       "    </tr>\n",
       "  </thead>\n",
       "  <tbody>\n",
       "    <tr>\n",
       "      <th>188513</th>\n",
       "      <td>GA</td>\n",
       "      <td>65000.0</td>\n",
       "      <td>Individual</td>\n",
       "      <td>17271.0</td>\n",
       "      <td>164.0</td>\n",
       "      <td>95.7</td>\n",
       "      <td>2.0</td>\n",
       "      <td>0.0</td>\n",
       "      <td>Cash</td>\n",
       "      <td>24.78</td>\n",
       "      <td>...</td>\n",
       "      <td>42.7</td>\n",
       "      <td>C4</td>\n",
       "      <td>0.0</td>\n",
       "      <td>36 months</td>\n",
       "      <td>0.0</td>\n",
       "      <td>200126.0</td>\n",
       "      <td>29532.0</td>\n",
       "      <td>3800.0</td>\n",
       "      <td>43501.0</td>\n",
       "      <td>Source Verified</td>\n",
       "    </tr>\n",
       "    <tr>\n",
       "      <th>661886</th>\n",
       "      <td>OH</td>\n",
       "      <td>34000.0</td>\n",
       "      <td>Individual</td>\n",
       "      <td>18871.0</td>\n",
       "      <td>5313.0</td>\n",
       "      <td>21.9</td>\n",
       "      <td>0.0</td>\n",
       "      <td>0.0</td>\n",
       "      <td>Cash</td>\n",
       "      <td>20.16</td>\n",
       "      <td>...</td>\n",
       "      <td>46.5</td>\n",
       "      <td>B2</td>\n",
       "      <td>0.0</td>\n",
       "      <td>36 months</td>\n",
       "      <td>0.0</td>\n",
       "      <td>161265.0</td>\n",
       "      <td>22999.0</td>\n",
       "      <td>6800.0</td>\n",
       "      <td>15365.0</td>\n",
       "      <td>Source Verified</td>\n",
       "    </tr>\n",
       "    <tr>\n",
       "      <th>740562</th>\n",
       "      <td>VA</td>\n",
       "      <td>118000.0</td>\n",
       "      <td>Individual</td>\n",
       "      <td>30724.0</td>\n",
       "      <td>2662.0</td>\n",
       "      <td>78.0</td>\n",
       "      <td>0.0</td>\n",
       "      <td>0.0</td>\n",
       "      <td>Cash</td>\n",
       "      <td>20.43</td>\n",
       "      <td>...</td>\n",
       "      <td>77.3</td>\n",
       "      <td>B2</td>\n",
       "      <td>0.0</td>\n",
       "      <td>36 months</td>\n",
       "      <td>0.0</td>\n",
       "      <td>532565.0</td>\n",
       "      <td>288493.0</td>\n",
       "      <td>12100.0</td>\n",
       "      <td>266891.0</td>\n",
       "      <td>Source Verified</td>\n",
       "    </tr>\n",
       "    <tr>\n",
       "      <th>584065</th>\n",
       "      <td>FL</td>\n",
       "      <td>34000.0</td>\n",
       "      <td>Individual</td>\n",
       "      <td>13382.0</td>\n",
       "      <td>2504.0</td>\n",
       "      <td>85.3</td>\n",
       "      <td>0.0</td>\n",
       "      <td>0.0</td>\n",
       "      <td>Cash</td>\n",
       "      <td>12.71</td>\n",
       "      <td>...</td>\n",
       "      <td>62.2</td>\n",
       "      <td>B2</td>\n",
       "      <td>0.0</td>\n",
       "      <td>36 months</td>\n",
       "      <td>0.0</td>\n",
       "      <td>100740.0</td>\n",
       "      <td>14815.0</td>\n",
       "      <td>17000.0</td>\n",
       "      <td>0.0</td>\n",
       "      <td>Not Verified</td>\n",
       "    </tr>\n",
       "    <tr>\n",
       "      <th>503811</th>\n",
       "      <td>CO</td>\n",
       "      <td>69000.0</td>\n",
       "      <td>Individual</td>\n",
       "      <td>2457.0</td>\n",
       "      <td>6358.0</td>\n",
       "      <td>37.0</td>\n",
       "      <td>0.0</td>\n",
       "      <td>0.0</td>\n",
       "      <td>Cash</td>\n",
       "      <td>8.52</td>\n",
       "      <td>...</td>\n",
       "      <td>33.4</td>\n",
       "      <td>B2</td>\n",
       "      <td>0.0</td>\n",
       "      <td>36 months</td>\n",
       "      <td>0.0</td>\n",
       "      <td>40613.0</td>\n",
       "      <td>19658.0</td>\n",
       "      <td>10100.0</td>\n",
       "      <td>29413.0</td>\n",
       "      <td>Verified</td>\n",
       "    </tr>\n",
       "  </tbody>\n",
       "</table>\n",
       "<p>5 rows × 48 columns</p>\n",
       "</div>"
      ],
      "text/plain": [
       "       addr_state  annual_inc application_type  avg_cur_bal  bc_open_to_buy  \\\n",
       "188513         GA     65000.0       Individual      17271.0           164.0   \n",
       "661886         OH     34000.0       Individual      18871.0          5313.0   \n",
       "740562         VA    118000.0       Individual      30724.0          2662.0   \n",
       "584065         FL     34000.0       Individual      13382.0          2504.0   \n",
       "503811         CO     69000.0       Individual       2457.0          6358.0   \n",
       "\n",
       "        bc_util  delinq_2yrs  delinq_amnt disbursement_method    dti  \\\n",
       "188513     95.7          2.0          0.0                Cash  24.78   \n",
       "661886     21.9          0.0          0.0                Cash  20.16   \n",
       "740562     78.0          0.0          0.0                Cash  20.43   \n",
       "584065     85.3          0.0          0.0                Cash  12.71   \n",
       "503811     37.0          0.0          0.0                Cash   8.52   \n",
       "\n",
       "               ...          revol_util  sub_grade  tax_liens        term  \\\n",
       "188513         ...                42.7         C4        0.0   36 months   \n",
       "661886         ...                46.5         B2        0.0   36 months   \n",
       "740562         ...                77.3         B2        0.0   36 months   \n",
       "584065         ...                62.2         B2        0.0   36 months   \n",
       "503811         ...                33.4         B2        0.0   36 months   \n",
       "\n",
       "        tot_coll_amt tot_hi_cred_lim total_bal_ex_mort total_bc_limit  \\\n",
       "188513           0.0        200126.0           29532.0         3800.0   \n",
       "661886           0.0        161265.0           22999.0         6800.0   \n",
       "740562           0.0        532565.0          288493.0        12100.0   \n",
       "584065           0.0        100740.0           14815.0        17000.0   \n",
       "503811           0.0         40613.0           19658.0        10100.0   \n",
       "\n",
       "        total_il_high_credit_limit  verification_status  \n",
       "188513                     43501.0      Source Verified  \n",
       "661886                     15365.0      Source Verified  \n",
       "740562                    266891.0      Source Verified  \n",
       "584065                         0.0         Not Verified  \n",
       "503811                     29413.0             Verified  \n",
       "\n",
       "[5 rows x 48 columns]"
      ]
     },
     "execution_count": 3,
     "metadata": {},
     "output_type": "execute_result"
    }
   ],
   "source": [
    "data.head()"
   ]
  },
  {
   "cell_type": "code",
   "execution_count": 4,
   "metadata": {},
   "outputs": [
    {
     "data": {
      "text/plain": [
       "(100000, 48)"
      ]
     },
     "execution_count": 4,
     "metadata": {},
     "output_type": "execute_result"
    }
   ],
   "source": [
    "data.shape"
   ]
  },
  {
   "cell_type": "markdown",
   "metadata": {},
   "source": [
    "Data balance:"
   ]
  },
  {
   "cell_type": "code",
   "execution_count": 5,
   "metadata": {},
   "outputs": [
    {
     "data": {
      "text/plain": [
       "0.0    79377\n",
       "1.0    20623\n",
       "Name: loan_status, dtype: int64"
      ]
     },
     "execution_count": 5,
     "metadata": {},
     "output_type": "execute_result"
    }
   ],
   "source": [
    "data['loan_status'].value_counts()"
   ]
  },
  {
   "cell_type": "markdown",
   "metadata": {},
   "source": [
    "#### Pre-processing:"
   ]
  },
  {
   "cell_type": "code",
   "execution_count": 6,
   "metadata": {},
   "outputs": [],
   "source": [
    "categorical_variables = data.select_dtypes(include=\"object\").columns"
   ]
  },
  {
   "cell_type": "code",
   "execution_count": 7,
   "metadata": {},
   "outputs": [],
   "source": [
    "def categorical_to_numeric(variable):\n",
    "    \n",
    "    variable_dict = dict(data.groupby(variable)['loan_status'].mean())\n",
    "    \n",
    "    result = data[variable].map(lambda i: variable_dict[i])\n",
    "    \n",
    "    return result"
   ]
  },
  {
   "cell_type": "code",
   "execution_count": 8,
   "metadata": {},
   "outputs": [],
   "source": [
    "for variable in categorical_variables:\n",
    "    data[variable] = categorical_to_numeric(variable)"
   ]
  },
  {
   "cell_type": "code",
   "execution_count": 9,
   "metadata": {},
   "outputs": [
    {
     "data": {
      "text/html": [
       "<div>\n",
       "<style scoped>\n",
       "    .dataframe tbody tr th:only-of-type {\n",
       "        vertical-align: middle;\n",
       "    }\n",
       "\n",
       "    .dataframe tbody tr th {\n",
       "        vertical-align: top;\n",
       "    }\n",
       "\n",
       "    .dataframe thead th {\n",
       "        text-align: right;\n",
       "    }\n",
       "</style>\n",
       "<table border=\"1\" class=\"dataframe\">\n",
       "  <thead>\n",
       "    <tr style=\"text-align: right;\">\n",
       "      <th></th>\n",
       "      <th>addr_state</th>\n",
       "      <th>annual_inc</th>\n",
       "      <th>application_type</th>\n",
       "      <th>avg_cur_bal</th>\n",
       "      <th>bc_open_to_buy</th>\n",
       "      <th>bc_util</th>\n",
       "      <th>delinq_2yrs</th>\n",
       "      <th>delinq_amnt</th>\n",
       "      <th>disbursement_method</th>\n",
       "      <th>dti</th>\n",
       "      <th>...</th>\n",
       "      <th>revol_util</th>\n",
       "      <th>sub_grade</th>\n",
       "      <th>tax_liens</th>\n",
       "      <th>term</th>\n",
       "      <th>tot_coll_amt</th>\n",
       "      <th>tot_hi_cred_lim</th>\n",
       "      <th>total_bal_ex_mort</th>\n",
       "      <th>total_bc_limit</th>\n",
       "      <th>total_il_high_credit_limit</th>\n",
       "      <th>verification_status</th>\n",
       "    </tr>\n",
       "  </thead>\n",
       "  <tbody>\n",
       "    <tr>\n",
       "      <th>188513</th>\n",
       "      <td>0.175856</td>\n",
       "      <td>65000.0</td>\n",
       "      <td>0.206367</td>\n",
       "      <td>17271.0</td>\n",
       "      <td>164.0</td>\n",
       "      <td>95.7</td>\n",
       "      <td>2.0</td>\n",
       "      <td>0.0</td>\n",
       "      <td>0.205814</td>\n",
       "      <td>24.78</td>\n",
       "      <td>...</td>\n",
       "      <td>42.7</td>\n",
       "      <td>0.254184</td>\n",
       "      <td>0.0</td>\n",
       "      <td>0.166831</td>\n",
       "      <td>0.0</td>\n",
       "      <td>200126.0</td>\n",
       "      <td>29532.0</td>\n",
       "      <td>3800.0</td>\n",
       "      <td>43501.0</td>\n",
       "      <td>0.223337</td>\n",
       "    </tr>\n",
       "    <tr>\n",
       "      <th>661886</th>\n",
       "      <td>0.219024</td>\n",
       "      <td>34000.0</td>\n",
       "      <td>0.206367</td>\n",
       "      <td>18871.0</td>\n",
       "      <td>5313.0</td>\n",
       "      <td>21.9</td>\n",
       "      <td>0.0</td>\n",
       "      <td>0.0</td>\n",
       "      <td>0.205814</td>\n",
       "      <td>20.16</td>\n",
       "      <td>...</td>\n",
       "      <td>46.5</td>\n",
       "      <td>0.115766</td>\n",
       "      <td>0.0</td>\n",
       "      <td>0.166831</td>\n",
       "      <td>0.0</td>\n",
       "      <td>161265.0</td>\n",
       "      <td>22999.0</td>\n",
       "      <td>6800.0</td>\n",
       "      <td>15365.0</td>\n",
       "      <td>0.223337</td>\n",
       "    </tr>\n",
       "    <tr>\n",
       "      <th>740562</th>\n",
       "      <td>0.198764</td>\n",
       "      <td>118000.0</td>\n",
       "      <td>0.206367</td>\n",
       "      <td>30724.0</td>\n",
       "      <td>2662.0</td>\n",
       "      <td>78.0</td>\n",
       "      <td>0.0</td>\n",
       "      <td>0.0</td>\n",
       "      <td>0.205814</td>\n",
       "      <td>20.43</td>\n",
       "      <td>...</td>\n",
       "      <td>77.3</td>\n",
       "      <td>0.115766</td>\n",
       "      <td>0.0</td>\n",
       "      <td>0.166831</td>\n",
       "      <td>0.0</td>\n",
       "      <td>532565.0</td>\n",
       "      <td>288493.0</td>\n",
       "      <td>12100.0</td>\n",
       "      <td>266891.0</td>\n",
       "      <td>0.223337</td>\n",
       "    </tr>\n",
       "    <tr>\n",
       "      <th>584065</th>\n",
       "      <td>0.226136</td>\n",
       "      <td>34000.0</td>\n",
       "      <td>0.206367</td>\n",
       "      <td>13382.0</td>\n",
       "      <td>2504.0</td>\n",
       "      <td>85.3</td>\n",
       "      <td>0.0</td>\n",
       "      <td>0.0</td>\n",
       "      <td>0.205814</td>\n",
       "      <td>12.71</td>\n",
       "      <td>...</td>\n",
       "      <td>62.2</td>\n",
       "      <td>0.115766</td>\n",
       "      <td>0.0</td>\n",
       "      <td>0.166831</td>\n",
       "      <td>0.0</td>\n",
       "      <td>100740.0</td>\n",
       "      <td>14815.0</td>\n",
       "      <td>17000.0</td>\n",
       "      <td>0.0</td>\n",
       "      <td>0.151654</td>\n",
       "    </tr>\n",
       "    <tr>\n",
       "      <th>503811</th>\n",
       "      <td>0.160054</td>\n",
       "      <td>69000.0</td>\n",
       "      <td>0.206367</td>\n",
       "      <td>2457.0</td>\n",
       "      <td>6358.0</td>\n",
       "      <td>37.0</td>\n",
       "      <td>0.0</td>\n",
       "      <td>0.0</td>\n",
       "      <td>0.205814</td>\n",
       "      <td>8.52</td>\n",
       "      <td>...</td>\n",
       "      <td>33.4</td>\n",
       "      <td>0.115766</td>\n",
       "      <td>0.0</td>\n",
       "      <td>0.166831</td>\n",
       "      <td>0.0</td>\n",
       "      <td>40613.0</td>\n",
       "      <td>19658.0</td>\n",
       "      <td>10100.0</td>\n",
       "      <td>29413.0</td>\n",
       "      <td>0.238151</td>\n",
       "    </tr>\n",
       "  </tbody>\n",
       "</table>\n",
       "<p>5 rows × 48 columns</p>\n",
       "</div>"
      ],
      "text/plain": [
       "        addr_state  annual_inc  application_type  avg_cur_bal  bc_open_to_buy  \\\n",
       "188513    0.175856     65000.0          0.206367      17271.0           164.0   \n",
       "661886    0.219024     34000.0          0.206367      18871.0          5313.0   \n",
       "740562    0.198764    118000.0          0.206367      30724.0          2662.0   \n",
       "584065    0.226136     34000.0          0.206367      13382.0          2504.0   \n",
       "503811    0.160054     69000.0          0.206367       2457.0          6358.0   \n",
       "\n",
       "        bc_util  delinq_2yrs  delinq_amnt  disbursement_method    dti  \\\n",
       "188513     95.7          2.0          0.0             0.205814  24.78   \n",
       "661886     21.9          0.0          0.0             0.205814  20.16   \n",
       "740562     78.0          0.0          0.0             0.205814  20.43   \n",
       "584065     85.3          0.0          0.0             0.205814  12.71   \n",
       "503811     37.0          0.0          0.0             0.205814   8.52   \n",
       "\n",
       "               ...           revol_util  sub_grade  tax_liens      term  \\\n",
       "188513         ...                 42.7   0.254184        0.0  0.166831   \n",
       "661886         ...                 46.5   0.115766        0.0  0.166831   \n",
       "740562         ...                 77.3   0.115766        0.0  0.166831   \n",
       "584065         ...                 62.2   0.115766        0.0  0.166831   \n",
       "503811         ...                 33.4   0.115766        0.0  0.166831   \n",
       "\n",
       "        tot_coll_amt  tot_hi_cred_lim  total_bal_ex_mort  total_bc_limit  \\\n",
       "188513           0.0         200126.0            29532.0          3800.0   \n",
       "661886           0.0         161265.0            22999.0          6800.0   \n",
       "740562           0.0         532565.0           288493.0         12100.0   \n",
       "584065           0.0         100740.0            14815.0         17000.0   \n",
       "503811           0.0          40613.0            19658.0         10100.0   \n",
       "\n",
       "        total_il_high_credit_limit  verification_status  \n",
       "188513                     43501.0             0.223337  \n",
       "661886                     15365.0             0.223337  \n",
       "740562                    266891.0             0.223337  \n",
       "584065                         0.0             0.151654  \n",
       "503811                     29413.0             0.238151  \n",
       "\n",
       "[5 rows x 48 columns]"
      ]
     },
     "execution_count": 9,
     "metadata": {},
     "output_type": "execute_result"
    }
   ],
   "source": [
    "data.head()"
   ]
  },
  {
   "cell_type": "code",
   "execution_count": 10,
   "metadata": {},
   "outputs": [
    {
     "data": {
      "text/plain": [
       "(100000, 48)"
      ]
     },
     "execution_count": 10,
     "metadata": {},
     "output_type": "execute_result"
    }
   ],
   "source": [
    "data.shape"
   ]
  },
  {
   "cell_type": "markdown",
   "metadata": {},
   "source": [
    "Target:"
   ]
  },
  {
   "cell_type": "code",
   "execution_count": 11,
   "metadata": {},
   "outputs": [],
   "source": [
    "X = data.loc[:, data.columns!='loan_status']"
   ]
  },
  {
   "cell_type": "code",
   "execution_count": 12,
   "metadata": {},
   "outputs": [],
   "source": [
    "y = data['loan_status']"
   ]
  },
  {
   "cell_type": "code",
   "execution_count": 13,
   "metadata": {},
   "outputs": [],
   "source": [
    "#X_train, X_test, y_train, y_test = train_test_split(X, y, test_size=0.20, random_state=4290)"
   ]
  },
  {
   "cell_type": "markdown",
   "metadata": {},
   "source": [
    "__Random Forest__:"
   ]
  },
  {
   "cell_type": "code",
   "execution_count": 14,
   "metadata": {},
   "outputs": [],
   "source": [
    "random_forest = RandomForestClassifier(n_estimators = 200)"
   ]
  },
  {
   "cell_type": "markdown",
   "metadata": {},
   "source": [
    "Parameters to randomize:"
   ]
  },
  {
   "cell_type": "code",
   "execution_count": 15,
   "metadata": {},
   "outputs": [],
   "source": [
    "# specify parameters and distributions to sample from\n",
    "param_dist = {\"max_depth\": [3, None],\n",
    "              \"max_features\": sp_randint(1, 11),\n",
    "              \"min_samples_split\": sp_randint(2, 11),\n",
    "              \"min_samples_leaf\": sp_randint(1, 11),\n",
    "              \"bootstrap\": [True, False],\n",
    "              \"criterion\": [\"gini\", \"entropy\"]}"
   ]
  },
  {
   "cell_type": "markdown",
   "metadata": {},
   "source": [
    "Randomize search with Cross Validation:"
   ]
  },
  {
   "cell_type": "code",
   "execution_count": 22,
   "metadata": {},
   "outputs": [],
   "source": [
    "#kfold = StratifiedKFold(n_splits=3)"
   ]
  },
  {
   "cell_type": "code",
   "execution_count": 16,
   "metadata": {},
   "outputs": [],
   "source": [
    "random_search = RandomizedSearchCV(random_forest, n_iter=20, param_distributions=param_dist,\n",
    "                                   cv=5, scoring=\"roc_auc\", n_jobs=4, verbose=1)"
   ]
  },
  {
   "cell_type": "code",
   "execution_count": 18,
   "metadata": {},
   "outputs": [
    {
     "name": "stdout",
     "output_type": "stream",
     "text": [
      "Fitting 5 folds for each of 20 candidates, totalling 100 fits\n"
     ]
    },
    {
     "name": "stderr",
     "output_type": "stream",
     "text": [
      "[Parallel(n_jobs=4)]: Done  42 tasks      | elapsed: 17.1min\n",
      "[Parallel(n_jobs=4)]: Done 100 out of 100 | elapsed: 76.0min finished\n"
     ]
    },
    {
     "data": {
      "text/plain": [
       "RandomizedSearchCV(cv=5, error_score='raise',\n",
       "          estimator=RandomForestClassifier(bootstrap=True, class_weight=None, criterion='gini',\n",
       "            max_depth=None, max_features='auto', max_leaf_nodes=None,\n",
       "            min_impurity_decrease=0.0, min_impurity_split=None,\n",
       "            min_samples_leaf=1, min_samples_split=2,\n",
       "            min_weight_fraction_leaf=0.0, n_estimators=200, n_jobs=1,\n",
       "            oob_score=False, random_state=None, verbose=0,\n",
       "            warm_start=False),\n",
       "          fit_params=None, iid=True, n_iter=20, n_jobs=4,\n",
       "          param_distributions={'max_depth': [3, None], 'max_features': <scipy.stats._distn_infrastructure.rv_frozen object at 0x7f73465df4a8>, 'min_samples_split': <scipy.stats._distn_infrastructure.rv_frozen object at 0x7f7374594588>, 'min_samples_leaf': <scipy.stats._distn_infrastructure.rv_frozen object at 0x7f73465df780>, 'bootstrap': [True, False], 'criterion': ['gini', 'entropy']},\n",
       "          pre_dispatch='2*n_jobs', random_state=None, refit=True,\n",
       "          return_train_score='warn', scoring='roc_auc', verbose=1)"
      ]
     },
     "execution_count": 18,
     "metadata": {},
     "output_type": "execute_result"
    }
   ],
   "source": [
    "random_search.fit(X, y)"
   ]
  },
  {
   "cell_type": "markdown",
   "metadata": {},
   "source": [
    "Best estimator and result:"
   ]
  },
  {
   "cell_type": "code",
   "execution_count": 19,
   "metadata": {},
   "outputs": [
    {
     "data": {
      "text/plain": [
       "RandomForestClassifier(bootstrap=True, class_weight=None, criterion='entropy',\n",
       "            max_depth=None, max_features=9, max_leaf_nodes=None,\n",
       "            min_impurity_decrease=0.0, min_impurity_split=None,\n",
       "            min_samples_leaf=9, min_samples_split=5,\n",
       "            min_weight_fraction_leaf=0.0, n_estimators=200, n_jobs=1,\n",
       "            oob_score=False, random_state=None, verbose=0,\n",
       "            warm_start=False)"
      ]
     },
     "execution_count": 19,
     "metadata": {},
     "output_type": "execute_result"
    }
   ],
   "source": [
    "random_search.best_estimator_"
   ]
  },
  {
   "cell_type": "code",
   "execution_count": 20,
   "metadata": {},
   "outputs": [
    {
     "data": {
      "text/plain": [
       "0.7160714041944098"
      ]
     },
     "execution_count": 20,
     "metadata": {},
     "output_type": "execute_result"
    }
   ],
   "source": [
    "random_search.best_score_"
   ]
  },
  {
   "cell_type": "markdown",
   "metadata": {},
   "source": [
    "Feature importance:"
   ]
  },
  {
   "cell_type": "code",
   "execution_count": 21,
   "metadata": {
    "scrolled": true
   },
   "outputs": [
    {
     "data": {
      "text/plain": [
       "Text(0.5,1,'Feature importance')"
      ]
     },
     "execution_count": 21,
     "metadata": {},
     "output_type": "execute_result"
    },
    {
     "data": {
      "image/png": "[encoded data removed]",
      "text/plain": [
       "<matplotlib.figure.Figure at 0x7f7344c00fd0>"
      ]
     },
     "metadata": {},
     "output_type": "display_data"
    }
   ],
   "source": [
    "features = pd.DataFrame({'feature':X_train.columns,\n",
    "                         'importance':random_search.best_estimator_.feature_importances_})\n",
    "\n",
    "features = features.set_index('feature').sort_values('importance', ascending=True)\n",
    "\n",
    "features.plot(kind='barh',figsize=(15,30)).set_title('Feature importance')"
   ]
  }
 ],
 "metadata": {
  "kernelspec": {
   "display_name": "Python 3",
   "language": "python",
   "name": "python3"
  },
  "language_info": {
   "codemirror_mode": {
    "name": "ipython",
    "version": 3
   },
   "file_extension": ".py",
   "mimetype": "text/x-python",
   "name": "python",
   "nbconvert_exporter": "python",
   "pygments_lexer": "ipython3",
   "version": "3.6.4"
  }
 },
 "nbformat": 4,
 "nbformat_minor": 2
}
