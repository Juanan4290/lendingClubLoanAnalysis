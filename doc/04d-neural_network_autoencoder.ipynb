{
 "cells": [
  {
   "cell_type": "markdown",
   "metadata": {},
   "source": [
    "Neural Network Autoencoder\n",
    "======="
   ]
  },
  {
   "cell_type": "markdown",
   "metadata": {},
   "source": [
    "Libraries"
   ]
  },
  {
   "cell_type": "code",
   "execution_count": 1,
   "metadata": {},
   "outputs": [],
   "source": [
    "# remove warnings\n",
    "import warnings\n",
    "warnings.filterwarnings('ignore')\n",
    "\n",
    "import pandas as pd\n",
    "import numpy as np\n",
    "import tensorflow as tf\n",
    "import matplotlib.pyplot as plt\n",
    "import time\n",
    "\n",
    "from sklearn.linear_model import LogisticRegression\n",
    "\n",
    "from sklearn.model_selection import train_test_split\n",
    "from sklearn.preprocessing import MinMaxScaler, StandardScaler, RobustScaler\n",
    "from sklearn.metrics import confusion_matrix, roc_auc_score, accuracy_score, precision_recall_fscore_support"
   ]
  },
  {
   "cell_type": "markdown",
   "metadata": {},
   "source": [
    "__Read Data:__"
   ]
  },
  {
   "cell_type": "code",
   "execution_count": 2,
   "metadata": {},
   "outputs": [],
   "source": [
    "data = pd.read_csv(\"/media/juanan/DATA/loan_data_analysis/data/loans_processed_autoencoder.csv\", sep = \"^\")\\\n",
    "                   .sample(100000)"
   ]
  },
  {
   "cell_type": "code",
   "execution_count": 3,
   "metadata": {
    "scrolled": true
   },
   "outputs": [
    {
     "data": {
      "text/html": [
       "<div>\n",
       "<style scoped>\n",
       "    .dataframe tbody tr th:only-of-type {\n",
       "        vertical-align: middle;\n",
       "    }\n",
       "\n",
       "    .dataframe tbody tr th {\n",
       "        vertical-align: top;\n",
       "    }\n",
       "\n",
       "    .dataframe thead th {\n",
       "        text-align: right;\n",
       "    }\n",
       "</style>\n",
       "<table border=\"1\" class=\"dataframe\">\n",
       "  <thead>\n",
       "    <tr style=\"text-align: right;\">\n",
       "      <th></th>\n",
       "      <th>id</th>\n",
       "      <th>loan_amnt</th>\n",
       "      <th>funded_amnt</th>\n",
       "      <th>funded_amnt_inv</th>\n",
       "      <th>term</th>\n",
       "      <th>int_rate</th>\n",
       "      <th>installment</th>\n",
       "      <th>grade</th>\n",
       "      <th>sub_grade</th>\n",
       "      <th>emp_title</th>\n",
       "      <th>...</th>\n",
       "      <th>num_tl_op_past_12m</th>\n",
       "      <th>pct_tl_nvr_dlq</th>\n",
       "      <th>percent_bc_gt_75</th>\n",
       "      <th>pub_rec_bankruptcies</th>\n",
       "      <th>tax_liens</th>\n",
       "      <th>tot_hi_cred_lim</th>\n",
       "      <th>total_bal_ex_mort</th>\n",
       "      <th>total_bc_limit</th>\n",
       "      <th>total_il_high_credit_limit</th>\n",
       "      <th>disbursement_method</th>\n",
       "    </tr>\n",
       "  </thead>\n",
       "  <tbody>\n",
       "    <tr>\n",
       "      <th>122303</th>\n",
       "      <td>13316908</td>\n",
       "      <td>21000.0</td>\n",
       "      <td>21000.0</td>\n",
       "      <td>20900.0</td>\n",
       "      <td>36 months</td>\n",
       "      <td>10.15</td>\n",
       "      <td>679.10</td>\n",
       "      <td>B</td>\n",
       "      <td>B2</td>\n",
       "      <td>coordinating manager</td>\n",
       "      <td>...</td>\n",
       "      <td>0.0</td>\n",
       "      <td>100.0</td>\n",
       "      <td>50.0</td>\n",
       "      <td>0.0</td>\n",
       "      <td>0.0</td>\n",
       "      <td>268509.0</td>\n",
       "      <td>46138.0</td>\n",
       "      <td>56400.0</td>\n",
       "      <td>15149.0</td>\n",
       "      <td>Cash</td>\n",
       "    </tr>\n",
       "    <tr>\n",
       "      <th>701039</th>\n",
       "      <td>84131441</td>\n",
       "      <td>6000.0</td>\n",
       "      <td>6000.0</td>\n",
       "      <td>6000.0</td>\n",
       "      <td>36 months</td>\n",
       "      <td>11.49</td>\n",
       "      <td>197.83</td>\n",
       "      <td>B</td>\n",
       "      <td>B5</td>\n",
       "      <td>Grocery manager</td>\n",
       "      <td>...</td>\n",
       "      <td>3.0</td>\n",
       "      <td>100.0</td>\n",
       "      <td>0.0</td>\n",
       "      <td>0.0</td>\n",
       "      <td>0.0</td>\n",
       "      <td>64585.0</td>\n",
       "      <td>35288.0</td>\n",
       "      <td>17000.0</td>\n",
       "      <td>43085.0</td>\n",
       "      <td>Cash</td>\n",
       "    </tr>\n",
       "    <tr>\n",
       "      <th>413273</th>\n",
       "      <td>44036977</td>\n",
       "      <td>8000.0</td>\n",
       "      <td>8000.0</td>\n",
       "      <td>8000.0</td>\n",
       "      <td>36 months</td>\n",
       "      <td>13.33</td>\n",
       "      <td>270.83</td>\n",
       "      <td>C</td>\n",
       "      <td>C3</td>\n",
       "      <td>Technical Marketing Engineer</td>\n",
       "      <td>...</td>\n",
       "      <td>2.0</td>\n",
       "      <td>100.0</td>\n",
       "      <td>100.0</td>\n",
       "      <td>0.0</td>\n",
       "      <td>0.0</td>\n",
       "      <td>62829.0</td>\n",
       "      <td>50348.0</td>\n",
       "      <td>11300.0</td>\n",
       "      <td>38929.0</td>\n",
       "      <td>Cash</td>\n",
       "    </tr>\n",
       "    <tr>\n",
       "      <th>440126</th>\n",
       "      <td>40463261</td>\n",
       "      <td>7000.0</td>\n",
       "      <td>7000.0</td>\n",
       "      <td>7000.0</td>\n",
       "      <td>36 months</td>\n",
       "      <td>14.31</td>\n",
       "      <td>240.30</td>\n",
       "      <td>C</td>\n",
       "      <td>C4</td>\n",
       "      <td>Manager</td>\n",
       "      <td>...</td>\n",
       "      <td>5.0</td>\n",
       "      <td>92.3</td>\n",
       "      <td>50.0</td>\n",
       "      <td>0.0</td>\n",
       "      <td>0.0</td>\n",
       "      <td>65968.0</td>\n",
       "      <td>35502.0</td>\n",
       "      <td>12300.0</td>\n",
       "      <td>39379.0</td>\n",
       "      <td>Cash</td>\n",
       "    </tr>\n",
       "    <tr>\n",
       "      <th>68899</th>\n",
       "      <td>26200348</td>\n",
       "      <td>18550.0</td>\n",
       "      <td>18550.0</td>\n",
       "      <td>18550.0</td>\n",
       "      <td>60 months</td>\n",
       "      <td>20.20</td>\n",
       "      <td>493.53</td>\n",
       "      <td>E</td>\n",
       "      <td>E3</td>\n",
       "      <td>owner</td>\n",
       "      <td>...</td>\n",
       "      <td>1.0</td>\n",
       "      <td>100.0</td>\n",
       "      <td>0.0</td>\n",
       "      <td>0.0</td>\n",
       "      <td>0.0</td>\n",
       "      <td>57507.0</td>\n",
       "      <td>48497.0</td>\n",
       "      <td>7700.0</td>\n",
       "      <td>47907.0</td>\n",
       "      <td>Cash</td>\n",
       "    </tr>\n",
       "  </tbody>\n",
       "</table>\n",
       "<p>5 rows × 75 columns</p>\n",
       "</div>"
      ],
      "text/plain": [
       "              id  loan_amnt  funded_amnt  funded_amnt_inv        term  \\\n",
       "122303  13316908    21000.0      21000.0          20900.0   36 months   \n",
       "701039  84131441     6000.0       6000.0           6000.0   36 months   \n",
       "413273  44036977     8000.0       8000.0           8000.0   36 months   \n",
       "440126  40463261     7000.0       7000.0           7000.0   36 months   \n",
       "68899   26200348    18550.0      18550.0          18550.0   60 months   \n",
       "\n",
       "        int_rate  installment grade sub_grade                     emp_title  \\\n",
       "122303     10.15       679.10     B        B2          coordinating manager   \n",
       "701039     11.49       197.83     B        B5              Grocery manager    \n",
       "413273     13.33       270.83     C        C3  Technical Marketing Engineer   \n",
       "440126     14.31       240.30     C        C4                       Manager   \n",
       "68899      20.20       493.53     E        E3                         owner   \n",
       "\n",
       "               ...         num_tl_op_past_12m pct_tl_nvr_dlq  \\\n",
       "122303         ...                        0.0          100.0   \n",
       "701039         ...                        3.0          100.0   \n",
       "413273         ...                        2.0          100.0   \n",
       "440126         ...                        5.0           92.3   \n",
       "68899          ...                        1.0          100.0   \n",
       "\n",
       "        percent_bc_gt_75 pub_rec_bankruptcies tax_liens  tot_hi_cred_lim  \\\n",
       "122303              50.0                  0.0       0.0         268509.0   \n",
       "701039               0.0                  0.0       0.0          64585.0   \n",
       "413273             100.0                  0.0       0.0          62829.0   \n",
       "440126              50.0                  0.0       0.0          65968.0   \n",
       "68899                0.0                  0.0       0.0          57507.0   \n",
       "\n",
       "       total_bal_ex_mort total_bc_limit total_il_high_credit_limit  \\\n",
       "122303           46138.0        56400.0                    15149.0   \n",
       "701039           35288.0        17000.0                    43085.0   \n",
       "413273           50348.0        11300.0                    38929.0   \n",
       "440126           35502.0        12300.0                    39379.0   \n",
       "68899            48497.0         7700.0                    47907.0   \n",
       "\n",
       "       disbursement_method  \n",
       "122303                Cash  \n",
       "701039                Cash  \n",
       "413273                Cash  \n",
       "440126                Cash  \n",
       "68899                 Cash  \n",
       "\n",
       "[5 rows x 75 columns]"
      ]
     },
     "execution_count": 3,
     "metadata": {},
     "output_type": "execute_result"
    }
   ],
   "source": [
    "data.head()"
   ]
  },
  {
   "cell_type": "code",
   "execution_count": 4,
   "metadata": {},
   "outputs": [
    {
     "data": {
      "text/plain": [
       "(100000, 75)"
      ]
     },
     "execution_count": 4,
     "metadata": {},
     "output_type": "execute_result"
    }
   ],
   "source": [
    "data.shape"
   ]
  },
  {
   "cell_type": "markdown",
   "metadata": {},
   "source": [
    "__Pre-processing__:"
   ]
  },
  {
   "cell_type": "markdown",
   "metadata": {},
   "source": [
    "Normalization:"
   ]
  },
  {
   "cell_type": "code",
   "execution_count": 5,
   "metadata": {},
   "outputs": [],
   "source": [
    "numeric_variables = data.loc[:,data.columns != \"loan_status\"]._get_numeric_data().columns"
   ]
  },
  {
   "cell_type": "code",
   "execution_count": 6,
   "metadata": {},
   "outputs": [
    {
     "data": {
      "text/plain": [
       "Index(['id', 'loan_amnt', 'funded_amnt', 'funded_amnt_inv', 'int_rate',\n",
       "       'installment', 'annual_inc', 'dti', 'delinq_2yrs', 'fico_range_low',\n",
       "       'fico_range_high', 'inq_last_6mths', 'open_acc', 'pub_rec', 'revol_bal',\n",
       "       'revol_util', 'total_acc', 'collections_12_mths_ex_med',\n",
       "       'acc_now_delinq', 'tot_coll_amt', 'tot_cur_bal', 'total_rev_hi_lim',\n",
       "       'acc_open_past_24mths', 'avg_cur_bal', 'bc_open_to_buy', 'bc_util',\n",
       "       'chargeoff_within_12_mths', 'delinq_amnt', 'mo_sin_old_il_acct',\n",
       "       'mo_sin_old_rev_tl_op', 'mo_sin_rcnt_rev_tl_op', 'mo_sin_rcnt_tl',\n",
       "       'mort_acc', 'mths_since_recent_bc', 'mths_since_recent_inq',\n",
       "       'num_accts_ever_120_pd', 'num_actv_bc_tl', 'num_actv_rev_tl',\n",
       "       'num_bc_sats', 'num_bc_tl', 'num_il_tl', 'num_op_rev_tl',\n",
       "       'num_rev_accts', 'num_rev_tl_bal_gt_0', 'num_sats', 'num_tl_120dpd_2m',\n",
       "       'num_tl_30dpd', 'num_tl_90g_dpd_24m', 'num_tl_op_past_12m',\n",
       "       'pct_tl_nvr_dlq', 'percent_bc_gt_75', 'pub_rec_bankruptcies',\n",
       "       'tax_liens', 'tot_hi_cred_lim', 'total_bal_ex_mort', 'total_bc_limit',\n",
       "       'total_il_high_credit_limit'],\n",
       "      dtype='object')"
      ]
     },
     "execution_count": 6,
     "metadata": {},
     "output_type": "execute_result"
    }
   ],
   "source": [
    "numeric_variables"
   ]
  },
  {
   "cell_type": "code",
   "execution_count": 7,
   "metadata": {},
   "outputs": [],
   "source": [
    "scaler = StandardScaler()"
   ]
  },
  {
   "cell_type": "code",
   "execution_count": 8,
   "metadata": {},
   "outputs": [
    {
     "data": {
      "text/plain": [
       "StandardScaler(copy=True, with_mean=True, with_std=True)"
      ]
     },
     "execution_count": 8,
     "metadata": {},
     "output_type": "execute_result"
    }
   ],
   "source": [
    "scaler.fit(data[numeric_variables])"
   ]
  },
  {
   "cell_type": "code",
   "execution_count": 9,
   "metadata": {},
   "outputs": [],
   "source": [
    "data[numeric_variables] = scaler.transform(data[numeric_variables])"
   ]
  },
  {
   "cell_type": "code",
   "execution_count": 10,
   "metadata": {},
   "outputs": [
    {
     "data": {
      "text/html": [
       "<div>\n",
       "<style scoped>\n",
       "    .dataframe tbody tr th:only-of-type {\n",
       "        vertical-align: middle;\n",
       "    }\n",
       "\n",
       "    .dataframe tbody tr th {\n",
       "        vertical-align: top;\n",
       "    }\n",
       "\n",
       "    .dataframe thead th {\n",
       "        text-align: right;\n",
       "    }\n",
       "</style>\n",
       "<table border=\"1\" class=\"dataframe\">\n",
       "  <thead>\n",
       "    <tr style=\"text-align: right;\">\n",
       "      <th></th>\n",
       "      <th>id</th>\n",
       "      <th>loan_amnt</th>\n",
       "      <th>funded_amnt</th>\n",
       "      <th>funded_amnt_inv</th>\n",
       "      <th>term</th>\n",
       "      <th>int_rate</th>\n",
       "      <th>installment</th>\n",
       "      <th>grade</th>\n",
       "      <th>sub_grade</th>\n",
       "      <th>emp_title</th>\n",
       "      <th>...</th>\n",
       "      <th>num_tl_op_past_12m</th>\n",
       "      <th>pct_tl_nvr_dlq</th>\n",
       "      <th>percent_bc_gt_75</th>\n",
       "      <th>pub_rec_bankruptcies</th>\n",
       "      <th>tax_liens</th>\n",
       "      <th>tot_hi_cred_lim</th>\n",
       "      <th>total_bal_ex_mort</th>\n",
       "      <th>total_bc_limit</th>\n",
       "      <th>total_il_high_credit_limit</th>\n",
       "      <th>disbursement_method</th>\n",
       "    </tr>\n",
       "  </thead>\n",
       "  <tbody>\n",
       "    <tr>\n",
       "      <th>122303</th>\n",
       "      <td>-0.798233</td>\n",
       "      <td>0.782131</td>\n",
       "      <td>0.784392</td>\n",
       "      <td>0.776201</td>\n",
       "      <td>36 months</td>\n",
       "      <td>-0.726448</td>\n",
       "      <td>0.944143</td>\n",
       "      <td>B</td>\n",
       "      <td>B2</td>\n",
       "      <td>coordinating manager</td>\n",
       "      <td>...</td>\n",
       "      <td>-0.874748</td>\n",
       "      <td>0.514335</td>\n",
       "      <td>0.147362</td>\n",
       "      <td>-0.281506</td>\n",
       "      <td>-0.117142</td>\n",
       "      <td>0.643915</td>\n",
       "      <td>0.005431</td>\n",
       "      <td>1.770728</td>\n",
       "      <td>-0.538260</td>\n",
       "      <td>Cash</td>\n",
       "    </tr>\n",
       "    <tr>\n",
       "      <th>701039</th>\n",
       "      <td>1.481167</td>\n",
       "      <td>-0.979255</td>\n",
       "      <td>-0.978504</td>\n",
       "      <td>-0.974176</td>\n",
       "      <td>36 months</td>\n",
       "      <td>-0.436773</td>\n",
       "      <td>-0.936031</td>\n",
       "      <td>B</td>\n",
       "      <td>B5</td>\n",
       "      <td>Grocery manager</td>\n",
       "      <td>...</td>\n",
       "      <td>0.000641</td>\n",
       "      <td>0.514335</td>\n",
       "      <td>-1.251318</td>\n",
       "      <td>-0.281506</td>\n",
       "      <td>-0.117142</td>\n",
       "      <td>-0.544371</td>\n",
       "      <td>-0.231962</td>\n",
       "      <td>-0.127810</td>\n",
       "      <td>0.131355</td>\n",
       "      <td>Cash</td>\n",
       "    </tr>\n",
       "    <tr>\n",
       "      <th>413273</th>\n",
       "      <td>0.190594</td>\n",
       "      <td>-0.744403</td>\n",
       "      <td>-0.743451</td>\n",
       "      <td>-0.739226</td>\n",
       "      <td>36 months</td>\n",
       "      <td>-0.039011</td>\n",
       "      <td>-0.650842</td>\n",
       "      <td>C</td>\n",
       "      <td>C3</td>\n",
       "      <td>Technical Marketing Engineer</td>\n",
       "      <td>...</td>\n",
       "      <td>-0.291155</td>\n",
       "      <td>0.514335</td>\n",
       "      <td>1.546041</td>\n",
       "      <td>-0.281506</td>\n",
       "      <td>-0.117142</td>\n",
       "      <td>-0.554604</td>\n",
       "      <td>0.097543</td>\n",
       "      <td>-0.402472</td>\n",
       "      <td>0.031737</td>\n",
       "      <td>Cash</td>\n",
       "    </tr>\n",
       "    <tr>\n",
       "      <th>440126</th>\n",
       "      <td>0.075562</td>\n",
       "      <td>-0.861829</td>\n",
       "      <td>-0.860978</td>\n",
       "      <td>-0.856701</td>\n",
       "      <td>36 months</td>\n",
       "      <td>0.172840</td>\n",
       "      <td>-0.770114</td>\n",
       "      <td>C</td>\n",
       "      <td>C4</td>\n",
       "      <td>Manager</td>\n",
       "      <td>...</td>\n",
       "      <td>0.584233</td>\n",
       "      <td>0.197601</td>\n",
       "      <td>0.147362</td>\n",
       "      <td>-0.281506</td>\n",
       "      <td>-0.117142</td>\n",
       "      <td>-0.536312</td>\n",
       "      <td>-0.227279</td>\n",
       "      <td>-0.354286</td>\n",
       "      <td>0.042523</td>\n",
       "      <td>Cash</td>\n",
       "    </tr>\n",
       "    <tr>\n",
       "      <th>68899</th>\n",
       "      <td>-0.383537</td>\n",
       "      <td>0.494438</td>\n",
       "      <td>0.496452</td>\n",
       "      <td>0.500135</td>\n",
       "      <td>60 months</td>\n",
       "      <td>1.446111</td>\n",
       "      <td>0.219178</td>\n",
       "      <td>E</td>\n",
       "      <td>E3</td>\n",
       "      <td>owner</td>\n",
       "      <td>...</td>\n",
       "      <td>-0.582952</td>\n",
       "      <td>0.514335</td>\n",
       "      <td>-1.251318</td>\n",
       "      <td>-0.281506</td>\n",
       "      <td>-0.117142</td>\n",
       "      <td>-0.585616</td>\n",
       "      <td>0.057044</td>\n",
       "      <td>-0.575942</td>\n",
       "      <td>0.246936</td>\n",
       "      <td>Cash</td>\n",
       "    </tr>\n",
       "  </tbody>\n",
       "</table>\n",
       "<p>5 rows × 75 columns</p>\n",
       "</div>"
      ],
      "text/plain": [
       "              id  loan_amnt  funded_amnt  funded_amnt_inv        term  \\\n",
       "122303 -0.798233   0.782131     0.784392         0.776201   36 months   \n",
       "701039  1.481167  -0.979255    -0.978504        -0.974176   36 months   \n",
       "413273  0.190594  -0.744403    -0.743451        -0.739226   36 months   \n",
       "440126  0.075562  -0.861829    -0.860978        -0.856701   36 months   \n",
       "68899  -0.383537   0.494438     0.496452         0.500135   60 months   \n",
       "\n",
       "        int_rate  installment grade sub_grade                     emp_title  \\\n",
       "122303 -0.726448     0.944143     B        B2          coordinating manager   \n",
       "701039 -0.436773    -0.936031     B        B5              Grocery manager    \n",
       "413273 -0.039011    -0.650842     C        C3  Technical Marketing Engineer   \n",
       "440126  0.172840    -0.770114     C        C4                       Manager   \n",
       "68899   1.446111     0.219178     E        E3                         owner   \n",
       "\n",
       "               ...         num_tl_op_past_12m pct_tl_nvr_dlq  \\\n",
       "122303         ...                  -0.874748       0.514335   \n",
       "701039         ...                   0.000641       0.514335   \n",
       "413273         ...                  -0.291155       0.514335   \n",
       "440126         ...                   0.584233       0.197601   \n",
       "68899          ...                  -0.582952       0.514335   \n",
       "\n",
       "        percent_bc_gt_75 pub_rec_bankruptcies tax_liens  tot_hi_cred_lim  \\\n",
       "122303          0.147362            -0.281506 -0.117142         0.643915   \n",
       "701039         -1.251318            -0.281506 -0.117142        -0.544371   \n",
       "413273          1.546041            -0.281506 -0.117142        -0.554604   \n",
       "440126          0.147362            -0.281506 -0.117142        -0.536312   \n",
       "68899          -1.251318            -0.281506 -0.117142        -0.585616   \n",
       "\n",
       "       total_bal_ex_mort total_bc_limit total_il_high_credit_limit  \\\n",
       "122303          0.005431       1.770728                  -0.538260   \n",
       "701039         -0.231962      -0.127810                   0.131355   \n",
       "413273          0.097543      -0.402472                   0.031737   \n",
       "440126         -0.227279      -0.354286                   0.042523   \n",
       "68899           0.057044      -0.575942                   0.246936   \n",
       "\n",
       "       disbursement_method  \n",
       "122303                Cash  \n",
       "701039                Cash  \n",
       "413273                Cash  \n",
       "440126                Cash  \n",
       "68899                 Cash  \n",
       "\n",
       "[5 rows x 75 columns]"
      ]
     },
     "execution_count": 10,
     "metadata": {},
     "output_type": "execute_result"
    }
   ],
   "source": [
    "data.head()"
   ]
  },
  {
   "cell_type": "markdown",
   "metadata": {},
   "source": [
    "Categorical Variables:"
   ]
  },
  {
   "cell_type": "code",
   "execution_count": 11,
   "metadata": {},
   "outputs": [],
   "source": [
    "categorical_variables = data.select_dtypes(include=\"object\").columns"
   ]
  },
  {
   "cell_type": "code",
   "execution_count": 12,
   "metadata": {},
   "outputs": [],
   "source": [
    "def categorical_to_numeric(variable):\n",
    "    \n",
    "    variable_dict = dict(data.groupby(variable)['loan_status'].mean())\n",
    "    \n",
    "    result = data[variable].map(lambda i: variable_dict[i])\n",
    "    \n",
    "    return result"
   ]
  },
  {
   "cell_type": "code",
   "execution_count": 13,
   "metadata": {},
   "outputs": [],
   "source": [
    "for variable in categorical_variables:\n",
    "    data[variable] = categorical_to_numeric(variable)"
   ]
  },
  {
   "cell_type": "code",
   "execution_count": 14,
   "metadata": {},
   "outputs": [
    {
     "data": {
      "text/html": [
       "<div>\n",
       "<style scoped>\n",
       "    .dataframe tbody tr th:only-of-type {\n",
       "        vertical-align: middle;\n",
       "    }\n",
       "\n",
       "    .dataframe tbody tr th {\n",
       "        vertical-align: top;\n",
       "    }\n",
       "\n",
       "    .dataframe thead th {\n",
       "        text-align: right;\n",
       "    }\n",
       "</style>\n",
       "<table border=\"1\" class=\"dataframe\">\n",
       "  <thead>\n",
       "    <tr style=\"text-align: right;\">\n",
       "      <th></th>\n",
       "      <th>id</th>\n",
       "      <th>loan_amnt</th>\n",
       "      <th>funded_amnt</th>\n",
       "      <th>funded_amnt_inv</th>\n",
       "      <th>term</th>\n",
       "      <th>int_rate</th>\n",
       "      <th>installment</th>\n",
       "      <th>grade</th>\n",
       "      <th>sub_grade</th>\n",
       "      <th>emp_title</th>\n",
       "      <th>...</th>\n",
       "      <th>num_tl_op_past_12m</th>\n",
       "      <th>pct_tl_nvr_dlq</th>\n",
       "      <th>percent_bc_gt_75</th>\n",
       "      <th>pub_rec_bankruptcies</th>\n",
       "      <th>tax_liens</th>\n",
       "      <th>tot_hi_cred_lim</th>\n",
       "      <th>total_bal_ex_mort</th>\n",
       "      <th>total_bc_limit</th>\n",
       "      <th>total_il_high_credit_limit</th>\n",
       "      <th>disbursement_method</th>\n",
       "    </tr>\n",
       "  </thead>\n",
       "  <tbody>\n",
       "    <tr>\n",
       "      <th>122303</th>\n",
       "      <td>-0.798233</td>\n",
       "      <td>0.782131</td>\n",
       "      <td>0.784392</td>\n",
       "      <td>0.776201</td>\n",
       "      <td>0.166537</td>\n",
       "      <td>-0.726448</td>\n",
       "      <td>0.944143</td>\n",
       "      <td>0.136496</td>\n",
       "      <td>0.117078</td>\n",
       "      <td>0.500000</td>\n",
       "      <td>...</td>\n",
       "      <td>-0.874748</td>\n",
       "      <td>0.514335</td>\n",
       "      <td>0.147362</td>\n",
       "      <td>-0.281506</td>\n",
       "      <td>-0.117142</td>\n",
       "      <td>0.643915</td>\n",
       "      <td>0.005431</td>\n",
       "      <td>1.770728</td>\n",
       "      <td>-0.538260</td>\n",
       "      <td>0.207236</td>\n",
       "    </tr>\n",
       "    <tr>\n",
       "      <th>701039</th>\n",
       "      <td>1.481167</td>\n",
       "      <td>-0.979255</td>\n",
       "      <td>-0.978504</td>\n",
       "      <td>-0.974176</td>\n",
       "      <td>0.166537</td>\n",
       "      <td>-0.436773</td>\n",
       "      <td>-0.936031</td>\n",
       "      <td>0.136496</td>\n",
       "      <td>0.171806</td>\n",
       "      <td>0.000000</td>\n",
       "      <td>...</td>\n",
       "      <td>0.000641</td>\n",
       "      <td>0.514335</td>\n",
       "      <td>-1.251318</td>\n",
       "      <td>-0.281506</td>\n",
       "      <td>-0.117142</td>\n",
       "      <td>-0.544371</td>\n",
       "      <td>-0.231962</td>\n",
       "      <td>-0.127810</td>\n",
       "      <td>0.131355</td>\n",
       "      <td>0.207236</td>\n",
       "    </tr>\n",
       "    <tr>\n",
       "      <th>413273</th>\n",
       "      <td>0.190594</td>\n",
       "      <td>-0.744403</td>\n",
       "      <td>-0.743451</td>\n",
       "      <td>-0.739226</td>\n",
       "      <td>0.166537</td>\n",
       "      <td>-0.039011</td>\n",
       "      <td>-0.650842</td>\n",
       "      <td>0.225039</td>\n",
       "      <td>0.226547</td>\n",
       "      <td>0.000000</td>\n",
       "      <td>...</td>\n",
       "      <td>-0.291155</td>\n",
       "      <td>0.514335</td>\n",
       "      <td>1.546041</td>\n",
       "      <td>-0.281506</td>\n",
       "      <td>-0.117142</td>\n",
       "      <td>-0.554604</td>\n",
       "      <td>0.097543</td>\n",
       "      <td>-0.402472</td>\n",
       "      <td>0.031737</td>\n",
       "      <td>0.207236</td>\n",
       "    </tr>\n",
       "    <tr>\n",
       "      <th>440126</th>\n",
       "      <td>0.075562</td>\n",
       "      <td>-0.861829</td>\n",
       "      <td>-0.860978</td>\n",
       "      <td>-0.856701</td>\n",
       "      <td>0.166537</td>\n",
       "      <td>0.172840</td>\n",
       "      <td>-0.770114</td>\n",
       "      <td>0.225039</td>\n",
       "      <td>0.258647</td>\n",
       "      <td>0.235913</td>\n",
       "      <td>...</td>\n",
       "      <td>0.584233</td>\n",
       "      <td>0.197601</td>\n",
       "      <td>0.147362</td>\n",
       "      <td>-0.281506</td>\n",
       "      <td>-0.117142</td>\n",
       "      <td>-0.536312</td>\n",
       "      <td>-0.227279</td>\n",
       "      <td>-0.354286</td>\n",
       "      <td>0.042523</td>\n",
       "      <td>0.207236</td>\n",
       "    </tr>\n",
       "    <tr>\n",
       "      <th>68899</th>\n",
       "      <td>-0.383537</td>\n",
       "      <td>0.494438</td>\n",
       "      <td>0.496452</td>\n",
       "      <td>0.500135</td>\n",
       "      <td>0.335949</td>\n",
       "      <td>1.446111</td>\n",
       "      <td>0.219178</td>\n",
       "      <td>0.390884</td>\n",
       "      <td>0.397040</td>\n",
       "      <td>0.297398</td>\n",
       "      <td>...</td>\n",
       "      <td>-0.582952</td>\n",
       "      <td>0.514335</td>\n",
       "      <td>-1.251318</td>\n",
       "      <td>-0.281506</td>\n",
       "      <td>-0.117142</td>\n",
       "      <td>-0.585616</td>\n",
       "      <td>0.057044</td>\n",
       "      <td>-0.575942</td>\n",
       "      <td>0.246936</td>\n",
       "      <td>0.207236</td>\n",
       "    </tr>\n",
       "  </tbody>\n",
       "</table>\n",
       "<p>5 rows × 75 columns</p>\n",
       "</div>"
      ],
      "text/plain": [
       "              id  loan_amnt  funded_amnt  funded_amnt_inv      term  int_rate  \\\n",
       "122303 -0.798233   0.782131     0.784392         0.776201  0.166537 -0.726448   \n",
       "701039  1.481167  -0.979255    -0.978504        -0.974176  0.166537 -0.436773   \n",
       "413273  0.190594  -0.744403    -0.743451        -0.739226  0.166537 -0.039011   \n",
       "440126  0.075562  -0.861829    -0.860978        -0.856701  0.166537  0.172840   \n",
       "68899  -0.383537   0.494438     0.496452         0.500135  0.335949  1.446111   \n",
       "\n",
       "        installment     grade  sub_grade  emp_title         ...           \\\n",
       "122303     0.944143  0.136496   0.117078   0.500000         ...            \n",
       "701039    -0.936031  0.136496   0.171806   0.000000         ...            \n",
       "413273    -0.650842  0.225039   0.226547   0.000000         ...            \n",
       "440126    -0.770114  0.225039   0.258647   0.235913         ...            \n",
       "68899      0.219178  0.390884   0.397040   0.297398         ...            \n",
       "\n",
       "        num_tl_op_past_12m  pct_tl_nvr_dlq  percent_bc_gt_75  \\\n",
       "122303           -0.874748        0.514335          0.147362   \n",
       "701039            0.000641        0.514335         -1.251318   \n",
       "413273           -0.291155        0.514335          1.546041   \n",
       "440126            0.584233        0.197601          0.147362   \n",
       "68899            -0.582952        0.514335         -1.251318   \n",
       "\n",
       "        pub_rec_bankruptcies  tax_liens  tot_hi_cred_lim  total_bal_ex_mort  \\\n",
       "122303             -0.281506  -0.117142         0.643915           0.005431   \n",
       "701039             -0.281506  -0.117142        -0.544371          -0.231962   \n",
       "413273             -0.281506  -0.117142        -0.554604           0.097543   \n",
       "440126             -0.281506  -0.117142        -0.536312          -0.227279   \n",
       "68899              -0.281506  -0.117142        -0.585616           0.057044   \n",
       "\n",
       "        total_bc_limit  total_il_high_credit_limit  disbursement_method  \n",
       "122303        1.770728                   -0.538260             0.207236  \n",
       "701039       -0.127810                    0.131355             0.207236  \n",
       "413273       -0.402472                    0.031737             0.207236  \n",
       "440126       -0.354286                    0.042523             0.207236  \n",
       "68899        -0.575942                    0.246936             0.207236  \n",
       "\n",
       "[5 rows x 75 columns]"
      ]
     },
     "execution_count": 14,
     "metadata": {},
     "output_type": "execute_result"
    }
   ],
   "source": [
    "data.head()"
   ]
  },
  {
   "cell_type": "code",
   "execution_count": 15,
   "metadata": {
    "scrolled": true
   },
   "outputs": [
    {
     "data": {
      "text/plain": [
       "(100000, 75)"
      ]
     },
     "execution_count": 15,
     "metadata": {},
     "output_type": "execute_result"
    }
   ],
   "source": [
    "data.shape"
   ]
  },
  {
   "cell_type": "markdown",
   "metadata": {},
   "source": [
    "Target:"
   ]
  },
  {
   "cell_type": "code",
   "execution_count": 16,
   "metadata": {},
   "outputs": [],
   "source": [
    "X = data.loc[:, data.columns!='loan_status']"
   ]
  },
  {
   "cell_type": "code",
   "execution_count": 17,
   "metadata": {},
   "outputs": [],
   "source": [
    "y = data['loan_status']"
   ]
  },
  {
   "cell_type": "markdown",
   "metadata": {},
   "source": [
    "____________________"
   ]
  },
  {
   "cell_type": "markdown",
   "metadata": {},
   "source": [
    "__Neural Network Autoencoder__: \n",
    "====\n",
    "_____________________"
   ]
  },
  {
   "cell_type": "markdown",
   "metadata": {},
   "source": [
    "Parameters:"
   ]
  },
  {
   "cell_type": "code",
   "execution_count": 18,
   "metadata": {},
   "outputs": [],
   "source": [
    "learning_rate = 0.0001\n",
    "epochs = 2000\n",
    "batch_size = 28"
   ]
  },
  {
   "cell_type": "markdown",
   "metadata": {},
   "source": [
    "Data Transformation:"
   ]
  },
  {
   "cell_type": "code",
   "execution_count": 19,
   "metadata": {},
   "outputs": [],
   "source": [
    "X_split = X.values\n",
    "\n",
    "num_batches = int(X_split.shape[0] / batch_size)\n",
    "X_split = np.array_split(X_split, num_batches)"
   ]
  },
  {
   "cell_type": "markdown",
   "metadata": {},
   "source": [
    "__Neural Network Architecture__:"
   ]
  },
  {
   "cell_type": "code",
   "execution_count": 20,
   "metadata": {},
   "outputs": [],
   "source": [
    "# hidden layers\n",
    "_, number_of_variables = np.shape(X_split[0])\n",
    "num_hidden_0 = number_of_variables\n",
    "num_hidden_1 = 24\n",
    "num_hidden_2 = 12\n",
    "\n",
    "#with tf.device('/cpu:0'):\n",
    "x = tf.placeholder(dtype = tf.float64, shape = [None, num_hidden_0])\n",
    "\n",
    "weights = {\n",
    "    # encoder\n",
    "    'w1': tf.Variable(tf.truncated_normal(stddev=.1, shape=[num_hidden_0, num_hidden_1], dtype=tf.float64)),\n",
    "    'w2': tf.Variable(tf.truncated_normal(stddev=.1, shape=[num_hidden_1, num_hidden_2], dtype=tf.float64)),\n",
    "    # decoder\n",
    "    'w3': tf.Variable(tf.truncated_normal(stddev=.1, shape=[num_hidden_2, num_hidden_1], dtype=tf.float64)),\n",
    "    'w4': tf.Variable(tf.truncated_normal(stddev=.1, shape=[num_hidden_1, num_hidden_0], dtype=tf.float64)),\n",
    "}\n",
    "\n",
    "biases = {\n",
    "    # encoder\n",
    "    'b1': tf.Variable(tf.random_normal([num_hidden_1], dtype=tf.float64)),\n",
    "    'b2': tf.Variable(tf.random_normal([num_hidden_2], dtype=tf.float64)),\n",
    "    # decoder\n",
    "    'b3': tf.Variable(tf.random_normal([num_hidden_1], dtype=tf.float64)),\n",
    "    'b4': tf.Variable(tf.random_normal([num_hidden_0], dtype=tf.float64)),\n",
    "}\n",
    "\n",
    "#with tf.device('/gpu:0'):\n",
    "hidden_1 = tf.nn.sigmoid(tf.add(tf.matmul(x, weights['w1']), biases['b1']))\n",
    "hidden_2 = tf.nn.sigmoid(tf.add(tf.matmul(hidden_1, weights['w2']), biases['b2']))\n",
    "hidden_3 = tf.nn.sigmoid(tf.add(tf.matmul(hidden_2, weights['w3']), biases['b3']))\n",
    "logits = tf.add(tf.matmul(hidden_3, weights['w4']), biases['b4'])\n",
    "\n",
    "predictions = tf.nn.sigmoid(logits)"
   ]
  },
  {
   "cell_type": "markdown",
   "metadata": {},
   "source": [
    "Loss Function:"
   ]
  },
  {
   "cell_type": "code",
   "execution_count": 21,
   "metadata": {},
   "outputs": [],
   "source": [
    "loss = tf.reduce_mean(tf.pow(x - predictions, 2))"
   ]
  },
  {
   "cell_type": "markdown",
   "metadata": {},
   "source": [
    "Optimizer:"
   ]
  },
  {
   "cell_type": "code",
   "execution_count": 22,
   "metadata": {},
   "outputs": [],
   "source": [
    "optimize = tf.train.AdamOptimizer(learning_rate=learning_rate).minimize(loss)"
   ]
  },
  {
   "cell_type": "markdown",
   "metadata": {},
   "source": [
    "TensorFlow Session:"
   ]
  },
  {
   "cell_type": "code",
   "execution_count": 23,
   "metadata": {
    "scrolled": true
   },
   "outputs": [
    {
     "name": "stdout",
     "output_type": "stream",
     "text": [
      "epoch: 0\n",
      "loss: 0.00028540040437568143\n",
      "epoch: 25\n",
      "loss: 0.00023659184597097223\n",
      "epoch: 50\n",
      "loss: 0.00022789004549579242\n",
      "epoch: 75\n",
      "loss: 0.0002229961982767804\n",
      "epoch: 100\n",
      "loss: 0.00021977302216577593\n",
      "epoch: 125\n",
      "loss: 0.00021795340517184294\n",
      "epoch: 150\n",
      "loss: 0.00021586489225463977\n",
      "epoch: 175\n",
      "loss: 0.0002150291388256096\n",
      "epoch: 200\n",
      "loss: 0.00021467718986157517\n",
      "epoch: 225\n",
      "loss: 0.0002144374478864326\n",
      "epoch: 250\n",
      "loss: 0.00021380266005582537\n",
      "epoch: 275\n",
      "loss: 0.00021323697382586758\n",
      "epoch: 300\n",
      "loss: 0.00021303688808631293\n",
      "epoch: 325\n",
      "loss: 0.00021301076846073926\n",
      "epoch: 350\n",
      "loss: 0.0002130443071575258\n",
      "epoch: 375\n",
      "loss: 0.00021310850421535102\n",
      "epoch: 400\n",
      "loss: 0.0002131424241764091\n",
      "epoch: 425\n",
      "loss: 0.00021316339778320407\n",
      "epoch: 450\n",
      "loss: 0.00021315631373657187\n",
      "epoch: 475\n",
      "loss: 0.00021315763201864088\n",
      "epoch: 500\n",
      "loss: 0.00021316598526812812\n",
      "epoch: 525\n",
      "loss: 0.00021316475830749122\n",
      "epoch: 550\n",
      "loss: 0.00021314342675248196\n",
      "epoch: 575\n",
      "loss: 0.00021313302356539308\n",
      "epoch: 600\n",
      "loss: 0.00021311639361434558\n",
      "epoch: 625\n",
      "loss: 0.0002130905674352475\n",
      "epoch: 650\n",
      "loss: 0.00021306695830103446\n",
      "epoch: 675\n",
      "loss: 0.00021305587008786287\n",
      "epoch: 700\n",
      "loss: 0.00021303810981629376\n",
      "epoch: 725\n",
      "loss: 0.00021301087624754454\n",
      "epoch: 750\n",
      "loss: 0.00021299257254162523\n",
      "epoch: 775\n",
      "loss: 0.0002129712624700028\n",
      "epoch: 800\n",
      "loss: 0.00021293687799014773\n",
      "epoch: 825\n",
      "loss: 0.0002129165039890036\n",
      "epoch: 850\n",
      "loss: 0.00020751271373614164\n",
      "epoch: 875\n",
      "loss: 0.00020695064562082895\n",
      "epoch: 900\n",
      "loss: 0.0002067879143672314\n",
      "epoch: 925\n",
      "loss: 0.00020669064110097904\n",
      "epoch: 950\n",
      "loss: 0.00020666409044912205\n",
      "epoch: 975\n",
      "loss: 0.00020659780797366558\n",
      "epoch: 1000\n",
      "loss: 0.00020657024326789058\n",
      "epoch: 1025\n",
      "loss: 0.00020651132209060653\n",
      "epoch: 1050\n",
      "loss: 0.00020643979007919352\n",
      "epoch: 1075\n",
      "loss: 0.0002064252573288752\n",
      "epoch: 1100\n",
      "loss: 0.00020641974176710033\n",
      "epoch: 1125\n",
      "loss: 0.0002064066477595632\n",
      "epoch: 1150\n",
      "loss: 0.00020639546075854992\n",
      "epoch: 1175\n",
      "loss: 0.00020638244653566412\n",
      "epoch: 1200\n",
      "loss: 0.00020637527500924025\n",
      "epoch: 1225\n",
      "loss: 0.0002063712940046085\n",
      "epoch: 1250\n",
      "loss: 0.00020635953371217873\n",
      "epoch: 1275\n",
      "loss: 0.00020635478546690908\n",
      "epoch: 1300\n",
      "loss: 0.00020635836809080953\n",
      "epoch: 1325\n",
      "loss: 0.00020635851819755867\n",
      "epoch: 1350\n",
      "loss: 0.00020636863480132675\n",
      "epoch: 1375\n",
      "loss: 0.00020638663784112884\n",
      "epoch: 1400\n",
      "loss: 0.00020640443558576053\n",
      "epoch: 1425\n",
      "loss: 0.00020643761957427946\n",
      "epoch: 1450\n",
      "loss: 0.00020646230363991467\n",
      "epoch: 1475\n",
      "loss: 0.0002064894265343785\n",
      "epoch: 1500\n",
      "loss: 0.00020652993299262446\n",
      "epoch: 1525\n",
      "loss: 0.00020653497561462438\n",
      "epoch: 1550\n",
      "loss: 0.00020656425896260202\n",
      "epoch: 1575\n",
      "loss: 0.00020655803305939905\n",
      "epoch: 1600\n",
      "loss: 0.00020657015173193281\n",
      "epoch: 1625\n",
      "loss: 0.00020657413864471082\n",
      "epoch: 1650\n",
      "loss: 0.00020659531689832687\n",
      "epoch: 1675\n",
      "loss: 0.00020658991582860143\n",
      "epoch: 1700\n",
      "loss: 0.00020661102709475108\n",
      "epoch: 1725\n",
      "loss: 0.0002066194871719756\n",
      "epoch: 1750\n",
      "loss: 0.00020663263514450106\n",
      "epoch: 1775\n",
      "loss: 0.00020664386428392975\n",
      "epoch: 1800\n",
      "loss: 0.00020664518522904265\n",
      "epoch: 1825\n",
      "loss: 0.00020665111682690397\n",
      "epoch: 1850\n",
      "loss: 0.00020664700522147098\n",
      "epoch: 1875\n",
      "loss: 0.00020664782977508663\n",
      "epoch: 1900\n",
      "loss: 0.00020663499815105213\n",
      "epoch: 1925\n",
      "loss: 0.00020661753257963353\n",
      "epoch: 1950\n",
      "loss: 0.00020659823758829152\n",
      "epoch: 1975\n",
      "loss: 0.0002065741667558623\n"
     ]
    }
   ],
   "source": [
    "start_time = time.time()\n",
    "init = tf.global_variables_initializer()\n",
    "losses = []\n",
    "\n",
    "with tf.Session() as session:\n",
    "    \n",
    "    session.run(init)\n",
    "    \n",
    "    for epoch in range(epochs):\n",
    "        avg_cost = 0\n",
    "    \n",
    "        for x_batch in X_split:\n",
    "        \n",
    "            _, eval_loss = session.run([optimize, loss],\n",
    "                                       feed_dict={x: x_batch})\n",
    "            \n",
    "        avg_cost += eval_loss\n",
    "    \n",
    "        avg_cost /= num_batches\n",
    "            \n",
    "        losses.append(avg_cost)\n",
    "        \n",
    "        if epoch % 25 == 0: \n",
    "            print(\"epoch: {}\".format(epoch))\n",
    "            print(\"loss: {}\".format(avg_cost))\n",
    "    \n",
    "    # Encoded Input\n",
    "    X_encoded = session.run([hidden_2], feed_dict = {x: X})\n",
    "\n",
    "final_time = time.time()"
   ]
  },
  {
   "cell_type": "code",
   "execution_count": 24,
   "metadata": {},
   "outputs": [
    {
     "name": "stdout",
     "output_type": "stream",
     "text": [
      "Training Time: 77.7399428288142 minutes\n"
     ]
    }
   ],
   "source": [
    "print(\"Training Time: {} minutes\".format((final_time - start_time)/60))"
   ]
  },
  {
   "cell_type": "code",
   "execution_count": 25,
   "metadata": {},
   "outputs": [
    {
     "data": {
      "image/png": "[encoded data removed]",
      "text/plain": [
       "<matplotlib.figure.Figure at 0x7f1d594bceb8>"
      ]
     },
     "metadata": {},
     "output_type": "display_data"
    }
   ],
   "source": [
    "plt.plot(losses)\n",
    "plt.show()"
   ]
  },
  {
   "cell_type": "markdown",
   "metadata": {},
   "source": [
    "________________________________"
   ]
  },
  {
   "cell_type": "markdown",
   "metadata": {},
   "source": [
    "Logistic Regression:\n",
    "=========\n",
    "__________________"
   ]
  },
  {
   "cell_type": "markdown",
   "metadata": {},
   "source": [
    "Looking at the new data:"
   ]
  },
  {
   "cell_type": "code",
   "execution_count": 26,
   "metadata": {},
   "outputs": [],
   "source": [
    "y = y.reset_index()['loan_status']\n",
    "x_encoded = pd.DataFrame(X_encoded[0])"
   ]
  },
  {
   "cell_type": "code",
   "execution_count": 27,
   "metadata": {},
   "outputs": [],
   "source": [
    "encoded_data = pd.concat([x_encoded, y], axis = 1)"
   ]
  },
  {
   "cell_type": "code",
   "execution_count": 28,
   "metadata": {},
   "outputs": [
    {
     "data": {
      "text/html": [
       "<div>\n",
       "<style scoped>\n",
       "    .dataframe tbody tr th:only-of-type {\n",
       "        vertical-align: middle;\n",
       "    }\n",
       "\n",
       "    .dataframe tbody tr th {\n",
       "        vertical-align: top;\n",
       "    }\n",
       "\n",
       "    .dataframe thead th {\n",
       "        text-align: right;\n",
       "    }\n",
       "</style>\n",
       "<table border=\"1\" class=\"dataframe\">\n",
       "  <thead>\n",
       "    <tr style=\"text-align: right;\">\n",
       "      <th></th>\n",
       "      <th>0</th>\n",
       "      <th>1</th>\n",
       "      <th>2</th>\n",
       "      <th>3</th>\n",
       "      <th>4</th>\n",
       "      <th>5</th>\n",
       "      <th>6</th>\n",
       "      <th>7</th>\n",
       "      <th>8</th>\n",
       "      <th>9</th>\n",
       "      <th>10</th>\n",
       "      <th>11</th>\n",
       "      <th>loan_status</th>\n",
       "    </tr>\n",
       "  </thead>\n",
       "  <tbody>\n",
       "    <tr>\n",
       "      <th>0</th>\n",
       "      <td>0.611901</td>\n",
       "      <td>0.582242</td>\n",
       "      <td>0.621473</td>\n",
       "      <td>0.614137</td>\n",
       "      <td>0.472164</td>\n",
       "      <td>0.545853</td>\n",
       "      <td>0.599605</td>\n",
       "      <td>0.809026</td>\n",
       "      <td>0.615611</td>\n",
       "      <td>0.290739</td>\n",
       "      <td>0.423355</td>\n",
       "      <td>0.654608</td>\n",
       "      <td>1.0</td>\n",
       "    </tr>\n",
       "    <tr>\n",
       "      <th>1</th>\n",
       "      <td>0.557777</td>\n",
       "      <td>0.363330</td>\n",
       "      <td>0.363782</td>\n",
       "      <td>0.523537</td>\n",
       "      <td>0.510751</td>\n",
       "      <td>0.581406</td>\n",
       "      <td>0.416169</td>\n",
       "      <td>0.431738</td>\n",
       "      <td>0.497761</td>\n",
       "      <td>0.191100</td>\n",
       "      <td>0.578677</td>\n",
       "      <td>0.347637</td>\n",
       "      <td>0.0</td>\n",
       "    </tr>\n",
       "    <tr>\n",
       "      <th>2</th>\n",
       "      <td>0.583186</td>\n",
       "      <td>0.626738</td>\n",
       "      <td>0.439008</td>\n",
       "      <td>0.553997</td>\n",
       "      <td>0.580008</td>\n",
       "      <td>0.500157</td>\n",
       "      <td>0.598009</td>\n",
       "      <td>0.468112</td>\n",
       "      <td>0.434333</td>\n",
       "      <td>0.321809</td>\n",
       "      <td>0.573768</td>\n",
       "      <td>0.542138</td>\n",
       "      <td>0.0</td>\n",
       "    </tr>\n",
       "    <tr>\n",
       "      <th>3</th>\n",
       "      <td>0.539869</td>\n",
       "      <td>0.441389</td>\n",
       "      <td>0.452584</td>\n",
       "      <td>0.514628</td>\n",
       "      <td>0.375269</td>\n",
       "      <td>0.385080</td>\n",
       "      <td>0.355902</td>\n",
       "      <td>0.662844</td>\n",
       "      <td>0.638761</td>\n",
       "      <td>0.570143</td>\n",
       "      <td>0.687646</td>\n",
       "      <td>0.556490</td>\n",
       "      <td>0.0</td>\n",
       "    </tr>\n",
       "    <tr>\n",
       "      <th>4</th>\n",
       "      <td>0.482832</td>\n",
       "      <td>0.439521</td>\n",
       "      <td>0.356054</td>\n",
       "      <td>0.575607</td>\n",
       "      <td>0.406367</td>\n",
       "      <td>0.488741</td>\n",
       "      <td>0.384507</td>\n",
       "      <td>0.209237</td>\n",
       "      <td>0.512228</td>\n",
       "      <td>0.187301</td>\n",
       "      <td>0.473476</td>\n",
       "      <td>0.565615</td>\n",
       "      <td>1.0</td>\n",
       "    </tr>\n",
       "  </tbody>\n",
       "</table>\n",
       "</div>"
      ],
      "text/plain": [
       "          0         1         2         3         4         5         6  \\\n",
       "0  0.611901  0.582242  0.621473  0.614137  0.472164  0.545853  0.599605   \n",
       "1  0.557777  0.363330  0.363782  0.523537  0.510751  0.581406  0.416169   \n",
       "2  0.583186  0.626738  0.439008  0.553997  0.580008  0.500157  0.598009   \n",
       "3  0.539869  0.441389  0.452584  0.514628  0.375269  0.385080  0.355902   \n",
       "4  0.482832  0.439521  0.356054  0.575607  0.406367  0.488741  0.384507   \n",
       "\n",
       "          7         8         9        10        11  loan_status  \n",
       "0  0.809026  0.615611  0.290739  0.423355  0.654608          1.0  \n",
       "1  0.431738  0.497761  0.191100  0.578677  0.347637          0.0  \n",
       "2  0.468112  0.434333  0.321809  0.573768  0.542138          0.0  \n",
       "3  0.662844  0.638761  0.570143  0.687646  0.556490          0.0  \n",
       "4  0.209237  0.512228  0.187301  0.473476  0.565615          1.0  "
      ]
     },
     "execution_count": 28,
     "metadata": {},
     "output_type": "execute_result"
    }
   ],
   "source": [
    "encoded_data.head()"
   ]
  },
  {
   "cell_type": "code",
   "execution_count": 29,
   "metadata": {},
   "outputs": [
    {
     "data": {
      "text/plain": [
       "(100000, 13)"
      ]
     },
     "execution_count": 29,
     "metadata": {},
     "output_type": "execute_result"
    }
   ],
   "source": [
    "encoded_data.shape"
   ]
  },
  {
   "cell_type": "code",
   "execution_count": 30,
   "metadata": {},
   "outputs": [
    {
     "data": {
      "text/html": [
       "<div>\n",
       "<style scoped>\n",
       "    .dataframe tbody tr th:only-of-type {\n",
       "        vertical-align: middle;\n",
       "    }\n",
       "\n",
       "    .dataframe tbody tr th {\n",
       "        vertical-align: top;\n",
       "    }\n",
       "\n",
       "    .dataframe thead th {\n",
       "        text-align: right;\n",
       "    }\n",
       "</style>\n",
       "<table border=\"1\" class=\"dataframe\">\n",
       "  <thead>\n",
       "    <tr style=\"text-align: right;\">\n",
       "      <th></th>\n",
       "      <th>0</th>\n",
       "      <th>1</th>\n",
       "      <th>2</th>\n",
       "      <th>3</th>\n",
       "      <th>4</th>\n",
       "      <th>5</th>\n",
       "      <th>6</th>\n",
       "      <th>7</th>\n",
       "      <th>8</th>\n",
       "      <th>9</th>\n",
       "      <th>10</th>\n",
       "      <th>11</th>\n",
       "      <th>loan_status</th>\n",
       "    </tr>\n",
       "  </thead>\n",
       "  <tbody>\n",
       "    <tr>\n",
       "      <th>count</th>\n",
       "      <td>100000.000000</td>\n",
       "      <td>100000.000000</td>\n",
       "      <td>100000.000000</td>\n",
       "      <td>100000.000000</td>\n",
       "      <td>100000.000000</td>\n",
       "      <td>100000.000000</td>\n",
       "      <td>100000.000000</td>\n",
       "      <td>100000.000000</td>\n",
       "      <td>100000.000000</td>\n",
       "      <td>100000.000000</td>\n",
       "      <td>100000.000000</td>\n",
       "      <td>100000.000000</td>\n",
       "      <td>100000.000000</td>\n",
       "    </tr>\n",
       "    <tr>\n",
       "      <th>mean</th>\n",
       "      <td>0.536790</td>\n",
       "      <td>0.543530</td>\n",
       "      <td>0.456661</td>\n",
       "      <td>0.528815</td>\n",
       "      <td>0.522987</td>\n",
       "      <td>0.489380</td>\n",
       "      <td>0.487230</td>\n",
       "      <td>0.497868</td>\n",
       "      <td>0.518176</td>\n",
       "      <td>0.355592</td>\n",
       "      <td>0.520320</td>\n",
       "      <td>0.530457</td>\n",
       "      <td>0.207560</td>\n",
       "    </tr>\n",
       "    <tr>\n",
       "      <th>std</th>\n",
       "      <td>0.131107</td>\n",
       "      <td>0.088838</td>\n",
       "      <td>0.091866</td>\n",
       "      <td>0.097281</td>\n",
       "      <td>0.111469</td>\n",
       "      <td>0.086204</td>\n",
       "      <td>0.102331</td>\n",
       "      <td>0.101938</td>\n",
       "      <td>0.093483</td>\n",
       "      <td>0.130791</td>\n",
       "      <td>0.085984</td>\n",
       "      <td>0.109386</td>\n",
       "      <td>0.405562</td>\n",
       "    </tr>\n",
       "    <tr>\n",
       "      <th>min</th>\n",
       "      <td>0.076106</td>\n",
       "      <td>0.146447</td>\n",
       "      <td>0.125855</td>\n",
       "      <td>0.128365</td>\n",
       "      <td>0.067365</td>\n",
       "      <td>0.145879</td>\n",
       "      <td>0.083514</td>\n",
       "      <td>0.174126</td>\n",
       "      <td>0.186848</td>\n",
       "      <td>0.057056</td>\n",
       "      <td>0.171246</td>\n",
       "      <td>0.066403</td>\n",
       "      <td>0.000000</td>\n",
       "    </tr>\n",
       "    <tr>\n",
       "      <th>25%</th>\n",
       "      <td>0.497621</td>\n",
       "      <td>0.485700</td>\n",
       "      <td>0.396494</td>\n",
       "      <td>0.462240</td>\n",
       "      <td>0.446429</td>\n",
       "      <td>0.431124</td>\n",
       "      <td>0.418705</td>\n",
       "      <td>0.441322</td>\n",
       "      <td>0.453645</td>\n",
       "      <td>0.278872</td>\n",
       "      <td>0.463917</td>\n",
       "      <td>0.475100</td>\n",
       "      <td>0.000000</td>\n",
       "    </tr>\n",
       "    <tr>\n",
       "      <th>50%</th>\n",
       "      <td>0.567466</td>\n",
       "      <td>0.554055</td>\n",
       "      <td>0.456597</td>\n",
       "      <td>0.525303</td>\n",
       "      <td>0.531158</td>\n",
       "      <td>0.488160</td>\n",
       "      <td>0.489741</td>\n",
       "      <td>0.494631</td>\n",
       "      <td>0.514463</td>\n",
       "      <td>0.348617</td>\n",
       "      <td>0.524279</td>\n",
       "      <td>0.539831</td>\n",
       "      <td>0.000000</td>\n",
       "    </tr>\n",
       "    <tr>\n",
       "      <th>75%</th>\n",
       "      <td>0.621682</td>\n",
       "      <td>0.609499</td>\n",
       "      <td>0.514211</td>\n",
       "      <td>0.590968</td>\n",
       "      <td>0.603292</td>\n",
       "      <td>0.545602</td>\n",
       "      <td>0.555778</td>\n",
       "      <td>0.560538</td>\n",
       "      <td>0.580401</td>\n",
       "      <td>0.432148</td>\n",
       "      <td>0.579351</td>\n",
       "      <td>0.602594</td>\n",
       "      <td>0.000000</td>\n",
       "    </tr>\n",
       "    <tr>\n",
       "      <th>max</th>\n",
       "      <td>0.873040</td>\n",
       "      <td>0.771285</td>\n",
       "      <td>0.835782</td>\n",
       "      <td>0.866994</td>\n",
       "      <td>0.855518</td>\n",
       "      <td>0.889210</td>\n",
       "      <td>0.912850</td>\n",
       "      <td>0.885648</td>\n",
       "      <td>0.901537</td>\n",
       "      <td>0.861067</td>\n",
       "      <td>0.842228</td>\n",
       "      <td>0.874528</td>\n",
       "      <td>1.000000</td>\n",
       "    </tr>\n",
       "  </tbody>\n",
       "</table>\n",
       "</div>"
      ],
      "text/plain": [
       "                   0              1              2              3  \\\n",
       "count  100000.000000  100000.000000  100000.000000  100000.000000   \n",
       "mean        0.536790       0.543530       0.456661       0.528815   \n",
       "std         0.131107       0.088838       0.091866       0.097281   \n",
       "min         0.076106       0.146447       0.125855       0.128365   \n",
       "25%         0.497621       0.485700       0.396494       0.462240   \n",
       "50%         0.567466       0.554055       0.456597       0.525303   \n",
       "75%         0.621682       0.609499       0.514211       0.590968   \n",
       "max         0.873040       0.771285       0.835782       0.866994   \n",
       "\n",
       "                   4              5              6              7  \\\n",
       "count  100000.000000  100000.000000  100000.000000  100000.000000   \n",
       "mean        0.522987       0.489380       0.487230       0.497868   \n",
       "std         0.111469       0.086204       0.102331       0.101938   \n",
       "min         0.067365       0.145879       0.083514       0.174126   \n",
       "25%         0.446429       0.431124       0.418705       0.441322   \n",
       "50%         0.531158       0.488160       0.489741       0.494631   \n",
       "75%         0.603292       0.545602       0.555778       0.560538   \n",
       "max         0.855518       0.889210       0.912850       0.885648   \n",
       "\n",
       "                   8              9             10             11  \\\n",
       "count  100000.000000  100000.000000  100000.000000  100000.000000   \n",
       "mean        0.518176       0.355592       0.520320       0.530457   \n",
       "std         0.093483       0.130791       0.085984       0.109386   \n",
       "min         0.186848       0.057056       0.171246       0.066403   \n",
       "25%         0.453645       0.278872       0.463917       0.475100   \n",
       "50%         0.514463       0.348617       0.524279       0.539831   \n",
       "75%         0.580401       0.432148       0.579351       0.602594   \n",
       "max         0.901537       0.861067       0.842228       0.874528   \n",
       "\n",
       "         loan_status  \n",
       "count  100000.000000  \n",
       "mean        0.207560  \n",
       "std         0.405562  \n",
       "min         0.000000  \n",
       "25%         0.000000  \n",
       "50%         0.000000  \n",
       "75%         0.000000  \n",
       "max         1.000000  "
      ]
     },
     "execution_count": 30,
     "metadata": {},
     "output_type": "execute_result"
    }
   ],
   "source": [
    "encoded_data.describe()"
   ]
  },
  {
   "cell_type": "markdown",
   "metadata": {},
   "source": [
    "Save encoded data in output folder:"
   ]
  },
  {
   "cell_type": "code",
   "execution_count": 182,
   "metadata": {},
   "outputs": [],
   "source": [
    "encoded_data.to_csv(\"../output/encoded_data_sample_100000.csv\", sep = \"^\", index = False)"
   ]
  },
  {
   "cell_type": "markdown",
   "metadata": {},
   "source": [
    "Train/Test split:"
   ]
  },
  {
   "cell_type": "code",
   "execution_count": 176,
   "metadata": {},
   "outputs": [],
   "source": [
    "X_train, X_test, y_train, y_test = train_test_split(x_encoded, y, test_size=0.8)"
   ]
  },
  {
   "cell_type": "markdown",
   "metadata": {},
   "source": [
    "Model:"
   ]
  },
  {
   "cell_type": "code",
   "execution_count": 177,
   "metadata": {},
   "outputs": [],
   "source": [
    "logistic_regression = LogisticRegression()"
   ]
  },
  {
   "cell_type": "code",
   "execution_count": 178,
   "metadata": {},
   "outputs": [
    {
     "data": {
      "text/plain": [
       "LogisticRegression(C=1.0, class_weight=None, dual=False, fit_intercept=True,\n",
       "          intercept_scaling=1, max_iter=100, multi_class='ovr', n_jobs=1,\n",
       "          penalty='l2', random_state=None, solver='liblinear', tol=0.0001,\n",
       "          verbose=0, warm_start=False)"
      ]
     },
     "execution_count": 178,
     "metadata": {},
     "output_type": "execute_result"
    }
   ],
   "source": [
    "logistic_regression.fit(X_train, y_train)"
   ]
  },
  {
   "cell_type": "markdown",
   "metadata": {},
   "source": [
    "Evaluation:"
   ]
  },
  {
   "cell_type": "code",
   "execution_count": 179,
   "metadata": {},
   "outputs": [],
   "source": [
    "# scores\n",
    "y_scores_train = pd.DataFrame(logistic_regression.predict_proba(X_train)).loc[:,1]\n",
    "y_scores_test = pd.DataFrame(logistic_regression.predict_proba(X_test)).loc[:,1]"
   ]
  },
  {
   "cell_type": "code",
   "execution_count": 180,
   "metadata": {},
   "outputs": [],
   "source": [
    "# auc\n",
    "auc_train = roc_auc_score(y_train, y_scores_train)\n",
    "auc_test = roc_auc_score(y_test, y_scores_test)"
   ]
  },
  {
   "cell_type": "code",
   "execution_count": 181,
   "metadata": {},
   "outputs": [
    {
     "name": "stdout",
     "output_type": "stream",
     "text": [
      "AUC:\n",
      "AUC in the train set: 0.7096491625262911\n",
      "AUC in the test set: 0.7170508671181766\n",
      "------------------------\n"
     ]
    }
   ],
   "source": [
    "print(\"AUC:\")\n",
    "print(\"AUC in the train set: {}\".format(auc_train))\n",
    "print(\"AUC in the test set: {}\".format(auc_test))\n",
    "print(\"------------------------\")    "
   ]
  },
  {
   "cell_type": "code",
   "execution_count": 110,
   "metadata": {
    "scrolled": true
   },
   "outputs": [
    {
     "name": "stdout",
     "output_type": "stream",
     "text": [
      "Confusion Matrix:\n",
      "[[7709  153]\n",
      " [1954  184]]\n",
      "Accuracy: 0.7893\n",
      "Recall: [0.79778537 0.54599407]\n",
      "Precision: [0.9805393  0.08606174]\n",
      "------------------------\n"
     ]
    }
   ],
   "source": [
    "# confusion matrix and accuracy\n",
    "y_test_pred = logistic_regression.predict(X_test)\n",
    "\n",
    "print(\"Confusion Matrix:\")\n",
    "print(confusion_matrix(y_test, y_test_pred))\n",
    "print(\"Accuracy: {}\".format(accuracy_score(y_test, y_test_pred)))\n",
    "print(\"Recall: {}\".format(precision_recall_fscore_support(y_test, y_test_pred)[0]))\n",
    "print(\"Precision: {}\".format(precision_recall_fscore_support(y_test, y_test_pred)[1]))\n",
    "print(\"------------------------\")"
   ]
  },
  {
   "cell_type": "markdown",
   "metadata": {},
   "source": [
    "_______________"
   ]
  },
  {
   "cell_type": "markdown",
   "metadata": {},
   "source": [
    "XGBoost \n",
    "=======\n",
    "_________________"
   ]
  },
  {
   "cell_type": "code",
   "execution_count": 184,
   "metadata": {},
   "outputs": [],
   "source": [
    "import xgboost as xgb"
   ]
  },
  {
   "cell_type": "markdown",
   "metadata": {},
   "source": [
    "Train/Test split:"
   ]
  },
  {
   "cell_type": "code",
   "execution_count": 334,
   "metadata": {},
   "outputs": [],
   "source": [
    "X_train, X_test, y_train, y_test = train_test_split(x_encoded, y, test_size=0.66)"
   ]
  },
  {
   "cell_type": "code",
   "execution_count": 335,
   "metadata": {},
   "outputs": [],
   "source": [
    "X_train = X_train.as_matrix()\n",
    "X_test = X_test.as_matrix()"
   ]
  },
  {
   "cell_type": "markdown",
   "metadata": {},
   "source": [
    "Model:"
   ]
  },
  {
   "cell_type": "code",
   "execution_count": 352,
   "metadata": {},
   "outputs": [],
   "source": [
    "xg_boost = xgb.XGBClassifier(n_estimators = 900, max_depth = 2, colsample_bytree = 0.4, \n",
    "                             subsample=0.8, learning_rate = 0.1)"
   ]
  },
  {
   "cell_type": "code",
   "execution_count": 353,
   "metadata": {},
   "outputs": [
    {
     "data": {
      "text/plain": [
       "XGBClassifier(base_score=0.5, booster='gbtree', colsample_bylevel=1,\n",
       "       colsample_bytree=0.4, gamma=0, learning_rate=0.1, max_delta_step=0,\n",
       "       max_depth=2, min_child_weight=1, missing=None, n_estimators=900,\n",
       "       n_jobs=1, nthread=None, objective='binary:logistic', random_state=0,\n",
       "       reg_alpha=0, reg_lambda=1, scale_pos_weight=1, seed=None,\n",
       "       silent=True, subsample=0.8)"
      ]
     },
     "execution_count": 353,
     "metadata": {},
     "output_type": "execute_result"
    }
   ],
   "source": [
    "xg_boost.fit(X_train, y_train)"
   ]
  },
  {
   "cell_type": "markdown",
   "metadata": {},
   "source": [
    "Evaluation:"
   ]
  },
  {
   "cell_type": "code",
   "execution_count": 354,
   "metadata": {},
   "outputs": [],
   "source": [
    "# scores\n",
    "y_scores_train = pd.DataFrame(xg_boost.predict_proba(X_train)).loc[:,1]\n",
    "y_scores_test = pd.DataFrame(xg_boost.predict_proba(X_test)).loc[:,1]"
   ]
  },
  {
   "cell_type": "code",
   "execution_count": 355,
   "metadata": {},
   "outputs": [],
   "source": [
    "# auc\n",
    "auc_train = roc_auc_score(y_train, y_scores_train)\n",
    "auc_test = roc_auc_score(y_test, y_scores_test)"
   ]
  },
  {
   "cell_type": "code",
   "execution_count": 356,
   "metadata": {},
   "outputs": [
    {
     "name": "stdout",
     "output_type": "stream",
     "text": [
      "AUC:\n",
      "AUC in the train set: 0.7477937165407706\n",
      "AUC in the test set: 0.7200962034123441\n",
      "------------------------\n"
     ]
    }
   ],
   "source": [
    "print(\"AUC:\")\n",
    "print(\"AUC in the train set: {}\".format(auc_train))\n",
    "print(\"AUC in the test set: {}\".format(auc_test))\n",
    "print(\"------------------------\")    "
   ]
  },
  {
   "cell_type": "code",
   "execution_count": 341,
   "metadata": {
    "scrolled": true
   },
   "outputs": [
    {
     "name": "stdout",
     "output_type": "stream",
     "text": [
      "Confusion Matrix:\n",
      "[[15381   443]\n",
      " [ 3675   501]]\n",
      "Accuracy: 0.7941\n",
      "Recall: [0.80714736 0.53072034]\n",
      "Precision: [0.97200455 0.11997126]\n",
      "------------------------\n"
     ]
    },
    {
     "name": "stderr",
     "output_type": "stream",
     "text": [
      "/home/juanan/anaconda3/lib/python3.6/site-packages/sklearn/preprocessing/label.py:151: DeprecationWarning: The truth value of an empty array is ambiguous. Returning False, but in future this will result in an error. Use `array.size > 0` to check that an array is not empty.\n",
      "  if diff:\n"
     ]
    }
   ],
   "source": [
    "# confusion matrix and accuracy\n",
    "y_test_pred = xg_boost.predict(X_test)\n",
    "\n",
    "print(\"Confusion Matrix:\")\n",
    "print(confusion_matrix(y_test, y_test_pred))\n",
    "print(\"Accuracy: {}\".format(accuracy_score(y_test, y_test_pred)))\n",
    "print(\"Recall: {}\".format(precision_recall_fscore_support(y_test, y_test_pred)[0]))\n",
    "print(\"Precision: {}\".format(precision_recall_fscore_support(y_test, y_test_pred)[1]))\n",
    "print(\"------------------------\")"
   ]
  }
 ],
 "metadata": {
  "kernelspec": {
   "display_name": "Python 3",
   "language": "python",
   "name": "python3"
  },
  "language_info": {
   "codemirror_mode": {
    "name": "ipython",
    "version": 3
   },
   "file_extension": ".py",
   "mimetype": "text/x-python",
   "name": "python",
   "nbconvert_exporter": "python",
   "pygments_lexer": "ipython3",
   "version": "3.6.4"
  }
 },
 "nbformat": 4,
 "nbformat_minor": 2
}
