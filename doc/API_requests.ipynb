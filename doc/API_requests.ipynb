{
 "cells": [
  {
   "cell_type": "markdown",
   "metadata": {},
   "source": [
    "API Requests\n",
    "===="
   ]
  },
  {
   "cell_type": "code",
   "execution_count": 2,
   "metadata": {},
   "outputs": [],
   "source": [
    "import pandas as pd\n",
    "import numpy as np\n",
    "import json\n",
    "import requests\n",
    "import pickle\n",
    "from flask import Flask, jsonify, request\n",
    "\n",
    "from sklearn.preprocessing import scale, MinMaxScaler, StandardScaler, RobustScaler"
   ]
  },
  {
   "cell_type": "code",
   "execution_count": 180,
   "metadata": {},
   "outputs": [],
   "source": [
    "test = pd.read_csv(\"/media/juanan/DATA/loan_data_analysis/data/loans_processed.csv\", sep = \"^\").sample(1)"
   ]
  },
  {
   "cell_type": "code",
   "execution_count": 181,
   "metadata": {},
   "outputs": [],
   "source": [
    "test = test.reset_index().\\\n",
    "       rename(columns = {'index':'id'}).\\\n",
    "       drop(\"loan_status\", axis = 1)"
   ]
  },
  {
   "cell_type": "markdown",
   "metadata": {},
   "source": [
    "This is the way the API is going to receive the data:"
   ]
  },
  {
   "cell_type": "code",
   "execution_count": 182,
   "metadata": {},
   "outputs": [],
   "source": [
    "test = test[sorted(test.columns)]"
   ]
  },
  {
   "cell_type": "code",
   "execution_count": 183,
   "metadata": {},
   "outputs": [
    {
     "data": {
      "text/plain": [
       "'[{\"addr_state\":\"NM\",\"annual_inc\":50000.0,\"application_type\":\"Individual\",\"avg_cur_bal\":27505.0,\"bc_open_to_buy\":1312.0,\"bc_util\":62.5,\"delinq_2yrs\":0.0,\"delinq_amnt\":0.0,\"disbursement_method\":\"Cash\",\"dti\":12.34,\"emp_length\":\"10+ years\",\"emp_title\":\"him specialist ii\",\"fico_range_high\":689.0,\"fico_range_low\":685.0,\"funded_amnt\":15000.0,\"funded_amnt_inv\":15000.0,\"grade\":\"C\",\"home_ownership\":\"MORTGAGE\",\"id\":166105,\"initial_list_status\":\"w\",\"installment\":517.34,\"int_rate\":14.64,\"loan_amnt\":15000.0,\"mort_acc\":3.0,\"num_accts_ever_120_pd\":0.0,\"num_bc_sats\":1.0,\"num_bc_tl\":1.0,\"num_il_tl\":13.0,\"num_op_rev_tl\":4.0,\"num_rev_accts\":4.0,\"num_rev_tl_bal_gt_0\":2.0,\"num_sats\":9.0,\"open_acc\":9.0,\"pct_tl_nvr_dlq\":90.0,\"percent_bc_gt_75\":0.0,\"pub_rec\":0.0,\"pub_rec_bankruptcies\":0.0,\"purpose\":\"debt_consolidation\",\"revol_bal\":2273.0,\"revol_util\":34.4,\"sub_grade\":\"C3\",\"tax_liens\":0.0,\"term\":\" 36 months\",\"tot_coll_amt\":101.0,\"tot_hi_cred_lim\":260757.0,\"total_bal_ex_mort\":35822.0,\"total_bc_limit\":3500.0,\"total_il_high_credit_limit\":32556.0,\"verification_status\":\"Source Verified\",\"zip_code\":\"870xx\"}]'"
      ]
     },
     "execution_count": 183,
     "metadata": {},
     "output_type": "execute_result"
    }
   ],
   "source": [
    "api_data = test.to_json(orient='records')\n",
    "api_data"
   ]
  },
  {
   "cell_type": "markdown",
   "metadata": {},
   "source": [
    "We need to preprocess the data before feeding the models, but for that, we need two things from training phase:\n",
    "* Mean and Standard deviation of the numeric variables in order to normalize new unkown data from API.\n",
    "* Categorical dictionary to transform each category into numeric data."
   ]
  },
  {
   "cell_type": "code",
   "execution_count": 72,
   "metadata": {},
   "outputs": [],
   "source": [
    "data = pd.read_csv(\"/media/juanan/DATA/loan_data_analysis/data/loans_processed.csv\", sep = \"^\")"
   ]
  },
  {
   "cell_type": "code",
   "execution_count": 184,
   "metadata": {},
   "outputs": [
    {
     "data": {
      "text/html": [
       "<div>\n",
       "<style scoped>\n",
       "    .dataframe tbody tr th:only-of-type {\n",
       "        vertical-align: middle;\n",
       "    }\n",
       "\n",
       "    .dataframe tbody tr th {\n",
       "        vertical-align: top;\n",
       "    }\n",
       "\n",
       "    .dataframe thead th {\n",
       "        text-align: right;\n",
       "    }\n",
       "</style>\n",
       "<table border=\"1\" class=\"dataframe\">\n",
       "  <thead>\n",
       "    <tr style=\"text-align: right;\">\n",
       "      <th></th>\n",
       "      <th>addr_state</th>\n",
       "      <th>annual_inc</th>\n",
       "      <th>application_type</th>\n",
       "      <th>avg_cur_bal</th>\n",
       "      <th>bc_open_to_buy</th>\n",
       "      <th>bc_util</th>\n",
       "      <th>delinq_2yrs</th>\n",
       "      <th>delinq_amnt</th>\n",
       "      <th>disbursement_method</th>\n",
       "      <th>dti</th>\n",
       "      <th>...</th>\n",
       "      <th>sub_grade</th>\n",
       "      <th>tax_liens</th>\n",
       "      <th>term</th>\n",
       "      <th>tot_coll_amt</th>\n",
       "      <th>tot_hi_cred_lim</th>\n",
       "      <th>total_bal_ex_mort</th>\n",
       "      <th>total_bc_limit</th>\n",
       "      <th>total_il_high_credit_limit</th>\n",
       "      <th>verification_status</th>\n",
       "      <th>zip_code</th>\n",
       "    </tr>\n",
       "  </thead>\n",
       "  <tbody>\n",
       "    <tr>\n",
       "      <th>0</th>\n",
       "      <td>VA</td>\n",
       "      <td>78000.0</td>\n",
       "      <td>Individual</td>\n",
       "      <td>29828.0</td>\n",
       "      <td>9525.0</td>\n",
       "      <td>4.7</td>\n",
       "      <td>0.0</td>\n",
       "      <td>0.0</td>\n",
       "      <td>Cash</td>\n",
       "      <td>12.03</td>\n",
       "      <td>...</td>\n",
       "      <td>C1</td>\n",
       "      <td>0.0</td>\n",
       "      <td>60 months</td>\n",
       "      <td>0.0</td>\n",
       "      <td>196500.0</td>\n",
       "      <td>149140.0</td>\n",
       "      <td>10000.0</td>\n",
       "      <td>12000.0</td>\n",
       "      <td>Source Verified</td>\n",
       "      <td>235xx</td>\n",
       "    </tr>\n",
       "    <tr>\n",
       "      <th>1</th>\n",
       "      <td>CA</td>\n",
       "      <td>58000.0</td>\n",
       "      <td>Individual</td>\n",
       "      <td>9536.0</td>\n",
       "      <td>7599.0</td>\n",
       "      <td>41.5</td>\n",
       "      <td>0.0</td>\n",
       "      <td>0.0</td>\n",
       "      <td>Cash</td>\n",
       "      <td>14.92</td>\n",
       "      <td>...</td>\n",
       "      <td>A3</td>\n",
       "      <td>0.0</td>\n",
       "      <td>36 months</td>\n",
       "      <td>0.0</td>\n",
       "      <td>179407.0</td>\n",
       "      <td>15030.0</td>\n",
       "      <td>13000.0</td>\n",
       "      <td>11325.0</td>\n",
       "      <td>Not Verified</td>\n",
       "      <td>937xx</td>\n",
       "    </tr>\n",
       "    <tr>\n",
       "      <th>2</th>\n",
       "      <td>MO</td>\n",
       "      <td>63800.0</td>\n",
       "      <td>Individual</td>\n",
       "      <td>4232.0</td>\n",
       "      <td>324.0</td>\n",
       "      <td>97.8</td>\n",
       "      <td>0.0</td>\n",
       "      <td>0.0</td>\n",
       "      <td>Cash</td>\n",
       "      <td>18.49</td>\n",
       "      <td>...</td>\n",
       "      <td>D1</td>\n",
       "      <td>0.0</td>\n",
       "      <td>60 months</td>\n",
       "      <td>0.0</td>\n",
       "      <td>57073.0</td>\n",
       "      <td>42315.0</td>\n",
       "      <td>15000.0</td>\n",
       "      <td>35573.0</td>\n",
       "      <td>Source Verified</td>\n",
       "      <td>658xx</td>\n",
       "    </tr>\n",
       "    <tr>\n",
       "      <th>3</th>\n",
       "      <td>AZ</td>\n",
       "      <td>50000.0</td>\n",
       "      <td>Individual</td>\n",
       "      <td>5857.0</td>\n",
       "      <td>332.0</td>\n",
       "      <td>93.2</td>\n",
       "      <td>0.0</td>\n",
       "      <td>0.0</td>\n",
       "      <td>Cash</td>\n",
       "      <td>34.81</td>\n",
       "      <td>...</td>\n",
       "      <td>C3</td>\n",
       "      <td>0.0</td>\n",
       "      <td>36 months</td>\n",
       "      <td>0.0</td>\n",
       "      <td>82331.0</td>\n",
       "      <td>64426.0</td>\n",
       "      <td>4900.0</td>\n",
       "      <td>64031.0</td>\n",
       "      <td>Source Verified</td>\n",
       "      <td>850xx</td>\n",
       "    </tr>\n",
       "    <tr>\n",
       "      <th>4</th>\n",
       "      <td>NJ</td>\n",
       "      <td>69000.0</td>\n",
       "      <td>Individual</td>\n",
       "      <td>3214.0</td>\n",
       "      <td>6494.0</td>\n",
       "      <td>69.2</td>\n",
       "      <td>0.0</td>\n",
       "      <td>0.0</td>\n",
       "      <td>Cash</td>\n",
       "      <td>25.81</td>\n",
       "      <td>...</td>\n",
       "      <td>C3</td>\n",
       "      <td>0.0</td>\n",
       "      <td>36 months</td>\n",
       "      <td>0.0</td>\n",
       "      <td>52490.0</td>\n",
       "      <td>38566.0</td>\n",
       "      <td>21100.0</td>\n",
       "      <td>24890.0</td>\n",
       "      <td>Source Verified</td>\n",
       "      <td>077xx</td>\n",
       "    </tr>\n",
       "  </tbody>\n",
       "</table>\n",
       "<p>5 rows × 50 columns</p>\n",
       "</div>"
      ],
      "text/plain": [
       "  addr_state  annual_inc application_type  avg_cur_bal  bc_open_to_buy  \\\n",
       "0         VA     78000.0       Individual      29828.0          9525.0   \n",
       "1         CA     58000.0       Individual       9536.0          7599.0   \n",
       "2         MO     63800.0       Individual       4232.0           324.0   \n",
       "3         AZ     50000.0       Individual       5857.0           332.0   \n",
       "4         NJ     69000.0       Individual       3214.0          6494.0   \n",
       "\n",
       "   bc_util  delinq_2yrs  delinq_amnt disbursement_method    dti    ...     \\\n",
       "0      4.7          0.0          0.0                Cash  12.03    ...      \n",
       "1     41.5          0.0          0.0                Cash  14.92    ...      \n",
       "2     97.8          0.0          0.0                Cash  18.49    ...      \n",
       "3     93.2          0.0          0.0                Cash  34.81    ...      \n",
       "4     69.2          0.0          0.0                Cash  25.81    ...      \n",
       "\n",
       "  sub_grade tax_liens        term  tot_coll_amt  tot_hi_cred_lim  \\\n",
       "0        C1       0.0   60 months           0.0         196500.0   \n",
       "1        A3       0.0   36 months           0.0         179407.0   \n",
       "2        D1       0.0   60 months           0.0          57073.0   \n",
       "3        C3       0.0   36 months           0.0          82331.0   \n",
       "4        C3       0.0   36 months           0.0          52490.0   \n",
       "\n",
       "   total_bal_ex_mort total_bc_limit total_il_high_credit_limit  \\\n",
       "0           149140.0        10000.0                    12000.0   \n",
       "1            15030.0        13000.0                    11325.0   \n",
       "2            42315.0        15000.0                    35573.0   \n",
       "3            64426.0         4900.0                    64031.0   \n",
       "4            38566.0        21100.0                    24890.0   \n",
       "\n",
       "  verification_status  zip_code  \n",
       "0     Source Verified     235xx  \n",
       "1        Not Verified     937xx  \n",
       "2     Source Verified     658xx  \n",
       "3     Source Verified     850xx  \n",
       "4     Source Verified     077xx  \n",
       "\n",
       "[5 rows x 50 columns]"
      ]
     },
     "execution_count": 184,
     "metadata": {},
     "output_type": "execute_result"
    }
   ],
   "source": [
    "data = data[sorted(data.columns)]\n",
    "data.head()"
   ]
  },
  {
   "cell_type": "code",
   "execution_count": 185,
   "metadata": {},
   "outputs": [
    {
     "data": {
      "text/plain": [
       "addr_state                     object\n",
       "annual_inc                    float64\n",
       "application_type               object\n",
       "avg_cur_bal                   float64\n",
       "bc_open_to_buy                float64\n",
       "bc_util                       float64\n",
       "delinq_2yrs                   float64\n",
       "delinq_amnt                   float64\n",
       "disbursement_method            object\n",
       "dti                           float64\n",
       "emp_length                     object\n",
       "emp_title                      object\n",
       "fico_range_high               float64\n",
       "fico_range_low                float64\n",
       "funded_amnt                   float64\n",
       "funded_amnt_inv               float64\n",
       "grade                          object\n",
       "home_ownership                 object\n",
       "initial_list_status            object\n",
       "installment                   float64\n",
       "int_rate                      float64\n",
       "loan_amnt                     float64\n",
       "loan_status                   float64\n",
       "mort_acc                      float64\n",
       "num_accts_ever_120_pd         float64\n",
       "num_bc_sats                   float64\n",
       "num_bc_tl                     float64\n",
       "num_il_tl                     float64\n",
       "num_op_rev_tl                 float64\n",
       "num_rev_accts                 float64\n",
       "num_rev_tl_bal_gt_0           float64\n",
       "num_sats                      float64\n",
       "open_acc                      float64\n",
       "pct_tl_nvr_dlq                float64\n",
       "percent_bc_gt_75              float64\n",
       "pub_rec                       float64\n",
       "pub_rec_bankruptcies          float64\n",
       "purpose                        object\n",
       "revol_bal                     float64\n",
       "revol_util                    float64\n",
       "sub_grade                      object\n",
       "tax_liens                     float64\n",
       "term                           object\n",
       "tot_coll_amt                  float64\n",
       "tot_hi_cred_lim               float64\n",
       "total_bal_ex_mort             float64\n",
       "total_bc_limit                float64\n",
       "total_il_high_credit_limit    float64\n",
       "verification_status            object\n",
       "zip_code                       object\n",
       "dtype: object"
      ]
     },
     "execution_count": 185,
     "metadata": {},
     "output_type": "execute_result"
    }
   ],
   "source": [
    "data.dtypes"
   ]
  },
  {
   "cell_type": "code",
   "execution_count": 186,
   "metadata": {},
   "outputs": [],
   "source": [
    "numeric_variables = data._get_numeric_data().columns\n",
    "categorical_variables = data.select_dtypes(include=\"object\").columns"
   ]
  },
  {
   "cell_type": "markdown",
   "metadata": {},
   "source": [
    "Let's get numeric stats first:"
   ]
  },
  {
   "cell_type": "code",
   "execution_count": 187,
   "metadata": {},
   "outputs": [
    {
     "data": {
      "text/plain": [
       "StandardScaler(copy=True, with_mean=True, with_std=True)"
      ]
     },
     "execution_count": 187,
     "metadata": {},
     "output_type": "execute_result"
    }
   ],
   "source": [
    "from sklearn.preprocessing import StandardScaler\n",
    "scaler = StandardScaler()\n",
    "scaler.fit(data[numeric_variables])"
   ]
  },
  {
   "cell_type": "code",
   "execution_count": 188,
   "metadata": {},
   "outputs": [
    {
     "data": {
      "text/html": [
       "<div>\n",
       "<style scoped>\n",
       "    .dataframe tbody tr th:only-of-type {\n",
       "        vertical-align: middle;\n",
       "    }\n",
       "\n",
       "    .dataframe tbody tr th {\n",
       "        vertical-align: top;\n",
       "    }\n",
       "\n",
       "    .dataframe thead th {\n",
       "        text-align: right;\n",
       "    }\n",
       "</style>\n",
       "<table border=\"1\" class=\"dataframe\">\n",
       "  <thead>\n",
       "    <tr style=\"text-align: right;\">\n",
       "      <th></th>\n",
       "      <th>numeric_variable</th>\n",
       "      <th>mean</th>\n",
       "      <th>std</th>\n",
       "    </tr>\n",
       "  </thead>\n",
       "  <tbody>\n",
       "    <tr>\n",
       "      <th>0</th>\n",
       "      <td>annual_inc</td>\n",
       "      <td>75230.389095</td>\n",
       "      <td>65243.689416</td>\n",
       "    </tr>\n",
       "    <tr>\n",
       "      <th>1</th>\n",
       "      <td>avg_cur_bal</td>\n",
       "      <td>12402.720344</td>\n",
       "      <td>15973.456502</td>\n",
       "    </tr>\n",
       "    <tr>\n",
       "      <th>2</th>\n",
       "      <td>bc_open_to_buy</td>\n",
       "      <td>8826.174978</td>\n",
       "      <td>14272.032276</td>\n",
       "    </tr>\n",
       "    <tr>\n",
       "      <th>3</th>\n",
       "      <td>bc_util</td>\n",
       "      <td>59.402908</td>\n",
       "      <td>28.395020</td>\n",
       "    </tr>\n",
       "    <tr>\n",
       "      <th>4</th>\n",
       "      <td>delinq_2yrs</td>\n",
       "      <td>0.306673</td>\n",
       "      <td>0.856058</td>\n",
       "    </tr>\n",
       "  </tbody>\n",
       "</table>\n",
       "</div>"
      ],
      "text/plain": [
       "  numeric_variable          mean           std\n",
       "0       annual_inc  75230.389095  65243.689416\n",
       "1      avg_cur_bal  12402.720344  15973.456502\n",
       "2   bc_open_to_buy   8826.174978  14272.032276\n",
       "3          bc_util     59.402908     28.395020\n",
       "4      delinq_2yrs      0.306673      0.856058"
      ]
     },
     "execution_count": 188,
     "metadata": {},
     "output_type": "execute_result"
    }
   ],
   "source": [
    "numeric_stats = pd.DataFrame({\"numeric_variable\": numeric_variables,\n",
    "                              \"mean\": scaler.mean_,\n",
    "                              \"std\": np.sqrt(scaler.var_)})\n",
    "\n",
    "numeric_stats.head()"
   ]
  },
  {
   "cell_type": "markdown",
   "metadata": {},
   "source": [
    "Let's check this with `num_bc_sats`:"
   ]
  },
  {
   "cell_type": "code",
   "execution_count": 189,
   "metadata": {},
   "outputs": [
    {
     "data": {
      "text/plain": [
       "6.970189265655382"
      ]
     },
     "execution_count": 189,
     "metadata": {},
     "output_type": "execute_result"
    }
   ],
   "source": [
    "np.mean(data[\"num_bc_sats\"])"
   ]
  },
  {
   "cell_type": "code",
   "execution_count": 190,
   "metadata": {},
   "outputs": [
    {
     "data": {
      "text/plain": [
       "10.265984443730279"
      ]
     },
     "execution_count": 190,
     "metadata": {},
     "output_type": "execute_result"
    }
   ],
   "source": [
    "np.std(data[\"num_bc_sats\"])"
   ]
  },
  {
   "cell_type": "markdown",
   "metadata": {},
   "source": [
    "That's it!!! Let's save this data set:"
   ]
  },
  {
   "cell_type": "code",
   "execution_count": 191,
   "metadata": {},
   "outputs": [],
   "source": [
    "numeric_stats.to_csv(\"../output/numeric_stats_in_training_for_new_data.csv\", sep = \"^\", index = False)"
   ]
  },
  {
   "cell_type": "markdown",
   "metadata": {},
   "source": [
    "Let's go now with categorical dictionaries:"
   ]
  },
  {
   "cell_type": "code",
   "execution_count": 192,
   "metadata": {},
   "outputs": [],
   "source": [
    "categorical_dict = {}\n",
    "for variable in categorical_variables:\n",
    "    categorical_dict[variable] = data.groupby(variable)[\"loan_status\"].mean()"
   ]
  },
  {
   "cell_type": "code",
   "execution_count": 193,
   "metadata": {},
   "outputs": [
    {
     "data": {
      "text/plain": [
       "{'addr_state': addr_state\n",
       " AK    0.204141\n",
       " AL    0.247650\n",
       " AR    0.243154\n",
       " AZ    0.199321\n",
       " CA    0.198303\n",
       " CO    0.158083\n",
       " CT    0.183810\n",
       " DC    0.130378\n",
       " DE    0.206575\n",
       " FL    0.222007\n",
       " GA    0.191224\n",
       " HI    0.204535\n",
       " IA    0.142857\n",
       " ID    0.193487\n",
       " IL    0.193302\n",
       " IN    0.228179\n",
       " KS    0.171004\n",
       " KY    0.216353\n",
       " LA    0.237900\n",
       " MA    0.192974\n",
       " MD    0.214845\n",
       " ME    0.136564\n",
       " MI    0.208880\n",
       " MN    0.210363\n",
       " MO    0.219400\n",
       " MS    0.275619\n",
       " MT    0.177759\n",
       " NC    0.215282\n",
       " ND    0.237232\n",
       " NE    0.267946\n",
       " NH    0.142554\n",
       " NJ    0.216208\n",
       " NM    0.225694\n",
       " NV    0.234202\n",
       " NY    0.227045\n",
       " OH    0.225400\n",
       " OK    0.248252\n",
       " OR    0.152827\n",
       " PA    0.214776\n",
       " RI    0.194009\n",
       " SC    0.172705\n",
       " SD    0.225787\n",
       " TN    0.230479\n",
       " TX    0.202286\n",
       " UT    0.179049\n",
       " VA    0.207942\n",
       " VT    0.149225\n",
       " WA    0.166538\n",
       " WI    0.175315\n",
       " WV    0.182457\n",
       " WY    0.178142\n",
       " Name: loan_status, dtype: float64, 'application_type': application_type\n",
       " Individual    0.206316\n",
       " Joint App     0.190262\n",
       " Name: loan_status, dtype: float64, 'disbursement_method': disbursement_method\n",
       " Cash         0.205857\n",
       " DirectPay    0.488729\n",
       " Name: loan_status, dtype: float64, 'emp_length': emp_length\n",
       " 1 year       0.215101\n",
       " 10+ years    0.199343\n",
       " 2 years      0.206816\n",
       " 3 years      0.210257\n",
       " 4 years      0.207203\n",
       " 5 years      0.203848\n",
       " 6 years      0.203629\n",
       " 7 years      0.205933\n",
       " 8 years      0.214253\n",
       " 9 years      0.214086\n",
       " < 1 year     0.216883\n",
       " Name: loan_status, dtype: float64, 'emp_title': emp_title\n",
       " (federal gov) state department       0.500000\n",
       " 0-3                                  0.500000\n",
       " 0wner                                0.333333\n",
       " 1                                    0.666667\n",
       " 1 on 1 aide                          0.000000\n",
       " 1 source mechanical inc.             0.000000\n",
       " 10                                   0.333333\n",
       " 101 restaurant                       0.500000\n",
       " 1199 national benefit fund           0.000000\n",
       " 11b                                  0.000000\n",
       " 12b                                  0.500000\n",
       " 12y                                  0.000000\n",
       " 13d                                  0.000000\n",
       " 13f                                  1.000000\n",
       " 1c451                                0.000000\n",
       " 1lt                                  0.000000\n",
       " 1sg                                  0.800000\n",
       " 1st assistant camera                 0.500000\n",
       " 1st assistant manager                0.500000\n",
       " 1st class gymnastics                 0.666667\n",
       " 1st class petty officer              0.000000\n",
       " 1st class sleep diagnostics, inc.    0.000000\n",
       " 1st grade teacher                    0.307692\n",
       " 1st line supervisor                  0.000000\n",
       " 1st mariner bank                     0.500000\n",
       " 1st pressman                         0.000000\n",
       " 1st sergeant                         0.500000\n",
       " 1st source bank                      0.000000\n",
       " 2-10 home buyers warranty            0.000000\n",
       " 20th century fox                     0.166667\n",
       "                                        ...   \n",
       " zip local                            0.000000\n",
       " zms                                  0.000000\n",
       " zodiac aerospace                     0.250000\n",
       " zoic studios                         0.000000\n",
       " zoll                                 0.000000\n",
       " zone manager                         0.212121\n",
       " zone merchandise supervisor          0.400000\n",
       " zone router                          0.000000\n",
       " zone sales manager                   0.000000\n",
       " zone supervisor                      0.200000\n",
       " zone vp                              0.000000\n",
       " zoning                               0.000000\n",
       " zoning administrator                 0.000000\n",
       " zoning inspector                     0.000000\n",
       " zoo keeper                           0.000000\n",
       " zookeeper                            0.125000\n",
       " zotac usa                            0.000000\n",
       " zpower, llc                          0.000000\n",
       " zuckerman spaeder llp                0.500000\n",
       " zumba fitness                        0.000000\n",
       " zumbox, inc                          0.000000\n",
       " zurich                               0.000000\n",
       " zurich american insurance company    0.000000\n",
       " zurich insurance                     0.166667\n",
       " zurich insurance company             0.333333\n",
       " zurich na                            0.000000\n",
       " zurich north america                 0.000000\n",
       " zurich services corporation          0.000000\n",
       " zynga                                0.000000\n",
       " zynx health                          0.000000\n",
       " Name: loan_status, Length: 50006, dtype: float64, 'grade': grade\n",
       " A    0.065211\n",
       " B    0.134901\n",
       " C    0.224259\n",
       " D    0.305041\n",
       " E    0.389276\n",
       " F    0.449290\n",
       " G    0.483176\n",
       " Name: loan_status, dtype: float64, 'home_ownership': home_ownership\n",
       " ANY         0.170213\n",
       " MORTGAGE    0.177808\n",
       " NONE        0.152174\n",
       " OTHER       0.187500\n",
       " OWN         0.215804\n",
       " RENT        0.239422\n",
       " Name: loan_status, dtype: float64, 'initial_list_status': initial_list_status\n",
       " f    0.199517\n",
       " w    0.213173\n",
       " Name: loan_status, dtype: float64, 'purpose': purpose\n",
       " car                   0.148053\n",
       " credit_card           0.178412\n",
       " debt_consolidation    0.217398\n",
       " educational           0.171779\n",
       " home_improvement      0.181383\n",
       " house                 0.214652\n",
       " major_purchase        0.183245\n",
       " medical               0.229366\n",
       " moving                0.242969\n",
       " other                 0.216970\n",
       " renewable_energy      0.247078\n",
       " small_business        0.302428\n",
       " vacation              0.198788\n",
       " wedding               0.121919\n",
       " Name: loan_status, dtype: float64, 'sub_grade': sub_grade\n",
       " A1    0.034170\n",
       " A2    0.051107\n",
       " A3    0.058180\n",
       " A4    0.071789\n",
       " A5    0.089326\n",
       " B1    0.104615\n",
       " B2    0.115062\n",
       " B3    0.130484\n",
       " B4    0.148726\n",
       " B5    0.169124\n",
       " C1    0.188314\n",
       " C2    0.209948\n",
       " C3    0.227377\n",
       " C4    0.250972\n",
       " C5    0.254329\n",
       " D1    0.282644\n",
       " D2    0.295227\n",
       " D3    0.299572\n",
       " D4    0.327997\n",
       " D5    0.336819\n",
       " E1    0.363403\n",
       " E2    0.381641\n",
       " E3    0.397265\n",
       " E4    0.407369\n",
       " E5    0.415456\n",
       " F1    0.415432\n",
       " F2    0.451912\n",
       " F3    0.446737\n",
       " F4    0.477531\n",
       " F5    0.499277\n",
       " G1    0.475665\n",
       " G2    0.486037\n",
       " G3    0.499069\n",
       " G4    0.467244\n",
       " G5    0.493109\n",
       " Name: loan_status, dtype: float64, 'term': term\n",
       "  36 months    0.165710\n",
       "  60 months    0.333793\n",
       " Name: loan_status, dtype: float64, 'verification_status': verification_status\n",
       " Not Verified       0.152213\n",
       " Source Verified    0.220237\n",
       " Verified           0.241286\n",
       " Name: loan_status, dtype: float64, 'zip_code': zip_code\n",
       " 007xx    0.200000\n",
       " 008xx    0.000000\n",
       " 010xx    0.222052\n",
       " 011xx    0.266319\n",
       " 012xx    0.246479\n",
       " 013xx    0.221198\n",
       " 014xx    0.208406\n",
       " 015xx    0.194378\n",
       " 016xx    0.220524\n",
       " 017xx    0.178759\n",
       " 018xx    0.202483\n",
       " 019xx    0.184358\n",
       " 020xx    0.186472\n",
       " 021xx    0.167844\n",
       " 022xx    0.098592\n",
       " 023xx    0.204861\n",
       " 024xx    0.140165\n",
       " 025xx    0.227920\n",
       " 026xx    0.176190\n",
       " 027xx    0.214800\n",
       " 028xx    0.185936\n",
       " 029xx    0.209992\n",
       " 030xx    0.133442\n",
       " 031xx    0.160920\n",
       " 032xx    0.155102\n",
       " 033xx    0.179775\n",
       " 034xx    0.156682\n",
       " 035xx    0.168317\n",
       " 036xx    0.160000\n",
       " 037xx    0.174603\n",
       "            ...   \n",
       " 969xx    0.250000\n",
       " 970xx    0.151883\n",
       " 971xx    0.131937\n",
       " 972xx    0.134299\n",
       " 973xx    0.156062\n",
       " 974xx    0.164327\n",
       " 975xx    0.183036\n",
       " 976xx    0.180000\n",
       " 977xx    0.180385\n",
       " 978xx    0.180380\n",
       " 979xx    0.194444\n",
       " 980xx    0.150161\n",
       " 981xx    0.143460\n",
       " 982xx    0.167428\n",
       " 983xx    0.166102\n",
       " 984xx    0.192783\n",
       " 985xx    0.191769\n",
       " 986xx    0.156418\n",
       " 988xx    0.148741\n",
       " 989xx    0.199330\n",
       " 990xx    0.220859\n",
       " 991xx    0.200893\n",
       " 992xx    0.211896\n",
       " 993xx    0.183620\n",
       " 994xx    0.194444\n",
       " 995xx    0.208208\n",
       " 996xx    0.206009\n",
       " 997xx    0.228723\n",
       " 998xx    0.139241\n",
       " 999xx    0.174603\n",
       " Name: loan_status, Length: 925, dtype: float64}"
      ]
     },
     "execution_count": 193,
     "metadata": {},
     "output_type": "execute_result"
    }
   ],
   "source": [
    "categorical_dict"
   ]
  },
  {
   "cell_type": "code",
   "execution_count": 194,
   "metadata": {},
   "outputs": [
    {
     "data": {
      "text/plain": [
       "grade\n",
       "A    0.065211\n",
       "B    0.134901\n",
       "C    0.224259\n",
       "D    0.305041\n",
       "E    0.389276\n",
       "F    0.449290\n",
       "G    0.483176\n",
       "Name: loan_status, dtype: float64"
      ]
     },
     "execution_count": 194,
     "metadata": {},
     "output_type": "execute_result"
    }
   ],
   "source": [
    "categorical_dict[\"grade\"]"
   ]
  },
  {
   "cell_type": "code",
   "execution_count": 195,
   "metadata": {},
   "outputs": [
    {
     "data": {
      "text/plain": [
       "0.06521071361678217"
      ]
     },
     "execution_count": 195,
     "metadata": {},
     "output_type": "execute_result"
    }
   ],
   "source": [
    "categorical_dict[\"grade\"][\"A\"]"
   ]
  },
  {
   "cell_type": "markdown",
   "metadata": {},
   "source": [
    "Done! Let's save the dictionary for preprocessing new data when API is been called:"
   ]
  },
  {
   "cell_type": "code",
   "execution_count": 196,
   "metadata": {},
   "outputs": [],
   "source": [
    "import pickle\n",
    "pickle.dump(categorical_dict, open(\"../output/categorical_dict.pkl\", \"wb\"))"
   ]
  },
  {
   "cell_type": "markdown",
   "metadata": {},
   "source": [
    "Let's remeber how our API data look like:"
   ]
  },
  {
   "cell_type": "code",
   "execution_count": 197,
   "metadata": {},
   "outputs": [
    {
     "data": {
      "text/plain": [
       "'[{\"addr_state\":\"NM\",\"annual_inc\":50000.0,\"application_type\":\"Individual\",\"avg_cur_bal\":27505.0,\"bc_open_to_buy\":1312.0,\"bc_util\":62.5,\"delinq_2yrs\":0.0,\"delinq_amnt\":0.0,\"disbursement_method\":\"Cash\",\"dti\":12.34,\"emp_length\":\"10+ years\",\"emp_title\":\"him specialist ii\",\"fico_range_high\":689.0,\"fico_range_low\":685.0,\"funded_amnt\":15000.0,\"funded_amnt_inv\":15000.0,\"grade\":\"C\",\"home_ownership\":\"MORTGAGE\",\"id\":166105,\"initial_list_status\":\"w\",\"installment\":517.34,\"int_rate\":14.64,\"loan_amnt\":15000.0,\"mort_acc\":3.0,\"num_accts_ever_120_pd\":0.0,\"num_bc_sats\":1.0,\"num_bc_tl\":1.0,\"num_il_tl\":13.0,\"num_op_rev_tl\":4.0,\"num_rev_accts\":4.0,\"num_rev_tl_bal_gt_0\":2.0,\"num_sats\":9.0,\"open_acc\":9.0,\"pct_tl_nvr_dlq\":90.0,\"percent_bc_gt_75\":0.0,\"pub_rec\":0.0,\"pub_rec_bankruptcies\":0.0,\"purpose\":\"debt_consolidation\",\"revol_bal\":2273.0,\"revol_util\":34.4,\"sub_grade\":\"C3\",\"tax_liens\":0.0,\"term\":\" 36 months\",\"tot_coll_amt\":101.0,\"tot_hi_cred_lim\":260757.0,\"total_bal_ex_mort\":35822.0,\"total_bc_limit\":3500.0,\"total_il_high_credit_limit\":32556.0,\"verification_status\":\"Source Verified\",\"zip_code\":\"870xx\"}]'"
      ]
     },
     "execution_count": 197,
     "metadata": {},
     "output_type": "execute_result"
    }
   ],
   "source": [
    "api_data"
   ]
  },
  {
   "cell_type": "markdown",
   "metadata": {},
   "source": [
    "First, we have to transform it to dataframe:"
   ]
  },
  {
   "cell_type": "code",
   "execution_count": 198,
   "metadata": {},
   "outputs": [
    {
     "data": {
      "text/html": [
       "<div>\n",
       "<style scoped>\n",
       "    .dataframe tbody tr th:only-of-type {\n",
       "        vertical-align: middle;\n",
       "    }\n",
       "\n",
       "    .dataframe tbody tr th {\n",
       "        vertical-align: top;\n",
       "    }\n",
       "\n",
       "    .dataframe thead th {\n",
       "        text-align: right;\n",
       "    }\n",
       "</style>\n",
       "<table border=\"1\" class=\"dataframe\">\n",
       "  <thead>\n",
       "    <tr style=\"text-align: right;\">\n",
       "      <th></th>\n",
       "      <th>addr_state</th>\n",
       "      <th>annual_inc</th>\n",
       "      <th>application_type</th>\n",
       "      <th>avg_cur_bal</th>\n",
       "      <th>bc_open_to_buy</th>\n",
       "      <th>bc_util</th>\n",
       "      <th>delinq_2yrs</th>\n",
       "      <th>delinq_amnt</th>\n",
       "      <th>disbursement_method</th>\n",
       "      <th>dti</th>\n",
       "      <th>...</th>\n",
       "      <th>sub_grade</th>\n",
       "      <th>tax_liens</th>\n",
       "      <th>term</th>\n",
       "      <th>tot_coll_amt</th>\n",
       "      <th>tot_hi_cred_lim</th>\n",
       "      <th>total_bal_ex_mort</th>\n",
       "      <th>total_bc_limit</th>\n",
       "      <th>total_il_high_credit_limit</th>\n",
       "      <th>verification_status</th>\n",
       "      <th>zip_code</th>\n",
       "    </tr>\n",
       "  </thead>\n",
       "  <tbody>\n",
       "    <tr>\n",
       "      <th>0</th>\n",
       "      <td>NM</td>\n",
       "      <td>50000</td>\n",
       "      <td>Individual</td>\n",
       "      <td>27505</td>\n",
       "      <td>1312</td>\n",
       "      <td>62.5</td>\n",
       "      <td>0</td>\n",
       "      <td>0</td>\n",
       "      <td>Cash</td>\n",
       "      <td>12.34</td>\n",
       "      <td>...</td>\n",
       "      <td>C3</td>\n",
       "      <td>0</td>\n",
       "      <td>36 months</td>\n",
       "      <td>101</td>\n",
       "      <td>260757</td>\n",
       "      <td>35822</td>\n",
       "      <td>3500</td>\n",
       "      <td>32556</td>\n",
       "      <td>Source Verified</td>\n",
       "      <td>870xx</td>\n",
       "    </tr>\n",
       "  </tbody>\n",
       "</table>\n",
       "<p>1 rows × 50 columns</p>\n",
       "</div>"
      ],
      "text/plain": [
       "  addr_state  annual_inc application_type  avg_cur_bal  bc_open_to_buy  \\\n",
       "0         NM       50000       Individual        27505            1312   \n",
       "\n",
       "   bc_util  delinq_2yrs  delinq_amnt disbursement_method    dti   ...     \\\n",
       "0     62.5            0            0                Cash  12.34   ...      \n",
       "\n",
       "  sub_grade tax_liens        term  tot_coll_amt  tot_hi_cred_lim  \\\n",
       "0        C3         0   36 months           101           260757   \n",
       "\n",
       "   total_bal_ex_mort total_bc_limit total_il_high_credit_limit  \\\n",
       "0              35822           3500                      32556   \n",
       "\n",
       "   verification_status zip_code  \n",
       "0      Source Verified    870xx  \n",
       "\n",
       "[1 rows x 50 columns]"
      ]
     },
     "execution_count": 198,
     "metadata": {},
     "output_type": "execute_result"
    }
   ],
   "source": [
    "api_df = pd.read_json(api_data, orient='records')\n",
    "\n",
    "api_df"
   ]
  },
  {
   "cell_type": "markdown",
   "metadata": {},
   "source": [
    "Get numeric variables (except `id`) and categorical variables from API data"
   ]
  },
  {
   "cell_type": "code",
   "execution_count": 199,
   "metadata": {},
   "outputs": [],
   "source": [
    "numeric_variables = api_df._get_numeric_data().columns\n",
    "numeric_variables = [variable for variable in numeric_variables if variable != \"id\"]\n",
    "categorical_variables = api_df.select_dtypes(include=\"object\").columns"
   ]
  },
  {
   "cell_type": "markdown",
   "metadata": {},
   "source": [
    "### Preprocess numeric variables"
   ]
  },
  {
   "cell_type": "markdown",
   "metadata": {},
   "source": [
    "Let's try on `annual_inc`:"
   ]
  },
  {
   "cell_type": "code",
   "execution_count": 200,
   "metadata": {},
   "outputs": [],
   "source": [
    "mean = float(numeric_stats[numeric_stats[\"numeric_variable\"] == \"annual_inc\"][\"mean\"])\n",
    "std = float(numeric_stats[numeric_stats[\"numeric_variable\"] == \"annual_inc\"][\"std\"])"
   ]
  },
  {
   "cell_type": "code",
   "execution_count": 201,
   "metadata": {},
   "outputs": [
    {
     "data": {
      "text/plain": [
       "75230.38909480652"
      ]
     },
     "execution_count": 201,
     "metadata": {},
     "output_type": "execute_result"
    }
   ],
   "source": [
    "mean"
   ]
  },
  {
   "cell_type": "code",
   "execution_count": 202,
   "metadata": {},
   "outputs": [
    {
     "data": {
      "text/plain": [
       "65243.68941579512"
      ]
     },
     "execution_count": 202,
     "metadata": {},
     "output_type": "execute_result"
    }
   ],
   "source": [
    "std"
   ]
  },
  {
   "cell_type": "code",
   "execution_count": 203,
   "metadata": {},
   "outputs": [
    {
     "data": {
      "text/plain": [
       "0    50000\n",
       "Name: annual_inc, dtype: int64"
      ]
     },
     "execution_count": 203,
     "metadata": {},
     "output_type": "execute_result"
    }
   ],
   "source": [
    "api_df[\"annual_inc\"]"
   ]
  },
  {
   "cell_type": "code",
   "execution_count": 204,
   "metadata": {},
   "outputs": [
    {
     "data": {
      "text/plain": [
       "0   -0.38671\n",
       "Name: annual_inc, dtype: float64"
      ]
     },
     "execution_count": 204,
     "metadata": {},
     "output_type": "execute_result"
    }
   ],
   "source": [
    "api_df[\"annual_inc\"].map(lambda i: (i - mean)/std)"
   ]
  },
  {
   "cell_type": "code",
   "execution_count": 205,
   "metadata": {},
   "outputs": [
    {
     "data": {
      "text/html": [
       "<div>\n",
       "<style scoped>\n",
       "    .dataframe tbody tr th:only-of-type {\n",
       "        vertical-align: middle;\n",
       "    }\n",
       "\n",
       "    .dataframe tbody tr th {\n",
       "        vertical-align: top;\n",
       "    }\n",
       "\n",
       "    .dataframe thead th {\n",
       "        text-align: right;\n",
       "    }\n",
       "</style>\n",
       "<table border=\"1\" class=\"dataframe\">\n",
       "  <thead>\n",
       "    <tr style=\"text-align: right;\">\n",
       "      <th></th>\n",
       "      <th>addr_state</th>\n",
       "      <th>annual_inc</th>\n",
       "      <th>application_type</th>\n",
       "      <th>avg_cur_bal</th>\n",
       "      <th>bc_open_to_buy</th>\n",
       "      <th>bc_util</th>\n",
       "      <th>delinq_2yrs</th>\n",
       "      <th>delinq_amnt</th>\n",
       "      <th>disbursement_method</th>\n",
       "      <th>dti</th>\n",
       "      <th>...</th>\n",
       "      <th>sub_grade</th>\n",
       "      <th>tax_liens</th>\n",
       "      <th>term</th>\n",
       "      <th>tot_coll_amt</th>\n",
       "      <th>tot_hi_cred_lim</th>\n",
       "      <th>total_bal_ex_mort</th>\n",
       "      <th>total_bc_limit</th>\n",
       "      <th>total_il_high_credit_limit</th>\n",
       "      <th>verification_status</th>\n",
       "      <th>zip_code</th>\n",
       "    </tr>\n",
       "  </thead>\n",
       "  <tbody>\n",
       "    <tr>\n",
       "      <th>0</th>\n",
       "      <td>NM</td>\n",
       "      <td>50000</td>\n",
       "      <td>Individual</td>\n",
       "      <td>27505</td>\n",
       "      <td>1312</td>\n",
       "      <td>62.5</td>\n",
       "      <td>0</td>\n",
       "      <td>0</td>\n",
       "      <td>Cash</td>\n",
       "      <td>12.34</td>\n",
       "      <td>...</td>\n",
       "      <td>C3</td>\n",
       "      <td>0</td>\n",
       "      <td>36 months</td>\n",
       "      <td>101</td>\n",
       "      <td>260757</td>\n",
       "      <td>35822</td>\n",
       "      <td>3500</td>\n",
       "      <td>32556</td>\n",
       "      <td>Source Verified</td>\n",
       "      <td>870xx</td>\n",
       "    </tr>\n",
       "  </tbody>\n",
       "</table>\n",
       "<p>1 rows × 50 columns</p>\n",
       "</div>"
      ],
      "text/plain": [
       "  addr_state  annual_inc application_type  avg_cur_bal  bc_open_to_buy  \\\n",
       "0         NM       50000       Individual        27505            1312   \n",
       "\n",
       "   bc_util  delinq_2yrs  delinq_amnt disbursement_method    dti   ...     \\\n",
       "0     62.5            0            0                Cash  12.34   ...      \n",
       "\n",
       "  sub_grade tax_liens        term  tot_coll_amt  tot_hi_cred_lim  \\\n",
       "0        C3         0   36 months           101           260757   \n",
       "\n",
       "   total_bal_ex_mort total_bc_limit total_il_high_credit_limit  \\\n",
       "0              35822           3500                      32556   \n",
       "\n",
       "   verification_status zip_code  \n",
       "0      Source Verified    870xx  \n",
       "\n",
       "[1 rows x 50 columns]"
      ]
     },
     "execution_count": 205,
     "metadata": {},
     "output_type": "execute_result"
    }
   ],
   "source": [
    "api_df"
   ]
  },
  {
   "cell_type": "markdown",
   "metadata": {},
   "source": [
    "Let's do it in every numeric variable:"
   ]
  },
  {
   "cell_type": "code",
   "execution_count": 206,
   "metadata": {},
   "outputs": [],
   "source": [
    "for variable in numeric_variables:\n",
    "    mean = float(numeric_stats[numeric_stats[\"numeric_variable\"] == variable][\"mean\"])\n",
    "    std = float(numeric_stats[numeric_stats[\"numeric_variable\"] == variable][\"std\"])\n",
    "    api_df[variable] = api_df[variable].map(lambda i: (i - mean)/std)"
   ]
  },
  {
   "cell_type": "code",
   "execution_count": 207,
   "metadata": {},
   "outputs": [
    {
     "data": {
      "text/html": [
       "<div>\n",
       "<style scoped>\n",
       "    .dataframe tbody tr th:only-of-type {\n",
       "        vertical-align: middle;\n",
       "    }\n",
       "\n",
       "    .dataframe tbody tr th {\n",
       "        vertical-align: top;\n",
       "    }\n",
       "\n",
       "    .dataframe thead th {\n",
       "        text-align: right;\n",
       "    }\n",
       "</style>\n",
       "<table border=\"1\" class=\"dataframe\">\n",
       "  <thead>\n",
       "    <tr style=\"text-align: right;\">\n",
       "      <th></th>\n",
       "      <th>addr_state</th>\n",
       "      <th>annual_inc</th>\n",
       "      <th>application_type</th>\n",
       "      <th>avg_cur_bal</th>\n",
       "      <th>bc_open_to_buy</th>\n",
       "      <th>bc_util</th>\n",
       "      <th>delinq_2yrs</th>\n",
       "      <th>delinq_amnt</th>\n",
       "      <th>disbursement_method</th>\n",
       "      <th>dti</th>\n",
       "      <th>...</th>\n",
       "      <th>sub_grade</th>\n",
       "      <th>tax_liens</th>\n",
       "      <th>term</th>\n",
       "      <th>tot_coll_amt</th>\n",
       "      <th>tot_hi_cred_lim</th>\n",
       "      <th>total_bal_ex_mort</th>\n",
       "      <th>total_bc_limit</th>\n",
       "      <th>total_il_high_credit_limit</th>\n",
       "      <th>verification_status</th>\n",
       "      <th>zip_code</th>\n",
       "    </tr>\n",
       "  </thead>\n",
       "  <tbody>\n",
       "    <tr>\n",
       "      <th>0</th>\n",
       "      <td>NM</td>\n",
       "      <td>-0.38671</td>\n",
       "      <td>Individual</td>\n",
       "      <td>0.945461</td>\n",
       "      <td>-0.526496</td>\n",
       "      <td>0.109072</td>\n",
       "      <td>-0.358238</td>\n",
       "      <td>-0.018875</td>\n",
       "      <td>Cash</td>\n",
       "      <td>-0.62413</td>\n",
       "      <td>...</td>\n",
       "      <td>C3</td>\n",
       "      <td>-0.052897</td>\n",
       "      <td>36 months</td>\n",
       "      <td>-0.011239</td>\n",
       "      <td>0.590805</td>\n",
       "      <td>-0.216217</td>\n",
       "      <td>-0.77826</td>\n",
       "      <td>-0.118976</td>\n",
       "      <td>Source Verified</td>\n",
       "      <td>870xx</td>\n",
       "    </tr>\n",
       "  </tbody>\n",
       "</table>\n",
       "<p>1 rows × 50 columns</p>\n",
       "</div>"
      ],
      "text/plain": [
       "  addr_state  annual_inc application_type  avg_cur_bal  bc_open_to_buy  \\\n",
       "0         NM    -0.38671       Individual     0.945461       -0.526496   \n",
       "\n",
       "    bc_util  delinq_2yrs  delinq_amnt disbursement_method      dti   ...     \\\n",
       "0  0.109072    -0.358238    -0.018875                Cash -0.62413   ...      \n",
       "\n",
       "  sub_grade tax_liens        term  tot_coll_amt  tot_hi_cred_lim  \\\n",
       "0        C3 -0.052897   36 months     -0.011239         0.590805   \n",
       "\n",
       "   total_bal_ex_mort total_bc_limit total_il_high_credit_limit  \\\n",
       "0          -0.216217       -0.77826                  -0.118976   \n",
       "\n",
       "   verification_status zip_code  \n",
       "0      Source Verified    870xx  \n",
       "\n",
       "[1 rows x 50 columns]"
      ]
     },
     "execution_count": 207,
     "metadata": {},
     "output_type": "execute_result"
    }
   ],
   "source": [
    "api_df"
   ]
  },
  {
   "cell_type": "markdown",
   "metadata": {},
   "source": [
    "__Preprocess categorical data__"
   ]
  },
  {
   "cell_type": "markdown",
   "metadata": {},
   "source": [
    "Let's try first on `grade` variable:"
   ]
  },
  {
   "cell_type": "code",
   "execution_count": 208,
   "metadata": {},
   "outputs": [
    {
     "data": {
      "text/plain": [
       "0    C\n",
       "Name: grade, dtype: object"
      ]
     },
     "execution_count": 208,
     "metadata": {},
     "output_type": "execute_result"
    }
   ],
   "source": [
    "api_df[\"grade\"]"
   ]
  },
  {
   "cell_type": "code",
   "execution_count": 209,
   "metadata": {},
   "outputs": [
    {
     "data": {
      "text/plain": [
       "0    0.224259\n",
       "Name: grade, dtype: float64"
      ]
     },
     "execution_count": 209,
     "metadata": {},
     "output_type": "execute_result"
    }
   ],
   "source": [
    "api_df[\"grade\"].map(lambda i: categorical_dict[\"grade\"][i])"
   ]
  },
  {
   "cell_type": "code",
   "execution_count": 210,
   "metadata": {},
   "outputs": [
    {
     "data": {
      "text/plain": [
       "0.2242593518858696"
      ]
     },
     "execution_count": 210,
     "metadata": {},
     "output_type": "execute_result"
    }
   ],
   "source": [
    "categorical_dict[\"grade\"][\"C\"]"
   ]
  },
  {
   "cell_type": "markdown",
   "metadata": {},
   "source": [
    "Let's do it in every categorical variable:"
   ]
  },
  {
   "cell_type": "code",
   "execution_count": 211,
   "metadata": {},
   "outputs": [
    {
     "data": {
      "text/html": [
       "<div>\n",
       "<style scoped>\n",
       "    .dataframe tbody tr th:only-of-type {\n",
       "        vertical-align: middle;\n",
       "    }\n",
       "\n",
       "    .dataframe tbody tr th {\n",
       "        vertical-align: top;\n",
       "    }\n",
       "\n",
       "    .dataframe thead th {\n",
       "        text-align: right;\n",
       "    }\n",
       "</style>\n",
       "<table border=\"1\" class=\"dataframe\">\n",
       "  <thead>\n",
       "    <tr style=\"text-align: right;\">\n",
       "      <th></th>\n",
       "      <th>addr_state</th>\n",
       "      <th>annual_inc</th>\n",
       "      <th>application_type</th>\n",
       "      <th>avg_cur_bal</th>\n",
       "      <th>bc_open_to_buy</th>\n",
       "      <th>bc_util</th>\n",
       "      <th>delinq_2yrs</th>\n",
       "      <th>delinq_amnt</th>\n",
       "      <th>disbursement_method</th>\n",
       "      <th>dti</th>\n",
       "      <th>...</th>\n",
       "      <th>sub_grade</th>\n",
       "      <th>tax_liens</th>\n",
       "      <th>term</th>\n",
       "      <th>tot_coll_amt</th>\n",
       "      <th>tot_hi_cred_lim</th>\n",
       "      <th>total_bal_ex_mort</th>\n",
       "      <th>total_bc_limit</th>\n",
       "      <th>total_il_high_credit_limit</th>\n",
       "      <th>verification_status</th>\n",
       "      <th>zip_code</th>\n",
       "    </tr>\n",
       "  </thead>\n",
       "  <tbody>\n",
       "    <tr>\n",
       "      <th>0</th>\n",
       "      <td>NM</td>\n",
       "      <td>-0.38671</td>\n",
       "      <td>Individual</td>\n",
       "      <td>0.945461</td>\n",
       "      <td>-0.526496</td>\n",
       "      <td>0.109072</td>\n",
       "      <td>-0.358238</td>\n",
       "      <td>-0.018875</td>\n",
       "      <td>Cash</td>\n",
       "      <td>-0.62413</td>\n",
       "      <td>...</td>\n",
       "      <td>C3</td>\n",
       "      <td>-0.052897</td>\n",
       "      <td>36 months</td>\n",
       "      <td>-0.011239</td>\n",
       "      <td>0.590805</td>\n",
       "      <td>-0.216217</td>\n",
       "      <td>-0.77826</td>\n",
       "      <td>-0.118976</td>\n",
       "      <td>Source Verified</td>\n",
       "      <td>870xx</td>\n",
       "    </tr>\n",
       "  </tbody>\n",
       "</table>\n",
       "<p>1 rows × 50 columns</p>\n",
       "</div>"
      ],
      "text/plain": [
       "  addr_state  annual_inc application_type  avg_cur_bal  bc_open_to_buy  \\\n",
       "0         NM    -0.38671       Individual     0.945461       -0.526496   \n",
       "\n",
       "    bc_util  delinq_2yrs  delinq_amnt disbursement_method      dti   ...     \\\n",
       "0  0.109072    -0.358238    -0.018875                Cash -0.62413   ...      \n",
       "\n",
       "  sub_grade tax_liens        term  tot_coll_amt  tot_hi_cred_lim  \\\n",
       "0        C3 -0.052897   36 months     -0.011239         0.590805   \n",
       "\n",
       "   total_bal_ex_mort total_bc_limit total_il_high_credit_limit  \\\n",
       "0          -0.216217       -0.77826                  -0.118976   \n",
       "\n",
       "   verification_status zip_code  \n",
       "0      Source Verified    870xx  \n",
       "\n",
       "[1 rows x 50 columns]"
      ]
     },
     "execution_count": 211,
     "metadata": {},
     "output_type": "execute_result"
    }
   ],
   "source": [
    "api_df"
   ]
  },
  {
   "cell_type": "code",
   "execution_count": 212,
   "metadata": {},
   "outputs": [],
   "source": [
    "for variable in categorical_variables:\n",
    "    api_df[variable] = api_df[variable].map(lambda i: categorical_dict[variable][i])"
   ]
  },
  {
   "cell_type": "code",
   "execution_count": 213,
   "metadata": {},
   "outputs": [
    {
     "data": {
      "text/html": [
       "<div>\n",
       "<style scoped>\n",
       "    .dataframe tbody tr th:only-of-type {\n",
       "        vertical-align: middle;\n",
       "    }\n",
       "\n",
       "    .dataframe tbody tr th {\n",
       "        vertical-align: top;\n",
       "    }\n",
       "\n",
       "    .dataframe thead th {\n",
       "        text-align: right;\n",
       "    }\n",
       "</style>\n",
       "<table border=\"1\" class=\"dataframe\">\n",
       "  <thead>\n",
       "    <tr style=\"text-align: right;\">\n",
       "      <th></th>\n",
       "      <th>addr_state</th>\n",
       "      <th>annual_inc</th>\n",
       "      <th>application_type</th>\n",
       "      <th>avg_cur_bal</th>\n",
       "      <th>bc_open_to_buy</th>\n",
       "      <th>bc_util</th>\n",
       "      <th>delinq_2yrs</th>\n",
       "      <th>delinq_amnt</th>\n",
       "      <th>disbursement_method</th>\n",
       "      <th>dti</th>\n",
       "      <th>...</th>\n",
       "      <th>sub_grade</th>\n",
       "      <th>tax_liens</th>\n",
       "      <th>term</th>\n",
       "      <th>tot_coll_amt</th>\n",
       "      <th>tot_hi_cred_lim</th>\n",
       "      <th>total_bal_ex_mort</th>\n",
       "      <th>total_bc_limit</th>\n",
       "      <th>total_il_high_credit_limit</th>\n",
       "      <th>verification_status</th>\n",
       "      <th>zip_code</th>\n",
       "    </tr>\n",
       "  </thead>\n",
       "  <tbody>\n",
       "    <tr>\n",
       "      <th>0</th>\n",
       "      <td>0.225694</td>\n",
       "      <td>-0.38671</td>\n",
       "      <td>0.206316</td>\n",
       "      <td>0.945461</td>\n",
       "      <td>-0.526496</td>\n",
       "      <td>0.109072</td>\n",
       "      <td>-0.358238</td>\n",
       "      <td>-0.018875</td>\n",
       "      <td>0.205857</td>\n",
       "      <td>-0.62413</td>\n",
       "      <td>...</td>\n",
       "      <td>0.227377</td>\n",
       "      <td>-0.052897</td>\n",
       "      <td>0.16571</td>\n",
       "      <td>-0.011239</td>\n",
       "      <td>0.590805</td>\n",
       "      <td>-0.216217</td>\n",
       "      <td>-0.77826</td>\n",
       "      <td>-0.118976</td>\n",
       "      <td>0.220237</td>\n",
       "      <td>0.250765</td>\n",
       "    </tr>\n",
       "  </tbody>\n",
       "</table>\n",
       "<p>1 rows × 50 columns</p>\n",
       "</div>"
      ],
      "text/plain": [
       "   addr_state  annual_inc  application_type  avg_cur_bal  bc_open_to_buy  \\\n",
       "0    0.225694    -0.38671          0.206316     0.945461       -0.526496   \n",
       "\n",
       "    bc_util  delinq_2yrs  delinq_amnt  disbursement_method      dti    ...     \\\n",
       "0  0.109072    -0.358238    -0.018875             0.205857 -0.62413    ...      \n",
       "\n",
       "   sub_grade  tax_liens     term  tot_coll_amt  tot_hi_cred_lim  \\\n",
       "0   0.227377  -0.052897  0.16571     -0.011239         0.590805   \n",
       "\n",
       "   total_bal_ex_mort  total_bc_limit  total_il_high_credit_limit  \\\n",
       "0          -0.216217        -0.77826                   -0.118976   \n",
       "\n",
       "   verification_status  zip_code  \n",
       "0             0.220237  0.250765  \n",
       "\n",
       "[1 rows x 50 columns]"
      ]
     },
     "execution_count": 213,
     "metadata": {},
     "output_type": "execute_result"
    }
   ],
   "source": [
    "api_df"
   ]
  },
  {
   "cell_type": "markdown",
   "metadata": {},
   "source": [
    "Last, we will use the model for predicting..."
   ]
  },
  {
   "cell_type": "code",
   "execution_count": 214,
   "metadata": {},
   "outputs": [
    {
     "data": {
      "text/plain": [
       "0    166105\n",
       "Name: id, dtype: int64"
      ]
     },
     "execution_count": 214,
     "metadata": {},
     "output_type": "execute_result"
    }
   ],
   "source": [
    "api_id = api_df[\"id\"]\n",
    "\n",
    "api_id"
   ]
  },
  {
   "cell_type": "code",
   "execution_count": 217,
   "metadata": {},
   "outputs": [
    {
     "data": {
      "text/html": [
       "<div>\n",
       "<style scoped>\n",
       "    .dataframe tbody tr th:only-of-type {\n",
       "        vertical-align: middle;\n",
       "    }\n",
       "\n",
       "    .dataframe tbody tr th {\n",
       "        vertical-align: top;\n",
       "    }\n",
       "\n",
       "    .dataframe thead th {\n",
       "        text-align: right;\n",
       "    }\n",
       "</style>\n",
       "<table border=\"1\" class=\"dataframe\">\n",
       "  <thead>\n",
       "    <tr style=\"text-align: right;\">\n",
       "      <th></th>\n",
       "      <th>addr_state</th>\n",
       "      <th>annual_inc</th>\n",
       "      <th>application_type</th>\n",
       "      <th>avg_cur_bal</th>\n",
       "      <th>bc_open_to_buy</th>\n",
       "      <th>bc_util</th>\n",
       "      <th>delinq_2yrs</th>\n",
       "      <th>delinq_amnt</th>\n",
       "      <th>disbursement_method</th>\n",
       "      <th>dti</th>\n",
       "      <th>...</th>\n",
       "      <th>sub_grade</th>\n",
       "      <th>tax_liens</th>\n",
       "      <th>term</th>\n",
       "      <th>tot_coll_amt</th>\n",
       "      <th>tot_hi_cred_lim</th>\n",
       "      <th>total_bal_ex_mort</th>\n",
       "      <th>total_bc_limit</th>\n",
       "      <th>total_il_high_credit_limit</th>\n",
       "      <th>verification_status</th>\n",
       "      <th>zip_code</th>\n",
       "    </tr>\n",
       "  </thead>\n",
       "  <tbody>\n",
       "    <tr>\n",
       "      <th>0</th>\n",
       "      <td>0.225694</td>\n",
       "      <td>-0.38671</td>\n",
       "      <td>0.206316</td>\n",
       "      <td>0.945461</td>\n",
       "      <td>-0.526496</td>\n",
       "      <td>0.109072</td>\n",
       "      <td>-0.358238</td>\n",
       "      <td>-0.018875</td>\n",
       "      <td>0.205857</td>\n",
       "      <td>-0.62413</td>\n",
       "      <td>...</td>\n",
       "      <td>0.227377</td>\n",
       "      <td>-0.052897</td>\n",
       "      <td>0.16571</td>\n",
       "      <td>-0.011239</td>\n",
       "      <td>0.590805</td>\n",
       "      <td>-0.216217</td>\n",
       "      <td>-0.77826</td>\n",
       "      <td>-0.118976</td>\n",
       "      <td>0.220237</td>\n",
       "      <td>0.250765</td>\n",
       "    </tr>\n",
       "  </tbody>\n",
       "</table>\n",
       "<p>1 rows × 49 columns</p>\n",
       "</div>"
      ],
      "text/plain": [
       "   addr_state  annual_inc  application_type  avg_cur_bal  bc_open_to_buy  \\\n",
       "0    0.225694    -0.38671          0.206316     0.945461       -0.526496   \n",
       "\n",
       "    bc_util  delinq_2yrs  delinq_amnt  disbursement_method      dti    ...     \\\n",
       "0  0.109072    -0.358238    -0.018875             0.205857 -0.62413    ...      \n",
       "\n",
       "   sub_grade  tax_liens     term  tot_coll_amt  tot_hi_cred_lim  \\\n",
       "0   0.227377  -0.052897  0.16571     -0.011239         0.590805   \n",
       "\n",
       "   total_bal_ex_mort  total_bc_limit  total_il_high_credit_limit  \\\n",
       "0          -0.216217        -0.77826                   -0.118976   \n",
       "\n",
       "   verification_status  zip_code  \n",
       "0             0.220237  0.250765  \n",
       "\n",
       "[1 rows x 49 columns]"
      ]
     },
     "execution_count": 217,
     "metadata": {},
     "output_type": "execute_result"
    }
   ],
   "source": [
    "api_data = api_df.drop(\"id\", axis = 1)\n",
    "\n",
    "api_data"
   ]
  },
  {
   "cell_type": "code",
   "execution_count": 218,
   "metadata": {},
   "outputs": [
    {
     "data": {
      "text/plain": [
       "0    0.738918\n",
       "Name: 0, dtype: float64"
      ]
     },
     "execution_count": 218,
     "metadata": {},
     "output_type": "execute_result"
    }
   ],
   "source": [
    "with open(\"../output/models/logistic_regression_model.sav\",\"rb\") as f:\n",
    "    loaded_model = pickle.load(f)\n",
    "\n",
    "pd.DataFrame(loaded_model.predict_proba(api_data)).loc[:,0]"
   ]
  },
  {
   "cell_type": "code",
   "execution_count": 227,
   "metadata": {},
   "outputs": [
    {
     "name": "stdout",
     "output_type": "stream",
     "text": [
      "Loading models...\n",
      "Models have been loaded...doing predictions now...\n",
      "Done!\n"
     ]
    },
    {
     "data": {
      "text/plain": [
       "'[{\"id\":166105,\"logit\":0.2610819251,\"rf\":0.1888843702,\"xg\":0.3054217696}]'"
      ]
     },
     "execution_count": 227,
     "metadata": {},
     "output_type": "execute_result"
    }
   ],
   "source": [
    "print(\"Loading models...\")\n",
    "logistic_regression = pickle.load(open(\"../output/models/logistic_regression_model.sav\",\"rb\"))\n",
    "random_forest = pickle.load(open(\"../output/models/random_forest_model.sav\",\"rb\"))\n",
    "xg_boost = pickle.load(open(\"../output/models/xg_boost_model.sav\",\"rb\"))\n",
    "\n",
    "print(\"Models have been loaded...doing predictions now...\")\n",
    "logit_predictions = list(pd.DataFrame(logistic_regression.predict_proba(api_data)).loc[:,1])\n",
    "rf_predictions = list(pd.DataFrame(random_forest.predict_proba(api_data)).loc[:,1])\n",
    "xg_predictions = list(pd.DataFrame(xg_boost.predict_proba(np.matrix(api_data))).loc[:,1])\n",
    "\n",
    "final_predictions = pd.DataFrame({\"id\": api_id,\n",
    "                                  \"logit\": logit_predictions,\n",
    "                                  \"rf\": rf_predictions,\n",
    "                                  \"xg\": xg_predictions})\n",
    "print(\"Done!\")\n",
    "final_predictions.to_json(orient = \"records\")"
   ]
  },
  {
   "cell_type": "markdown",
   "metadata": {},
   "source": [
    "Querying the API\n",
    "=====\n",
    "__________"
   ]
  },
  {
   "cell_type": "markdown",
   "metadata": {},
   "source": [
    "Let's try with just one observation:"
   ]
  },
  {
   "cell_type": "code",
   "execution_count": 234,
   "metadata": {},
   "outputs": [],
   "source": [
    "test = pd.read_csv(\"/media/juanan/DATA/loan_data_analysis/data/loans_processed.csv\", sep = \"^\").sample(1)"
   ]
  },
  {
   "cell_type": "code",
   "execution_count": 235,
   "metadata": {},
   "outputs": [],
   "source": [
    "test = test.reset_index().\\\n",
    "       rename(columns = {'index':'id'}).\\\n",
    "       drop(\"loan_status\", axis = 1)"
   ]
  },
  {
   "cell_type": "code",
   "execution_count": 236,
   "metadata": {},
   "outputs": [
    {
     "data": {
      "text/plain": [
       "'{\"id\":{\"0\":196878},\"num_bc_sats\":{\"0\":4.0},\"num_rev_tl_bal_gt_0\":{\"0\":6.0},\"grade\":{\"0\":\"C\"},\"avg_cur_bal\":{\"0\":9981.0},\"pub_rec_bankruptcies\":{\"0\":1.0},\"num_rev_accts\":{\"0\":26.0},\"tax_liens\":{\"0\":0.0},\"funded_amnt_inv\":{\"0\":6000.0},\"delinq_2yrs\":{\"0\":0.0},\"total_bal_ex_mort\":{\"0\":21763.0},\"pct_tl_nvr_dlq\":{\"0\":96.9},\"disbursement_method\":{\"0\":\"Cash\"},\"fico_range_low\":{\"0\":670.0},\"verification_status\":{\"0\":\"Verified\"},\"delinq_amnt\":{\"0\":0.0},\"purpose\":{\"0\":\"debt_consolidation\"},\"emp_title\":{\"0\":\"shipping\\\\/recieving\"},\"zip_code\":{\"0\":\"480xx\"},\"loan_amnt\":{\"0\":6000.0},\"installment\":{\"0\":206.44},\"fico_range_high\":{\"0\":674.0},\"annual_inc\":{\"0\":40748.0},\"term\":{\"0\":\" 36 months\"},\"int_rate\":{\"0\":14.47},\"emp_length\":{\"0\":\"2 years\"},\"revol_bal\":{\"0\":3644.0},\"application_type\":{\"0\":\"Individual\"},\"num_bc_tl\":{\"0\":15.0},\"num_sats\":{\"0\":13.0},\"tot_hi_cred_lim\":{\"0\":101560.0},\"tot_coll_amt\":{\"0\":0.0},\"initial_list_status\":{\"0\":\"w\"},\"bc_open_to_buy\":{\"0\":988.0},\"total_bc_limit\":{\"0\":3100.0},\"open_acc\":{\"0\":13.0},\"revol_util\":{\"0\":52.1},\"pub_rec\":{\"0\":1.0},\"funded_amnt\":{\"0\":6000.0},\"num_il_tl\":{\"0\":9.0},\"addr_state\":{\"0\":\"MI\"},\"num_accts_ever_120_pd\":{\"0\":0.0},\"total_il_high_credit_limit\":{\"0\":24386.0},\"bc_util\":{\"0\":68.1},\"percent_bc_gt_75\":{\"0\":0.0},\"sub_grade\":{\"0\":\"C2\"},\"mort_acc\":{\"0\":4.0},\"num_op_rev_tl\":{\"0\":10.0},\"dti\":{\"0\":18.41},\"home_ownership\":{\"0\":\"MORTGAGE\"}}'"
      ]
     },
     "execution_count": 236,
     "metadata": {},
     "output_type": "execute_result"
    }
   ],
   "source": [
    "test = test.to_json()\n",
    "\n",
    "test"
   ]
  },
  {
   "cell_type": "code",
   "execution_count": 250,
   "metadata": {},
   "outputs": [
    {
     "data": {
      "text/html": [
       "<div>\n",
       "<style scoped>\n",
       "    .dataframe tbody tr th:only-of-type {\n",
       "        vertical-align: middle;\n",
       "    }\n",
       "\n",
       "    .dataframe tbody tr th {\n",
       "        vertical-align: top;\n",
       "    }\n",
       "\n",
       "    .dataframe thead th {\n",
       "        text-align: right;\n",
       "    }\n",
       "</style>\n",
       "<table border=\"1\" class=\"dataframe\">\n",
       "  <thead>\n",
       "    <tr style=\"text-align: right;\">\n",
       "      <th></th>\n",
       "      <th>id</th>\n",
       "      <th>num_bc_sats</th>\n",
       "      <th>num_rev_tl_bal_gt_0</th>\n",
       "      <th>grade</th>\n",
       "      <th>avg_cur_bal</th>\n",
       "      <th>pub_rec_bankruptcies</th>\n",
       "      <th>num_rev_accts</th>\n",
       "      <th>tax_liens</th>\n",
       "      <th>funded_amnt_inv</th>\n",
       "      <th>delinq_2yrs</th>\n",
       "      <th>...</th>\n",
       "      <th>addr_state</th>\n",
       "      <th>num_accts_ever_120_pd</th>\n",
       "      <th>total_il_high_credit_limit</th>\n",
       "      <th>bc_util</th>\n",
       "      <th>percent_bc_gt_75</th>\n",
       "      <th>sub_grade</th>\n",
       "      <th>mort_acc</th>\n",
       "      <th>num_op_rev_tl</th>\n",
       "      <th>dti</th>\n",
       "      <th>home_ownership</th>\n",
       "    </tr>\n",
       "  </thead>\n",
       "  <tbody>\n",
       "    <tr>\n",
       "      <th>0</th>\n",
       "      <td>196878</td>\n",
       "      <td>4</td>\n",
       "      <td>6</td>\n",
       "      <td>C</td>\n",
       "      <td>9981</td>\n",
       "      <td>1</td>\n",
       "      <td>26</td>\n",
       "      <td>0</td>\n",
       "      <td>6000</td>\n",
       "      <td>0</td>\n",
       "      <td>...</td>\n",
       "      <td>MI</td>\n",
       "      <td>0</td>\n",
       "      <td>24386</td>\n",
       "      <td>68.1</td>\n",
       "      <td>0</td>\n",
       "      <td>C2</td>\n",
       "      <td>4</td>\n",
       "      <td>10</td>\n",
       "      <td>18.41</td>\n",
       "      <td>MORTGAGE</td>\n",
       "    </tr>\n",
       "  </tbody>\n",
       "</table>\n",
       "<p>1 rows × 50 columns</p>\n",
       "</div>"
      ],
      "text/plain": [
       "       id  num_bc_sats  num_rev_tl_bal_gt_0 grade  avg_cur_bal  \\\n",
       "0  196878            4                    6     C         9981   \n",
       "\n",
       "   pub_rec_bankruptcies  num_rev_accts  tax_liens  funded_amnt_inv  \\\n",
       "0                     1             26          0             6000   \n",
       "\n",
       "   delinq_2yrs       ...        addr_state  num_accts_ever_120_pd  \\\n",
       "0            0       ...                MI                      0   \n",
       "\n",
       "  total_il_high_credit_limit  bc_util percent_bc_gt_75  sub_grade mort_acc  \\\n",
       "0                      24386     68.1                0         C2        4   \n",
       "\n",
       "  num_op_rev_tl    dti  home_ownership  \n",
       "0            10  18.41        MORTGAGE  \n",
       "\n",
       "[1 rows x 50 columns]"
      ]
     },
     "execution_count": 250,
     "metadata": {},
     "output_type": "execute_result"
    }
   ],
   "source": [
    "pd.read_json(test, orient=\"records\")"
   ]
  },
  {
   "cell_type": "markdown",
   "metadata": {},
   "source": [
    "Let's launch the API in the shell with the following command \n",
    "\n",
    "`gunicorn --bind 0.0.0.0:8000 src.server:app`"
   ]
  },
  {
   "cell_type": "markdown",
   "metadata": {},
   "source": [
    "Let's querying the API:"
   ]
  },
  {
   "cell_type": "code",
   "execution_count": 286,
   "metadata": {},
   "outputs": [],
   "source": [
    "resp = requests.post(\"http://0.0.0.0:8000/predict\",\n",
    "              data = json.dumps(test),\n",
    "              headers = {'Content-Type': 'application/json',\n",
    "                         'Accept': 'application/json'})"
   ]
  },
  {
   "cell_type": "code",
   "execution_count": 287,
   "metadata": {},
   "outputs": [
    {
     "data": {
      "text/plain": [
       "<Response [200]>"
      ]
     },
     "execution_count": 287,
     "metadata": {},
     "output_type": "execute_result"
    }
   ],
   "source": [
    "resp"
   ]
  },
  {
   "cell_type": "code",
   "execution_count": 288,
   "metadata": {},
   "outputs": [
    {
     "data": {
      "text/plain": [
       "{'code': 200,\n",
       " 'response': {'score': '[{\"id\":196878,\"logit\":0.2120499739,\"rf\":0.1915461482,\"xg\":0.3079130054}]'},\n",
       " 'status': 'OK'}"
      ]
     },
     "execution_count": 288,
     "metadata": {},
     "output_type": "execute_result"
    }
   ],
   "source": [
    "resp.json()"
   ]
  },
  {
   "cell_type": "markdown",
   "metadata": {},
   "source": [
    "Let's try with several observations:"
   ]
  },
  {
   "cell_type": "code",
   "execution_count": 289,
   "metadata": {},
   "outputs": [],
   "source": [
    "test = pd.read_csv(\"/media/juanan/DATA/loan_data_analysis/data/loans_processed.csv\", sep = \"^\").sample(10)"
   ]
  },
  {
   "cell_type": "code",
   "execution_count": 290,
   "metadata": {},
   "outputs": [],
   "source": [
    "test = test.reset_index().\\\n",
    "       rename(columns = {'index':'id'}).\\\n",
    "       drop(\"loan_status\", axis = 1)"
   ]
  },
  {
   "cell_type": "code",
   "execution_count": 291,
   "metadata": {},
   "outputs": [
    {
     "data": {
      "text/plain": [
       "'{\"id\":{\"0\":63632,\"1\":457070,\"2\":582064,\"3\":38533,\"4\":752056,\"5\":609883,\"6\":645407,\"7\":50678,\"8\":110994,\"9\":182758},\"num_bc_sats\":{\"0\":11.0,\"1\":1.0,\"2\":7.0,\"3\":5.0,\"4\":1.0,\"5\":6.0,\"6\":91.7,\"7\":6.0,\"8\":7.0,\"9\":7.0},\"num_rev_tl_bal_gt_0\":{\"0\":21.0,\"1\":2.0,\"2\":7.0,\"3\":3.0,\"4\":2.0,\"5\":3.0,\"6\":91.7,\"7\":6.0,\"8\":10.0,\"9\":5.0},\"grade\":{\"0\":\"B\",\"1\":\"D\",\"2\":\"C\",\"3\":\"B\",\"4\":\"C\",\"5\":\"C\",\"6\":\"B\",\"7\":\"D\",\"8\":\"C\",\"9\":\"D\"},\"avg_cur_bal\":{\"0\":5657.0,\"1\":1298.0,\"2\":13690.0,\"3\":41932.0,\"4\":7788.0,\"5\":20197.0,\"6\":91.7,\"7\":31356.0,\"8\":18524.0,\"9\":7567.0},\"pub_rec_bankruptcies\":{\"0\":0.0,\"1\":0.0,\"2\":0.0,\"3\":0.0,\"4\":0.0,\"5\":0.0,\"6\":0.0,\"7\":0.0,\"8\":0.0,\"9\":0.0},\"num_rev_accts\":{\"0\":44.0,\"1\":4.0,\"2\":17.0,\"3\":19.0,\"4\":5.0,\"5\":17.0,\"6\":91.7,\"7\":11.0,\"8\":22.0,\"9\":12.0},\"tax_liens\":{\"0\":0.0,\"1\":0.0,\"2\":0.0,\"3\":0.0,\"4\":0.0,\"5\":0.0,\"6\":0.0,\"7\":0.0,\"8\":0.0,\"9\":0.0},\"funded_amnt_inv\":{\"0\":9600.0,\"1\":6700.0,\"2\":12600.0,\"3\":29975.0,\"4\":20000.0,\"5\":29700.0,\"6\":4000.0,\"7\":35000.0,\"8\":26000.0,\"9\":30000.0},\"delinq_2yrs\":{\"0\":0.0,\"1\":0.0,\"2\":0.0,\"3\":1.0,\"4\":0.0,\"5\":0.0,\"6\":0.0,\"7\":0.0,\"8\":1.0,\"9\":0.0},\"total_bal_ex_mort\":{\"0\":21844.0,\"1\":6488.0,\"2\":14858.0,\"3\":114817.0,\"4\":31150.0,\"5\":31217.0,\"6\":167868.0,\"7\":45259.0,\"8\":59143.0,\"9\":75666.0},\"pct_tl_nvr_dlq\":{\"0\":98.0,\"1\":100.0,\"2\":100.0,\"3\":93.7,\"4\":81.8,\"5\":96.0,\"6\":91.7,\"7\":100.0,\"8\":97.1,\"9\":95.5},\"disbursement_method\":{\"0\":\"Cash\",\"1\":\"Cash\",\"2\":\"Cash\",\"3\":\"Cash\",\"4\":\"Cash\",\"5\":\"Cash\",\"6\":\"Cash\",\"7\":\"Cash\",\"8\":\"Cash\",\"9\":\"Cash\"},\"fico_range_low\":{\"0\":725.0,\"1\":730.0,\"2\":670.0,\"3\":695.0,\"4\":670.0,\"5\":740.0,\"6\":675.0,\"7\":705.0,\"8\":695.0,\"9\":665.0},\"verification_status\":{\"0\":\"Verified\",\"1\":\"Verified\",\"2\":\"Verified\",\"3\":\"Verified\",\"4\":\"Not Verified\",\"5\":\"Verified\",\"6\":\"Not Verified\",\"7\":\"Verified\",\"8\":\"Source Verified\",\"9\":\"Verified\"},\"delinq_amnt\":{\"0\":0.0,\"1\":0.0,\"2\":0.0,\"3\":0.0,\"4\":0.0,\"5\":0.0,\"6\":0.0,\"7\":0.0,\"8\":0.0,\"9\":0.0},\"purpose\":{\"0\":\"credit_card\",\"1\":\"debt_consolidation\",\"2\":\"debt_consolidation\",\"3\":\"credit_card\",\"4\":\"debt_consolidation\",\"5\":\"debt_consolidation\",\"6\":\"home_improvement\",\"7\":\"debt_consolidation\",\"8\":\"debt_consolidation\",\"9\":\"credit_card\"},\"emp_title\":{\"0\":\"owner\",\"1\":\"other\",\"2\":\"safeway\",\"3\":\"other\",\"4\":\"section manager\",\"5\":\"other\",\"6\":\"comfortcare dental\",\"7\":\"other\",\"8\":\"registered nurse\",\"9\":\"senior project engineer\"},\"zip_code\":{\"0\":\"481xx\",\"1\":\"752xx\",\"2\":\"802xx\",\"3\":\"853xx\",\"4\":\"540xx\",\"5\":\"106xx\",\"6\":\"972xx\",\"7\":\"852xx\",\"8\":\"021xx\",\"9\":\"802xx\"},\"loan_amnt\":{\"0\":9600.0,\"1\":6700.0,\"2\":12600.0,\"3\":30000.0,\"4\":20000.0,\"5\":29700.0,\"6\":4000.0,\"7\":35000.0,\"8\":26000.0,\"9\":30000.0},\"installment\":{\"0\":306.04,\"1\":234.2,\"2\":444.79,\"3\":970.13,\"4\":460.1,\"5\":711.41,\"6\":134.99,\"7\":856.54,\"8\":604.71,\"9\":754.81},\"fico_range_high\":{\"0\":729.0,\"1\":734.0,\"2\":674.0,\"3\":699.0,\"4\":674.0,\"5\":744.0,\"6\":679.0,\"7\":709.0,\"8\":699.0,\"9\":669.0},\"annual_inc\":{\"0\":45000.0,\"1\":14832.0,\"2\":36000.0,\"3\":100000.0,\"4\":100000.0,\"5\":67000.0,\"6\":115000.0,\"7\":95000.0,\"8\":75000.0,\"9\":91000.0},\"term\":{\"0\":\" 36 months\",\"1\":\" 36 months\",\"2\":\" 36 months\",\"3\":\" 36 months\",\"4\":\" 60 months\",\"5\":\" 60 months\",\"6\":\" 36 months\",\"7\":\" 60 months\",\"8\":\" 60 months\",\"9\":\" 60 months\"},\"int_rate\":{\"0\":9.17,\"1\":15.59,\"2\":16.29,\"3\":10.15,\"4\":13.49,\"5\":15.31,\"6\":13.11,\"7\":16.29,\"8\":13.98,\"9\":17.57},\"emp_length\":{\"0\":\"10+ years\",\"1\":\"< 1 year\",\"2\":\"9 years\",\"3\":\"< 1 year\",\"4\":\"5 years\",\"5\":\"8 years\",\"6\":\"9 years\",\"7\":\"10+ years\",\"8\":\"9 years\",\"9\":\"7 years\"},\"revol_bal\":{\"0\":21844.0,\"1\":1012.0,\"2\":14858.0,\"3\":21097.0,\"4\":8283.0,\"5\":16195.0,\"6\":29423.0,\"7\":28213.0,\"8\":35294.0,\"9\":40657.0},\"application_type\":{\"0\":\"Individual\",\"1\":\"Individual\",\"2\":\"Individual\",\"3\":\"Individual\",\"4\":\"Joint App\",\"5\":\"Individual\",\"6\":\"Individual\",\"7\":\"Individual\",\"8\":\"Individual\",\"9\":\"Individual\"},\"num_bc_tl\":{\"0\":19.0,\"1\":1.0,\"2\":10.0,\"3\":9.0,\"4\":3.0,\"5\":13.0,\"6\":91.7,\"7\":7.0,\"8\":8.0,\"9\":11.0},\"num_sats\":{\"0\":32.0,\"1\":5.0,\"2\":10.0,\"3\":9.0,\"4\":4.0,\"5\":12.0,\"6\":91.7,\"7\":11.0,\"8\":17.0,\"9\":10.0},\"tot_hi_cred_lim\":{\"0\":265000.0,\"1\":10400.0,\"2\":136442.0,\"3\":437991.0,\"4\":57574.0,\"5\":254582.0,\"6\":91.7,\"7\":379674.0,\"8\":340637.0,\"9\":89964.0},\"tot_coll_amt\":{\"0\":0.0,\"1\":0.0,\"2\":0.0,\"3\":0.0,\"4\":0.0,\"5\":0.0,\"6\":91.7,\"7\":0.0,\"8\":0.0,\"9\":0.0},\"initial_list_status\":{\"0\":\"f\",\"1\":\"f\",\"2\":\"w\",\"3\":\"f\",\"4\":\"w\",\"5\":\"f\",\"6\":\"f\",\"7\":\"w\",\"8\":\"f\",\"9\":\"f\"},\"bc_open_to_buy\":{\"0\":26018.0,\"1\":257.0,\"2\":7245.0,\"3\":17703.0,\"4\":222.0,\"5\":18561.0,\"6\":2677.0,\"7\":26129.0,\"8\":15166.0,\"9\":9343.0},\"total_bc_limit\":{\"0\":42000.0,\"1\":1200.0,\"2\":18600.0,\"3\":38800.0,\"4\":8500.0,\"5\":34756.0,\"6\":32100.0,\"7\":54300.0,\"8\":45800.0,\"9\":50000.0},\"open_acc\":{\"0\":32.0,\"1\":5.0,\"2\":10.0,\"3\":9.0,\"4\":4.0,\"5\":12.0,\"6\":11.0,\"7\":11.0,\"8\":17.0,\"9\":10.0},\"revol_util\":{\"0\":26.2,\"1\":28.1,\"2\":63.0,\"3\":48.1,\"4\":87.2,\"5\":44.3,\"6\":91.7,\"7\":51.0,\"8\":63.8,\"9\":81.3},\"pub_rec\":{\"0\":0.0,\"1\":0.0,\"2\":0.0,\"3\":0.0,\"4\":0.0,\"5\":0.0,\"6\":0.0,\"7\":0.0,\"8\":0.0,\"9\":0.0},\"funded_amnt\":{\"0\":9600.0,\"1\":6700.0,\"2\":12600.0,\"3\":30000.0,\"4\":20000.0,\"5\":29700.0,\"6\":4000.0,\"7\":35000.0,\"8\":26000.0,\"9\":30000.0},\"num_il_tl\":{\"0\":4.0,\"1\":3.0,\"2\":1.0,\"3\":18.0,\"4\":6.0,\"5\":6.0,\"6\":91.7,\"7\":4.0,\"8\":11.0,\"9\":9.0},\"addr_state\":{\"0\":\"MI\",\"1\":\"TX\",\"2\":\"CO\",\"3\":\"AZ\",\"4\":\"WI\",\"5\":\"NY\",\"6\":\"OR\",\"7\":\"AZ\",\"8\":\"MA\",\"9\":\"CO\"},\"num_accts_ever_120_pd\":{\"0\":0.0,\"1\":0.0,\"2\":0.0,\"3\":2.0,\"4\":1.0,\"5\":0.0,\"6\":91.7,\"7\":0.0,\"8\":0.0,\"9\":1.0},\"total_il_high_credit_limit\":{\"0\":0.0,\"1\":6800.0,\"2\":0.0,\"3\":82004.0,\"4\":48074.0,\"5\":25000.0,\"6\":91.7,\"7\":21374.0,\"8\":37591.0,\"9\":35225.0},\"bc_util\":{\"0\":38.1,\"1\":78.6,\"2\":61.0,\"3\":54.4,\"4\":97.4,\"5\":46.6,\"6\":91.7,\"7\":51.9,\"8\":66.9,\"9\":81.3},\"percent_bc_gt_75\":{\"0\":9.1,\"1\":100.0,\"2\":33.3,\"3\":40.0,\"4\":100.0,\"5\":16.7,\"6\":66.7,\"7\":16.7,\"8\":28.6,\"9\":71.4},\"sub_grade\":{\"0\":\"B1\",\"1\":\"D1\",\"2\":\"C4\",\"3\":\"B2\",\"4\":\"C2\",\"5\":\"C2\",\"6\":\"B4\",\"7\":\"D2\",\"8\":\"C3\",\"9\":\"D2\"},\"mort_acc\":{\"0\":2.0,\"1\":0.0,\"2\":2.0,\"3\":11.0,\"4\":0.0,\"5\":4.0,\"6\":4.0,\"7\":2.0,\"8\":2.0,\"9\":1.0},\"num_op_rev_tl\":{\"0\":31.0,\"1\":4.0,\"2\":9.0,\"3\":6.0,\"4\":2.0,\"5\":9.0,\"6\":91.7,\"7\":7.0,\"8\":13.0,\"9\":7.0},\"dti\":{\"0\":20.0,\"1\":19.82,\"2\":10.17,\"3\":14.28,\"4\":8.64,\"5\":17.17,\"6\":24.45,\"7\":13.69,\"8\":24.05,\"9\":25.81},\"home_ownership\":{\"0\":\"MORTGAGE\",\"1\":\"RENT\",\"2\":\"MORTGAGE\",\"3\":\"MORTGAGE\",\"4\":\"MORTGAGE\",\"5\":\"OWN\",\"6\":\"MORTGAGE\",\"7\":\"MORTGAGE\",\"8\":\"MORTGAGE\",\"9\":\"RENT\"}}'"
      ]
     },
     "execution_count": 291,
     "metadata": {},
     "output_type": "execute_result"
    }
   ],
   "source": [
    "test = test.to_json()\n",
    "\n",
    "test"
   ]
  },
  {
   "cell_type": "code",
   "execution_count": 292,
   "metadata": {},
   "outputs": [],
   "source": [
    "resp = requests.post(\"http://0.0.0.0:8000/predict\",\n",
    "              data = json.dumps(test),\n",
    "              headers = {'Content-Type': 'application/json',\n",
    "                         'Accept': 'application/json'})"
   ]
  },
  {
   "cell_type": "code",
   "execution_count": 293,
   "metadata": {},
   "outputs": [
    {
     "data": {
      "text/plain": [
       "<Response [200]>"
      ]
     },
     "execution_count": 293,
     "metadata": {},
     "output_type": "execute_result"
    }
   ],
   "source": [
    "resp"
   ]
  },
  {
   "cell_type": "code",
   "execution_count": 294,
   "metadata": {},
   "outputs": [
    {
     "data": {
      "text/plain": [
       "{'code': 200,\n",
       " 'response': {'score': '[{\"id\":63632,\"logit\":0.1593462283,\"rf\":0.2198941973,\"xg\":0.2086590976},{\"id\":457070,\"logit\":0.1526589482,\"rf\":0.2080917206,\"xg\":0.2551024258},{\"id\":582064,\"logit\":0.0952889671,\"rf\":0.1877994904,\"xg\":0.1068849415},{\"id\":38533,\"logit\":0.4320059544,\"rf\":0.306772172,\"xg\":0.2915415764},{\"id\":752056,\"logit\":0.1345828365,\"rf\":0.2044461973,\"xg\":0.1789424121},{\"id\":609883,\"logit\":0.164548906,\"rf\":0.2003882482,\"xg\":0.2376462966},{\"id\":645407,\"logit\":0.2222423053,\"rf\":0.3587959564,\"xg\":0.2657648623},{\"id\":50678,\"logit\":0.106234942,\"rf\":0.2420237246,\"xg\":0.3909677267},{\"id\":110994,\"logit\":0.1300851536,\"rf\":0.2335529262,\"xg\":0.4421696365},{\"id\":182758,\"logit\":0.1049188741,\"rf\":0.3017494169,\"xg\":0.3189023435}]'},\n",
       " 'status': 'OK'}"
      ]
     },
     "execution_count": 294,
     "metadata": {},
     "output_type": "execute_result"
    }
   ],
   "source": [
    "resp.json()"
   ]
  },
  {
   "cell_type": "markdown",
   "metadata": {},
   "source": [
    "__Great Job!__ :)"
   ]
  }
 ],
 "metadata": {
  "kernelspec": {
   "display_name": "Python 3",
   "language": "python",
   "name": "python3"
  },
  "language_info": {
   "codemirror_mode": {
    "name": "ipython",
    "version": 3
   },
   "file_extension": ".py",
   "mimetype": "text/x-python",
   "name": "python",
   "nbconvert_exporter": "python",
   "pygments_lexer": "ipython3",
   "version": "3.6.5"
  }
 },
 "nbformat": 4,
 "nbformat_minor": 2
}
