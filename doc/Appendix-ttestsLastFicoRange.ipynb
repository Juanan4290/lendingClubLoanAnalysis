{
 "cells": [
  {
   "cell_type": "markdown",
   "metadata": {},
   "source": [
    "T-Test at Last Fico Range\n",
    "=============="
   ]
  },
  {
   "cell_type": "markdown",
   "metadata": {},
   "source": [
    "Among the variables that LendingClub provides on their webpage, there are two of them very correlated to the `loan_status`. They are the `last_fico_range_low` and `last_fico_range_high` which correspond with the lower and upper boundary range the borrower’s last FICO pulled belongs to. Only using these two variables and the target, we achieved almost __100% accuracy__ and __0.99 of area under the curve ROC__, regardless the type of model or the paramaters of the model we trained.\n",
    "\n",
    "Nevertheless, we don't know if we can use these two variables as training features since it is possible that one person FICO range changed once she/he had unpaid the loan (_\"Correlation does not imply causation\"_).\n",
    "\n",
    "So, the question here is: __can we use \"last\" FICO range (low and/or high) for predicting if a person is going to fully paid a loan?__ We are going to do some t-tests in order to try to figure it out. "
   ]
  },
  {
   "cell_type": "markdown",
   "metadata": {},
   "source": [
    "__Libraries__"
   ]
  },
  {
   "cell_type": "code",
   "execution_count": 3,
   "metadata": {},
   "outputs": [
    {
     "name": "stderr",
     "output_type": "stream",
     "text": [
      "\n",
      "Attaching package: ‘dplyr’\n",
      "\n",
      "The following objects are masked from ‘package:stats’:\n",
      "\n",
      "    filter, lag\n",
      "\n",
      "The following objects are masked from ‘package:base’:\n",
      "\n",
      "    intersect, setdiff, setequal, union\n",
      "\n"
     ]
    }
   ],
   "source": [
    "library(dplyr)"
   ]
  },
  {
   "cell_type": "markdown",
   "metadata": {},
   "source": [
    "__Some exploration of the data__:"
   ]
  },
  {
   "cell_type": "code",
   "execution_count": 4,
   "metadata": {},
   "outputs": [],
   "source": [
    "loans = readRDS(\"/media/juanan/DATA/loan_data_analysis/data/clean/loans.rds\")"
   ]
  },
  {
   "cell_type": "code",
   "execution_count": 6,
   "metadata": {},
   "outputs": [
    {
     "data": {
      "text/html": [
       "<table>\n",
       "<thead><tr><th scope=col>id</th><th scope=col>member_id</th><th scope=col>loan_amnt</th><th scope=col>funded_amnt</th><th scope=col>funded_amnt_inv</th><th scope=col>term</th><th scope=col>int_rate</th><th scope=col>installment</th><th scope=col>grade</th><th scope=col>sub_grade</th><th scope=col>⋯</th><th scope=col>hardship_payoff_balance_amount</th><th scope=col>hardship_last_payment_amount</th><th scope=col>disbursement_method</th><th scope=col>debt_settlement_flag</th><th scope=col>debt_settlement_flag_date</th><th scope=col>settlement_status</th><th scope=col>settlement_date</th><th scope=col>settlement_amount</th><th scope=col>settlement_percentage</th><th scope=col>settlement_term</th></tr></thead>\n",
       "<tbody>\n",
       "\t<tr><td>38098114  </td><td>NA        </td><td>15000     </td><td>15000     </td><td>15000     </td><td> 60 months</td><td>12.39     </td><td>336.64    </td><td>C         </td><td>C1        </td><td>⋯         </td><td>NA        </td><td>NA        </td><td>Cash      </td><td>N         </td><td>          </td><td>          </td><td>          </td><td>NA        </td><td>NA        </td><td>NA        </td></tr>\n",
       "\t<tr><td>36805548  </td><td>NA        </td><td>10400     </td><td>10400     </td><td>10400     </td><td> 36 months</td><td> 6.99     </td><td>321.08    </td><td>A         </td><td>A3        </td><td>⋯         </td><td>NA        </td><td>NA        </td><td>Cash      </td><td>N         </td><td>          </td><td>          </td><td>          </td><td>NA        </td><td>NA        </td><td>NA        </td></tr>\n",
       "\t<tr><td>37842129  </td><td>NA        </td><td>21425     </td><td>21425     </td><td>21425     </td><td> 60 months</td><td>15.59     </td><td>516.36    </td><td>D         </td><td>D1        </td><td>⋯         </td><td>NA        </td><td>NA        </td><td>Cash      </td><td>N         </td><td>          </td><td>          </td><td>          </td><td>NA        </td><td>NA        </td><td>NA        </td></tr>\n",
       "\t<tr><td>37612354  </td><td>NA        </td><td>12800     </td><td>12800     </td><td>12800     </td><td> 60 months</td><td>17.14     </td><td>319.08    </td><td>D         </td><td>D4        </td><td>⋯         </td><td>NA        </td><td>NA        </td><td>Cash      </td><td>N         </td><td>          </td><td>          </td><td>          </td><td>NA        </td><td>NA        </td><td>NA        </td></tr>\n",
       "\t<tr><td>37662224  </td><td>NA        </td><td> 7650     </td><td> 7650     </td><td> 7650     </td><td> 36 months</td><td>13.66     </td><td>260.20    </td><td>C         </td><td>C3        </td><td>⋯         </td><td>NA        </td><td>NA        </td><td>Cash      </td><td>N         </td><td>          </td><td>          </td><td>          </td><td>NA        </td><td>NA        </td><td>NA        </td></tr>\n",
       "\t<tr><td>37822187  </td><td>NA        </td><td> 9600     </td><td> 9600     </td><td> 9600     </td><td> 36 months</td><td>13.66     </td><td>326.53    </td><td>C         </td><td>C3        </td><td>⋯         </td><td>NA        </td><td>NA        </td><td>Cash      </td><td>N         </td><td>          </td><td>          </td><td>          </td><td>NA        </td><td>NA        </td><td>NA        </td></tr>\n",
       "</tbody>\n",
       "</table>\n"
      ],
      "text/latex": [
       "\\begin{tabular}{r|llllllllllllllllllllllllllllllllllllllllllllllllllllllllllllllllllllllllllllllllllllllllllllllllllllllllllllllllllllllllllllllllllllllllllllllllllllll}\n",
       " id & member\\_id & loan\\_amnt & funded\\_amnt & funded\\_amnt\\_inv & term & int\\_rate & installment & grade & sub\\_grade & ⋯ & hardship\\_payoff\\_balance\\_amount & hardship\\_last\\_payment\\_amount & disbursement\\_method & debt\\_settlement\\_flag & debt\\_settlement\\_flag\\_date & settlement\\_status & settlement\\_date & settlement\\_amount & settlement\\_percentage & settlement\\_term\\\\\n",
       "\\hline\n",
       "\t 38098114   & NA         & 15000      & 15000      & 15000      &  60 months & 12.39      & 336.64     & C          & C1         & ⋯          & NA         & NA         & Cash       & N          &            &            &            & NA         & NA         & NA        \\\\\n",
       "\t 36805548   & NA         & 10400      & 10400      & 10400      &  36 months &  6.99      & 321.08     & A          & A3         & ⋯          & NA         & NA         & Cash       & N          &            &            &            & NA         & NA         & NA        \\\\\n",
       "\t 37842129   & NA         & 21425      & 21425      & 21425      &  60 months & 15.59      & 516.36     & D          & D1         & ⋯          & NA         & NA         & Cash       & N          &            &            &            & NA         & NA         & NA        \\\\\n",
       "\t 37612354   & NA         & 12800      & 12800      & 12800      &  60 months & 17.14      & 319.08     & D          & D4         & ⋯          & NA         & NA         & Cash       & N          &            &            &            & NA         & NA         & NA        \\\\\n",
       "\t 37662224   & NA         &  7650      &  7650      &  7650      &  36 months & 13.66      & 260.20     & C          & C3         & ⋯          & NA         & NA         & Cash       & N          &            &            &            & NA         & NA         & NA        \\\\\n",
       "\t 37822187   & NA         &  9600      &  9600      &  9600      &  36 months & 13.66      & 326.53     & C          & C3         & ⋯          & NA         & NA         & Cash       & N          &            &            &            & NA         & NA         & NA        \\\\\n",
       "\\end{tabular}\n"
      ],
      "text/markdown": [
       "\n",
       "id | member_id | loan_amnt | funded_amnt | funded_amnt_inv | term | int_rate | installment | grade | sub_grade | ⋯ | hardship_payoff_balance_amount | hardship_last_payment_amount | disbursement_method | debt_settlement_flag | debt_settlement_flag_date | settlement_status | settlement_date | settlement_amount | settlement_percentage | settlement_term | \n",
       "|---|---|---|---|---|---|\n",
       "| 38098114   | NA         | 15000      | 15000      | 15000      |  60 months | 12.39      | 336.64     | C          | C1         | ⋯          | NA         | NA         | Cash       | N          |            |            |            | NA         | NA         | NA         | \n",
       "| 36805548   | NA         | 10400      | 10400      | 10400      |  36 months |  6.99      | 321.08     | A          | A3         | ⋯          | NA         | NA         | Cash       | N          |            |            |            | NA         | NA         | NA         | \n",
       "| 37842129   | NA         | 21425      | 21425      | 21425      |  60 months | 15.59      | 516.36     | D          | D1         | ⋯          | NA         | NA         | Cash       | N          |            |            |            | NA         | NA         | NA         | \n",
       "| 37612354   | NA         | 12800      | 12800      | 12800      |  60 months | 17.14      | 319.08     | D          | D4         | ⋯          | NA         | NA         | Cash       | N          |            |            |            | NA         | NA         | NA         | \n",
       "| 37662224   | NA         |  7650      |  7650      |  7650      |  36 months | 13.66      | 260.20     | C          | C3         | ⋯          | NA         | NA         | Cash       | N          |            |            |            | NA         | NA         | NA         | \n",
       "| 37822187   | NA         |  9600      |  9600      |  9600      |  36 months | 13.66      | 326.53     | C          | C3         | ⋯          | NA         | NA         | Cash       | N          |            |            |            | NA         | NA         | NA         | \n",
       "\n",
       "\n"
      ],
      "text/plain": [
       "  id       member_id loan_amnt funded_amnt funded_amnt_inv term       int_rate\n",
       "1 38098114 NA        15000     15000       15000            60 months 12.39   \n",
       "2 36805548 NA        10400     10400       10400            36 months  6.99   \n",
       "3 37842129 NA        21425     21425       21425            60 months 15.59   \n",
       "4 37612354 NA        12800     12800       12800            60 months 17.14   \n",
       "5 37662224 NA         7650      7650        7650            36 months 13.66   \n",
       "6 37822187 NA         9600      9600        9600            36 months 13.66   \n",
       "  installment grade sub_grade ⋯ hardship_payoff_balance_amount\n",
       "1 336.64      C     C1        ⋯ NA                            \n",
       "2 321.08      A     A3        ⋯ NA                            \n",
       "3 516.36      D     D1        ⋯ NA                            \n",
       "4 319.08      D     D4        ⋯ NA                            \n",
       "5 260.20      C     C3        ⋯ NA                            \n",
       "6 326.53      C     C3        ⋯ NA                            \n",
       "  hardship_last_payment_amount disbursement_method debt_settlement_flag\n",
       "1 NA                           Cash                N                   \n",
       "2 NA                           Cash                N                   \n",
       "3 NA                           Cash                N                   \n",
       "4 NA                           Cash                N                   \n",
       "5 NA                           Cash                N                   \n",
       "6 NA                           Cash                N                   \n",
       "  debt_settlement_flag_date settlement_status settlement_date settlement_amount\n",
       "1                                                             NA               \n",
       "2                                                             NA               \n",
       "3                                                             NA               \n",
       "4                                                             NA               \n",
       "5                                                             NA               \n",
       "6                                                             NA               \n",
       "  settlement_percentage settlement_term\n",
       "1 NA                    NA             \n",
       "2 NA                    NA             \n",
       "3 NA                    NA             \n",
       "4 NA                    NA             \n",
       "5 NA                    NA             \n",
       "6 NA                    NA             "
      ]
     },
     "metadata": {},
     "output_type": "display_data"
    }
   ],
   "source": [
    "head(loans)"
   ]
  },
  {
   "cell_type": "markdown",
   "metadata": {},
   "source": [
    "Selecting fico columns and dates (`loan issued` and `last payment`):"
   ]
  },
  {
   "cell_type": "code",
   "execution_count": 7,
   "metadata": {},
   "outputs": [],
   "source": [
    "ficoStudy <- loans %>% \n",
    "  select(issue_d, last_pymnt_d, \n",
    "         last_fico_range_low, last_fico_range_high, fico_range_low, fico_range_high, \n",
    "         loan_status) %>% \n",
    "  mutate(loanInProgress = as.numeric(loan_status == \"Current\"))"
   ]
  },
  {
   "cell_type": "code",
   "execution_count": 8,
   "metadata": {},
   "outputs": [
    {
     "data": {
      "text/html": [
       "<table>\n",
       "<thead><tr><th scope=col>issue_d</th><th scope=col>last_pymnt_d</th><th scope=col>last_fico_range_low</th><th scope=col>last_fico_range_high</th><th scope=col>fico_range_low</th><th scope=col>fico_range_high</th><th scope=col>loan_status</th><th scope=col>loanInProgress</th></tr></thead>\n",
       "<tbody>\n",
       "\t<tr><td>Dec-2014   </td><td>Jun-2016   </td><td>680        </td><td>684        </td><td>750        </td><td>754        </td><td>Fully Paid </td><td>0          </td></tr>\n",
       "\t<tr><td>Dec-2014   </td><td>Aug-2016   </td><td>560        </td><td>564        </td><td>710        </td><td>714        </td><td>Charged Off</td><td>0          </td></tr>\n",
       "\t<tr><td>Dec-2014   </td><td>May-2016   </td><td>700        </td><td>704        </td><td>685        </td><td>689        </td><td>Fully Paid </td><td>0          </td></tr>\n",
       "\t<tr><td>Dec-2014   </td><td>Dec-2017   </td><td>625        </td><td>629        </td><td>665        </td><td>669        </td><td>Current    </td><td>1          </td></tr>\n",
       "\t<tr><td>Dec-2014   </td><td>Aug-2015   </td><td>555        </td><td>559        </td><td>685        </td><td>689        </td><td>Charged Off</td><td>0          </td></tr>\n",
       "\t<tr><td>Dec-2014   </td><td>Apr-2015   </td><td>720        </td><td>724        </td><td>680        </td><td>684        </td><td>Fully Paid </td><td>0          </td></tr>\n",
       "</tbody>\n",
       "</table>\n"
      ],
      "text/latex": [
       "\\begin{tabular}{r|llllllll}\n",
       " issue\\_d & last\\_pymnt\\_d & last\\_fico\\_range\\_low & last\\_fico\\_range\\_high & fico\\_range\\_low & fico\\_range\\_high & loan\\_status & loanInProgress\\\\\n",
       "\\hline\n",
       "\t Dec-2014    & Jun-2016    & 680         & 684         & 750         & 754         & Fully Paid  & 0          \\\\\n",
       "\t Dec-2014    & Aug-2016    & 560         & 564         & 710         & 714         & Charged Off & 0          \\\\\n",
       "\t Dec-2014    & May-2016    & 700         & 704         & 685         & 689         & Fully Paid  & 0          \\\\\n",
       "\t Dec-2014    & Dec-2017    & 625         & 629         & 665         & 669         & Current     & 1          \\\\\n",
       "\t Dec-2014    & Aug-2015    & 555         & 559         & 685         & 689         & Charged Off & 0          \\\\\n",
       "\t Dec-2014    & Apr-2015    & 720         & 724         & 680         & 684         & Fully Paid  & 0          \\\\\n",
       "\\end{tabular}\n"
      ],
      "text/markdown": [
       "\n",
       "issue_d | last_pymnt_d | last_fico_range_low | last_fico_range_high | fico_range_low | fico_range_high | loan_status | loanInProgress | \n",
       "|---|---|---|---|---|---|\n",
       "| Dec-2014    | Jun-2016    | 680         | 684         | 750         | 754         | Fully Paid  | 0           | \n",
       "| Dec-2014    | Aug-2016    | 560         | 564         | 710         | 714         | Charged Off | 0           | \n",
       "| Dec-2014    | May-2016    | 700         | 704         | 685         | 689         | Fully Paid  | 0           | \n",
       "| Dec-2014    | Dec-2017    | 625         | 629         | 665         | 669         | Current     | 1           | \n",
       "| Dec-2014    | Aug-2015    | 555         | 559         | 685         | 689         | Charged Off | 0           | \n",
       "| Dec-2014    | Apr-2015    | 720         | 724         | 680         | 684         | Fully Paid  | 0           | \n",
       "\n",
       "\n"
      ],
      "text/plain": [
       "  issue_d  last_pymnt_d last_fico_range_low last_fico_range_high fico_range_low\n",
       "1 Dec-2014 Jun-2016     680                 684                  750           \n",
       "2 Dec-2014 Aug-2016     560                 564                  710           \n",
       "3 Dec-2014 May-2016     700                 704                  685           \n",
       "4 Dec-2014 Dec-2017     625                 629                  665           \n",
       "5 Dec-2014 Aug-2015     555                 559                  685           \n",
       "6 Dec-2014 Apr-2015     720                 724                  680           \n",
       "  fico_range_high loan_status loanInProgress\n",
       "1 754             Fully Paid  0             \n",
       "2 714             Charged Off 0             \n",
       "3 689             Fully Paid  0             \n",
       "4 669             Current     1             \n",
       "5 689             Charged Off 0             \n",
       "6 684             Fully Paid  0             "
      ]
     },
     "metadata": {},
     "output_type": "display_data"
    }
   ],
   "source": [
    "head(ficoStudy)"
   ]
  },
  {
   "cell_type": "markdown",
   "metadata": {},
   "source": [
    "Fico mean for finished and current loans"
   ]
  },
  {
   "cell_type": "code",
   "execution_count": 11,
   "metadata": {},
   "outputs": [
    {
     "data": {
      "text/html": [
       "<table>\n",
       "<thead><tr><th scope=col>loanInProgress</th><th scope=col>meanLastFico</th><th scope=col>meanFico</th><th scope=col>counter</th></tr></thead>\n",
       "<tbody>\n",
       "\t<tr><td>0       </td><td>673.8153</td><td>699.1254</td><td>857851  </td></tr>\n",
       "\t<tr><td>1       </td><td>700.4573</td><td>700.3393</td><td>788950  </td></tr>\n",
       "</tbody>\n",
       "</table>\n"
      ],
      "text/latex": [
       "\\begin{tabular}{r|llll}\n",
       " loanInProgress & meanLastFico & meanFico & counter\\\\\n",
       "\\hline\n",
       "\t 0        & 673.8153 & 699.1254 & 857851  \\\\\n",
       "\t 1        & 700.4573 & 700.3393 & 788950  \\\\\n",
       "\\end{tabular}\n"
      ],
      "text/markdown": [
       "\n",
       "loanInProgress | meanLastFico | meanFico | counter | \n",
       "|---|---|\n",
       "| 0        | 673.8153 | 699.1254 | 857851   | \n",
       "| 1        | 700.4573 | 700.3393 | 788950   | \n",
       "\n",
       "\n"
      ],
      "text/plain": [
       "  loanInProgress meanLastFico meanFico counter\n",
       "1 0              673.8153     699.1254 857851 \n",
       "2 1              700.4573     700.3393 788950 "
      ]
     },
     "metadata": {},
     "output_type": "display_data"
    }
   ],
   "source": [
    "ficoStudy %>% \n",
    "  group_by(loanInProgress) %>% \n",
    "  summarise(meanLastFico = mean(last_fico_range_high, na.rm = TRUE), \n",
    "            meanFico = mean(fico_range_high, na.rm = TRUE),\n",
    "            counter = n())"
   ]
  },
  {
   "cell_type": "markdown",
   "metadata": {},
   "source": [
    "Ratio current/finished loans by date issued"
   ]
  },
  {
   "cell_type": "code",
   "execution_count": 13,
   "metadata": {
    "scrolled": true
   },
   "outputs": [
    {
     "data": {
      "text/html": [
       "<table>\n",
       "<thead><tr><th scope=col>issue_d</th><th scope=col>ratioCurrentFinished</th></tr></thead>\n",
       "<tbody>\n",
       "\t<tr><td>           </td><td>0.000000000</td></tr>\n",
       "\t<tr><td>Apr-2008   </td><td>0.000000000</td></tr>\n",
       "\t<tr><td>Apr-2009   </td><td>0.000000000</td></tr>\n",
       "\t<tr><td>Apr-2010   </td><td>0.000000000</td></tr>\n",
       "\t<tr><td>Apr-2011   </td><td>0.000000000</td></tr>\n",
       "\t<tr><td>Apr-2012   </td><td>0.000000000</td></tr>\n",
       "\t<tr><td>Apr-2013   </td><td>0.042255016</td></tr>\n",
       "\t<tr><td>Apr-2014   </td><td>0.093807351</td></tr>\n",
       "\t<tr><td>Apr-2015   </td><td>0.407118864</td></tr>\n",
       "\t<tr><td>Apr-2016   </td><td>0.620223979</td></tr>\n",
       "\t<tr><td>Apr-2017   </td><td>0.848970791</td></tr>\n",
       "\t<tr><td>Aug-2007   </td><td>0.000000000</td></tr>\n",
       "\t<tr><td>Aug-2008   </td><td>0.000000000</td></tr>\n",
       "\t<tr><td>Aug-2009   </td><td>0.000000000</td></tr>\n",
       "\t<tr><td>Aug-2010   </td><td>0.000000000</td></tr>\n",
       "\t<tr><td>Aug-2011   </td><td>0.000000000</td></tr>\n",
       "\t<tr><td>Aug-2012   </td><td>0.000000000</td></tr>\n",
       "\t<tr><td>Aug-2013   </td><td>0.060596497</td></tr>\n",
       "\t<tr><td>Aug-2014   </td><td>0.099978739</td></tr>\n",
       "\t<tr><td>Aug-2015   </td><td>0.485175277</td></tr>\n",
       "\t<tr><td>Aug-2016   </td><td>0.663809261</td></tr>\n",
       "\t<tr><td>Aug-2017   </td><td>0.937759622</td></tr>\n",
       "\t<tr><td>Dec-2007   </td><td>0.000000000</td></tr>\n",
       "\t<tr><td>Dec-2008   </td><td>0.000000000</td></tr>\n",
       "\t<tr><td>Dec-2009   </td><td>0.000000000</td></tr>\n",
       "\t<tr><td>Dec-2010   </td><td>0.000000000</td></tr>\n",
       "\t<tr><td>Dec-2011   </td><td>0.000000000</td></tr>\n",
       "\t<tr><td>Dec-2012   </td><td>0.008737224</td></tr>\n",
       "\t<tr><td>Dec-2013   </td><td>0.068042610</td></tr>\n",
       "\t<tr><td>Dec-2014   </td><td>0.177646260</td></tr>\n",
       "\t<tr><td>⋮</td><td>⋮</td></tr>\n",
       "\t<tr><td>Nov-2008    </td><td>0.0000000000</td></tr>\n",
       "\t<tr><td>Nov-2009    </td><td>0.0000000000</td></tr>\n",
       "\t<tr><td>Nov-2010    </td><td>0.0000000000</td></tr>\n",
       "\t<tr><td>Nov-2011    </td><td>0.0000000000</td></tr>\n",
       "\t<tr><td>Nov-2012    </td><td>0.0009401442</td></tr>\n",
       "\t<tr><td>Nov-2013    </td><td>0.0628396739</td></tr>\n",
       "\t<tr><td>Nov-2014    </td><td>0.1403767861</td></tr>\n",
       "\t<tr><td>Nov-2015    </td><td>0.5273914202</td></tr>\n",
       "\t<tr><td>Nov-2016    </td><td>0.7347865052</td></tr>\n",
       "\t<tr><td>Oct-2007    </td><td>0.0000000000</td></tr>\n",
       "\t<tr><td>Oct-2008    </td><td>0.0000000000</td></tr>\n",
       "\t<tr><td>Oct-2009    </td><td>0.0000000000</td></tr>\n",
       "\t<tr><td>Oct-2010    </td><td>0.0000000000</td></tr>\n",
       "\t<tr><td>Oct-2011    </td><td>0.0000000000</td></tr>\n",
       "\t<tr><td>Oct-2012    </td><td>0.0000000000</td></tr>\n",
       "\t<tr><td>Oct-2013    </td><td>0.0720503928</td></tr>\n",
       "\t<tr><td>Oct-2014    </td><td>0.1208003507</td></tr>\n",
       "\t<tr><td>Oct-2015    </td><td>0.5086878740</td></tr>\n",
       "\t<tr><td>Oct-2016    </td><td>0.7049310387</td></tr>\n",
       "\t<tr><td>Sep-2007    </td><td>0.0000000000</td></tr>\n",
       "\t<tr><td>Sep-2008    </td><td>0.0000000000</td></tr>\n",
       "\t<tr><td>Sep-2009    </td><td>0.0000000000</td></tr>\n",
       "\t<tr><td>Sep-2010    </td><td>0.0000000000</td></tr>\n",
       "\t<tr><td>Sep-2011    </td><td>0.0000000000</td></tr>\n",
       "\t<tr><td>Sep-2012    </td><td>0.0000000000</td></tr>\n",
       "\t<tr><td>Sep-2013    </td><td>0.0662970663</td></tr>\n",
       "\t<tr><td>Sep-2014    </td><td>0.1113520649</td></tr>\n",
       "\t<tr><td>Sep-2015    </td><td>0.4867148493</td></tr>\n",
       "\t<tr><td>Sep-2016    </td><td>0.6745665151</td></tr>\n",
       "\t<tr><td>Sep-2017    </td><td>0.9506710649</td></tr>\n",
       "</tbody>\n",
       "</table>\n"
      ],
      "text/latex": [
       "\\begin{tabular}{r|ll}\n",
       " issue\\_d & ratioCurrentFinished\\\\\n",
       "\\hline\n",
       "\t             & 0.000000000\\\\\n",
       "\t Apr-2008    & 0.000000000\\\\\n",
       "\t Apr-2009    & 0.000000000\\\\\n",
       "\t Apr-2010    & 0.000000000\\\\\n",
       "\t Apr-2011    & 0.000000000\\\\\n",
       "\t Apr-2012    & 0.000000000\\\\\n",
       "\t Apr-2013    & 0.042255016\\\\\n",
       "\t Apr-2014    & 0.093807351\\\\\n",
       "\t Apr-2015    & 0.407118864\\\\\n",
       "\t Apr-2016    & 0.620223979\\\\\n",
       "\t Apr-2017    & 0.848970791\\\\\n",
       "\t Aug-2007    & 0.000000000\\\\\n",
       "\t Aug-2008    & 0.000000000\\\\\n",
       "\t Aug-2009    & 0.000000000\\\\\n",
       "\t Aug-2010    & 0.000000000\\\\\n",
       "\t Aug-2011    & 0.000000000\\\\\n",
       "\t Aug-2012    & 0.000000000\\\\\n",
       "\t Aug-2013    & 0.060596497\\\\\n",
       "\t Aug-2014    & 0.099978739\\\\\n",
       "\t Aug-2015    & 0.485175277\\\\\n",
       "\t Aug-2016    & 0.663809261\\\\\n",
       "\t Aug-2017    & 0.937759622\\\\\n",
       "\t Dec-2007    & 0.000000000\\\\\n",
       "\t Dec-2008    & 0.000000000\\\\\n",
       "\t Dec-2009    & 0.000000000\\\\\n",
       "\t Dec-2010    & 0.000000000\\\\\n",
       "\t Dec-2011    & 0.000000000\\\\\n",
       "\t Dec-2012    & 0.008737224\\\\\n",
       "\t Dec-2013    & 0.068042610\\\\\n",
       "\t Dec-2014    & 0.177646260\\\\\n",
       "\t ⋮ & ⋮\\\\\n",
       "\t Nov-2008     & 0.0000000000\\\\\n",
       "\t Nov-2009     & 0.0000000000\\\\\n",
       "\t Nov-2010     & 0.0000000000\\\\\n",
       "\t Nov-2011     & 0.0000000000\\\\\n",
       "\t Nov-2012     & 0.0009401442\\\\\n",
       "\t Nov-2013     & 0.0628396739\\\\\n",
       "\t Nov-2014     & 0.1403767861\\\\\n",
       "\t Nov-2015     & 0.5273914202\\\\\n",
       "\t Nov-2016     & 0.7347865052\\\\\n",
       "\t Oct-2007     & 0.0000000000\\\\\n",
       "\t Oct-2008     & 0.0000000000\\\\\n",
       "\t Oct-2009     & 0.0000000000\\\\\n",
       "\t Oct-2010     & 0.0000000000\\\\\n",
       "\t Oct-2011     & 0.0000000000\\\\\n",
       "\t Oct-2012     & 0.0000000000\\\\\n",
       "\t Oct-2013     & 0.0720503928\\\\\n",
       "\t Oct-2014     & 0.1208003507\\\\\n",
       "\t Oct-2015     & 0.5086878740\\\\\n",
       "\t Oct-2016     & 0.7049310387\\\\\n",
       "\t Sep-2007     & 0.0000000000\\\\\n",
       "\t Sep-2008     & 0.0000000000\\\\\n",
       "\t Sep-2009     & 0.0000000000\\\\\n",
       "\t Sep-2010     & 0.0000000000\\\\\n",
       "\t Sep-2011     & 0.0000000000\\\\\n",
       "\t Sep-2012     & 0.0000000000\\\\\n",
       "\t Sep-2013     & 0.0662970663\\\\\n",
       "\t Sep-2014     & 0.1113520649\\\\\n",
       "\t Sep-2015     & 0.4867148493\\\\\n",
       "\t Sep-2016     & 0.6745665151\\\\\n",
       "\t Sep-2017     & 0.9506710649\\\\\n",
       "\\end{tabular}\n"
      ],
      "text/markdown": [
       "\n",
       "issue_d | ratioCurrentFinished | \n",
       "|---|---|---|---|---|---|---|---|---|---|---|---|---|---|---|---|---|---|---|---|---|---|---|---|---|---|---|---|---|---|---|---|---|---|---|---|---|---|---|---|---|---|---|---|---|---|---|---|---|---|---|---|---|---|---|---|---|---|---|---|---|\n",
       "|             | 0.000000000 | \n",
       "| Apr-2008    | 0.000000000 | \n",
       "| Apr-2009    | 0.000000000 | \n",
       "| Apr-2010    | 0.000000000 | \n",
       "| Apr-2011    | 0.000000000 | \n",
       "| Apr-2012    | 0.000000000 | \n",
       "| Apr-2013    | 0.042255016 | \n",
       "| Apr-2014    | 0.093807351 | \n",
       "| Apr-2015    | 0.407118864 | \n",
       "| Apr-2016    | 0.620223979 | \n",
       "| Apr-2017    | 0.848970791 | \n",
       "| Aug-2007    | 0.000000000 | \n",
       "| Aug-2008    | 0.000000000 | \n",
       "| Aug-2009    | 0.000000000 | \n",
       "| Aug-2010    | 0.000000000 | \n",
       "| Aug-2011    | 0.000000000 | \n",
       "| Aug-2012    | 0.000000000 | \n",
       "| Aug-2013    | 0.060596497 | \n",
       "| Aug-2014    | 0.099978739 | \n",
       "| Aug-2015    | 0.485175277 | \n",
       "| Aug-2016    | 0.663809261 | \n",
       "| Aug-2017    | 0.937759622 | \n",
       "| Dec-2007    | 0.000000000 | \n",
       "| Dec-2008    | 0.000000000 | \n",
       "| Dec-2009    | 0.000000000 | \n",
       "| Dec-2010    | 0.000000000 | \n",
       "| Dec-2011    | 0.000000000 | \n",
       "| Dec-2012    | 0.008737224 | \n",
       "| Dec-2013    | 0.068042610 | \n",
       "| Dec-2014    | 0.177646260 | \n",
       "| ⋮ | ⋮ | \n",
       "| Nov-2008     | 0.0000000000 | \n",
       "| Nov-2009     | 0.0000000000 | \n",
       "| Nov-2010     | 0.0000000000 | \n",
       "| Nov-2011     | 0.0000000000 | \n",
       "| Nov-2012     | 0.0009401442 | \n",
       "| Nov-2013     | 0.0628396739 | \n",
       "| Nov-2014     | 0.1403767861 | \n",
       "| Nov-2015     | 0.5273914202 | \n",
       "| Nov-2016     | 0.7347865052 | \n",
       "| Oct-2007     | 0.0000000000 | \n",
       "| Oct-2008     | 0.0000000000 | \n",
       "| Oct-2009     | 0.0000000000 | \n",
       "| Oct-2010     | 0.0000000000 | \n",
       "| Oct-2011     | 0.0000000000 | \n",
       "| Oct-2012     | 0.0000000000 | \n",
       "| Oct-2013     | 0.0720503928 | \n",
       "| Oct-2014     | 0.1208003507 | \n",
       "| Oct-2015     | 0.5086878740 | \n",
       "| Oct-2016     | 0.7049310387 | \n",
       "| Sep-2007     | 0.0000000000 | \n",
       "| Sep-2008     | 0.0000000000 | \n",
       "| Sep-2009     | 0.0000000000 | \n",
       "| Sep-2010     | 0.0000000000 | \n",
       "| Sep-2011     | 0.0000000000 | \n",
       "| Sep-2012     | 0.0000000000 | \n",
       "| Sep-2013     | 0.0662970663 | \n",
       "| Sep-2014     | 0.1113520649 | \n",
       "| Sep-2015     | 0.4867148493 | \n",
       "| Sep-2016     | 0.6745665151 | \n",
       "| Sep-2017     | 0.9506710649 | \n",
       "\n",
       "\n"
      ],
      "text/plain": [
       "    issue_d  ratioCurrentFinished\n",
       "1            0.000000000         \n",
       "2   Apr-2008 0.000000000         \n",
       "3   Apr-2009 0.000000000         \n",
       "4   Apr-2010 0.000000000         \n",
       "5   Apr-2011 0.000000000         \n",
       "6   Apr-2012 0.000000000         \n",
       "7   Apr-2013 0.042255016         \n",
       "8   Apr-2014 0.093807351         \n",
       "9   Apr-2015 0.407118864         \n",
       "10  Apr-2016 0.620223979         \n",
       "11  Apr-2017 0.848970791         \n",
       "12  Aug-2007 0.000000000         \n",
       "13  Aug-2008 0.000000000         \n",
       "14  Aug-2009 0.000000000         \n",
       "15  Aug-2010 0.000000000         \n",
       "16  Aug-2011 0.000000000         \n",
       "17  Aug-2012 0.000000000         \n",
       "18  Aug-2013 0.060596497         \n",
       "19  Aug-2014 0.099978739         \n",
       "20  Aug-2015 0.485175277         \n",
       "21  Aug-2016 0.663809261         \n",
       "22  Aug-2017 0.937759622         \n",
       "23  Dec-2007 0.000000000         \n",
       "24  Dec-2008 0.000000000         \n",
       "25  Dec-2009 0.000000000         \n",
       "26  Dec-2010 0.000000000         \n",
       "27  Dec-2011 0.000000000         \n",
       "28  Dec-2012 0.008737224         \n",
       "29  Dec-2013 0.068042610         \n",
       "30  Dec-2014 0.177646260         \n",
       "⋮   ⋮        ⋮                   \n",
       "96  Nov-2008 0.0000000000        \n",
       "97  Nov-2009 0.0000000000        \n",
       "98  Nov-2010 0.0000000000        \n",
       "99  Nov-2011 0.0000000000        \n",
       "100 Nov-2012 0.0009401442        \n",
       "101 Nov-2013 0.0628396739        \n",
       "102 Nov-2014 0.1403767861        \n",
       "103 Nov-2015 0.5273914202        \n",
       "104 Nov-2016 0.7347865052        \n",
       "105 Oct-2007 0.0000000000        \n",
       "106 Oct-2008 0.0000000000        \n",
       "107 Oct-2009 0.0000000000        \n",
       "108 Oct-2010 0.0000000000        \n",
       "109 Oct-2011 0.0000000000        \n",
       "110 Oct-2012 0.0000000000        \n",
       "111 Oct-2013 0.0720503928        \n",
       "112 Oct-2014 0.1208003507        \n",
       "113 Oct-2015 0.5086878740        \n",
       "114 Oct-2016 0.7049310387        \n",
       "115 Sep-2007 0.0000000000        \n",
       "116 Sep-2008 0.0000000000        \n",
       "117 Sep-2009 0.0000000000        \n",
       "118 Sep-2010 0.0000000000        \n",
       "119 Sep-2011 0.0000000000        \n",
       "120 Sep-2012 0.0000000000        \n",
       "121 Sep-2013 0.0662970663        \n",
       "122 Sep-2014 0.1113520649        \n",
       "123 Sep-2015 0.4867148493        \n",
       "124 Sep-2016 0.6745665151        \n",
       "125 Sep-2017 0.9506710649        "
      ]
     },
     "metadata": {},
     "output_type": "display_data"
    }
   ],
   "source": [
    "ficoStudy %>% \n",
    "  group_by(issue_d) %>% \n",
    "  summarise(ratioCurrentFinished = mean(loanInProgress))"
   ]
  },
  {
   "cell_type": "markdown",
   "metadata": {},
   "source": [
    "T-Tests\n",
    "====\n",
    "___________"
   ]
  },
  {
   "cell_type": "markdown",
   "metadata": {},
   "source": [
    "We are going to find out whether `last_fico_range` is significantly different than `fico_range` (that is the FICO range when the loan was issued) for the following cases of study:\n",
    "\n",
    "01. Current Loans.\n",
    "02. Finished Loans.\n",
    "       - 2.1 Fully Paid Loans\n",
    "       - 2.2 Charged Off Loans\n",
    "03. September-2016 issued Loans Sample (we have choosen this date due to there is more or less the same amount of current and finished loans):\n",
    "    - 3.1 Current Loans\n",
    "    - 3.2 Fully Paid Loans\n",
    "    - 3.3 Charged Off Loans\n",
    " "
   ]
  },
  {
   "cell_type": "markdown",
   "metadata": {},
   "source": [
    "### 01 - Current Loans:"
   ]
  },
  {
   "cell_type": "code",
   "execution_count": 17,
   "metadata": {},
   "outputs": [],
   "source": [
    "currentLoans <- ficoStudy %>% \n",
    "  filter(loanInProgress == 1)"
   ]
  },
  {
   "cell_type": "markdown",
   "metadata": {},
   "source": [
    "`fico_range_low`:"
   ]
  },
  {
   "cell_type": "code",
   "execution_count": 18,
   "metadata": {},
   "outputs": [
    {
     "data": {
      "text/plain": [
       "\n",
       "\tWelch Two Sample t-test\n",
       "\n",
       "data:  currentLoans$last_fico_range_low and currentLoans$fico_range_low\n",
       "t = -2.2674, df = 1281300, p-value = 0.02337\n",
       "alternative hypothesis: true difference in means is not equal to 0\n",
       "95 percent confidence interval:\n",
       " -0.29408267 -0.02138726\n",
       "sample estimates:\n",
       "mean of x mean of y \n",
       " 696.1815  696.3392 \n"
      ]
     },
     "metadata": {},
     "output_type": "display_data"
    }
   ],
   "source": [
    "t.test(currentLoans$last_fico_range_low, currentLoans$fico_range_low,\n",
    "       paired=F,var.equal=F)"
   ]
  },
  {
   "cell_type": "markdown",
   "metadata": {},
   "source": [
    "`fico_range_high`:"
   ]
  },
  {
   "cell_type": "code",
   "execution_count": 19,
   "metadata": {},
   "outputs": [
    {
     "data": {
      "text/plain": [
       "\n",
       "\tWelch Two Sample t-test\n",
       "\n",
       "data:  currentLoans$last_fico_range_high and currentLoans$fico_range_high\n",
       "t = 1.753, df = 1316900, p-value = 0.0796\n",
       "alternative hypothesis: true difference in means is not equal to 0\n",
       "95 percent confidence interval:\n",
       " -0.01392142  0.24979695\n",
       "sample estimates:\n",
       "mean of x mean of y \n",
       " 700.4573  700.3393 \n"
      ]
     },
     "metadata": {},
     "output_type": "display_data"
    }
   ],
   "source": [
    "t.test(currentLoans$last_fico_range_high, currentLoans$fico_range_high,\n",
    "       paired=F,var.equal=F)"
   ]
  },
  {
   "cell_type": "markdown",
   "metadata": {},
   "source": [
    "### 02 - Finished Loans:"
   ]
  },
  {
   "cell_type": "markdown",
   "metadata": {},
   "source": [
    "#### 02.1 - Fully Paid Loans"
   ]
  },
  {
   "cell_type": "code",
   "execution_count": 20,
   "metadata": {},
   "outputs": [],
   "source": [
    "paidLoans <- ficoStudy %>% \n",
    "  filter(loan_status == \"Fully Paid\")"
   ]
  },
  {
   "cell_type": "markdown",
   "metadata": {},
   "source": [
    "`fico_range_low`:"
   ]
  },
  {
   "cell_type": "code",
   "execution_count": 21,
   "metadata": {},
   "outputs": [
    {
     "data": {
      "text/plain": [
       "\n",
       "\tWelch Two Sample t-test\n",
       "\n",
       "data:  paidLoans$last_fico_range_low and paidLoans$fico_range_low\n",
       "t = 12.515, df = 905590, p-value < 2.2e-16\n",
       "alternative hypothesis: true difference in means is not equal to 0\n",
       "95 percent confidence interval:\n",
       " 1.023848 1.404093\n",
       "sample estimates:\n",
       "mean of x mean of y \n",
       " 699.0454  697.8314 \n"
      ]
     },
     "metadata": {},
     "output_type": "display_data"
    }
   ],
   "source": [
    "t.test(paidLoans$last_fico_range_low, paidLoans$fico_range_low,\n",
    "       paired=F,var.equal=F)"
   ]
  },
  {
   "cell_type": "markdown",
   "metadata": {},
   "source": [
    "`fico_range_high`:"
   ]
  },
  {
   "cell_type": "code",
   "execution_count": 22,
   "metadata": {},
   "outputs": [
    {
     "data": {
      "text/plain": [
       "\n",
       "\tWelch Two Sample t-test\n",
       "\n",
       "data:  paidLoans$last_fico_range_high and paidLoans$fico_range_high\n",
       "t = 33.322, df = 996250, p-value < 2.2e-16\n",
       "alternative hypothesis: true difference in means is not equal to 0\n",
       "95 percent confidence interval:\n",
       " 2.654544 2.986332\n",
       "sample estimates:\n",
       "mean of x mean of y \n",
       " 704.6520  701.8316 \n"
      ]
     },
     "metadata": {},
     "output_type": "display_data"
    }
   ],
   "source": [
    "t.test(paidLoans$last_fico_range_high, paidLoans$fico_range_high,\n",
    "       paired=F,var.equal=F)"
   ]
  },
  {
   "cell_type": "markdown",
   "metadata": {},
   "source": [
    "#### 02.2 - Charged Off Loans"
   ]
  },
  {
   "cell_type": "code",
   "execution_count": 23,
   "metadata": {},
   "outputs": [],
   "source": [
    "chargedLoans <- ficoStudy %>% \n",
    "  filter(loan_status == \"Charged Off\")"
   ]
  },
  {
   "cell_type": "markdown",
   "metadata": {},
   "source": [
    "`fico_range_low`:"
   ]
  },
  {
   "cell_type": "code",
   "execution_count": 24,
   "metadata": {},
   "outputs": [
    {
     "data": {
      "text/plain": [
       "\n",
       "\tWelch Two Sample t-test\n",
       "\n",
       "data:  chargedLoans$last_fico_range_low and chargedLoans$fico_range_low\n",
       "t = -389.65, df = 174320, p-value < 2.2e-16\n",
       "alternative hypothesis: true difference in means is not equal to 0\n",
       "95 percent confidence interval:\n",
       " -177.4301 -175.6541\n",
       "sample estimates:\n",
       "mean of x mean of y \n",
       " 510.4852  687.0273 \n"
      ]
     },
     "metadata": {},
     "output_type": "display_data"
    }
   ],
   "source": [
    "t.test(chargedLoans$last_fico_range_low, chargedLoans$fico_range_low,\n",
    "       paired=F,var.equal=F)"
   ]
  },
  {
   "cell_type": "markdown",
   "metadata": {},
   "source": [
    "`fico_range_high`:"
   ]
  },
  {
   "cell_type": "code",
   "execution_count": 25,
   "metadata": {},
   "outputs": [
    {
     "data": {
      "text/plain": [
       "\n",
       "\tWelch Two Sample t-test\n",
       "\n",
       "data:  chargedLoans$last_fico_range_high and chargedLoans$fico_range_high\n",
       "t = -860.22, df = 239910, p-value < 2.2e-16\n",
       "alternative hypothesis: true difference in means is not equal to 0\n",
       "95 percent confidence interval:\n",
       " -123.2127 -122.6525\n",
       "sample estimates:\n",
       "mean of x mean of y \n",
       " 568.0947  691.0273 \n"
      ]
     },
     "metadata": {},
     "output_type": "display_data"
    }
   ],
   "source": [
    "t.test(chargedLoans$last_fico_range_high, chargedLoans$fico_range_high,\n",
    "       paired=F,var.equal=F)"
   ]
  },
  {
   "cell_type": "markdown",
   "metadata": {},
   "source": [
    "### 03 - September-2016 sampling"
   ]
  },
  {
   "cell_type": "markdown",
   "metadata": {},
   "source": [
    "#### 03.1 - Current Loans (issued at September-2016)"
   ]
  },
  {
   "cell_type": "code",
   "execution_count": 14,
   "metadata": {},
   "outputs": [],
   "source": [
    "currentAtSept2016 <- ficoStudy %>% \n",
    "  filter(issue_d == \"Sep-2016\", loanInProgress == 1)"
   ]
  },
  {
   "cell_type": "markdown",
   "metadata": {},
   "source": [
    "`fico_range_low`:"
   ]
  },
  {
   "cell_type": "code",
   "execution_count": 15,
   "metadata": {},
   "outputs": [
    {
     "data": {
      "text/plain": [
       "\n",
       "\tWelch Two Sample t-test\n",
       "\n",
       "data:  currentAtSept2016$last_fico_range_low and currentAtSept2016$fico_range_low\n",
       "t = -8.4321, df = 30819, p-value < 2.2e-16\n",
       "alternative hypothesis: true difference in means is not equal to 0\n",
       "95 percent confidence interval:\n",
       " -4.650006 -2.895952\n",
       "sample estimates:\n",
       "mean of x mean of y \n",
       " 691.6136  695.3866 \n"
      ]
     },
     "metadata": {},
     "output_type": "display_data"
    }
   ],
   "source": [
    "t.test(currentAtSept2016$last_fico_range_low, currentAtSept2016$fico_range_low,\n",
    "       paired=F,var.equal=F)"
   ]
  },
  {
   "cell_type": "markdown",
   "metadata": {},
   "source": [
    "`fico_range_high`:"
   ]
  },
  {
   "cell_type": "code",
   "execution_count": 16,
   "metadata": {
    "scrolled": true
   },
   "outputs": [
    {
     "data": {
      "text/plain": [
       "\n",
       "\tWelch Two Sample t-test\n",
       "\n",
       "data:  currentAtSept2016$last_fico_range_high and currentAtSept2016$fico_range_high\n",
       "t = -7.9978, df = 31878, p-value = 1.31e-15\n",
       "alternative hypothesis: true difference in means is not equal to 0\n",
       "95 percent confidence interval:\n",
       " -4.275681 -2.592478\n",
       "sample estimates:\n",
       "mean of x mean of y \n",
       " 695.9525  699.3866 \n"
      ]
     },
     "metadata": {},
     "output_type": "display_data"
    }
   ],
   "source": [
    "t.test(currentAtSept2016$last_fico_range_high, currentAtSept2016$fico_range_high,\n",
    "       paired=F,var.equal=F)"
   ]
  },
  {
   "cell_type": "markdown",
   "metadata": {},
   "source": [
    "#### 03.2 - Fully Paid Loans (issued at September-2016):"
   ]
  },
  {
   "cell_type": "code",
   "execution_count": 26,
   "metadata": {},
   "outputs": [],
   "source": [
    "paidAtSept2016 <- ficoStudy %>% \n",
    "  filter(issue_d == \"Sep-2016\", loan_status == \"Fully Paid\")"
   ]
  },
  {
   "cell_type": "markdown",
   "metadata": {},
   "source": [
    "`fico_range_low`:"
   ]
  },
  {
   "cell_type": "code",
   "execution_count": 27,
   "metadata": {},
   "outputs": [
    {
     "data": {
      "text/plain": [
       "\n",
       "\tWelch Two Sample t-test\n",
       "\n",
       "data:  paidAtSept2016$last_fico_range_low and paidAtSept2016$fico_range_low\n",
       "t = 7.2075, df = 11524, p-value = 6.055e-13\n",
       "alternative hypothesis: true difference in means is not equal to 0\n",
       "95 percent confidence interval:\n",
       " 3.826743 6.685749\n",
       "sample estimates:\n",
       "mean of x mean of y \n",
       " 704.7550  699.4987 \n"
      ]
     },
     "metadata": {},
     "output_type": "display_data"
    }
   ],
   "source": [
    "t.test(paidAtSept2016$last_fico_range_low, paidAtSept2016$fico_range_low,\n",
    "       paired=F,var.equal=F)"
   ]
  },
  {
   "cell_type": "markdown",
   "metadata": {},
   "source": [
    "`fico_range_high`:"
   ]
  },
  {
   "cell_type": "code",
   "execution_count": 28,
   "metadata": {},
   "outputs": [
    {
     "data": {
      "text/plain": [
       "\n",
       "\tWelch Two Sample t-test\n",
       "\n",
       "data:  paidAtSept2016$last_fico_range_high and paidAtSept2016$fico_range_high\n",
       "t = 7.592, df = 11716, p-value = 3.389e-14\n",
       "alternative hypothesis: true difference in means is not equal to 0\n",
       "95 percent confidence interval:\n",
       " 4.016524 6.812432\n",
       "sample estimates:\n",
       "mean of x mean of y \n",
       " 708.9135  703.4990 \n"
      ]
     },
     "metadata": {},
     "output_type": "display_data"
    }
   ],
   "source": [
    "t.test(paidAtSept2016$last_fico_range_high, paidAtSept2016$fico_range_high,\n",
    "       paired=F,var.equal=F)"
   ]
  },
  {
   "cell_type": "markdown",
   "metadata": {},
   "source": [
    "#### 03.3 - Charged Off Loans (issued at September-2016):"
   ]
  },
  {
   "cell_type": "code",
   "execution_count": 29,
   "metadata": {},
   "outputs": [],
   "source": [
    "chargedAtSept2016 <- ficoStudy %>% \n",
    "  filter(issue_d == \"Sep-2016\", loan_status == \"Charged Off\")"
   ]
  },
  {
   "cell_type": "markdown",
   "metadata": {},
   "source": [
    "`fico_range_low`:"
   ]
  },
  {
   "cell_type": "code",
   "execution_count": 30,
   "metadata": {},
   "outputs": [
    {
     "data": {
      "text/plain": [
       "\n",
       "\tWelch Two Sample t-test\n",
       "\n",
       "data:  chargedAtSept2016$last_fico_range_low and chargedAtSept2016$fico_range_low\n",
       "t = -41.498, df = 1814.8, p-value < 2.2e-16\n",
       "alternative hypothesis: true difference in means is not equal to 0\n",
       "95 percent confidence interval:\n",
       " -200.5345 -182.4346\n",
       "sample estimates:\n",
       "mean of x mean of y \n",
       " 495.8896  687.3741 \n"
      ]
     },
     "metadata": {},
     "output_type": "display_data"
    }
   ],
   "source": [
    "t.test(chargedAtSept2016$last_fico_range_low, chargedAtSept2016$fico_range_low,\n",
    "       paired=F,var.equal=F)"
   ]
  },
  {
   "cell_type": "markdown",
   "metadata": {},
   "source": [
    "`fico_range_high`:"
   ]
  },
  {
   "cell_type": "code",
   "execution_count": 31,
   "metadata": {},
   "outputs": [
    {
     "data": {
      "text/plain": [
       "\n",
       "\tWelch Two Sample t-test\n",
       "\n",
       "data:  chargedAtSept2016$last_fico_range_high and chargedAtSept2016$fico_range_high\n",
       "t = -95.83, df = 2652.3, p-value < 2.2e-16\n",
       "alternative hypothesis: true difference in means is not equal to 0\n",
       "95 percent confidence interval:\n",
       " -133.2730 -127.9284\n",
       "sample estimates:\n",
       "mean of x mean of y \n",
       " 560.7735  691.3741 \n"
      ]
     },
     "metadata": {},
     "output_type": "display_data"
    }
   ],
   "source": [
    "t.test(chargedAtSept2016$last_fico_range_high, chargedAtSept2016$fico_range_high,\n",
    "       paired=F,var.equal=F)"
   ]
  },
  {
   "cell_type": "markdown",
   "metadata": {},
   "source": [
    "Conclusions\n",
    "======\n",
    "_______"
   ]
  },
  {
   "cell_type": "markdown",
   "metadata": {},
   "source": [
    "According to the obtained results we can conclude:\n",
    "\n",
    "- In __Current__ loans there is no evidence that `last_fico_range` is significantly different than `fico_range`, with p-values between 0.02 and 0.07, what we can not enough evidence to reject the null hipothesis.\n",
    "- In __Fully Paid__ loans there is evidence that `last_fico_range` is higher than `fico_range`. But this difference is not greater than 5 points in the best cases.\n",
    "- In __Charged Off__ loans there is evidence that `last_fico_range` is lower than `fico_range` and this difference is very significant: -175 FICO points for the low range and -122 FICO points for the high range. Therefore, __`last_fico_range` is an effect when loan have charged off (without correlation).__\n",
    "- __We can not use `last_fico_range` as variable in modeling phase for predicting `loan_status`.__"
   ]
  }
 ],
 "metadata": {
  "kernelspec": {
   "display_name": "R",
   "language": "R",
   "name": "ir"
  },
  "language_info": {
   "codemirror_mode": "r",
   "file_extension": ".r",
   "mimetype": "text/x-r-source",
   "name": "R",
   "pygments_lexer": "r",
   "version": "3.4.2"
  }
 },
 "nbformat": 4,
 "nbformat_minor": 2
}
